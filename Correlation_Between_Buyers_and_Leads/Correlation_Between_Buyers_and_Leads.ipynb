{
 "cells": [
  {
   "cell_type": "code",
   "execution_count": 1,
   "metadata": {
    "id": "G2tnqSMHp4Rh"
   },
   "outputs": [],
   "source": [
    "# If the processing environment is Google Colab with files inside Google Drive,\n",
    "# inform the path where the notebook file is located inside this drive\n",
    "\n",
    "path_notebook_gdrive = 'notebooks/technical_tests/justforyou_test_ds_job_20220807'"
   ]
  },
  {
   "cell_type": "code",
   "execution_count": 2,
   "metadata": {
    "colab": {
     "base_uri": "https://localhost:8080/"
    },
    "executionInfo": {
     "elapsed": 19540,
     "status": "ok",
     "timestamp": 1661286013537,
     "user": {
      "displayName": "Solano Jacon",
      "userId": "03193064938437592202"
     },
     "user_tz": 180
    },
    "id": "qeeD7pbwp5pS",
    "outputId": "fa7b4bb5-1993-419c-a724-040933396b75"
   },
   "outputs": [],
   "source": [
    "# Mounting Google Drive if using Google Colab\n",
    "\n",
    "if 'google.colab' in str(get_ipython()):\n",
    "    from google.colab import drive\n",
    "    drive.mount('/content/drive/')"
   ]
  },
  {
   "cell_type": "code",
   "execution_count": 3,
   "metadata": {
    "colab": {
     "base_uri": "https://localhost:8080/"
    },
    "executionInfo": {
     "elapsed": 19,
     "status": "ok",
     "timestamp": 1661286013538,
     "user": {
      "displayName": "Solano Jacon",
      "userId": "03193064938437592202"
     },
     "user_tz": 180
    },
    "id": "3IWlM6fSp5xo",
    "outputId": "fdc86f23-7c67-4a9c-dc3e-dc8b58c144d0"
   },
   "outputs": [],
   "source": [
    "# Change the current working directory to the folder containing this notebook if using Google Colab\n",
    "\n",
    "if 'google.colab' in str(get_ipython()):\n",
    "    %cd /content/drive/My\\ Drive/$path_notebook_gdrive/"
   ]
  },
  {
   "cell_type": "code",
   "execution_count": 4,
   "metadata": {
    "id": "BchzFWJyp53P"
   },
   "outputs": [],
   "source": [
    "# Installation of additional libraries if using Google Colab\n",
    "\n",
    "# if 'google.colab' in str(get_ipython()):\n",
    "#     !pip install <library>"
   ]
  },
  {
   "cell_type": "markdown",
   "metadata": {
    "id": "qKX4qv7spMxs"
   },
   "source": [
    "# Correlação entre Compradores e Leads / *Correlation Between Buyers and Leads*\n",
    "\n",
    "# Desafio de Ciência de Dados / *Data Science Challenge*\n",
    "\n",
    "# Entrega / *Delivery*: Notebook\n",
    "\n",
    "# Desenvolvedor / *Developer*: Solano Jacon"
   ]
  },
  {
   "cell_type": "code",
   "execution_count": 5,
   "metadata": {
    "id": "K6gAaw3Ngx0d"
   },
   "outputs": [],
   "source": [
    "import psycopg2 # if necessary, install psycopg2-binary library, NOT psycopg2\n",
    "import pandas as pd\n",
    "import numpy as np\n",
    "import matplotlib.pyplot as plt\n",
    "import itertools\n",
    "import pickle\n",
    "import warnings\n",
    "from sklearn.preprocessing import MinMaxScaler, OneHotEncoder\n",
    "from pycaret.classification import *\n",
    "from sklearn.model_selection import train_test_split, cross_validate\n",
    "# from imblearn.over_sampling import SMOTE\n",
    "from sklearn.model_selection import GridSearchCV\n",
    "# from sklearn.dummy import DummyClassifier\n",
    "from sklearn.linear_model import LogisticRegression\n",
    "# from sklearn.neighbors import KNeighborsClassifier\n",
    "# from sklearn.svm import SVC\n",
    "from sklearn.tree import DecisionTreeClassifier\n",
    "# from sklearn.ensemble import RandomForestClassifier\n",
    "# from sklearn.ensemble import AdaBoostClassifier\n",
    "# from sklearn.ensemble import GradientBoostingClassifier\n",
    "# from xgboost import XGBClassifier\n",
    "from sklearn.metrics import classification_report, confusion_matrix, precision_recall_curve, auc, roc_curve\n",
    "\n",
    "warnings.filterwarnings('ignore')"
   ]
  },
  {
   "cell_type": "markdown",
   "metadata": {
    "id": "eT6I_N9RpMxy"
   },
   "source": [
    "## Leitura dos dados e normalização / *Data reading and normalization*"
   ]
  },
  {
   "cell_type": "markdown",
   "metadata": {
    "id": "BYnO74wGpMxy"
   },
   "source": [
    "### Conexão com a base de dados e leitura dos dados / *Database connection and data reading*"
   ]
  },
  {
   "cell_type": "code",
   "execution_count": 6,
   "metadata": {
    "id": "ACNYmogppMx0"
   },
   "outputs": [],
   "source": [
    "# conn = psycopg2.connect(database='database',\n",
    "#                         host='host',\n",
    "#                         user='user',\n",
    "#                         password='password',\n",
    "#                         port='port')"
   ]
  },
  {
   "cell_type": "code",
   "execution_count": 7,
   "metadata": {
    "id": "XejEA2CbpMx0"
   },
   "outputs": [],
   "source": [
    "# sql = '''SELECT f.*, oi.id_pedido, oi.id\n",
    "#          FROM forms AS f\n",
    "#          LEFT OUTER JOIN order_items AS oi ON f.id_form=oi.id_form'''\n",
    "# data = pd.read_sql_query(sql, con=conn)"
   ]
  },
  {
   "cell_type": "code",
   "execution_count": 8,
   "metadata": {
    "id": "ZLRaTbsxpMx1"
   },
   "outputs": [],
   "source": [
    "data = pd.read_csv('data/data.csv', index_col=0, encoding='iso-8859-1')"
   ]
  },
  {
   "cell_type": "code",
   "execution_count": 9,
   "metadata": {
    "colab": {
     "base_uri": "https://localhost:8080/",
     "height": 424
    },
    "executionInfo": {
     "elapsed": 24,
     "status": "ok",
     "timestamp": 1661286027608,
     "user": {
      "displayName": "Solano Jacon",
      "userId": "03193064938437592202"
     },
     "user_tz": 180
    },
    "id": "qOW0H0WlpMx2",
    "outputId": "0f81b567-f152-498f-93c4-de5efa63d791"
   },
   "outputs": [
    {
     "data": {
      "text/html": [
       "<div>\n",
       "<style scoped>\n",
       "    .dataframe tbody tr th:only-of-type {\n",
       "        vertical-align: middle;\n",
       "    }\n",
       "\n",
       "    .dataframe tbody tr th {\n",
       "        vertical-align: top;\n",
       "    }\n",
       "\n",
       "    .dataframe thead th {\n",
       "        text-align: right;\n",
       "    }\n",
       "</style>\n",
       "<table border=\"1\" class=\"dataframe\">\n",
       "  <thead>\n",
       "    <tr style=\"text-align: right;\">\n",
       "      <th></th>\n",
       "      <th>id_form</th>\n",
       "      <th>id_cliente</th>\n",
       "      <th>data</th>\n",
       "      <th>sistema_operacional</th>\n",
       "      <th>navegador</th>\n",
       "      <th>localizacao</th>\n",
       "      <th>locale</th>\n",
       "      <th>cidade</th>\n",
       "      <th>estado</th>\n",
       "    </tr>\n",
       "  </thead>\n",
       "  <tbody>\n",
       "    <tr>\n",
       "      <th>0</th>\n",
       "      <td>c7d453c9c01223a42968d9fe136047</td>\n",
       "      <td>d2620a3e6f00a6dc6e88</td>\n",
       "      <td>2022-01-03 15:42:22</td>\n",
       "      <td>iOS</td>\n",
       "      <td>Safari</td>\n",
       "      <td>São Paulo, Sao Paulo</td>\n",
       "      <td>BR</td>\n",
       "      <td>SÃO PAULO</td>\n",
       "      <td>SAO PAULO</td>\n",
       "    </tr>\n",
       "    <tr>\n",
       "      <th>1</th>\n",
       "      <td>c7d453c9c01223a42968d9fe136047</td>\n",
       "      <td>d2620a3e6f00a6dc6e88</td>\n",
       "      <td>2022-01-03 15:42:22</td>\n",
       "      <td>iOS</td>\n",
       "      <td>Safari</td>\n",
       "      <td>São Paulo, Sao Paulo</td>\n",
       "      <td>BR</td>\n",
       "      <td>SÃO PAULO</td>\n",
       "      <td>SAO PAULO</td>\n",
       "    </tr>\n",
       "    <tr>\n",
       "      <th>2</th>\n",
       "      <td>c7d453c9c01223a42968d9fe136047</td>\n",
       "      <td>d2620a3e6f00a6dc6e88</td>\n",
       "      <td>2022-01-03 15:42:22</td>\n",
       "      <td>iOS</td>\n",
       "      <td>Safari</td>\n",
       "      <td>São Paulo, Sao Paulo</td>\n",
       "      <td>BR</td>\n",
       "      <td>SÃO PAULO</td>\n",
       "      <td>SAO PAULO</td>\n",
       "    </tr>\n",
       "    <tr>\n",
       "      <th>3</th>\n",
       "      <td>c7d453c9c01223a42968d9fe136047</td>\n",
       "      <td>d2620a3e6f00a6dc6e88</td>\n",
       "      <td>2022-01-03 15:42:22</td>\n",
       "      <td>iOS</td>\n",
       "      <td>Safari</td>\n",
       "      <td>São Paulo, Sao Paulo</td>\n",
       "      <td>BR</td>\n",
       "      <td>SÃO PAULO</td>\n",
       "      <td>SAO PAULO</td>\n",
       "    </tr>\n",
       "    <tr>\n",
       "      <th>4</th>\n",
       "      <td>72830da153824af486be15cd48b3f3</td>\n",
       "      <td>9a48802d8290d19471f3</td>\n",
       "      <td>2022-01-04 08:39:53</td>\n",
       "      <td>Windows</td>\n",
       "      <td>Chrome</td>\n",
       "      <td>Ribeirão Preto, Sao Paulo</td>\n",
       "      <td>BR</td>\n",
       "      <td>RIBEIRÃO PRETO</td>\n",
       "      <td>SAO PAULO</td>\n",
       "    </tr>\n",
       "    <tr>\n",
       "      <th>...</th>\n",
       "      <td>...</td>\n",
       "      <td>...</td>\n",
       "      <td>...</td>\n",
       "      <td>...</td>\n",
       "      <td>...</td>\n",
       "      <td>...</td>\n",
       "      <td>...</td>\n",
       "      <td>...</td>\n",
       "      <td>...</td>\n",
       "    </tr>\n",
       "    <tr>\n",
       "      <th>585467</th>\n",
       "      <td>b52c38b852d68ec4b5c8f4fcdf2604</td>\n",
       "      <td>3e0f5c6131151b075a34</td>\n",
       "      <td>2022-02-26 21:28:12</td>\n",
       "      <td>iOS</td>\n",
       "      <td>NaN</td>\n",
       "      <td>Santa Barbara, Bahia</td>\n",
       "      <td>BR</td>\n",
       "      <td>SANTA BARBARA</td>\n",
       "      <td>BAHIA</td>\n",
       "    </tr>\n",
       "    <tr>\n",
       "      <th>585468</th>\n",
       "      <td>df3bb506075aa2e212d9a0bf90975d</td>\n",
       "      <td>0266fbc12fe7e7487605</td>\n",
       "      <td>2022-03-03 18:01:43</td>\n",
       "      <td>Windows</td>\n",
       "      <td>Chrome</td>\n",
       "      <td>Sao Pedro, Sao Paulo</td>\n",
       "      <td>BR</td>\n",
       "      <td>SAO PEDRO</td>\n",
       "      <td>SAO PAULO</td>\n",
       "    </tr>\n",
       "    <tr>\n",
       "      <th>585469</th>\n",
       "      <td>c172d08a3a36b903cd49f6af8da9c3</td>\n",
       "      <td>b6c0b82cc271fd1203fc</td>\n",
       "      <td>2022-01-27 18:09:34</td>\n",
       "      <td>Windows</td>\n",
       "      <td>Chrome</td>\n",
       "      <td>Itatiba, Sao Paulo</td>\n",
       "      <td>BR</td>\n",
       "      <td>ITATIBA</td>\n",
       "      <td>SAO PAULO</td>\n",
       "    </tr>\n",
       "    <tr>\n",
       "      <th>585470</th>\n",
       "      <td>369f40f668082066838beec2861a40</td>\n",
       "      <td>47e6af54dc5898b49ec3</td>\n",
       "      <td>2022-01-27 18:52:16</td>\n",
       "      <td>Android</td>\n",
       "      <td>Chrome</td>\n",
       "      <td>Arapoti, Parana</td>\n",
       "      <td>BR</td>\n",
       "      <td>ARAPOTI</td>\n",
       "      <td>PARANA</td>\n",
       "    </tr>\n",
       "    <tr>\n",
       "      <th>585471</th>\n",
       "      <td>91848f24045463652aa6d8be1b1851</td>\n",
       "      <td>297e9eafad002959382d</td>\n",
       "      <td>2022-01-27 19:21:03</td>\n",
       "      <td>Android</td>\n",
       "      <td>Chrome</td>\n",
       "      <td>Uberaba, Minas Gerais</td>\n",
       "      <td>BR</td>\n",
       "      <td>UBERABA</td>\n",
       "      <td>MINAS GERAIS</td>\n",
       "    </tr>\n",
       "  </tbody>\n",
       "</table>\n",
       "<p>585472 rows × 9 columns</p>\n",
       "</div>"
      ],
      "text/plain": [
       "                               id_form            id_cliente  \\\n",
       "0       c7d453c9c01223a42968d9fe136047  d2620a3e6f00a6dc6e88   \n",
       "1       c7d453c9c01223a42968d9fe136047  d2620a3e6f00a6dc6e88   \n",
       "2       c7d453c9c01223a42968d9fe136047  d2620a3e6f00a6dc6e88   \n",
       "3       c7d453c9c01223a42968d9fe136047  d2620a3e6f00a6dc6e88   \n",
       "4       72830da153824af486be15cd48b3f3  9a48802d8290d19471f3   \n",
       "...                                ...                   ...   \n",
       "585467  b52c38b852d68ec4b5c8f4fcdf2604  3e0f5c6131151b075a34   \n",
       "585468  df3bb506075aa2e212d9a0bf90975d  0266fbc12fe7e7487605   \n",
       "585469  c172d08a3a36b903cd49f6af8da9c3  b6c0b82cc271fd1203fc   \n",
       "585470  369f40f668082066838beec2861a40  47e6af54dc5898b49ec3   \n",
       "585471  91848f24045463652aa6d8be1b1851  297e9eafad002959382d   \n",
       "\n",
       "                       data sistema_operacional navegador  \\\n",
       "0       2022-01-03 15:42:22                 iOS    Safari   \n",
       "1       2022-01-03 15:42:22                 iOS    Safari   \n",
       "2       2022-01-03 15:42:22                 iOS    Safari   \n",
       "3       2022-01-03 15:42:22                 iOS    Safari   \n",
       "4       2022-01-04 08:39:53             Windows    Chrome   \n",
       "...                     ...                 ...       ...   \n",
       "585467  2022-02-26 21:28:12                 iOS       NaN   \n",
       "585468  2022-03-03 18:01:43             Windows    Chrome   \n",
       "585469  2022-01-27 18:09:34             Windows    Chrome   \n",
       "585470  2022-01-27 18:52:16             Android    Chrome   \n",
       "585471  2022-01-27 19:21:03             Android    Chrome   \n",
       "\n",
       "                      localizacao locale          cidade         estado  \n",
       "0            São Paulo, Sao Paulo     BR       SÃO PAULO      SAO PAULO  \n",
       "1            São Paulo, Sao Paulo     BR       SÃO PAULO      SAO PAULO  \n",
       "2            São Paulo, Sao Paulo     BR       SÃO PAULO      SAO PAULO  \n",
       "3            São Paulo, Sao Paulo     BR       SÃO PAULO      SAO PAULO  \n",
       "4       Ribeirão Preto, Sao Paulo     BR  RIBEIRÃO PRETO      SAO PAULO  \n",
       "...                           ...    ...             ...            ...  \n",
       "585467       Santa Barbara, Bahia     BR   SANTA BARBARA          BAHIA  \n",
       "585468       Sao Pedro, Sao Paulo     BR       SAO PEDRO      SAO PAULO  \n",
       "585469         Itatiba, Sao Paulo     BR         ITATIBA      SAO PAULO  \n",
       "585470            Arapoti, Parana     BR         ARAPOTI         PARANA  \n",
       "585471      Uberaba, Minas Gerais     BR         UBERABA   MINAS GERAIS  \n",
       "\n",
       "[585472 rows x 9 columns]"
      ]
     },
     "execution_count": 9,
     "metadata": {},
     "output_type": "execute_result"
    }
   ],
   "source": [
    "data.iloc[:, :9]"
   ]
  },
  {
   "cell_type": "code",
   "execution_count": 10,
   "metadata": {
    "colab": {
     "base_uri": "https://localhost:8080/",
     "height": 424
    },
    "executionInfo": {
     "elapsed": 18,
     "status": "ok",
     "timestamp": 1661286027608,
     "user": {
      "displayName": "Solano Jacon",
      "userId": "03193064938437592202"
     },
     "user_tz": 180
    },
    "id": "ao7t6fsYpMx3",
    "outputId": "65f8b403-be37-44b5-92b9-9280de65202b"
   },
   "outputs": [
    {
     "data": {
      "text/html": [
       "<div>\n",
       "<style scoped>\n",
       "    .dataframe tbody tr th:only-of-type {\n",
       "        vertical-align: middle;\n",
       "    }\n",
       "\n",
       "    .dataframe tbody tr th {\n",
       "        vertical-align: top;\n",
       "    }\n",
       "\n",
       "    .dataframe thead th {\n",
       "        text-align: right;\n",
       "    }\n",
       "</style>\n",
       "<table border=\"1\" class=\"dataframe\">\n",
       "  <thead>\n",
       "    <tr style=\"text-align: right;\">\n",
       "      <th></th>\n",
       "      <th>qtde_lavagem_semana</th>\n",
       "      <th>utm_source</th>\n",
       "      <th>tipo_cabelo</th>\n",
       "      <th>comprimento</th>\n",
       "      <th>tipo_fios</th>\n",
       "      <th>procedimentos</th>\n",
       "      <th>tempo_procedimento</th>\n",
       "      <th>dieta</th>\n",
       "      <th>atividade_fisica</th>\n",
       "    </tr>\n",
       "  </thead>\n",
       "  <tbody>\n",
       "    <tr>\n",
       "      <th>0</th>\n",
       "      <td>4</td>\n",
       "      <td>NaN</td>\n",
       "      <td>Tipo 2</td>\n",
       "      <td>Raíz exposta</td>\n",
       "      <td>Pontas duplas</td>\n",
       "      <td>Nenhum</td>\n",
       "      <td>Há 2 semanas</td>\n",
       "      <td>Celíaca</td>\n",
       "      <td>Frequente</td>\n",
       "    </tr>\n",
       "    <tr>\n",
       "      <th>1</th>\n",
       "      <td>4</td>\n",
       "      <td>NaN</td>\n",
       "      <td>Tipo 2</td>\n",
       "      <td>Raíz exposta</td>\n",
       "      <td>Pontas duplas</td>\n",
       "      <td>Nenhum</td>\n",
       "      <td>Há 2 semanas</td>\n",
       "      <td>Celíaca</td>\n",
       "      <td>Frequente</td>\n",
       "    </tr>\n",
       "    <tr>\n",
       "      <th>2</th>\n",
       "      <td>4</td>\n",
       "      <td>NaN</td>\n",
       "      <td>Tipo 2</td>\n",
       "      <td>Raíz exposta</td>\n",
       "      <td>Pontas duplas</td>\n",
       "      <td>Nenhum</td>\n",
       "      <td>Há 2 semanas</td>\n",
       "      <td>Celíaca</td>\n",
       "      <td>Frequente</td>\n",
       "    </tr>\n",
       "    <tr>\n",
       "      <th>3</th>\n",
       "      <td>4</td>\n",
       "      <td>NaN</td>\n",
       "      <td>Tipo 2</td>\n",
       "      <td>Raíz exposta</td>\n",
       "      <td>Pontas duplas</td>\n",
       "      <td>Nenhum</td>\n",
       "      <td>Há 2 semanas</td>\n",
       "      <td>Celíaca</td>\n",
       "      <td>Frequente</td>\n",
       "    </tr>\n",
       "    <tr>\n",
       "      <th>4</th>\n",
       "      <td>7</td>\n",
       "      <td>NaN</td>\n",
       "      <td>Tipo 4</td>\n",
       "      <td>Muito curto</td>\n",
       "      <td>Perfeitos</td>\n",
       "      <td>Todos acima</td>\n",
       "      <td>Há mais de 1 mês</td>\n",
       "      <td>Nenhuma restrição</td>\n",
       "      <td>Nunca</td>\n",
       "    </tr>\n",
       "    <tr>\n",
       "      <th>...</th>\n",
       "      <td>...</td>\n",
       "      <td>...</td>\n",
       "      <td>...</td>\n",
       "      <td>...</td>\n",
       "      <td>...</td>\n",
       "      <td>...</td>\n",
       "      <td>...</td>\n",
       "      <td>...</td>\n",
       "      <td>...</td>\n",
       "    </tr>\n",
       "    <tr>\n",
       "      <th>585467</th>\n",
       "      <td>4</td>\n",
       "      <td>linktree</td>\n",
       "      <td>Tipo 1</td>\n",
       "      <td>Muito curto</td>\n",
       "      <td>Rebeldes</td>\n",
       "      <td>Nenhum</td>\n",
       "      <td>Há 1 semana</td>\n",
       "      <td>Nenhuma restrição</td>\n",
       "      <td>Frequente</td>\n",
       "    </tr>\n",
       "    <tr>\n",
       "      <th>585468</th>\n",
       "      <td>1</td>\n",
       "      <td>NaN</td>\n",
       "      <td>Tipo 1</td>\n",
       "      <td>Raíz exposta</td>\n",
       "      <td>Pontas duplas</td>\n",
       "      <td>Tintura</td>\n",
       "      <td>Há 1 mês</td>\n",
       "      <td>Celíaca</td>\n",
       "      <td>Raramente</td>\n",
       "    </tr>\n",
       "    <tr>\n",
       "      <th>585469</th>\n",
       "      <td>7</td>\n",
       "      <td>NaN</td>\n",
       "      <td>Tipo 1</td>\n",
       "      <td>Muito curto</td>\n",
       "      <td>Perfeitos</td>\n",
       "      <td>Nenhum</td>\n",
       "      <td>Há mais de 1 mês</td>\n",
       "      <td>Nenhuma restrição</td>\n",
       "      <td>Sempre</td>\n",
       "    </tr>\n",
       "    <tr>\n",
       "      <th>585470</th>\n",
       "      <td>4</td>\n",
       "      <td>NaN</td>\n",
       "      <td>Tipo 1</td>\n",
       "      <td>Raíz exposta</td>\n",
       "      <td>Pontas duplas</td>\n",
       "      <td>Todos acima</td>\n",
       "      <td>Há mais de 1 mês</td>\n",
       "      <td>Nenhuma restrição</td>\n",
       "      <td>Sempre</td>\n",
       "    </tr>\n",
       "    <tr>\n",
       "      <th>585471</th>\n",
       "      <td>6</td>\n",
       "      <td>NaN</td>\n",
       "      <td>Tipo 2</td>\n",
       "      <td>Muito curto</td>\n",
       "      <td>Rebeldes</td>\n",
       "      <td>Exposição ao sol, Tintura</td>\n",
       "      <td>Há 1 semana</td>\n",
       "      <td>Celíaca</td>\n",
       "      <td>Raramente</td>\n",
       "    </tr>\n",
       "  </tbody>\n",
       "</table>\n",
       "<p>585472 rows × 9 columns</p>\n",
       "</div>"
      ],
      "text/plain": [
       "        qtde_lavagem_semana utm_source tipo_cabelo   comprimento  \\\n",
       "0                         4        NaN      Tipo 2  Raíz exposta   \n",
       "1                         4        NaN      Tipo 2  Raíz exposta   \n",
       "2                         4        NaN      Tipo 2  Raíz exposta   \n",
       "3                         4        NaN      Tipo 2  Raíz exposta   \n",
       "4                         7        NaN      Tipo 4   Muito curto   \n",
       "...                     ...        ...         ...           ...   \n",
       "585467                    4   linktree      Tipo 1   Muito curto   \n",
       "585468                    1        NaN      Tipo 1  Raíz exposta   \n",
       "585469                    7        NaN      Tipo 1   Muito curto   \n",
       "585470                    4        NaN      Tipo 1  Raíz exposta   \n",
       "585471                    6        NaN      Tipo 2   Muito curto   \n",
       "\n",
       "            tipo_fios              procedimentos tempo_procedimento  \\\n",
       "0       Pontas duplas                     Nenhum       Há 2 semanas   \n",
       "1       Pontas duplas                     Nenhum       Há 2 semanas   \n",
       "2       Pontas duplas                     Nenhum       Há 2 semanas   \n",
       "3       Pontas duplas                     Nenhum       Há 2 semanas   \n",
       "4           Perfeitos                Todos acima   Há mais de 1 mês   \n",
       "...               ...                        ...                ...   \n",
       "585467       Rebeldes                     Nenhum        Há 1 semana   \n",
       "585468  Pontas duplas                    Tintura           Há 1 mês   \n",
       "585469      Perfeitos                     Nenhum   Há mais de 1 mês   \n",
       "585470  Pontas duplas                Todos acima   Há mais de 1 mês   \n",
       "585471       Rebeldes  Exposição ao sol, Tintura        Há 1 semana   \n",
       "\n",
       "                    dieta atividade_fisica  \n",
       "0                 Celíaca        Frequente  \n",
       "1                 Celíaca        Frequente  \n",
       "2                 Celíaca        Frequente  \n",
       "3                 Celíaca        Frequente  \n",
       "4       Nenhuma restrição            Nunca  \n",
       "...                   ...              ...  \n",
       "585467  Nenhuma restrição        Frequente  \n",
       "585468            Celíaca        Raramente  \n",
       "585469  Nenhuma restrição           Sempre  \n",
       "585470  Nenhuma restrição           Sempre  \n",
       "585471            Celíaca        Raramente  \n",
       "\n",
       "[585472 rows x 9 columns]"
      ]
     },
     "execution_count": 10,
     "metadata": {},
     "output_type": "execute_result"
    }
   ],
   "source": [
    "data.iloc[:, 9:18]"
   ]
  },
  {
   "cell_type": "code",
   "execution_count": 11,
   "metadata": {
    "colab": {
     "base_uri": "https://localhost:8080/",
     "height": 424
    },
    "executionInfo": {
     "elapsed": 15,
     "status": "ok",
     "timestamp": 1661286027609,
     "user": {
      "displayName": "Solano Jacon",
      "userId": "03193064938437592202"
     },
     "user_tz": 180
    },
    "id": "wpjdSahVpMx3",
    "outputId": "481f3cb2-0e6f-44db-d052-67d860a76c10"
   },
   "outputs": [
    {
     "data": {
      "text/html": [
       "<div>\n",
       "<style scoped>\n",
       "    .dataframe tbody tr th:only-of-type {\n",
       "        vertical-align: middle;\n",
       "    }\n",
       "\n",
       "    .dataframe tbody tr th {\n",
       "        vertical-align: top;\n",
       "    }\n",
       "\n",
       "    .dataframe thead th {\n",
       "        text-align: right;\n",
       "    }\n",
       "</style>\n",
       "<table border=\"1\" class=\"dataframe\">\n",
       "  <thead>\n",
       "    <tr style=\"text-align: right;\">\n",
       "      <th></th>\n",
       "      <th>frequencia_estresse</th>\n",
       "      <th>caracteristica</th>\n",
       "      <th>faixa_etaria</th>\n",
       "      <th>efeitos_desejados</th>\n",
       "      <th>fragancia</th>\n",
       "      <th>id_pedido</th>\n",
       "      <th>id</th>\n",
       "    </tr>\n",
       "  </thead>\n",
       "  <tbody>\n",
       "    <tr>\n",
       "      <th>0</th>\n",
       "      <td>Nunca</td>\n",
       "      <td>Característica 1</td>\n",
       "      <td>25 a 34</td>\n",
       "      <td>Efeito 7</td>\n",
       "      <td>Rosas</td>\n",
       "      <td>5d2301cb6bf9d7c</td>\n",
       "      <td>426190.0</td>\n",
       "    </tr>\n",
       "    <tr>\n",
       "      <th>1</th>\n",
       "      <td>Nunca</td>\n",
       "      <td>Característica 1</td>\n",
       "      <td>25 a 34</td>\n",
       "      <td>Efeito 7</td>\n",
       "      <td>Rosas</td>\n",
       "      <td>5d2301cb6bf9d7c</td>\n",
       "      <td>426189.0</td>\n",
       "    </tr>\n",
       "    <tr>\n",
       "      <th>2</th>\n",
       "      <td>Nunca</td>\n",
       "      <td>Característica 1</td>\n",
       "      <td>25 a 34</td>\n",
       "      <td>Efeito 7</td>\n",
       "      <td>Rosas</td>\n",
       "      <td>5d2301cb6bf9d7c</td>\n",
       "      <td>426188.0</td>\n",
       "    </tr>\n",
       "    <tr>\n",
       "      <th>3</th>\n",
       "      <td>Nunca</td>\n",
       "      <td>Característica 1</td>\n",
       "      <td>25 a 34</td>\n",
       "      <td>Efeito 7</td>\n",
       "      <td>Rosas</td>\n",
       "      <td>5d2301cb6bf9d7c</td>\n",
       "      <td>426187.0</td>\n",
       "    </tr>\n",
       "    <tr>\n",
       "      <th>4</th>\n",
       "      <td>Nunca</td>\n",
       "      <td>Característica 6</td>\n",
       "      <td>55 a 64</td>\n",
       "      <td>Efeito 1</td>\n",
       "      <td>Eucalipto</td>\n",
       "      <td>NaN</td>\n",
       "      <td>NaN</td>\n",
       "    </tr>\n",
       "    <tr>\n",
       "      <th>...</th>\n",
       "      <td>...</td>\n",
       "      <td>...</td>\n",
       "      <td>...</td>\n",
       "      <td>...</td>\n",
       "      <td>...</td>\n",
       "      <td>...</td>\n",
       "      <td>...</td>\n",
       "    </tr>\n",
       "    <tr>\n",
       "      <th>585467</th>\n",
       "      <td>Uma vez por mês</td>\n",
       "      <td>Característica 7</td>\n",
       "      <td>18 a 24</td>\n",
       "      <td>Efeito 7</td>\n",
       "      <td>Rosas</td>\n",
       "      <td>NaN</td>\n",
       "      <td>NaN</td>\n",
       "    </tr>\n",
       "    <tr>\n",
       "      <th>585468</th>\n",
       "      <td>Regularmente</td>\n",
       "      <td>Característica 9</td>\n",
       "      <td>65+</td>\n",
       "      <td>Efeito 7, Efeito 1, Efeito 5</td>\n",
       "      <td>Flores do campo</td>\n",
       "      <td>NaN</td>\n",
       "      <td>NaN</td>\n",
       "    </tr>\n",
       "    <tr>\n",
       "      <th>585469</th>\n",
       "      <td>Nunca</td>\n",
       "      <td>Característica 6</td>\n",
       "      <td>55 a 64</td>\n",
       "      <td>Efeito 1</td>\n",
       "      <td>Eucalipto</td>\n",
       "      <td>NaN</td>\n",
       "      <td>NaN</td>\n",
       "    </tr>\n",
       "    <tr>\n",
       "      <th>585470</th>\n",
       "      <td>Nunca</td>\n",
       "      <td>Característica 8</td>\n",
       "      <td>18 a 24</td>\n",
       "      <td>Efeito 7, Efeito 1, Efeito 5, Efeito 8</td>\n",
       "      <td>Eucalipto</td>\n",
       "      <td>NaN</td>\n",
       "      <td>NaN</td>\n",
       "    </tr>\n",
       "    <tr>\n",
       "      <th>585471</th>\n",
       "      <td>Nunca</td>\n",
       "      <td>Característica 2</td>\n",
       "      <td>45 a 54</td>\n",
       "      <td>Efeito 8</td>\n",
       "      <td>Rosas</td>\n",
       "      <td>NaN</td>\n",
       "      <td>NaN</td>\n",
       "    </tr>\n",
       "  </tbody>\n",
       "</table>\n",
       "<p>585472 rows × 7 columns</p>\n",
       "</div>"
      ],
      "text/plain": [
       "       frequencia_estresse    caracteristica faixa_etaria  \\\n",
       "0                    Nunca  Característica 1      25 a 34   \n",
       "1                    Nunca  Característica 1      25 a 34   \n",
       "2                    Nunca  Característica 1      25 a 34   \n",
       "3                    Nunca  Característica 1      25 a 34   \n",
       "4                    Nunca  Característica 6      55 a 64   \n",
       "...                    ...               ...          ...   \n",
       "585467     Uma vez por mês  Característica 7      18 a 24   \n",
       "585468        Regularmente  Característica 9          65+   \n",
       "585469               Nunca  Característica 6      55 a 64   \n",
       "585470               Nunca  Característica 8      18 a 24   \n",
       "585471               Nunca  Característica 2      45 a 54   \n",
       "\n",
       "                             efeitos_desejados        fragancia  \\\n",
       "0                                     Efeito 7            Rosas   \n",
       "1                                     Efeito 7            Rosas   \n",
       "2                                     Efeito 7            Rosas   \n",
       "3                                     Efeito 7            Rosas   \n",
       "4                                     Efeito 1        Eucalipto   \n",
       "...                                        ...              ...   \n",
       "585467                                Efeito 7            Rosas   \n",
       "585468            Efeito 7, Efeito 1, Efeito 5  Flores do campo   \n",
       "585469                                Efeito 1        Eucalipto   \n",
       "585470  Efeito 7, Efeito 1, Efeito 5, Efeito 8        Eucalipto   \n",
       "585471                                Efeito 8            Rosas   \n",
       "\n",
       "              id_pedido        id  \n",
       "0       5d2301cb6bf9d7c  426190.0  \n",
       "1       5d2301cb6bf9d7c  426189.0  \n",
       "2       5d2301cb6bf9d7c  426188.0  \n",
       "3       5d2301cb6bf9d7c  426187.0  \n",
       "4                   NaN       NaN  \n",
       "...                 ...       ...  \n",
       "585467              NaN       NaN  \n",
       "585468              NaN       NaN  \n",
       "585469              NaN       NaN  \n",
       "585470              NaN       NaN  \n",
       "585471              NaN       NaN  \n",
       "\n",
       "[585472 rows x 7 columns]"
      ]
     },
     "execution_count": 11,
     "metadata": {},
     "output_type": "execute_result"
    }
   ],
   "source": [
    "data.iloc[:, 18:]"
   ]
  },
  {
   "cell_type": "code",
   "execution_count": 12,
   "metadata": {
    "colab": {
     "base_uri": "https://localhost:8080/"
    },
    "executionInfo": {
     "elapsed": 620,
     "status": "ok",
     "timestamp": 1661286028217,
     "user": {
      "displayName": "Solano Jacon",
      "userId": "03193064938437592202"
     },
     "user_tz": 180
    },
    "id": "N-FXuBW-pMx3",
    "outputId": "fa9bdba2-c597-4b46-bcab-5bf7a79ed942"
   },
   "outputs": [
    {
     "name": "stdout",
     "output_type": "stream",
     "text": [
      "<class 'pandas.core.frame.DataFrame'>\n",
      "Int64Index: 585472 entries, 0 to 585471\n",
      "Data columns (total 25 columns):\n",
      " #   Column               Non-Null Count   Dtype  \n",
      "---  ------               --------------   -----  \n",
      " 0   id_form              585472 non-null  object \n",
      " 1   id_cliente           585472 non-null  object \n",
      " 2   data                 585472 non-null  object \n",
      " 3   sistema_operacional  585472 non-null  object \n",
      " 4   navegador            453493 non-null  object \n",
      " 5   localizacao          585472 non-null  object \n",
      " 6   locale               585472 non-null  object \n",
      " 7   cidade               565977 non-null  object \n",
      " 8   estado               585240 non-null  object \n",
      " 9   qtde_lavagem_semana  585472 non-null  int64  \n",
      " 10  utm_source           509386 non-null  object \n",
      " 11  tipo_cabelo          585472 non-null  object \n",
      " 12  comprimento          585472 non-null  object \n",
      " 13  tipo_fios            585472 non-null  object \n",
      " 14  procedimentos        585472 non-null  object \n",
      " 15  tempo_procedimento   585472 non-null  object \n",
      " 16  dieta                585472 non-null  object \n",
      " 17  atividade_fisica     585472 non-null  object \n",
      " 18  frequencia_estresse  585472 non-null  object \n",
      " 19  caracteristica       585472 non-null  object \n",
      " 20  faixa_etaria         585472 non-null  object \n",
      " 21  efeitos_desejados    584231 non-null  object \n",
      " 22  fragancia            585472 non-null  object \n",
      " 23  id_pedido            211663 non-null  object \n",
      " 24  id                   211663 non-null  float64\n",
      "dtypes: float64(1), int64(1), object(23)\n",
      "memory usage: 116.1+ MB\n"
     ]
    }
   ],
   "source": [
    "data.info()"
   ]
  },
  {
   "cell_type": "code",
   "execution_count": 13,
   "metadata": {
    "colab": {
     "base_uri": "https://localhost:8080/"
    },
    "executionInfo": {
     "elapsed": 483,
     "status": "ok",
     "timestamp": 1661286028698,
     "user": {
      "displayName": "Solano Jacon",
      "userId": "03193064938437592202"
     },
     "user_tz": 180
    },
    "id": "vpuNffH0pMx4",
    "outputId": "1476769d-65f1-4871-d938-02cbf07c28c9"
   },
   "outputs": [
    {
     "data": {
      "text/plain": [
       "id_form                     0\n",
       "id_cliente                  0\n",
       "data                        0\n",
       "sistema_operacional         0\n",
       "navegador              131979\n",
       "localizacao                 0\n",
       "locale                      0\n",
       "cidade                  19495\n",
       "estado                    232\n",
       "qtde_lavagem_semana         0\n",
       "utm_source              76086\n",
       "tipo_cabelo                 0\n",
       "comprimento                 0\n",
       "tipo_fios                   0\n",
       "procedimentos               0\n",
       "tempo_procedimento          0\n",
       "dieta                       0\n",
       "atividade_fisica            0\n",
       "frequencia_estresse         0\n",
       "caracteristica              0\n",
       "faixa_etaria                0\n",
       "efeitos_desejados        1241\n",
       "fragancia                   0\n",
       "id_pedido              373809\n",
       "id                     373809\n",
       "dtype: int64"
      ]
     },
     "execution_count": 13,
     "metadata": {},
     "output_type": "execute_result"
    }
   ],
   "source": [
    "data.isna().sum()"
   ]
  },
  {
   "cell_type": "code",
   "execution_count": 14,
   "metadata": {
    "id": "T25moZS6pMx4"
   },
   "outputs": [],
   "source": [
    "data = data.fillna(value=np.nan)"
   ]
  },
  {
   "cell_type": "code",
   "execution_count": 15,
   "metadata": {
    "id": "UIK7C8uIpMx4"
   },
   "outputs": [],
   "source": [
    "caracteres_especiais = ['\\u014c', '\\u014d', '\\u0160', '\\u0161']\n",
    "caracteres_substitutos = ['O', 'o', 'S', 's']\n",
    "\n",
    "for caractere_especial, caractere_substituto in zip(caracteres_especiais, caracteres_substitutos):\n",
    "    data.loc[data['localizacao'].notna(), 'localizacao'] = data.loc[data['localizacao'].notna(), 'localizacao'].apply(lambda x: x.replace(caractere_especial, caractere_substituto))\n",
    "    data.loc[data['cidade'].notna(), 'cidade'] = data.loc[data['cidade'].notna(), 'cidade'].apply(lambda x: x.replace(caractere_especial, caractere_substituto))\n",
    "    data.loc[data['estado'].notna(), 'estado'] = data.loc[data['estado'].notna(), 'estado'].apply(lambda x: x.replace(caractere_especial, caractere_substituto))"
   ]
  },
  {
   "cell_type": "code",
   "execution_count": 16,
   "metadata": {
    "id": "F4gLj7oopMx5"
   },
   "outputs": [],
   "source": [
    "# data.to_csv('data/data.csv', encoding='iso-8859-1')"
   ]
  },
  {
   "cell_type": "markdown",
   "metadata": {
    "id": "7YqZugEdpMx5"
   },
   "source": [
    "### Análise dos Dados / *Data Analysis*"
   ]
  },
  {
   "cell_type": "code",
   "execution_count": 17,
   "metadata": {
    "colab": {
     "base_uri": "https://localhost:8080/",
     "height": 35
    },
    "executionInfo": {
     "elapsed": 6,
     "status": "ok",
     "timestamp": 1661286031132,
     "user": {
      "displayName": "Solano Jacon",
      "userId": "03193064938437592202"
     },
     "user_tz": 180
    },
    "id": "Vf2zjdAFpMx5",
    "outputId": "6f2fd29c-8a7d-48d1-87a0-da1bf8a0af3e"
   },
   "outputs": [
    {
     "data": {
      "text/plain": [
       "'2022-01-01 00:13:01'"
      ]
     },
     "execution_count": 17,
     "metadata": {},
     "output_type": "execute_result"
    }
   ],
   "source": [
    "data['data'].min()"
   ]
  },
  {
   "cell_type": "code",
   "execution_count": 18,
   "metadata": {
    "colab": {
     "base_uri": "https://localhost:8080/",
     "height": 35
    },
    "executionInfo": {
     "elapsed": 9,
     "status": "ok",
     "timestamp": 1661286031461,
     "user": {
      "displayName": "Solano Jacon",
      "userId": "03193064938437592202"
     },
     "user_tz": 180
    },
    "id": "GLOkN6I5pMx6",
    "outputId": "6ac3635f-bba4-495c-9f77-35e9edd28630"
   },
   "outputs": [
    {
     "data": {
      "text/plain": [
       "'2022-06-30 23:57:47'"
      ]
     },
     "execution_count": 18,
     "metadata": {},
     "output_type": "execute_result"
    }
   ],
   "source": [
    "data['data'].max()"
   ]
  },
  {
   "cell_type": "code",
   "execution_count": 19,
   "metadata": {
    "colab": {
     "base_uri": "https://localhost:8080/"
    },
    "executionInfo": {
     "elapsed": 9,
     "status": "ok",
     "timestamp": 1661286031462,
     "user": {
      "displayName": "Solano Jacon",
      "userId": "03193064938437592202"
     },
     "user_tz": 180
    },
    "id": "n__HoGeNpMx6",
    "outputId": "d0cf8ed7-8b06-451f-918f-79dd820589a0"
   },
   "outputs": [
    {
     "data": {
      "text/plain": [
       "Android      0.597637\n",
       "iOS          0.330841\n",
       "Windows      0.063573\n",
       "Mac OS       0.005380\n",
       "Linux        0.002193\n",
       " ChromeOS    0.000376\n",
       "Name: sistema_operacional, dtype: float64"
      ]
     },
     "execution_count": 19,
     "metadata": {},
     "output_type": "execute_result"
    }
   ],
   "source": [
    "data['sistema_operacional'].value_counts(normalize=True, dropna=False)"
   ]
  },
  {
   "cell_type": "code",
   "execution_count": 20,
   "metadata": {
    "colab": {
     "base_uri": "https://localhost:8080/"
    },
    "executionInfo": {
     "elapsed": 7,
     "status": "ok",
     "timestamp": 1661286031462,
     "user": {
      "displayName": "Solano Jacon",
      "userId": "03193064938437592202"
     },
     "user_tz": 180
    },
    "id": "YH-cTRD4pMx6",
    "outputId": "3a5f180c-2318-46ed-8177-b0ee487ac0de"
   },
   "outputs": [
    {
     "data": {
      "text/plain": [
       "Chrome            0.658274\n",
       "NaN               0.225423\n",
       "Safari            0.101281\n",
       "ChromeiOS         0.006603\n",
       "ChromiumEdge      0.004099\n",
       "Firefox           0.002856\n",
       "Opera             0.001443\n",
       "MSEdge            0.000012\n",
       "Yandex.Browser    0.000009\n",
       "Name: navegador, dtype: float64"
      ]
     },
     "execution_count": 20,
     "metadata": {},
     "output_type": "execute_result"
    }
   ],
   "source": [
    "data['navegador'].value_counts(normalize=True, dropna=False)"
   ]
  },
  {
   "cell_type": "code",
   "execution_count": 21,
   "metadata": {
    "colab": {
     "base_uri": "https://localhost:8080/"
    },
    "executionInfo": {
     "elapsed": 6,
     "status": "ok",
     "timestamp": 1661286031463,
     "user": {
      "displayName": "Solano Jacon",
      "userId": "03193064938437592202"
     },
     "user_tz": 180
    },
    "id": "-rsuMyJ2pMx7",
    "outputId": "a2ec1440-bcd2-4d61-ce80-3ef7e6529e35"
   },
   "outputs": [
    {
     "data": {
      "text/plain": [
       "São Paulo, Sao Paulo              0.128623\n",
       "Rio de Janeiro, Rio de Janeiro    0.045292\n",
       "Belo Horizonte, Minas Gerais      0.025294\n",
       "null, null                        0.023654\n",
       "Brasília, Federal District        0.023260\n",
       "                                    ...   \n",
       "Lady Lake, Florida                0.000002\n",
       "Aratuba, Ceara                    0.000002\n",
       "Fanhoes, Lisbon                   0.000002\n",
       "Elk River, Minnesota              0.000002\n",
       "Cebu City, Central Visayas        0.000002\n",
       "Name: localizacao, Length: 5679, dtype: float64"
      ]
     },
     "execution_count": 21,
     "metadata": {},
     "output_type": "execute_result"
    }
   ],
   "source": [
    "data['localizacao'].value_counts(normalize=True, dropna=False)"
   ]
  },
  {
   "cell_type": "code",
   "execution_count": 22,
   "metadata": {
    "colab": {
     "base_uri": "https://localhost:8080/"
    },
    "executionInfo": {
     "elapsed": 443,
     "status": "ok",
     "timestamp": 1661286031901,
     "user": {
      "displayName": "Solano Jacon",
      "userId": "03193064938437592202"
     },
     "user_tz": 180
    },
    "id": "yvqYNn2RpMx7",
    "outputId": "684bd4c5-ece0-4080-b211-a3dc0eab65ab"
   },
   "outputs": [
    {
     "data": {
      "text/plain": [
       "BR    1.0\n",
       "Name: locale, dtype: float64"
      ]
     },
     "execution_count": 22,
     "metadata": {},
     "output_type": "execute_result"
    }
   ],
   "source": [
    "data['locale'].value_counts(normalize=True, dropna=False)"
   ]
  },
  {
   "cell_type": "code",
   "execution_count": 23,
   "metadata": {
    "colab": {
     "base_uri": "https://localhost:8080/"
    },
    "executionInfo": {
     "elapsed": 12,
     "status": "ok",
     "timestamp": 1661286031901,
     "user": {
      "displayName": "Solano Jacon",
      "userId": "03193064938437592202"
     },
     "user_tz": 180
    },
    "id": "DCUBxvVjpMx7",
    "outputId": "7cc20a09-9ad4-45d9-aa11-cfe29b05833c"
   },
   "outputs": [
    {
     "data": {
      "text/plain": [
       "SÃO PAULO         0.128623\n",
       "RIO DE JANEIRO    0.045292\n",
       "NaN               0.033298\n",
       "BELO HORIZONTE    0.025318\n",
       "BRASÍLIA          0.023260\n",
       "                    ...   \n",
       "BRIDGWATER        0.000002\n",
       "ALTO BOA VISTA    0.000002\n",
       "MIDDLEBORO        0.000002\n",
       "TURKU             0.000002\n",
       "CEBU CITY         0.000002\n",
       "Name: cidade, Length: 5315, dtype: float64"
      ]
     },
     "execution_count": 23,
     "metadata": {},
     "output_type": "execute_result"
    }
   ],
   "source": [
    "data['cidade'].value_counts(normalize=True, dropna=False)"
   ]
  },
  {
   "cell_type": "code",
   "execution_count": 24,
   "metadata": {
    "colab": {
     "base_uri": "https://localhost:8080/"
    },
    "executionInfo": {
     "elapsed": 10,
     "status": "ok",
     "timestamp": 1661286031902,
     "user": {
      "displayName": "Solano Jacon",
      "userId": "03193064938437592202"
     },
     "user_tz": 180
    },
    "id": "4oIejGeVpMx8",
    "outputId": "cde2eafb-aabf-4ee8-8af8-aca44ccce135",
    "scrolled": false
   },
   "outputs": [
    {
     "data": {
      "text/plain": [
       " SAO PAULO                             0.324434\n",
       " MINAS GERAIS                          0.089432\n",
       " RIO DE JANEIRO                        0.084059\n",
       " PARANA                                0.062290\n",
       " RIO GRANDE DO SUL                     0.050686\n",
       " SANTA CATARINA                        0.049866\n",
       " BAHIA                                 0.040340\n",
       " CEARA                                 0.034642\n",
       " PERNAMBUCO                            0.033511\n",
       " GOIAS                                 0.028244\n",
       " FEDERAL DISTRICT                      0.023982\n",
       " NULL                                  0.023678\n",
       " MATO GROSSO                           0.016745\n",
       " PARA                                  0.015360\n",
       " ESPIRITO SANTO                        0.014899\n",
       " MATO GROSSO DO SUL                    0.013072\n",
       " PARAÍBA                               0.012455\n",
       " MARANHAO                              0.012422\n",
       " RIO GRANDE DO NORTE                   0.012221\n",
       " ALAGOAS                               0.012098\n",
       " AMAZONAS                              0.010578\n",
       " SERGIPE                               0.007445\n",
       " PIAUI                                 0.006272\n",
       " RONDONIA                              0.006207\n",
       " TOCANTINS                             0.004492\n",
       " ACRE                                  0.001792\n",
       " AMAPA                                 0.001356\n",
       " LISBON                                0.000692\n",
       " PORTO                                 0.000401\n",
       "NaN                                    0.000396\n",
       " RORAIMA                               0.000345\n",
       " ENGLAND                               0.000328\n",
       " FLORIDA                               0.000261\n",
       " MASSACHUSETTS                         0.000193\n",
       " DEPARTAMENTO DEL ALTO PARANA          0.000166\n",
       " NEW YORK                              0.000149\n",
       " DISTRICT OF SETÚBAL                   0.000143\n",
       " BUENOS AIRES F.D.                     0.000133\n",
       " LEINSTER                              0.000125\n",
       " BRAGA                                 0.000125\n",
       " DEPARTAMENTO DE MONTEVIDEO            0.000101\n",
       " NEW JERSEY                            0.000097\n",
       " ASUNCION                              0.000097\n",
       " AVEIRO                                0.000096\n",
       " FARO                                  0.000089\n",
       " CALIFORNIA                            0.000085\n",
       " ONTARIO                               0.000082\n",
       " VIRGINIA                              0.000073\n",
       " DEPARTAMENTO DE CANINDEYU             0.000073\n",
       " EMILIA-ROMAGNA                        0.000068\n",
       " ÎLE-DE-FRANCE                         0.000068\n",
       " LEIRIA                                0.000065\n",
       " GEORGIA                               0.000065\n",
       " AICHI                                 0.000061\n",
       " MADRID                                0.000061\n",
       " SANTIAGO METROPOLITAN                 0.000061\n",
       " TEXAS                                 0.000061\n",
       " SANTARÉM                              0.000051\n",
       " BRITISH COLUMBIA                      0.000050\n",
       " CONNECTICUT                           0.000050\n",
       " DISTRICT OF COLUMBIA                  0.000048\n",
       " DEPARTAMENTO DE LA PAZ                0.000048\n",
       " LOMBARDY                              0.000046\n",
       " COIMBRA                               0.000043\n",
       " NORTH CAROLINA                        0.000043\n",
       " VISEU                                 0.000043\n",
       " COLORADO                              0.000041\n",
       " BAVARIA                               0.000039\n",
       " NOUVELLE-AQUITAINE                    0.000039\n",
       " OHIO                                  0.000038\n",
       " CATALONIA                             0.000038\n",
       " AZORES                                0.000036\n",
       " MISIONES                              0.000036\n",
       " MADEIRA                               0.000034\n",
       " ALBERTA                               0.000034\n",
       " DEPARTAMENTO DE SANTA CRUZ            0.000034\n",
       " ZURICH                                0.000034\n",
       " HAIFA                                 0.000032\n",
       " CORDOBA                               0.000031\n",
       " PENNSYLVANIA                          0.000031\n",
       " AUVERGNE-RHONE-ALPES                  0.000031\n",
       " MEXICO CITY                           0.000031\n",
       " SANTA FE                              0.000029\n",
       " MUNSTER                               0.000029\n",
       " MARYLAND                              0.000029\n",
       " UTAH                                  0.000027\n",
       " VIANA DO CASTELO                      0.000027\n",
       " BRUSSELS CAPITAL                      0.000026\n",
       " DEPARTAMENTO CENTRAL                  0.000026\n",
       " VILA REAL                             0.000024\n",
       " ILLINOIS                              0.000024\n",
       " NEW SOUTH WALES                       0.000024\n",
       " DEPARTAMENTO DE MISIONES              0.000022\n",
       " DEPARTAMENTO DE CAAGUAZU              0.000022\n",
       " BADEN-WÜRTTEMBERG                     0.000022\n",
       " VICTORIA                              0.000022\n",
       " TEL AVIV                              0.000020\n",
       " BUENOS AIRES                          0.000020\n",
       " QUEBEC                                0.000020\n",
       " BRAGANÇA                              0.000020\n",
       " CASTELO BRANCO                        0.000020\n",
       " WASHINGTON                            0.000019\n",
       " OSAKA                                 0.000019\n",
       " ANDALUSIA                             0.000019\n",
       " VENETO                                0.000019\n",
       " MÉXICO                                0.000019\n",
       " RHODE ISLAND                          0.000019\n",
       " GALICIA                               0.000017\n",
       " MIE                                   0.000017\n",
       " LAZIO                                 0.000017\n",
       " MALDONADO                             0.000017\n",
       " LUXEMBOURG                            0.000015\n",
       " PORTALEGRE                            0.000015\n",
       " BALADIYAT AD DAWHAH                   0.000015\n",
       " DEPARTAMENTO DEL AMAMBAY              0.000015\n",
       " LAND BERLIN                           0.000015\n",
       " NEVADA                                0.000015\n",
       " LIMA                                  0.000015\n",
       " GYEONGGI-DO                           0.000015\n",
       " SHIZUOKA                              0.000015\n",
       " SUD                                   0.000014\n",
       " NORTH HOLLAND                         0.000014\n",
       " OKLAHOMA                              0.000014\n",
       " DUBAI                                 0.000014\n",
       " MICHIGAN                              0.000014\n",
       " LOUISIANA                             0.000012\n",
       " PROVENCE-ALPES-CÔTE D'AZUR            0.000012\n",
       " BRITTANY                              0.000012\n",
       " GENEVA                                0.000012\n",
       " WALLONIA                              0.000012\n",
       " CONNAUGHT                             0.000012\n",
       " ÉVORA                                 0.000012\n",
       " PROVINCIA DE SAN JOSE                 0.000012\n",
       " OCCITANIE                             0.000012\n",
       " VALENCIA                              0.000010\n",
       " CAMPANIA                              0.000010\n",
       " IDAHO                                 0.000010\n",
       " ABU DHABI                             0.000010\n",
       " GUARDA                                0.000010\n",
       " MISSOURI                              0.000010\n",
       " NUEVO LEÓN                            0.000010\n",
       " BASQUE COUNTRY                        0.000010\n",
       " VAUD                                  0.000010\n",
       " FLANDERS                              0.000010\n",
       " CIDADE DE MAPUTO                      0.000009\n",
       " SOUTH AUSTRALIA                       0.000009\n",
       " PUEBLA                                0.000009\n",
       " SOUTH CAROLINA                        0.000009\n",
       " SCOTLAND                              0.000009\n",
       " DEMERARA-MAHAICA REGION               0.000009\n",
       " DEPARTAMENTO DE PARAGUARI             0.000009\n",
       " TUSCANY                               0.000009\n",
       " QUEENSLAND                            0.000009\n",
       " GIZA                                  0.000009\n",
       " MINNESOTA                             0.000009\n",
       " LUANDA PROVINCE                       0.000009\n",
       " NORTH RHINE-WESTPHALIA                0.000009\n",
       " PAYS DE LA LOIRE                      0.000009\n",
       " HAUTS-DE-FRANCE                       0.000009\n",
       " BERN                                  0.000009\n",
       " DEPARTAMENTO DE CASANARE              0.000007\n",
       " CERRO LARGO                           0.000007\n",
       " TRØNDELAG                             0.000007\n",
       " TENNESSEE                             0.000007\n",
       " ARIZONA                               0.000007\n",
       " ESTUAIRE                              0.000007\n",
       " ARAGON                                0.000007\n",
       " MADRE DE DIOS                         0.000007\n",
       " SHIGA                                 0.000007\n",
       " ALABAMA                               0.000007\n",
       " LATIUM                                0.000007\n",
       " CORRIENTES                            0.000007\n",
       " EXTREMADURA                           0.000007\n",
       " APULIA                                0.000007\n",
       " ZULIA                                 0.000007\n",
       " UTRECHT                               0.000007\n",
       " CASTILLE AND LEÓN                     0.000005\n",
       " VERMONT                               0.000005\n",
       " HESSE                                 0.000005\n",
       " PUNJAB                                0.000005\n",
       " MANITOBA                              0.000005\n",
       " FRIBOURG                              0.000005\n",
       " SARDINIA                              0.000005\n",
       " ULSTER                                0.000005\n",
       " GAUTENG                               0.000005\n",
       " NEW HAMPSHIRE                         0.000005\n",
       " OSLO COUNTY                           0.000005\n",
       " LA RIOJA                              0.000005\n",
       " NOVA SCOTIA                           0.000005\n",
       " DEPARTAMENTO DE COCHABAMBA            0.000005\n",
       " BEJA                                  0.000005\n",
       " BOGOTA D.C.                           0.000005\n",
       " SOUTH HOLLAND                         0.000003\n",
       " PROVINCIA DE PANAMA                   0.000003\n",
       " BICOL                                 0.000003\n",
       " DEPARTAMENTO DE RIO NEGRO             0.000003\n",
       " CANARY ISLANDS                        0.000003\n",
       " CAPITAL REGION                        0.000003\n",
       " NORTHERN IRELAND                      0.000003\n",
       " COAHUILA                              0.000003\n",
       " ATLÁNTICO                             0.000003\n",
       " FUKUOKA                               0.000003\n",
       " RHEINLAND-PFALZ                       0.000003\n",
       " SELANGOR                              0.000003\n",
       " DEPARTAMENTO DE SAN JOSE              0.000003\n",
       " GRAND EST                             0.000003\n",
       " SICILY                                0.000003\n",
       " DEPARTAMENTO DE ITAPUA                0.000003\n",
       " STOCKHOLM COUNTY                      0.000003\n",
       " DISTRIKT PARAMARIBO                   0.000003\n",
       " CHIHUAHUA                             0.000003\n",
       " CANELONES                             0.000003\n",
       " YUCATÁN                               0.000003\n",
       " LOWER SAXONY                          0.000003\n",
       " WESTERN AUSTRALIA                     0.000003\n",
       " UUSIMAA                               0.000003\n",
       " REGION DEL BIOBIO                     0.000003\n",
       " DEPARTAMENTO DE MASAYA                0.000003\n",
       " HAMBURG                               0.000003\n",
       " RIYADH REGION                         0.000003\n",
       " BALEARIC ISLANDS                      0.000003\n",
       " HLAVNI MESTO PRAHA                    0.000003\n",
       " GELDERLAND                            0.000003\n",
       " ATTICA                                0.000003\n",
       " CENTRE-VAL DE LOIRE                   0.000003\n",
       " PIEDMONT                              0.000003\n",
       " DEPARTAMENTO DE ROCHA                 0.000003\n",
       " AARGAU                                0.000003\n",
       " WISCONSIN                             0.000003\n",
       " DEPARTAMENTO DE SALTO                 0.000003\n",
       " VIKEN                                 0.000002\n",
       " DEPARTAMENTO DE PRESIDENTE HAYES      0.000002\n",
       " NORMANDY                              0.000002\n",
       " NEUCHÂTEL                             0.000002\n",
       " ILES DU VENT                          0.000002\n",
       " FUKUI                                 0.000002\n",
       " REGION DE VALPARAISO                  0.000002\n",
       " ÑUBLE                                 0.000002\n",
       " PROVINCIA DE COLON                    0.000002\n",
       " DEPARTAMENTO DE NEEMBUCU              0.000002\n",
       " DEPARTAMENTO DE SUCRE                 0.000002\n",
       " ABRUZZO                               0.000002\n",
       " WALES                                 0.000002\n",
       " VALLETTA                              0.000002\n",
       " SCHAFFHAUSEN                          0.000002\n",
       " DEPARTAMENTO DE PANDO                 0.000002\n",
       " NEW PROVIDENCE DISTRICT               0.000002\n",
       " RAZGRAD                               0.000002\n",
       " CAJAMARCA                             0.000002\n",
       " MIYAGI                                0.000002\n",
       " BARANYA                               0.000002\n",
       " PROVINCIA DE PICHINCHA                0.000002\n",
       " SINDH                                 0.000002\n",
       " PROVINCIA DE SANTO DOMINGO            0.000002\n",
       " DEPARTAMENTO DEL GUAIRA               0.000002\n",
       " TELANGANA                             0.000002\n",
       " DEPARTAMENTO DEL MAGDALENA            0.000002\n",
       " NEW BRUNSWICK                         0.000002\n",
       " MUSCAT                                0.000002\n",
       " OBWALDEN                              0.000002\n",
       " FREE AND HANSEATIC CITY OF HAMBURG    0.000002\n",
       " THURINGIA                             0.000002\n",
       " VESTFOLD OG TELEMARK                  0.000002\n",
       " GABU                                  0.000002\n",
       " JALISCO                               0.000002\n",
       " QUINTANA ROO                          0.000002\n",
       " DEPARTAMENTO DE RISARALDA             0.000002\n",
       " CARABOBO                              0.000002\n",
       " RIO NEGRO                             0.000002\n",
       " BAFATA                                0.000002\n",
       " IN-NAXXAR                             0.000002\n",
       " CENTRAL LUZON                         0.000002\n",
       " SALTA                                 0.000002\n",
       " SONGKHLA                              0.000002\n",
       " ENTRE RIOS                            0.000002\n",
       " HAWAII                                0.000002\n",
       " HYOGO                                 0.000002\n",
       " DEPARTAMENTO DE SANTANDER             0.000002\n",
       " TROMS OG FINNMARK                     0.000002\n",
       " CENTRAL JUTLAND                       0.000002\n",
       " AL ASIMAH                             0.000002\n",
       " SKÅNE COUNTY                          0.000002\n",
       " TRENTINO-ALTO ADIGE                   0.000002\n",
       " TOKYO                                 0.000002\n",
       " TARXIEN                               0.000002\n",
       " PEST MEGYE                            0.000002\n",
       " ZEELAND                               0.000002\n",
       " BUDAPEST                              0.000002\n",
       " CENTRAL MACEDONIA                     0.000002\n",
       " DRENTHE                               0.000002\n",
       " KAUNAS                                0.000002\n",
       " CALABRIA                              0.000002\n",
       " BAJA CALIFORNIA                       0.000002\n",
       " SOUTHWEST FINLAND                     0.000002\n",
       " OVERIJSSEL                            0.000002\n",
       " ISLAMABAD                             0.000002\n",
       " DEPARTAMENTO DE LA CORDILLERA         0.000002\n",
       " LA MASSANA                            0.000002\n",
       " PROVINCIA DUARTE                      0.000002\n",
       " NORTH DAKOTA                          0.000002\n",
       " CITY OF FREEPORT DISTRICT             0.000002\n",
       " OBCINA LASKO                          0.000002\n",
       " ESCH-SUR-ALZETTE                      0.000002\n",
       " DELAWARE                              0.000002\n",
       " AUCKLAND                              0.000002\n",
       " NORTH DENMARK                         0.000002\n",
       " SÖDERMANLAND COUNTY                   0.000002\n",
       " CANTERBURY                            0.000002\n",
       " QUERÉTARO                             0.000002\n",
       " MECKLENBURG-VORPOMMERN                0.000002\n",
       " MISSISSIPPI                           0.000002\n",
       " NEUQUEN                               0.000002\n",
       " JURA                                  0.000002\n",
       " PHUKET                                0.000002\n",
       " SAINT GALLEN                          0.000002\n",
       " NORTH BRABANT                         0.000002\n",
       " SEOUL                                 0.000002\n",
       " DEPARTAMENTO DEL META                 0.000002\n",
       " TOYAMA                                0.000002\n",
       " OREGON                                0.000002\n",
       " SHIMANE                               0.000002\n",
       " SAITAMA                               0.000002\n",
       " ANTIOQUIA                             0.000002\n",
       " ORDINO                                0.000002\n",
       " CASTILLE-LA MANCHA                    0.000002\n",
       " BRATISLAVA                            0.000002\n",
       " MOSTEIROS                             0.000002\n",
       " CENTRAL VISAYAS                       0.000002\n",
       "Name: estado, dtype: float64"
      ]
     },
     "execution_count": 24,
     "metadata": {},
     "output_type": "execute_result"
    }
   ],
   "source": [
    "data['estado'].value_counts(normalize=True, dropna=False)"
   ]
  },
  {
   "cell_type": "code",
   "execution_count": 25,
   "metadata": {
    "colab": {
     "base_uri": "https://localhost:8080/"
    },
    "executionInfo": {
     "elapsed": 8,
     "status": "ok",
     "timestamp": 1661286031902,
     "user": {
      "displayName": "Solano Jacon",
      "userId": "03193064938437592202"
     },
     "user_tz": 180
    },
    "id": "EUbq5I8bpMx8",
    "outputId": "45965142-e3e4-4ff4-d12a-01083c01198f"
   },
   "outputs": [
    {
     "data": {
      "text/plain": [
       "4    0.321218\n",
       "1    0.267693\n",
       "2    0.160269\n",
       "6    0.082084\n",
       "5    0.080099\n",
       "3    0.053704\n",
       "7    0.034932\n",
       "Name: qtde_lavagem_semana, dtype: float64"
      ]
     },
     "execution_count": 25,
     "metadata": {},
     "output_type": "execute_result"
    }
   ],
   "source": [
    "data['qtde_lavagem_semana'].value_counts(normalize=True, dropna=False)"
   ]
  },
  {
   "cell_type": "code",
   "execution_count": 26,
   "metadata": {
    "colab": {
     "base_uri": "https://localhost:8080/"
    },
    "executionInfo": {
     "elapsed": 7,
     "status": "ok",
     "timestamp": 1661286031902,
     "user": {
      "displayName": "Solano Jacon",
      "userId": "03193064938437592202"
     },
     "user_tz": 180
    },
    "id": "NODf33hHpMx8",
    "outputId": "4011023f-28df-463c-b87b-b334022c4682"
   },
   "outputs": [
    {
     "data": {
      "text/plain": [
       "influencer         0.316890\n",
       "facebook           0.206488\n",
       "NaN                0.129957\n",
       "google             0.086556\n",
       "sf_wpp_camp        0.066584\n",
       "linktree           0.053991\n",
       "instagram          0.046786\n",
       "sf_email_camp      0.036611\n",
       "sf_wpp_flux        0.025072\n",
       "rakuten            0.008084\n",
       "IGShopping         0.007879\n",
       "email_sf           0.003964\n",
       "blog               0.003013\n",
       "tiktok             0.001933\n",
       "microinfluencer    0.001732\n",
       "adwords            0.001578\n",
       "site               0.001370\n",
       "sf_email_flux      0.000905\n",
       "meliuz             0.000167\n",
       "incicacao          0.000130\n",
       "salesforce         0.000114\n",
       "whatsapp           0.000050\n",
       "telegram           0.000032\n",
       "sendinblue         0.000032\n",
       "sf_sms_camp        0.000017\n",
       "cpc                0.000012\n",
       "sf_wpp_flu         0.000012\n",
       "teste_source       0.000007\n",
       "sms                0.000007\n",
       "facebook           0.000005\n",
       "uaubox             0.000003\n",
       "popup              0.000003\n",
       "sf_camp_email      0.000003\n",
       "email              0.000002\n",
       "Facebook ads       0.000002\n",
       "santander          0.000002\n",
       "all                0.000002\n",
       "copy_link          0.000002\n",
       "sf_                0.000002\n",
       "Name: utm_source, dtype: float64"
      ]
     },
     "execution_count": 26,
     "metadata": {},
     "output_type": "execute_result"
    }
   ],
   "source": [
    "data['utm_source'].value_counts(normalize=True, dropna=False)"
   ]
  },
  {
   "cell_type": "code",
   "execution_count": 27,
   "metadata": {
    "colab": {
     "base_uri": "https://localhost:8080/"
    },
    "executionInfo": {
     "elapsed": 5,
     "status": "ok",
     "timestamp": 1661286031902,
     "user": {
      "displayName": "Solano Jacon",
      "userId": "03193064938437592202"
     },
     "user_tz": 180
    },
    "id": "ewSohPfVpMx8",
    "outputId": "ac171a19-2b4d-4f92-f159-df08cf27e218"
   },
   "outputs": [
    {
     "data": {
      "text/plain": [
       "Tipo 1    0.421457\n",
       "Tipo 2    0.364034\n",
       "Tipo 4    0.173897\n",
       "Tipo 3    0.040612\n",
       "Name: tipo_cabelo, dtype: float64"
      ]
     },
     "execution_count": 27,
     "metadata": {},
     "output_type": "execute_result"
    }
   ],
   "source": [
    "data['tipo_cabelo'].value_counts(normalize=True, dropna=False)"
   ]
  },
  {
   "cell_type": "code",
   "execution_count": 28,
   "metadata": {
    "colab": {
     "base_uri": "https://localhost:8080/"
    },
    "executionInfo": {
     "elapsed": 351,
     "status": "ok",
     "timestamp": 1661286032250,
     "user": {
      "displayName": "Solano Jacon",
      "userId": "03193064938437592202"
     },
     "user_tz": 180
    },
    "id": "_GHJjqlCpMx8",
    "outputId": "567d6433-1587-4688-f154-f943eb4ba79c"
   },
   "outputs": [
    {
     "data": {
      "text/plain": [
       "Muito curto     0.472550\n",
       "Raíz exposta    0.356700\n",
       "Longo           0.123586\n",
       "Extra longo     0.047164\n",
       "Name: comprimento, dtype: float64"
      ]
     },
     "execution_count": 28,
     "metadata": {},
     "output_type": "execute_result"
    }
   ],
   "source": [
    "data['comprimento'].value_counts(normalize=True, dropna=False)"
   ]
  },
  {
   "cell_type": "code",
   "execution_count": 29,
   "metadata": {
    "colab": {
     "base_uri": "https://localhost:8080/"
    },
    "executionInfo": {
     "elapsed": 17,
     "status": "ok",
     "timestamp": 1661286032251,
     "user": {
      "displayName": "Solano Jacon",
      "userId": "03193064938437592202"
     },
     "user_tz": 180
    },
    "id": "tBFii0dHpMx9",
    "outputId": "b8d301fa-158e-4153-d78a-717dc338995b"
   },
   "outputs": [
    {
     "data": {
      "text/plain": [
       "Secos            0.570929\n",
       "Pontas duplas    0.169395\n",
       "Rebeldes         0.167234\n",
       "Perfeitos        0.092442\n",
       "Name: tipo_fios, dtype: float64"
      ]
     },
     "execution_count": 29,
     "metadata": {},
     "output_type": "execute_result"
    }
   ],
   "source": [
    "data['tipo_fios'].value_counts(normalize=True, dropna=False)"
   ]
  },
  {
   "cell_type": "code",
   "execution_count": 30,
   "metadata": {
    "colab": {
     "base_uri": "https://localhost:8080/"
    },
    "executionInfo": {
     "elapsed": 15,
     "status": "ok",
     "timestamp": 1661286032251,
     "user": {
      "displayName": "Solano Jacon",
      "userId": "03193064938437592202"
     },
     "user_tz": 180
    },
    "id": "lCAT4xVjpMx9",
    "outputId": "5a5fec24-bdb3-4f80-ba5b-bab61b4cf5f9"
   },
   "outputs": [
    {
     "data": {
      "text/plain": [
       "Corte agressivo                                       0.182757\n",
       "Todos acima                                           0.153710\n",
       "Tintura                                               0.086262\n",
       "Exposição ao sol                                      0.081025\n",
       "Tintura, Corte agressivo                              0.076801\n",
       "Nenhum                                                0.062273\n",
       "Corte agressivo, Exposição ao sol                     0.033127\n",
       "Corte agressivo, Nenhum                               0.032500\n",
       "Tintura, Corte agressivo, Exposição ao sol            0.029539\n",
       "Corte agressivo, Tintura                              0.026471\n",
       "Nenhum, Corte agressivo                               0.022440\n",
       "Tintura, Corte agressivo, Nenhum                      0.017463\n",
       "Exposição ao sol, Corte agressivo                     0.017114\n",
       "Tintura, Corte agressivo, Nenhum, Exposição ao sol    0.015611\n",
       "Nenhum, Exposição ao sol                              0.015601\n",
       "Tintura, Exposição ao sol                             0.015109\n",
       "Corte agressivo, Nenhum, Exposição ao sol             0.012745\n",
       "Tintura, Nenhum                                       0.009010\n",
       "Exposição ao sol, Nenhum                              0.007503\n",
       "Tintura, Exposição ao sol, Corte agressivo            0.007263\n",
       "Tintura, Nenhum, Corte agressivo                      0.006063\n",
       "Nenhum, Exposição ao sol, Corte agressivo             0.005785\n",
       "Exposição ao sol, Tintura                             0.005319\n",
       "Corte agressivo, Tintura, Exposição ao sol            0.005218\n",
       "Corte agressivo, Exposição ao sol, Nenhum             0.005044\n",
       "Nenhum, Tintura                                       0.004938\n",
       "Corte agressivo, Exposição ao sol, Tintura            0.004545\n",
       "Tintura, Corte agressivo, Exposição ao sol, Nenhum    0.004456\n",
       "Exposição ao sol, Corte agressivo, Tintura            0.004041\n",
       "Nenhum, Corte agressivo, Tintura                      0.003732\n",
       "Nenhum, Tintura, Corte agressivo                      0.003578\n",
       "Corte agressivo, Tintura, Nenhum                      0.003542\n",
       "Corte agressivo, Nenhum, Tintura                      0.003378\n",
       "Nenhum, Corte agressivo, Exposição ao sol             0.003136\n",
       "Exposição ao sol, Tintura, Corte agressivo            0.002769\n",
       "Tintura, Nenhum, Exposição ao sol                     0.002613\n",
       "Tintura, Nenhum, Exposição ao sol, Corte agressivo    0.002475\n",
       "Exposição ao sol, Nenhum, Corte agressivo             0.002376\n",
       "Corte agressivo, Tintura, Nenhum, Exposição ao sol    0.002188\n",
       "Tintura, Nenhum, Corte agressivo, Exposição ao sol    0.001913\n",
       "Corte agressivo, Nenhum, Exposição ao sol, Tintura    0.001892\n",
       "Nenhum, Exposição ao sol, Corte agressivo, Tintura    0.001395\n",
       "Exposição ao sol, Corte agressivo, Nenhum             0.001358\n",
       "Corte agressivo, Exposição ao sol, Nenhum, Tintura    0.001120\n",
       "Nenhum, Tintura, Corte agressivo, Exposição ao sol    0.001105\n",
       "Tintura, Exposição ao sol, Nenhum                     0.001054\n",
       "Tintura, Exposição ao sol, Nenhum, Corte agressivo    0.000892\n",
       "Nenhum, Exposição ao sol, Tintura                     0.000827\n",
       "Nenhum, Exposição ao sol, Tintura, Corte agressivo    0.000782\n",
       "Exposição ao sol, Nenhum, Corte agressivo, Tintura    0.000765\n",
       "Nenhum, Corte agressivo, Tintura, Exposição ao sol    0.000755\n",
       "Corte agressivo, Tintura, Exposição ao sol, Nenhum    0.000692\n",
       "Tintura, Exposição ao sol, Corte agressivo, Nenhum    0.000688\n",
       "Corte agressivo, Nenhum, Tintura, Exposição ao sol    0.000649\n",
       "Exposição ao sol, Nenhum, Tintura, Corte agressivo    0.000618\n",
       "Exposição ao sol, Corte agressivo, Tintura, Nenhum    0.000594\n",
       "Exposição ao sol, Nenhum, Tintura                     0.000524\n",
       "Exposição ao sol, Tintura, Corte agressivo, Nenhum    0.000477\n",
       "Nenhum, Tintura, Exposição ao sol                     0.000446\n",
       "Nenhum, Corte agressivo, Exposição ao sol, Tintura    0.000439\n",
       "Corte agressivo, Exposição ao sol, Tintura, Nenhum    0.000360\n",
       "Nenhum, Tintura, Exposição ao sol, Corte agressivo    0.000323\n",
       "Exposição ao sol, Tintura, Nenhum                     0.000314\n",
       "Exposição ao sol, Corte agressivo, Nenhum, Tintura    0.000280\n",
       "Exposição ao sol, Tintura, Nenhum, Corte agressivo    0.000203\n",
       "N/C                                                   0.000010\n",
       "Name: procedimentos, dtype: float64"
      ]
     },
     "execution_count": 30,
     "metadata": {},
     "output_type": "execute_result"
    }
   ],
   "source": [
    "data['procedimentos'].value_counts(normalize=True, dropna=False)"
   ]
  },
  {
   "cell_type": "code",
   "execution_count": 31,
   "metadata": {
    "colab": {
     "base_uri": "https://localhost:8080/"
    },
    "executionInfo": {
     "elapsed": 13,
     "status": "ok",
     "timestamp": 1661286032251,
     "user": {
      "displayName": "Solano Jacon",
      "userId": "03193064938437592202"
     },
     "user_tz": 180
    },
    "id": "VFemGQNspMx9",
    "outputId": "ff8037f8-6733-4453-9e56-e689d353ffb4"
   },
   "outputs": [
    {
     "data": {
      "text/plain": [
       "Há 2 semanas               0.331857\n",
       "Há 1 semana                0.272761\n",
       "Há mais de 1 mês           0.185780\n",
       "Há 1 mês                   0.116562\n",
       "Não houve procedimentos    0.093039\n",
       "Name: tempo_procedimento, dtype: float64"
      ]
     },
     "execution_count": 31,
     "metadata": {},
     "output_type": "execute_result"
    }
   ],
   "source": [
    "data['tempo_procedimento'].value_counts(normalize=True, dropna=False)"
   ]
  },
  {
   "cell_type": "code",
   "execution_count": 32,
   "metadata": {
    "colab": {
     "base_uri": "https://localhost:8080/"
    },
    "executionInfo": {
     "elapsed": 12,
     "status": "ok",
     "timestamp": 1661286032252,
     "user": {
      "displayName": "Solano Jacon",
      "userId": "03193064938437592202"
     },
     "user_tz": 180
    },
    "id": "RP2uXpGXpMx9",
    "outputId": "26ce02aa-768c-4a81-ba1a-793a9621dda5"
   },
   "outputs": [
    {
     "data": {
      "text/plain": [
       "Celíaca                  0.719338\n",
       "Nenhuma restrição        0.218648\n",
       "Intolerante a lactose    0.044089\n",
       "Leve                     0.017926\n",
       "Name: dieta, dtype: float64"
      ]
     },
     "execution_count": 32,
     "metadata": {},
     "output_type": "execute_result"
    }
   ],
   "source": [
    "data['dieta'].value_counts(normalize=True, dropna=False)"
   ]
  },
  {
   "cell_type": "code",
   "execution_count": 33,
   "metadata": {
    "colab": {
     "base_uri": "https://localhost:8080/"
    },
    "executionInfo": {
     "elapsed": 12,
     "status": "ok",
     "timestamp": 1661286032253,
     "user": {
      "displayName": "Solano Jacon",
      "userId": "03193064938437592202"
     },
     "user_tz": 180
    },
    "id": "Y29MMCfKpMx9",
    "outputId": "56215ba5-9134-4202-da03-c4a5153a204d"
   },
   "outputs": [
    {
     "data": {
      "text/plain": [
       "Raramente    0.524749\n",
       "Frequente    0.283120\n",
       "Sempre       0.094459\n",
       "N/C          0.084467\n",
       "Nunca        0.013205\n",
       "Name: atividade_fisica, dtype: float64"
      ]
     },
     "execution_count": 33,
     "metadata": {},
     "output_type": "execute_result"
    }
   ],
   "source": [
    "data['atividade_fisica'].value_counts(normalize=True, dropna=False)"
   ]
  },
  {
   "cell_type": "code",
   "execution_count": 34,
   "metadata": {
    "colab": {
     "base_uri": "https://localhost:8080/"
    },
    "executionInfo": {
     "elapsed": 10,
     "status": "ok",
     "timestamp": 1661286032253,
     "user": {
      "displayName": "Solano Jacon",
      "userId": "03193064938437592202"
     },
     "user_tz": 180
    },
    "id": "ej4JUM31pMx-",
    "outputId": "de9415d8-5b93-4aef-f3a0-c975be161d63"
   },
   "outputs": [
    {
     "data": {
      "text/plain": [
       "Uma vez por mês    0.524146\n",
       "Nunca              0.410898\n",
       "Regularmente       0.060179\n",
       "Quase sempre       0.004777\n",
       "Name: frequencia_estresse, dtype: float64"
      ]
     },
     "execution_count": 34,
     "metadata": {},
     "output_type": "execute_result"
    }
   ],
   "source": [
    "data['frequencia_estresse'].value_counts(normalize=True, dropna=False)"
   ]
  },
  {
   "cell_type": "code",
   "execution_count": 35,
   "metadata": {
    "colab": {
     "base_uri": "https://localhost:8080/"
    },
    "executionInfo": {
     "elapsed": 9,
     "status": "ok",
     "timestamp": 1661286032253,
     "user": {
      "displayName": "Solano Jacon",
      "userId": "03193064938437592202"
     },
     "user_tz": 180
    },
    "id": "LH9uYP6opMx-",
    "outputId": "c30203de-e946-4182-f8e7-5450f926029c"
   },
   "outputs": [
    {
     "data": {
      "text/plain": [
       "Característica 3                                                                                               0.268011\n",
       "Característica 7                                                                                               0.103595\n",
       "Característica 1                                                                                               0.093536\n",
       "Característica 3, Característica 8                                                                             0.085174\n",
       "Característica 2                                                                                               0.040010\n",
       "                                                                                                                 ...   \n",
       "Característica 3, Característica 1, Característica 9, Característica 8, Característica 4, Característica 10    0.000002\n",
       "Característica 8, Característica 3, Característica 10, Característica 1, Característica 9, Característica 4    0.000002\n",
       "Característica 6, Característica 1, Característica 2, Característica 3                                         0.000002\n",
       "Característica 4, Característica 3, Característica 5, Característica 6, Característica 8                       0.000002\n",
       "Característica 1, Característica 5, Característica 2, Característica 6, Característica 10, Característica 4    0.000002\n",
       "Name: caracteristica, Length: 1955, dtype: float64"
      ]
     },
     "execution_count": 35,
     "metadata": {},
     "output_type": "execute_result"
    }
   ],
   "source": [
    "data['caracteristica'].value_counts(normalize=True, dropna=False)"
   ]
  },
  {
   "cell_type": "code",
   "execution_count": 36,
   "metadata": {
    "colab": {
     "base_uri": "https://localhost:8080/"
    },
    "executionInfo": {
     "elapsed": 329,
     "status": "ok",
     "timestamp": 1661286032575,
     "user": {
      "displayName": "Solano Jacon",
      "userId": "03193064938437592202"
     },
     "user_tz": 180
    },
    "id": "-tSl0bwdpMx-",
    "outputId": "8bfa76e2-4170-4196-f40d-7563451f3d8a"
   },
   "outputs": [
    {
     "data": {
      "text/plain": [
       "25 a 34    0.368976\n",
       "18 a 24    0.269557\n",
       "35 a 44    0.190400\n",
       "45 a 54    0.068461\n",
       "11 a 17    0.067578\n",
       "55 a 64    0.021719\n",
       "2 a 10     0.007476\n",
       "65+        0.005833\n",
       "Name: faixa_etaria, dtype: float64"
      ]
     },
     "execution_count": 36,
     "metadata": {},
     "output_type": "execute_result"
    }
   ],
   "source": [
    "data['faixa_etaria'].value_counts(normalize=True, dropna=False)"
   ]
  },
  {
   "cell_type": "code",
   "execution_count": 37,
   "metadata": {
    "colab": {
     "base_uri": "https://localhost:8080/"
    },
    "executionInfo": {
     "elapsed": 12,
     "status": "ok",
     "timestamp": 1661286032576,
     "user": {
      "displayName": "Solano Jacon",
      "userId": "03193064938437592202"
     },
     "user_tz": 180
    },
    "id": "h-ftYprypMx-",
    "outputId": "c0539c83-a025-443f-8b30-b8f9d1168fbd"
   },
   "outputs": [
    {
     "data": {
      "text/plain": [
       "Efeito 6, Efeito 7, Efeito 4, Efeito 3               0.014785\n",
       "Efeito 6, Efeito 7, Efeito 8, Efeito 4, Efeito 3     0.014747\n",
       "Efeito 6, Efeito 7, Efeito 8, Efeito 4               0.012257\n",
       "Efeito 7                                             0.010769\n",
       "Efeito 6, Efeito 2, Efeito 4, Efeito 3               0.009478\n",
       "                                                       ...   \n",
       "Efeito 3, Efeito 8, Efeito 1, Efeito 4, Efeito 7     0.000002\n",
       "Efeito 1, Efeito 8, Efeito 3, Efeito 4, Efeito 5     0.000002\n",
       "Efeito 4, Efeito 10, Efeito 2, Efeito 7, Efeito 1    0.000002\n",
       "Efeito 10, Efeito 3, Efeito 2, Efeito 4, Efeito 1    0.000002\n",
       "Efeito 8, Efeito 4, Efeito 10, Efeito 2, Efeito 7    0.000002\n",
       "Name: efeitos_desejados, Length: 11836, dtype: float64"
      ]
     },
     "execution_count": 37,
     "metadata": {},
     "output_type": "execute_result"
    }
   ],
   "source": [
    "data['efeitos_desejados'].value_counts(normalize=True, dropna=False)"
   ]
  },
  {
   "cell_type": "code",
   "execution_count": 38,
   "metadata": {
    "colab": {
     "base_uri": "https://localhost:8080/"
    },
    "executionInfo": {
     "elapsed": 10,
     "status": "ok",
     "timestamp": 1661286032576,
     "user": {
      "displayName": "Solano Jacon",
      "userId": "03193064938437592202"
     },
     "user_tz": 180
    },
    "id": "UfkqqToLpMx-",
    "outputId": "7c87e31b-a81b-4c56-cc23-8f1172bb22be"
   },
   "outputs": [
    {
     "data": {
      "text/plain": [
       "Rosas              0.522672\n",
       "Eucalipto          0.380327\n",
       "Flores do campo    0.097000\n",
       "Name: fragancia, dtype: float64"
      ]
     },
     "execution_count": 38,
     "metadata": {},
     "output_type": "execute_result"
    }
   ],
   "source": [
    "data['fragancia'].value_counts(normalize=True, dropna=False)"
   ]
  },
  {
   "cell_type": "markdown",
   "metadata": {
    "id": "M9B6lFTBpMx_"
   },
   "source": [
    "### Preparação e Análise dos Dados Alvo / *Target Data Preparation and Analysis*"
   ]
  },
  {
   "cell_type": "code",
   "execution_count": 39,
   "metadata": {
    "id": "EMaC6MaOpMx_"
   },
   "outputs": [],
   "source": [
    "data['pedido'] = 0\n",
    "data.loc[data['id_pedido'].notna(), 'pedido'] = 1"
   ]
  },
  {
   "cell_type": "code",
   "execution_count": 40,
   "metadata": {
    "colab": {
     "base_uri": "https://localhost:8080/"
    },
    "executionInfo": {
     "elapsed": 8,
     "status": "ok",
     "timestamp": 1661286032577,
     "user": {
      "displayName": "Solano Jacon",
      "userId": "03193064938437592202"
     },
     "user_tz": 180
    },
    "id": "C6SnqHAepMx_",
    "outputId": "f0b88ebd-a94d-427a-c7f8-37b22a7dc88b"
   },
   "outputs": [
    {
     "data": {
      "text/plain": [
       "0    0.638475\n",
       "1    0.361525\n",
       "Name: pedido, dtype: float64"
      ]
     },
     "execution_count": 40,
     "metadata": {},
     "output_type": "execute_result"
    }
   ],
   "source": [
    "data['pedido'].value_counts(normalize=True, dropna=False)"
   ]
  },
  {
   "cell_type": "markdown",
   "metadata": {
    "id": "K-r2WUuDpMx_"
   },
   "source": [
    "### Definição dos Próximos Passos / *Definition of Next Steps*"
   ]
  },
  {
   "cell_type": "markdown",
   "metadata": {
    "id": "DNkuJbKkpMx_"
   },
   "source": [
    "Criação de features:\n",
    "- tempo_procedimento: transformação do conteúdo de categorias ordinais de texto para categorias ordinais numéricas\n",
    "- faixa_etaria: transformação do conteúdo de categorias ordinais de texto para categorias ordinais numéricas\n",
    "- procedimentos: separação do conteúdo de categorias em colunas binárias para cada categoria\n",
    "- caracteristica: separação do conteúdo de categorias em colunas binárias para cada categoria\n",
    "- efeitos_desejados: separação do conteúdo de categorias em colunas binárias para cada categoria\n",
    "\n",
    "*Feature creation*:\n",
    "- *tempo_procedimento: transforming content from ordinal text categories to numeric ordinal categories*\n",
    "- *faixa_etaria: transforming content from ordinal text categories to numeric ordinal categories*\n",
    "- *procedimentos: separation of categories content into binary columns for each category*\n",
    "- *caracteristica: separation of categories content into binary columns for each category*\n",
    "- *efeitos_desejados: separation of categories content into binary columns for each category*\n",
    "\n",
    "Encoding:\n",
    "- sistema_operacional\n",
    "- estado\n",
    "- utm_source\n",
    "- tipo_cabelo\n",
    "- comprimento\n",
    "- tipo_fios\n",
    "- dieta\n",
    "- atividade_fisica\n",
    "- frequencia_estresse\n",
    "\n",
    "Scaling:\n",
    "- qtde_lavagem_semana"
   ]
  },
  {
   "cell_type": "markdown",
   "metadata": {
    "id": "DSg_g56ipMx_"
   },
   "source": [
    "### Criação de Features / *Feature Creation*"
   ]
  },
  {
   "cell_type": "markdown",
   "metadata": {
    "id": "RMMT8WNBpMyA"
   },
   "source": [
    "**tempo_procedimento**"
   ]
  },
  {
   "cell_type": "code",
   "execution_count": 41,
   "metadata": {
    "colab": {
     "base_uri": "https://localhost:8080/"
    },
    "executionInfo": {
     "elapsed": 6,
     "status": "ok",
     "timestamp": 1661286032577,
     "user": {
      "displayName": "Solano Jacon",
      "userId": "03193064938437592202"
     },
     "user_tz": 180
    },
    "id": "8_A13VhlpMyA",
    "outputId": "13da5b06-161d-4d91-baec-2154a87792f9"
   },
   "outputs": [
    {
     "data": {
      "text/plain": [
       "Há 2 semanas               0.331857\n",
       "Há 1 semana                0.272761\n",
       "Há mais de 1 mês           0.185780\n",
       "Há 1 mês                   0.116562\n",
       "Não houve procedimentos    0.093039\n",
       "Name: tempo_procedimento, dtype: float64"
      ]
     },
     "execution_count": 41,
     "metadata": {},
     "output_type": "execute_result"
    }
   ],
   "source": [
    "data['tempo_procedimento'].value_counts(normalize=True, dropna=False)"
   ]
  },
  {
   "cell_type": "code",
   "execution_count": 42,
   "metadata": {
    "id": "SgOHshH_pMyA"
   },
   "outputs": [],
   "source": [
    "data.loc[data['tempo_procedimento']=='Não houve procedimentos', 'tempo_procedimento_quantificado'] = 0\n",
    "data.loc[data['tempo_procedimento']=='Há 1 semana', 'tempo_procedimento_quantificado'] = 1\n",
    "data.loc[data['tempo_procedimento']=='Há 2 semanas', 'tempo_procedimento_quantificado'] = 2\n",
    "data.loc[data['tempo_procedimento']=='Há 1 mês', 'tempo_procedimento_quantificado'] = 3\n",
    "data.loc[data['tempo_procedimento']=='Há mais de 1 mês', 'tempo_procedimento_quantificado'] = 4"
   ]
  },
  {
   "cell_type": "code",
   "execution_count": 43,
   "metadata": {
    "colab": {
     "base_uri": "https://localhost:8080/"
    },
    "executionInfo": {
     "elapsed": 5,
     "status": "ok",
     "timestamp": 1661286032868,
     "user": {
      "displayName": "Solano Jacon",
      "userId": "03193064938437592202"
     },
     "user_tz": 180
    },
    "id": "HtVtQAtRpMyA",
    "outputId": "f38c5c12-d2b0-4687-8397-e88c7c8f0229"
   },
   "outputs": [
    {
     "data": {
      "text/plain": [
       "2.0    0.331857\n",
       "1.0    0.272761\n",
       "4.0    0.185780\n",
       "3.0    0.116562\n",
       "0.0    0.093039\n",
       "Name: tempo_procedimento_quantificado, dtype: float64"
      ]
     },
     "execution_count": 43,
     "metadata": {},
     "output_type": "execute_result"
    }
   ],
   "source": [
    "data['tempo_procedimento_quantificado'].value_counts(normalize=True, dropna=False)"
   ]
  },
  {
   "cell_type": "markdown",
   "metadata": {
    "id": "3VSZ-MV6pMyA"
   },
   "source": [
    "**faixa_etaria**"
   ]
  },
  {
   "cell_type": "code",
   "execution_count": 44,
   "metadata": {
    "colab": {
     "base_uri": "https://localhost:8080/"
    },
    "executionInfo": {
     "elapsed": 4,
     "status": "ok",
     "timestamp": 1661286032868,
     "user": {
      "displayName": "Solano Jacon",
      "userId": "03193064938437592202"
     },
     "user_tz": 180
    },
    "id": "SVtttycrpMyA",
    "outputId": "c75cb80c-9bec-4ea9-b149-c05d67988bcd"
   },
   "outputs": [
    {
     "data": {
      "text/plain": [
       "25 a 34    0.368976\n",
       "18 a 24    0.269557\n",
       "35 a 44    0.190400\n",
       "45 a 54    0.068461\n",
       "11 a 17    0.067578\n",
       "55 a 64    0.021719\n",
       "2 a 10     0.007476\n",
       "65+        0.005833\n",
       "Name: faixa_etaria, dtype: float64"
      ]
     },
     "execution_count": 44,
     "metadata": {},
     "output_type": "execute_result"
    }
   ],
   "source": [
    "data['faixa_etaria'].value_counts(normalize=True, dropna=False)"
   ]
  },
  {
   "cell_type": "code",
   "execution_count": 45,
   "metadata": {
    "id": "jTL8sZ1zpMyB"
   },
   "outputs": [],
   "source": [
    "data.loc[data['faixa_etaria']=='2 a 10', 'faixa_etaria_quantificado'] = 1\n",
    "data.loc[data['faixa_etaria']=='11 a 17', 'faixa_etaria_quantificado'] = 2\n",
    "data.loc[data['faixa_etaria']=='18 a 24', 'faixa_etaria_quantificado'] = 3\n",
    "data.loc[data['faixa_etaria']=='25 a 34', 'faixa_etaria_quantificado'] = 4\n",
    "data.loc[data['faixa_etaria']=='35 a 44', 'faixa_etaria_quantificado'] = 5\n",
    "data.loc[data['faixa_etaria']=='45 a 54', 'faixa_etaria_quantificado'] = 6\n",
    "data.loc[data['faixa_etaria']=='55 a 64', 'faixa_etaria_quantificado'] = 7\n",
    "data.loc[data['faixa_etaria']=='65+', 'faixa_etaria_quantificado'] = 8"
   ]
  },
  {
   "cell_type": "code",
   "execution_count": 46,
   "metadata": {
    "colab": {
     "base_uri": "https://localhost:8080/"
    },
    "executionInfo": {
     "elapsed": 6,
     "status": "ok",
     "timestamp": 1661286033185,
     "user": {
      "displayName": "Solano Jacon",
      "userId": "03193064938437592202"
     },
     "user_tz": 180
    },
    "id": "BNdj-qxqpMyB",
    "outputId": "66124e4e-710a-479a-ef65-d3940b745cfe"
   },
   "outputs": [
    {
     "data": {
      "text/plain": [
       "4.0    0.368976\n",
       "3.0    0.269557\n",
       "5.0    0.190400\n",
       "6.0    0.068461\n",
       "2.0    0.067578\n",
       "7.0    0.021719\n",
       "1.0    0.007476\n",
       "8.0    0.005833\n",
       "Name: faixa_etaria_quantificado, dtype: float64"
      ]
     },
     "execution_count": 46,
     "metadata": {},
     "output_type": "execute_result"
    }
   ],
   "source": [
    "data['faixa_etaria_quantificado'].value_counts(normalize=True, dropna=False)"
   ]
  },
  {
   "cell_type": "markdown",
   "metadata": {
    "id": "J_9Kusf3pMyB"
   },
   "source": [
    "**procedimentos**"
   ]
  },
  {
   "cell_type": "code",
   "execution_count": 47,
   "metadata": {
    "colab": {
     "base_uri": "https://localhost:8080/"
    },
    "executionInfo": {
     "elapsed": 5,
     "status": "ok",
     "timestamp": 1661286033186,
     "user": {
      "displayName": "Solano Jacon",
      "userId": "03193064938437592202"
     },
     "user_tz": 180
    },
    "id": "RQnjCv8epMyB",
    "outputId": "401327e5-0405-4d09-bdff-8a9d6baa01ae"
   },
   "outputs": [
    {
     "data": {
      "text/plain": [
       "Corte agressivo                                       0.182757\n",
       "Todos acima                                           0.153710\n",
       "Tintura                                               0.086262\n",
       "Exposição ao sol                                      0.081025\n",
       "Tintura, Corte agressivo                              0.076801\n",
       "Nenhum                                                0.062273\n",
       "Corte agressivo, Exposição ao sol                     0.033127\n",
       "Corte agressivo, Nenhum                               0.032500\n",
       "Tintura, Corte agressivo, Exposição ao sol            0.029539\n",
       "Corte agressivo, Tintura                              0.026471\n",
       "Nenhum, Corte agressivo                               0.022440\n",
       "Tintura, Corte agressivo, Nenhum                      0.017463\n",
       "Exposição ao sol, Corte agressivo                     0.017114\n",
       "Tintura, Corte agressivo, Nenhum, Exposição ao sol    0.015611\n",
       "Nenhum, Exposição ao sol                              0.015601\n",
       "Tintura, Exposição ao sol                             0.015109\n",
       "Corte agressivo, Nenhum, Exposição ao sol             0.012745\n",
       "Tintura, Nenhum                                       0.009010\n",
       "Exposição ao sol, Nenhum                              0.007503\n",
       "Tintura, Exposição ao sol, Corte agressivo            0.007263\n",
       "Tintura, Nenhum, Corte agressivo                      0.006063\n",
       "Nenhum, Exposição ao sol, Corte agressivo             0.005785\n",
       "Exposição ao sol, Tintura                             0.005319\n",
       "Corte agressivo, Tintura, Exposição ao sol            0.005218\n",
       "Corte agressivo, Exposição ao sol, Nenhum             0.005044\n",
       "Nenhum, Tintura                                       0.004938\n",
       "Corte agressivo, Exposição ao sol, Tintura            0.004545\n",
       "Tintura, Corte agressivo, Exposição ao sol, Nenhum    0.004456\n",
       "Exposição ao sol, Corte agressivo, Tintura            0.004041\n",
       "Nenhum, Corte agressivo, Tintura                      0.003732\n",
       "Nenhum, Tintura, Corte agressivo                      0.003578\n",
       "Corte agressivo, Tintura, Nenhum                      0.003542\n",
       "Corte agressivo, Nenhum, Tintura                      0.003378\n",
       "Nenhum, Corte agressivo, Exposição ao sol             0.003136\n",
       "Exposição ao sol, Tintura, Corte agressivo            0.002769\n",
       "Tintura, Nenhum, Exposição ao sol                     0.002613\n",
       "Tintura, Nenhum, Exposição ao sol, Corte agressivo    0.002475\n",
       "Exposição ao sol, Nenhum, Corte agressivo             0.002376\n",
       "Corte agressivo, Tintura, Nenhum, Exposição ao sol    0.002188\n",
       "Tintura, Nenhum, Corte agressivo, Exposição ao sol    0.001913\n",
       "Corte agressivo, Nenhum, Exposição ao sol, Tintura    0.001892\n",
       "Nenhum, Exposição ao sol, Corte agressivo, Tintura    0.001395\n",
       "Exposição ao sol, Corte agressivo, Nenhum             0.001358\n",
       "Corte agressivo, Exposição ao sol, Nenhum, Tintura    0.001120\n",
       "Nenhum, Tintura, Corte agressivo, Exposição ao sol    0.001105\n",
       "Tintura, Exposição ao sol, Nenhum                     0.001054\n",
       "Tintura, Exposição ao sol, Nenhum, Corte agressivo    0.000892\n",
       "Nenhum, Exposição ao sol, Tintura                     0.000827\n",
       "Nenhum, Exposição ao sol, Tintura, Corte agressivo    0.000782\n",
       "Exposição ao sol, Nenhum, Corte agressivo, Tintura    0.000765\n",
       "Nenhum, Corte agressivo, Tintura, Exposição ao sol    0.000755\n",
       "Corte agressivo, Tintura, Exposição ao sol, Nenhum    0.000692\n",
       "Tintura, Exposição ao sol, Corte agressivo, Nenhum    0.000688\n",
       "Corte agressivo, Nenhum, Tintura, Exposição ao sol    0.000649\n",
       "Exposição ao sol, Nenhum, Tintura, Corte agressivo    0.000618\n",
       "Exposição ao sol, Corte agressivo, Tintura, Nenhum    0.000594\n",
       "Exposição ao sol, Nenhum, Tintura                     0.000524\n",
       "Exposição ao sol, Tintura, Corte agressivo, Nenhum    0.000477\n",
       "Nenhum, Tintura, Exposição ao sol                     0.000446\n",
       "Nenhum, Corte agressivo, Exposição ao sol, Tintura    0.000439\n",
       "Corte agressivo, Exposição ao sol, Tintura, Nenhum    0.000360\n",
       "Nenhum, Tintura, Exposição ao sol, Corte agressivo    0.000323\n",
       "Exposição ao sol, Tintura, Nenhum                     0.000314\n",
       "Exposição ao sol, Corte agressivo, Nenhum, Tintura    0.000280\n",
       "Exposição ao sol, Tintura, Nenhum, Corte agressivo    0.000203\n",
       "N/C                                                   0.000010\n",
       "Name: procedimentos, dtype: float64"
      ]
     },
     "execution_count": 47,
     "metadata": {},
     "output_type": "execute_result"
    }
   ],
   "source": [
    "data['procedimentos'].value_counts(normalize=True, dropna=False)"
   ]
  },
  {
   "cell_type": "code",
   "execution_count": 48,
   "metadata": {
    "id": "lZFFsPvspMyB"
   },
   "outputs": [],
   "source": [
    "procedimentos = ['Corte agressivo', 'Exposição ao sol', 'Nenhum', 'N/C', 'Tintura', 'Todos acima']\n",
    "\n",
    "for procedimento in procedimentos:\n",
    "    data['procedimento ' + procedimento] = data['procedimentos'].apply(lambda x: 1 if procedimento in x else 0)"
   ]
  },
  {
   "cell_type": "code",
   "execution_count": 49,
   "metadata": {
    "colab": {
     "base_uri": "https://localhost:8080/"
    },
    "executionInfo": {
     "elapsed": 12,
     "status": "ok",
     "timestamp": 1661286034223,
     "user": {
      "displayName": "Solano Jacon",
      "userId": "03193064938437592202"
     },
     "user_tz": 180
    },
    "id": "Id-PNhXGpMyB",
    "outputId": "46144fe2-f07a-4a38-9f49-8c9f84180bff"
   },
   "outputs": [
    {
     "data": {
      "text/plain": [
       "0                            Nenhum\n",
       "1                            Nenhum\n",
       "2                            Nenhum\n",
       "3                            Nenhum\n",
       "4                       Todos acima\n",
       "                    ...            \n",
       "585467                       Nenhum\n",
       "585468                      Tintura\n",
       "585469                       Nenhum\n",
       "585470                  Todos acima\n",
       "585471    Exposição ao sol, Tintura\n",
       "Name: procedimentos, Length: 585472, dtype: object"
      ]
     },
     "execution_count": 49,
     "metadata": {},
     "output_type": "execute_result"
    }
   ],
   "source": [
    "data['procedimentos']"
   ]
  },
  {
   "cell_type": "code",
   "execution_count": 50,
   "metadata": {
    "colab": {
     "base_uri": "https://localhost:8080/",
     "height": 424
    },
    "executionInfo": {
     "elapsed": 9,
     "status": "ok",
     "timestamp": 1661286034224,
     "user": {
      "displayName": "Solano Jacon",
      "userId": "03193064938437592202"
     },
     "user_tz": 180
    },
    "id": "tGKywNXbpMyC",
    "outputId": "f00d57d1-fda0-4ac8-e6c9-c603967845d2"
   },
   "outputs": [
    {
     "data": {
      "text/html": [
       "<div>\n",
       "<style scoped>\n",
       "    .dataframe tbody tr th:only-of-type {\n",
       "        vertical-align: middle;\n",
       "    }\n",
       "\n",
       "    .dataframe tbody tr th {\n",
       "        vertical-align: top;\n",
       "    }\n",
       "\n",
       "    .dataframe thead th {\n",
       "        text-align: right;\n",
       "    }\n",
       "</style>\n",
       "<table border=\"1\" class=\"dataframe\">\n",
       "  <thead>\n",
       "    <tr style=\"text-align: right;\">\n",
       "      <th></th>\n",
       "      <th>procedimento Corte agressivo</th>\n",
       "      <th>procedimento Exposição ao sol</th>\n",
       "      <th>procedimento Nenhum</th>\n",
       "      <th>procedimento N/C</th>\n",
       "      <th>procedimento Tintura</th>\n",
       "      <th>procedimento Todos acima</th>\n",
       "    </tr>\n",
       "  </thead>\n",
       "  <tbody>\n",
       "    <tr>\n",
       "      <th>0</th>\n",
       "      <td>0</td>\n",
       "      <td>0</td>\n",
       "      <td>1</td>\n",
       "      <td>0</td>\n",
       "      <td>0</td>\n",
       "      <td>0</td>\n",
       "    </tr>\n",
       "    <tr>\n",
       "      <th>1</th>\n",
       "      <td>0</td>\n",
       "      <td>0</td>\n",
       "      <td>1</td>\n",
       "      <td>0</td>\n",
       "      <td>0</td>\n",
       "      <td>0</td>\n",
       "    </tr>\n",
       "    <tr>\n",
       "      <th>2</th>\n",
       "      <td>0</td>\n",
       "      <td>0</td>\n",
       "      <td>1</td>\n",
       "      <td>0</td>\n",
       "      <td>0</td>\n",
       "      <td>0</td>\n",
       "    </tr>\n",
       "    <tr>\n",
       "      <th>3</th>\n",
       "      <td>0</td>\n",
       "      <td>0</td>\n",
       "      <td>1</td>\n",
       "      <td>0</td>\n",
       "      <td>0</td>\n",
       "      <td>0</td>\n",
       "    </tr>\n",
       "    <tr>\n",
       "      <th>4</th>\n",
       "      <td>0</td>\n",
       "      <td>0</td>\n",
       "      <td>0</td>\n",
       "      <td>0</td>\n",
       "      <td>0</td>\n",
       "      <td>1</td>\n",
       "    </tr>\n",
       "    <tr>\n",
       "      <th>...</th>\n",
       "      <td>...</td>\n",
       "      <td>...</td>\n",
       "      <td>...</td>\n",
       "      <td>...</td>\n",
       "      <td>...</td>\n",
       "      <td>...</td>\n",
       "    </tr>\n",
       "    <tr>\n",
       "      <th>585467</th>\n",
       "      <td>0</td>\n",
       "      <td>0</td>\n",
       "      <td>1</td>\n",
       "      <td>0</td>\n",
       "      <td>0</td>\n",
       "      <td>0</td>\n",
       "    </tr>\n",
       "    <tr>\n",
       "      <th>585468</th>\n",
       "      <td>0</td>\n",
       "      <td>0</td>\n",
       "      <td>0</td>\n",
       "      <td>0</td>\n",
       "      <td>1</td>\n",
       "      <td>0</td>\n",
       "    </tr>\n",
       "    <tr>\n",
       "      <th>585469</th>\n",
       "      <td>0</td>\n",
       "      <td>0</td>\n",
       "      <td>1</td>\n",
       "      <td>0</td>\n",
       "      <td>0</td>\n",
       "      <td>0</td>\n",
       "    </tr>\n",
       "    <tr>\n",
       "      <th>585470</th>\n",
       "      <td>0</td>\n",
       "      <td>0</td>\n",
       "      <td>0</td>\n",
       "      <td>0</td>\n",
       "      <td>0</td>\n",
       "      <td>1</td>\n",
       "    </tr>\n",
       "    <tr>\n",
       "      <th>585471</th>\n",
       "      <td>0</td>\n",
       "      <td>1</td>\n",
       "      <td>0</td>\n",
       "      <td>0</td>\n",
       "      <td>1</td>\n",
       "      <td>0</td>\n",
       "    </tr>\n",
       "  </tbody>\n",
       "</table>\n",
       "<p>585472 rows × 6 columns</p>\n",
       "</div>"
      ],
      "text/plain": [
       "        procedimento Corte agressivo  procedimento Exposição ao sol  \\\n",
       "0                                  0                              0   \n",
       "1                                  0                              0   \n",
       "2                                  0                              0   \n",
       "3                                  0                              0   \n",
       "4                                  0                              0   \n",
       "...                              ...                            ...   \n",
       "585467                             0                              0   \n",
       "585468                             0                              0   \n",
       "585469                             0                              0   \n",
       "585470                             0                              0   \n",
       "585471                             0                              1   \n",
       "\n",
       "        procedimento Nenhum  procedimento N/C  procedimento Tintura  \\\n",
       "0                         1                 0                     0   \n",
       "1                         1                 0                     0   \n",
       "2                         1                 0                     0   \n",
       "3                         1                 0                     0   \n",
       "4                         0                 0                     0   \n",
       "...                     ...               ...                   ...   \n",
       "585467                    1                 0                     0   \n",
       "585468                    0                 0                     1   \n",
       "585469                    1                 0                     0   \n",
       "585470                    0                 0                     0   \n",
       "585471                    0                 0                     1   \n",
       "\n",
       "        procedimento Todos acima  \n",
       "0                              0  \n",
       "1                              0  \n",
       "2                              0  \n",
       "3                              0  \n",
       "4                              1  \n",
       "...                          ...  \n",
       "585467                         0  \n",
       "585468                         0  \n",
       "585469                         0  \n",
       "585470                         1  \n",
       "585471                         0  \n",
       "\n",
       "[585472 rows x 6 columns]"
      ]
     },
     "execution_count": 50,
     "metadata": {},
     "output_type": "execute_result"
    }
   ],
   "source": [
    "data.iloc[:, -6:]"
   ]
  },
  {
   "cell_type": "markdown",
   "metadata": {
    "id": "VOv80t2RpMyC"
   },
   "source": [
    "**caracteristica**"
   ]
  },
  {
   "cell_type": "code",
   "execution_count": 51,
   "metadata": {
    "colab": {
     "base_uri": "https://localhost:8080/"
    },
    "executionInfo": {
     "elapsed": 8,
     "status": "ok",
     "timestamp": 1661286034224,
     "user": {
      "displayName": "Solano Jacon",
      "userId": "03193064938437592202"
     },
     "user_tz": 180
    },
    "id": "pT-1nX8TpMyC",
    "outputId": "780c2c64-563e-47c7-f5a4-854981d4aff0"
   },
   "outputs": [
    {
     "data": {
      "text/plain": [
       "Característica 3                                                                                               0.268011\n",
       "Característica 7                                                                                               0.103595\n",
       "Característica 1                                                                                               0.093536\n",
       "Característica 3, Característica 8                                                                             0.085174\n",
       "Característica 2                                                                                               0.040010\n",
       "                                                                                                                 ...   \n",
       "Característica 3, Característica 1, Característica 9, Característica 8, Característica 4, Característica 10    0.000002\n",
       "Característica 8, Característica 3, Característica 10, Característica 1, Característica 9, Característica 4    0.000002\n",
       "Característica 6, Característica 1, Característica 2, Característica 3                                         0.000002\n",
       "Característica 4, Característica 3, Característica 5, Característica 6, Característica 8                       0.000002\n",
       "Característica 1, Característica 5, Característica 2, Característica 6, Característica 10, Característica 4    0.000002\n",
       "Name: caracteristica, Length: 1955, dtype: float64"
      ]
     },
     "execution_count": 51,
     "metadata": {},
     "output_type": "execute_result"
    }
   ],
   "source": [
    "data['caracteristica'].value_counts(normalize=True, dropna=False)"
   ]
  },
  {
   "cell_type": "code",
   "execution_count": 52,
   "metadata": {
    "id": "8H6Q1y7TpMyC"
   },
   "outputs": [],
   "source": [
    "# A coluna caracteristica contém 10 categorias de 1 a 10 no formato \"Característica 5\"\n",
    "# The column caracteristica contains 10 categories from 1 to 10 in the \"Característica 5\" format\n",
    "\n",
    "for numero_caracteristica in range(1, 11):\n",
    "    data['caracteristica ' + str(numero_caracteristica)] = data['caracteristica'].apply(lambda x: 1 if ('Característica ' + str(numero_caracteristica)) in x else 0)"
   ]
  },
  {
   "cell_type": "code",
   "execution_count": 53,
   "metadata": {
    "colab": {
     "base_uri": "https://localhost:8080/"
    },
    "executionInfo": {
     "elapsed": 13,
     "status": "ok",
     "timestamp": 1661286036407,
     "user": {
      "displayName": "Solano Jacon",
      "userId": "03193064938437592202"
     },
     "user_tz": 180
    },
    "id": "I7ycF-80pMyC",
    "outputId": "6c75c0c1-616a-455f-9bc4-3568d997a332"
   },
   "outputs": [
    {
     "data": {
      "text/plain": [
       "0         Característica 1\n",
       "1         Característica 1\n",
       "2         Característica 1\n",
       "3         Característica 1\n",
       "4         Característica 6\n",
       "                ...       \n",
       "585467    Característica 7\n",
       "585468    Característica 9\n",
       "585469    Característica 6\n",
       "585470    Característica 8\n",
       "585471    Característica 2\n",
       "Name: caracteristica, Length: 585472, dtype: object"
      ]
     },
     "execution_count": 53,
     "metadata": {},
     "output_type": "execute_result"
    }
   ],
   "source": [
    "data['caracteristica']"
   ]
  },
  {
   "cell_type": "code",
   "execution_count": 54,
   "metadata": {
    "colab": {
     "base_uri": "https://localhost:8080/",
     "height": 424
    },
    "executionInfo": {
     "elapsed": 10,
     "status": "ok",
     "timestamp": 1661286036408,
     "user": {
      "displayName": "Solano Jacon",
      "userId": "03193064938437592202"
     },
     "user_tz": 180
    },
    "id": "J5DgnXfTpMyC",
    "outputId": "2922f417-decc-4a85-e689-6e282a1448ef"
   },
   "outputs": [
    {
     "data": {
      "text/html": [
       "<div>\n",
       "<style scoped>\n",
       "    .dataframe tbody tr th:only-of-type {\n",
       "        vertical-align: middle;\n",
       "    }\n",
       "\n",
       "    .dataframe tbody tr th {\n",
       "        vertical-align: top;\n",
       "    }\n",
       "\n",
       "    .dataframe thead th {\n",
       "        text-align: right;\n",
       "    }\n",
       "</style>\n",
       "<table border=\"1\" class=\"dataframe\">\n",
       "  <thead>\n",
       "    <tr style=\"text-align: right;\">\n",
       "      <th></th>\n",
       "      <th>caracteristica 1</th>\n",
       "      <th>caracteristica 2</th>\n",
       "      <th>caracteristica 3</th>\n",
       "      <th>caracteristica 4</th>\n",
       "      <th>caracteristica 5</th>\n",
       "      <th>caracteristica 6</th>\n",
       "      <th>caracteristica 7</th>\n",
       "      <th>caracteristica 8</th>\n",
       "      <th>caracteristica 9</th>\n",
       "      <th>caracteristica 10</th>\n",
       "    </tr>\n",
       "  </thead>\n",
       "  <tbody>\n",
       "    <tr>\n",
       "      <th>0</th>\n",
       "      <td>1</td>\n",
       "      <td>0</td>\n",
       "      <td>0</td>\n",
       "      <td>0</td>\n",
       "      <td>0</td>\n",
       "      <td>0</td>\n",
       "      <td>0</td>\n",
       "      <td>0</td>\n",
       "      <td>0</td>\n",
       "      <td>0</td>\n",
       "    </tr>\n",
       "    <tr>\n",
       "      <th>1</th>\n",
       "      <td>1</td>\n",
       "      <td>0</td>\n",
       "      <td>0</td>\n",
       "      <td>0</td>\n",
       "      <td>0</td>\n",
       "      <td>0</td>\n",
       "      <td>0</td>\n",
       "      <td>0</td>\n",
       "      <td>0</td>\n",
       "      <td>0</td>\n",
       "    </tr>\n",
       "    <tr>\n",
       "      <th>2</th>\n",
       "      <td>1</td>\n",
       "      <td>0</td>\n",
       "      <td>0</td>\n",
       "      <td>0</td>\n",
       "      <td>0</td>\n",
       "      <td>0</td>\n",
       "      <td>0</td>\n",
       "      <td>0</td>\n",
       "      <td>0</td>\n",
       "      <td>0</td>\n",
       "    </tr>\n",
       "    <tr>\n",
       "      <th>3</th>\n",
       "      <td>1</td>\n",
       "      <td>0</td>\n",
       "      <td>0</td>\n",
       "      <td>0</td>\n",
       "      <td>0</td>\n",
       "      <td>0</td>\n",
       "      <td>0</td>\n",
       "      <td>0</td>\n",
       "      <td>0</td>\n",
       "      <td>0</td>\n",
       "    </tr>\n",
       "    <tr>\n",
       "      <th>4</th>\n",
       "      <td>0</td>\n",
       "      <td>0</td>\n",
       "      <td>0</td>\n",
       "      <td>0</td>\n",
       "      <td>0</td>\n",
       "      <td>1</td>\n",
       "      <td>0</td>\n",
       "      <td>0</td>\n",
       "      <td>0</td>\n",
       "      <td>0</td>\n",
       "    </tr>\n",
       "    <tr>\n",
       "      <th>...</th>\n",
       "      <td>...</td>\n",
       "      <td>...</td>\n",
       "      <td>...</td>\n",
       "      <td>...</td>\n",
       "      <td>...</td>\n",
       "      <td>...</td>\n",
       "      <td>...</td>\n",
       "      <td>...</td>\n",
       "      <td>...</td>\n",
       "      <td>...</td>\n",
       "    </tr>\n",
       "    <tr>\n",
       "      <th>585467</th>\n",
       "      <td>0</td>\n",
       "      <td>0</td>\n",
       "      <td>0</td>\n",
       "      <td>0</td>\n",
       "      <td>0</td>\n",
       "      <td>0</td>\n",
       "      <td>1</td>\n",
       "      <td>0</td>\n",
       "      <td>0</td>\n",
       "      <td>0</td>\n",
       "    </tr>\n",
       "    <tr>\n",
       "      <th>585468</th>\n",
       "      <td>0</td>\n",
       "      <td>0</td>\n",
       "      <td>0</td>\n",
       "      <td>0</td>\n",
       "      <td>0</td>\n",
       "      <td>0</td>\n",
       "      <td>0</td>\n",
       "      <td>0</td>\n",
       "      <td>1</td>\n",
       "      <td>0</td>\n",
       "    </tr>\n",
       "    <tr>\n",
       "      <th>585469</th>\n",
       "      <td>0</td>\n",
       "      <td>0</td>\n",
       "      <td>0</td>\n",
       "      <td>0</td>\n",
       "      <td>0</td>\n",
       "      <td>1</td>\n",
       "      <td>0</td>\n",
       "      <td>0</td>\n",
       "      <td>0</td>\n",
       "      <td>0</td>\n",
       "    </tr>\n",
       "    <tr>\n",
       "      <th>585470</th>\n",
       "      <td>0</td>\n",
       "      <td>0</td>\n",
       "      <td>0</td>\n",
       "      <td>0</td>\n",
       "      <td>0</td>\n",
       "      <td>0</td>\n",
       "      <td>0</td>\n",
       "      <td>1</td>\n",
       "      <td>0</td>\n",
       "      <td>0</td>\n",
       "    </tr>\n",
       "    <tr>\n",
       "      <th>585471</th>\n",
       "      <td>0</td>\n",
       "      <td>1</td>\n",
       "      <td>0</td>\n",
       "      <td>0</td>\n",
       "      <td>0</td>\n",
       "      <td>0</td>\n",
       "      <td>0</td>\n",
       "      <td>0</td>\n",
       "      <td>0</td>\n",
       "      <td>0</td>\n",
       "    </tr>\n",
       "  </tbody>\n",
       "</table>\n",
       "<p>585472 rows × 10 columns</p>\n",
       "</div>"
      ],
      "text/plain": [
       "        caracteristica 1  caracteristica 2  caracteristica 3  \\\n",
       "0                      1                 0                 0   \n",
       "1                      1                 0                 0   \n",
       "2                      1                 0                 0   \n",
       "3                      1                 0                 0   \n",
       "4                      0                 0                 0   \n",
       "...                  ...               ...               ...   \n",
       "585467                 0                 0                 0   \n",
       "585468                 0                 0                 0   \n",
       "585469                 0                 0                 0   \n",
       "585470                 0                 0                 0   \n",
       "585471                 0                 1                 0   \n",
       "\n",
       "        caracteristica 4  caracteristica 5  caracteristica 6  \\\n",
       "0                      0                 0                 0   \n",
       "1                      0                 0                 0   \n",
       "2                      0                 0                 0   \n",
       "3                      0                 0                 0   \n",
       "4                      0                 0                 1   \n",
       "...                  ...               ...               ...   \n",
       "585467                 0                 0                 0   \n",
       "585468                 0                 0                 0   \n",
       "585469                 0                 0                 1   \n",
       "585470                 0                 0                 0   \n",
       "585471                 0                 0                 0   \n",
       "\n",
       "        caracteristica 7  caracteristica 8  caracteristica 9  \\\n",
       "0                      0                 0                 0   \n",
       "1                      0                 0                 0   \n",
       "2                      0                 0                 0   \n",
       "3                      0                 0                 0   \n",
       "4                      0                 0                 0   \n",
       "...                  ...               ...               ...   \n",
       "585467                 1                 0                 0   \n",
       "585468                 0                 0                 1   \n",
       "585469                 0                 0                 0   \n",
       "585470                 0                 1                 0   \n",
       "585471                 0                 0                 0   \n",
       "\n",
       "        caracteristica 10  \n",
       "0                       0  \n",
       "1                       0  \n",
       "2                       0  \n",
       "3                       0  \n",
       "4                       0  \n",
       "...                   ...  \n",
       "585467                  0  \n",
       "585468                  0  \n",
       "585469                  0  \n",
       "585470                  0  \n",
       "585471                  0  \n",
       "\n",
       "[585472 rows x 10 columns]"
      ]
     },
     "execution_count": 54,
     "metadata": {},
     "output_type": "execute_result"
    }
   ],
   "source": [
    "data.iloc[:, -10:]"
   ]
  },
  {
   "cell_type": "markdown",
   "metadata": {
    "id": "w4TP5vXJpMyD"
   },
   "source": [
    "**efeitos_desejados**"
   ]
  },
  {
   "cell_type": "code",
   "execution_count": 55,
   "metadata": {
    "colab": {
     "base_uri": "https://localhost:8080/"
    },
    "executionInfo": {
     "elapsed": 9,
     "status": "ok",
     "timestamp": 1661286036408,
     "user": {
      "displayName": "Solano Jacon",
      "userId": "03193064938437592202"
     },
     "user_tz": 180
    },
    "id": "KAK483x6pMyD",
    "outputId": "26a52b7b-95a6-4b45-b8c0-f93bd0c80c66"
   },
   "outputs": [
    {
     "data": {
      "text/plain": [
       "Efeito 6, Efeito 7, Efeito 4, Efeito 3               0.014785\n",
       "Efeito 6, Efeito 7, Efeito 8, Efeito 4, Efeito 3     0.014747\n",
       "Efeito 6, Efeito 7, Efeito 8, Efeito 4               0.012257\n",
       "Efeito 7                                             0.010769\n",
       "Efeito 6, Efeito 2, Efeito 4, Efeito 3               0.009478\n",
       "                                                       ...   \n",
       "Efeito 3, Efeito 8, Efeito 1, Efeito 4, Efeito 7     0.000002\n",
       "Efeito 1, Efeito 8, Efeito 3, Efeito 4, Efeito 5     0.000002\n",
       "Efeito 4, Efeito 10, Efeito 2, Efeito 7, Efeito 1    0.000002\n",
       "Efeito 10, Efeito 3, Efeito 2, Efeito 4, Efeito 1    0.000002\n",
       "Efeito 8, Efeito 4, Efeito 10, Efeito 2, Efeito 7    0.000002\n",
       "Name: efeitos_desejados, Length: 11836, dtype: float64"
      ]
     },
     "execution_count": 55,
     "metadata": {},
     "output_type": "execute_result"
    }
   ],
   "source": [
    "data['efeitos_desejados'].value_counts(normalize=True, dropna=False)"
   ]
  },
  {
   "cell_type": "code",
   "execution_count": 56,
   "metadata": {
    "id": "mingNNGLpMyD"
   },
   "outputs": [],
   "source": [
    "# A coluna efeitos_desejados contém 10 categorias de 1 a 10 no formato \"Efeito 5\"\n",
    "# The column efeitos_desejados contains 10 categories from 1 to 10 in the \"Efeito 5\" format\n",
    "\n",
    "data['efeitos_desejados_modificado'] = data['efeitos_desejados'].fillna(value='Nenhum')\n",
    "\n",
    "for numero_efeito in range(1, 11):\n",
    "    data['efeitos_desejados ' + str(numero_efeito)] = data['efeitos_desejados_modificado'].apply(lambda x: 1 if ('Efeito ' + str(numero_efeito)) in x else 0)"
   ]
  },
  {
   "cell_type": "code",
   "execution_count": 57,
   "metadata": {
    "colab": {
     "base_uri": "https://localhost:8080/"
    },
    "executionInfo": {
     "elapsed": 14,
     "status": "ok",
     "timestamp": 1661286038791,
     "user": {
      "displayName": "Solano Jacon",
      "userId": "03193064938437592202"
     },
     "user_tz": 180
    },
    "id": "1h3crMAUpMyD",
    "outputId": "b186d225-1d8e-447b-bc14-4070f559e4bd"
   },
   "outputs": [
    {
     "data": {
      "text/plain": [
       "0                                       Efeito 7\n",
       "1                                       Efeito 7\n",
       "2                                       Efeito 7\n",
       "3                                       Efeito 7\n",
       "4                                       Efeito 1\n",
       "                           ...                  \n",
       "585467                                  Efeito 7\n",
       "585468              Efeito 7, Efeito 1, Efeito 5\n",
       "585469                                  Efeito 1\n",
       "585470    Efeito 7, Efeito 1, Efeito 5, Efeito 8\n",
       "585471                                  Efeito 8\n",
       "Name: efeitos_desejados, Length: 585472, dtype: object"
      ]
     },
     "execution_count": 57,
     "metadata": {},
     "output_type": "execute_result"
    }
   ],
   "source": [
    "data['efeitos_desejados']"
   ]
  },
  {
   "cell_type": "code",
   "execution_count": 58,
   "metadata": {
    "colab": {
     "base_uri": "https://localhost:8080/",
     "height": 424
    },
    "executionInfo": {
     "elapsed": 9,
     "status": "ok",
     "timestamp": 1661286038791,
     "user": {
      "displayName": "Solano Jacon",
      "userId": "03193064938437592202"
     },
     "user_tz": 180
    },
    "id": "jekLHeG6pMyD",
    "outputId": "162471bd-4bf1-4b31-b11a-5e690a6d4ec4"
   },
   "outputs": [
    {
     "data": {
      "text/html": [
       "<div>\n",
       "<style scoped>\n",
       "    .dataframe tbody tr th:only-of-type {\n",
       "        vertical-align: middle;\n",
       "    }\n",
       "\n",
       "    .dataframe tbody tr th {\n",
       "        vertical-align: top;\n",
       "    }\n",
       "\n",
       "    .dataframe thead th {\n",
       "        text-align: right;\n",
       "    }\n",
       "</style>\n",
       "<table border=\"1\" class=\"dataframe\">\n",
       "  <thead>\n",
       "    <tr style=\"text-align: right;\">\n",
       "      <th></th>\n",
       "      <th>efeitos_desejados 1</th>\n",
       "      <th>efeitos_desejados 2</th>\n",
       "      <th>efeitos_desejados 3</th>\n",
       "      <th>efeitos_desejados 4</th>\n",
       "      <th>efeitos_desejados 5</th>\n",
       "      <th>efeitos_desejados 6</th>\n",
       "      <th>efeitos_desejados 7</th>\n",
       "      <th>efeitos_desejados 8</th>\n",
       "      <th>efeitos_desejados 9</th>\n",
       "      <th>efeitos_desejados 10</th>\n",
       "    </tr>\n",
       "  </thead>\n",
       "  <tbody>\n",
       "    <tr>\n",
       "      <th>0</th>\n",
       "      <td>0</td>\n",
       "      <td>0</td>\n",
       "      <td>0</td>\n",
       "      <td>0</td>\n",
       "      <td>0</td>\n",
       "      <td>0</td>\n",
       "      <td>1</td>\n",
       "      <td>0</td>\n",
       "      <td>0</td>\n",
       "      <td>0</td>\n",
       "    </tr>\n",
       "    <tr>\n",
       "      <th>1</th>\n",
       "      <td>0</td>\n",
       "      <td>0</td>\n",
       "      <td>0</td>\n",
       "      <td>0</td>\n",
       "      <td>0</td>\n",
       "      <td>0</td>\n",
       "      <td>1</td>\n",
       "      <td>0</td>\n",
       "      <td>0</td>\n",
       "      <td>0</td>\n",
       "    </tr>\n",
       "    <tr>\n",
       "      <th>2</th>\n",
       "      <td>0</td>\n",
       "      <td>0</td>\n",
       "      <td>0</td>\n",
       "      <td>0</td>\n",
       "      <td>0</td>\n",
       "      <td>0</td>\n",
       "      <td>1</td>\n",
       "      <td>0</td>\n",
       "      <td>0</td>\n",
       "      <td>0</td>\n",
       "    </tr>\n",
       "    <tr>\n",
       "      <th>3</th>\n",
       "      <td>0</td>\n",
       "      <td>0</td>\n",
       "      <td>0</td>\n",
       "      <td>0</td>\n",
       "      <td>0</td>\n",
       "      <td>0</td>\n",
       "      <td>1</td>\n",
       "      <td>0</td>\n",
       "      <td>0</td>\n",
       "      <td>0</td>\n",
       "    </tr>\n",
       "    <tr>\n",
       "      <th>4</th>\n",
       "      <td>1</td>\n",
       "      <td>0</td>\n",
       "      <td>0</td>\n",
       "      <td>0</td>\n",
       "      <td>0</td>\n",
       "      <td>0</td>\n",
       "      <td>0</td>\n",
       "      <td>0</td>\n",
       "      <td>0</td>\n",
       "      <td>0</td>\n",
       "    </tr>\n",
       "    <tr>\n",
       "      <th>...</th>\n",
       "      <td>...</td>\n",
       "      <td>...</td>\n",
       "      <td>...</td>\n",
       "      <td>...</td>\n",
       "      <td>...</td>\n",
       "      <td>...</td>\n",
       "      <td>...</td>\n",
       "      <td>...</td>\n",
       "      <td>...</td>\n",
       "      <td>...</td>\n",
       "    </tr>\n",
       "    <tr>\n",
       "      <th>585467</th>\n",
       "      <td>0</td>\n",
       "      <td>0</td>\n",
       "      <td>0</td>\n",
       "      <td>0</td>\n",
       "      <td>0</td>\n",
       "      <td>0</td>\n",
       "      <td>1</td>\n",
       "      <td>0</td>\n",
       "      <td>0</td>\n",
       "      <td>0</td>\n",
       "    </tr>\n",
       "    <tr>\n",
       "      <th>585468</th>\n",
       "      <td>1</td>\n",
       "      <td>0</td>\n",
       "      <td>0</td>\n",
       "      <td>0</td>\n",
       "      <td>1</td>\n",
       "      <td>0</td>\n",
       "      <td>1</td>\n",
       "      <td>0</td>\n",
       "      <td>0</td>\n",
       "      <td>0</td>\n",
       "    </tr>\n",
       "    <tr>\n",
       "      <th>585469</th>\n",
       "      <td>1</td>\n",
       "      <td>0</td>\n",
       "      <td>0</td>\n",
       "      <td>0</td>\n",
       "      <td>0</td>\n",
       "      <td>0</td>\n",
       "      <td>0</td>\n",
       "      <td>0</td>\n",
       "      <td>0</td>\n",
       "      <td>0</td>\n",
       "    </tr>\n",
       "    <tr>\n",
       "      <th>585470</th>\n",
       "      <td>1</td>\n",
       "      <td>0</td>\n",
       "      <td>0</td>\n",
       "      <td>0</td>\n",
       "      <td>1</td>\n",
       "      <td>0</td>\n",
       "      <td>1</td>\n",
       "      <td>1</td>\n",
       "      <td>0</td>\n",
       "      <td>0</td>\n",
       "    </tr>\n",
       "    <tr>\n",
       "      <th>585471</th>\n",
       "      <td>0</td>\n",
       "      <td>0</td>\n",
       "      <td>0</td>\n",
       "      <td>0</td>\n",
       "      <td>0</td>\n",
       "      <td>0</td>\n",
       "      <td>0</td>\n",
       "      <td>1</td>\n",
       "      <td>0</td>\n",
       "      <td>0</td>\n",
       "    </tr>\n",
       "  </tbody>\n",
       "</table>\n",
       "<p>585472 rows × 10 columns</p>\n",
       "</div>"
      ],
      "text/plain": [
       "        efeitos_desejados 1  efeitos_desejados 2  efeitos_desejados 3  \\\n",
       "0                         0                    0                    0   \n",
       "1                         0                    0                    0   \n",
       "2                         0                    0                    0   \n",
       "3                         0                    0                    0   \n",
       "4                         1                    0                    0   \n",
       "...                     ...                  ...                  ...   \n",
       "585467                    0                    0                    0   \n",
       "585468                    1                    0                    0   \n",
       "585469                    1                    0                    0   \n",
       "585470                    1                    0                    0   \n",
       "585471                    0                    0                    0   \n",
       "\n",
       "        efeitos_desejados 4  efeitos_desejados 5  efeitos_desejados 6  \\\n",
       "0                         0                    0                    0   \n",
       "1                         0                    0                    0   \n",
       "2                         0                    0                    0   \n",
       "3                         0                    0                    0   \n",
       "4                         0                    0                    0   \n",
       "...                     ...                  ...                  ...   \n",
       "585467                    0                    0                    0   \n",
       "585468                    0                    1                    0   \n",
       "585469                    0                    0                    0   \n",
       "585470                    0                    1                    0   \n",
       "585471                    0                    0                    0   \n",
       "\n",
       "        efeitos_desejados 7  efeitos_desejados 8  efeitos_desejados 9  \\\n",
       "0                         1                    0                    0   \n",
       "1                         1                    0                    0   \n",
       "2                         1                    0                    0   \n",
       "3                         1                    0                    0   \n",
       "4                         0                    0                    0   \n",
       "...                     ...                  ...                  ...   \n",
       "585467                    1                    0                    0   \n",
       "585468                    1                    0                    0   \n",
       "585469                    0                    0                    0   \n",
       "585470                    1                    1                    0   \n",
       "585471                    0                    1                    0   \n",
       "\n",
       "        efeitos_desejados 10  \n",
       "0                          0  \n",
       "1                          0  \n",
       "2                          0  \n",
       "3                          0  \n",
       "4                          0  \n",
       "...                      ...  \n",
       "585467                     0  \n",
       "585468                     0  \n",
       "585469                     0  \n",
       "585470                     0  \n",
       "585471                     0  \n",
       "\n",
       "[585472 rows x 10 columns]"
      ]
     },
     "execution_count": 58,
     "metadata": {},
     "output_type": "execute_result"
    }
   ],
   "source": [
    "data.iloc[:, -10:]"
   ]
  },
  {
   "cell_type": "markdown",
   "metadata": {
    "id": "Nw4pZf6IpMyD"
   },
   "source": [
    "### Encoding"
   ]
  },
  {
   "cell_type": "markdown",
   "metadata": {
    "id": "_dX35YYCpMyE"
   },
   "source": [
    "**sistema_operacional**"
   ]
  },
  {
   "cell_type": "code",
   "execution_count": 59,
   "metadata": {
    "colab": {
     "base_uri": "https://localhost:8080/"
    },
    "executionInfo": {
     "elapsed": 9,
     "status": "ok",
     "timestamp": 1661286038792,
     "user": {
      "displayName": "Solano Jacon",
      "userId": "03193064938437592202"
     },
     "user_tz": 180
    },
    "id": "chYOPnMQpMyE",
    "outputId": "b5e4613c-1b17-4f72-d309-b8a610ee7db9"
   },
   "outputs": [
    {
     "data": {
      "text/plain": [
       "array(['iOS', 'Windows', 'Android', 'Mac OS', 'Linux', ' ChromeOS'],\n",
       "      dtype=object)"
      ]
     },
     "execution_count": 59,
     "metadata": {},
     "output_type": "execute_result"
    }
   ],
   "source": [
    "data['sistema_operacional'].unique()"
   ]
  },
  {
   "cell_type": "code",
   "execution_count": 60,
   "metadata": {
    "id": "TxjhNeNLpMyE"
   },
   "outputs": [],
   "source": [
    "feature_to_encode = 'sistema_operacional'\n",
    "ohe = OneHotEncoder(sparse=False)\n",
    "column_encoded = ohe.fit_transform(data[[feature_to_encode]])\n",
    "data[feature_to_encode + '_e_' + ohe.categories_[0]] = column_encoded"
   ]
  },
  {
   "cell_type": "code",
   "execution_count": 61,
   "metadata": {
    "colab": {
     "base_uri": "https://localhost:8080/"
    },
    "executionInfo": {
     "elapsed": 13,
     "status": "ok",
     "timestamp": 1661286039220,
     "user": {
      "displayName": "Solano Jacon",
      "userId": "03193064938437592202"
     },
     "user_tz": 180
    },
    "id": "tTjPIDCapMyE",
    "outputId": "53dbe30d-8cf5-4bfd-fd94-2b8511eda3f0"
   },
   "outputs": [
    {
     "data": {
      "text/plain": [
       "[array([' ChromeOS', 'Android', 'Linux', 'Mac OS', 'Windows', 'iOS'],\n",
       "       dtype=object)]"
      ]
     },
     "execution_count": 61,
     "metadata": {},
     "output_type": "execute_result"
    }
   ],
   "source": [
    "ohe.categories_"
   ]
  },
  {
   "cell_type": "code",
   "execution_count": 62,
   "metadata": {
    "colab": {
     "base_uri": "https://localhost:8080/"
    },
    "executionInfo": {
     "elapsed": 9,
     "status": "ok",
     "timestamp": 1661286039220,
     "user": {
      "displayName": "Solano Jacon",
      "userId": "03193064938437592202"
     },
     "user_tz": 180
    },
    "id": "hlRM2lNqpMyE",
    "outputId": "1d39881f-f914-4eef-d3e1-90f998eb0e4f"
   },
   "outputs": [
    {
     "data": {
      "text/plain": [
       "Index(['id_form', 'id_cliente', 'data', 'sistema_operacional', 'navegador',\n",
       "       'localizacao', 'locale', 'cidade', 'estado', 'qtde_lavagem_semana',\n",
       "       'utm_source', 'tipo_cabelo', 'comprimento', 'tipo_fios',\n",
       "       'procedimentos', 'tempo_procedimento', 'dieta', 'atividade_fisica',\n",
       "       'frequencia_estresse', 'caracteristica', 'faixa_etaria',\n",
       "       'efeitos_desejados', 'fragancia', 'id_pedido', 'id', 'pedido',\n",
       "       'tempo_procedimento_quantificado', 'faixa_etaria_quantificado',\n",
       "       'procedimento Corte agressivo', 'procedimento Exposição ao sol',\n",
       "       'procedimento Nenhum', 'procedimento N/C', 'procedimento Tintura',\n",
       "       'procedimento Todos acima', 'caracteristica 1', 'caracteristica 2',\n",
       "       'caracteristica 3', 'caracteristica 4', 'caracteristica 5',\n",
       "       'caracteristica 6', 'caracteristica 7', 'caracteristica 8',\n",
       "       'caracteristica 9', 'caracteristica 10', 'efeitos_desejados_modificado',\n",
       "       'efeitos_desejados 1', 'efeitos_desejados 2', 'efeitos_desejados 3',\n",
       "       'efeitos_desejados 4', 'efeitos_desejados 5', 'efeitos_desejados 6',\n",
       "       'efeitos_desejados 7', 'efeitos_desejados 8', 'efeitos_desejados 9',\n",
       "       'efeitos_desejados 10', 'sistema_operacional_e_ ChromeOS',\n",
       "       'sistema_operacional_e_Android', 'sistema_operacional_e_Linux',\n",
       "       'sistema_operacional_e_Mac OS', 'sistema_operacional_e_Windows',\n",
       "       'sistema_operacional_e_iOS'],\n",
       "      dtype='object')"
      ]
     },
     "execution_count": 62,
     "metadata": {},
     "output_type": "execute_result"
    }
   ],
   "source": [
    "data.columns"
   ]
  },
  {
   "cell_type": "markdown",
   "metadata": {
    "id": "HWXPyV93pMyE"
   },
   "source": [
    "**estado**"
   ]
  },
  {
   "cell_type": "code",
   "execution_count": 63,
   "metadata": {
    "colab": {
     "base_uri": "https://localhost:8080/"
    },
    "executionInfo": {
     "elapsed": 6,
     "status": "ok",
     "timestamp": 1661286039220,
     "user": {
      "displayName": "Solano Jacon",
      "userId": "03193064938437592202"
     },
     "user_tz": 180
    },
    "id": "U1dn5lespMyE",
    "outputId": "a825287a-cc3a-456b-a272-d1230e8ea30f"
   },
   "outputs": [
    {
     "data": {
      "text/plain": [
       "array([' SAO PAULO', ' ENGLAND', ' SANTA CATARINA', ' ALAGOAS', ' CEARA',\n",
       "       ' BAHIA', ' PIAUI', ' QUEBEC', ' PARANA', ' AMAZONAS', ' NULL',\n",
       "       ' RIO DE JANEIRO', ' PERNAMBUCO', ' MATO GROSSO', ' MINAS GERAIS',\n",
       "       ' TOCANTINS', ' PARA', ' RIO GRANDE DO SUL',\n",
       "       ' RIO GRANDE DO NORTE', ' GOIAS', ' VIRGINIA', ' FEDERAL DISTRICT',\n",
       "       ' RONDONIA', ' SERGIPE', ' MARANHAO', ' AMAPA', ' PARAÍBA',\n",
       "       ' TEXAS', ' ESPIRITO SANTO', \" PROVENCE-ALPES-CÔTE D'AZUR\",\n",
       "       ' MATO GROSSO DO SUL', ' RORAIMA', ' DEPARTAMENTO DE CAAGUAZU',\n",
       "       ' ACRE', ' PORTO', ' DEPARTAMENTO DE MISIONES',\n",
       "       ' NORTH RHINE-WESTPHALIA', ' NEW YORK', ' CONNECTICUT', ' LEIRIA',\n",
       "       ' LISBON', ' BRITISH COLUMBIA', ' SANTIAGO METROPOLITAN',\n",
       "       ' MADRID', ' FLANDERS', ' APULIA', ' AICHI', ' BASQUE COUNTRY',\n",
       "       ' OHIO', ' DEPARTAMENTO DEL MAGDALENA', ' BRAGA',\n",
       "       ' DEPARTAMENTO DEL ALTO PARANA', ' GIZA', ' WISCONSIN', ' ÉVORA',\n",
       "       ' VIANA DO CASTELO', ' CASTELO BRANCO', ' DEPARTAMENTO DE LA PAZ',\n",
       "       ' THURINGIA', ' AUVERGNE-RHONE-ALPES', ' LOMBARDY', ' VALENCIA',\n",
       "       ' MASSACHUSETTS', ' DISTRICT OF SETÚBAL', ' MADRE DE DIOS',\n",
       "       ' WASHINGTON', ' MICHIGAN', ' DEPARTAMENTO DE MONTEVIDEO',\n",
       "       ' GEORGIA', ' VISEU', ' NEW JERSEY', ' LIMA', ' LEINSTER',\n",
       "       ' HAMBURG', ' CATALONIA', ' SANTARÉM', ' SARDINIA',\n",
       "       ' EMILIA-ROMAGNA', ' SALTA', ' RHODE ISLAND', ' SONGKHLA',\n",
       "       ' UUSIMAA', ' ZURICH', ' BADEN-WÜRTTEMBERG', ' MADEIRA', ' GENEVA',\n",
       "       ' MIE', ' FARO', ' WESTERN AUSTRALIA', ' BAVARIA',\n",
       "       ' BUENOS AIRES F.D.', ' ONTARIO', ' DUBAI', ' LAND BERLIN',\n",
       "       ' COLORADO', ' VIKEN', ' ÎLE-DE-FRANCE', ' DEPARTAMENTO DE PANDO',\n",
       "       ' BRUSSELS CAPITAL', ' FLORIDA', ' CIDADE DE MAPUTO',\n",
       "       ' NEW PROVIDENCE DISTRICT', ' CORDOBA', ' BRITTANY', ' ANDALUSIA',\n",
       "       ' VICTORIA', ' BOGOTA D.C.', ' DEPARTAMENTO DE SALTO',\n",
       "       ' NEW SOUTH WALES', ' AARGAU', ' ÑUBLE', ' ALBERTA', ' MALDONADO',\n",
       "       ' CALIFORNIA', ' HYOGO', ' NORTH DENMARK', ' PENNSYLVANIA',\n",
       "       ' AZORES', ' AVEIRO', ' COIMBRA', ' CANTERBURY',\n",
       "       ' MECKLENBURG-VORPOMMERN', ' BERN', ' VERMONT',\n",
       "       ' PAYS DE LA LOIRE', ' ALABAMA', ' NEW HAMPSHIRE', ' PORTALEGRE',\n",
       "       ' ASUNCION', ' MISSISSIPPI', ' NEUQUEN', ' SHIZUOKA', ' UTAH',\n",
       "       ' SOUTH CAROLINA', ' DEPARTAMENTO DE ROCHA', ' SAINT GALLEN',\n",
       "       ' HESSE', ' TOYAMA', ' NORTH CAROLINA', ' SHIMANE', ' BRAGANÇA',\n",
       "       ' OSAKA', ' DEPARTAMENTO DE MASAYA', ' ANTIOQUIA',\n",
       "       ' DEMERARA-MAHAICA REGION', ' OKLAHOMA', ' REGION DEL BIOBIO',\n",
       "       ' MEXICO CITY', ' CAMPANIA', ' ORDINO', ' MOSTEIROS', ' DELAWARE',\n",
       "       ' CASTILLE AND LEÓN', ' SANTA FE', ' CENTRAL JUTLAND', ' GALICIA',\n",
       "       ' DEPARTAMENTO DE CANINDEYU', ' AL ASIMAH', ' SKÅNE COUNTY',\n",
       "       ' RIYADH REGION', ' BALEARIC ISLANDS', ' HLAVNI MESTO PRAHA',\n",
       "       ' TARXIEN', ' SUD', ' CANELONES', ' LUXEMBOURG', ' BUDAPEST',\n",
       "       ' CENTRE-VAL DE LOIRE', ' LATIUM', ' GELDERLAND', ' ATTICA',\n",
       "       ' NUEVO LEÓN', ' DRENTHE', ' MISSOURI', ' TEL AVIV',\n",
       "       ' CERRO LARGO', ' LOWER SAXONY', ' MUNSTER', ' VILA REAL', ' BEJA',\n",
       "       ' ILLINOIS', ' PIEDMONT', ' TENNESSEE', ' NORTH HOLLAND',\n",
       "       ' ABU DHABI', ' BAJA CALIFORNIA', ' ARIZONA', ' GAUTENG',\n",
       "       ' DEPARTAMENTO CENTRAL', ' MARYLAND', ' MÉXICO', ' FRIBOURG',\n",
       "       ' SOUTHWEST FINLAND', ' OCCITANIE', ' OVERIJSSEL', ' MISIONES',\n",
       "       ' DEPARTAMENTO DE LA CORDILLERA', ' VENETO', ' MANITOBA',\n",
       "       ' PUNJAB', ' PROVINCIA DUARTE', ' DEPARTAMENTO DE SANTA CRUZ',\n",
       "       ' NORTH DAKOTA', ' DISTRICT OF COLUMBIA', ' SOUTH AUSTRALIA',\n",
       "       ' CITY OF FREEPORT DISTRICT', ' SHIGA', ' QUERÉTARO',\n",
       "       ' DEPARTAMENTO DE CASANARE', ' QUEENSLAND', ' YUCATÁN',\n",
       "       ' PROVINCIA DE SAN JOSE', ' NOUVELLE-AQUITAINE', ' CANARY ISLANDS',\n",
       "       ' NORTHERN IRELAND', ' NEVADA', ' HAUTS-DE-FRANCE', ' LA MASSANA',\n",
       "       ' BUENOS AIRES', ' ISLAMABAD', ' LUANDA PROVINCE',\n",
       "       ' SOUTH HOLLAND', nan, ' CALABRIA', ' GUARDA',\n",
       "       ' DEPARTAMENTO DEL AMAMBAY', ' KAUNAS', ' NOVA SCOTIA', ' VAUD',\n",
       "       ' ARAGON', ' SICILY', ' CENTRAL MACEDONIA', ' CORRIENTES',\n",
       "       ' ZEELAND', ' PEST MEGYE', ' WALLONIA', ' LAZIO',\n",
       "       ' DEPARTAMENTO DE SAN JOSE', ' TOKYO', ' TRENTINO-ALTO ADIGE',\n",
       "       ' LOUISIANA', ' DEPARTAMENTO DE ITAPUA', ' ATLÁNTICO', ' TUSCANY',\n",
       "       ' TROMS OG FINNMARK', ' OBCINA LASKO', ' ESCH-SUR-ALZETTE',\n",
       "       ' RHEINLAND-PFALZ', ' SEOUL', ' MINNESOTA', ' BRATISLAVA',\n",
       "       ' CASTILLE-LA MANCHA', ' DISTRIKT PARAMARIBO', ' STOCKHOLM COUNTY',\n",
       "       ' UTRECHT', ' ZULIA', ' SAITAMA', ' PROVINCIA DE PANAMA',\n",
       "       ' OREGON', ' EXTREMADURA', ' DEPARTAMENTO DEL META',\n",
       "       ' NORTH BRABANT', ' AUCKLAND', ' GYEONGGI-DO', ' PHUKET', ' JURA',\n",
       "       ' SCOTLAND', ' DEPARTAMENTO DE RIO NEGRO', ' HAIFA',\n",
       "       ' CAPITAL REGION', ' HAWAII', ' FUKUOKA', ' SÖDERMANLAND COUNTY',\n",
       "       ' CONNAUGHT', ' DEPARTAMENTO DE SANTANDER',\n",
       "       ' DEPARTAMENTO DE COCHABAMBA', ' CENTRAL LUZON', ' ENTRE RIOS',\n",
       "       ' NORMANDY', ' NEUCHÂTEL', ' FUKUI', ' BALADIYAT AD DAWHAH',\n",
       "       ' PROVINCIA DE COLON', ' SELANGOR', ' BICOL', ' VALLETTA',\n",
       "       ' WALES', ' DEPARTAMENTO DE PRESIDENTE HAYES',\n",
       "       ' DEPARTAMENTO DE SUCRE', ' RAZGRAD', ' DEPARTAMENTO DE PARAGUARI',\n",
       "       ' LA RIOJA', ' SCHAFFHAUSEN', ' ABRUZZO',\n",
       "       ' DEPARTAMENTO DE NEEMBUCU', ' REGION DE VALPARAISO',\n",
       "       ' ILES DU VENT', ' CAJAMARCA', ' COAHUILA', ' BARANYA', ' GABU',\n",
       "       ' CHIHUAHUA', ' PUEBLA', ' OSLO COUNTY', ' ULSTER', ' MIYAGI',\n",
       "       ' IN-NAXXAR', ' TRØNDELAG', ' BAFATA', ' RIO NEGRO', ' CARABOBO',\n",
       "       ' DEPARTAMENTO DE RISARALDA', ' QUINTANA ROO', ' JALISCO',\n",
       "       ' VESTFOLD OG TELEMARK', ' PROVINCIA DE PICHINCHA', ' GRAND EST',\n",
       "       ' FREE AND HANSEATIC CITY OF HAMBURG', ' OBWALDEN', ' IDAHO',\n",
       "       ' MUSCAT', ' NEW BRUNSWICK', ' ESTUAIRE', ' TELANGANA',\n",
       "       ' DEPARTAMENTO DEL GUAIRA', ' PROVINCIA DE SANTO DOMINGO',\n",
       "       ' SINDH', ' CENTRAL VISAYAS'], dtype=object)"
      ]
     },
     "execution_count": 63,
     "metadata": {},
     "output_type": "execute_result"
    }
   ],
   "source": [
    "data['estado'].unique()"
   ]
  },
  {
   "cell_type": "code",
   "execution_count": 64,
   "metadata": {
    "id": "ydKFI3hbh_15"
   },
   "outputs": [],
   "source": [
    "data['estado_modificado'] = data['estado'].fillna(value='SEM PREENCHIMENTO')"
   ]
  },
  {
   "cell_type": "code",
   "execution_count": 65,
   "metadata": {
    "id": "ryy84FLWpMyF"
   },
   "outputs": [],
   "source": [
    "feature_to_encode = 'estado_modificado'\n",
    "ohe = OneHotEncoder(sparse=False)\n",
    "column_encoded = ohe.fit_transform(data[[feature_to_encode]])\n",
    "data[feature_to_encode + '_e_' + ohe.categories_[0]] = column_encoded"
   ]
  },
  {
   "cell_type": "code",
   "execution_count": 66,
   "metadata": {
    "colab": {
     "base_uri": "https://localhost:8080/"
    },
    "executionInfo": {
     "elapsed": 19,
     "status": "ok",
     "timestamp": 1661286043024,
     "user": {
      "displayName": "Solano Jacon",
      "userId": "03193064938437592202"
     },
     "user_tz": 180
    },
    "id": "ecuy-BJ2dtHq",
    "outputId": "6c9327dc-4a69-490c-b393-6a79a3a04dec"
   },
   "outputs": [
    {
     "data": {
      "text/plain": [
       "array([' AARGAU', ' ABRUZZO', ' ABU DHABI', ' ACRE', ' AICHI',\n",
       "       ' AL ASIMAH', ' ALABAMA', ' ALAGOAS', ' ALBERTA', ' AMAPA',\n",
       "       ' AMAZONAS', ' ANDALUSIA', ' ANTIOQUIA', ' APULIA', ' ARAGON',\n",
       "       ' ARIZONA', ' ASUNCION', ' ATLÁNTICO', ' ATTICA', ' AUCKLAND',\n",
       "       ' AUVERGNE-RHONE-ALPES', ' AVEIRO', ' AZORES',\n",
       "       ' BADEN-WÜRTTEMBERG', ' BAFATA', ' BAHIA', ' BAJA CALIFORNIA',\n",
       "       ' BALADIYAT AD DAWHAH', ' BALEARIC ISLANDS', ' BARANYA',\n",
       "       ' BASQUE COUNTRY', ' BAVARIA', ' BEJA', ' BERN', ' BICOL',\n",
       "       ' BOGOTA D.C.', ' BRAGA', ' BRAGANÇA', ' BRATISLAVA',\n",
       "       ' BRITISH COLUMBIA', ' BRITTANY', ' BRUSSELS CAPITAL', ' BUDAPEST',\n",
       "       ' BUENOS AIRES', ' BUENOS AIRES F.D.', ' CAJAMARCA', ' CALABRIA',\n",
       "       ' CALIFORNIA', ' CAMPANIA', ' CANARY ISLANDS', ' CANELONES',\n",
       "       ' CANTERBURY', ' CAPITAL REGION', ' CARABOBO', ' CASTELO BRANCO',\n",
       "       ' CASTILLE AND LEÓN', ' CASTILLE-LA MANCHA', ' CATALONIA',\n",
       "       ' CEARA', ' CENTRAL JUTLAND', ' CENTRAL LUZON',\n",
       "       ' CENTRAL MACEDONIA', ' CENTRAL VISAYAS', ' CENTRE-VAL DE LOIRE',\n",
       "       ' CERRO LARGO', ' CHIHUAHUA', ' CIDADE DE MAPUTO',\n",
       "       ' CITY OF FREEPORT DISTRICT', ' COAHUILA', ' COIMBRA', ' COLORADO',\n",
       "       ' CONNAUGHT', ' CONNECTICUT', ' CORDOBA', ' CORRIENTES',\n",
       "       ' DELAWARE', ' DEMERARA-MAHAICA REGION', ' DEPARTAMENTO CENTRAL',\n",
       "       ' DEPARTAMENTO DE CAAGUAZU', ' DEPARTAMENTO DE CANINDEYU',\n",
       "       ' DEPARTAMENTO DE CASANARE', ' DEPARTAMENTO DE COCHABAMBA',\n",
       "       ' DEPARTAMENTO DE ITAPUA', ' DEPARTAMENTO DE LA CORDILLERA',\n",
       "       ' DEPARTAMENTO DE LA PAZ', ' DEPARTAMENTO DE MASAYA',\n",
       "       ' DEPARTAMENTO DE MISIONES', ' DEPARTAMENTO DE MONTEVIDEO',\n",
       "       ' DEPARTAMENTO DE NEEMBUCU', ' DEPARTAMENTO DE PANDO',\n",
       "       ' DEPARTAMENTO DE PARAGUARI', ' DEPARTAMENTO DE PRESIDENTE HAYES',\n",
       "       ' DEPARTAMENTO DE RIO NEGRO', ' DEPARTAMENTO DE RISARALDA',\n",
       "       ' DEPARTAMENTO DE ROCHA', ' DEPARTAMENTO DE SALTO',\n",
       "       ' DEPARTAMENTO DE SAN JOSE', ' DEPARTAMENTO DE SANTA CRUZ',\n",
       "       ' DEPARTAMENTO DE SANTANDER', ' DEPARTAMENTO DE SUCRE',\n",
       "       ' DEPARTAMENTO DEL ALTO PARANA', ' DEPARTAMENTO DEL AMAMBAY',\n",
       "       ' DEPARTAMENTO DEL GUAIRA', ' DEPARTAMENTO DEL MAGDALENA',\n",
       "       ' DEPARTAMENTO DEL META', ' DISTRICT OF COLUMBIA',\n",
       "       ' DISTRICT OF SETÚBAL', ' DISTRIKT PARAMARIBO', ' DRENTHE',\n",
       "       ' DUBAI', ' EMILIA-ROMAGNA', ' ENGLAND', ' ENTRE RIOS',\n",
       "       ' ESCH-SUR-ALZETTE', ' ESPIRITO SANTO', ' ESTUAIRE',\n",
       "       ' EXTREMADURA', ' FARO', ' FEDERAL DISTRICT', ' FLANDERS',\n",
       "       ' FLORIDA', ' FREE AND HANSEATIC CITY OF HAMBURG', ' FRIBOURG',\n",
       "       ' FUKUI', ' FUKUOKA', ' GABU', ' GALICIA', ' GAUTENG',\n",
       "       ' GELDERLAND', ' GENEVA', ' GEORGIA', ' GIZA', ' GOIAS',\n",
       "       ' GRAND EST', ' GUARDA', ' GYEONGGI-DO', ' HAIFA', ' HAMBURG',\n",
       "       ' HAUTS-DE-FRANCE', ' HAWAII', ' HESSE', ' HLAVNI MESTO PRAHA',\n",
       "       ' HYOGO', ' IDAHO', ' ILES DU VENT', ' ILLINOIS', ' IN-NAXXAR',\n",
       "       ' ISLAMABAD', ' JALISCO', ' JURA', ' KAUNAS', ' LA MASSANA',\n",
       "       ' LA RIOJA', ' LAND BERLIN', ' LATIUM', ' LAZIO', ' LEINSTER',\n",
       "       ' LEIRIA', ' LIMA', ' LISBON', ' LOMBARDY', ' LOUISIANA',\n",
       "       ' LOWER SAXONY', ' LUANDA PROVINCE', ' LUXEMBOURG', ' MADEIRA',\n",
       "       ' MADRE DE DIOS', ' MADRID', ' MALDONADO', ' MANITOBA',\n",
       "       ' MARANHAO', ' MARYLAND', ' MASSACHUSETTS', ' MATO GROSSO',\n",
       "       ' MATO GROSSO DO SUL', ' MECKLENBURG-VORPOMMERN', ' MEXICO CITY',\n",
       "       ' MICHIGAN', ' MIE', ' MINAS GERAIS', ' MINNESOTA', ' MISIONES',\n",
       "       ' MISSISSIPPI', ' MISSOURI', ' MIYAGI', ' MOSTEIROS', ' MUNSTER',\n",
       "       ' MUSCAT', ' MÉXICO', ' NEUCHÂTEL', ' NEUQUEN', ' NEVADA',\n",
       "       ' NEW BRUNSWICK', ' NEW HAMPSHIRE', ' NEW JERSEY',\n",
       "       ' NEW PROVIDENCE DISTRICT', ' NEW SOUTH WALES', ' NEW YORK',\n",
       "       ' NORMANDY', ' NORTH BRABANT', ' NORTH CAROLINA', ' NORTH DAKOTA',\n",
       "       ' NORTH DENMARK', ' NORTH HOLLAND', ' NORTH RHINE-WESTPHALIA',\n",
       "       ' NORTHERN IRELAND', ' NOUVELLE-AQUITAINE', ' NOVA SCOTIA',\n",
       "       ' NUEVO LEÓN', ' NULL', ' OBCINA LASKO', ' OBWALDEN', ' OCCITANIE',\n",
       "       ' OHIO', ' OKLAHOMA', ' ONTARIO', ' ORDINO', ' OREGON', ' OSAKA',\n",
       "       ' OSLO COUNTY', ' OVERIJSSEL', ' PARA', ' PARANA', ' PARAÍBA',\n",
       "       ' PAYS DE LA LOIRE', ' PENNSYLVANIA', ' PERNAMBUCO', ' PEST MEGYE',\n",
       "       ' PHUKET', ' PIAUI', ' PIEDMONT', ' PORTALEGRE', ' PORTO',\n",
       "       \" PROVENCE-ALPES-CÔTE D'AZUR\", ' PROVINCIA DE COLON',\n",
       "       ' PROVINCIA DE PANAMA', ' PROVINCIA DE PICHINCHA',\n",
       "       ' PROVINCIA DE SAN JOSE', ' PROVINCIA DE SANTO DOMINGO',\n",
       "       ' PROVINCIA DUARTE', ' PUEBLA', ' PUNJAB', ' QUEBEC',\n",
       "       ' QUEENSLAND', ' QUERÉTARO', ' QUINTANA ROO', ' RAZGRAD',\n",
       "       ' REGION DE VALPARAISO', ' REGION DEL BIOBIO', ' RHEINLAND-PFALZ',\n",
       "       ' RHODE ISLAND', ' RIO DE JANEIRO', ' RIO GRANDE DO NORTE',\n",
       "       ' RIO GRANDE DO SUL', ' RIO NEGRO', ' RIYADH REGION', ' RONDONIA',\n",
       "       ' RORAIMA', ' SAINT GALLEN', ' SAITAMA', ' SALTA',\n",
       "       ' SANTA CATARINA', ' SANTA FE', ' SANTARÉM',\n",
       "       ' SANTIAGO METROPOLITAN', ' SAO PAULO', ' SARDINIA',\n",
       "       ' SCHAFFHAUSEN', ' SCOTLAND', ' SELANGOR', ' SEOUL', ' SERGIPE',\n",
       "       ' SHIGA', ' SHIMANE', ' SHIZUOKA', ' SICILY', ' SINDH',\n",
       "       ' SKÅNE COUNTY', ' SONGKHLA', ' SOUTH AUSTRALIA',\n",
       "       ' SOUTH CAROLINA', ' SOUTH HOLLAND', ' SOUTHWEST FINLAND',\n",
       "       ' STOCKHOLM COUNTY', ' SUD', ' SÖDERMANLAND COUNTY', ' TARXIEN',\n",
       "       ' TEL AVIV', ' TELANGANA', ' TENNESSEE', ' TEXAS', ' THURINGIA',\n",
       "       ' TOCANTINS', ' TOKYO', ' TOYAMA', ' TRENTINO-ALTO ADIGE',\n",
       "       ' TROMS OG FINNMARK', ' TRØNDELAG', ' TUSCANY', ' ULSTER', ' UTAH',\n",
       "       ' UTRECHT', ' UUSIMAA', ' VALENCIA', ' VALLETTA', ' VAUD',\n",
       "       ' VENETO', ' VERMONT', ' VESTFOLD OG TELEMARK',\n",
       "       ' VIANA DO CASTELO', ' VICTORIA', ' VIKEN', ' VILA REAL',\n",
       "       ' VIRGINIA', ' VISEU', ' WALES', ' WALLONIA', ' WASHINGTON',\n",
       "       ' WESTERN AUSTRALIA', ' WISCONSIN', ' YUCATÁN', ' ZEELAND',\n",
       "       ' ZULIA', ' ZURICH', ' ÉVORA', ' ÎLE-DE-FRANCE', ' ÑUBLE',\n",
       "       'SEM PREENCHIMENTO'], dtype=object)"
      ]
     },
     "execution_count": 66,
     "metadata": {},
     "output_type": "execute_result"
    }
   ],
   "source": [
    "ohe.categories_[0]"
   ]
  },
  {
   "cell_type": "code",
   "execution_count": 67,
   "metadata": {
    "colab": {
     "base_uri": "https://localhost:8080/"
    },
    "executionInfo": {
     "elapsed": 18,
     "status": "ok",
     "timestamp": 1661286043024,
     "user": {
      "displayName": "Solano Jacon",
      "userId": "03193064938437592202"
     },
     "user_tz": 180
    },
    "id": "jVia5eiwpMyF",
    "outputId": "f37aaf1a-c282-4655-d19e-a0c744ffa717"
   },
   "outputs": [
    {
     "data": {
      "text/plain": [
       "Index(['id_form', 'id_cliente', 'data', 'sistema_operacional', 'navegador',\n",
       "       'localizacao', 'locale', 'cidade', 'estado', 'qtde_lavagem_semana',\n",
       "       ...\n",
       "       'estado_modificado_e_ WESTERN AUSTRALIA',\n",
       "       'estado_modificado_e_ WISCONSIN', 'estado_modificado_e_ YUCATÁN',\n",
       "       'estado_modificado_e_ ZEELAND', 'estado_modificado_e_ ZULIA',\n",
       "       'estado_modificado_e_ ZURICH', 'estado_modificado_e_ ÉVORA',\n",
       "       'estado_modificado_e_ ÎLE-DE-FRANCE', 'estado_modificado_e_ ÑUBLE',\n",
       "       'estado_modificado_e_SEM PREENCHIMENTO'],\n",
       "      dtype='object', length=390)"
      ]
     },
     "execution_count": 67,
     "metadata": {},
     "output_type": "execute_result"
    }
   ],
   "source": [
    "data.columns"
   ]
  },
  {
   "cell_type": "markdown",
   "metadata": {
    "id": "bF4i-prIpMyF"
   },
   "source": [
    "**utm_source**"
   ]
  },
  {
   "cell_type": "code",
   "execution_count": 68,
   "metadata": {
    "colab": {
     "base_uri": "https://localhost:8080/"
    },
    "executionInfo": {
     "elapsed": 14,
     "status": "ok",
     "timestamp": 1661286043025,
     "user": {
      "displayName": "Solano Jacon",
      "userId": "03193064938437592202"
     },
     "user_tz": 180
    },
    "id": "QmJC4jsUpMyF",
    "outputId": "84bd61b1-664a-4988-e972-e03aa7f75a0c"
   },
   "outputs": [
    {
     "data": {
      "text/plain": [
       "array([nan, 'facebook', 'linktree', 'influencer', 'IGShopping', 'tiktok',\n",
       "       'sf_wpp_flux', 'google', 'instagram', 'incicacao', 'sf_wpp_camp',\n",
       "       'sf_email_camp', 'adwords', 'sf_email_flux', 'site',\n",
       "       'Facebook ads ', 'microinfluencer', 'meliuz', 'sms', 'whatsapp',\n",
       "       'sendinblue', 'telegram', 'salesforce', 'email', 'rakuten', 'cpc',\n",
       "       'sf_wpp_flu', 'copy_link', 'email_sf', 'blog', 'facebook ',\n",
       "       'sf_sms_camp', 'santander', 'all', 'uaubox', 'teste_source',\n",
       "       'popup', 'sf_camp_email', 'sf_'], dtype=object)"
      ]
     },
     "execution_count": 68,
     "metadata": {},
     "output_type": "execute_result"
    }
   ],
   "source": [
    "data['utm_source'].unique()"
   ]
  },
  {
   "cell_type": "code",
   "execution_count": 69,
   "metadata": {
    "id": "sZQrw5_Ajk8t"
   },
   "outputs": [],
   "source": [
    "data['utm_source_modificado'] = data['utm_source'].fillna(value='SEM PREENCHIMENTO')"
   ]
  },
  {
   "cell_type": "code",
   "execution_count": 70,
   "metadata": {
    "id": "_6OlTtMSpMyF"
   },
   "outputs": [],
   "source": [
    "feature_to_encode = 'utm_source_modificado'\n",
    "ohe = OneHotEncoder(sparse=False)\n",
    "column_encoded = ohe.fit_transform(data[[feature_to_encode]])\n",
    "data[feature_to_encode + '_e_' + ohe.categories_[0]] = column_encoded"
   ]
  },
  {
   "cell_type": "code",
   "execution_count": 71,
   "metadata": {
    "colab": {
     "base_uri": "https://localhost:8080/"
    },
    "executionInfo": {
     "elapsed": 11,
     "status": "ok",
     "timestamp": 1661286044353,
     "user": {
      "displayName": "Solano Jacon",
      "userId": "03193064938437592202"
     },
     "user_tz": 180
    },
    "id": "l_P7Q-P_pMyG",
    "outputId": "b27b1357-6700-454e-a06d-676e36a70411"
   },
   "outputs": [
    {
     "data": {
      "text/plain": [
       "[array(['Facebook ads ', 'IGShopping', 'SEM PREENCHIMENTO', 'adwords',\n",
       "        'all', 'blog', 'copy_link', 'cpc', 'email', 'email_sf', 'facebook',\n",
       "        'facebook ', 'google', 'incicacao', 'influencer', 'instagram',\n",
       "        'linktree', 'meliuz', 'microinfluencer', 'popup', 'rakuten',\n",
       "        'salesforce', 'santander', 'sendinblue', 'sf_', 'sf_camp_email',\n",
       "        'sf_email_camp', 'sf_email_flux', 'sf_sms_camp', 'sf_wpp_camp',\n",
       "        'sf_wpp_flu', 'sf_wpp_flux', 'site', 'sms', 'telegram',\n",
       "        'teste_source', 'tiktok', 'uaubox', 'whatsapp'], dtype=object)]"
      ]
     },
     "execution_count": 71,
     "metadata": {},
     "output_type": "execute_result"
    }
   ],
   "source": [
    "ohe.categories_"
   ]
  },
  {
   "cell_type": "code",
   "execution_count": 72,
   "metadata": {
    "colab": {
     "base_uri": "https://localhost:8080/"
    },
    "executionInfo": {
     "elapsed": 9,
     "status": "ok",
     "timestamp": 1661286044353,
     "user": {
      "displayName": "Solano Jacon",
      "userId": "03193064938437592202"
     },
     "user_tz": 180
    },
    "id": "w2kugiGZpMyG",
    "outputId": "e19f22c5-a660-4e74-b44e-16f0922b2f99"
   },
   "outputs": [
    {
     "data": {
      "text/plain": [
       "Index(['id_form', 'id_cliente', 'data', 'sistema_operacional', 'navegador',\n",
       "       'localizacao', 'locale', 'cidade', 'estado', 'qtde_lavagem_semana',\n",
       "       ...\n",
       "       'utm_source_modificado_e_sf_wpp_camp',\n",
       "       'utm_source_modificado_e_sf_wpp_flu',\n",
       "       'utm_source_modificado_e_sf_wpp_flux', 'utm_source_modificado_e_site',\n",
       "       'utm_source_modificado_e_sms', 'utm_source_modificado_e_telegram',\n",
       "       'utm_source_modificado_e_teste_source',\n",
       "       'utm_source_modificado_e_tiktok', 'utm_source_modificado_e_uaubox',\n",
       "       'utm_source_modificado_e_whatsapp'],\n",
       "      dtype='object', length=430)"
      ]
     },
     "execution_count": 72,
     "metadata": {},
     "output_type": "execute_result"
    }
   ],
   "source": [
    "data.columns"
   ]
  },
  {
   "cell_type": "markdown",
   "metadata": {
    "id": "aAP7yNhQpMyG"
   },
   "source": [
    "**tipo_cabelo**"
   ]
  },
  {
   "cell_type": "code",
   "execution_count": 73,
   "metadata": {
    "colab": {
     "base_uri": "https://localhost:8080/"
    },
    "executionInfo": {
     "elapsed": 6,
     "status": "ok",
     "timestamp": 1661286044353,
     "user": {
      "displayName": "Solano Jacon",
      "userId": "03193064938437592202"
     },
     "user_tz": 180
    },
    "id": "c7DGROCYpMyG",
    "outputId": "8efed08a-c6f2-469b-f9fc-c541db3285bd"
   },
   "outputs": [
    {
     "data": {
      "text/plain": [
       "array(['Tipo 2', 'Tipo 4', 'Tipo 1', 'Tipo 3'], dtype=object)"
      ]
     },
     "execution_count": 73,
     "metadata": {},
     "output_type": "execute_result"
    }
   ],
   "source": [
    "data['tipo_cabelo'].unique()"
   ]
  },
  {
   "cell_type": "code",
   "execution_count": 74,
   "metadata": {
    "id": "psicfrg_pMyG"
   },
   "outputs": [],
   "source": [
    "feature_to_encode = 'tipo_cabelo'\n",
    "ohe = OneHotEncoder(sparse=False)\n",
    "column_encoded = ohe.fit_transform(data[[feature_to_encode]])\n",
    "data[feature_to_encode + '_e_' + ohe.categories_[0]] = column_encoded"
   ]
  },
  {
   "cell_type": "code",
   "execution_count": 75,
   "metadata": {
    "colab": {
     "base_uri": "https://localhost:8080/"
    },
    "executionInfo": {
     "elapsed": 299,
     "status": "ok",
     "timestamp": 1661286045100,
     "user": {
      "displayName": "Solano Jacon",
      "userId": "03193064938437592202"
     },
     "user_tz": 180
    },
    "id": "oT7uG7yYpMyG",
    "outputId": "6bcedcae-734f-42e5-ba90-8d55ffaa1653"
   },
   "outputs": [
    {
     "data": {
      "text/plain": [
       "[array(['Tipo 1', 'Tipo 2', 'Tipo 3', 'Tipo 4'], dtype=object)]"
      ]
     },
     "execution_count": 75,
     "metadata": {},
     "output_type": "execute_result"
    }
   ],
   "source": [
    "ohe.categories_"
   ]
  },
  {
   "cell_type": "code",
   "execution_count": 76,
   "metadata": {
    "colab": {
     "base_uri": "https://localhost:8080/"
    },
    "executionInfo": {
     "elapsed": 7,
     "status": "ok",
     "timestamp": 1661286045100,
     "user": {
      "displayName": "Solano Jacon",
      "userId": "03193064938437592202"
     },
     "user_tz": 180
    },
    "id": "c_S6TfZ-pMyH",
    "outputId": "729776f9-9f31-4df2-9296-23bf13b5a4e7"
   },
   "outputs": [
    {
     "data": {
      "text/plain": [
       "Index(['id_form', 'id_cliente', 'data', 'sistema_operacional', 'navegador',\n",
       "       'localizacao', 'locale', 'cidade', 'estado', 'qtde_lavagem_semana',\n",
       "       ...\n",
       "       'utm_source_modificado_e_sms', 'utm_source_modificado_e_telegram',\n",
       "       'utm_source_modificado_e_teste_source',\n",
       "       'utm_source_modificado_e_tiktok', 'utm_source_modificado_e_uaubox',\n",
       "       'utm_source_modificado_e_whatsapp', 'tipo_cabelo_e_Tipo 1',\n",
       "       'tipo_cabelo_e_Tipo 2', 'tipo_cabelo_e_Tipo 3', 'tipo_cabelo_e_Tipo 4'],\n",
       "      dtype='object', length=434)"
      ]
     },
     "execution_count": 76,
     "metadata": {},
     "output_type": "execute_result"
    }
   ],
   "source": [
    "data.columns"
   ]
  },
  {
   "cell_type": "markdown",
   "metadata": {
    "id": "eq336Ub1pMyH"
   },
   "source": [
    "**comprimento**"
   ]
  },
  {
   "cell_type": "code",
   "execution_count": 77,
   "metadata": {
    "colab": {
     "base_uri": "https://localhost:8080/"
    },
    "executionInfo": {
     "elapsed": 4,
     "status": "ok",
     "timestamp": 1661286045100,
     "user": {
      "displayName": "Solano Jacon",
      "userId": "03193064938437592202"
     },
     "user_tz": 180
    },
    "id": "yV2Y7trzpMyH",
    "outputId": "3c113a89-55d3-4458-e9a4-4605bed058c2"
   },
   "outputs": [
    {
     "data": {
      "text/plain": [
       "array(['Raíz exposta', 'Muito curto', 'Extra longo', 'Longo'],\n",
       "      dtype=object)"
      ]
     },
     "execution_count": 77,
     "metadata": {},
     "output_type": "execute_result"
    }
   ],
   "source": [
    "data['comprimento'].unique()"
   ]
  },
  {
   "cell_type": "code",
   "execution_count": 78,
   "metadata": {
    "id": "LEqaIb7dpMyH"
   },
   "outputs": [],
   "source": [
    "feature_to_encode = 'comprimento'\n",
    "ohe = OneHotEncoder(sparse=False)\n",
    "column_encoded = ohe.fit_transform(data[[feature_to_encode]])\n",
    "data[feature_to_encode + '_e_' + ohe.categories_[0]] = column_encoded"
   ]
  },
  {
   "cell_type": "code",
   "execution_count": 79,
   "metadata": {
    "colab": {
     "base_uri": "https://localhost:8080/"
    },
    "executionInfo": {
     "elapsed": 12,
     "status": "ok",
     "timestamp": 1661286045731,
     "user": {
      "displayName": "Solano Jacon",
      "userId": "03193064938437592202"
     },
     "user_tz": 180
    },
    "id": "xrWC3h9-pMyH",
    "outputId": "2f3d000c-7f22-423e-c474-ce845dd2713f"
   },
   "outputs": [
    {
     "data": {
      "text/plain": [
       "[array(['Extra longo', 'Longo', 'Muito curto', 'Raíz exposta'],\n",
       "       dtype=object)]"
      ]
     },
     "execution_count": 79,
     "metadata": {},
     "output_type": "execute_result"
    }
   ],
   "source": [
    "ohe.categories_"
   ]
  },
  {
   "cell_type": "code",
   "execution_count": 80,
   "metadata": {
    "colab": {
     "base_uri": "https://localhost:8080/"
    },
    "executionInfo": {
     "elapsed": 8,
     "status": "ok",
     "timestamp": 1661286045732,
     "user": {
      "displayName": "Solano Jacon",
      "userId": "03193064938437592202"
     },
     "user_tz": 180
    },
    "id": "zwulOZgYpMyH",
    "outputId": "20382c6e-1654-4294-e382-8f5a4f2c07e5"
   },
   "outputs": [
    {
     "data": {
      "text/plain": [
       "Index(['id_form', 'id_cliente', 'data', 'sistema_operacional', 'navegador',\n",
       "       'localizacao', 'locale', 'cidade', 'estado', 'qtde_lavagem_semana',\n",
       "       ...\n",
       "       'utm_source_modificado_e_uaubox', 'utm_source_modificado_e_whatsapp',\n",
       "       'tipo_cabelo_e_Tipo 1', 'tipo_cabelo_e_Tipo 2', 'tipo_cabelo_e_Tipo 3',\n",
       "       'tipo_cabelo_e_Tipo 4', 'comprimento_e_Extra longo',\n",
       "       'comprimento_e_Longo', 'comprimento_e_Muito curto',\n",
       "       'comprimento_e_Raíz exposta'],\n",
       "      dtype='object', length=438)"
      ]
     },
     "execution_count": 80,
     "metadata": {},
     "output_type": "execute_result"
    }
   ],
   "source": [
    "data.columns"
   ]
  },
  {
   "cell_type": "markdown",
   "metadata": {
    "id": "gPIdU-h3pMyI"
   },
   "source": [
    "**tipo_fios**"
   ]
  },
  {
   "cell_type": "code",
   "execution_count": 81,
   "metadata": {
    "colab": {
     "base_uri": "https://localhost:8080/"
    },
    "executionInfo": {
     "elapsed": 5,
     "status": "ok",
     "timestamp": 1661286045732,
     "user": {
      "displayName": "Solano Jacon",
      "userId": "03193064938437592202"
     },
     "user_tz": 180
    },
    "id": "W-GqAseBpMyI",
    "outputId": "c34b42b8-2101-4ecb-c794-edb92aec78be"
   },
   "outputs": [
    {
     "data": {
      "text/plain": [
       "array(['Pontas duplas', 'Perfeitos', 'Rebeldes', 'Secos'], dtype=object)"
      ]
     },
     "execution_count": 81,
     "metadata": {},
     "output_type": "execute_result"
    }
   ],
   "source": [
    "data['tipo_fios'].unique()"
   ]
  },
  {
   "cell_type": "code",
   "execution_count": 82,
   "metadata": {
    "id": "JT5w4xBqpMyI"
   },
   "outputs": [],
   "source": [
    "feature_to_encode = 'tipo_fios'\n",
    "ohe = OneHotEncoder(sparse=False)\n",
    "column_encoded = ohe.fit_transform(data[[feature_to_encode]])\n",
    "data[feature_to_encode + '_e_' + ohe.categories_[0]] = column_encoded"
   ]
  },
  {
   "cell_type": "code",
   "execution_count": 83,
   "metadata": {
    "colab": {
     "base_uri": "https://localhost:8080/"
    },
    "executionInfo": {
     "elapsed": 11,
     "status": "ok",
     "timestamp": 1661286046498,
     "user": {
      "displayName": "Solano Jacon",
      "userId": "03193064938437592202"
     },
     "user_tz": 180
    },
    "id": "AhXkhYmkpMyI",
    "outputId": "0f30c20e-60ba-4477-9f0c-7c760fe121c0"
   },
   "outputs": [
    {
     "data": {
      "text/plain": [
       "[array(['Perfeitos', 'Pontas duplas', 'Rebeldes', 'Secos'], dtype=object)]"
      ]
     },
     "execution_count": 83,
     "metadata": {},
     "output_type": "execute_result"
    }
   ],
   "source": [
    "ohe.categories_"
   ]
  },
  {
   "cell_type": "code",
   "execution_count": 84,
   "metadata": {
    "colab": {
     "base_uri": "https://localhost:8080/"
    },
    "executionInfo": {
     "elapsed": 7,
     "status": "ok",
     "timestamp": 1661286046498,
     "user": {
      "displayName": "Solano Jacon",
      "userId": "03193064938437592202"
     },
     "user_tz": 180
    },
    "id": "UddOOJYOpMyI",
    "outputId": "d6f68d39-2459-4a3d-e133-c2d2d10ef49f"
   },
   "outputs": [
    {
     "data": {
      "text/plain": [
       "Index(['id_form', 'id_cliente', 'data', 'sistema_operacional', 'navegador',\n",
       "       'localizacao', 'locale', 'cidade', 'estado', 'qtde_lavagem_semana',\n",
       "       ...\n",
       "       'tipo_cabelo_e_Tipo 3', 'tipo_cabelo_e_Tipo 4',\n",
       "       'comprimento_e_Extra longo', 'comprimento_e_Longo',\n",
       "       'comprimento_e_Muito curto', 'comprimento_e_Raíz exposta',\n",
       "       'tipo_fios_e_Perfeitos', 'tipo_fios_e_Pontas duplas',\n",
       "       'tipo_fios_e_Rebeldes', 'tipo_fios_e_Secos'],\n",
       "      dtype='object', length=442)"
      ]
     },
     "execution_count": 84,
     "metadata": {},
     "output_type": "execute_result"
    }
   ],
   "source": [
    "data.columns"
   ]
  },
  {
   "cell_type": "markdown",
   "metadata": {
    "id": "sfBj2SaNpMyI"
   },
   "source": [
    "**dieta**"
   ]
  },
  {
   "cell_type": "code",
   "execution_count": 85,
   "metadata": {
    "colab": {
     "base_uri": "https://localhost:8080/"
    },
    "executionInfo": {
     "elapsed": 4,
     "status": "ok",
     "timestamp": 1661286046498,
     "user": {
      "displayName": "Solano Jacon",
      "userId": "03193064938437592202"
     },
     "user_tz": 180
    },
    "id": "1RKnngtnpMyI",
    "outputId": "e4c4cda0-12e6-4509-e102-31c3e0c22009"
   },
   "outputs": [
    {
     "data": {
      "text/plain": [
       "array(['Celíaca', 'Nenhuma restrição', 'Intolerante a lactose', 'Leve'],\n",
       "      dtype=object)"
      ]
     },
     "execution_count": 85,
     "metadata": {},
     "output_type": "execute_result"
    }
   ],
   "source": [
    "data['dieta'].unique()"
   ]
  },
  {
   "cell_type": "code",
   "execution_count": 86,
   "metadata": {
    "id": "AS7l1TuXpMyJ"
   },
   "outputs": [],
   "source": [
    "feature_to_encode = 'dieta'\n",
    "ohe = OneHotEncoder(sparse=False)\n",
    "column_encoded = ohe.fit_transform(data[[feature_to_encode]])\n",
    "data[feature_to_encode + '_e_' + ohe.categories_[0]] = column_encoded"
   ]
  },
  {
   "cell_type": "code",
   "execution_count": 87,
   "metadata": {
    "colab": {
     "base_uri": "https://localhost:8080/"
    },
    "executionInfo": {
     "elapsed": 10,
     "status": "ok",
     "timestamp": 1661286046944,
     "user": {
      "displayName": "Solano Jacon",
      "userId": "03193064938437592202"
     },
     "user_tz": 180
    },
    "id": "1x4vPK9rpMyJ",
    "outputId": "b59ff0e3-c6af-4f01-cfaf-f84fa8bbb41f"
   },
   "outputs": [
    {
     "data": {
      "text/plain": [
       "[array(['Celíaca', 'Intolerante a lactose', 'Leve', 'Nenhuma restrição'],\n",
       "       dtype=object)]"
      ]
     },
     "execution_count": 87,
     "metadata": {},
     "output_type": "execute_result"
    }
   ],
   "source": [
    "ohe.categories_"
   ]
  },
  {
   "cell_type": "code",
   "execution_count": 88,
   "metadata": {
    "colab": {
     "base_uri": "https://localhost:8080/"
    },
    "executionInfo": {
     "elapsed": 6,
     "status": "ok",
     "timestamp": 1661286046944,
     "user": {
      "displayName": "Solano Jacon",
      "userId": "03193064938437592202"
     },
     "user_tz": 180
    },
    "id": "cdNonjFypMyJ",
    "outputId": "13c603f4-f626-411f-81ba-ae4f7d45d464"
   },
   "outputs": [
    {
     "data": {
      "text/plain": [
       "Index(['id_form', 'id_cliente', 'data', 'sistema_operacional', 'navegador',\n",
       "       'localizacao', 'locale', 'cidade', 'estado', 'qtde_lavagem_semana',\n",
       "       ...\n",
       "       'comprimento_e_Muito curto', 'comprimento_e_Raíz exposta',\n",
       "       'tipo_fios_e_Perfeitos', 'tipo_fios_e_Pontas duplas',\n",
       "       'tipo_fios_e_Rebeldes', 'tipo_fios_e_Secos', 'dieta_e_Celíaca',\n",
       "       'dieta_e_Intolerante a lactose', 'dieta_e_Leve',\n",
       "       'dieta_e_Nenhuma restrição'],\n",
       "      dtype='object', length=446)"
      ]
     },
     "execution_count": 88,
     "metadata": {},
     "output_type": "execute_result"
    }
   ],
   "source": [
    "data.columns"
   ]
  },
  {
   "cell_type": "markdown",
   "metadata": {
    "id": "iEyMlE8bpMyJ"
   },
   "source": [
    "**atividade_fisica**"
   ]
  },
  {
   "cell_type": "code",
   "execution_count": 89,
   "metadata": {
    "colab": {
     "base_uri": "https://localhost:8080/"
    },
    "executionInfo": {
     "elapsed": 280,
     "status": "ok",
     "timestamp": 1661286047220,
     "user": {
      "displayName": "Solano Jacon",
      "userId": "03193064938437592202"
     },
     "user_tz": 180
    },
    "id": "2oo9oOjupMyJ",
    "outputId": "57d0caca-86c0-450a-e257-00c8c326fe86"
   },
   "outputs": [
    {
     "data": {
      "text/plain": [
       "array(['Frequente', 'Nunca', 'Raramente', 'Sempre', 'N/C'], dtype=object)"
      ]
     },
     "execution_count": 89,
     "metadata": {},
     "output_type": "execute_result"
    }
   ],
   "source": [
    "data['atividade_fisica'].unique()"
   ]
  },
  {
   "cell_type": "code",
   "execution_count": 90,
   "metadata": {
    "id": "dOwL2VfFpMyJ"
   },
   "outputs": [],
   "source": [
    "feature_to_encode = 'atividade_fisica'\n",
    "ohe = OneHotEncoder(sparse=False)\n",
    "column_encoded = ohe.fit_transform(data[[feature_to_encode]])\n",
    "data[feature_to_encode + '_e_' + ohe.categories_[0]] = column_encoded"
   ]
  },
  {
   "cell_type": "code",
   "execution_count": 91,
   "metadata": {
    "colab": {
     "base_uri": "https://localhost:8080/"
    },
    "executionInfo": {
     "elapsed": 10,
     "status": "ok",
     "timestamp": 1661286047849,
     "user": {
      "displayName": "Solano Jacon",
      "userId": "03193064938437592202"
     },
     "user_tz": 180
    },
    "id": "Lyb9_o3wpMyK",
    "outputId": "aba01f65-da98-492f-b627-cfbd681266d0"
   },
   "outputs": [
    {
     "data": {
      "text/plain": [
       "[array(['Frequente', 'N/C', 'Nunca', 'Raramente', 'Sempre'], dtype=object)]"
      ]
     },
     "execution_count": 91,
     "metadata": {},
     "output_type": "execute_result"
    }
   ],
   "source": [
    "ohe.categories_"
   ]
  },
  {
   "cell_type": "code",
   "execution_count": 92,
   "metadata": {
    "colab": {
     "base_uri": "https://localhost:8080/"
    },
    "executionInfo": {
     "elapsed": 5,
     "status": "ok",
     "timestamp": 1661286047849,
     "user": {
      "displayName": "Solano Jacon",
      "userId": "03193064938437592202"
     },
     "user_tz": 180
    },
    "id": "8P6zRFZFpMyK",
    "outputId": "55ba6dec-48cb-4af9-d3ab-15448c9d5b7f"
   },
   "outputs": [
    {
     "data": {
      "text/plain": [
       "Index(['id_form', 'id_cliente', 'data', 'sistema_operacional', 'navegador',\n",
       "       'localizacao', 'locale', 'cidade', 'estado', 'qtde_lavagem_semana',\n",
       "       ...\n",
       "       'tipo_fios_e_Secos', 'dieta_e_Celíaca', 'dieta_e_Intolerante a lactose',\n",
       "       'dieta_e_Leve', 'dieta_e_Nenhuma restrição',\n",
       "       'atividade_fisica_e_Frequente', 'atividade_fisica_e_N/C',\n",
       "       'atividade_fisica_e_Nunca', 'atividade_fisica_e_Raramente',\n",
       "       'atividade_fisica_e_Sempre'],\n",
       "      dtype='object', length=451)"
      ]
     },
     "execution_count": 92,
     "metadata": {},
     "output_type": "execute_result"
    }
   ],
   "source": [
    "data.columns"
   ]
  },
  {
   "cell_type": "markdown",
   "metadata": {
    "id": "gTPeEO_cpMyK"
   },
   "source": [
    "**frequencia_estresse**"
   ]
  },
  {
   "cell_type": "code",
   "execution_count": 93,
   "metadata": {
    "colab": {
     "base_uri": "https://localhost:8080/"
    },
    "executionInfo": {
     "elapsed": 473,
     "status": "ok",
     "timestamp": 1661286048320,
     "user": {
      "displayName": "Solano Jacon",
      "userId": "03193064938437592202"
     },
     "user_tz": 180
    },
    "id": "RnHvGWNMpMyK",
    "outputId": "5657802b-2c53-4987-8224-1e6a25e11dba"
   },
   "outputs": [
    {
     "data": {
      "text/plain": [
       "array(['Nunca', 'Regularmente', 'Quase sempre', 'Uma vez por mês'],\n",
       "      dtype=object)"
      ]
     },
     "execution_count": 93,
     "metadata": {},
     "output_type": "execute_result"
    }
   ],
   "source": [
    "data['frequencia_estresse'].unique()"
   ]
  },
  {
   "cell_type": "code",
   "execution_count": 94,
   "metadata": {
    "id": "xlrKboilpMyK"
   },
   "outputs": [],
   "source": [
    "feature_to_encode = 'frequencia_estresse'\n",
    "ohe = OneHotEncoder(sparse=False)\n",
    "column_encoded = ohe.fit_transform(data[[feature_to_encode]])\n",
    "data[feature_to_encode + '_e_' + ohe.categories_[0]] = column_encoded"
   ]
  },
  {
   "cell_type": "code",
   "execution_count": 95,
   "metadata": {
    "colab": {
     "base_uri": "https://localhost:8080/"
    },
    "executionInfo": {
     "elapsed": 8,
     "status": "ok",
     "timestamp": 1661286048622,
     "user": {
      "displayName": "Solano Jacon",
      "userId": "03193064938437592202"
     },
     "user_tz": 180
    },
    "id": "Nt5lXWtSpMyK",
    "outputId": "5642263e-f96d-4f0b-afe3-bff1e061267a"
   },
   "outputs": [
    {
     "data": {
      "text/plain": [
       "[array(['Nunca', 'Quase sempre', 'Regularmente', 'Uma vez por mês'],\n",
       "       dtype=object)]"
      ]
     },
     "execution_count": 95,
     "metadata": {},
     "output_type": "execute_result"
    }
   ],
   "source": [
    "ohe.categories_"
   ]
  },
  {
   "cell_type": "code",
   "execution_count": 96,
   "metadata": {
    "colab": {
     "base_uri": "https://localhost:8080/"
    },
    "executionInfo": {
     "elapsed": 7,
     "status": "ok",
     "timestamp": 1661286048623,
     "user": {
      "displayName": "Solano Jacon",
      "userId": "03193064938437592202"
     },
     "user_tz": 180
    },
    "id": "6l9p8w0IpMyL",
    "outputId": "21054612-46a2-4878-9871-9586843b6642"
   },
   "outputs": [
    {
     "data": {
      "text/plain": [
       "Index(['id_form', 'id_cliente', 'data', 'sistema_operacional', 'navegador',\n",
       "       'localizacao', 'locale', 'cidade', 'estado', 'qtde_lavagem_semana',\n",
       "       ...\n",
       "       'dieta_e_Nenhuma restrição', 'atividade_fisica_e_Frequente',\n",
       "       'atividade_fisica_e_N/C', 'atividade_fisica_e_Nunca',\n",
       "       'atividade_fisica_e_Raramente', 'atividade_fisica_e_Sempre',\n",
       "       'frequencia_estresse_e_Nunca', 'frequencia_estresse_e_Quase sempre',\n",
       "       'frequencia_estresse_e_Regularmente',\n",
       "       'frequencia_estresse_e_Uma vez por mês'],\n",
       "      dtype='object', length=455)"
      ]
     },
     "execution_count": 96,
     "metadata": {},
     "output_type": "execute_result"
    }
   ],
   "source": [
    "data.columns"
   ]
  },
  {
   "cell_type": "markdown",
   "metadata": {
    "id": "RW4kXe3HpMyL"
   },
   "source": [
    "### Scaling"
   ]
  },
  {
   "cell_type": "markdown",
   "metadata": {
    "id": "OMNrwAF3pMyL"
   },
   "source": [
    "**qtde_lavagem_semana**"
   ]
  },
  {
   "cell_type": "code",
   "execution_count": 97,
   "metadata": {
    "colab": {
     "base_uri": "https://localhost:8080/",
     "height": 424
    },
    "executionInfo": {
     "elapsed": 1217,
     "status": "ok",
     "timestamp": 1661286049836,
     "user": {
      "displayName": "Solano Jacon",
      "userId": "03193064938437592202"
     },
     "user_tz": 180
    },
    "id": "QX-zNjS0pMyL",
    "outputId": "14371a4c-edb1-43cb-cd03-c2d4bc073a28"
   },
   "outputs": [
    {
     "data": {
      "text/html": [
       "<div>\n",
       "<style scoped>\n",
       "    .dataframe tbody tr th:only-of-type {\n",
       "        vertical-align: middle;\n",
       "    }\n",
       "\n",
       "    .dataframe tbody tr th {\n",
       "        vertical-align: top;\n",
       "    }\n",
       "\n",
       "    .dataframe thead th {\n",
       "        text-align: right;\n",
       "    }\n",
       "</style>\n",
       "<table border=\"1\" class=\"dataframe\">\n",
       "  <thead>\n",
       "    <tr style=\"text-align: right;\">\n",
       "      <th></th>\n",
       "      <th>qtde_lavagem_semana</th>\n",
       "      <th>qtde_lavagem_semana_std</th>\n",
       "    </tr>\n",
       "  </thead>\n",
       "  <tbody>\n",
       "    <tr>\n",
       "      <th>0</th>\n",
       "      <td>4</td>\n",
       "      <td>0.500000</td>\n",
       "    </tr>\n",
       "    <tr>\n",
       "      <th>1</th>\n",
       "      <td>4</td>\n",
       "      <td>0.500000</td>\n",
       "    </tr>\n",
       "    <tr>\n",
       "      <th>2</th>\n",
       "      <td>4</td>\n",
       "      <td>0.500000</td>\n",
       "    </tr>\n",
       "    <tr>\n",
       "      <th>3</th>\n",
       "      <td>4</td>\n",
       "      <td>0.500000</td>\n",
       "    </tr>\n",
       "    <tr>\n",
       "      <th>4</th>\n",
       "      <td>7</td>\n",
       "      <td>1.000000</td>\n",
       "    </tr>\n",
       "    <tr>\n",
       "      <th>...</th>\n",
       "      <td>...</td>\n",
       "      <td>...</td>\n",
       "    </tr>\n",
       "    <tr>\n",
       "      <th>585467</th>\n",
       "      <td>4</td>\n",
       "      <td>0.500000</td>\n",
       "    </tr>\n",
       "    <tr>\n",
       "      <th>585468</th>\n",
       "      <td>1</td>\n",
       "      <td>0.000000</td>\n",
       "    </tr>\n",
       "    <tr>\n",
       "      <th>585469</th>\n",
       "      <td>7</td>\n",
       "      <td>1.000000</td>\n",
       "    </tr>\n",
       "    <tr>\n",
       "      <th>585470</th>\n",
       "      <td>4</td>\n",
       "      <td>0.500000</td>\n",
       "    </tr>\n",
       "    <tr>\n",
       "      <th>585471</th>\n",
       "      <td>6</td>\n",
       "      <td>0.833333</td>\n",
       "    </tr>\n",
       "  </tbody>\n",
       "</table>\n",
       "<p>585472 rows × 2 columns</p>\n",
       "</div>"
      ],
      "text/plain": [
       "        qtde_lavagem_semana  qtde_lavagem_semana_std\n",
       "0                         4                 0.500000\n",
       "1                         4                 0.500000\n",
       "2                         4                 0.500000\n",
       "3                         4                 0.500000\n",
       "4                         7                 1.000000\n",
       "...                     ...                      ...\n",
       "585467                    4                 0.500000\n",
       "585468                    1                 0.000000\n",
       "585469                    7                 1.000000\n",
       "585470                    4                 0.500000\n",
       "585471                    6                 0.833333\n",
       "\n",
       "[585472 rows x 2 columns]"
      ]
     },
     "execution_count": 97,
     "metadata": {},
     "output_type": "execute_result"
    }
   ],
   "source": [
    "feature_to_scale = 'qtde_lavagem_semana'\n",
    "mms = MinMaxScaler()\n",
    "mms.fit(data[[feature_to_scale]])\n",
    "data[feature_to_scale + '_std'] = mms.transform(data[[feature_to_scale]])\n",
    "data[[feature_to_scale, feature_to_scale + '_std']]"
   ]
  },
  {
   "cell_type": "markdown",
   "metadata": {},
   "source": [
    "### Eliminação das colunas que não serão utilizadas pelo modelo / *Elimination of columns that will not be used by the model*"
   ]
  },
  {
   "cell_type": "code",
   "execution_count": 98,
   "metadata": {},
   "outputs": [],
   "source": [
    "data = data.drop(columns=['id_form', 'id_cliente', 'data', 'navegador', 'localizacao', 'locale', 'cidade', 'fragancia', 'id_pedido', 'id', \\\n",
    "                          'tempo_procedimento', 'faixa_etaria', 'procedimentos', 'caracteristica', 'efeitos_desejados', 'efeitos_desejados_modificado', \\\n",
    "                          'sistema_operacional', 'estado', 'estado_modificado', 'utm_source', 'utm_source_modificado', 'tipo_cabelo', 'comprimento', 'tipo_fios', 'dieta', 'atividade_fisica', 'frequencia_estresse', \\\n",
    "                          'qtde_lavagem_semana'])"
   ]
  },
  {
   "cell_type": "markdown",
   "metadata": {
    "id": "nWxOa3sjpMyL"
   },
   "source": [
    "## Escolha do algoritmo / *Algorithm choice*"
   ]
  },
  {
   "cell_type": "markdown",
   "metadata": {
    "id": "VCVymw72pMyM"
   },
   "source": [
    "### Análise de desempenho de vários modelos com sua configuração padrão e sem balanceamento de classes do dado alvo a ser predito / *Performance analysis of various models with their default configuration and without class balancing of the target data to be predicted*"
   ]
  },
  {
   "cell_type": "code",
   "execution_count": 99,
   "metadata": {
    "colab": {
     "base_uri": "https://localhost:8080/"
    },
    "executionInfo": {
     "elapsed": 6,
     "status": "ok",
     "timestamp": 1661286049837,
     "user": {
      "displayName": "Solano Jacon",
      "userId": "03193064938437592202"
     },
     "user_tz": 180
    },
    "id": "rRTIpaW4pMyM",
    "outputId": "9c6149f4-9e6a-4975-ab71-73009cbc62cd"
   },
   "outputs": [],
   "source": [
    "# Exemplo de avaliação de modelo sem balanceamento de alvo através de método tradicional apresentado apenas para fins didáticos\n",
    "# Example of model evaluation without target balancing using the traditional method presented for didactic purposes only\n",
    "\n",
    "# data_sample = data.sample(frac=0.05, random_state=42)\n",
    "# X = data_sample.drop(columns='pedido')\n",
    "# y = data_sample['pedido']\n",
    "# del data_sample\n",
    "\n",
    "# Escolher apenas um modelo / Choose only one model\n",
    "# model = DummyClassifier(random_state=42)\n",
    "# model = LogisticRegression(random_state=42)\n",
    "# model = KNeighborsClassifier()\n",
    "# model = SVC(random_state=42)\n",
    "# model = DecisionTreeClassifier(random_state=42)\n",
    "# model = RandomForestClassifier(random_state=42)\n",
    "# model = AdaBoostClassifier(random_state=42)\n",
    "# model = GradientBoostingClassifier(random_state=42)\n",
    "# model = XGBClassifier(verbosity=0, random_state=42)\n",
    "\n",
    "# cv_results = cross_validate(model, X, y, cv=5, scoring=['accuracy', 'precision', 'recall', 'f1'])\n",
    "\n",
    "# print('Accuracy =', round(cv_results['test_accuracy'].mean(), 2))\n",
    "# print('Precision =', round(cv_results['test_precision'].mean(), 2))\n",
    "# print('Recall =', round(cv_results['test_recall'].mean(), 2))\n",
    "# print('F1 score =', round(cv_results['test_f1'].mean(), 2))"
   ]
  },
  {
   "cell_type": "code",
   "execution_count": 100,
   "metadata": {},
   "outputs": [
    {
     "data": {
      "text/html": [
       "<style type=\"text/css\">\n",
       "#T_aadd5_row44_col1 {\n",
       "  background-color: lightgreen;\n",
       "}\n",
       "</style>\n",
       "<table id=\"T_aadd5_\">\n",
       "  <thead>\n",
       "    <tr>\n",
       "      <th class=\"blank level0\" >&nbsp;</th>\n",
       "      <th class=\"col_heading level0 col0\" >Description</th>\n",
       "      <th class=\"col_heading level0 col1\" >Value</th>\n",
       "    </tr>\n",
       "  </thead>\n",
       "  <tbody>\n",
       "    <tr>\n",
       "      <th id=\"T_aadd5_level0_row0\" class=\"row_heading level0 row0\" >0</th>\n",
       "      <td id=\"T_aadd5_row0_col0\" class=\"data row0 col0\" >session_id</td>\n",
       "      <td id=\"T_aadd5_row0_col1\" class=\"data row0 col1\" >42</td>\n",
       "    </tr>\n",
       "    <tr>\n",
       "      <th id=\"T_aadd5_level0_row1\" class=\"row_heading level0 row1\" >1</th>\n",
       "      <td id=\"T_aadd5_row1_col0\" class=\"data row1 col0\" >Target</td>\n",
       "      <td id=\"T_aadd5_row1_col1\" class=\"data row1 col1\" >pedido</td>\n",
       "    </tr>\n",
       "    <tr>\n",
       "      <th id=\"T_aadd5_level0_row2\" class=\"row_heading level0 row2\" >2</th>\n",
       "      <td id=\"T_aadd5_row2_col0\" class=\"data row2 col0\" >Target Type</td>\n",
       "      <td id=\"T_aadd5_row2_col1\" class=\"data row2 col1\" >Binary</td>\n",
       "    </tr>\n",
       "    <tr>\n",
       "      <th id=\"T_aadd5_level0_row3\" class=\"row_heading level0 row3\" >3</th>\n",
       "      <td id=\"T_aadd5_row3_col0\" class=\"data row3 col0\" >Label Encoded</td>\n",
       "      <td id=\"T_aadd5_row3_col1\" class=\"data row3 col1\" >None</td>\n",
       "    </tr>\n",
       "    <tr>\n",
       "      <th id=\"T_aadd5_level0_row4\" class=\"row_heading level0 row4\" >4</th>\n",
       "      <td id=\"T_aadd5_row4_col0\" class=\"data row4 col0\" >Original Data</td>\n",
       "      <td id=\"T_aadd5_row4_col1\" class=\"data row4 col1\" >(29274, 428)</td>\n",
       "    </tr>\n",
       "    <tr>\n",
       "      <th id=\"T_aadd5_level0_row5\" class=\"row_heading level0 row5\" >5</th>\n",
       "      <td id=\"T_aadd5_row5_col0\" class=\"data row5 col0\" >Missing Values</td>\n",
       "      <td id=\"T_aadd5_row5_col1\" class=\"data row5 col1\" >False</td>\n",
       "    </tr>\n",
       "    <tr>\n",
       "      <th id=\"T_aadd5_level0_row6\" class=\"row_heading level0 row6\" >6</th>\n",
       "      <td id=\"T_aadd5_row6_col0\" class=\"data row6 col0\" >Numeric Features</td>\n",
       "      <td id=\"T_aadd5_row6_col1\" class=\"data row6 col1\" >251</td>\n",
       "    </tr>\n",
       "    <tr>\n",
       "      <th id=\"T_aadd5_level0_row7\" class=\"row_heading level0 row7\" >7</th>\n",
       "      <td id=\"T_aadd5_row7_col0\" class=\"data row7 col0\" >Categorical Features</td>\n",
       "      <td id=\"T_aadd5_row7_col1\" class=\"data row7 col1\" >176</td>\n",
       "    </tr>\n",
       "    <tr>\n",
       "      <th id=\"T_aadd5_level0_row8\" class=\"row_heading level0 row8\" >8</th>\n",
       "      <td id=\"T_aadd5_row8_col0\" class=\"data row8 col0\" >Ordinal Features</td>\n",
       "      <td id=\"T_aadd5_row8_col1\" class=\"data row8 col1\" >False</td>\n",
       "    </tr>\n",
       "    <tr>\n",
       "      <th id=\"T_aadd5_level0_row9\" class=\"row_heading level0 row9\" >9</th>\n",
       "      <td id=\"T_aadd5_row9_col0\" class=\"data row9 col0\" >High Cardinality Features</td>\n",
       "      <td id=\"T_aadd5_row9_col1\" class=\"data row9 col1\" >False</td>\n",
       "    </tr>\n",
       "    <tr>\n",
       "      <th id=\"T_aadd5_level0_row10\" class=\"row_heading level0 row10\" >10</th>\n",
       "      <td id=\"T_aadd5_row10_col0\" class=\"data row10 col0\" >High Cardinality Method</td>\n",
       "      <td id=\"T_aadd5_row10_col1\" class=\"data row10 col1\" >None</td>\n",
       "    </tr>\n",
       "    <tr>\n",
       "      <th id=\"T_aadd5_level0_row11\" class=\"row_heading level0 row11\" >11</th>\n",
       "      <td id=\"T_aadd5_row11_col0\" class=\"data row11 col0\" >Transformed Train Set</td>\n",
       "      <td id=\"T_aadd5_row11_col1\" class=\"data row11 col1\" >(20491, 427)</td>\n",
       "    </tr>\n",
       "    <tr>\n",
       "      <th id=\"T_aadd5_level0_row12\" class=\"row_heading level0 row12\" >12</th>\n",
       "      <td id=\"T_aadd5_row12_col0\" class=\"data row12 col0\" >Transformed Test Set</td>\n",
       "      <td id=\"T_aadd5_row12_col1\" class=\"data row12 col1\" >(8783, 427)</td>\n",
       "    </tr>\n",
       "    <tr>\n",
       "      <th id=\"T_aadd5_level0_row13\" class=\"row_heading level0 row13\" >13</th>\n",
       "      <td id=\"T_aadd5_row13_col0\" class=\"data row13 col0\" >Shuffle Train-Test</td>\n",
       "      <td id=\"T_aadd5_row13_col1\" class=\"data row13 col1\" >True</td>\n",
       "    </tr>\n",
       "    <tr>\n",
       "      <th id=\"T_aadd5_level0_row14\" class=\"row_heading level0 row14\" >14</th>\n",
       "      <td id=\"T_aadd5_row14_col0\" class=\"data row14 col0\" >Stratify Train-Test</td>\n",
       "      <td id=\"T_aadd5_row14_col1\" class=\"data row14 col1\" >False</td>\n",
       "    </tr>\n",
       "    <tr>\n",
       "      <th id=\"T_aadd5_level0_row15\" class=\"row_heading level0 row15\" >15</th>\n",
       "      <td id=\"T_aadd5_row15_col0\" class=\"data row15 col0\" >Fold Generator</td>\n",
       "      <td id=\"T_aadd5_row15_col1\" class=\"data row15 col1\" >StratifiedKFold</td>\n",
       "    </tr>\n",
       "    <tr>\n",
       "      <th id=\"T_aadd5_level0_row16\" class=\"row_heading level0 row16\" >16</th>\n",
       "      <td id=\"T_aadd5_row16_col0\" class=\"data row16 col0\" >Fold Number</td>\n",
       "      <td id=\"T_aadd5_row16_col1\" class=\"data row16 col1\" >5</td>\n",
       "    </tr>\n",
       "    <tr>\n",
       "      <th id=\"T_aadd5_level0_row17\" class=\"row_heading level0 row17\" >17</th>\n",
       "      <td id=\"T_aadd5_row17_col0\" class=\"data row17 col0\" >CPU Jobs</td>\n",
       "      <td id=\"T_aadd5_row17_col1\" class=\"data row17 col1\" >-1</td>\n",
       "    </tr>\n",
       "    <tr>\n",
       "      <th id=\"T_aadd5_level0_row18\" class=\"row_heading level0 row18\" >18</th>\n",
       "      <td id=\"T_aadd5_row18_col0\" class=\"data row18 col0\" >Use GPU</td>\n",
       "      <td id=\"T_aadd5_row18_col1\" class=\"data row18 col1\" >False</td>\n",
       "    </tr>\n",
       "    <tr>\n",
       "      <th id=\"T_aadd5_level0_row19\" class=\"row_heading level0 row19\" >19</th>\n",
       "      <td id=\"T_aadd5_row19_col0\" class=\"data row19 col0\" >Log Experiment</td>\n",
       "      <td id=\"T_aadd5_row19_col1\" class=\"data row19 col1\" >False</td>\n",
       "    </tr>\n",
       "    <tr>\n",
       "      <th id=\"T_aadd5_level0_row20\" class=\"row_heading level0 row20\" >20</th>\n",
       "      <td id=\"T_aadd5_row20_col0\" class=\"data row20 col0\" >Experiment Name</td>\n",
       "      <td id=\"T_aadd5_row20_col1\" class=\"data row20 col1\" >clf-default-name</td>\n",
       "    </tr>\n",
       "    <tr>\n",
       "      <th id=\"T_aadd5_level0_row21\" class=\"row_heading level0 row21\" >21</th>\n",
       "      <td id=\"T_aadd5_row21_col0\" class=\"data row21 col0\" >USI</td>\n",
       "      <td id=\"T_aadd5_row21_col1\" class=\"data row21 col1\" >cca9</td>\n",
       "    </tr>\n",
       "    <tr>\n",
       "      <th id=\"T_aadd5_level0_row22\" class=\"row_heading level0 row22\" >22</th>\n",
       "      <td id=\"T_aadd5_row22_col0\" class=\"data row22 col0\" >Imputation Type</td>\n",
       "      <td id=\"T_aadd5_row22_col1\" class=\"data row22 col1\" >simple</td>\n",
       "    </tr>\n",
       "    <tr>\n",
       "      <th id=\"T_aadd5_level0_row23\" class=\"row_heading level0 row23\" >23</th>\n",
       "      <td id=\"T_aadd5_row23_col0\" class=\"data row23 col0\" >Iterative Imputation Iteration</td>\n",
       "      <td id=\"T_aadd5_row23_col1\" class=\"data row23 col1\" >None</td>\n",
       "    </tr>\n",
       "    <tr>\n",
       "      <th id=\"T_aadd5_level0_row24\" class=\"row_heading level0 row24\" >24</th>\n",
       "      <td id=\"T_aadd5_row24_col0\" class=\"data row24 col0\" >Numeric Imputer</td>\n",
       "      <td id=\"T_aadd5_row24_col1\" class=\"data row24 col1\" >mean</td>\n",
       "    </tr>\n",
       "    <tr>\n",
       "      <th id=\"T_aadd5_level0_row25\" class=\"row_heading level0 row25\" >25</th>\n",
       "      <td id=\"T_aadd5_row25_col0\" class=\"data row25 col0\" >Iterative Imputation Numeric Model</td>\n",
       "      <td id=\"T_aadd5_row25_col1\" class=\"data row25 col1\" >None</td>\n",
       "    </tr>\n",
       "    <tr>\n",
       "      <th id=\"T_aadd5_level0_row26\" class=\"row_heading level0 row26\" >26</th>\n",
       "      <td id=\"T_aadd5_row26_col0\" class=\"data row26 col0\" >Categorical Imputer</td>\n",
       "      <td id=\"T_aadd5_row26_col1\" class=\"data row26 col1\" >constant</td>\n",
       "    </tr>\n",
       "    <tr>\n",
       "      <th id=\"T_aadd5_level0_row27\" class=\"row_heading level0 row27\" >27</th>\n",
       "      <td id=\"T_aadd5_row27_col0\" class=\"data row27 col0\" >Iterative Imputation Categorical Model</td>\n",
       "      <td id=\"T_aadd5_row27_col1\" class=\"data row27 col1\" >None</td>\n",
       "    </tr>\n",
       "    <tr>\n",
       "      <th id=\"T_aadd5_level0_row28\" class=\"row_heading level0 row28\" >28</th>\n",
       "      <td id=\"T_aadd5_row28_col0\" class=\"data row28 col0\" >Unknown Categoricals Handling</td>\n",
       "      <td id=\"T_aadd5_row28_col1\" class=\"data row28 col1\" >least_frequent</td>\n",
       "    </tr>\n",
       "    <tr>\n",
       "      <th id=\"T_aadd5_level0_row29\" class=\"row_heading level0 row29\" >29</th>\n",
       "      <td id=\"T_aadd5_row29_col0\" class=\"data row29 col0\" >Normalize</td>\n",
       "      <td id=\"T_aadd5_row29_col1\" class=\"data row29 col1\" >False</td>\n",
       "    </tr>\n",
       "    <tr>\n",
       "      <th id=\"T_aadd5_level0_row30\" class=\"row_heading level0 row30\" >30</th>\n",
       "      <td id=\"T_aadd5_row30_col0\" class=\"data row30 col0\" >Normalize Method</td>\n",
       "      <td id=\"T_aadd5_row30_col1\" class=\"data row30 col1\" >None</td>\n",
       "    </tr>\n",
       "    <tr>\n",
       "      <th id=\"T_aadd5_level0_row31\" class=\"row_heading level0 row31\" >31</th>\n",
       "      <td id=\"T_aadd5_row31_col0\" class=\"data row31 col0\" >Transformation</td>\n",
       "      <td id=\"T_aadd5_row31_col1\" class=\"data row31 col1\" >False</td>\n",
       "    </tr>\n",
       "    <tr>\n",
       "      <th id=\"T_aadd5_level0_row32\" class=\"row_heading level0 row32\" >32</th>\n",
       "      <td id=\"T_aadd5_row32_col0\" class=\"data row32 col0\" >Transformation Method</td>\n",
       "      <td id=\"T_aadd5_row32_col1\" class=\"data row32 col1\" >None</td>\n",
       "    </tr>\n",
       "    <tr>\n",
       "      <th id=\"T_aadd5_level0_row33\" class=\"row_heading level0 row33\" >33</th>\n",
       "      <td id=\"T_aadd5_row33_col0\" class=\"data row33 col0\" >PCA</td>\n",
       "      <td id=\"T_aadd5_row33_col1\" class=\"data row33 col1\" >False</td>\n",
       "    </tr>\n",
       "    <tr>\n",
       "      <th id=\"T_aadd5_level0_row34\" class=\"row_heading level0 row34\" >34</th>\n",
       "      <td id=\"T_aadd5_row34_col0\" class=\"data row34 col0\" >PCA Method</td>\n",
       "      <td id=\"T_aadd5_row34_col1\" class=\"data row34 col1\" >None</td>\n",
       "    </tr>\n",
       "    <tr>\n",
       "      <th id=\"T_aadd5_level0_row35\" class=\"row_heading level0 row35\" >35</th>\n",
       "      <td id=\"T_aadd5_row35_col0\" class=\"data row35 col0\" >PCA Components</td>\n",
       "      <td id=\"T_aadd5_row35_col1\" class=\"data row35 col1\" >None</td>\n",
       "    </tr>\n",
       "    <tr>\n",
       "      <th id=\"T_aadd5_level0_row36\" class=\"row_heading level0 row36\" >36</th>\n",
       "      <td id=\"T_aadd5_row36_col0\" class=\"data row36 col0\" >Ignore Low Variance</td>\n",
       "      <td id=\"T_aadd5_row36_col1\" class=\"data row36 col1\" >False</td>\n",
       "    </tr>\n",
       "    <tr>\n",
       "      <th id=\"T_aadd5_level0_row37\" class=\"row_heading level0 row37\" >37</th>\n",
       "      <td id=\"T_aadd5_row37_col0\" class=\"data row37 col0\" >Combine Rare Levels</td>\n",
       "      <td id=\"T_aadd5_row37_col1\" class=\"data row37 col1\" >False</td>\n",
       "    </tr>\n",
       "    <tr>\n",
       "      <th id=\"T_aadd5_level0_row38\" class=\"row_heading level0 row38\" >38</th>\n",
       "      <td id=\"T_aadd5_row38_col0\" class=\"data row38 col0\" >Rare Level Threshold</td>\n",
       "      <td id=\"T_aadd5_row38_col1\" class=\"data row38 col1\" >None</td>\n",
       "    </tr>\n",
       "    <tr>\n",
       "      <th id=\"T_aadd5_level0_row39\" class=\"row_heading level0 row39\" >39</th>\n",
       "      <td id=\"T_aadd5_row39_col0\" class=\"data row39 col0\" >Numeric Binning</td>\n",
       "      <td id=\"T_aadd5_row39_col1\" class=\"data row39 col1\" >False</td>\n",
       "    </tr>\n",
       "    <tr>\n",
       "      <th id=\"T_aadd5_level0_row40\" class=\"row_heading level0 row40\" >40</th>\n",
       "      <td id=\"T_aadd5_row40_col0\" class=\"data row40 col0\" >Remove Outliers</td>\n",
       "      <td id=\"T_aadd5_row40_col1\" class=\"data row40 col1\" >False</td>\n",
       "    </tr>\n",
       "    <tr>\n",
       "      <th id=\"T_aadd5_level0_row41\" class=\"row_heading level0 row41\" >41</th>\n",
       "      <td id=\"T_aadd5_row41_col0\" class=\"data row41 col0\" >Outliers Threshold</td>\n",
       "      <td id=\"T_aadd5_row41_col1\" class=\"data row41 col1\" >None</td>\n",
       "    </tr>\n",
       "    <tr>\n",
       "      <th id=\"T_aadd5_level0_row42\" class=\"row_heading level0 row42\" >42</th>\n",
       "      <td id=\"T_aadd5_row42_col0\" class=\"data row42 col0\" >Remove Multicollinearity</td>\n",
       "      <td id=\"T_aadd5_row42_col1\" class=\"data row42 col1\" >False</td>\n",
       "    </tr>\n",
       "    <tr>\n",
       "      <th id=\"T_aadd5_level0_row43\" class=\"row_heading level0 row43\" >43</th>\n",
       "      <td id=\"T_aadd5_row43_col0\" class=\"data row43 col0\" >Multicollinearity Threshold</td>\n",
       "      <td id=\"T_aadd5_row43_col1\" class=\"data row43 col1\" >None</td>\n",
       "    </tr>\n",
       "    <tr>\n",
       "      <th id=\"T_aadd5_level0_row44\" class=\"row_heading level0 row44\" >44</th>\n",
       "      <td id=\"T_aadd5_row44_col0\" class=\"data row44 col0\" >Remove Perfect Collinearity</td>\n",
       "      <td id=\"T_aadd5_row44_col1\" class=\"data row44 col1\" >True</td>\n",
       "    </tr>\n",
       "    <tr>\n",
       "      <th id=\"T_aadd5_level0_row45\" class=\"row_heading level0 row45\" >45</th>\n",
       "      <td id=\"T_aadd5_row45_col0\" class=\"data row45 col0\" >Clustering</td>\n",
       "      <td id=\"T_aadd5_row45_col1\" class=\"data row45 col1\" >False</td>\n",
       "    </tr>\n",
       "    <tr>\n",
       "      <th id=\"T_aadd5_level0_row46\" class=\"row_heading level0 row46\" >46</th>\n",
       "      <td id=\"T_aadd5_row46_col0\" class=\"data row46 col0\" >Clustering Iteration</td>\n",
       "      <td id=\"T_aadd5_row46_col1\" class=\"data row46 col1\" >None</td>\n",
       "    </tr>\n",
       "    <tr>\n",
       "      <th id=\"T_aadd5_level0_row47\" class=\"row_heading level0 row47\" >47</th>\n",
       "      <td id=\"T_aadd5_row47_col0\" class=\"data row47 col0\" >Polynomial Features</td>\n",
       "      <td id=\"T_aadd5_row47_col1\" class=\"data row47 col1\" >False</td>\n",
       "    </tr>\n",
       "    <tr>\n",
       "      <th id=\"T_aadd5_level0_row48\" class=\"row_heading level0 row48\" >48</th>\n",
       "      <td id=\"T_aadd5_row48_col0\" class=\"data row48 col0\" >Polynomial Degree</td>\n",
       "      <td id=\"T_aadd5_row48_col1\" class=\"data row48 col1\" >None</td>\n",
       "    </tr>\n",
       "    <tr>\n",
       "      <th id=\"T_aadd5_level0_row49\" class=\"row_heading level0 row49\" >49</th>\n",
       "      <td id=\"T_aadd5_row49_col0\" class=\"data row49 col0\" >Trignometry Features</td>\n",
       "      <td id=\"T_aadd5_row49_col1\" class=\"data row49 col1\" >False</td>\n",
       "    </tr>\n",
       "    <tr>\n",
       "      <th id=\"T_aadd5_level0_row50\" class=\"row_heading level0 row50\" >50</th>\n",
       "      <td id=\"T_aadd5_row50_col0\" class=\"data row50 col0\" >Polynomial Threshold</td>\n",
       "      <td id=\"T_aadd5_row50_col1\" class=\"data row50 col1\" >None</td>\n",
       "    </tr>\n",
       "    <tr>\n",
       "      <th id=\"T_aadd5_level0_row51\" class=\"row_heading level0 row51\" >51</th>\n",
       "      <td id=\"T_aadd5_row51_col0\" class=\"data row51 col0\" >Group Features</td>\n",
       "      <td id=\"T_aadd5_row51_col1\" class=\"data row51 col1\" >False</td>\n",
       "    </tr>\n",
       "    <tr>\n",
       "      <th id=\"T_aadd5_level0_row52\" class=\"row_heading level0 row52\" >52</th>\n",
       "      <td id=\"T_aadd5_row52_col0\" class=\"data row52 col0\" >Feature Selection</td>\n",
       "      <td id=\"T_aadd5_row52_col1\" class=\"data row52 col1\" >False</td>\n",
       "    </tr>\n",
       "    <tr>\n",
       "      <th id=\"T_aadd5_level0_row53\" class=\"row_heading level0 row53\" >53</th>\n",
       "      <td id=\"T_aadd5_row53_col0\" class=\"data row53 col0\" >Feature Selection Method</td>\n",
       "      <td id=\"T_aadd5_row53_col1\" class=\"data row53 col1\" >classic</td>\n",
       "    </tr>\n",
       "    <tr>\n",
       "      <th id=\"T_aadd5_level0_row54\" class=\"row_heading level0 row54\" >54</th>\n",
       "      <td id=\"T_aadd5_row54_col0\" class=\"data row54 col0\" >Features Selection Threshold</td>\n",
       "      <td id=\"T_aadd5_row54_col1\" class=\"data row54 col1\" >None</td>\n",
       "    </tr>\n",
       "    <tr>\n",
       "      <th id=\"T_aadd5_level0_row55\" class=\"row_heading level0 row55\" >55</th>\n",
       "      <td id=\"T_aadd5_row55_col0\" class=\"data row55 col0\" >Feature Interaction</td>\n",
       "      <td id=\"T_aadd5_row55_col1\" class=\"data row55 col1\" >False</td>\n",
       "    </tr>\n",
       "    <tr>\n",
       "      <th id=\"T_aadd5_level0_row56\" class=\"row_heading level0 row56\" >56</th>\n",
       "      <td id=\"T_aadd5_row56_col0\" class=\"data row56 col0\" >Feature Ratio</td>\n",
       "      <td id=\"T_aadd5_row56_col1\" class=\"data row56 col1\" >False</td>\n",
       "    </tr>\n",
       "    <tr>\n",
       "      <th id=\"T_aadd5_level0_row57\" class=\"row_heading level0 row57\" >57</th>\n",
       "      <td id=\"T_aadd5_row57_col0\" class=\"data row57 col0\" >Interaction Threshold</td>\n",
       "      <td id=\"T_aadd5_row57_col1\" class=\"data row57 col1\" >None</td>\n",
       "    </tr>\n",
       "    <tr>\n",
       "      <th id=\"T_aadd5_level0_row58\" class=\"row_heading level0 row58\" >58</th>\n",
       "      <td id=\"T_aadd5_row58_col0\" class=\"data row58 col0\" >Fix Imbalance</td>\n",
       "      <td id=\"T_aadd5_row58_col1\" class=\"data row58 col1\" >False</td>\n",
       "    </tr>\n",
       "    <tr>\n",
       "      <th id=\"T_aadd5_level0_row59\" class=\"row_heading level0 row59\" >59</th>\n",
       "      <td id=\"T_aadd5_row59_col0\" class=\"data row59 col0\" >Fix Imbalance Method</td>\n",
       "      <td id=\"T_aadd5_row59_col1\" class=\"data row59 col1\" >SMOTE</td>\n",
       "    </tr>\n",
       "  </tbody>\n",
       "</table>\n"
      ],
      "text/plain": [
       "<pandas.io.formats.style.Styler at 0x7f2163c615b0>"
      ]
     },
     "metadata": {},
     "output_type": "display_data"
    }
   ],
   "source": [
    "exp_name = setup(data.sample(frac=0.05, random_state=42), fix_imbalance=False, target='pedido', fold=5, session_id=42, silent=True)"
   ]
  },
  {
   "cell_type": "code",
   "execution_count": 101,
   "metadata": {
    "scrolled": false
   },
   "outputs": [
    {
     "data": {
      "text/html": [
       "<style type=\"text/css\">\n",
       "#T_8e361_ th {\n",
       "  text-align: left;\n",
       "}\n",
       "#T_8e361_row0_col0, #T_8e361_row0_col1, #T_8e361_row0_col2, #T_8e361_row0_col4, #T_8e361_row0_col6, #T_8e361_row0_col7, #T_8e361_row1_col0, #T_8e361_row1_col1, #T_8e361_row1_col2, #T_8e361_row1_col3, #T_8e361_row1_col4, #T_8e361_row1_col5, #T_8e361_row1_col6, #T_8e361_row1_col7, #T_8e361_row2_col0, #T_8e361_row2_col1, #T_8e361_row2_col2, #T_8e361_row2_col3, #T_8e361_row2_col4, #T_8e361_row2_col5, #T_8e361_row2_col6, #T_8e361_row2_col7, #T_8e361_row3_col0, #T_8e361_row3_col1, #T_8e361_row3_col2, #T_8e361_row3_col3, #T_8e361_row3_col4, #T_8e361_row3_col5, #T_8e361_row3_col6, #T_8e361_row3_col7, #T_8e361_row4_col0, #T_8e361_row4_col1, #T_8e361_row4_col2, #T_8e361_row4_col3, #T_8e361_row4_col4, #T_8e361_row4_col5, #T_8e361_row4_col6, #T_8e361_row4_col7, #T_8e361_row5_col0, #T_8e361_row5_col1, #T_8e361_row5_col2, #T_8e361_row5_col3, #T_8e361_row5_col4, #T_8e361_row5_col5, #T_8e361_row5_col6, #T_8e361_row5_col7, #T_8e361_row6_col0, #T_8e361_row6_col3, #T_8e361_row6_col5, #T_8e361_row7_col0, #T_8e361_row7_col1, #T_8e361_row7_col2, #T_8e361_row7_col3, #T_8e361_row7_col4, #T_8e361_row7_col5, #T_8e361_row7_col6, #T_8e361_row7_col7, #T_8e361_row8_col0, #T_8e361_row8_col1, #T_8e361_row8_col2, #T_8e361_row8_col3, #T_8e361_row8_col4, #T_8e361_row8_col5, #T_8e361_row8_col6, #T_8e361_row8_col7 {\n",
       "  text-align: left;\n",
       "}\n",
       "#T_8e361_row0_col3, #T_8e361_row0_col5, #T_8e361_row6_col1, #T_8e361_row6_col2, #T_8e361_row6_col4, #T_8e361_row6_col6, #T_8e361_row6_col7 {\n",
       "  text-align: left;\n",
       "  background-color: yellow;\n",
       "}\n",
       "#T_8e361_row0_col8 {\n",
       "  text-align: left;\n",
       "  background-color: yellow;\n",
       "  background-color: lightgrey;\n",
       "}\n",
       "#T_8e361_row1_col8, #T_8e361_row2_col8, #T_8e361_row3_col8, #T_8e361_row4_col8, #T_8e361_row5_col8, #T_8e361_row6_col8, #T_8e361_row7_col8, #T_8e361_row8_col8 {\n",
       "  text-align: left;\n",
       "  background-color: lightgrey;\n",
       "}\n",
       "</style>\n",
       "<table id=\"T_8e361_\">\n",
       "  <thead>\n",
       "    <tr>\n",
       "      <th class=\"blank level0\" >&nbsp;</th>\n",
       "      <th class=\"col_heading level0 col0\" >Model</th>\n",
       "      <th class=\"col_heading level0 col1\" >Accuracy</th>\n",
       "      <th class=\"col_heading level0 col2\" >AUC</th>\n",
       "      <th class=\"col_heading level0 col3\" >Recall</th>\n",
       "      <th class=\"col_heading level0 col4\" >Prec.</th>\n",
       "      <th class=\"col_heading level0 col5\" >F1</th>\n",
       "      <th class=\"col_heading level0 col6\" >Kappa</th>\n",
       "      <th class=\"col_heading level0 col7\" >MCC</th>\n",
       "      <th class=\"col_heading level0 col8\" >TT (Sec)</th>\n",
       "    </tr>\n",
       "  </thead>\n",
       "  <tbody>\n",
       "    <tr>\n",
       "      <th id=\"T_8e361_level0_row0\" class=\"row_heading level0 row0\" >dt</th>\n",
       "      <td id=\"T_8e361_row0_col0\" class=\"data row0 col0\" >Decision Tree Classifier</td>\n",
       "      <td id=\"T_8e361_row0_col1\" class=\"data row0 col1\" >0.5825</td>\n",
       "      <td id=\"T_8e361_row0_col2\" class=\"data row0 col2\" >0.5529</td>\n",
       "      <td id=\"T_8e361_row0_col3\" class=\"data row0 col3\" >0.4473</td>\n",
       "      <td id=\"T_8e361_row0_col4\" class=\"data row0 col4\" >0.4251</td>\n",
       "      <td id=\"T_8e361_row0_col5\" class=\"data row0 col5\" >0.4359</td>\n",
       "      <td id=\"T_8e361_row0_col6\" class=\"data row0 col6\" >0.1049</td>\n",
       "      <td id=\"T_8e361_row0_col7\" class=\"data row0 col7\" >0.1050</td>\n",
       "      <td id=\"T_8e361_row0_col8\" class=\"data row0 col8\" >0.0920</td>\n",
       "    </tr>\n",
       "    <tr>\n",
       "      <th id=\"T_8e361_level0_row1\" class=\"row_heading level0 row1\" >xgboost</th>\n",
       "      <td id=\"T_8e361_row1_col0\" class=\"data row1 col0\" >Extreme Gradient Boosting</td>\n",
       "      <td id=\"T_8e361_row1_col1\" class=\"data row1 col1\" >0.6433</td>\n",
       "      <td id=\"T_8e361_row1_col2\" class=\"data row1 col2\" >0.6295</td>\n",
       "      <td id=\"T_8e361_row1_col3\" class=\"data row1 col3\" >0.3072</td>\n",
       "      <td id=\"T_8e361_row1_col4\" class=\"data row1 col4\" >0.5086</td>\n",
       "      <td id=\"T_8e361_row1_col5\" class=\"data row1 col5\" >0.3830</td>\n",
       "      <td id=\"T_8e361_row1_col6\" class=\"data row1 col6\" >0.1532</td>\n",
       "      <td id=\"T_8e361_row1_col7\" class=\"data row1 col7\" >0.1628</td>\n",
       "      <td id=\"T_8e361_row1_col8\" class=\"data row1 col8\" >20.9340</td>\n",
       "    </tr>\n",
       "    <tr>\n",
       "      <th id=\"T_8e361_level0_row2\" class=\"row_heading level0 row2\" >svm</th>\n",
       "      <td id=\"T_8e361_row2_col0\" class=\"data row2 col0\" >SVM - Linear Kernel</td>\n",
       "      <td id=\"T_8e361_row2_col1\" class=\"data row2 col1\" >0.6355</td>\n",
       "      <td id=\"T_8e361_row2_col2\" class=\"data row2 col2\" >0.0000</td>\n",
       "      <td id=\"T_8e361_row2_col3\" class=\"data row2 col3\" >0.3241</td>\n",
       "      <td id=\"T_8e361_row2_col4\" class=\"data row2 col4\" >0.5202</td>\n",
       "      <td id=\"T_8e361_row2_col5\" class=\"data row2 col5\" >0.3604</td>\n",
       "      <td id=\"T_8e361_row2_col6\" class=\"data row2 col6\" >0.1425</td>\n",
       "      <td id=\"T_8e361_row2_col7\" class=\"data row2 col7\" >0.1617</td>\n",
       "      <td id=\"T_8e361_row2_col8\" class=\"data row2 col8\" >0.5420</td>\n",
       "    </tr>\n",
       "    <tr>\n",
       "      <th id=\"T_8e361_level0_row3\" class=\"row_heading level0 row3\" >knn</th>\n",
       "      <td id=\"T_8e361_row3_col0\" class=\"data row3 col0\" >K Neighbors Classifier</td>\n",
       "      <td id=\"T_8e361_row3_col1\" class=\"data row3 col1\" >0.6007</td>\n",
       "      <td id=\"T_8e361_row3_col2\" class=\"data row3 col2\" >0.5588</td>\n",
       "      <td id=\"T_8e361_row3_col3\" class=\"data row3 col3\" >0.3053</td>\n",
       "      <td id=\"T_8e361_row3_col4\" class=\"data row3 col4\" >0.4253</td>\n",
       "      <td id=\"T_8e361_row3_col5\" class=\"data row3 col5\" >0.3554</td>\n",
       "      <td id=\"T_8e361_row3_col6\" class=\"data row3 col6\" >0.0774</td>\n",
       "      <td id=\"T_8e361_row3_col7\" class=\"data row3 col7\" >0.0796</td>\n",
       "      <td id=\"T_8e361_row3_col8\" class=\"data row3 col8\" >17.7620</td>\n",
       "    </tr>\n",
       "    <tr>\n",
       "      <th id=\"T_8e361_level0_row4\" class=\"row_heading level0 row4\" >ada</th>\n",
       "      <td id=\"T_8e361_row4_col0\" class=\"data row4 col0\" >Ada Boost Classifier</td>\n",
       "      <td id=\"T_8e361_row4_col1\" class=\"data row4 col1\" >0.6510</td>\n",
       "      <td id=\"T_8e361_row4_col2\" class=\"data row4 col2\" >0.6492</td>\n",
       "      <td id=\"T_8e361_row4_col3\" class=\"data row4 col3\" >0.2324</td>\n",
       "      <td id=\"T_8e361_row4_col4\" class=\"data row4 col4\" >0.5378</td>\n",
       "      <td id=\"T_8e361_row4_col5\" class=\"data row4 col5\" >0.3243</td>\n",
       "      <td id=\"T_8e361_row4_col6\" class=\"data row4 col6\" >0.1364</td>\n",
       "      <td id=\"T_8e361_row4_col7\" class=\"data row4 col7\" >0.1583</td>\n",
       "      <td id=\"T_8e361_row4_col8\" class=\"data row4 col8\" >0.4540</td>\n",
       "    </tr>\n",
       "    <tr>\n",
       "      <th id=\"T_8e361_level0_row5\" class=\"row_heading level0 row5\" >lr</th>\n",
       "      <td id=\"T_8e361_row5_col0\" class=\"data row5 col0\" >Logistic Regression</td>\n",
       "      <td id=\"T_8e361_row5_col1\" class=\"data row5 col1\" >0.6554</td>\n",
       "      <td id=\"T_8e361_row5_col2\" class=\"data row5 col2\" >0.6473</td>\n",
       "      <td id=\"T_8e361_row5_col3\" class=\"data row5 col3\" >0.2259</td>\n",
       "      <td id=\"T_8e361_row5_col4\" class=\"data row5 col4\" >0.5548</td>\n",
       "      <td id=\"T_8e361_row5_col5\" class=\"data row5 col5\" >0.3209</td>\n",
       "      <td id=\"T_8e361_row5_col6\" class=\"data row5 col6\" >0.1418</td>\n",
       "      <td id=\"T_8e361_row5_col7\" class=\"data row5 col7\" >0.1676</td>\n",
       "      <td id=\"T_8e361_row5_col8\" class=\"data row5 col8\" >2.7160</td>\n",
       "    </tr>\n",
       "    <tr>\n",
       "      <th id=\"T_8e361_level0_row6\" class=\"row_heading level0 row6\" >rf</th>\n",
       "      <td id=\"T_8e361_row6_col0\" class=\"data row6 col0\" >Random Forest Classifier</td>\n",
       "      <td id=\"T_8e361_row6_col1\" class=\"data row6 col1\" >0.6718</td>\n",
       "      <td id=\"T_8e361_row6_col2\" class=\"data row6 col2\" >0.6499</td>\n",
       "      <td id=\"T_8e361_row6_col3\" class=\"data row6 col3\" >0.1969</td>\n",
       "      <td id=\"T_8e361_row6_col4\" class=\"data row6 col4\" >0.6476</td>\n",
       "      <td id=\"T_8e361_row6_col5\" class=\"data row6 col5\" >0.3019</td>\n",
       "      <td id=\"T_8e361_row6_col6\" class=\"data row6 col6\" >0.1609</td>\n",
       "      <td id=\"T_8e361_row6_col7\" class=\"data row6 col7\" >0.2097</td>\n",
       "      <td id=\"T_8e361_row6_col8\" class=\"data row6 col8\" >0.8000</td>\n",
       "    </tr>\n",
       "    <tr>\n",
       "      <th id=\"T_8e361_level0_row7\" class=\"row_heading level0 row7\" >gbc</th>\n",
       "      <td id=\"T_8e361_row7_col0\" class=\"data row7 col0\" >Gradient Boosting Classifier</td>\n",
       "      <td id=\"T_8e361_row7_col1\" class=\"data row7 col1\" >0.6529</td>\n",
       "      <td id=\"T_8e361_row7_col2\" class=\"data row7 col2\" >0.6487</td>\n",
       "      <td id=\"T_8e361_row7_col3\" class=\"data row7 col3\" >0.1759</td>\n",
       "      <td id=\"T_8e361_row7_col4\" class=\"data row7 col4\" >0.5601</td>\n",
       "      <td id=\"T_8e361_row7_col5\" class=\"data row7 col5\" >0.2676</td>\n",
       "      <td id=\"T_8e361_row7_col6\" class=\"data row7 col6\" >0.1150</td>\n",
       "      <td id=\"T_8e361_row7_col7\" class=\"data row7 col7\" >0.1482</td>\n",
       "      <td id=\"T_8e361_row7_col8\" class=\"data row7 col8\" >1.1280</td>\n",
       "    </tr>\n",
       "    <tr>\n",
       "      <th id=\"T_8e361_level0_row8\" class=\"row_heading level0 row8\" >dummy</th>\n",
       "      <td id=\"T_8e361_row8_col0\" class=\"data row8 col0\" >Dummy Classifier</td>\n",
       "      <td id=\"T_8e361_row8_col1\" class=\"data row8 col1\" >0.6394</td>\n",
       "      <td id=\"T_8e361_row8_col2\" class=\"data row8 col2\" >0.5000</td>\n",
       "      <td id=\"T_8e361_row8_col3\" class=\"data row8 col3\" >0.0000</td>\n",
       "      <td id=\"T_8e361_row8_col4\" class=\"data row8 col4\" >0.0000</td>\n",
       "      <td id=\"T_8e361_row8_col5\" class=\"data row8 col5\" >0.0000</td>\n",
       "      <td id=\"T_8e361_row8_col6\" class=\"data row8 col6\" >0.0000</td>\n",
       "      <td id=\"T_8e361_row8_col7\" class=\"data row8 col7\" >0.0000</td>\n",
       "      <td id=\"T_8e361_row8_col8\" class=\"data row8 col8\" >0.4800</td>\n",
       "    </tr>\n",
       "  </tbody>\n",
       "</table>\n"
      ],
      "text/plain": [
       "<pandas.io.formats.style.Styler at 0x7f2163fa3cd0>"
      ]
     },
     "metadata": {},
     "output_type": "display_data"
    },
    {
     "name": "stdout",
     "output_type": "stream",
     "text": [
      "CPU times: user 2.01 s, sys: 352 ms, total: 2.36 s\n",
      "Wall time: 3min 46s\n"
     ]
    }
   ],
   "source": [
    "%%time\n",
    "\n",
    "best_model = compare_models(include=['dummy', 'lr', 'knn', 'svm', 'dt', 'rf', 'ada', 'gbc', 'xgboost'], sort='F1')"
   ]
  },
  {
   "cell_type": "markdown",
   "metadata": {},
   "source": [
    "### Otimização do modelo que apresentou a melhor performance sem balanceamento de classes baseado em ajuste de hiperparâmetros / *Optimization of the model that presented the best performance without class balancing based on hyperparameter tuning*"
   ]
  },
  {
   "cell_type": "code",
   "execution_count": 102,
   "metadata": {},
   "outputs": [],
   "source": [
    "data_sample = data.sample(frac=0.01, random_state=42)\n",
    "\n",
    "X = data_sample.drop(columns=['pedido'])\n",
    "y = data_sample['pedido']\n",
    "\n",
    "del data_sample"
   ]
  },
  {
   "cell_type": "code",
   "execution_count": 103,
   "metadata": {
    "id": "HUQoaPScpMyQ"
   },
   "outputs": [
    {
     "name": "stdout",
     "output_type": "stream",
     "text": [
      "Fitting 5 folds for each of 14 candidates, totalling 70 fits\n"
     ]
    },
    {
     "name": "stderr",
     "output_type": "stream",
     "text": [
      "[Parallel(n_jobs=-1)]: Using backend LokyBackend with 12 concurrent workers.\n",
      "[Parallel(n_jobs=-1)]: Done  28 tasks      | elapsed:    0.4s\n",
      "[Parallel(n_jobs=-1)]: Done  70 out of  70 | elapsed:    0.7s finished\n"
     ]
    },
    {
     "name": "stdout",
     "output_type": "stream",
     "text": [
      "CPU times: user 262 ms, sys: 46.9 ms, total: 309 ms\n",
      "Wall time: 917 ms\n"
     ]
    },
    {
     "data": {
      "text/plain": [
       "GridSearchCV(cv=5, error_score=nan,\n",
       "             estimator=DecisionTreeClassifier(ccp_alpha=0.0, class_weight=None,\n",
       "                                              criterion='gini', max_depth=None,\n",
       "                                              max_features=None,\n",
       "                                              max_leaf_nodes=None,\n",
       "                                              min_impurity_decrease=0.0,\n",
       "                                              min_impurity_split=None,\n",
       "                                              min_samples_leaf=1,\n",
       "                                              min_samples_split=2,\n",
       "                                              min_weight_fraction_leaf=0.0,\n",
       "                                              presort='deprecated',\n",
       "                                              random_state=None,\n",
       "                                              splitter='best'),\n",
       "             iid='deprecated', n_jobs=-1,\n",
       "             param_grid={'criterion': ['gini', 'entropy'],\n",
       "                         'max_depth': [2, 4, 6, 8, 10, 12, None],\n",
       "                         'random_state': [42]},\n",
       "             pre_dispatch='2*n_jobs', refit=True, return_train_score=False,\n",
       "             scoring='f1', verbose=1)"
      ]
     },
     "execution_count": 103,
     "metadata": {},
     "output_type": "execute_result"
    }
   ],
   "source": [
    "%%time\n",
    "\n",
    "param_grid = {\n",
    "    'criterion': ['gini', 'entropy'],\n",
    "    'max_depth': [2, 4, 6, 8, 10, 12, None],\n",
    "    'random_state': [42]\n",
    "}\n",
    "\n",
    "model = DecisionTreeClassifier()\n",
    "grid_search = GridSearchCV(estimator=model, param_grid=param_grid, scoring='f1', cv=5, n_jobs=-1, verbose=1)\n",
    "grid_search.fit(X, y)"
   ]
  },
  {
   "cell_type": "code",
   "execution_count": 104,
   "metadata": {
    "id": "HaG07XrBpMyQ"
   },
   "outputs": [
    {
     "data": {
      "text/plain": [
       "{'criterion': 'entropy', 'max_depth': None, 'random_state': 42}"
      ]
     },
     "execution_count": 104,
     "metadata": {},
     "output_type": "execute_result"
    }
   ],
   "source": [
    "grid_search.best_params_"
   ]
  },
  {
   "cell_type": "code",
   "execution_count": 105,
   "metadata": {
    "colab": {
     "base_uri": "https://localhost:8080/"
    },
    "executionInfo": {
     "elapsed": 9734,
     "status": "ok",
     "timestamp": 1661286198592,
     "user": {
      "displayName": "Solano Jacon",
      "userId": "03193064938437592202"
     },
     "user_tz": 180
    },
    "id": "l6HKi_xFpMyQ",
    "outputId": "1a66025a-6d8a-4336-89e1-6dfd9a29d600"
   },
   "outputs": [
    {
     "name": "stdout",
     "output_type": "stream",
     "text": [
      "Accuracy = 0.57\n",
      "Precision = 0.42\n",
      "Recall = 0.44\n",
      "F1 score = 0.43\n",
      "CPU times: user 352 ms, sys: 0 ns, total: 352 ms\n",
      "Wall time: 351 ms\n"
     ]
    }
   ],
   "source": [
    "%%time\n",
    "\n",
    "# model = grid_search.best_estimator_\n",
    "model = DecisionTreeClassifier(criterion='entropy', max_depth=None, random_state=42)\n",
    "cv_results = cross_validate(model, X, y, cv=5, scoring=['accuracy', 'precision', 'recall', 'f1'])\n",
    "\n",
    "print('Accuracy =', round(cv_results['test_accuracy'].mean(), 2))\n",
    "print('Precision =', round(cv_results['test_precision'].mean(), 2))\n",
    "print('Recall =', round(cv_results['test_recall'].mean(), 2))\n",
    "print('F1 score =', round(cv_results['test_f1'].mean(), 2))"
   ]
  },
  {
   "cell_type": "markdown",
   "metadata": {},
   "source": [
    "### Análise de desempenho de vários modelos com sua configuração padrão e com balanceamento de classes do dado alvo a ser predito / *Performance analysis of various models with their default configuration and with class balancing of the target data to be predicted*"
   ]
  },
  {
   "cell_type": "code",
   "execution_count": 106,
   "metadata": {},
   "outputs": [],
   "source": [
    "# Exemplo de avaliação de modelo com balanceamento de alvo através de método tradicional apresentado apenas para fins didáticos\n",
    "# Example of model evaluation with target balancing using the traditional method presented for didactic purposes only\n",
    "\n",
    "# data_sample = data.sample(frac=0.05, random_state=42)\n",
    "# X = data_sample.drop(columns='pedido')\n",
    "# y = data_sample['pedido']\n",
    "# del data_sample\n",
    "\n",
    "# sm = SMOTE(random_state=42)\n",
    "# X_smote, y_smote = sm.fit_resample(X, y)\n",
    "\n",
    "# Escolher apenas um modelo / Choose only one model\n",
    "# model = DummyClassifier(random_state=42)\n",
    "# model = LogisticRegression(random_state=42)\n",
    "# model = KNeighborsClassifier()\n",
    "# model = SVC(random_state=42)\n",
    "# model = DecisionTreeClassifier(random_state=42)\n",
    "# model = RandomForestClassifier(random_state=42)\n",
    "# model = AdaBoostClassifier(random_state=42)\n",
    "# model = GradientBoostingClassifier(random_state=42)\n",
    "# model = XGBClassifier(verbosity=0, random_state=42)\n",
    "\n",
    "# cv_results = cross_validate(model, X_smote, y_smote, cv=5, scoring=['accuracy', 'precision', 'recall', 'f1'])\n",
    "\n",
    "# print('Accuracy =', round(cv_results['test_accuracy'].mean(), 2))\n",
    "# print('Precision =', round(cv_results['test_precision'].mean(), 2))\n",
    "# print('Recall =', round(cv_results['test_recall'].mean(), 2))\n",
    "# print('F1 score =', round(cv_results['test_f1'].mean(), 2))"
   ]
  },
  {
   "cell_type": "code",
   "execution_count": 107,
   "metadata": {},
   "outputs": [
    {
     "data": {
      "text/html": [
       "<style type=\"text/css\">\n",
       "#T_b96fa_row44_col1, #T_b96fa_row58_col1 {\n",
       "  background-color: lightgreen;\n",
       "}\n",
       "</style>\n",
       "<table id=\"T_b96fa_\">\n",
       "  <thead>\n",
       "    <tr>\n",
       "      <th class=\"blank level0\" >&nbsp;</th>\n",
       "      <th class=\"col_heading level0 col0\" >Description</th>\n",
       "      <th class=\"col_heading level0 col1\" >Value</th>\n",
       "    </tr>\n",
       "  </thead>\n",
       "  <tbody>\n",
       "    <tr>\n",
       "      <th id=\"T_b96fa_level0_row0\" class=\"row_heading level0 row0\" >0</th>\n",
       "      <td id=\"T_b96fa_row0_col0\" class=\"data row0 col0\" >session_id</td>\n",
       "      <td id=\"T_b96fa_row0_col1\" class=\"data row0 col1\" >42</td>\n",
       "    </tr>\n",
       "    <tr>\n",
       "      <th id=\"T_b96fa_level0_row1\" class=\"row_heading level0 row1\" >1</th>\n",
       "      <td id=\"T_b96fa_row1_col0\" class=\"data row1 col0\" >Target</td>\n",
       "      <td id=\"T_b96fa_row1_col1\" class=\"data row1 col1\" >pedido</td>\n",
       "    </tr>\n",
       "    <tr>\n",
       "      <th id=\"T_b96fa_level0_row2\" class=\"row_heading level0 row2\" >2</th>\n",
       "      <td id=\"T_b96fa_row2_col0\" class=\"data row2 col0\" >Target Type</td>\n",
       "      <td id=\"T_b96fa_row2_col1\" class=\"data row2 col1\" >Binary</td>\n",
       "    </tr>\n",
       "    <tr>\n",
       "      <th id=\"T_b96fa_level0_row3\" class=\"row_heading level0 row3\" >3</th>\n",
       "      <td id=\"T_b96fa_row3_col0\" class=\"data row3 col0\" >Label Encoded</td>\n",
       "      <td id=\"T_b96fa_row3_col1\" class=\"data row3 col1\" >None</td>\n",
       "    </tr>\n",
       "    <tr>\n",
       "      <th id=\"T_b96fa_level0_row4\" class=\"row_heading level0 row4\" >4</th>\n",
       "      <td id=\"T_b96fa_row4_col0\" class=\"data row4 col0\" >Original Data</td>\n",
       "      <td id=\"T_b96fa_row4_col1\" class=\"data row4 col1\" >(29274, 428)</td>\n",
       "    </tr>\n",
       "    <tr>\n",
       "      <th id=\"T_b96fa_level0_row5\" class=\"row_heading level0 row5\" >5</th>\n",
       "      <td id=\"T_b96fa_row5_col0\" class=\"data row5 col0\" >Missing Values</td>\n",
       "      <td id=\"T_b96fa_row5_col1\" class=\"data row5 col1\" >False</td>\n",
       "    </tr>\n",
       "    <tr>\n",
       "      <th id=\"T_b96fa_level0_row6\" class=\"row_heading level0 row6\" >6</th>\n",
       "      <td id=\"T_b96fa_row6_col0\" class=\"data row6 col0\" >Numeric Features</td>\n",
       "      <td id=\"T_b96fa_row6_col1\" class=\"data row6 col1\" >251</td>\n",
       "    </tr>\n",
       "    <tr>\n",
       "      <th id=\"T_b96fa_level0_row7\" class=\"row_heading level0 row7\" >7</th>\n",
       "      <td id=\"T_b96fa_row7_col0\" class=\"data row7 col0\" >Categorical Features</td>\n",
       "      <td id=\"T_b96fa_row7_col1\" class=\"data row7 col1\" >176</td>\n",
       "    </tr>\n",
       "    <tr>\n",
       "      <th id=\"T_b96fa_level0_row8\" class=\"row_heading level0 row8\" >8</th>\n",
       "      <td id=\"T_b96fa_row8_col0\" class=\"data row8 col0\" >Ordinal Features</td>\n",
       "      <td id=\"T_b96fa_row8_col1\" class=\"data row8 col1\" >False</td>\n",
       "    </tr>\n",
       "    <tr>\n",
       "      <th id=\"T_b96fa_level0_row9\" class=\"row_heading level0 row9\" >9</th>\n",
       "      <td id=\"T_b96fa_row9_col0\" class=\"data row9 col0\" >High Cardinality Features</td>\n",
       "      <td id=\"T_b96fa_row9_col1\" class=\"data row9 col1\" >False</td>\n",
       "    </tr>\n",
       "    <tr>\n",
       "      <th id=\"T_b96fa_level0_row10\" class=\"row_heading level0 row10\" >10</th>\n",
       "      <td id=\"T_b96fa_row10_col0\" class=\"data row10 col0\" >High Cardinality Method</td>\n",
       "      <td id=\"T_b96fa_row10_col1\" class=\"data row10 col1\" >None</td>\n",
       "    </tr>\n",
       "    <tr>\n",
       "      <th id=\"T_b96fa_level0_row11\" class=\"row_heading level0 row11\" >11</th>\n",
       "      <td id=\"T_b96fa_row11_col0\" class=\"data row11 col0\" >Transformed Train Set</td>\n",
       "      <td id=\"T_b96fa_row11_col1\" class=\"data row11 col1\" >(20491, 427)</td>\n",
       "    </tr>\n",
       "    <tr>\n",
       "      <th id=\"T_b96fa_level0_row12\" class=\"row_heading level0 row12\" >12</th>\n",
       "      <td id=\"T_b96fa_row12_col0\" class=\"data row12 col0\" >Transformed Test Set</td>\n",
       "      <td id=\"T_b96fa_row12_col1\" class=\"data row12 col1\" >(8783, 427)</td>\n",
       "    </tr>\n",
       "    <tr>\n",
       "      <th id=\"T_b96fa_level0_row13\" class=\"row_heading level0 row13\" >13</th>\n",
       "      <td id=\"T_b96fa_row13_col0\" class=\"data row13 col0\" >Shuffle Train-Test</td>\n",
       "      <td id=\"T_b96fa_row13_col1\" class=\"data row13 col1\" >True</td>\n",
       "    </tr>\n",
       "    <tr>\n",
       "      <th id=\"T_b96fa_level0_row14\" class=\"row_heading level0 row14\" >14</th>\n",
       "      <td id=\"T_b96fa_row14_col0\" class=\"data row14 col0\" >Stratify Train-Test</td>\n",
       "      <td id=\"T_b96fa_row14_col1\" class=\"data row14 col1\" >False</td>\n",
       "    </tr>\n",
       "    <tr>\n",
       "      <th id=\"T_b96fa_level0_row15\" class=\"row_heading level0 row15\" >15</th>\n",
       "      <td id=\"T_b96fa_row15_col0\" class=\"data row15 col0\" >Fold Generator</td>\n",
       "      <td id=\"T_b96fa_row15_col1\" class=\"data row15 col1\" >StratifiedKFold</td>\n",
       "    </tr>\n",
       "    <tr>\n",
       "      <th id=\"T_b96fa_level0_row16\" class=\"row_heading level0 row16\" >16</th>\n",
       "      <td id=\"T_b96fa_row16_col0\" class=\"data row16 col0\" >Fold Number</td>\n",
       "      <td id=\"T_b96fa_row16_col1\" class=\"data row16 col1\" >5</td>\n",
       "    </tr>\n",
       "    <tr>\n",
       "      <th id=\"T_b96fa_level0_row17\" class=\"row_heading level0 row17\" >17</th>\n",
       "      <td id=\"T_b96fa_row17_col0\" class=\"data row17 col0\" >CPU Jobs</td>\n",
       "      <td id=\"T_b96fa_row17_col1\" class=\"data row17 col1\" >-1</td>\n",
       "    </tr>\n",
       "    <tr>\n",
       "      <th id=\"T_b96fa_level0_row18\" class=\"row_heading level0 row18\" >18</th>\n",
       "      <td id=\"T_b96fa_row18_col0\" class=\"data row18 col0\" >Use GPU</td>\n",
       "      <td id=\"T_b96fa_row18_col1\" class=\"data row18 col1\" >False</td>\n",
       "    </tr>\n",
       "    <tr>\n",
       "      <th id=\"T_b96fa_level0_row19\" class=\"row_heading level0 row19\" >19</th>\n",
       "      <td id=\"T_b96fa_row19_col0\" class=\"data row19 col0\" >Log Experiment</td>\n",
       "      <td id=\"T_b96fa_row19_col1\" class=\"data row19 col1\" >False</td>\n",
       "    </tr>\n",
       "    <tr>\n",
       "      <th id=\"T_b96fa_level0_row20\" class=\"row_heading level0 row20\" >20</th>\n",
       "      <td id=\"T_b96fa_row20_col0\" class=\"data row20 col0\" >Experiment Name</td>\n",
       "      <td id=\"T_b96fa_row20_col1\" class=\"data row20 col1\" >clf-default-name</td>\n",
       "    </tr>\n",
       "    <tr>\n",
       "      <th id=\"T_b96fa_level0_row21\" class=\"row_heading level0 row21\" >21</th>\n",
       "      <td id=\"T_b96fa_row21_col0\" class=\"data row21 col0\" >USI</td>\n",
       "      <td id=\"T_b96fa_row21_col1\" class=\"data row21 col1\" >51d5</td>\n",
       "    </tr>\n",
       "    <tr>\n",
       "      <th id=\"T_b96fa_level0_row22\" class=\"row_heading level0 row22\" >22</th>\n",
       "      <td id=\"T_b96fa_row22_col0\" class=\"data row22 col0\" >Imputation Type</td>\n",
       "      <td id=\"T_b96fa_row22_col1\" class=\"data row22 col1\" >simple</td>\n",
       "    </tr>\n",
       "    <tr>\n",
       "      <th id=\"T_b96fa_level0_row23\" class=\"row_heading level0 row23\" >23</th>\n",
       "      <td id=\"T_b96fa_row23_col0\" class=\"data row23 col0\" >Iterative Imputation Iteration</td>\n",
       "      <td id=\"T_b96fa_row23_col1\" class=\"data row23 col1\" >None</td>\n",
       "    </tr>\n",
       "    <tr>\n",
       "      <th id=\"T_b96fa_level0_row24\" class=\"row_heading level0 row24\" >24</th>\n",
       "      <td id=\"T_b96fa_row24_col0\" class=\"data row24 col0\" >Numeric Imputer</td>\n",
       "      <td id=\"T_b96fa_row24_col1\" class=\"data row24 col1\" >mean</td>\n",
       "    </tr>\n",
       "    <tr>\n",
       "      <th id=\"T_b96fa_level0_row25\" class=\"row_heading level0 row25\" >25</th>\n",
       "      <td id=\"T_b96fa_row25_col0\" class=\"data row25 col0\" >Iterative Imputation Numeric Model</td>\n",
       "      <td id=\"T_b96fa_row25_col1\" class=\"data row25 col1\" >None</td>\n",
       "    </tr>\n",
       "    <tr>\n",
       "      <th id=\"T_b96fa_level0_row26\" class=\"row_heading level0 row26\" >26</th>\n",
       "      <td id=\"T_b96fa_row26_col0\" class=\"data row26 col0\" >Categorical Imputer</td>\n",
       "      <td id=\"T_b96fa_row26_col1\" class=\"data row26 col1\" >constant</td>\n",
       "    </tr>\n",
       "    <tr>\n",
       "      <th id=\"T_b96fa_level0_row27\" class=\"row_heading level0 row27\" >27</th>\n",
       "      <td id=\"T_b96fa_row27_col0\" class=\"data row27 col0\" >Iterative Imputation Categorical Model</td>\n",
       "      <td id=\"T_b96fa_row27_col1\" class=\"data row27 col1\" >None</td>\n",
       "    </tr>\n",
       "    <tr>\n",
       "      <th id=\"T_b96fa_level0_row28\" class=\"row_heading level0 row28\" >28</th>\n",
       "      <td id=\"T_b96fa_row28_col0\" class=\"data row28 col0\" >Unknown Categoricals Handling</td>\n",
       "      <td id=\"T_b96fa_row28_col1\" class=\"data row28 col1\" >least_frequent</td>\n",
       "    </tr>\n",
       "    <tr>\n",
       "      <th id=\"T_b96fa_level0_row29\" class=\"row_heading level0 row29\" >29</th>\n",
       "      <td id=\"T_b96fa_row29_col0\" class=\"data row29 col0\" >Normalize</td>\n",
       "      <td id=\"T_b96fa_row29_col1\" class=\"data row29 col1\" >False</td>\n",
       "    </tr>\n",
       "    <tr>\n",
       "      <th id=\"T_b96fa_level0_row30\" class=\"row_heading level0 row30\" >30</th>\n",
       "      <td id=\"T_b96fa_row30_col0\" class=\"data row30 col0\" >Normalize Method</td>\n",
       "      <td id=\"T_b96fa_row30_col1\" class=\"data row30 col1\" >None</td>\n",
       "    </tr>\n",
       "    <tr>\n",
       "      <th id=\"T_b96fa_level0_row31\" class=\"row_heading level0 row31\" >31</th>\n",
       "      <td id=\"T_b96fa_row31_col0\" class=\"data row31 col0\" >Transformation</td>\n",
       "      <td id=\"T_b96fa_row31_col1\" class=\"data row31 col1\" >False</td>\n",
       "    </tr>\n",
       "    <tr>\n",
       "      <th id=\"T_b96fa_level0_row32\" class=\"row_heading level0 row32\" >32</th>\n",
       "      <td id=\"T_b96fa_row32_col0\" class=\"data row32 col0\" >Transformation Method</td>\n",
       "      <td id=\"T_b96fa_row32_col1\" class=\"data row32 col1\" >None</td>\n",
       "    </tr>\n",
       "    <tr>\n",
       "      <th id=\"T_b96fa_level0_row33\" class=\"row_heading level0 row33\" >33</th>\n",
       "      <td id=\"T_b96fa_row33_col0\" class=\"data row33 col0\" >PCA</td>\n",
       "      <td id=\"T_b96fa_row33_col1\" class=\"data row33 col1\" >False</td>\n",
       "    </tr>\n",
       "    <tr>\n",
       "      <th id=\"T_b96fa_level0_row34\" class=\"row_heading level0 row34\" >34</th>\n",
       "      <td id=\"T_b96fa_row34_col0\" class=\"data row34 col0\" >PCA Method</td>\n",
       "      <td id=\"T_b96fa_row34_col1\" class=\"data row34 col1\" >None</td>\n",
       "    </tr>\n",
       "    <tr>\n",
       "      <th id=\"T_b96fa_level0_row35\" class=\"row_heading level0 row35\" >35</th>\n",
       "      <td id=\"T_b96fa_row35_col0\" class=\"data row35 col0\" >PCA Components</td>\n",
       "      <td id=\"T_b96fa_row35_col1\" class=\"data row35 col1\" >None</td>\n",
       "    </tr>\n",
       "    <tr>\n",
       "      <th id=\"T_b96fa_level0_row36\" class=\"row_heading level0 row36\" >36</th>\n",
       "      <td id=\"T_b96fa_row36_col0\" class=\"data row36 col0\" >Ignore Low Variance</td>\n",
       "      <td id=\"T_b96fa_row36_col1\" class=\"data row36 col1\" >False</td>\n",
       "    </tr>\n",
       "    <tr>\n",
       "      <th id=\"T_b96fa_level0_row37\" class=\"row_heading level0 row37\" >37</th>\n",
       "      <td id=\"T_b96fa_row37_col0\" class=\"data row37 col0\" >Combine Rare Levels</td>\n",
       "      <td id=\"T_b96fa_row37_col1\" class=\"data row37 col1\" >False</td>\n",
       "    </tr>\n",
       "    <tr>\n",
       "      <th id=\"T_b96fa_level0_row38\" class=\"row_heading level0 row38\" >38</th>\n",
       "      <td id=\"T_b96fa_row38_col0\" class=\"data row38 col0\" >Rare Level Threshold</td>\n",
       "      <td id=\"T_b96fa_row38_col1\" class=\"data row38 col1\" >None</td>\n",
       "    </tr>\n",
       "    <tr>\n",
       "      <th id=\"T_b96fa_level0_row39\" class=\"row_heading level0 row39\" >39</th>\n",
       "      <td id=\"T_b96fa_row39_col0\" class=\"data row39 col0\" >Numeric Binning</td>\n",
       "      <td id=\"T_b96fa_row39_col1\" class=\"data row39 col1\" >False</td>\n",
       "    </tr>\n",
       "    <tr>\n",
       "      <th id=\"T_b96fa_level0_row40\" class=\"row_heading level0 row40\" >40</th>\n",
       "      <td id=\"T_b96fa_row40_col0\" class=\"data row40 col0\" >Remove Outliers</td>\n",
       "      <td id=\"T_b96fa_row40_col1\" class=\"data row40 col1\" >False</td>\n",
       "    </tr>\n",
       "    <tr>\n",
       "      <th id=\"T_b96fa_level0_row41\" class=\"row_heading level0 row41\" >41</th>\n",
       "      <td id=\"T_b96fa_row41_col0\" class=\"data row41 col0\" >Outliers Threshold</td>\n",
       "      <td id=\"T_b96fa_row41_col1\" class=\"data row41 col1\" >None</td>\n",
       "    </tr>\n",
       "    <tr>\n",
       "      <th id=\"T_b96fa_level0_row42\" class=\"row_heading level0 row42\" >42</th>\n",
       "      <td id=\"T_b96fa_row42_col0\" class=\"data row42 col0\" >Remove Multicollinearity</td>\n",
       "      <td id=\"T_b96fa_row42_col1\" class=\"data row42 col1\" >False</td>\n",
       "    </tr>\n",
       "    <tr>\n",
       "      <th id=\"T_b96fa_level0_row43\" class=\"row_heading level0 row43\" >43</th>\n",
       "      <td id=\"T_b96fa_row43_col0\" class=\"data row43 col0\" >Multicollinearity Threshold</td>\n",
       "      <td id=\"T_b96fa_row43_col1\" class=\"data row43 col1\" >None</td>\n",
       "    </tr>\n",
       "    <tr>\n",
       "      <th id=\"T_b96fa_level0_row44\" class=\"row_heading level0 row44\" >44</th>\n",
       "      <td id=\"T_b96fa_row44_col0\" class=\"data row44 col0\" >Remove Perfect Collinearity</td>\n",
       "      <td id=\"T_b96fa_row44_col1\" class=\"data row44 col1\" >True</td>\n",
       "    </tr>\n",
       "    <tr>\n",
       "      <th id=\"T_b96fa_level0_row45\" class=\"row_heading level0 row45\" >45</th>\n",
       "      <td id=\"T_b96fa_row45_col0\" class=\"data row45 col0\" >Clustering</td>\n",
       "      <td id=\"T_b96fa_row45_col1\" class=\"data row45 col1\" >False</td>\n",
       "    </tr>\n",
       "    <tr>\n",
       "      <th id=\"T_b96fa_level0_row46\" class=\"row_heading level0 row46\" >46</th>\n",
       "      <td id=\"T_b96fa_row46_col0\" class=\"data row46 col0\" >Clustering Iteration</td>\n",
       "      <td id=\"T_b96fa_row46_col1\" class=\"data row46 col1\" >None</td>\n",
       "    </tr>\n",
       "    <tr>\n",
       "      <th id=\"T_b96fa_level0_row47\" class=\"row_heading level0 row47\" >47</th>\n",
       "      <td id=\"T_b96fa_row47_col0\" class=\"data row47 col0\" >Polynomial Features</td>\n",
       "      <td id=\"T_b96fa_row47_col1\" class=\"data row47 col1\" >False</td>\n",
       "    </tr>\n",
       "    <tr>\n",
       "      <th id=\"T_b96fa_level0_row48\" class=\"row_heading level0 row48\" >48</th>\n",
       "      <td id=\"T_b96fa_row48_col0\" class=\"data row48 col0\" >Polynomial Degree</td>\n",
       "      <td id=\"T_b96fa_row48_col1\" class=\"data row48 col1\" >None</td>\n",
       "    </tr>\n",
       "    <tr>\n",
       "      <th id=\"T_b96fa_level0_row49\" class=\"row_heading level0 row49\" >49</th>\n",
       "      <td id=\"T_b96fa_row49_col0\" class=\"data row49 col0\" >Trignometry Features</td>\n",
       "      <td id=\"T_b96fa_row49_col1\" class=\"data row49 col1\" >False</td>\n",
       "    </tr>\n",
       "    <tr>\n",
       "      <th id=\"T_b96fa_level0_row50\" class=\"row_heading level0 row50\" >50</th>\n",
       "      <td id=\"T_b96fa_row50_col0\" class=\"data row50 col0\" >Polynomial Threshold</td>\n",
       "      <td id=\"T_b96fa_row50_col1\" class=\"data row50 col1\" >None</td>\n",
       "    </tr>\n",
       "    <tr>\n",
       "      <th id=\"T_b96fa_level0_row51\" class=\"row_heading level0 row51\" >51</th>\n",
       "      <td id=\"T_b96fa_row51_col0\" class=\"data row51 col0\" >Group Features</td>\n",
       "      <td id=\"T_b96fa_row51_col1\" class=\"data row51 col1\" >False</td>\n",
       "    </tr>\n",
       "    <tr>\n",
       "      <th id=\"T_b96fa_level0_row52\" class=\"row_heading level0 row52\" >52</th>\n",
       "      <td id=\"T_b96fa_row52_col0\" class=\"data row52 col0\" >Feature Selection</td>\n",
       "      <td id=\"T_b96fa_row52_col1\" class=\"data row52 col1\" >False</td>\n",
       "    </tr>\n",
       "    <tr>\n",
       "      <th id=\"T_b96fa_level0_row53\" class=\"row_heading level0 row53\" >53</th>\n",
       "      <td id=\"T_b96fa_row53_col0\" class=\"data row53 col0\" >Feature Selection Method</td>\n",
       "      <td id=\"T_b96fa_row53_col1\" class=\"data row53 col1\" >classic</td>\n",
       "    </tr>\n",
       "    <tr>\n",
       "      <th id=\"T_b96fa_level0_row54\" class=\"row_heading level0 row54\" >54</th>\n",
       "      <td id=\"T_b96fa_row54_col0\" class=\"data row54 col0\" >Features Selection Threshold</td>\n",
       "      <td id=\"T_b96fa_row54_col1\" class=\"data row54 col1\" >None</td>\n",
       "    </tr>\n",
       "    <tr>\n",
       "      <th id=\"T_b96fa_level0_row55\" class=\"row_heading level0 row55\" >55</th>\n",
       "      <td id=\"T_b96fa_row55_col0\" class=\"data row55 col0\" >Feature Interaction</td>\n",
       "      <td id=\"T_b96fa_row55_col1\" class=\"data row55 col1\" >False</td>\n",
       "    </tr>\n",
       "    <tr>\n",
       "      <th id=\"T_b96fa_level0_row56\" class=\"row_heading level0 row56\" >56</th>\n",
       "      <td id=\"T_b96fa_row56_col0\" class=\"data row56 col0\" >Feature Ratio</td>\n",
       "      <td id=\"T_b96fa_row56_col1\" class=\"data row56 col1\" >False</td>\n",
       "    </tr>\n",
       "    <tr>\n",
       "      <th id=\"T_b96fa_level0_row57\" class=\"row_heading level0 row57\" >57</th>\n",
       "      <td id=\"T_b96fa_row57_col0\" class=\"data row57 col0\" >Interaction Threshold</td>\n",
       "      <td id=\"T_b96fa_row57_col1\" class=\"data row57 col1\" >None</td>\n",
       "    </tr>\n",
       "    <tr>\n",
       "      <th id=\"T_b96fa_level0_row58\" class=\"row_heading level0 row58\" >58</th>\n",
       "      <td id=\"T_b96fa_row58_col0\" class=\"data row58 col0\" >Fix Imbalance</td>\n",
       "      <td id=\"T_b96fa_row58_col1\" class=\"data row58 col1\" >True</td>\n",
       "    </tr>\n",
       "    <tr>\n",
       "      <th id=\"T_b96fa_level0_row59\" class=\"row_heading level0 row59\" >59</th>\n",
       "      <td id=\"T_b96fa_row59_col0\" class=\"data row59 col0\" >Fix Imbalance Method</td>\n",
       "      <td id=\"T_b96fa_row59_col1\" class=\"data row59 col1\" >SMOTE</td>\n",
       "    </tr>\n",
       "  </tbody>\n",
       "</table>\n"
      ],
      "text/plain": [
       "<pandas.io.formats.style.Styler at 0x7f211a133a90>"
      ]
     },
     "metadata": {},
     "output_type": "display_data"
    }
   ],
   "source": [
    "exp_name = setup(data.sample(frac=0.05, random_state=42), fix_imbalance=True, target='pedido', fold=5, session_id=42, silent=True)"
   ]
  },
  {
   "cell_type": "code",
   "execution_count": 108,
   "metadata": {
    "scrolled": false
   },
   "outputs": [
    {
     "data": {
      "text/html": [
       "<style type=\"text/css\">\n",
       "#T_9e349_ th {\n",
       "  text-align: left;\n",
       "}\n",
       "#T_9e349_row0_col0, #T_9e349_row0_col1, #T_9e349_row0_col2, #T_9e349_row0_col3, #T_9e349_row0_col4, #T_9e349_row0_col7, #T_9e349_row1_col0, #T_9e349_row1_col1, #T_9e349_row1_col2, #T_9e349_row1_col4, #T_9e349_row1_col5, #T_9e349_row1_col6, #T_9e349_row1_col7, #T_9e349_row2_col0, #T_9e349_row2_col1, #T_9e349_row2_col2, #T_9e349_row2_col3, #T_9e349_row2_col4, #T_9e349_row2_col5, #T_9e349_row2_col6, #T_9e349_row2_col7, #T_9e349_row3_col0, #T_9e349_row3_col1, #T_9e349_row3_col2, #T_9e349_row3_col3, #T_9e349_row3_col4, #T_9e349_row3_col5, #T_9e349_row3_col6, #T_9e349_row3_col7, #T_9e349_row4_col0, #T_9e349_row4_col1, #T_9e349_row4_col2, #T_9e349_row4_col3, #T_9e349_row4_col4, #T_9e349_row4_col5, #T_9e349_row4_col6, #T_9e349_row4_col7, #T_9e349_row5_col0, #T_9e349_row5_col1, #T_9e349_row5_col2, #T_9e349_row5_col3, #T_9e349_row5_col4, #T_9e349_row5_col5, #T_9e349_row5_col6, #T_9e349_row5_col7, #T_9e349_row6_col0, #T_9e349_row6_col1, #T_9e349_row6_col2, #T_9e349_row6_col3, #T_9e349_row6_col4, #T_9e349_row6_col5, #T_9e349_row6_col6, #T_9e349_row6_col7, #T_9e349_row7_col0, #T_9e349_row7_col3, #T_9e349_row7_col5, #T_9e349_row7_col6, #T_9e349_row8_col0, #T_9e349_row8_col1, #T_9e349_row8_col2, #T_9e349_row8_col3, #T_9e349_row8_col4, #T_9e349_row8_col5, #T_9e349_row8_col6, #T_9e349_row8_col7 {\n",
       "  text-align: left;\n",
       "}\n",
       "#T_9e349_row0_col5, #T_9e349_row0_col6, #T_9e349_row1_col3, #T_9e349_row7_col1, #T_9e349_row7_col2, #T_9e349_row7_col4, #T_9e349_row7_col7 {\n",
       "  text-align: left;\n",
       "  background-color: yellow;\n",
       "}\n",
       "#T_9e349_row0_col8, #T_9e349_row1_col8, #T_9e349_row2_col8, #T_9e349_row4_col8, #T_9e349_row5_col8, #T_9e349_row6_col8, #T_9e349_row7_col8, #T_9e349_row8_col8 {\n",
       "  text-align: left;\n",
       "  background-color: lightgrey;\n",
       "}\n",
       "#T_9e349_row3_col8 {\n",
       "  text-align: left;\n",
       "  background-color: yellow;\n",
       "  background-color: lightgrey;\n",
       "}\n",
       "</style>\n",
       "<table id=\"T_9e349_\">\n",
       "  <thead>\n",
       "    <tr>\n",
       "      <th class=\"blank level0\" >&nbsp;</th>\n",
       "      <th class=\"col_heading level0 col0\" >Model</th>\n",
       "      <th class=\"col_heading level0 col1\" >Accuracy</th>\n",
       "      <th class=\"col_heading level0 col2\" >AUC</th>\n",
       "      <th class=\"col_heading level0 col3\" >Recall</th>\n",
       "      <th class=\"col_heading level0 col4\" >Prec.</th>\n",
       "      <th class=\"col_heading level0 col5\" >F1</th>\n",
       "      <th class=\"col_heading level0 col6\" >Kappa</th>\n",
       "      <th class=\"col_heading level0 col7\" >MCC</th>\n",
       "      <th class=\"col_heading level0 col8\" >TT (Sec)</th>\n",
       "    </tr>\n",
       "  </thead>\n",
       "  <tbody>\n",
       "    <tr>\n",
       "      <th id=\"T_9e349_level0_row0\" class=\"row_heading level0 row0\" >lr</th>\n",
       "      <td id=\"T_9e349_row0_col0\" class=\"data row0 col0\" >Logistic Regression</td>\n",
       "      <td id=\"T_9e349_row0_col1\" class=\"data row0 col1\" >0.5987</td>\n",
       "      <td id=\"T_9e349_row0_col2\" class=\"data row0 col2\" >0.6424</td>\n",
       "      <td id=\"T_9e349_row0_col3\" class=\"data row0 col3\" >0.6052</td>\n",
       "      <td id=\"T_9e349_row0_col4\" class=\"data row0 col4\" >0.4573</td>\n",
       "      <td id=\"T_9e349_row0_col5\" class=\"data row0 col5\" >0.5210</td>\n",
       "      <td id=\"T_9e349_row0_col6\" class=\"data row0 col6\" >0.1870</td>\n",
       "      <td id=\"T_9e349_row0_col7\" class=\"data row0 col7\" >0.1925</td>\n",
       "      <td id=\"T_9e349_row0_col8\" class=\"data row0 col8\" >9.3360</td>\n",
       "    </tr>\n",
       "    <tr>\n",
       "      <th id=\"T_9e349_level0_row1\" class=\"row_heading level0 row1\" >knn</th>\n",
       "      <td id=\"T_9e349_row1_col0\" class=\"data row1 col0\" >K Neighbors Classifier</td>\n",
       "      <td id=\"T_9e349_row1_col1\" class=\"data row1 col1\" >0.5050</td>\n",
       "      <td id=\"T_9e349_row1_col2\" class=\"data row1 col2\" >0.5611</td>\n",
       "      <td id=\"T_9e349_row1_col3\" class=\"data row1 col3\" >0.6940</td>\n",
       "      <td id=\"T_9e349_row1_col4\" class=\"data row1 col4\" >0.3941</td>\n",
       "      <td id=\"T_9e349_row1_col5\" class=\"data row1 col5\" >0.5027</td>\n",
       "      <td id=\"T_9e349_row1_col6\" class=\"data row1 col6\" >0.0793</td>\n",
       "      <td id=\"T_9e349_row1_col7\" class=\"data row1 col7\" >0.0922</td>\n",
       "      <td id=\"T_9e349_row1_col8\" class=\"data row1 col8\" >27.5340</td>\n",
       "    </tr>\n",
       "    <tr>\n",
       "      <th id=\"T_9e349_level0_row2\" class=\"row_heading level0 row2\" >ada</th>\n",
       "      <td id=\"T_9e349_row2_col0\" class=\"data row2 col0\" >Ada Boost Classifier</td>\n",
       "      <td id=\"T_9e349_row2_col1\" class=\"data row2 col1\" >0.6255</td>\n",
       "      <td id=\"T_9e349_row2_col2\" class=\"data row2 col2\" >0.6343</td>\n",
       "      <td id=\"T_9e349_row2_col3\" class=\"data row2 col3\" >0.4543</td>\n",
       "      <td id=\"T_9e349_row2_col4\" class=\"data row2 col4\" >0.4797</td>\n",
       "      <td id=\"T_9e349_row2_col5\" class=\"data row2 col5\" >0.4667</td>\n",
       "      <td id=\"T_9e349_row2_col6\" class=\"data row2 col6\" >0.1785</td>\n",
       "      <td id=\"T_9e349_row2_col7\" class=\"data row2 col7\" >0.1786</td>\n",
       "      <td id=\"T_9e349_row2_col8\" class=\"data row2 col8\" >6.8580</td>\n",
       "    </tr>\n",
       "    <tr>\n",
       "      <th id=\"T_9e349_level0_row3\" class=\"row_heading level0 row3\" >dt</th>\n",
       "      <td id=\"T_9e349_row3_col0\" class=\"data row3 col0\" >Decision Tree Classifier</td>\n",
       "      <td id=\"T_9e349_row3_col1\" class=\"data row3 col1\" >0.5867</td>\n",
       "      <td id=\"T_9e349_row3_col2\" class=\"data row3 col2\" >0.5568</td>\n",
       "      <td id=\"T_9e349_row3_col3\" class=\"data row3 col3\" >0.4497</td>\n",
       "      <td id=\"T_9e349_row3_col4\" class=\"data row3 col4\" >0.4302</td>\n",
       "      <td id=\"T_9e349_row3_col5\" class=\"data row3 col5\" >0.4398</td>\n",
       "      <td id=\"T_9e349_row3_col6\" class=\"data row3 col6\" >0.1127</td>\n",
       "      <td id=\"T_9e349_row3_col7\" class=\"data row3 col7\" >0.1127</td>\n",
       "      <td id=\"T_9e349_row3_col8\" class=\"data row3 col8\" >6.4660</td>\n",
       "    </tr>\n",
       "    <tr>\n",
       "      <th id=\"T_9e349_level0_row4\" class=\"row_heading level0 row4\" >svm</th>\n",
       "      <td id=\"T_9e349_row4_col0\" class=\"data row4 col0\" >SVM - Linear Kernel</td>\n",
       "      <td id=\"T_9e349_row4_col1\" class=\"data row4 col1\" >0.6115</td>\n",
       "      <td id=\"T_9e349_row4_col2\" class=\"data row4 col2\" >0.0000</td>\n",
       "      <td id=\"T_9e349_row4_col3\" class=\"data row4 col3\" >0.4650</td>\n",
       "      <td id=\"T_9e349_row4_col4\" class=\"data row4 col4\" >0.4782</td>\n",
       "      <td id=\"T_9e349_row4_col5\" class=\"data row4 col5\" >0.4338</td>\n",
       "      <td id=\"T_9e349_row4_col6\" class=\"data row4 col6\" >0.1556</td>\n",
       "      <td id=\"T_9e349_row4_col7\" class=\"data row4 col7\" >0.1682</td>\n",
       "      <td id=\"T_9e349_row4_col8\" class=\"data row4 col8\" >6.8780</td>\n",
       "    </tr>\n",
       "    <tr>\n",
       "      <th id=\"T_9e349_level0_row5\" class=\"row_heading level0 row5\" >xgboost</th>\n",
       "      <td id=\"T_9e349_row5_col0\" class=\"data row5 col0\" >Extreme Gradient Boosting</td>\n",
       "      <td id=\"T_9e349_row5_col1\" class=\"data row5 col1\" >0.6434</td>\n",
       "      <td id=\"T_9e349_row5_col2\" class=\"data row5 col2\" >0.6347</td>\n",
       "      <td id=\"T_9e349_row5_col3\" class=\"data row5 col3\" >0.3044</td>\n",
       "      <td id=\"T_9e349_row5_col4\" class=\"data row5 col4\" >0.5087</td>\n",
       "      <td id=\"T_9e349_row5_col5\" class=\"data row5 col5\" >0.3807</td>\n",
       "      <td id=\"T_9e349_row5_col6\" class=\"data row5 col6\" >0.1521</td>\n",
       "      <td id=\"T_9e349_row5_col7\" class=\"data row5 col7\" >0.1620</td>\n",
       "      <td id=\"T_9e349_row5_col8\" class=\"data row5 col8\" >26.0980</td>\n",
       "    </tr>\n",
       "    <tr>\n",
       "      <th id=\"T_9e349_level0_row6\" class=\"row_heading level0 row6\" >gbc</th>\n",
       "      <td id=\"T_9e349_row6_col0\" class=\"data row6 col0\" >Gradient Boosting Classifier</td>\n",
       "      <td id=\"T_9e349_row6_col1\" class=\"data row6 col1\" >0.6482</td>\n",
       "      <td id=\"T_9e349_row6_col2\" class=\"data row6 col2\" >0.6478</td>\n",
       "      <td id=\"T_9e349_row6_col3\" class=\"data row6 col3\" >0.2799</td>\n",
       "      <td id=\"T_9e349_row6_col4\" class=\"data row6 col4\" >0.5227</td>\n",
       "      <td id=\"T_9e349_row6_col5\" class=\"data row6 col5\" >0.3645</td>\n",
       "      <td id=\"T_9e349_row6_col6\" class=\"data row6 col6\" >0.1511</td>\n",
       "      <td id=\"T_9e349_row6_col7\" class=\"data row6 col7\" >0.1652</td>\n",
       "      <td id=\"T_9e349_row6_col8\" class=\"data row6 col8\" >8.1600</td>\n",
       "    </tr>\n",
       "    <tr>\n",
       "      <th id=\"T_9e349_level0_row7\" class=\"row_heading level0 row7\" >rf</th>\n",
       "      <td id=\"T_9e349_row7_col0\" class=\"data row7 col0\" >Random Forest Classifier</td>\n",
       "      <td id=\"T_9e349_row7_col1\" class=\"data row7 col1\" >0.6660</td>\n",
       "      <td id=\"T_9e349_row7_col2\" class=\"data row7 col2\" >0.6501</td>\n",
       "      <td id=\"T_9e349_row7_col3\" class=\"data row7 col3\" >0.2418</td>\n",
       "      <td id=\"T_9e349_row7_col4\" class=\"data row7 col4\" >0.5898</td>\n",
       "      <td id=\"T_9e349_row7_col5\" class=\"data row7 col5\" >0.3430</td>\n",
       "      <td id=\"T_9e349_row7_col6\" class=\"data row7 col6\" >0.1688</td>\n",
       "      <td id=\"T_9e349_row7_col7\" class=\"data row7 col7\" >0.1989</td>\n",
       "      <td id=\"T_9e349_row7_col8\" class=\"data row7 col8\" >7.2060</td>\n",
       "    </tr>\n",
       "    <tr>\n",
       "      <th id=\"T_9e349_level0_row8\" class=\"row_heading level0 row8\" >dummy</th>\n",
       "      <td id=\"T_9e349_row8_col0\" class=\"data row8 col0\" >Dummy Classifier</td>\n",
       "      <td id=\"T_9e349_row8_col1\" class=\"data row8 col1\" >0.6394</td>\n",
       "      <td id=\"T_9e349_row8_col2\" class=\"data row8 col2\" >0.5000</td>\n",
       "      <td id=\"T_9e349_row8_col3\" class=\"data row8 col3\" >0.0000</td>\n",
       "      <td id=\"T_9e349_row8_col4\" class=\"data row8 col4\" >0.0000</td>\n",
       "      <td id=\"T_9e349_row8_col5\" class=\"data row8 col5\" >0.0000</td>\n",
       "      <td id=\"T_9e349_row8_col6\" class=\"data row8 col6\" >0.0000</td>\n",
       "      <td id=\"T_9e349_row8_col7\" class=\"data row8 col7\" >0.0000</td>\n",
       "      <td id=\"T_9e349_row8_col8\" class=\"data row8 col8\" >6.4880</td>\n",
       "    </tr>\n",
       "  </tbody>\n",
       "</table>\n"
      ],
      "text/plain": [
       "<pandas.io.formats.style.Styler at 0x7f2234206460>"
      ]
     },
     "metadata": {},
     "output_type": "display_data"
    },
    {
     "name": "stdout",
     "output_type": "stream",
     "text": [
      "CPU times: user 1min 26s, sys: 15.3 s, total: 1min 41s\n",
      "Wall time: 9min 27s\n"
     ]
    }
   ],
   "source": [
    "%%time\n",
    "\n",
    "best_model = compare_models(include=['dummy', 'lr', 'knn', 'svm', 'dt', 'rf', 'ada', 'gbc', 'xgboost'], sort='F1')"
   ]
  },
  {
   "cell_type": "markdown",
   "metadata": {},
   "source": [
    "### Otimização do modelo que apresentou a melhor performance com balanceamento de classes baseado em ajuste de hiperparâmetros / *Optimization of the model that presented the best performance with class balancing based on hyperparameter tuning*"
   ]
  },
  {
   "cell_type": "code",
   "execution_count": 109,
   "metadata": {},
   "outputs": [],
   "source": [
    "data_sample = data.sample(frac=0.01, random_state=42)\n",
    "\n",
    "X = data_sample.drop(columns=['pedido'])\n",
    "y = data_sample['pedido']\n",
    "\n",
    "del data_sample"
   ]
  },
  {
   "cell_type": "code",
   "execution_count": 110,
   "metadata": {
    "id": "HUQoaPScpMyQ"
   },
   "outputs": [
    {
     "name": "stdout",
     "output_type": "stream",
     "text": [
      "Fitting 5 folds for each of 100 candidates, totalling 500 fits\n"
     ]
    },
    {
     "name": "stderr",
     "output_type": "stream",
     "text": [
      "[Parallel(n_jobs=-1)]: Using backend LokyBackend with 12 concurrent workers.\n",
      "[Parallel(n_jobs=-1)]: Done  34 tasks      | elapsed:    7.4s\n",
      "/home/solanojacon/.pyenv/versions/3.8.12/envs/4tune/lib/python3.8/site-packages/sklearn/utils/deprecation.py:101: FutureWarning: The outputs_2d_ attribute is deprecated in version 0.22 and will be removed in version 0.24. It is equivalent to n_outputs_ > 1.\n",
      "  warnings.warn(msg, category=FutureWarning)\n",
      "/home/solanojacon/.pyenv/versions/3.8.12/envs/4tune/lib/python3.8/site-packages/sklearn/metrics/_classification.py:1221: UndefinedMetricWarning: Precision is ill-defined and being set to 0.0 due to no predicted samples. Use `zero_division` parameter to control this behavior.\n",
      "  _warn_prf(average, modifier, msg_start, len(result))\n",
      "/home/solanojacon/.pyenv/versions/3.8.12/envs/4tune/lib/python3.8/site-packages/sklearn/metrics/_classification.py:846: RuntimeWarning: invalid value encountered in double_scalars\n",
      "  mcc = cov_ytyp / np.sqrt(cov_ytyt * cov_ypyp)\n",
      "/home/solanojacon/.pyenv/versions/3.8.12/envs/4tune/lib/python3.8/site-packages/sklearn/utils/deprecation.py:101: FutureWarning: Attribute standard_coef_ was deprecated in version 0.23 and will be removed in 0.25.\n",
      "  warnings.warn(msg, category=FutureWarning)\n",
      "/home/solanojacon/.pyenv/versions/3.8.12/envs/4tune/lib/python3.8/site-packages/sklearn/utils/deprecation.py:101: FutureWarning: Attribute standard_intercept_ was deprecated in version 0.23 and will be removed in 0.25.\n",
      "  warnings.warn(msg, category=FutureWarning)\n",
      "/home/solanojacon/.pyenv/versions/3.8.12/envs/4tune/lib/python3.8/site-packages/sklearn/utils/deprecation.py:101: FutureWarning: Attribute average_coef_ was deprecated in version 0.23 and will be removed in 0.25.\n",
      "  warnings.warn(msg, category=FutureWarning)\n",
      "/home/solanojacon/.pyenv/versions/3.8.12/envs/4tune/lib/python3.8/site-packages/sklearn/utils/deprecation.py:101: FutureWarning: Attribute average_intercept_ was deprecated in version 0.23 and will be removed in 0.25.\n",
      "  warnings.warn(msg, category=FutureWarning)\n",
      "/home/solanojacon/.pyenv/versions/3.8.12/envs/4tune/lib/python3.8/site-packages/sklearn/linear_model/_logistic.py:1320: UserWarning: Setting penalty='none' will ignore the C and l1_ratio parameters\n",
      "  warnings.warn(\n",
      "/home/solanojacon/.pyenv/versions/3.8.12/envs/4tune/lib/python3.8/site-packages/sklearn/linear_model/_logistic.py:762: ConvergenceWarning: lbfgs failed to converge (status=1):\n",
      "STOP: TOTAL NO. of ITERATIONS REACHED LIMIT.\n",
      "\n",
      "Increase the number of iterations (max_iter) or scale the data as shown in:\n",
      "    https://scikit-learn.org/stable/modules/preprocessing.html\n",
      "Please also refer to the documentation for alternative solver options:\n",
      "    https://scikit-learn.org/stable/modules/linear_model.html#logistic-regression\n",
      "  n_iter_i = _check_optimize_result(\n",
      "/home/solanojacon/.pyenv/versions/3.8.12/envs/4tune/lib/python3.8/site-packages/sklearn/linear_model/_logistic.py:1320: UserWarning: Setting penalty='none' will ignore the C and l1_ratio parameters\n",
      "  warnings.warn(\n",
      "/home/solanojacon/.pyenv/versions/3.8.12/envs/4tune/lib/python3.8/site-packages/sklearn/linear_model/_sag.py:329: ConvergenceWarning: The max_iter was reached which means the coef_ did not converge\n",
      "  warnings.warn(\"The max_iter was reached which means \"\n",
      "/home/solanojacon/.pyenv/versions/3.8.12/envs/4tune/lib/python3.8/site-packages/sklearn/model_selection/_validation.py:548: FitFailedWarning: Estimator fit failed. The score on this train-test partition for these parameters will be set to nan. Details: \n",
      "Traceback (most recent call last):\n",
      "  File \"/home/solanojacon/.pyenv/versions/3.8.12/envs/4tune/lib/python3.8/site-packages/sklearn/model_selection/_validation.py\", line 531, in _fit_and_score\n",
      "    estimator.fit(X_train, y_train, **fit_params)\n",
      "  File \"/home/solanojacon/.pyenv/versions/3.8.12/envs/4tune/lib/python3.8/site-packages/sklearn/linear_model/_logistic.py\", line 1304, in fit\n",
      "    solver = _check_solver(self.solver, self.penalty, self.dual)\n",
      "  File \"/home/solanojacon/.pyenv/versions/3.8.12/envs/4tune/lib/python3.8/site-packages/sklearn/linear_model/_logistic.py\", line 442, in _check_solver\n",
      "    raise ValueError(\"Solver %s supports only 'l2' or 'none' penalties, \"\n",
      "ValueError: Solver sag supports only 'l2' or 'none' penalties, got l1 penalty.\n",
      "\n",
      "  warnings.warn(\"Estimator fit failed. The score on this train-test\"\n",
      "/home/solanojacon/.pyenv/versions/3.8.12/envs/4tune/lib/python3.8/site-packages/sklearn/linear_model/_sag.py:329: ConvergenceWarning: The max_iter was reached which means the coef_ did not converge\n",
      "  warnings.warn(\"The max_iter was reached which means \"\n",
      "/home/solanojacon/.pyenv/versions/3.8.12/envs/4tune/lib/python3.8/site-packages/sklearn/linear_model/_logistic.py:762: ConvergenceWarning: lbfgs failed to converge (status=1):\n",
      "STOP: TOTAL NO. of ITERATIONS REACHED LIMIT.\n",
      "\n",
      "Increase the number of iterations (max_iter) or scale the data as shown in:\n",
      "    https://scikit-learn.org/stable/modules/preprocessing.html\n",
      "Please also refer to the documentation for alternative solver options:\n",
      "    https://scikit-learn.org/stable/modules/linear_model.html#logistic-regression\n",
      "  n_iter_i = _check_optimize_result(\n",
      "/home/solanojacon/.pyenv/versions/3.8.12/envs/4tune/lib/python3.8/site-packages/sklearn/linear_model/_logistic.py:762: ConvergenceWarning: lbfgs failed to converge (status=1):\n",
      "STOP: TOTAL NO. of ITERATIONS REACHED LIMIT.\n",
      "\n",
      "Increase the number of iterations (max_iter) or scale the data as shown in:\n",
      "    https://scikit-learn.org/stable/modules/preprocessing.html\n",
      "Please also refer to the documentation for alternative solver options:\n",
      "    https://scikit-learn.org/stable/modules/linear_model.html#logistic-regression\n",
      "  n_iter_i = _check_optimize_result(\n",
      "/home/solanojacon/.pyenv/versions/3.8.12/envs/4tune/lib/python3.8/site-packages/sklearn/linear_model/_sag.py:329: ConvergenceWarning: The max_iter was reached which means the coef_ did not converge\n",
      "  warnings.warn(\"The max_iter was reached which means \"\n",
      "/home/solanojacon/.pyenv/versions/3.8.12/envs/4tune/lib/python3.8/site-packages/sklearn/linear_model/_sag.py:329: ConvergenceWarning: The max_iter was reached which means the coef_ did not converge\n",
      "  warnings.warn(\"The max_iter was reached which means \"\n",
      "/home/solanojacon/.pyenv/versions/3.8.12/envs/4tune/lib/python3.8/site-packages/sklearn/linear_model/_logistic.py:1320: UserWarning: Setting penalty='none' will ignore the C and l1_ratio parameters\n",
      "  warnings.warn(\n",
      "/home/solanojacon/.pyenv/versions/3.8.12/envs/4tune/lib/python3.8/site-packages/sklearn/linear_model/_logistic.py:762: ConvergenceWarning: lbfgs failed to converge (status=1):\n",
      "STOP: TOTAL NO. of ITERATIONS REACHED LIMIT.\n",
      "\n",
      "Increase the number of iterations (max_iter) or scale the data as shown in:\n",
      "    https://scikit-learn.org/stable/modules/preprocessing.html\n",
      "Please also refer to the documentation for alternative solver options:\n",
      "    https://scikit-learn.org/stable/modules/linear_model.html#logistic-regression\n",
      "  n_iter_i = _check_optimize_result(\n",
      "/home/solanojacon/.pyenv/versions/3.8.12/envs/4tune/lib/python3.8/site-packages/sklearn/model_selection/_validation.py:548: FitFailedWarning: Estimator fit failed. The score on this train-test partition for these parameters will be set to nan. Details: \n",
      "Traceback (most recent call last):\n",
      "  File \"/home/solanojacon/.pyenv/versions/3.8.12/envs/4tune/lib/python3.8/site-packages/sklearn/model_selection/_validation.py\", line 531, in _fit_and_score\n",
      "    estimator.fit(X_train, y_train, **fit_params)\n",
      "  File \"/home/solanojacon/.pyenv/versions/3.8.12/envs/4tune/lib/python3.8/site-packages/sklearn/linear_model/_logistic.py\", line 1304, in fit\n",
      "    solver = _check_solver(self.solver, self.penalty, self.dual)\n",
      "  File \"/home/solanojacon/.pyenv/versions/3.8.12/envs/4tune/lib/python3.8/site-packages/sklearn/linear_model/_logistic.py\", line 453, in _check_solver\n",
      "    raise ValueError(\n",
      "ValueError: penalty='none' is not supported for the liblinear solver\n",
      "\n",
      "  warnings.warn(\"Estimator fit failed. The score on this train-test\"\n",
      "/home/solanojacon/.pyenv/versions/3.8.12/envs/4tune/lib/python3.8/site-packages/sklearn/linear_model/_logistic.py:1320: UserWarning: Setting penalty='none' will ignore the C and l1_ratio parameters\n",
      "  warnings.warn(\n"
     ]
    },
    {
     "name": "stderr",
     "output_type": "stream",
     "text": [
      "/home/solanojacon/.pyenv/versions/3.8.12/envs/4tune/lib/python3.8/site-packages/xgboost/sklearn.py:1224: UserWarning: The use of label encoder in XGBClassifier is deprecated and will be removed in a future release. To remove this warning, do the following: 1) Pass option use_label_encoder=False when constructing XGBClassifier object; and 2) Encode your labels (y) as integers starting with 0, i.e. 0, 1, 2, ..., [num_class - 1].\n",
      "  warnings.warn(label_encoder_deprecation_msg, UserWarning)\n",
      "/home/solanojacon/.pyenv/versions/3.8.12/envs/4tune/lib/python3.8/site-packages/sklearn/utils/deprecation.py:101: FutureWarning: The outputs_2d_ attribute is deprecated in version 0.22 and will be removed in version 0.24. It is equivalent to n_outputs_ > 1.\n",
      "  warnings.warn(msg, category=FutureWarning)\n",
      "/home/solanojacon/.pyenv/versions/3.8.12/envs/4tune/lib/python3.8/site-packages/sklearn/metrics/_classification.py:1221: UndefinedMetricWarning: Precision is ill-defined and being set to 0.0 due to no predicted samples. Use `zero_division` parameter to control this behavior.\n",
      "  _warn_prf(average, modifier, msg_start, len(result))\n",
      "/home/solanojacon/.pyenv/versions/3.8.12/envs/4tune/lib/python3.8/site-packages/sklearn/metrics/_classification.py:846: RuntimeWarning: invalid value encountered in double_scalars\n",
      "  mcc = cov_ytyp / np.sqrt(cov_ytyt * cov_ypyp)\n",
      "/home/solanojacon/.pyenv/versions/3.8.12/envs/4tune/lib/python3.8/site-packages/sklearn/linear_model/_logistic.py:1320: UserWarning: Setting penalty='none' will ignore the C and l1_ratio parameters\n",
      "  warnings.warn(\n",
      "/home/solanojacon/.pyenv/versions/3.8.12/envs/4tune/lib/python3.8/site-packages/sklearn/model_selection/_validation.py:548: FitFailedWarning: Estimator fit failed. The score on this train-test partition for these parameters will be set to nan. Details: \n",
      "Traceback (most recent call last):\n",
      "  File \"/home/solanojacon/.pyenv/versions/3.8.12/envs/4tune/lib/python3.8/site-packages/sklearn/model_selection/_validation.py\", line 531, in _fit_and_score\n",
      "    estimator.fit(X_train, y_train, **fit_params)\n",
      "  File \"/home/solanojacon/.pyenv/versions/3.8.12/envs/4tune/lib/python3.8/site-packages/sklearn/linear_model/_logistic.py\", line 1304, in fit\n",
      "    solver = _check_solver(self.solver, self.penalty, self.dual)\n",
      "  File \"/home/solanojacon/.pyenv/versions/3.8.12/envs/4tune/lib/python3.8/site-packages/sklearn/linear_model/_logistic.py\", line 442, in _check_solver\n",
      "    raise ValueError(\"Solver %s supports only 'l2' or 'none' penalties, \"\n",
      "ValueError: Solver newton-cg supports only 'l2' or 'none' penalties, got elasticnet penalty.\n",
      "\n",
      "  warnings.warn(\"Estimator fit failed. The score on this train-test\"\n",
      "/home/solanojacon/.pyenv/versions/3.8.12/envs/4tune/lib/python3.8/site-packages/sklearn/model_selection/_validation.py:548: FitFailedWarning: Estimator fit failed. The score on this train-test partition for these parameters will be set to nan. Details: \n",
      "Traceback (most recent call last):\n",
      "  File \"/home/solanojacon/.pyenv/versions/3.8.12/envs/4tune/lib/python3.8/site-packages/sklearn/model_selection/_validation.py\", line 531, in _fit_and_score\n",
      "    estimator.fit(X_train, y_train, **fit_params)\n",
      "  File \"/home/solanojacon/.pyenv/versions/3.8.12/envs/4tune/lib/python3.8/site-packages/sklearn/linear_model/_logistic.py\", line 1304, in fit\n",
      "    solver = _check_solver(self.solver, self.penalty, self.dual)\n",
      "  File \"/home/solanojacon/.pyenv/versions/3.8.12/envs/4tune/lib/python3.8/site-packages/sklearn/linear_model/_logistic.py\", line 442, in _check_solver\n",
      "    raise ValueError(\"Solver %s supports only 'l2' or 'none' penalties, \"\n",
      "ValueError: Solver lbfgs supports only 'l2' or 'none' penalties, got elasticnet penalty.\n",
      "\n",
      "  warnings.warn(\"Estimator fit failed. The score on this train-test\"\n",
      "/home/solanojacon/.pyenv/versions/3.8.12/envs/4tune/lib/python3.8/site-packages/sklearn/model_selection/_validation.py:548: FitFailedWarning: Estimator fit failed. The score on this train-test partition for these parameters will be set to nan. Details: \n",
      "Traceback (most recent call last):\n",
      "  File \"/home/solanojacon/.pyenv/versions/3.8.12/envs/4tune/lib/python3.8/site-packages/sklearn/model_selection/_validation.py\", line 531, in _fit_and_score\n",
      "    estimator.fit(X_train, y_train, **fit_params)\n",
      "  File \"/home/solanojacon/.pyenv/versions/3.8.12/envs/4tune/lib/python3.8/site-packages/sklearn/linear_model/_logistic.py\", line 1304, in fit\n",
      "    solver = _check_solver(self.solver, self.penalty, self.dual)\n",
      "  File \"/home/solanojacon/.pyenv/versions/3.8.12/envs/4tune/lib/python3.8/site-packages/sklearn/linear_model/_logistic.py\", line 449, in _check_solver\n",
      "    raise ValueError(\"Only 'saga' solver supports elasticnet penalty,\"\n",
      "ValueError: Only 'saga' solver supports elasticnet penalty, got solver=liblinear.\n",
      "\n",
      "  warnings.warn(\"Estimator fit failed. The score on this train-test\"\n",
      "/home/solanojacon/.pyenv/versions/3.8.12/envs/4tune/lib/python3.8/site-packages/sklearn/model_selection/_validation.py:548: FitFailedWarning: Estimator fit failed. The score on this train-test partition for these parameters will be set to nan. Details: \n",
      "Traceback (most recent call last):\n",
      "  File \"/home/solanojacon/.pyenv/versions/3.8.12/envs/4tune/lib/python3.8/site-packages/sklearn/model_selection/_validation.py\", line 531, in _fit_and_score\n",
      "    estimator.fit(X_train, y_train, **fit_params)\n",
      "  File \"/home/solanojacon/.pyenv/versions/3.8.12/envs/4tune/lib/python3.8/site-packages/sklearn/linear_model/_logistic.py\", line 1304, in fit\n",
      "    solver = _check_solver(self.solver, self.penalty, self.dual)\n",
      "  File \"/home/solanojacon/.pyenv/versions/3.8.12/envs/4tune/lib/python3.8/site-packages/sklearn/linear_model/_logistic.py\", line 442, in _check_solver\n",
      "    raise ValueError(\"Solver %s supports only 'l2' or 'none' penalties, \"\n",
      "ValueError: Solver sag supports only 'l2' or 'none' penalties, got elasticnet penalty.\n",
      "\n",
      "  warnings.warn(\"Estimator fit failed. The score on this train-test\"\n",
      "/home/solanojacon/.pyenv/versions/3.8.12/envs/4tune/lib/python3.8/site-packages/sklearn/model_selection/_validation.py:548: FitFailedWarning: Estimator fit failed. The score on this train-test partition for these parameters will be set to nan. Details: \n",
      "Traceback (most recent call last):\n",
      "  File \"/home/solanojacon/.pyenv/versions/3.8.12/envs/4tune/lib/python3.8/site-packages/sklearn/model_selection/_validation.py\", line 531, in _fit_and_score\n",
      "    estimator.fit(X_train, y_train, **fit_params)\n",
      "  File \"/home/solanojacon/.pyenv/versions/3.8.12/envs/4tune/lib/python3.8/site-packages/sklearn/linear_model/_logistic.py\", line 1312, in fit\n",
      "    raise ValueError(\"l1_ratio must be between 0 and 1;\"\n",
      "ValueError: l1_ratio must be between 0 and 1; got (l1_ratio=None)\n",
      "\n",
      "  warnings.warn(\"Estimator fit failed. The score on this train-test\"\n",
      "/home/solanojacon/.pyenv/versions/3.8.12/envs/4tune/lib/python3.8/site-packages/sklearn/linear_model/_logistic.py:1320: UserWarning: Setting penalty='none' will ignore the C and l1_ratio parameters\n",
      "  warnings.warn(\n",
      "/home/solanojacon/.pyenv/versions/3.8.12/envs/4tune/lib/python3.8/site-packages/sklearn/linear_model/_logistic.py:762: ConvergenceWarning: lbfgs failed to converge (status=1):\n",
      "STOP: TOTAL NO. of ITERATIONS REACHED LIMIT.\n",
      "\n",
      "Increase the number of iterations (max_iter) or scale the data as shown in:\n",
      "    https://scikit-learn.org/stable/modules/preprocessing.html\n",
      "Please also refer to the documentation for alternative solver options:\n",
      "    https://scikit-learn.org/stable/modules/linear_model.html#logistic-regression\n",
      "  n_iter_i = _check_optimize_result(\n",
      "/home/solanojacon/.pyenv/versions/3.8.12/envs/4tune/lib/python3.8/site-packages/sklearn/linear_model/_logistic.py:762: ConvergenceWarning: lbfgs failed to converge (status=1):\n",
      "STOP: TOTAL NO. of ITERATIONS REACHED LIMIT.\n",
      "\n",
      "Increase the number of iterations (max_iter) or scale the data as shown in:\n",
      "    https://scikit-learn.org/stable/modules/preprocessing.html\n",
      "Please also refer to the documentation for alternative solver options:\n",
      "    https://scikit-learn.org/stable/modules/linear_model.html#logistic-regression\n",
      "  n_iter_i = _check_optimize_result(\n",
      "/home/solanojacon/.pyenv/versions/3.8.12/envs/4tune/lib/python3.8/site-packages/sklearn/utils/deprecation.py:101: FutureWarning: The outputs_2d_ attribute is deprecated in version 0.22 and will be removed in version 0.24. It is equivalent to n_outputs_ > 1.\n",
      "  warnings.warn(msg, category=FutureWarning)\n",
      "/home/solanojacon/.pyenv/versions/3.8.12/envs/4tune/lib/python3.8/site-packages/sklearn/metrics/_classification.py:1221: UndefinedMetricWarning: Precision is ill-defined and being set to 0.0 due to no predicted samples. Use `zero_division` parameter to control this behavior.\n",
      "  _warn_prf(average, modifier, msg_start, len(result))\n",
      "/home/solanojacon/.pyenv/versions/3.8.12/envs/4tune/lib/python3.8/site-packages/sklearn/metrics/_classification.py:846: RuntimeWarning: invalid value encountered in double_scalars\n",
      "  mcc = cov_ytyp / np.sqrt(cov_ytyt * cov_ypyp)\n",
      "/home/solanojacon/.pyenv/versions/3.8.12/envs/4tune/lib/python3.8/site-packages/sklearn/utils/deprecation.py:101: FutureWarning: Attribute standard_coef_ was deprecated in version 0.23 and will be removed in 0.25.\n",
      "  warnings.warn(msg, category=FutureWarning)\n",
      "/home/solanojacon/.pyenv/versions/3.8.12/envs/4tune/lib/python3.8/site-packages/sklearn/utils/deprecation.py:101: FutureWarning: Attribute standard_intercept_ was deprecated in version 0.23 and will be removed in 0.25.\n",
      "  warnings.warn(msg, category=FutureWarning)\n",
      "/home/solanojacon/.pyenv/versions/3.8.12/envs/4tune/lib/python3.8/site-packages/sklearn/utils/deprecation.py:101: FutureWarning: Attribute average_coef_ was deprecated in version 0.23 and will be removed in 0.25.\n",
      "  warnings.warn(msg, category=FutureWarning)\n",
      "/home/solanojacon/.pyenv/versions/3.8.12/envs/4tune/lib/python3.8/site-packages/sklearn/utils/deprecation.py:101: FutureWarning: Attribute average_intercept_ was deprecated in version 0.23 and will be removed in 0.25.\n",
      "  warnings.warn(msg, category=FutureWarning)\n",
      "/home/solanojacon/.pyenv/versions/3.8.12/envs/4tune/lib/python3.8/site-packages/sklearn/linear_model/_logistic.py:1320: UserWarning: Setting penalty='none' will ignore the C and l1_ratio parameters\n",
      "  warnings.warn(\n",
      "/home/solanojacon/.pyenv/versions/3.8.12/envs/4tune/lib/python3.8/site-packages/sklearn/linear_model/_sag.py:329: ConvergenceWarning: The max_iter was reached which means the coef_ did not converge\n",
      "  warnings.warn(\"The max_iter was reached which means \"\n",
      "/home/solanojacon/.pyenv/versions/3.8.12/envs/4tune/lib/python3.8/site-packages/sklearn/linear_model/_sag.py:329: ConvergenceWarning: The max_iter was reached which means the coef_ did not converge\n",
      "  warnings.warn(\"The max_iter was reached which means \"\n",
      "/home/solanojacon/.pyenv/versions/3.8.12/envs/4tune/lib/python3.8/site-packages/sklearn/linear_model/_logistic.py:1320: UserWarning: Setting penalty='none' will ignore the C and l1_ratio parameters\n",
      "  warnings.warn(\n",
      "/home/solanojacon/.pyenv/versions/3.8.12/envs/4tune/lib/python3.8/site-packages/sklearn/linear_model/_logistic.py:762: ConvergenceWarning: lbfgs failed to converge (status=1):\n",
      "STOP: TOTAL NO. of ITERATIONS REACHED LIMIT.\n",
      "\n",
      "Increase the number of iterations (max_iter) or scale the data as shown in:\n",
      "    https://scikit-learn.org/stable/modules/preprocessing.html\n",
      "Please also refer to the documentation for alternative solver options:\n",
      "    https://scikit-learn.org/stable/modules/linear_model.html#logistic-regression\n",
      "  n_iter_i = _check_optimize_result(\n",
      "/home/solanojacon/.pyenv/versions/3.8.12/envs/4tune/lib/python3.8/site-packages/sklearn/linear_model/_logistic.py:1320: UserWarning: Setting penalty='none' will ignore the C and l1_ratio parameters\n",
      "  warnings.warn(\n",
      "/home/solanojacon/.pyenv/versions/3.8.12/envs/4tune/lib/python3.8/site-packages/sklearn/linear_model/_logistic.py:762: ConvergenceWarning: lbfgs failed to converge (status=1):\n",
      "STOP: TOTAL NO. of ITERATIONS REACHED LIMIT.\n",
      "\n",
      "Increase the number of iterations (max_iter) or scale the data as shown in:\n",
      "    https://scikit-learn.org/stable/modules/preprocessing.html\n",
      "Please also refer to the documentation for alternative solver options:\n",
      "    https://scikit-learn.org/stable/modules/linear_model.html#logistic-regression\n",
      "  n_iter_i = _check_optimize_result(\n",
      "/home/solanojacon/.pyenv/versions/3.8.12/envs/4tune/lib/python3.8/site-packages/sklearn/linear_model/_logistic.py:1320: UserWarning: Setting penalty='none' will ignore the C and l1_ratio parameters\n",
      "  warnings.warn(\n",
      "/home/solanojacon/.pyenv/versions/3.8.12/envs/4tune/lib/python3.8/site-packages/sklearn/linear_model/_sag.py:329: ConvergenceWarning: The max_iter was reached which means the coef_ did not converge\n",
      "  warnings.warn(\"The max_iter was reached which means \"\n",
      "/home/solanojacon/.pyenv/versions/3.8.12/envs/4tune/lib/python3.8/site-packages/sklearn/linear_model/_logistic.py:1320: UserWarning: Setting penalty='none' will ignore the C and l1_ratio parameters\n",
      "  warnings.warn(\n",
      "/home/solanojacon/.pyenv/versions/3.8.12/envs/4tune/lib/python3.8/site-packages/sklearn/linear_model/_sag.py:329: ConvergenceWarning: The max_iter was reached which means the coef_ did not converge\n",
      "  warnings.warn(\"The max_iter was reached which means \"\n",
      "/home/solanojacon/.pyenv/versions/3.8.12/envs/4tune/lib/python3.8/site-packages/sklearn/model_selection/_validation.py:548: FitFailedWarning: Estimator fit failed. The score on this train-test partition for these parameters will be set to nan. Details: \n",
      "Traceback (most recent call last):\n",
      "  File \"/home/solanojacon/.pyenv/versions/3.8.12/envs/4tune/lib/python3.8/site-packages/sklearn/model_selection/_validation.py\", line 531, in _fit_and_score\n",
      "    estimator.fit(X_train, y_train, **fit_params)\n",
      "  File \"/home/solanojacon/.pyenv/versions/3.8.12/envs/4tune/lib/python3.8/site-packages/sklearn/linear_model/_logistic.py\", line 1304, in fit\n",
      "    solver = _check_solver(self.solver, self.penalty, self.dual)\n",
      "  File \"/home/solanojacon/.pyenv/versions/3.8.12/envs/4tune/lib/python3.8/site-packages/sklearn/linear_model/_logistic.py\", line 442, in _check_solver\n",
      "    raise ValueError(\"Solver %s supports only 'l2' or 'none' penalties, \"\n",
      "ValueError: Solver newton-cg supports only 'l2' or 'none' penalties, got elasticnet penalty.\n",
      "\n",
      "  warnings.warn(\"Estimator fit failed. The score on this train-test\"\n",
      "/home/solanojacon/.pyenv/versions/3.8.12/envs/4tune/lib/python3.8/site-packages/sklearn/model_selection/_validation.py:548: FitFailedWarning: Estimator fit failed. The score on this train-test partition for these parameters will be set to nan. Details: \n",
      "Traceback (most recent call last):\n",
      "  File \"/home/solanojacon/.pyenv/versions/3.8.12/envs/4tune/lib/python3.8/site-packages/sklearn/model_selection/_validation.py\", line 531, in _fit_and_score\n",
      "    estimator.fit(X_train, y_train, **fit_params)\n",
      "  File \"/home/solanojacon/.pyenv/versions/3.8.12/envs/4tune/lib/python3.8/site-packages/sklearn/linear_model/_logistic.py\", line 1304, in fit\n",
      "    solver = _check_solver(self.solver, self.penalty, self.dual)\n",
      "  File \"/home/solanojacon/.pyenv/versions/3.8.12/envs/4tune/lib/python3.8/site-packages/sklearn/linear_model/_logistic.py\", line 442, in _check_solver\n",
      "    raise ValueError(\"Solver %s supports only 'l2' or 'none' penalties, \"\n",
      "ValueError: Solver lbfgs supports only 'l2' or 'none' penalties, got elasticnet penalty.\n",
      "\n",
      "  warnings.warn(\"Estimator fit failed. The score on this train-test\"\n"
     ]
    },
    {
     "name": "stderr",
     "output_type": "stream",
     "text": [
      "/home/solanojacon/.pyenv/versions/3.8.12/envs/4tune/lib/python3.8/site-packages/sklearn/utils/deprecation.py:101: FutureWarning: The outputs_2d_ attribute is deprecated in version 0.22 and will be removed in version 0.24. It is equivalent to n_outputs_ > 1.\n",
      "  warnings.warn(msg, category=FutureWarning)\n",
      "/home/solanojacon/.pyenv/versions/3.8.12/envs/4tune/lib/python3.8/site-packages/sklearn/metrics/_classification.py:1221: UndefinedMetricWarning: Precision is ill-defined and being set to 0.0 due to no predicted samples. Use `zero_division` parameter to control this behavior.\n",
      "  _warn_prf(average, modifier, msg_start, len(result))\n",
      "/home/solanojacon/.pyenv/versions/3.8.12/envs/4tune/lib/python3.8/site-packages/sklearn/metrics/_classification.py:846: RuntimeWarning: invalid value encountered in double_scalars\n",
      "  mcc = cov_ytyp / np.sqrt(cov_ytyt * cov_ypyp)\n",
      "/home/solanojacon/.pyenv/versions/3.8.12/envs/4tune/lib/python3.8/site-packages/sklearn/utils/deprecation.py:101: FutureWarning: Attribute standard_coef_ was deprecated in version 0.23 and will be removed in 0.25.\n",
      "  warnings.warn(msg, category=FutureWarning)\n",
      "/home/solanojacon/.pyenv/versions/3.8.12/envs/4tune/lib/python3.8/site-packages/sklearn/utils/deprecation.py:101: FutureWarning: Attribute standard_intercept_ was deprecated in version 0.23 and will be removed in 0.25.\n",
      "  warnings.warn(msg, category=FutureWarning)\n",
      "/home/solanojacon/.pyenv/versions/3.8.12/envs/4tune/lib/python3.8/site-packages/sklearn/utils/deprecation.py:101: FutureWarning: Attribute average_coef_ was deprecated in version 0.23 and will be removed in 0.25.\n",
      "  warnings.warn(msg, category=FutureWarning)\n",
      "/home/solanojacon/.pyenv/versions/3.8.12/envs/4tune/lib/python3.8/site-packages/sklearn/utils/deprecation.py:101: FutureWarning: Attribute average_intercept_ was deprecated in version 0.23 and will be removed in 0.25.\n",
      "  warnings.warn(msg, category=FutureWarning)\n",
      "/home/solanojacon/.pyenv/versions/3.8.12/envs/4tune/lib/python3.8/site-packages/xgboost/sklearn.py:1224: UserWarning: The use of label encoder in XGBClassifier is deprecated and will be removed in a future release. To remove this warning, do the following: 1) Pass option use_label_encoder=False when constructing XGBClassifier object; and 2) Encode your labels (y) as integers starting with 0, i.e. 0, 1, 2, ..., [num_class - 1].\n",
      "  warnings.warn(label_encoder_deprecation_msg, UserWarning)\n",
      "/home/solanojacon/.pyenv/versions/3.8.12/envs/4tune/lib/python3.8/site-packages/xgboost/sklearn.py:1224: UserWarning: The use of label encoder in XGBClassifier is deprecated and will be removed in a future release. To remove this warning, do the following: 1) Pass option use_label_encoder=False when constructing XGBClassifier object; and 2) Encode your labels (y) as integers starting with 0, i.e. 0, 1, 2, ..., [num_class - 1].\n",
      "  warnings.warn(label_encoder_deprecation_msg, UserWarning)\n",
      "/home/solanojacon/.pyenv/versions/3.8.12/envs/4tune/lib/python3.8/site-packages/sklearn/linear_model/_logistic.py:1320: UserWarning: Setting penalty='none' will ignore the C and l1_ratio parameters\n",
      "  warnings.warn(\n",
      "/home/solanojacon/.pyenv/versions/3.8.12/envs/4tune/lib/python3.8/site-packages/sklearn/linear_model/_logistic.py:762: ConvergenceWarning: lbfgs failed to converge (status=1):\n",
      "STOP: TOTAL NO. of ITERATIONS REACHED LIMIT.\n",
      "\n",
      "Increase the number of iterations (max_iter) or scale the data as shown in:\n",
      "    https://scikit-learn.org/stable/modules/preprocessing.html\n",
      "Please also refer to the documentation for alternative solver options:\n",
      "    https://scikit-learn.org/stable/modules/linear_model.html#logistic-regression\n",
      "  n_iter_i = _check_optimize_result(\n",
      "/home/solanojacon/.pyenv/versions/3.8.12/envs/4tune/lib/python3.8/site-packages/sklearn/linear_model/_logistic.py:1320: UserWarning: Setting penalty='none' will ignore the C and l1_ratio parameters\n",
      "  warnings.warn(\n",
      "/home/solanojacon/.pyenv/versions/3.8.12/envs/4tune/lib/python3.8/site-packages/sklearn/linear_model/_sag.py:329: ConvergenceWarning: The max_iter was reached which means the coef_ did not converge\n",
      "  warnings.warn(\"The max_iter was reached which means \"\n",
      "/home/solanojacon/.pyenv/versions/3.8.12/envs/4tune/lib/python3.8/site-packages/sklearn/model_selection/_validation.py:548: FitFailedWarning: Estimator fit failed. The score on this train-test partition for these parameters will be set to nan. Details: \n",
      "Traceback (most recent call last):\n",
      "  File \"/home/solanojacon/.pyenv/versions/3.8.12/envs/4tune/lib/python3.8/site-packages/sklearn/model_selection/_validation.py\", line 531, in _fit_and_score\n",
      "    estimator.fit(X_train, y_train, **fit_params)\n",
      "  File \"/home/solanojacon/.pyenv/versions/3.8.12/envs/4tune/lib/python3.8/site-packages/sklearn/linear_model/_logistic.py\", line 1304, in fit\n",
      "    solver = _check_solver(self.solver, self.penalty, self.dual)\n",
      "  File \"/home/solanojacon/.pyenv/versions/3.8.12/envs/4tune/lib/python3.8/site-packages/sklearn/linear_model/_logistic.py\", line 442, in _check_solver\n",
      "    raise ValueError(\"Solver %s supports only 'l2' or 'none' penalties, \"\n",
      "ValueError: Solver newton-cg supports only 'l2' or 'none' penalties, got l1 penalty.\n",
      "\n",
      "  warnings.warn(\"Estimator fit failed. The score on this train-test\"\n",
      "/home/solanojacon/.pyenv/versions/3.8.12/envs/4tune/lib/python3.8/site-packages/sklearn/model_selection/_validation.py:548: FitFailedWarning: Estimator fit failed. The score on this train-test partition for these parameters will be set to nan. Details: \n",
      "Traceback (most recent call last):\n",
      "  File \"/home/solanojacon/.pyenv/versions/3.8.12/envs/4tune/lib/python3.8/site-packages/sklearn/model_selection/_validation.py\", line 531, in _fit_and_score\n",
      "    estimator.fit(X_train, y_train, **fit_params)\n",
      "  File \"/home/solanojacon/.pyenv/versions/3.8.12/envs/4tune/lib/python3.8/site-packages/sklearn/linear_model/_logistic.py\", line 1304, in fit\n",
      "    solver = _check_solver(self.solver, self.penalty, self.dual)\n",
      "  File \"/home/solanojacon/.pyenv/versions/3.8.12/envs/4tune/lib/python3.8/site-packages/sklearn/linear_model/_logistic.py\", line 442, in _check_solver\n",
      "    raise ValueError(\"Solver %s supports only 'l2' or 'none' penalties, \"\n",
      "ValueError: Solver lbfgs supports only 'l2' or 'none' penalties, got l1 penalty.\n",
      "\n",
      "  warnings.warn(\"Estimator fit failed. The score on this train-test\"\n",
      "/home/solanojacon/.pyenv/versions/3.8.12/envs/4tune/lib/python3.8/site-packages/sklearn/linear_model/_sag.py:329: ConvergenceWarning: The max_iter was reached which means the coef_ did not converge\n",
      "  warnings.warn(\"The max_iter was reached which means \"\n",
      "/home/solanojacon/.pyenv/versions/3.8.12/envs/4tune/lib/python3.8/site-packages/sklearn/linear_model/_sag.py:329: ConvergenceWarning: The max_iter was reached which means the coef_ did not converge\n",
      "  warnings.warn(\"The max_iter was reached which means \"\n",
      "/home/solanojacon/.pyenv/versions/3.8.12/envs/4tune/lib/python3.8/site-packages/sklearn/linear_model/_logistic.py:1320: UserWarning: Setting penalty='none' will ignore the C and l1_ratio parameters\n",
      "  warnings.warn(\n",
      "/home/solanojacon/.pyenv/versions/3.8.12/envs/4tune/lib/python3.8/site-packages/sklearn/linear_model/_logistic.py:762: ConvergenceWarning: lbfgs failed to converge (status=1):\n",
      "STOP: TOTAL NO. of ITERATIONS REACHED LIMIT.\n",
      "\n",
      "Increase the number of iterations (max_iter) or scale the data as shown in:\n",
      "    https://scikit-learn.org/stable/modules/preprocessing.html\n",
      "Please also refer to the documentation for alternative solver options:\n",
      "    https://scikit-learn.org/stable/modules/linear_model.html#logistic-regression\n",
      "  n_iter_i = _check_optimize_result(\n",
      "/home/solanojacon/.pyenv/versions/3.8.12/envs/4tune/lib/python3.8/site-packages/sklearn/linear_model/_logistic.py:762: ConvergenceWarning: lbfgs failed to converge (status=1):\n",
      "STOP: TOTAL NO. of ITERATIONS REACHED LIMIT.\n",
      "\n",
      "Increase the number of iterations (max_iter) or scale the data as shown in:\n",
      "    https://scikit-learn.org/stable/modules/preprocessing.html\n",
      "Please also refer to the documentation for alternative solver options:\n",
      "    https://scikit-learn.org/stable/modules/linear_model.html#logistic-regression\n",
      "  n_iter_i = _check_optimize_result(\n",
      "[Parallel(n_jobs=-1)]: Done 200 tasks      | elapsed:   41.2s\n",
      "/home/solanojacon/.pyenv/versions/3.8.12/envs/4tune/lib/python3.8/site-packages/sklearn/utils/deprecation.py:101: FutureWarning: The outputs_2d_ attribute is deprecated in version 0.22 and will be removed in version 0.24. It is equivalent to n_outputs_ > 1.\n",
      "  warnings.warn(msg, category=FutureWarning)\n",
      "/home/solanojacon/.pyenv/versions/3.8.12/envs/4tune/lib/python3.8/site-packages/sklearn/metrics/_classification.py:1221: UndefinedMetricWarning: Precision is ill-defined and being set to 0.0 due to no predicted samples. Use `zero_division` parameter to control this behavior.\n",
      "  _warn_prf(average, modifier, msg_start, len(result))\n",
      "/home/solanojacon/.pyenv/versions/3.8.12/envs/4tune/lib/python3.8/site-packages/sklearn/metrics/_classification.py:846: RuntimeWarning: invalid value encountered in double_scalars\n",
      "  mcc = cov_ytyp / np.sqrt(cov_ytyt * cov_ypyp)\n",
      "/home/solanojacon/.pyenv/versions/3.8.12/envs/4tune/lib/python3.8/site-packages/xgboost/sklearn.py:1224: UserWarning: The use of label encoder in XGBClassifier is deprecated and will be removed in a future release. To remove this warning, do the following: 1) Pass option use_label_encoder=False when constructing XGBClassifier object; and 2) Encode your labels (y) as integers starting with 0, i.e. 0, 1, 2, ..., [num_class - 1].\n",
      "  warnings.warn(label_encoder_deprecation_msg, UserWarning)\n",
      "/home/solanojacon/.pyenv/versions/3.8.12/envs/4tune/lib/python3.8/site-packages/sklearn/linear_model/_logistic.py:1320: UserWarning: Setting penalty='none' will ignore the C and l1_ratio parameters\n",
      "  warnings.warn(\n",
      "/home/solanojacon/.pyenv/versions/3.8.12/envs/4tune/lib/python3.8/site-packages/sklearn/linear_model/_logistic.py:762: ConvergenceWarning: lbfgs failed to converge (status=1):\n",
      "STOP: TOTAL NO. of ITERATIONS REACHED LIMIT.\n",
      "\n",
      "Increase the number of iterations (max_iter) or scale the data as shown in:\n",
      "    https://scikit-learn.org/stable/modules/preprocessing.html\n",
      "Please also refer to the documentation for alternative solver options:\n",
      "    https://scikit-learn.org/stable/modules/linear_model.html#logistic-regression\n",
      "  n_iter_i = _check_optimize_result(\n",
      "/home/solanojacon/.pyenv/versions/3.8.12/envs/4tune/lib/python3.8/site-packages/sklearn/linear_model/_logistic.py:1320: UserWarning: Setting penalty='none' will ignore the C and l1_ratio parameters\n",
      "  warnings.warn(\n",
      "/home/solanojacon/.pyenv/versions/3.8.12/envs/4tune/lib/python3.8/site-packages/sklearn/linear_model/_sag.py:329: ConvergenceWarning: The max_iter was reached which means the coef_ did not converge\n",
      "  warnings.warn(\"The max_iter was reached which means \"\n",
      "/home/solanojacon/.pyenv/versions/3.8.12/envs/4tune/lib/python3.8/site-packages/sklearn/linear_model/_logistic.py:1320: UserWarning: Setting penalty='none' will ignore the C and l1_ratio parameters\n",
      "  warnings.warn(\n",
      "/home/solanojacon/.pyenv/versions/3.8.12/envs/4tune/lib/python3.8/site-packages/sklearn/linear_model/_sag.py:329: ConvergenceWarning: The max_iter was reached which means the coef_ did not converge\n",
      "  warnings.warn(\"The max_iter was reached which means \"\n",
      "/home/solanojacon/.pyenv/versions/3.8.12/envs/4tune/lib/python3.8/site-packages/sklearn/model_selection/_validation.py:548: FitFailedWarning: Estimator fit failed. The score on this train-test partition for these parameters will be set to nan. Details: \n",
      "Traceback (most recent call last):\n",
      "  File \"/home/solanojacon/.pyenv/versions/3.8.12/envs/4tune/lib/python3.8/site-packages/sklearn/model_selection/_validation.py\", line 531, in _fit_and_score\n",
      "    estimator.fit(X_train, y_train, **fit_params)\n",
      "  File \"/home/solanojacon/.pyenv/versions/3.8.12/envs/4tune/lib/python3.8/site-packages/sklearn/linear_model/_logistic.py\", line 1304, in fit\n",
      "    solver = _check_solver(self.solver, self.penalty, self.dual)\n",
      "  File \"/home/solanojacon/.pyenv/versions/3.8.12/envs/4tune/lib/python3.8/site-packages/sklearn/linear_model/_logistic.py\", line 442, in _check_solver\n",
      "    raise ValueError(\"Solver %s supports only 'l2' or 'none' penalties, \"\n",
      "ValueError: Solver newton-cg supports only 'l2' or 'none' penalties, got l1 penalty.\n",
      "\n",
      "  warnings.warn(\"Estimator fit failed. The score on this train-test\"\n",
      "/home/solanojacon/.pyenv/versions/3.8.12/envs/4tune/lib/python3.8/site-packages/sklearn/linear_model/_logistic.py:762: ConvergenceWarning: lbfgs failed to converge (status=1):\n",
      "STOP: TOTAL NO. of ITERATIONS REACHED LIMIT.\n",
      "\n",
      "Increase the number of iterations (max_iter) or scale the data as shown in:\n",
      "    https://scikit-learn.org/stable/modules/preprocessing.html\n",
      "Please also refer to the documentation for alternative solver options:\n",
      "    https://scikit-learn.org/stable/modules/linear_model.html#logistic-regression\n",
      "  n_iter_i = _check_optimize_result(\n",
      "/home/solanojacon/.pyenv/versions/3.8.12/envs/4tune/lib/python3.8/site-packages/sklearn/linear_model/_logistic.py:762: ConvergenceWarning: lbfgs failed to converge (status=1):\n",
      "STOP: TOTAL NO. of ITERATIONS REACHED LIMIT.\n",
      "\n",
      "Increase the number of iterations (max_iter) or scale the data as shown in:\n",
      "    https://scikit-learn.org/stable/modules/preprocessing.html\n",
      "Please also refer to the documentation for alternative solver options:\n",
      "    https://scikit-learn.org/stable/modules/linear_model.html#logistic-regression\n",
      "  n_iter_i = _check_optimize_result(\n",
      "/home/solanojacon/.pyenv/versions/3.8.12/envs/4tune/lib/python3.8/site-packages/sklearn/linear_model/_sag.py:329: ConvergenceWarning: The max_iter was reached which means the coef_ did not converge\n",
      "  warnings.warn(\"The max_iter was reached which means \"\n",
      "/home/solanojacon/.pyenv/versions/3.8.12/envs/4tune/lib/python3.8/site-packages/sklearn/linear_model/_sag.py:329: ConvergenceWarning: The max_iter was reached which means the coef_ did not converge\n",
      "  warnings.warn(\"The max_iter was reached which means \"\n",
      "/home/solanojacon/.pyenv/versions/3.8.12/envs/4tune/lib/python3.8/site-packages/sklearn/linear_model/_logistic.py:1320: UserWarning: Setting penalty='none' will ignore the C and l1_ratio parameters\n",
      "  warnings.warn(\n",
      "/home/solanojacon/.pyenv/versions/3.8.12/envs/4tune/lib/python3.8/site-packages/sklearn/linear_model/_logistic.py:762: ConvergenceWarning: lbfgs failed to converge (status=1):\n",
      "STOP: TOTAL NO. of ITERATIONS REACHED LIMIT.\n",
      "\n",
      "Increase the number of iterations (max_iter) or scale the data as shown in:\n",
      "    https://scikit-learn.org/stable/modules/preprocessing.html\n",
      "Please also refer to the documentation for alternative solver options:\n",
      "    https://scikit-learn.org/stable/modules/linear_model.html#logistic-regression\n",
      "  n_iter_i = _check_optimize_result(\n",
      "/home/solanojacon/.pyenv/versions/3.8.12/envs/4tune/lib/python3.8/site-packages/sklearn/linear_model/_logistic.py:1320: UserWarning: Setting penalty='none' will ignore the C and l1_ratio parameters\n",
      "  warnings.warn(\n",
      "/home/solanojacon/.pyenv/versions/3.8.12/envs/4tune/lib/python3.8/site-packages/sklearn/linear_model/_sag.py:329: ConvergenceWarning: The max_iter was reached which means the coef_ did not converge\n",
      "  warnings.warn(\"The max_iter was reached which means \"\n",
      "/home/solanojacon/.pyenv/versions/3.8.12/envs/4tune/lib/python3.8/site-packages/sklearn/linear_model/_logistic.py:1320: UserWarning: Setting penalty='none' will ignore the C and l1_ratio parameters\n",
      "  warnings.warn(\n",
      "/home/solanojacon/.pyenv/versions/3.8.12/envs/4tune/lib/python3.8/site-packages/sklearn/linear_model/_sag.py:329: ConvergenceWarning: The max_iter was reached which means the coef_ did not converge\n",
      "  warnings.warn(\"The max_iter was reached which means \"\n",
      "/home/solanojacon/.pyenv/versions/3.8.12/envs/4tune/lib/python3.8/site-packages/sklearn/linear_model/_sag.py:329: ConvergenceWarning: The max_iter was reached which means the coef_ did not converge\n",
      "  warnings.warn(\"The max_iter was reached which means \"\n",
      "/home/solanojacon/.pyenv/versions/3.8.12/envs/4tune/lib/python3.8/site-packages/sklearn/linear_model/_sag.py:329: ConvergenceWarning: The max_iter was reached which means the coef_ did not converge\n",
      "  warnings.warn(\"The max_iter was reached which means \"\n"
     ]
    },
    {
     "name": "stderr",
     "output_type": "stream",
     "text": [
      "/home/solanojacon/.pyenv/versions/3.8.12/envs/4tune/lib/python3.8/site-packages/sklearn/utils/deprecation.py:101: FutureWarning: Attribute standard_coef_ was deprecated in version 0.23 and will be removed in 0.25.\n",
      "  warnings.warn(msg, category=FutureWarning)\n",
      "/home/solanojacon/.pyenv/versions/3.8.12/envs/4tune/lib/python3.8/site-packages/sklearn/utils/deprecation.py:101: FutureWarning: Attribute standard_intercept_ was deprecated in version 0.23 and will be removed in 0.25.\n",
      "  warnings.warn(msg, category=FutureWarning)\n",
      "/home/solanojacon/.pyenv/versions/3.8.12/envs/4tune/lib/python3.8/site-packages/sklearn/utils/deprecation.py:101: FutureWarning: Attribute average_coef_ was deprecated in version 0.23 and will be removed in 0.25.\n",
      "  warnings.warn(msg, category=FutureWarning)\n",
      "/home/solanojacon/.pyenv/versions/3.8.12/envs/4tune/lib/python3.8/site-packages/sklearn/utils/deprecation.py:101: FutureWarning: Attribute average_intercept_ was deprecated in version 0.23 and will be removed in 0.25.\n",
      "  warnings.warn(msg, category=FutureWarning)\n",
      "/home/solanojacon/.pyenv/versions/3.8.12/envs/4tune/lib/python3.8/site-packages/sklearn/utils/deprecation.py:101: FutureWarning: Attribute standard_coef_ was deprecated in version 0.23 and will be removed in 0.25.\n",
      "  warnings.warn(msg, category=FutureWarning)\n",
      "/home/solanojacon/.pyenv/versions/3.8.12/envs/4tune/lib/python3.8/site-packages/sklearn/utils/deprecation.py:101: FutureWarning: Attribute standard_intercept_ was deprecated in version 0.23 and will be removed in 0.25.\n",
      "  warnings.warn(msg, category=FutureWarning)\n",
      "/home/solanojacon/.pyenv/versions/3.8.12/envs/4tune/lib/python3.8/site-packages/sklearn/utils/deprecation.py:101: FutureWarning: Attribute average_coef_ was deprecated in version 0.23 and will be removed in 0.25.\n",
      "  warnings.warn(msg, category=FutureWarning)\n",
      "/home/solanojacon/.pyenv/versions/3.8.12/envs/4tune/lib/python3.8/site-packages/sklearn/utils/deprecation.py:101: FutureWarning: Attribute average_intercept_ was deprecated in version 0.23 and will be removed in 0.25.\n",
      "  warnings.warn(msg, category=FutureWarning)\n",
      "/home/solanojacon/.pyenv/versions/3.8.12/envs/4tune/lib/python3.8/site-packages/xgboost/sklearn.py:1224: UserWarning: The use of label encoder in XGBClassifier is deprecated and will be removed in a future release. To remove this warning, do the following: 1) Pass option use_label_encoder=False when constructing XGBClassifier object; and 2) Encode your labels (y) as integers starting with 0, i.e. 0, 1, 2, ..., [num_class - 1].\n",
      "  warnings.warn(label_encoder_deprecation_msg, UserWarning)\n",
      "/home/solanojacon/.pyenv/versions/3.8.12/envs/4tune/lib/python3.8/site-packages/sklearn/linear_model/_logistic.py:1320: UserWarning: Setting penalty='none' will ignore the C and l1_ratio parameters\n",
      "  warnings.warn(\n",
      "/home/solanojacon/.pyenv/versions/3.8.12/envs/4tune/lib/python3.8/site-packages/sklearn/linear_model/_logistic.py:762: ConvergenceWarning: lbfgs failed to converge (status=1):\n",
      "STOP: TOTAL NO. of ITERATIONS REACHED LIMIT.\n",
      "\n",
      "Increase the number of iterations (max_iter) or scale the data as shown in:\n",
      "    https://scikit-learn.org/stable/modules/preprocessing.html\n",
      "Please also refer to the documentation for alternative solver options:\n",
      "    https://scikit-learn.org/stable/modules/linear_model.html#logistic-regression\n",
      "  n_iter_i = _check_optimize_result(\n",
      "/home/solanojacon/.pyenv/versions/3.8.12/envs/4tune/lib/python3.8/site-packages/sklearn/linear_model/_logistic.py:1320: UserWarning: Setting penalty='none' will ignore the C and l1_ratio parameters\n",
      "  warnings.warn(\n",
      "/home/solanojacon/.pyenv/versions/3.8.12/envs/4tune/lib/python3.8/site-packages/sklearn/linear_model/_sag.py:329: ConvergenceWarning: The max_iter was reached which means the coef_ did not converge\n",
      "  warnings.warn(\"The max_iter was reached which means \"\n",
      "/home/solanojacon/.pyenv/versions/3.8.12/envs/4tune/lib/python3.8/site-packages/sklearn/linear_model/_logistic.py:762: ConvergenceWarning: lbfgs failed to converge (status=1):\n",
      "STOP: TOTAL NO. of ITERATIONS REACHED LIMIT.\n",
      "\n",
      "Increase the number of iterations (max_iter) or scale the data as shown in:\n",
      "    https://scikit-learn.org/stable/modules/preprocessing.html\n",
      "Please also refer to the documentation for alternative solver options:\n",
      "    https://scikit-learn.org/stable/modules/linear_model.html#logistic-regression\n",
      "  n_iter_i = _check_optimize_result(\n",
      "/home/solanojacon/.pyenv/versions/3.8.12/envs/4tune/lib/python3.8/site-packages/sklearn/linear_model/_logistic.py:1320: UserWarning: Setting penalty='none' will ignore the C and l1_ratio parameters\n",
      "  warnings.warn(\n",
      "/home/solanojacon/.pyenv/versions/3.8.12/envs/4tune/lib/python3.8/site-packages/sklearn/linear_model/_sag.py:329: ConvergenceWarning: The max_iter was reached which means the coef_ did not converge\n",
      "  warnings.warn(\"The max_iter was reached which means \"\n",
      "/home/solanojacon/.pyenv/versions/3.8.12/envs/4tune/lib/python3.8/site-packages/sklearn/model_selection/_validation.py:548: FitFailedWarning: Estimator fit failed. The score on this train-test partition for these parameters will be set to nan. Details: \n",
      "Traceback (most recent call last):\n",
      "  File \"/home/solanojacon/.pyenv/versions/3.8.12/envs/4tune/lib/python3.8/site-packages/sklearn/model_selection/_validation.py\", line 531, in _fit_and_score\n",
      "    estimator.fit(X_train, y_train, **fit_params)\n",
      "  File \"/home/solanojacon/.pyenv/versions/3.8.12/envs/4tune/lib/python3.8/site-packages/sklearn/linear_model/_logistic.py\", line 1304, in fit\n",
      "    solver = _check_solver(self.solver, self.penalty, self.dual)\n",
      "  File \"/home/solanojacon/.pyenv/versions/3.8.12/envs/4tune/lib/python3.8/site-packages/sklearn/linear_model/_logistic.py\", line 442, in _check_solver\n",
      "    raise ValueError(\"Solver %s supports only 'l2' or 'none' penalties, \"\n",
      "ValueError: Solver newton-cg supports only 'l2' or 'none' penalties, got l1 penalty.\n",
      "\n",
      "  warnings.warn(\"Estimator fit failed. The score on this train-test\"\n",
      "/home/solanojacon/.pyenv/versions/3.8.12/envs/4tune/lib/python3.8/site-packages/sklearn/model_selection/_validation.py:548: FitFailedWarning: Estimator fit failed. The score on this train-test partition for these parameters will be set to nan. Details: \n",
      "Traceback (most recent call last):\n",
      "  File \"/home/solanojacon/.pyenv/versions/3.8.12/envs/4tune/lib/python3.8/site-packages/sklearn/model_selection/_validation.py\", line 531, in _fit_and_score\n",
      "    estimator.fit(X_train, y_train, **fit_params)\n",
      "  File \"/home/solanojacon/.pyenv/versions/3.8.12/envs/4tune/lib/python3.8/site-packages/sklearn/linear_model/_logistic.py\", line 1304, in fit\n",
      "    solver = _check_solver(self.solver, self.penalty, self.dual)\n",
      "  File \"/home/solanojacon/.pyenv/versions/3.8.12/envs/4tune/lib/python3.8/site-packages/sklearn/linear_model/_logistic.py\", line 442, in _check_solver\n",
      "    raise ValueError(\"Solver %s supports only 'l2' or 'none' penalties, \"\n",
      "ValueError: Solver lbfgs supports only 'l2' or 'none' penalties, got l1 penalty.\n",
      "\n",
      "  warnings.warn(\"Estimator fit failed. The score on this train-test\"\n",
      "/home/solanojacon/.pyenv/versions/3.8.12/envs/4tune/lib/python3.8/site-packages/sklearn/model_selection/_validation.py:548: FitFailedWarning: Estimator fit failed. The score on this train-test partition for these parameters will be set to nan. Details: \n",
      "Traceback (most recent call last):\n",
      "  File \"/home/solanojacon/.pyenv/versions/3.8.12/envs/4tune/lib/python3.8/site-packages/sklearn/model_selection/_validation.py\", line 531, in _fit_and_score\n",
      "    estimator.fit(X_train, y_train, **fit_params)\n",
      "  File \"/home/solanojacon/.pyenv/versions/3.8.12/envs/4tune/lib/python3.8/site-packages/sklearn/linear_model/_logistic.py\", line 1304, in fit\n",
      "    solver = _check_solver(self.solver, self.penalty, self.dual)\n",
      "  File \"/home/solanojacon/.pyenv/versions/3.8.12/envs/4tune/lib/python3.8/site-packages/sklearn/linear_model/_logistic.py\", line 442, in _check_solver\n",
      "    raise ValueError(\"Solver %s supports only 'l2' or 'none' penalties, \"\n",
      "ValueError: Solver sag supports only 'l2' or 'none' penalties, got l1 penalty.\n",
      "\n",
      "  warnings.warn(\"Estimator fit failed. The score on this train-test\"\n",
      "/home/solanojacon/.pyenv/versions/3.8.12/envs/4tune/lib/python3.8/site-packages/sklearn/utils/deprecation.py:101: FutureWarning: The outputs_2d_ attribute is deprecated in version 0.22 and will be removed in version 0.24. It is equivalent to n_outputs_ > 1.\n",
      "  warnings.warn(msg, category=FutureWarning)\n",
      "/home/solanojacon/.pyenv/versions/3.8.12/envs/4tune/lib/python3.8/site-packages/sklearn/metrics/_classification.py:1221: UndefinedMetricWarning: Precision is ill-defined and being set to 0.0 due to no predicted samples. Use `zero_division` parameter to control this behavior.\n",
      "  _warn_prf(average, modifier, msg_start, len(result))\n",
      "/home/solanojacon/.pyenv/versions/3.8.12/envs/4tune/lib/python3.8/site-packages/sklearn/metrics/_classification.py:846: RuntimeWarning: invalid value encountered in double_scalars\n",
      "  mcc = cov_ytyp / np.sqrt(cov_ytyt * cov_ypyp)\n",
      "/home/solanojacon/.pyenv/versions/3.8.12/envs/4tune/lib/python3.8/site-packages/sklearn/utils/deprecation.py:101: FutureWarning: Attribute standard_coef_ was deprecated in version 0.23 and will be removed in 0.25.\n",
      "  warnings.warn(msg, category=FutureWarning)\n",
      "/home/solanojacon/.pyenv/versions/3.8.12/envs/4tune/lib/python3.8/site-packages/sklearn/utils/deprecation.py:101: FutureWarning: Attribute standard_intercept_ was deprecated in version 0.23 and will be removed in 0.25.\n",
      "  warnings.warn(msg, category=FutureWarning)\n",
      "/home/solanojacon/.pyenv/versions/3.8.12/envs/4tune/lib/python3.8/site-packages/sklearn/utils/deprecation.py:101: FutureWarning: Attribute average_coef_ was deprecated in version 0.23 and will be removed in 0.25.\n",
      "  warnings.warn(msg, category=FutureWarning)\n",
      "/home/solanojacon/.pyenv/versions/3.8.12/envs/4tune/lib/python3.8/site-packages/sklearn/utils/deprecation.py:101: FutureWarning: Attribute average_intercept_ was deprecated in version 0.23 and will be removed in 0.25.\n",
      "  warnings.warn(msg, category=FutureWarning)\n",
      "/home/solanojacon/.pyenv/versions/3.8.12/envs/4tune/lib/python3.8/site-packages/sklearn/linear_model/_logistic.py:1320: UserWarning: Setting penalty='none' will ignore the C and l1_ratio parameters\n",
      "  warnings.warn(\n",
      "/home/solanojacon/.pyenv/versions/3.8.12/envs/4tune/lib/python3.8/site-packages/sklearn/linear_model/_sag.py:329: ConvergenceWarning: The max_iter was reached which means the coef_ did not converge\n",
      "  warnings.warn(\"The max_iter was reached which means \"\n",
      "/home/solanojacon/.pyenv/versions/3.8.12/envs/4tune/lib/python3.8/site-packages/sklearn/linear_model/_logistic.py:1320: UserWarning: Setting penalty='none' will ignore the C and l1_ratio parameters\n",
      "  warnings.warn(\n",
      "/home/solanojacon/.pyenv/versions/3.8.12/envs/4tune/lib/python3.8/site-packages/sklearn/model_selection/_validation.py:548: FitFailedWarning: Estimator fit failed. The score on this train-test partition for these parameters will be set to nan. Details: \n",
      "Traceback (most recent call last):\n",
      "  File \"/home/solanojacon/.pyenv/versions/3.8.12/envs/4tune/lib/python3.8/site-packages/sklearn/model_selection/_validation.py\", line 531, in _fit_and_score\n",
      "    estimator.fit(X_train, y_train, **fit_params)\n",
      "  File \"/home/solanojacon/.pyenv/versions/3.8.12/envs/4tune/lib/python3.8/site-packages/sklearn/linear_model/_logistic.py\", line 1304, in fit\n",
      "    solver = _check_solver(self.solver, self.penalty, self.dual)\n",
      "  File \"/home/solanojacon/.pyenv/versions/3.8.12/envs/4tune/lib/python3.8/site-packages/sklearn/linear_model/_logistic.py\", line 442, in _check_solver\n",
      "    raise ValueError(\"Solver %s supports only 'l2' or 'none' penalties, \"\n",
      "ValueError: Solver newton-cg supports only 'l2' or 'none' penalties, got elasticnet penalty.\n",
      "\n",
      "  warnings.warn(\"Estimator fit failed. The score on this train-test\"\n",
      "/home/solanojacon/.pyenv/versions/3.8.12/envs/4tune/lib/python3.8/site-packages/sklearn/model_selection/_validation.py:548: FitFailedWarning: Estimator fit failed. The score on this train-test partition for these parameters will be set to nan. Details: \n",
      "Traceback (most recent call last):\n",
      "  File \"/home/solanojacon/.pyenv/versions/3.8.12/envs/4tune/lib/python3.8/site-packages/sklearn/model_selection/_validation.py\", line 531, in _fit_and_score\n",
      "    estimator.fit(X_train, y_train, **fit_params)\n",
      "  File \"/home/solanojacon/.pyenv/versions/3.8.12/envs/4tune/lib/python3.8/site-packages/sklearn/linear_model/_logistic.py\", line 1304, in fit\n",
      "    solver = _check_solver(self.solver, self.penalty, self.dual)\n",
      "  File \"/home/solanojacon/.pyenv/versions/3.8.12/envs/4tune/lib/python3.8/site-packages/sklearn/linear_model/_logistic.py\", line 442, in _check_solver\n",
      "    raise ValueError(\"Solver %s supports only 'l2' or 'none' penalties, \"\n",
      "ValueError: Solver lbfgs supports only 'l2' or 'none' penalties, got elasticnet penalty.\n",
      "\n",
      "  warnings.warn(\"Estimator fit failed. The score on this train-test\"\n",
      "/home/solanojacon/.pyenv/versions/3.8.12/envs/4tune/lib/python3.8/site-packages/sklearn/model_selection/_validation.py:548: FitFailedWarning: Estimator fit failed. The score on this train-test partition for these parameters will be set to nan. Details: \n",
      "Traceback (most recent call last):\n",
      "  File \"/home/solanojacon/.pyenv/versions/3.8.12/envs/4tune/lib/python3.8/site-packages/sklearn/model_selection/_validation.py\", line 531, in _fit_and_score\n",
      "    estimator.fit(X_train, y_train, **fit_params)\n",
      "  File \"/home/solanojacon/.pyenv/versions/3.8.12/envs/4tune/lib/python3.8/site-packages/sklearn/linear_model/_logistic.py\", line 1304, in fit\n",
      "    solver = _check_solver(self.solver, self.penalty, self.dual)\n",
      "  File \"/home/solanojacon/.pyenv/versions/3.8.12/envs/4tune/lib/python3.8/site-packages/sklearn/linear_model/_logistic.py\", line 449, in _check_solver\n",
      "    raise ValueError(\"Only 'saga' solver supports elasticnet penalty,\"\n",
      "ValueError: Only 'saga' solver supports elasticnet penalty, got solver=liblinear.\n",
      "\n",
      "  warnings.warn(\"Estimator fit failed. The score on this train-test\"\n",
      "/home/solanojacon/.pyenv/versions/3.8.12/envs/4tune/lib/python3.8/site-packages/sklearn/model_selection/_validation.py:548: FitFailedWarning: Estimator fit failed. The score on this train-test partition for these parameters will be set to nan. Details: \n",
      "Traceback (most recent call last):\n",
      "  File \"/home/solanojacon/.pyenv/versions/3.8.12/envs/4tune/lib/python3.8/site-packages/sklearn/model_selection/_validation.py\", line 531, in _fit_and_score\n",
      "    estimator.fit(X_train, y_train, **fit_params)\n",
      "  File \"/home/solanojacon/.pyenv/versions/3.8.12/envs/4tune/lib/python3.8/site-packages/sklearn/linear_model/_logistic.py\", line 1304, in fit\n",
      "    solver = _check_solver(self.solver, self.penalty, self.dual)\n",
      "  File \"/home/solanojacon/.pyenv/versions/3.8.12/envs/4tune/lib/python3.8/site-packages/sklearn/linear_model/_logistic.py\", line 442, in _check_solver\n",
      "    raise ValueError(\"Solver %s supports only 'l2' or 'none' penalties, \"\n",
      "ValueError: Solver sag supports only 'l2' or 'none' penalties, got elasticnet penalty.\n",
      "\n",
      "  warnings.warn(\"Estimator fit failed. The score on this train-test\"\n",
      "/home/solanojacon/.pyenv/versions/3.8.12/envs/4tune/lib/python3.8/site-packages/sklearn/model_selection/_validation.py:548: FitFailedWarning: Estimator fit failed. The score on this train-test partition for these parameters will be set to nan. Details: \n",
      "Traceback (most recent call last):\n",
      "  File \"/home/solanojacon/.pyenv/versions/3.8.12/envs/4tune/lib/python3.8/site-packages/sklearn/model_selection/_validation.py\", line 531, in _fit_and_score\n",
      "    estimator.fit(X_train, y_train, **fit_params)\n",
      "  File \"/home/solanojacon/.pyenv/versions/3.8.12/envs/4tune/lib/python3.8/site-packages/sklearn/linear_model/_logistic.py\", line 1312, in fit\n",
      "    raise ValueError(\"l1_ratio must be between 0 and 1;\"\n",
      "ValueError: l1_ratio must be between 0 and 1; got (l1_ratio=None)\n",
      "\n",
      "  warnings.warn(\"Estimator fit failed. The score on this train-test\"\n",
      "/home/solanojacon/.pyenv/versions/3.8.12/envs/4tune/lib/python3.8/site-packages/sklearn/linear_model/_sag.py:329: ConvergenceWarning: The max_iter was reached which means the coef_ did not converge\n",
      "  warnings.warn(\"The max_iter was reached which means \"\n"
     ]
    },
    {
     "name": "stderr",
     "output_type": "stream",
     "text": [
      "/home/solanojacon/.pyenv/versions/3.8.12/envs/4tune/lib/python3.8/site-packages/sklearn/utils/deprecation.py:101: FutureWarning: The outputs_2d_ attribute is deprecated in version 0.22 and will be removed in version 0.24. It is equivalent to n_outputs_ > 1.\n",
      "  warnings.warn(msg, category=FutureWarning)\n",
      "/home/solanojacon/.pyenv/versions/3.8.12/envs/4tune/lib/python3.8/site-packages/sklearn/metrics/_classification.py:1221: UndefinedMetricWarning: Precision is ill-defined and being set to 0.0 due to no predicted samples. Use `zero_division` parameter to control this behavior.\n",
      "  _warn_prf(average, modifier, msg_start, len(result))\n",
      "/home/solanojacon/.pyenv/versions/3.8.12/envs/4tune/lib/python3.8/site-packages/sklearn/metrics/_classification.py:846: RuntimeWarning: invalid value encountered in double_scalars\n",
      "  mcc = cov_ytyp / np.sqrt(cov_ytyt * cov_ypyp)\n",
      "/home/solanojacon/.pyenv/versions/3.8.12/envs/4tune/lib/python3.8/site-packages/sklearn/utils/deprecation.py:101: FutureWarning: Attribute standard_coef_ was deprecated in version 0.23 and will be removed in 0.25.\n",
      "  warnings.warn(msg, category=FutureWarning)\n",
      "/home/solanojacon/.pyenv/versions/3.8.12/envs/4tune/lib/python3.8/site-packages/sklearn/utils/deprecation.py:101: FutureWarning: Attribute standard_intercept_ was deprecated in version 0.23 and will be removed in 0.25.\n",
      "  warnings.warn(msg, category=FutureWarning)\n",
      "/home/solanojacon/.pyenv/versions/3.8.12/envs/4tune/lib/python3.8/site-packages/sklearn/utils/deprecation.py:101: FutureWarning: Attribute average_coef_ was deprecated in version 0.23 and will be removed in 0.25.\n",
      "  warnings.warn(msg, category=FutureWarning)\n",
      "/home/solanojacon/.pyenv/versions/3.8.12/envs/4tune/lib/python3.8/site-packages/sklearn/utils/deprecation.py:101: FutureWarning: Attribute average_intercept_ was deprecated in version 0.23 and will be removed in 0.25.\n",
      "  warnings.warn(msg, category=FutureWarning)\n",
      "/home/solanojacon/.pyenv/versions/3.8.12/envs/4tune/lib/python3.8/site-packages/sklearn/linear_model/_logistic.py:1320: UserWarning: Setting penalty='none' will ignore the C and l1_ratio parameters\n",
      "  warnings.warn(\n",
      "/home/solanojacon/.pyenv/versions/3.8.12/envs/4tune/lib/python3.8/site-packages/sklearn/linear_model/_sag.py:329: ConvergenceWarning: The max_iter was reached which means the coef_ did not converge\n",
      "  warnings.warn(\"The max_iter was reached which means \"\n",
      "/home/solanojacon/.pyenv/versions/3.8.12/envs/4tune/lib/python3.8/site-packages/sklearn/linear_model/_logistic.py:1320: UserWarning: Setting penalty='none' will ignore the C and l1_ratio parameters\n",
      "  warnings.warn(\n",
      "/home/solanojacon/.pyenv/versions/3.8.12/envs/4tune/lib/python3.8/site-packages/sklearn/linear_model/_logistic.py:762: ConvergenceWarning: lbfgs failed to converge (status=1):\n",
      "STOP: TOTAL NO. of ITERATIONS REACHED LIMIT.\n",
      "\n",
      "Increase the number of iterations (max_iter) or scale the data as shown in:\n",
      "    https://scikit-learn.org/stable/modules/preprocessing.html\n",
      "Please also refer to the documentation for alternative solver options:\n",
      "    https://scikit-learn.org/stable/modules/linear_model.html#logistic-regression\n",
      "  n_iter_i = _check_optimize_result(\n",
      "/home/solanojacon/.pyenv/versions/3.8.12/envs/4tune/lib/python3.8/site-packages/sklearn/model_selection/_validation.py:548: FitFailedWarning: Estimator fit failed. The score on this train-test partition for these parameters will be set to nan. Details: \n",
      "Traceback (most recent call last):\n",
      "  File \"/home/solanojacon/.pyenv/versions/3.8.12/envs/4tune/lib/python3.8/site-packages/sklearn/model_selection/_validation.py\", line 531, in _fit_and_score\n",
      "    estimator.fit(X_train, y_train, **fit_params)\n",
      "  File \"/home/solanojacon/.pyenv/versions/3.8.12/envs/4tune/lib/python3.8/site-packages/sklearn/linear_model/_logistic.py\", line 1304, in fit\n",
      "    solver = _check_solver(self.solver, self.penalty, self.dual)\n",
      "  File \"/home/solanojacon/.pyenv/versions/3.8.12/envs/4tune/lib/python3.8/site-packages/sklearn/linear_model/_logistic.py\", line 453, in _check_solver\n",
      "    raise ValueError(\n",
      "ValueError: penalty='none' is not supported for the liblinear solver\n",
      "\n",
      "  warnings.warn(\"Estimator fit failed. The score on this train-test\"\n",
      "/home/solanojacon/.pyenv/versions/3.8.12/envs/4tune/lib/python3.8/site-packages/sklearn/linear_model/_logistic.py:1320: UserWarning: Setting penalty='none' will ignore the C and l1_ratio parameters\n",
      "  warnings.warn(\n",
      "/home/solanojacon/.pyenv/versions/3.8.12/envs/4tune/lib/python3.8/site-packages/sklearn/linear_model/_sag.py:329: ConvergenceWarning: The max_iter was reached which means the coef_ did not converge\n",
      "  warnings.warn(\"The max_iter was reached which means \"\n",
      "/home/solanojacon/.pyenv/versions/3.8.12/envs/4tune/lib/python3.8/site-packages/sklearn/linear_model/_logistic.py:1320: UserWarning: Setting penalty='none' will ignore the C and l1_ratio parameters\n",
      "  warnings.warn(\n",
      "/home/solanojacon/.pyenv/versions/3.8.12/envs/4tune/lib/python3.8/site-packages/sklearn/linear_model/_sag.py:329: ConvergenceWarning: The max_iter was reached which means the coef_ did not converge\n",
      "  warnings.warn(\"The max_iter was reached which means \"\n",
      "/home/solanojacon/.pyenv/versions/3.8.12/envs/4tune/lib/python3.8/site-packages/sklearn/linear_model/_sag.py:329: ConvergenceWarning: The max_iter was reached which means the coef_ did not converge\n",
      "  warnings.warn(\"The max_iter was reached which means \"\n",
      "/home/solanojacon/.pyenv/versions/3.8.12/envs/4tune/lib/python3.8/site-packages/sklearn/linear_model/_sag.py:329: ConvergenceWarning: The max_iter was reached which means the coef_ did not converge\n",
      "  warnings.warn(\"The max_iter was reached which means \"\n",
      "/home/solanojacon/.pyenv/versions/3.8.12/envs/4tune/lib/python3.8/site-packages/sklearn/model_selection/_validation.py:548: FitFailedWarning: Estimator fit failed. The score on this train-test partition for these parameters will be set to nan. Details: \n",
      "Traceback (most recent call last):\n",
      "  File \"/home/solanojacon/.pyenv/versions/3.8.12/envs/4tune/lib/python3.8/site-packages/sklearn/model_selection/_validation.py\", line 531, in _fit_and_score\n",
      "    estimator.fit(X_train, y_train, **fit_params)\n",
      "  File \"/home/solanojacon/.pyenv/versions/3.8.12/envs/4tune/lib/python3.8/site-packages/sklearn/linear_model/_logistic.py\", line 1304, in fit\n",
      "    solver = _check_solver(self.solver, self.penalty, self.dual)\n",
      "  File \"/home/solanojacon/.pyenv/versions/3.8.12/envs/4tune/lib/python3.8/site-packages/sklearn/linear_model/_logistic.py\", line 442, in _check_solver\n",
      "    raise ValueError(\"Solver %s supports only 'l2' or 'none' penalties, \"\n",
      "ValueError: Solver newton-cg supports only 'l2' or 'none' penalties, got l1 penalty.\n",
      "\n",
      "  warnings.warn(\"Estimator fit failed. The score on this train-test\"\n",
      "/home/solanojacon/.pyenv/versions/3.8.12/envs/4tune/lib/python3.8/site-packages/sklearn/linear_model/_sag.py:329: ConvergenceWarning: The max_iter was reached which means the coef_ did not converge\n",
      "  warnings.warn(\"The max_iter was reached which means \"\n",
      "/home/solanojacon/.pyenv/versions/3.8.12/envs/4tune/lib/python3.8/site-packages/sklearn/linear_model/_sag.py:329: ConvergenceWarning: The max_iter was reached which means the coef_ did not converge\n",
      "  warnings.warn(\"The max_iter was reached which means \"\n",
      "/home/solanojacon/.pyenv/versions/3.8.12/envs/4tune/lib/python3.8/site-packages/sklearn/linear_model/_logistic.py:1320: UserWarning: Setting penalty='none' will ignore the C and l1_ratio parameters\n",
      "  warnings.warn(\n",
      "/home/solanojacon/.pyenv/versions/3.8.12/envs/4tune/lib/python3.8/site-packages/sklearn/linear_model/_logistic.py:762: ConvergenceWarning: lbfgs failed to converge (status=1):\n",
      "STOP: TOTAL NO. of ITERATIONS REACHED LIMIT.\n",
      "\n",
      "Increase the number of iterations (max_iter) or scale the data as shown in:\n",
      "    https://scikit-learn.org/stable/modules/preprocessing.html\n",
      "Please also refer to the documentation for alternative solver options:\n",
      "    https://scikit-learn.org/stable/modules/linear_model.html#logistic-regression\n",
      "  n_iter_i = _check_optimize_result(\n",
      "/home/solanojacon/.pyenv/versions/3.8.12/envs/4tune/lib/python3.8/site-packages/sklearn/linear_model/_logistic.py:1320: UserWarning: Setting penalty='none' will ignore the C and l1_ratio parameters\n",
      "  warnings.warn(\n",
      "/home/solanojacon/.pyenv/versions/3.8.12/envs/4tune/lib/python3.8/site-packages/sklearn/utils/deprecation.py:101: FutureWarning: The outputs_2d_ attribute is deprecated in version 0.22 and will be removed in version 0.24. It is equivalent to n_outputs_ > 1.\n",
      "  warnings.warn(msg, category=FutureWarning)\n",
      "/home/solanojacon/.pyenv/versions/3.8.12/envs/4tune/lib/python3.8/site-packages/sklearn/metrics/_classification.py:1221: UndefinedMetricWarning: Precision is ill-defined and being set to 0.0 due to no predicted samples. Use `zero_division` parameter to control this behavior.\n",
      "  _warn_prf(average, modifier, msg_start, len(result))\n",
      "/home/solanojacon/.pyenv/versions/3.8.12/envs/4tune/lib/python3.8/site-packages/sklearn/metrics/_classification.py:846: RuntimeWarning: invalid value encountered in double_scalars\n",
      "  mcc = cov_ytyp / np.sqrt(cov_ytyt * cov_ypyp)\n",
      "/home/solanojacon/.pyenv/versions/3.8.12/envs/4tune/lib/python3.8/site-packages/sklearn/linear_model/_logistic.py:1320: UserWarning: Setting penalty='none' will ignore the C and l1_ratio parameters\n",
      "  warnings.warn(\n",
      "/home/solanojacon/.pyenv/versions/3.8.12/envs/4tune/lib/python3.8/site-packages/sklearn/linear_model/_logistic.py:762: ConvergenceWarning: lbfgs failed to converge (status=1):\n",
      "STOP: TOTAL NO. of ITERATIONS REACHED LIMIT.\n",
      "\n",
      "Increase the number of iterations (max_iter) or scale the data as shown in:\n",
      "    https://scikit-learn.org/stable/modules/preprocessing.html\n",
      "Please also refer to the documentation for alternative solver options:\n",
      "    https://scikit-learn.org/stable/modules/linear_model.html#logistic-regression\n",
      "  n_iter_i = _check_optimize_result(\n",
      "/home/solanojacon/.pyenv/versions/3.8.12/envs/4tune/lib/python3.8/site-packages/sklearn/linear_model/_logistic.py:1320: UserWarning: Setting penalty='none' will ignore the C and l1_ratio parameters\n",
      "  warnings.warn(\n",
      "/home/solanojacon/.pyenv/versions/3.8.12/envs/4tune/lib/python3.8/site-packages/sklearn/linear_model/_sag.py:329: ConvergenceWarning: The max_iter was reached which means the coef_ did not converge\n",
      "  warnings.warn(\"The max_iter was reached which means \"\n",
      "/home/solanojacon/.pyenv/versions/3.8.12/envs/4tune/lib/python3.8/site-packages/sklearn/model_selection/_validation.py:548: FitFailedWarning: Estimator fit failed. The score on this train-test partition for these parameters will be set to nan. Details: \n",
      "Traceback (most recent call last):\n",
      "  File \"/home/solanojacon/.pyenv/versions/3.8.12/envs/4tune/lib/python3.8/site-packages/sklearn/model_selection/_validation.py\", line 531, in _fit_and_score\n",
      "    estimator.fit(X_train, y_train, **fit_params)\n",
      "  File \"/home/solanojacon/.pyenv/versions/3.8.12/envs/4tune/lib/python3.8/site-packages/sklearn/linear_model/_logistic.py\", line 1304, in fit\n",
      "    solver = _check_solver(self.solver, self.penalty, self.dual)\n",
      "  File \"/home/solanojacon/.pyenv/versions/3.8.12/envs/4tune/lib/python3.8/site-packages/sklearn/linear_model/_logistic.py\", line 442, in _check_solver\n",
      "    raise ValueError(\"Solver %s supports only 'l2' or 'none' penalties, \"\n",
      "ValueError: Solver newton-cg supports only 'l2' or 'none' penalties, got l1 penalty.\n",
      "\n",
      "  warnings.warn(\"Estimator fit failed. The score on this train-test\"\n",
      "/home/solanojacon/.pyenv/versions/3.8.12/envs/4tune/lib/python3.8/site-packages/sklearn/model_selection/_validation.py:548: FitFailedWarning: Estimator fit failed. The score on this train-test partition for these parameters will be set to nan. Details: \n",
      "Traceback (most recent call last):\n",
      "  File \"/home/solanojacon/.pyenv/versions/3.8.12/envs/4tune/lib/python3.8/site-packages/sklearn/model_selection/_validation.py\", line 531, in _fit_and_score\n",
      "    estimator.fit(X_train, y_train, **fit_params)\n",
      "  File \"/home/solanojacon/.pyenv/versions/3.8.12/envs/4tune/lib/python3.8/site-packages/sklearn/linear_model/_logistic.py\", line 1304, in fit\n",
      "    solver = _check_solver(self.solver, self.penalty, self.dual)\n",
      "  File \"/home/solanojacon/.pyenv/versions/3.8.12/envs/4tune/lib/python3.8/site-packages/sklearn/linear_model/_logistic.py\", line 442, in _check_solver\n",
      "    raise ValueError(\"Solver %s supports only 'l2' or 'none' penalties, \"\n",
      "ValueError: Solver lbfgs supports only 'l2' or 'none' penalties, got l1 penalty.\n",
      "\n",
      "  warnings.warn(\"Estimator fit failed. The score on this train-test\"\n",
      "/home/solanojacon/.pyenv/versions/3.8.12/envs/4tune/lib/python3.8/site-packages/sklearn/linear_model/_sag.py:329: ConvergenceWarning: The max_iter was reached which means the coef_ did not converge\n",
      "  warnings.warn(\"The max_iter was reached which means \"\n",
      "/home/solanojacon/.pyenv/versions/3.8.12/envs/4tune/lib/python3.8/site-packages/sklearn/linear_model/_sag.py:329: ConvergenceWarning: The max_iter was reached which means the coef_ did not converge\n",
      "  warnings.warn(\"The max_iter was reached which means \"\n",
      "/home/solanojacon/.pyenv/versions/3.8.12/envs/4tune/lib/python3.8/site-packages/sklearn/model_selection/_validation.py:548: FitFailedWarning: Estimator fit failed. The score on this train-test partition for these parameters will be set to nan. Details: \n",
      "Traceback (most recent call last):\n",
      "  File \"/home/solanojacon/.pyenv/versions/3.8.12/envs/4tune/lib/python3.8/site-packages/sklearn/model_selection/_validation.py\", line 531, in _fit_and_score\n",
      "    estimator.fit(X_train, y_train, **fit_params)\n",
      "  File \"/home/solanojacon/.pyenv/versions/3.8.12/envs/4tune/lib/python3.8/site-packages/sklearn/linear_model/_logistic.py\", line 1304, in fit\n",
      "    solver = _check_solver(self.solver, self.penalty, self.dual)\n",
      "  File \"/home/solanojacon/.pyenv/versions/3.8.12/envs/4tune/lib/python3.8/site-packages/sklearn/linear_model/_logistic.py\", line 442, in _check_solver\n",
      "    raise ValueError(\"Solver %s supports only 'l2' or 'none' penalties, \"\n",
      "ValueError: Solver sag supports only 'l2' or 'none' penalties, got elasticnet penalty.\n",
      "\n",
      "  warnings.warn(\"Estimator fit failed. The score on this train-test\"\n",
      "/home/solanojacon/.pyenv/versions/3.8.12/envs/4tune/lib/python3.8/site-packages/sklearn/model_selection/_validation.py:548: FitFailedWarning: Estimator fit failed. The score on this train-test partition for these parameters will be set to nan. Details: \n",
      "Traceback (most recent call last):\n",
      "  File \"/home/solanojacon/.pyenv/versions/3.8.12/envs/4tune/lib/python3.8/site-packages/sklearn/model_selection/_validation.py\", line 531, in _fit_and_score\n",
      "    estimator.fit(X_train, y_train, **fit_params)\n",
      "  File \"/home/solanojacon/.pyenv/versions/3.8.12/envs/4tune/lib/python3.8/site-packages/sklearn/linear_model/_logistic.py\", line 1312, in fit\n",
      "    raise ValueError(\"l1_ratio must be between 0 and 1;\"\n",
      "ValueError: l1_ratio must be between 0 and 1; got (l1_ratio=None)\n",
      "\n",
      "  warnings.warn(\"Estimator fit failed. The score on this train-test\"\n",
      "/home/solanojacon/.pyenv/versions/3.8.12/envs/4tune/lib/python3.8/site-packages/sklearn/linear_model/_logistic.py:1320: UserWarning: Setting penalty='none' will ignore the C and l1_ratio parameters\n",
      "  warnings.warn(\n",
      "/home/solanojacon/.pyenv/versions/3.8.12/envs/4tune/lib/python3.8/site-packages/sklearn/linear_model/_sag.py:329: ConvergenceWarning: The max_iter was reached which means the coef_ did not converge\n",
      "  warnings.warn(\"The max_iter was reached which means \"\n",
      "/home/solanojacon/.pyenv/versions/3.8.12/envs/4tune/lib/python3.8/site-packages/sklearn/linear_model/_sag.py:329: ConvergenceWarning: The max_iter was reached which means the coef_ did not converge\n",
      "  warnings.warn(\"The max_iter was reached which means \"\n",
      "/home/solanojacon/.pyenv/versions/3.8.12/envs/4tune/lib/python3.8/site-packages/sklearn/linear_model/_sag.py:329: ConvergenceWarning: The max_iter was reached which means the coef_ did not converge\n",
      "  warnings.warn(\"The max_iter was reached which means \"\n",
      "/home/solanojacon/.pyenv/versions/3.8.12/envs/4tune/lib/python3.8/site-packages/sklearn/linear_model/_logistic.py:1320: UserWarning: Setting penalty='none' will ignore the C and l1_ratio parameters\n",
      "  warnings.warn(\n",
      "/home/solanojacon/.pyenv/versions/3.8.12/envs/4tune/lib/python3.8/site-packages/sklearn/linear_model/_sag.py:329: ConvergenceWarning: The max_iter was reached which means the coef_ did not converge\n",
      "  warnings.warn(\"The max_iter was reached which means \"\n",
      "/home/solanojacon/.pyenv/versions/3.8.12/envs/4tune/lib/python3.8/site-packages/sklearn/linear_model/_logistic.py:762: ConvergenceWarning: lbfgs failed to converge (status=1):\n",
      "STOP: TOTAL NO. of ITERATIONS REACHED LIMIT.\n",
      "\n",
      "Increase the number of iterations (max_iter) or scale the data as shown in:\n",
      "    https://scikit-learn.org/stable/modules/preprocessing.html\n",
      "Please also refer to the documentation for alternative solver options:\n",
      "    https://scikit-learn.org/stable/modules/linear_model.html#logistic-regression\n",
      "  n_iter_i = _check_optimize_result(\n",
      "/home/solanojacon/.pyenv/versions/3.8.12/envs/4tune/lib/python3.8/site-packages/sklearn/model_selection/_validation.py:548: FitFailedWarning: Estimator fit failed. The score on this train-test partition for these parameters will be set to nan. Details: \n",
      "Traceback (most recent call last):\n",
      "  File \"/home/solanojacon/.pyenv/versions/3.8.12/envs/4tune/lib/python3.8/site-packages/sklearn/model_selection/_validation.py\", line 531, in _fit_and_score\n",
      "    estimator.fit(X_train, y_train, **fit_params)\n",
      "  File \"/home/solanojacon/.pyenv/versions/3.8.12/envs/4tune/lib/python3.8/site-packages/sklearn/linear_model/_logistic.py\", line 1304, in fit\n",
      "    solver = _check_solver(self.solver, self.penalty, self.dual)\n",
      "  File \"/home/solanojacon/.pyenv/versions/3.8.12/envs/4tune/lib/python3.8/site-packages/sklearn/linear_model/_logistic.py\", line 442, in _check_solver\n",
      "    raise ValueError(\"Solver %s supports only 'l2' or 'none' penalties, \"\n",
      "ValueError: Solver newton-cg supports only 'l2' or 'none' penalties, got elasticnet penalty.\n",
      "\n",
      "  warnings.warn(\"Estimator fit failed. The score on this train-test\"\n",
      "/home/solanojacon/.pyenv/versions/3.8.12/envs/4tune/lib/python3.8/site-packages/sklearn/model_selection/_validation.py:548: FitFailedWarning: Estimator fit failed. The score on this train-test partition for these parameters will be set to nan. Details: \n",
      "Traceback (most recent call last):\n",
      "  File \"/home/solanojacon/.pyenv/versions/3.8.12/envs/4tune/lib/python3.8/site-packages/sklearn/model_selection/_validation.py\", line 531, in _fit_and_score\n",
      "    estimator.fit(X_train, y_train, **fit_params)\n",
      "  File \"/home/solanojacon/.pyenv/versions/3.8.12/envs/4tune/lib/python3.8/site-packages/sklearn/linear_model/_logistic.py\", line 1304, in fit\n",
      "    solver = _check_solver(self.solver, self.penalty, self.dual)\n",
      "  File \"/home/solanojacon/.pyenv/versions/3.8.12/envs/4tune/lib/python3.8/site-packages/sklearn/linear_model/_logistic.py\", line 442, in _check_solver\n",
      "    raise ValueError(\"Solver %s supports only 'l2' or 'none' penalties, \"\n",
      "ValueError: Solver lbfgs supports only 'l2' or 'none' penalties, got elasticnet penalty.\n",
      "\n",
      "  warnings.warn(\"Estimator fit failed. The score on this train-test\"\n",
      "/home/solanojacon/.pyenv/versions/3.8.12/envs/4tune/lib/python3.8/site-packages/sklearn/model_selection/_validation.py:548: FitFailedWarning: Estimator fit failed. The score on this train-test partition for these parameters will be set to nan. Details: \n",
      "Traceback (most recent call last):\n",
      "  File \"/home/solanojacon/.pyenv/versions/3.8.12/envs/4tune/lib/python3.8/site-packages/sklearn/model_selection/_validation.py\", line 531, in _fit_and_score\n",
      "    estimator.fit(X_train, y_train, **fit_params)\n",
      "  File \"/home/solanojacon/.pyenv/versions/3.8.12/envs/4tune/lib/python3.8/site-packages/sklearn/linear_model/_logistic.py\", line 1304, in fit\n",
      "    solver = _check_solver(self.solver, self.penalty, self.dual)\n",
      "  File \"/home/solanojacon/.pyenv/versions/3.8.12/envs/4tune/lib/python3.8/site-packages/sklearn/linear_model/_logistic.py\", line 449, in _check_solver\n",
      "    raise ValueError(\"Only 'saga' solver supports elasticnet penalty,\"\n",
      "ValueError: Only 'saga' solver supports elasticnet penalty, got solver=liblinear.\n",
      "\n",
      "  warnings.warn(\"Estimator fit failed. The score on this train-test\"\n",
      "/home/solanojacon/.pyenv/versions/3.8.12/envs/4tune/lib/python3.8/site-packages/sklearn/model_selection/_validation.py:548: FitFailedWarning: Estimator fit failed. The score on this train-test partition for these parameters will be set to nan. Details: \n",
      "Traceback (most recent call last):\n",
      "  File \"/home/solanojacon/.pyenv/versions/3.8.12/envs/4tune/lib/python3.8/site-packages/sklearn/model_selection/_validation.py\", line 531, in _fit_and_score\n",
      "    estimator.fit(X_train, y_train, **fit_params)\n",
      "  File \"/home/solanojacon/.pyenv/versions/3.8.12/envs/4tune/lib/python3.8/site-packages/sklearn/linear_model/_logistic.py\", line 1304, in fit\n",
      "    solver = _check_solver(self.solver, self.penalty, self.dual)\n",
      "  File \"/home/solanojacon/.pyenv/versions/3.8.12/envs/4tune/lib/python3.8/site-packages/sklearn/linear_model/_logistic.py\", line 442, in _check_solver\n",
      "    raise ValueError(\"Solver %s supports only 'l2' or 'none' penalties, \"\n",
      "ValueError: Solver sag supports only 'l2' or 'none' penalties, got elasticnet penalty.\n",
      "\n",
      "  warnings.warn(\"Estimator fit failed. The score on this train-test\"\n",
      "/home/solanojacon/.pyenv/versions/3.8.12/envs/4tune/lib/python3.8/site-packages/sklearn/model_selection/_validation.py:548: FitFailedWarning: Estimator fit failed. The score on this train-test partition for these parameters will be set to nan. Details: \n",
      "Traceback (most recent call last):\n",
      "  File \"/home/solanojacon/.pyenv/versions/3.8.12/envs/4tune/lib/python3.8/site-packages/sklearn/model_selection/_validation.py\", line 531, in _fit_and_score\n",
      "    estimator.fit(X_train, y_train, **fit_params)\n",
      "  File \"/home/solanojacon/.pyenv/versions/3.8.12/envs/4tune/lib/python3.8/site-packages/sklearn/linear_model/_logistic.py\", line 1312, in fit\n",
      "    raise ValueError(\"l1_ratio must be between 0 and 1;\"\n",
      "ValueError: l1_ratio must be between 0 and 1; got (l1_ratio=None)\n",
      "\n",
      "  warnings.warn(\"Estimator fit failed. The score on this train-test\"\n",
      "/home/solanojacon/.pyenv/versions/3.8.12/envs/4tune/lib/python3.8/site-packages/sklearn/linear_model/_logistic.py:1320: UserWarning: Setting penalty='none' will ignore the C and l1_ratio parameters\n",
      "  warnings.warn(\n",
      "/home/solanojacon/.pyenv/versions/3.8.12/envs/4tune/lib/python3.8/site-packages/sklearn/model_selection/_validation.py:548: FitFailedWarning: Estimator fit failed. The score on this train-test partition for these parameters will be set to nan. Details: \n",
      "Traceback (most recent call last):\n",
      "  File \"/home/solanojacon/.pyenv/versions/3.8.12/envs/4tune/lib/python3.8/site-packages/sklearn/model_selection/_validation.py\", line 531, in _fit_and_score\n",
      "    estimator.fit(X_train, y_train, **fit_params)\n",
      "  File \"/home/solanojacon/.pyenv/versions/3.8.12/envs/4tune/lib/python3.8/site-packages/sklearn/linear_model/_logistic.py\", line 1304, in fit\n",
      "    solver = _check_solver(self.solver, self.penalty, self.dual)\n",
      "  File \"/home/solanojacon/.pyenv/versions/3.8.12/envs/4tune/lib/python3.8/site-packages/sklearn/linear_model/_logistic.py\", line 442, in _check_solver\n",
      "    raise ValueError(\"Solver %s supports only 'l2' or 'none' penalties, \"\n",
      "ValueError: Solver newton-cg supports only 'l2' or 'none' penalties, got elasticnet penalty.\n",
      "\n",
      "  warnings.warn(\"Estimator fit failed. The score on this train-test\"\n",
      "/home/solanojacon/.pyenv/versions/3.8.12/envs/4tune/lib/python3.8/site-packages/sklearn/utils/deprecation.py:101: FutureWarning: Attribute standard_coef_ was deprecated in version 0.23 and will be removed in 0.25.\n",
      "  warnings.warn(msg, category=FutureWarning)\n",
      "/home/solanojacon/.pyenv/versions/3.8.12/envs/4tune/lib/python3.8/site-packages/sklearn/utils/deprecation.py:101: FutureWarning: Attribute standard_intercept_ was deprecated in version 0.23 and will be removed in 0.25.\n",
      "  warnings.warn(msg, category=FutureWarning)\n",
      "/home/solanojacon/.pyenv/versions/3.8.12/envs/4tune/lib/python3.8/site-packages/sklearn/utils/deprecation.py:101: FutureWarning: Attribute average_coef_ was deprecated in version 0.23 and will be removed in 0.25.\n",
      "  warnings.warn(msg, category=FutureWarning)\n",
      "/home/solanojacon/.pyenv/versions/3.8.12/envs/4tune/lib/python3.8/site-packages/sklearn/utils/deprecation.py:101: FutureWarning: Attribute average_intercept_ was deprecated in version 0.23 and will be removed in 0.25.\n",
      "  warnings.warn(msg, category=FutureWarning)\n",
      "/home/solanojacon/.pyenv/versions/3.8.12/envs/4tune/lib/python3.8/site-packages/xgboost/sklearn.py:1224: UserWarning: The use of label encoder in XGBClassifier is deprecated and will be removed in a future release. To remove this warning, do the following: 1) Pass option use_label_encoder=False when constructing XGBClassifier object; and 2) Encode your labels (y) as integers starting with 0, i.e. 0, 1, 2, ..., [num_class - 1].\n",
      "  warnings.warn(label_encoder_deprecation_msg, UserWarning)\n",
      "/home/solanojacon/.pyenv/versions/3.8.12/envs/4tune/lib/python3.8/site-packages/xgboost/sklearn.py:1224: UserWarning: The use of label encoder in XGBClassifier is deprecated and will be removed in a future release. To remove this warning, do the following: 1) Pass option use_label_encoder=False when constructing XGBClassifier object; and 2) Encode your labels (y) as integers starting with 0, i.e. 0, 1, 2, ..., [num_class - 1].\n",
      "  warnings.warn(label_encoder_deprecation_msg, UserWarning)\n",
      "/home/solanojacon/.pyenv/versions/3.8.12/envs/4tune/lib/python3.8/site-packages/sklearn/model_selection/_validation.py:548: FitFailedWarning: Estimator fit failed. The score on this train-test partition for these parameters will be set to nan. Details: \n",
      "Traceback (most recent call last):\n",
      "  File \"/home/solanojacon/.pyenv/versions/3.8.12/envs/4tune/lib/python3.8/site-packages/sklearn/model_selection/_validation.py\", line 531, in _fit_and_score\n",
      "    estimator.fit(X_train, y_train, **fit_params)\n",
      "  File \"/home/solanojacon/.pyenv/versions/3.8.12/envs/4tune/lib/python3.8/site-packages/sklearn/linear_model/_logistic.py\", line 1304, in fit\n",
      "    solver = _check_solver(self.solver, self.penalty, self.dual)\n",
      "  File \"/home/solanojacon/.pyenv/versions/3.8.12/envs/4tune/lib/python3.8/site-packages/sklearn/linear_model/_logistic.py\", line 453, in _check_solver\n",
      "    raise ValueError(\n",
      "ValueError: penalty='none' is not supported for the liblinear solver\n",
      "\n",
      "  warnings.warn(\"Estimator fit failed. The score on this train-test\"\n",
      "/home/solanojacon/.pyenv/versions/3.8.12/envs/4tune/lib/python3.8/site-packages/sklearn/linear_model/_logistic.py:1320: UserWarning: Setting penalty='none' will ignore the C and l1_ratio parameters\n",
      "  warnings.warn(\n",
      "/home/solanojacon/.pyenv/versions/3.8.12/envs/4tune/lib/python3.8/site-packages/sklearn/linear_model/_sag.py:329: ConvergenceWarning: The max_iter was reached which means the coef_ did not converge\n",
      "  warnings.warn(\"The max_iter was reached which means \"\n",
      "/home/solanojacon/.pyenv/versions/3.8.12/envs/4tune/lib/python3.8/site-packages/sklearn/linear_model/_logistic.py:1320: UserWarning: Setting penalty='none' will ignore the C and l1_ratio parameters\n",
      "  warnings.warn(\n",
      "/home/solanojacon/.pyenv/versions/3.8.12/envs/4tune/lib/python3.8/site-packages/sklearn/linear_model/_sag.py:329: ConvergenceWarning: The max_iter was reached which means the coef_ did not converge\n",
      "  warnings.warn(\"The max_iter was reached which means \"\n",
      "/home/solanojacon/.pyenv/versions/3.8.12/envs/4tune/lib/python3.8/site-packages/sklearn/model_selection/_validation.py:548: FitFailedWarning: Estimator fit failed. The score on this train-test partition for these parameters will be set to nan. Details: \n",
      "Traceback (most recent call last):\n",
      "  File \"/home/solanojacon/.pyenv/versions/3.8.12/envs/4tune/lib/python3.8/site-packages/sklearn/model_selection/_validation.py\", line 531, in _fit_and_score\n",
      "    estimator.fit(X_train, y_train, **fit_params)\n",
      "  File \"/home/solanojacon/.pyenv/versions/3.8.12/envs/4tune/lib/python3.8/site-packages/sklearn/linear_model/_logistic.py\", line 1304, in fit\n",
      "    solver = _check_solver(self.solver, self.penalty, self.dual)\n",
      "  File \"/home/solanojacon/.pyenv/versions/3.8.12/envs/4tune/lib/python3.8/site-packages/sklearn/linear_model/_logistic.py\", line 442, in _check_solver\n",
      "    raise ValueError(\"Solver %s supports only 'l2' or 'none' penalties, \"\n",
      "ValueError: Solver newton-cg supports only 'l2' or 'none' penalties, got l1 penalty.\n",
      "\n",
      "  warnings.warn(\"Estimator fit failed. The score on this train-test\"\n",
      "/home/solanojacon/.pyenv/versions/3.8.12/envs/4tune/lib/python3.8/site-packages/sklearn/model_selection/_validation.py:548: FitFailedWarning: Estimator fit failed. The score on this train-test partition for these parameters will be set to nan. Details: \n",
      "Traceback (most recent call last):\n",
      "  File \"/home/solanojacon/.pyenv/versions/3.8.12/envs/4tune/lib/python3.8/site-packages/sklearn/model_selection/_validation.py\", line 531, in _fit_and_score\n",
      "    estimator.fit(X_train, y_train, **fit_params)\n",
      "  File \"/home/solanojacon/.pyenv/versions/3.8.12/envs/4tune/lib/python3.8/site-packages/sklearn/linear_model/_logistic.py\", line 1304, in fit\n",
      "    solver = _check_solver(self.solver, self.penalty, self.dual)\n",
      "  File \"/home/solanojacon/.pyenv/versions/3.8.12/envs/4tune/lib/python3.8/site-packages/sklearn/linear_model/_logistic.py\", line 442, in _check_solver\n",
      "    raise ValueError(\"Solver %s supports only 'l2' or 'none' penalties, \"\n",
      "ValueError: Solver lbfgs supports only 'l2' or 'none' penalties, got l1 penalty.\n",
      "\n",
      "  warnings.warn(\"Estimator fit failed. The score on this train-test\"\n",
      "/home/solanojacon/.pyenv/versions/3.8.12/envs/4tune/lib/python3.8/site-packages/sklearn/linear_model/_sag.py:329: ConvergenceWarning: The max_iter was reached which means the coef_ did not converge\n",
      "  warnings.warn(\"The max_iter was reached which means \"\n",
      "/home/solanojacon/.pyenv/versions/3.8.12/envs/4tune/lib/python3.8/site-packages/sklearn/linear_model/_sag.py:329: ConvergenceWarning: The max_iter was reached which means the coef_ did not converge\n",
      "  warnings.warn(\"The max_iter was reached which means \"\n",
      "/home/solanojacon/.pyenv/versions/3.8.12/envs/4tune/lib/python3.8/site-packages/sklearn/linear_model/_sag.py:329: ConvergenceWarning: The max_iter was reached which means the coef_ did not converge\n",
      "  warnings.warn(\"The max_iter was reached which means \"\n",
      "/home/solanojacon/.pyenv/versions/3.8.12/envs/4tune/lib/python3.8/site-packages/sklearn/linear_model/_sag.py:329: ConvergenceWarning: The max_iter was reached which means the coef_ did not converge\n",
      "  warnings.warn(\"The max_iter was reached which means \"\n",
      "/home/solanojacon/.pyenv/versions/3.8.12/envs/4tune/lib/python3.8/site-packages/sklearn/linear_model/_logistic.py:1320: UserWarning: Setting penalty='none' will ignore the C and l1_ratio parameters\n",
      "  warnings.warn(\n",
      "/home/solanojacon/.pyenv/versions/3.8.12/envs/4tune/lib/python3.8/site-packages/sklearn/linear_model/_sag.py:329: ConvergenceWarning: The max_iter was reached which means the coef_ did not converge\n",
      "  warnings.warn(\"The max_iter was reached which means \"\n",
      "/home/solanojacon/.pyenv/versions/3.8.12/envs/4tune/lib/python3.8/site-packages/sklearn/linear_model/_logistic.py:762: ConvergenceWarning: lbfgs failed to converge (status=1):\n",
      "STOP: TOTAL NO. of ITERATIONS REACHED LIMIT.\n",
      "\n",
      "Increase the number of iterations (max_iter) or scale the data as shown in:\n",
      "    https://scikit-learn.org/stable/modules/preprocessing.html\n",
      "Please also refer to the documentation for alternative solver options:\n",
      "    https://scikit-learn.org/stable/modules/linear_model.html#logistic-regression\n",
      "  n_iter_i = _check_optimize_result(\n"
     ]
    },
    {
     "name": "stderr",
     "output_type": "stream",
     "text": [
      "/home/solanojacon/.pyenv/versions/3.8.12/envs/4tune/lib/python3.8/site-packages/sklearn/utils/deprecation.py:101: FutureWarning: The outputs_2d_ attribute is deprecated in version 0.22 and will be removed in version 0.24. It is equivalent to n_outputs_ > 1.\n",
      "  warnings.warn(msg, category=FutureWarning)\n",
      "/home/solanojacon/.pyenv/versions/3.8.12/envs/4tune/lib/python3.8/site-packages/sklearn/metrics/_classification.py:1221: UndefinedMetricWarning: Precision is ill-defined and being set to 0.0 due to no predicted samples. Use `zero_division` parameter to control this behavior.\n",
      "  _warn_prf(average, modifier, msg_start, len(result))\n",
      "/home/solanojacon/.pyenv/versions/3.8.12/envs/4tune/lib/python3.8/site-packages/sklearn/metrics/_classification.py:846: RuntimeWarning: invalid value encountered in double_scalars\n",
      "  mcc = cov_ytyp / np.sqrt(cov_ytyt * cov_ypyp)\n",
      "/home/solanojacon/.pyenv/versions/3.8.12/envs/4tune/lib/python3.8/site-packages/xgboost/sklearn.py:1224: UserWarning: The use of label encoder in XGBClassifier is deprecated and will be removed in a future release. To remove this warning, do the following: 1) Pass option use_label_encoder=False when constructing XGBClassifier object; and 2) Encode your labels (y) as integers starting with 0, i.e. 0, 1, 2, ..., [num_class - 1].\n",
      "  warnings.warn(label_encoder_deprecation_msg, UserWarning)\n",
      "/home/solanojacon/.pyenv/versions/3.8.12/envs/4tune/lib/python3.8/site-packages/sklearn/utils/deprecation.py:101: FutureWarning: The outputs_2d_ attribute is deprecated in version 0.22 and will be removed in version 0.24. It is equivalent to n_outputs_ > 1.\n",
      "  warnings.warn(msg, category=FutureWarning)\n",
      "/home/solanojacon/.pyenv/versions/3.8.12/envs/4tune/lib/python3.8/site-packages/sklearn/metrics/_classification.py:1221: UndefinedMetricWarning: Precision is ill-defined and being set to 0.0 due to no predicted samples. Use `zero_division` parameter to control this behavior.\n",
      "  _warn_prf(average, modifier, msg_start, len(result))\n",
      "/home/solanojacon/.pyenv/versions/3.8.12/envs/4tune/lib/python3.8/site-packages/sklearn/metrics/_classification.py:846: RuntimeWarning: invalid value encountered in double_scalars\n",
      "  mcc = cov_ytyp / np.sqrt(cov_ytyt * cov_ypyp)\n",
      "/home/solanojacon/.pyenv/versions/3.8.12/envs/4tune/lib/python3.8/site-packages/sklearn/linear_model/_logistic.py:1320: UserWarning: Setting penalty='none' will ignore the C and l1_ratio parameters\n",
      "  warnings.warn(\n",
      "/home/solanojacon/.pyenv/versions/3.8.12/envs/4tune/lib/python3.8/site-packages/sklearn/linear_model/_sag.py:329: ConvergenceWarning: The max_iter was reached which means the coef_ did not converge\n",
      "  warnings.warn(\"The max_iter was reached which means \"\n",
      "/home/solanojacon/.pyenv/versions/3.8.12/envs/4tune/lib/python3.8/site-packages/sklearn/linear_model/_sag.py:329: ConvergenceWarning: The max_iter was reached which means the coef_ did not converge\n",
      "  warnings.warn(\"The max_iter was reached which means \"\n",
      "/home/solanojacon/.pyenv/versions/3.8.12/envs/4tune/lib/python3.8/site-packages/sklearn/linear_model/_logistic.py:1320: UserWarning: Setting penalty='none' will ignore the C and l1_ratio parameters\n",
      "  warnings.warn(\n",
      "/home/solanojacon/.pyenv/versions/3.8.12/envs/4tune/lib/python3.8/site-packages/sklearn/linear_model/_sag.py:329: ConvergenceWarning: The max_iter was reached which means the coef_ did not converge\n",
      "  warnings.warn(\"The max_iter was reached which means \"\n",
      "/home/solanojacon/.pyenv/versions/3.8.12/envs/4tune/lib/python3.8/site-packages/sklearn/linear_model/_logistic.py:1320: UserWarning: Setting penalty='none' will ignore the C and l1_ratio parameters\n",
      "  warnings.warn(\n",
      "/home/solanojacon/.pyenv/versions/3.8.12/envs/4tune/lib/python3.8/site-packages/sklearn/linear_model/_sag.py:329: ConvergenceWarning: The max_iter was reached which means the coef_ did not converge\n",
      "  warnings.warn(\"The max_iter was reached which means \"\n",
      "/home/solanojacon/.pyenv/versions/3.8.12/envs/4tune/lib/python3.8/site-packages/sklearn/model_selection/_validation.py:548: FitFailedWarning: Estimator fit failed. The score on this train-test partition for these parameters will be set to nan. Details: \n",
      "Traceback (most recent call last):\n",
      "  File \"/home/solanojacon/.pyenv/versions/3.8.12/envs/4tune/lib/python3.8/site-packages/sklearn/model_selection/_validation.py\", line 531, in _fit_and_score\n",
      "    estimator.fit(X_train, y_train, **fit_params)\n",
      "  File \"/home/solanojacon/.pyenv/versions/3.8.12/envs/4tune/lib/python3.8/site-packages/sklearn/linear_model/_logistic.py\", line 1304, in fit\n",
      "    solver = _check_solver(self.solver, self.penalty, self.dual)\n",
      "  File \"/home/solanojacon/.pyenv/versions/3.8.12/envs/4tune/lib/python3.8/site-packages/sklearn/linear_model/_logistic.py\", line 442, in _check_solver\n",
      "    raise ValueError(\"Solver %s supports only 'l2' or 'none' penalties, \"\n",
      "ValueError: Solver sag supports only 'l2' or 'none' penalties, got l1 penalty.\n",
      "\n",
      "  warnings.warn(\"Estimator fit failed. The score on this train-test\"\n",
      "/home/solanojacon/.pyenv/versions/3.8.12/envs/4tune/lib/python3.8/site-packages/sklearn/linear_model/_sag.py:329: ConvergenceWarning: The max_iter was reached which means the coef_ did not converge\n",
      "  warnings.warn(\"The max_iter was reached which means \"\n",
      "/home/solanojacon/.pyenv/versions/3.8.12/envs/4tune/lib/python3.8/site-packages/sklearn/linear_model/_sag.py:329: ConvergenceWarning: The max_iter was reached which means the coef_ did not converge\n",
      "  warnings.warn(\"The max_iter was reached which means \"\n",
      "/home/solanojacon/.pyenv/versions/3.8.12/envs/4tune/lib/python3.8/site-packages/sklearn/linear_model/_logistic.py:762: ConvergenceWarning: lbfgs failed to converge (status=1):\n",
      "STOP: TOTAL NO. of ITERATIONS REACHED LIMIT.\n",
      "\n",
      "Increase the number of iterations (max_iter) or scale the data as shown in:\n",
      "    https://scikit-learn.org/stable/modules/preprocessing.html\n",
      "Please also refer to the documentation for alternative solver options:\n",
      "    https://scikit-learn.org/stable/modules/linear_model.html#logistic-regression\n",
      "  n_iter_i = _check_optimize_result(\n",
      "/home/solanojacon/.pyenv/versions/3.8.12/envs/4tune/lib/python3.8/site-packages/sklearn/linear_model/_logistic.py:762: ConvergenceWarning: lbfgs failed to converge (status=1):\n",
      "STOP: TOTAL NO. of ITERATIONS REACHED LIMIT.\n",
      "\n",
      "Increase the number of iterations (max_iter) or scale the data as shown in:\n",
      "    https://scikit-learn.org/stable/modules/preprocessing.html\n",
      "Please also refer to the documentation for alternative solver options:\n",
      "    https://scikit-learn.org/stable/modules/linear_model.html#logistic-regression\n",
      "  n_iter_i = _check_optimize_result(\n",
      "/home/solanojacon/.pyenv/versions/3.8.12/envs/4tune/lib/python3.8/site-packages/sklearn/linear_model/_sag.py:329: ConvergenceWarning: The max_iter was reached which means the coef_ did not converge\n",
      "  warnings.warn(\"The max_iter was reached which means \"\n",
      "/home/solanojacon/.pyenv/versions/3.8.12/envs/4tune/lib/python3.8/site-packages/sklearn/linear_model/_sag.py:329: ConvergenceWarning: The max_iter was reached which means the coef_ did not converge\n",
      "  warnings.warn(\"The max_iter was reached which means \"\n",
      "/home/solanojacon/.pyenv/versions/3.8.12/envs/4tune/lib/python3.8/site-packages/sklearn/linear_model/_logistic.py:1320: UserWarning: Setting penalty='none' will ignore the C and l1_ratio parameters\n",
      "  warnings.warn(\n",
      "/home/solanojacon/.pyenv/versions/3.8.12/envs/4tune/lib/python3.8/site-packages/sklearn/linear_model/_logistic.py:1320: UserWarning: Setting penalty='none' will ignore the C and l1_ratio parameters\n",
      "  warnings.warn(\n",
      "/home/solanojacon/.pyenv/versions/3.8.12/envs/4tune/lib/python3.8/site-packages/sklearn/linear_model/_logistic.py:762: ConvergenceWarning: lbfgs failed to converge (status=1):\n",
      "STOP: TOTAL NO. of ITERATIONS REACHED LIMIT.\n",
      "\n",
      "Increase the number of iterations (max_iter) or scale the data as shown in:\n",
      "    https://scikit-learn.org/stable/modules/preprocessing.html\n",
      "Please also refer to the documentation for alternative solver options:\n",
      "    https://scikit-learn.org/stable/modules/linear_model.html#logistic-regression\n",
      "  n_iter_i = _check_optimize_result(\n",
      "/home/solanojacon/.pyenv/versions/3.8.12/envs/4tune/lib/python3.8/site-packages/sklearn/utils/deprecation.py:101: FutureWarning: Attribute standard_coef_ was deprecated in version 0.23 and will be removed in 0.25.\n",
      "  warnings.warn(msg, category=FutureWarning)\n",
      "/home/solanojacon/.pyenv/versions/3.8.12/envs/4tune/lib/python3.8/site-packages/sklearn/utils/deprecation.py:101: FutureWarning: Attribute standard_intercept_ was deprecated in version 0.23 and will be removed in 0.25.\n",
      "  warnings.warn(msg, category=FutureWarning)\n",
      "/home/solanojacon/.pyenv/versions/3.8.12/envs/4tune/lib/python3.8/site-packages/sklearn/utils/deprecation.py:101: FutureWarning: Attribute average_coef_ was deprecated in version 0.23 and will be removed in 0.25.\n",
      "  warnings.warn(msg, category=FutureWarning)\n",
      "/home/solanojacon/.pyenv/versions/3.8.12/envs/4tune/lib/python3.8/site-packages/sklearn/utils/deprecation.py:101: FutureWarning: Attribute average_intercept_ was deprecated in version 0.23 and will be removed in 0.25.\n",
      "  warnings.warn(msg, category=FutureWarning)\n",
      "/home/solanojacon/.pyenv/versions/3.8.12/envs/4tune/lib/python3.8/site-packages/xgboost/sklearn.py:1224: UserWarning: The use of label encoder in XGBClassifier is deprecated and will be removed in a future release. To remove this warning, do the following: 1) Pass option use_label_encoder=False when constructing XGBClassifier object; and 2) Encode your labels (y) as integers starting with 0, i.e. 0, 1, 2, ..., [num_class - 1].\n",
      "  warnings.warn(label_encoder_deprecation_msg, UserWarning)\n",
      "/home/solanojacon/.pyenv/versions/3.8.12/envs/4tune/lib/python3.8/site-packages/sklearn/utils/deprecation.py:101: FutureWarning: Attribute standard_coef_ was deprecated in version 0.23 and will be removed in 0.25.\n",
      "  warnings.warn(msg, category=FutureWarning)\n",
      "/home/solanojacon/.pyenv/versions/3.8.12/envs/4tune/lib/python3.8/site-packages/sklearn/utils/deprecation.py:101: FutureWarning: Attribute standard_intercept_ was deprecated in version 0.23 and will be removed in 0.25.\n",
      "  warnings.warn(msg, category=FutureWarning)\n",
      "/home/solanojacon/.pyenv/versions/3.8.12/envs/4tune/lib/python3.8/site-packages/sklearn/utils/deprecation.py:101: FutureWarning: Attribute average_coef_ was deprecated in version 0.23 and will be removed in 0.25.\n",
      "  warnings.warn(msg, category=FutureWarning)\n",
      "/home/solanojacon/.pyenv/versions/3.8.12/envs/4tune/lib/python3.8/site-packages/sklearn/utils/deprecation.py:101: FutureWarning: Attribute average_intercept_ was deprecated in version 0.23 and will be removed in 0.25.\n",
      "  warnings.warn(msg, category=FutureWarning)\n",
      "/home/solanojacon/.pyenv/versions/3.8.12/envs/4tune/lib/python3.8/site-packages/xgboost/sklearn.py:1224: UserWarning: The use of label encoder in XGBClassifier is deprecated and will be removed in a future release. To remove this warning, do the following: 1) Pass option use_label_encoder=False when constructing XGBClassifier object; and 2) Encode your labels (y) as integers starting with 0, i.e. 0, 1, 2, ..., [num_class - 1].\n",
      "  warnings.warn(label_encoder_deprecation_msg, UserWarning)\n",
      "/home/solanojacon/.pyenv/versions/3.8.12/envs/4tune/lib/python3.8/site-packages/sklearn/model_selection/_validation.py:548: FitFailedWarning: Estimator fit failed. The score on this train-test partition for these parameters will be set to nan. Details: \n",
      "Traceback (most recent call last):\n",
      "  File \"/home/solanojacon/.pyenv/versions/3.8.12/envs/4tune/lib/python3.8/site-packages/sklearn/model_selection/_validation.py\", line 531, in _fit_and_score\n",
      "    estimator.fit(X_train, y_train, **fit_params)\n",
      "  File \"/home/solanojacon/.pyenv/versions/3.8.12/envs/4tune/lib/python3.8/site-packages/sklearn/linear_model/_logistic.py\", line 1304, in fit\n",
      "    solver = _check_solver(self.solver, self.penalty, self.dual)\n",
      "  File \"/home/solanojacon/.pyenv/versions/3.8.12/envs/4tune/lib/python3.8/site-packages/sklearn/linear_model/_logistic.py\", line 453, in _check_solver\n",
      "    raise ValueError(\n",
      "ValueError: penalty='none' is not supported for the liblinear solver\n",
      "\n",
      "  warnings.warn(\"Estimator fit failed. The score on this train-test\"\n",
      "/home/solanojacon/.pyenv/versions/3.8.12/envs/4tune/lib/python3.8/site-packages/sklearn/linear_model/_logistic.py:1320: UserWarning: Setting penalty='none' will ignore the C and l1_ratio parameters\n",
      "  warnings.warn(\n",
      "/home/solanojacon/.pyenv/versions/3.8.12/envs/4tune/lib/python3.8/site-packages/sklearn/linear_model/_sag.py:329: ConvergenceWarning: The max_iter was reached which means the coef_ did not converge\n",
      "  warnings.warn(\"The max_iter was reached which means \"\n",
      "/home/solanojacon/.pyenv/versions/3.8.12/envs/4tune/lib/python3.8/site-packages/sklearn/linear_model/_logistic.py:1320: UserWarning: Setting penalty='none' will ignore the C and l1_ratio parameters\n",
      "  warnings.warn(\n",
      "/home/solanojacon/.pyenv/versions/3.8.12/envs/4tune/lib/python3.8/site-packages/sklearn/linear_model/_sag.py:329: ConvergenceWarning: The max_iter was reached which means the coef_ did not converge\n",
      "  warnings.warn(\"The max_iter was reached which means \"\n",
      "/home/solanojacon/.pyenv/versions/3.8.12/envs/4tune/lib/python3.8/site-packages/sklearn/linear_model/_sag.py:329: ConvergenceWarning: The max_iter was reached which means the coef_ did not converge\n",
      "  warnings.warn(\"The max_iter was reached which means \"\n",
      "/home/solanojacon/.pyenv/versions/3.8.12/envs/4tune/lib/python3.8/site-packages/sklearn/linear_model/_sag.py:329: ConvergenceWarning: The max_iter was reached which means the coef_ did not converge\n",
      "  warnings.warn(\"The max_iter was reached which means \"\n",
      "/home/solanojacon/.pyenv/versions/3.8.12/envs/4tune/lib/python3.8/site-packages/sklearn/linear_model/_logistic.py:1320: UserWarning: Setting penalty='none' will ignore the C and l1_ratio parameters\n",
      "  warnings.warn(\n",
      "/home/solanojacon/.pyenv/versions/3.8.12/envs/4tune/lib/python3.8/site-packages/sklearn/linear_model/_logistic.py:1320: UserWarning: Setting penalty='none' will ignore the C and l1_ratio parameters\n",
      "  warnings.warn(\n",
      "/home/solanojacon/.pyenv/versions/3.8.12/envs/4tune/lib/python3.8/site-packages/sklearn/linear_model/_logistic.py:762: ConvergenceWarning: lbfgs failed to converge (status=1):\n",
      "STOP: TOTAL NO. of ITERATIONS REACHED LIMIT.\n",
      "\n",
      "Increase the number of iterations (max_iter) or scale the data as shown in:\n",
      "    https://scikit-learn.org/stable/modules/preprocessing.html\n",
      "Please also refer to the documentation for alternative solver options:\n",
      "    https://scikit-learn.org/stable/modules/linear_model.html#logistic-regression\n",
      "  n_iter_i = _check_optimize_result(\n",
      "/home/solanojacon/.pyenv/versions/3.8.12/envs/4tune/lib/python3.8/site-packages/sklearn/linear_model/_logistic.py:1320: UserWarning: Setting penalty='none' will ignore the C and l1_ratio parameters\n",
      "  warnings.warn(\n",
      "/home/solanojacon/.pyenv/versions/3.8.12/envs/4tune/lib/python3.8/site-packages/sklearn/linear_model/_sag.py:329: ConvergenceWarning: The max_iter was reached which means the coef_ did not converge\n",
      "  warnings.warn(\"The max_iter was reached which means \"\n",
      "/home/solanojacon/.pyenv/versions/3.8.12/envs/4tune/lib/python3.8/site-packages/sklearn/model_selection/_validation.py:548: FitFailedWarning: Estimator fit failed. The score on this train-test partition for these parameters will be set to nan. Details: \n",
      "Traceback (most recent call last):\n",
      "  File \"/home/solanojacon/.pyenv/versions/3.8.12/envs/4tune/lib/python3.8/site-packages/sklearn/model_selection/_validation.py\", line 531, in _fit_and_score\n",
      "    estimator.fit(X_train, y_train, **fit_params)\n",
      "  File \"/home/solanojacon/.pyenv/versions/3.8.12/envs/4tune/lib/python3.8/site-packages/sklearn/linear_model/_logistic.py\", line 1304, in fit\n",
      "    solver = _check_solver(self.solver, self.penalty, self.dual)\n",
      "  File \"/home/solanojacon/.pyenv/versions/3.8.12/envs/4tune/lib/python3.8/site-packages/sklearn/linear_model/_logistic.py\", line 442, in _check_solver\n",
      "    raise ValueError(\"Solver %s supports only 'l2' or 'none' penalties, \"\n",
      "ValueError: Solver newton-cg supports only 'l2' or 'none' penalties, got l1 penalty.\n",
      "\n",
      "  warnings.warn(\"Estimator fit failed. The score on this train-test\"\n"
     ]
    },
    {
     "name": "stderr",
     "output_type": "stream",
     "text": [
      "/home/solanojacon/.pyenv/versions/3.8.12/envs/4tune/lib/python3.8/site-packages/sklearn/linear_model/_sag.py:329: ConvergenceWarning: The max_iter was reached which means the coef_ did not converge\n",
      "  warnings.warn(\"The max_iter was reached which means \"\n",
      "/home/solanojacon/.pyenv/versions/3.8.12/envs/4tune/lib/python3.8/site-packages/sklearn/linear_model/_logistic.py:1320: UserWarning: Setting penalty='none' will ignore the C and l1_ratio parameters\n",
      "  warnings.warn(\n",
      "/home/solanojacon/.pyenv/versions/3.8.12/envs/4tune/lib/python3.8/site-packages/sklearn/linear_model/_sag.py:329: ConvergenceWarning: The max_iter was reached which means the coef_ did not converge\n",
      "  warnings.warn(\"The max_iter was reached which means \"\n",
      "/home/solanojacon/.pyenv/versions/3.8.12/envs/4tune/lib/python3.8/site-packages/sklearn/linear_model/_sag.py:329: ConvergenceWarning: The max_iter was reached which means the coef_ did not converge\n",
      "  warnings.warn(\"The max_iter was reached which means \"\n",
      "/home/solanojacon/.pyenv/versions/3.8.12/envs/4tune/lib/python3.8/site-packages/sklearn/linear_model/_sag.py:329: ConvergenceWarning: The max_iter was reached which means the coef_ did not converge\n",
      "  warnings.warn(\"The max_iter was reached which means \"\n",
      "/home/solanojacon/.pyenv/versions/3.8.12/envs/4tune/lib/python3.8/site-packages/sklearn/linear_model/_logistic.py:762: ConvergenceWarning: lbfgs failed to converge (status=1):\n",
      "STOP: TOTAL NO. of ITERATIONS REACHED LIMIT.\n",
      "\n",
      "Increase the number of iterations (max_iter) or scale the data as shown in:\n",
      "    https://scikit-learn.org/stable/modules/preprocessing.html\n",
      "Please also refer to the documentation for alternative solver options:\n",
      "    https://scikit-learn.org/stable/modules/linear_model.html#logistic-regression\n",
      "  n_iter_i = _check_optimize_result(\n",
      "/home/solanojacon/.pyenv/versions/3.8.12/envs/4tune/lib/python3.8/site-packages/sklearn/linear_model/_sag.py:329: ConvergenceWarning: The max_iter was reached which means the coef_ did not converge\n",
      "  warnings.warn(\"The max_iter was reached which means \"\n",
      "/home/solanojacon/.pyenv/versions/3.8.12/envs/4tune/lib/python3.8/site-packages/sklearn/linear_model/_sag.py:329: ConvergenceWarning: The max_iter was reached which means the coef_ did not converge\n",
      "  warnings.warn(\"The max_iter was reached which means \"\n",
      "/home/solanojacon/.pyenv/versions/3.8.12/envs/4tune/lib/python3.8/site-packages/sklearn/linear_model/_logistic.py:762: ConvergenceWarning: lbfgs failed to converge (status=1):\n",
      "STOP: TOTAL NO. of ITERATIONS REACHED LIMIT.\n",
      "\n",
      "Increase the number of iterations (max_iter) or scale the data as shown in:\n",
      "    https://scikit-learn.org/stable/modules/preprocessing.html\n",
      "Please also refer to the documentation for alternative solver options:\n",
      "    https://scikit-learn.org/stable/modules/linear_model.html#logistic-regression\n",
      "  n_iter_i = _check_optimize_result(\n",
      "/home/solanojacon/.pyenv/versions/3.8.12/envs/4tune/lib/python3.8/site-packages/sklearn/linear_model/_logistic.py:762: ConvergenceWarning: lbfgs failed to converge (status=1):\n",
      "STOP: TOTAL NO. of ITERATIONS REACHED LIMIT.\n",
      "\n",
      "Increase the number of iterations (max_iter) or scale the data as shown in:\n",
      "    https://scikit-learn.org/stable/modules/preprocessing.html\n",
      "Please also refer to the documentation for alternative solver options:\n",
      "    https://scikit-learn.org/stable/modules/linear_model.html#logistic-regression\n",
      "  n_iter_i = _check_optimize_result(\n",
      "/home/solanojacon/.pyenv/versions/3.8.12/envs/4tune/lib/python3.8/site-packages/sklearn/linear_model/_sag.py:329: ConvergenceWarning: The max_iter was reached which means the coef_ did not converge\n",
      "  warnings.warn(\"The max_iter was reached which means \"\n",
      "/home/solanojacon/.pyenv/versions/3.8.12/envs/4tune/lib/python3.8/site-packages/sklearn/linear_model/_sag.py:329: ConvergenceWarning: The max_iter was reached which means the coef_ did not converge\n",
      "  warnings.warn(\"The max_iter was reached which means \"\n",
      "/home/solanojacon/.pyenv/versions/3.8.12/envs/4tune/lib/python3.8/site-packages/sklearn/linear_model/_logistic.py:1320: UserWarning: Setting penalty='none' will ignore the C and l1_ratio parameters\n",
      "  warnings.warn(\n",
      "/home/solanojacon/.pyenv/versions/3.8.12/envs/4tune/lib/python3.8/site-packages/sklearn/linear_model/_sag.py:329: ConvergenceWarning: The max_iter was reached which means the coef_ did not converge\n",
      "  warnings.warn(\"The max_iter was reached which means \"\n",
      "/home/solanojacon/.pyenv/versions/3.8.12/envs/4tune/lib/python3.8/site-packages/sklearn/linear_model/_logistic.py:762: ConvergenceWarning: lbfgs failed to converge (status=1):\n",
      "STOP: TOTAL NO. of ITERATIONS REACHED LIMIT.\n",
      "\n",
      "Increase the number of iterations (max_iter) or scale the data as shown in:\n",
      "    https://scikit-learn.org/stable/modules/preprocessing.html\n",
      "Please also refer to the documentation for alternative solver options:\n",
      "    https://scikit-learn.org/stable/modules/linear_model.html#logistic-regression\n",
      "  n_iter_i = _check_optimize_result(\n",
      "/home/solanojacon/.pyenv/versions/3.8.12/envs/4tune/lib/python3.8/site-packages/sklearn/linear_model/_logistic.py:762: ConvergenceWarning: lbfgs failed to converge (status=1):\n",
      "STOP: TOTAL NO. of ITERATIONS REACHED LIMIT.\n",
      "\n",
      "Increase the number of iterations (max_iter) or scale the data as shown in:\n",
      "    https://scikit-learn.org/stable/modules/preprocessing.html\n",
      "Please also refer to the documentation for alternative solver options:\n",
      "    https://scikit-learn.org/stable/modules/linear_model.html#logistic-regression\n",
      "  n_iter_i = _check_optimize_result(\n",
      "/home/solanojacon/.pyenv/versions/3.8.12/envs/4tune/lib/python3.8/site-packages/sklearn/linear_model/_sag.py:329: ConvergenceWarning: The max_iter was reached which means the coef_ did not converge\n",
      "  warnings.warn(\"The max_iter was reached which means \"\n",
      "/home/solanojacon/.pyenv/versions/3.8.12/envs/4tune/lib/python3.8/site-packages/sklearn/linear_model/_logistic.py:1320: UserWarning: Setting penalty='none' will ignore the C and l1_ratio parameters\n",
      "  warnings.warn(\n",
      "/home/solanojacon/.pyenv/versions/3.8.12/envs/4tune/lib/python3.8/site-packages/sklearn/linear_model/_logistic.py:762: ConvergenceWarning: lbfgs failed to converge (status=1):\n",
      "STOP: TOTAL NO. of ITERATIONS REACHED LIMIT.\n",
      "\n",
      "Increase the number of iterations (max_iter) or scale the data as shown in:\n",
      "    https://scikit-learn.org/stable/modules/preprocessing.html\n",
      "Please also refer to the documentation for alternative solver options:\n",
      "    https://scikit-learn.org/stable/modules/linear_model.html#logistic-regression\n",
      "  n_iter_i = _check_optimize_result(\n",
      "/home/solanojacon/.pyenv/versions/3.8.12/envs/4tune/lib/python3.8/site-packages/sklearn/linear_model/_logistic.py:1320: UserWarning: Setting penalty='none' will ignore the C and l1_ratio parameters\n",
      "  warnings.warn(\n",
      "/home/solanojacon/.pyenv/versions/3.8.12/envs/4tune/lib/python3.8/site-packages/sklearn/linear_model/_sag.py:329: ConvergenceWarning: The max_iter was reached which means the coef_ did not converge\n",
      "  warnings.warn(\"The max_iter was reached which means \"\n",
      "/home/solanojacon/.pyenv/versions/3.8.12/envs/4tune/lib/python3.8/site-packages/sklearn/linear_model/_logistic.py:1320: UserWarning: Setting penalty='none' will ignore the C and l1_ratio parameters\n",
      "  warnings.warn(\n",
      "/home/solanojacon/.pyenv/versions/3.8.12/envs/4tune/lib/python3.8/site-packages/sklearn/linear_model/_sag.py:329: ConvergenceWarning: The max_iter was reached which means the coef_ did not converge\n",
      "  warnings.warn(\"The max_iter was reached which means \"\n",
      "/home/solanojacon/.pyenv/versions/3.8.12/envs/4tune/lib/python3.8/site-packages/sklearn/linear_model/_logistic.py:762: ConvergenceWarning: lbfgs failed to converge (status=1):\n",
      "STOP: TOTAL NO. of ITERATIONS REACHED LIMIT.\n",
      "\n",
      "Increase the number of iterations (max_iter) or scale the data as shown in:\n",
      "    https://scikit-learn.org/stable/modules/preprocessing.html\n",
      "Please also refer to the documentation for alternative solver options:\n",
      "    https://scikit-learn.org/stable/modules/linear_model.html#logistic-regression\n",
      "  n_iter_i = _check_optimize_result(\n",
      "/home/solanojacon/.pyenv/versions/3.8.12/envs/4tune/lib/python3.8/site-packages/sklearn/model_selection/_validation.py:548: FitFailedWarning: Estimator fit failed. The score on this train-test partition for these parameters will be set to nan. Details: \n",
      "Traceback (most recent call last):\n",
      "  File \"/home/solanojacon/.pyenv/versions/3.8.12/envs/4tune/lib/python3.8/site-packages/sklearn/model_selection/_validation.py\", line 531, in _fit_and_score\n",
      "    estimator.fit(X_train, y_train, **fit_params)\n",
      "  File \"/home/solanojacon/.pyenv/versions/3.8.12/envs/4tune/lib/python3.8/site-packages/sklearn/linear_model/_logistic.py\", line 1304, in fit\n",
      "    solver = _check_solver(self.solver, self.penalty, self.dual)\n",
      "  File \"/home/solanojacon/.pyenv/versions/3.8.12/envs/4tune/lib/python3.8/site-packages/sklearn/linear_model/_logistic.py\", line 453, in _check_solver\n",
      "    raise ValueError(\n",
      "ValueError: penalty='none' is not supported for the liblinear solver\n",
      "\n",
      "  warnings.warn(\"Estimator fit failed. The score on this train-test\"\n",
      "/home/solanojacon/.pyenv/versions/3.8.12/envs/4tune/lib/python3.8/site-packages/sklearn/linear_model/_logistic.py:1320: UserWarning: Setting penalty='none' will ignore the C and l1_ratio parameters\n",
      "  warnings.warn(\n",
      "/home/solanojacon/.pyenv/versions/3.8.12/envs/4tune/lib/python3.8/site-packages/sklearn/linear_model/_sag.py:329: ConvergenceWarning: The max_iter was reached which means the coef_ did not converge\n",
      "  warnings.warn(\"The max_iter was reached which means \"\n",
      "/home/solanojacon/.pyenv/versions/3.8.12/envs/4tune/lib/python3.8/site-packages/sklearn/linear_model/_logistic.py:1320: UserWarning: Setting penalty='none' will ignore the C and l1_ratio parameters\n",
      "  warnings.warn(\n",
      "/home/solanojacon/.pyenv/versions/3.8.12/envs/4tune/lib/python3.8/site-packages/sklearn/linear_model/_sag.py:329: ConvergenceWarning: The max_iter was reached which means the coef_ did not converge\n",
      "  warnings.warn(\"The max_iter was reached which means \"\n",
      "/home/solanojacon/.pyenv/versions/3.8.12/envs/4tune/lib/python3.8/site-packages/sklearn/linear_model/_logistic.py:762: ConvergenceWarning: lbfgs failed to converge (status=1):\n",
      "STOP: TOTAL NO. of ITERATIONS REACHED LIMIT.\n",
      "\n",
      "Increase the number of iterations (max_iter) or scale the data as shown in:\n",
      "    https://scikit-learn.org/stable/modules/preprocessing.html\n",
      "Please also refer to the documentation for alternative solver options:\n",
      "    https://scikit-learn.org/stable/modules/linear_model.html#logistic-regression\n",
      "  n_iter_i = _check_optimize_result(\n",
      "/home/solanojacon/.pyenv/versions/3.8.12/envs/4tune/lib/python3.8/site-packages/sklearn/linear_model/_sag.py:329: ConvergenceWarning: The max_iter was reached which means the coef_ did not converge\n",
      "  warnings.warn(\"The max_iter was reached which means \"\n",
      "/home/solanojacon/.pyenv/versions/3.8.12/envs/4tune/lib/python3.8/site-packages/sklearn/linear_model/_logistic.py:1320: UserWarning: Setting penalty='none' will ignore the C and l1_ratio parameters\n",
      "  warnings.warn(\n",
      "/home/solanojacon/.pyenv/versions/3.8.12/envs/4tune/lib/python3.8/site-packages/sklearn/linear_model/_logistic.py:762: ConvergenceWarning: lbfgs failed to converge (status=1):\n",
      "STOP: TOTAL NO. of ITERATIONS REACHED LIMIT.\n",
      "\n",
      "Increase the number of iterations (max_iter) or scale the data as shown in:\n",
      "    https://scikit-learn.org/stable/modules/preprocessing.html\n",
      "Please also refer to the documentation for alternative solver options:\n",
      "    https://scikit-learn.org/stable/modules/linear_model.html#logistic-regression\n",
      "  n_iter_i = _check_optimize_result(\n",
      "/home/solanojacon/.pyenv/versions/3.8.12/envs/4tune/lib/python3.8/site-packages/sklearn/linear_model/_logistic.py:1320: UserWarning: Setting penalty='none' will ignore the C and l1_ratio parameters\n",
      "  warnings.warn(\n",
      "/home/solanojacon/.pyenv/versions/3.8.12/envs/4tune/lib/python3.8/site-packages/sklearn/linear_model/_sag.py:329: ConvergenceWarning: The max_iter was reached which means the coef_ did not converge\n",
      "  warnings.warn(\"The max_iter was reached which means \"\n",
      "/home/solanojacon/.pyenv/versions/3.8.12/envs/4tune/lib/python3.8/site-packages/sklearn/model_selection/_validation.py:548: FitFailedWarning: Estimator fit failed. The score on this train-test partition for these parameters will be set to nan. Details: \n",
      "Traceback (most recent call last):\n",
      "  File \"/home/solanojacon/.pyenv/versions/3.8.12/envs/4tune/lib/python3.8/site-packages/sklearn/model_selection/_validation.py\", line 531, in _fit_and_score\n",
      "    estimator.fit(X_train, y_train, **fit_params)\n",
      "  File \"/home/solanojacon/.pyenv/versions/3.8.12/envs/4tune/lib/python3.8/site-packages/sklearn/linear_model/_logistic.py\", line 1304, in fit\n",
      "    solver = _check_solver(self.solver, self.penalty, self.dual)\n",
      "  File \"/home/solanojacon/.pyenv/versions/3.8.12/envs/4tune/lib/python3.8/site-packages/sklearn/linear_model/_logistic.py\", line 442, in _check_solver\n",
      "    raise ValueError(\"Solver %s supports only 'l2' or 'none' penalties, \"\n",
      "ValueError: Solver lbfgs supports only 'l2' or 'none' penalties, got elasticnet penalty.\n",
      "\n",
      "  warnings.warn(\"Estimator fit failed. The score on this train-test\"\n",
      "/home/solanojacon/.pyenv/versions/3.8.12/envs/4tune/lib/python3.8/site-packages/sklearn/model_selection/_validation.py:548: FitFailedWarning: Estimator fit failed. The score on this train-test partition for these parameters will be set to nan. Details: \n",
      "Traceback (most recent call last):\n",
      "  File \"/home/solanojacon/.pyenv/versions/3.8.12/envs/4tune/lib/python3.8/site-packages/sklearn/model_selection/_validation.py\", line 531, in _fit_and_score\n",
      "    estimator.fit(X_train, y_train, **fit_params)\n",
      "  File \"/home/solanojacon/.pyenv/versions/3.8.12/envs/4tune/lib/python3.8/site-packages/sklearn/linear_model/_logistic.py\", line 1304, in fit\n",
      "    solver = _check_solver(self.solver, self.penalty, self.dual)\n",
      "  File \"/home/solanojacon/.pyenv/versions/3.8.12/envs/4tune/lib/python3.8/site-packages/sklearn/linear_model/_logistic.py\", line 449, in _check_solver\n",
      "    raise ValueError(\"Only 'saga' solver supports elasticnet penalty,\"\n",
      "ValueError: Only 'saga' solver supports elasticnet penalty, got solver=liblinear.\n",
      "\n",
      "  warnings.warn(\"Estimator fit failed. The score on this train-test\"\n",
      "/home/solanojacon/.pyenv/versions/3.8.12/envs/4tune/lib/python3.8/site-packages/sklearn/model_selection/_validation.py:548: FitFailedWarning: Estimator fit failed. The score on this train-test partition for these parameters will be set to nan. Details: \n",
      "Traceback (most recent call last):\n",
      "  File \"/home/solanojacon/.pyenv/versions/3.8.12/envs/4tune/lib/python3.8/site-packages/sklearn/model_selection/_validation.py\", line 531, in _fit_and_score\n",
      "    estimator.fit(X_train, y_train, **fit_params)\n",
      "  File \"/home/solanojacon/.pyenv/versions/3.8.12/envs/4tune/lib/python3.8/site-packages/sklearn/linear_model/_logistic.py\", line 1304, in fit\n",
      "    solver = _check_solver(self.solver, self.penalty, self.dual)\n",
      "  File \"/home/solanojacon/.pyenv/versions/3.8.12/envs/4tune/lib/python3.8/site-packages/sklearn/linear_model/_logistic.py\", line 442, in _check_solver\n",
      "    raise ValueError(\"Solver %s supports only 'l2' or 'none' penalties, \"\n",
      "ValueError: Solver sag supports only 'l2' or 'none' penalties, got elasticnet penalty.\n",
      "\n",
      "  warnings.warn(\"Estimator fit failed. The score on this train-test\"\n"
     ]
    },
    {
     "name": "stderr",
     "output_type": "stream",
     "text": [
      "[Parallel(n_jobs=-1)]: Done 500 out of 500 | elapsed:  1.4min finished\n"
     ]
    },
    {
     "name": "stdout",
     "output_type": "stream",
     "text": [
      "CPU times: user 3.57 s, sys: 1.16 s, total: 4.73 s\n",
      "Wall time: 1min 25s\n"
     ]
    },
    {
     "data": {
      "text/plain": [
       "GridSearchCV(cv=5, error_score=nan,\n",
       "             estimator=LogisticRegression(C=1.0, class_weight=None, dual=False,\n",
       "                                          fit_intercept=True,\n",
       "                                          intercept_scaling=1, l1_ratio=None,\n",
       "                                          max_iter=100, multi_class='auto',\n",
       "                                          n_jobs=None, penalty='l2',\n",
       "                                          random_state=None, solver='lbfgs',\n",
       "                                          tol=0.0001, verbose=0,\n",
       "                                          warm_start=False),\n",
       "             iid='deprecated', n_jobs=-1,\n",
       "             param_grid={'C': [100, 10, 1.0, 0.1, 0.01],\n",
       "                         'penalty': ['none', 'l1', 'l2', 'elasticnet'],\n",
       "                         'random_state': [42],\n",
       "                         'solver': ['newton-cg', 'lbfgs', 'liblinear', 'sag',\n",
       "                                    'saga']},\n",
       "             pre_dispatch='2*n_jobs', refit=True, return_train_score=False,\n",
       "             scoring='f1', verbose=1)"
      ]
     },
     "execution_count": 110,
     "metadata": {},
     "output_type": "execute_result"
    }
   ],
   "source": [
    "%%time\n",
    "\n",
    "param_grid = {\n",
    "    'penalty': ['none', 'l1', 'l2', 'elasticnet'],\n",
    "    'C': [100, 10, 1.0, 0.1, 0.01],\n",
    "    'solver': ['newton-cg', 'lbfgs', 'liblinear', 'sag', 'saga'],\n",
    "    'random_state': [42]\n",
    "}\n",
    "\n",
    "model = LogisticRegression()\n",
    "grid_search = GridSearchCV(estimator=model, param_grid=param_grid, scoring='f1', cv=5, n_jobs=-1, verbose=1)\n",
    "grid_search.fit(X, y)"
   ]
  },
  {
   "cell_type": "code",
   "execution_count": 111,
   "metadata": {
    "id": "HaG07XrBpMyQ"
   },
   "outputs": [
    {
     "data": {
      "text/plain": [
       "{'C': 100, 'penalty': 'none', 'random_state': 42, 'solver': 'lbfgs'}"
      ]
     },
     "execution_count": 111,
     "metadata": {},
     "output_type": "execute_result"
    }
   ],
   "source": [
    "grid_search.best_params_"
   ]
  },
  {
   "cell_type": "code",
   "execution_count": 112,
   "metadata": {
    "colab": {
     "base_uri": "https://localhost:8080/"
    },
    "executionInfo": {
     "elapsed": 9734,
     "status": "ok",
     "timestamp": 1661286198592,
     "user": {
      "displayName": "Solano Jacon",
      "userId": "03193064938437592202"
     },
     "user_tz": 180
    },
    "id": "l6HKi_xFpMyQ",
    "outputId": "1a66025a-6d8a-4336-89e1-6dfd9a29d600"
   },
   "outputs": [
    {
     "name": "stdout",
     "output_type": "stream",
     "text": [
      "Accuracy = 0.64\n",
      "Precision = 0.52\n",
      "Recall = 0.26\n",
      "F1 score = 0.35\n",
      "CPU times: user 7.01 s, sys: 6.94 s, total: 14 s\n",
      "Wall time: 1.16 s\n"
     ]
    }
   ],
   "source": [
    "%%time\n",
    "\n",
    "# model = grid_search.best_estimator_\n",
    "model = LogisticRegression(penalty='none', C=100, solver='lbfgs', random_state=42)\n",
    "cv_results = cross_validate(model, X, y, cv=5, scoring=['accuracy', 'precision', 'recall', 'f1'])\n",
    "\n",
    "print('Accuracy =', round(cv_results['test_accuracy'].mean(), 2))\n",
    "print('Precision =', round(cv_results['test_precision'].mean(), 2))\n",
    "print('Recall =', round(cv_results['test_recall'].mean(), 2))\n",
    "print('F1 score =', round(cv_results['test_f1'].mean(), 2))"
   ]
  },
  {
   "cell_type": "markdown",
   "metadata": {},
   "source": [
    "## Separação dos dados em treino e teste, e treinamento do modelo / *Separation of data into training and testing, and model training*"
   ]
  },
  {
   "cell_type": "markdown",
   "metadata": {
    "id": "cEqXTNrWpMyO"
   },
   "source": [
    "### Separação dos dados em dados para treino e dados para teste / *Separation of data into training data and test data*"
   ]
  },
  {
   "cell_type": "code",
   "execution_count": 113,
   "metadata": {
    "id": "G7gCpzNKpMyO",
    "scrolled": false
   },
   "outputs": [],
   "source": [
    "X = data.drop(columns=['pedido'])\n",
    "y = data['pedido']\n",
    "\n",
    "X_train, X_test, y_train, y_test = train_test_split(X, y, test_size=0.3, random_state=42)"
   ]
  },
  {
   "cell_type": "markdown",
   "metadata": {},
   "source": [
    "### Treinamento do modelo escolhido / *Training of the chosen model*"
   ]
  },
  {
   "cell_type": "code",
   "execution_count": 114,
   "metadata": {
    "colab": {
     "base_uri": "https://localhost:8080/"
    },
    "executionInfo": {
     "elapsed": 8793,
     "status": "ok",
     "timestamp": 1661286188869,
     "user": {
      "displayName": "Solano Jacon",
      "userId": "03193064938437592202"
     },
     "user_tz": 180
    },
    "id": "9-EVA_Z6pMyO",
    "outputId": "b80ea786-c899-4574-86e7-c6e7989c2b38"
   },
   "outputs": [
    {
     "name": "stdout",
     "output_type": "stream",
     "text": [
      "CPU times: user 11.2 s, sys: 311 ms, total: 11.6 s\n",
      "Wall time: 11.6 s\n"
     ]
    },
    {
     "data": {
      "text/plain": [
       "DecisionTreeClassifier(ccp_alpha=0.0, class_weight=None, criterion='entropy',\n",
       "                       max_depth=None, max_features=None, max_leaf_nodes=None,\n",
       "                       min_impurity_decrease=0.0, min_impurity_split=None,\n",
       "                       min_samples_leaf=1, min_samples_split=2,\n",
       "                       min_weight_fraction_leaf=0.0, presort='deprecated',\n",
       "                       random_state=42, splitter='best')"
      ]
     },
     "execution_count": 114,
     "metadata": {},
     "output_type": "execute_result"
    }
   ],
   "source": [
    "%%time\n",
    "\n",
    "model = DecisionTreeClassifier(criterion='entropy', max_depth=None, random_state=42)\n",
    "model.fit(X_train, y_train)"
   ]
  },
  {
   "cell_type": "markdown",
   "metadata": {
    "id": "2ayossHhpMyQ"
   },
   "source": [
    "## Respaldo teórico e prático sobre as escolhas dos algoritmos (podendo ser mais de um) / *Theoretical and practical support on the choices of algorithms (there may be more than one)*"
   ]
  },
  {
   "cell_type": "markdown",
   "metadata": {
    "id": "VGHV6D3npMyQ"
   },
   "source": [
    "### Definição do dado alvo a ser predito pelo modelo / *Definition of the target data to be predicted by the model*"
   ]
  },
  {
   "cell_type": "markdown",
   "metadata": {
    "id": "9dU3ENCJpMyQ"
   },
   "source": [
    "Lead se tornará (ou não se tornará) comprador. / *Lead will become (or not become) a buyer.*"
   ]
  },
  {
   "cell_type": "markdown",
   "metadata": {
    "id": "x5uhgDOypMyR"
   },
   "source": [
    "### Escolha da métrica de performance"
   ]
  },
  {
   "cell_type": "markdown",
   "metadata": {
    "id": "2RXX7OcspMyR"
   },
   "source": [
    "F1-SCORE:\n",
    "- Métrica que representa um balanço entre as métricas Precisão e Recall.\n",
    "- A Precisão representa a quantidade de acertos do modelo em relação à quantidade total de predições.\n",
    "- O Recall representa a quantidade de acertos do modelo em relação à quantidade real de elementos daquela classe.\n",
    "- A escolha dessa métrica visa que o modelo identifique a maior quantidade possível de leads que se tornarão compradores, com a menor quantidade possível de alarmes falsos (leads que não se tornarão compradores identificados pelo modelo como leads que se tornarão compradores)."
   ]
  },
  {
   "cell_type": "markdown",
   "metadata": {
    "id": "ZN82x5t29XAf"
   },
   "source": [
    "*F1-SCORE:*\n",
    "- *Metric that represents a balance between the Precision and Recall metrics.*\n",
    "- *Precision represents the number of hits of the model in relation to the total number of predictions.*\n",
    "- *Recall represents the number of hits in the model in relation to the actual number of elements of that class.*\n",
    "- *The choice of this metric aims for the model to identify the largest possible number of leads that will become buyers, with the least possible amount of false alarms (leads that will not become buyers identified by the model as leads that will become buyers).*"
   ]
  },
  {
   "cell_type": "markdown",
   "metadata": {
    "id": "4_ur3UtVpMyR"
   },
   "source": [
    "### Escolha do modelo / *model choice*"
   ]
  },
  {
   "cell_type": "markdown",
   "metadata": {
    "id": "q_dD8m8DpMyR"
   },
   "source": [
    "Tipos de modelo avaliados / *Types of model evaluated*:\n",
    "- Logistic Regression\n",
    "- K Neighbors Classifier\n",
    "- SVC\n",
    "- Decision Tree Classifier\n",
    "- Random Forest Classifier\n",
    "- AdaBoost Classifier\n",
    "- Gradient Boosting Classifier\n",
    "- XGBoost Classifier"
   ]
  },
  {
   "cell_type": "markdown",
   "metadata": {
    "id": "3YahtRompMyR"
   },
   "source": [
    "Tipo de modelo escolhido por apresentar a melhor performance / *Type of model chosen for presenting the best performance*:\n",
    "- Decision Tree Classifier"
   ]
  },
  {
   "cell_type": "markdown",
   "metadata": {
    "id": "GW2XPKnmpMyR"
   },
   "source": [
    "### Técnicas aplicadas para melhoria da performance do modelo / *Techniques applied to improve the performance of the model*:"
   ]
  },
  {
   "cell_type": "markdown",
   "metadata": {
    "id": "thxszGHvpMyS"
   },
   "source": [
    "- Scaling das features.\n",
    "- Balanceamento de classes do dado alvo a ser predito (avaliada mas não aplicada pois não melhorou a performance).\n",
    "- Otimização de modelo baseado em ajuste de hiperparâmetros.\n",
    "\n",
    "\n",
    "- *Features scaling.*\n",
    "- *Class balancing of the target data to be predicted (evaluated but not applied as it did not improve performance).*\n",
    "- *Model optimization based on hyperparameter tuning.*"
   ]
  },
  {
   "cell_type": "markdown",
   "metadata": {
    "id": "hhDemQA2pMyS"
   },
   "source": [
    "## Como e porquê foram escolhidas as features analisadas / *How and why the analyzed features were chosen*"
   ]
  },
  {
   "cell_type": "markdown",
   "metadata": {
    "id": "Fi2RsckvpMyS"
   },
   "source": [
    "- Temos 3 tabelas de dados, forms, orders e order_items, porém apenas os dados da tabela forms estarão disponíveis para o modelo fazer a predição dos leads que se tornarão compradores, portanto as features precisar sair dessa tabela, e não das tabelas orders e order_items.\n",
    "- Como não foi disponibilizada nenhuma documentação referente à essa tabela forms, seu conteúdo foi conhecido através da análise de seus dados.\n",
    "- Foram selecionados dados dessa tabela forms que poderiam contribuir para a predição do modelo, e as features foram criadas a partir desses dados.\n",
    "\n",
    "\n",
    "- *We have 3 data tables, forms, orders and order_items, but only the data from the forms table will be available for the model to predict the leads that will become buyers, so the features need to come out of this table, and not from the orders and order_items tables.*\n",
    "- *As no documentation regarding this forms table was made available, its content was known through the analysis of its data.*\n",
    "- *Data from this forms table were selected that could contribute to the prediction of the model, and the features were created from these data.*"
   ]
  },
  {
   "cell_type": "markdown",
   "metadata": {
    "id": "rnDanFenpMyS"
   },
   "source": [
    "## Salvar o arquivo de treinamento, fazer sua leitura e gerar o score / *Save the training file, read it and generate the score*"
   ]
  },
  {
   "cell_type": "code",
   "execution_count": 115,
   "metadata": {
    "id": "7HavCan_pMyS"
   },
   "outputs": [],
   "source": [
    "with open('modelo.pkl', 'wb') as file:\n",
    "    pickle.dump(model, file)"
   ]
  },
  {
   "cell_type": "code",
   "execution_count": 116,
   "metadata": {
    "id": "1IkH5lw_pMyS"
   },
   "outputs": [],
   "source": [
    "model = pickle.load(open('modelo.pkl', 'rb'))"
   ]
  },
  {
   "cell_type": "code",
   "execution_count": 117,
   "metadata": {
    "colab": {
     "base_uri": "https://localhost:8080/"
    },
    "executionInfo": {
     "elapsed": 386,
     "status": "ok",
     "timestamp": 1661286199420,
     "user": {
      "displayName": "Solano Jacon",
      "userId": "03193064938437592202"
     },
     "user_tz": 180
    },
    "id": "zjKQgOOmpMyS",
    "outputId": "120428ea-116f-42ec-bfe3-e3e5e99405e0"
   },
   "outputs": [
    {
     "name": "stdout",
     "output_type": "stream",
     "text": [
      "              precision    recall  f1-score   support\n",
      "\n",
      "           0       0.82      0.97      0.89     94745\n",
      "           1       0.95      0.75      0.84     80897\n",
      "\n",
      "    accuracy                           0.87    175642\n",
      "   macro avg       0.89      0.86      0.86    175642\n",
      "weighted avg       0.88      0.87      0.87    175642\n",
      "\n"
     ]
    }
   ],
   "source": [
    "y_pred_test = model.predict(X_test)\n",
    "y_pred_proba_test = model.predict_proba(X_test)\n",
    "\n",
    "print(classification_report(y_pred_test, y_test))"
   ]
  },
  {
   "cell_type": "code",
   "execution_count": 118,
   "metadata": {
    "colab": {
     "base_uri": "https://localhost:8080/",
     "height": 637
    },
    "executionInfo": {
     "elapsed": 781,
     "status": "ok",
     "timestamp": 1661286200197,
     "user": {
      "displayName": "Solano Jacon",
      "userId": "03193064938437592202"
     },
     "user_tz": 180
    },
    "id": "6ALzfycqpMyT",
    "outputId": "e54ef807-e317-4674-9698-7f800f5d805c"
   },
   "outputs": [
    {
     "name": "stderr",
     "output_type": "stream",
     "text": [
      "findfont: Font family ['sans-serif'] not found. Falling back to DejaVu Sans.\n",
      "findfont: Generic family 'sans-serif' not found because none of the following families were found: Arial, Liberation Sans, Bitstream Vera Sans, sans-serif\n",
      "findfont: Font family ['sans-serif'] not found. Falling back to DejaVu Sans.\n"
     ]
    },
    {
     "name": "stdout",
     "output_type": "stream",
     "text": [
      "[[91879 20185]\n",
      " [ 2866 60712]]\n"
     ]
    },
    {
     "name": "stderr",
     "output_type": "stream",
     "text": [
      "findfont: Generic family 'sans-serif' not found because none of the following families were found: Arial, Liberation Sans, Bitstream Vera Sans, sans-serif\n",
      "findfont: Font family ['sans-serif'] not found. Falling back to DejaVu Sans.\n",
      "findfont: Generic family 'sans-serif' not found because none of the following families were found: Arial, Liberation Sans, Bitstream Vera Sans, sans-serif\n",
      "findfont: Font family ['sans-serif'] not found. Falling back to DejaVu Sans.\n",
      "findfont: Generic family 'sans-serif' not found because none of the following families were found: Arial, Liberation Sans, Bitstream Vera Sans, sans-serif\n"
     ]
    },
    {
     "data": {
      "image/png": "[encoded data removed]",
      "text/plain": [
       "<Figure size 864x576 with 2 Axes>"
      ]
     },
     "metadata": {
      "needs_background": "light"
     },
     "output_type": "display_data"
    }
   ],
   "source": [
    "def plot_confusion_matrix(cm, classes, normalize=False, title='Confusion matrix', cmap=plt.cm.Oranges):\n",
    "\n",
    "    print(cm)\n",
    "\n",
    "    # Plot the confusion matrix\n",
    "    plt.figure(figsize = (12, 8))\n",
    "    plt.imshow(cm, interpolation='nearest', cmap=cmap)\n",
    "    plt.title(title, size = 18)\n",
    "    plt.colorbar(aspect=4)\n",
    "    tick_marks = np.arange(len(classes))\n",
    "    plt.xticks(tick_marks, classes, rotation=45, size = 12)\n",
    "    plt.yticks(tick_marks, classes, size = 12)\n",
    "\n",
    "    fmt = '.2f' if normalize else 'd'\n",
    "    thresh = cm.max() / 2.\n",
    "    \n",
    "    # Labeling the plot\n",
    "    for i, j in itertools.product(range(cm.shape[0]), range(cm.shape[1])):\n",
    "        plt.text(j, i, format(cm[i, j], fmt), fontsize = 14,\n",
    "                 horizontalalignment=\"center\",\n",
    "                 color=\"black\" if cm[i, j] > thresh else \"black\")\n",
    "        \n",
    "    plt.grid(None)\n",
    "    plt.tight_layout()\n",
    "    plt.ylabel('True Label', size = 12)\n",
    "    plt.xlabel('Predicted Label', size = 12)\n",
    "\n",
    "# Confusion matrix\n",
    "cm = confusion_matrix(y_true=y_test, y_pred=y_pred_test)\n",
    "plot_confusion_matrix(cm, classes = ['Lead DID NOT Become Buyer', 'Lead Becomes Buyer'], title = 'Matriz de Confusão / Confusion matrix')"
   ]
  },
  {
   "cell_type": "code",
   "execution_count": 119,
   "metadata": {
    "id": "MfmZiNWzQUmA"
   },
   "outputs": [],
   "source": [
    "precision, recall, threshold = precision_recall_curve(y_test, y_pred_proba_test[:, -1])\n",
    "\n",
    "scores = pd.DataFrame({'threshold':threshold,\n",
    "                       'precision': precision[:-1],\n",
    "                       'recall':recall[:-1]})\n",
    "\n",
    "scores['f1score'] = 2 * ((scores['precision'] * scores['recall']) / (scores['precision'] + scores['recall']))"
   ]
  },
  {
   "cell_type": "code",
   "execution_count": 120,
   "metadata": {
    "colab": {
     "base_uri": "https://localhost:8080/",
     "height": 614
    },
    "executionInfo": {
     "elapsed": 7,
     "status": "ok",
     "timestamp": 1661286200198,
     "user": {
      "displayName": "Solano Jacon",
      "userId": "03193064938437592202"
     },
     "user_tz": 180
    },
    "id": "RZ5WXAV7QUeJ",
    "outputId": "5bf5fcb6-7762-4779-8d00-dc990cbad3c9"
   },
   "outputs": [
    {
     "data": {
      "text/html": [
       "<div>\n",
       "<style scoped>\n",
       "    .dataframe tbody tr th:only-of-type {\n",
       "        vertical-align: middle;\n",
       "    }\n",
       "\n",
       "    .dataframe tbody tr th {\n",
       "        vertical-align: top;\n",
       "    }\n",
       "\n",
       "    .dataframe thead th {\n",
       "        text-align: right;\n",
       "    }\n",
       "</style>\n",
       "<table border=\"1\" class=\"dataframe\">\n",
       "  <thead>\n",
       "    <tr style=\"text-align: right;\">\n",
       "      <th></th>\n",
       "      <th>threshold</th>\n",
       "      <th>precision</th>\n",
       "      <th>recall</th>\n",
       "      <th>f1score</th>\n",
       "    </tr>\n",
       "  </thead>\n",
       "  <tbody>\n",
       "    <tr>\n",
       "      <th>0</th>\n",
       "      <td>0.000000</td>\n",
       "      <td>0.361975</td>\n",
       "      <td>1.000000</td>\n",
       "      <td>0.531544</td>\n",
       "    </tr>\n",
       "    <tr>\n",
       "      <th>1</th>\n",
       "      <td>0.105263</td>\n",
       "      <td>0.750040</td>\n",
       "      <td>0.965869</td>\n",
       "      <td>0.844381</td>\n",
       "    </tr>\n",
       "    <tr>\n",
       "      <th>2</th>\n",
       "      <td>0.153846</td>\n",
       "      <td>0.750189</td>\n",
       "      <td>0.965837</td>\n",
       "      <td>0.844463</td>\n",
       "    </tr>\n",
       "    <tr>\n",
       "      <th>3</th>\n",
       "      <td>0.200000</td>\n",
       "      <td>0.750266</td>\n",
       "      <td>0.965806</td>\n",
       "      <td>0.844500</td>\n",
       "    </tr>\n",
       "    <tr>\n",
       "      <th>4</th>\n",
       "      <td>0.222222</td>\n",
       "      <td>0.750293</td>\n",
       "      <td>0.965759</td>\n",
       "      <td>0.844499</td>\n",
       "    </tr>\n",
       "    <tr>\n",
       "      <th>5</th>\n",
       "      <td>0.250000</td>\n",
       "      <td>0.750306</td>\n",
       "      <td>0.965727</td>\n",
       "      <td>0.844495</td>\n",
       "    </tr>\n",
       "    <tr>\n",
       "      <th>6</th>\n",
       "      <td>0.333333</td>\n",
       "      <td>0.750345</td>\n",
       "      <td>0.965648</td>\n",
       "      <td>0.844490</td>\n",
       "    </tr>\n",
       "    <tr>\n",
       "      <th>7</th>\n",
       "      <td>0.375000</td>\n",
       "      <td>0.750434</td>\n",
       "      <td>0.964500</td>\n",
       "      <td>0.844107</td>\n",
       "    </tr>\n",
       "    <tr>\n",
       "      <th>8</th>\n",
       "      <td>0.400000</td>\n",
       "      <td>0.750450</td>\n",
       "      <td>0.964485</td>\n",
       "      <td>0.844111</td>\n",
       "    </tr>\n",
       "    <tr>\n",
       "      <th>9</th>\n",
       "      <td>0.428571</td>\n",
       "      <td>0.750459</td>\n",
       "      <td>0.964249</td>\n",
       "      <td>0.844026</td>\n",
       "    </tr>\n",
       "    <tr>\n",
       "      <th>10</th>\n",
       "      <td>0.444444</td>\n",
       "      <td>0.750474</td>\n",
       "      <td>0.964186</td>\n",
       "      <td>0.844012</td>\n",
       "    </tr>\n",
       "    <tr>\n",
       "      <th>11</th>\n",
       "      <td>0.500000</td>\n",
       "      <td>0.750481</td>\n",
       "      <td>0.964123</td>\n",
       "      <td>0.843992</td>\n",
       "    </tr>\n",
       "    <tr>\n",
       "      <th>12</th>\n",
       "      <td>0.555556</td>\n",
       "      <td>0.750485</td>\n",
       "      <td>0.954922</td>\n",
       "      <td>0.840450</td>\n",
       "    </tr>\n",
       "    <tr>\n",
       "      <th>13</th>\n",
       "      <td>0.571429</td>\n",
       "      <td>0.750494</td>\n",
       "      <td>0.954874</td>\n",
       "      <td>0.840437</td>\n",
       "    </tr>\n",
       "    <tr>\n",
       "      <th>14</th>\n",
       "      <td>0.600000</td>\n",
       "      <td>0.750550</td>\n",
       "      <td>0.954874</td>\n",
       "      <td>0.840472</td>\n",
       "    </tr>\n",
       "    <tr>\n",
       "      <th>15</th>\n",
       "      <td>0.625000</td>\n",
       "      <td>0.750852</td>\n",
       "      <td>0.953427</td>\n",
       "      <td>0.840100</td>\n",
       "    </tr>\n",
       "    <tr>\n",
       "      <th>16</th>\n",
       "      <td>0.666667</td>\n",
       "      <td>0.750852</td>\n",
       "      <td>0.953380</td>\n",
       "      <td>0.840082</td>\n",
       "    </tr>\n",
       "    <tr>\n",
       "      <th>17</th>\n",
       "      <td>0.714286</td>\n",
       "      <td>0.750749</td>\n",
       "      <td>0.937557</td>\n",
       "      <td>0.833818</td>\n",
       "    </tr>\n",
       "    <tr>\n",
       "      <th>18</th>\n",
       "      <td>0.750000</td>\n",
       "      <td>0.750724</td>\n",
       "      <td>0.937337</td>\n",
       "      <td>0.833716</td>\n",
       "    </tr>\n",
       "    <tr>\n",
       "      <th>19</th>\n",
       "      <td>0.777778</td>\n",
       "      <td>0.751916</td>\n",
       "      <td>0.925886</td>\n",
       "      <td>0.829882</td>\n",
       "    </tr>\n",
       "    <tr>\n",
       "      <th>20</th>\n",
       "      <td>0.800000</td>\n",
       "      <td>0.751945</td>\n",
       "      <td>0.925839</td>\n",
       "      <td>0.829880</td>\n",
       "    </tr>\n",
       "    <tr>\n",
       "      <th>21</th>\n",
       "      <td>0.833333</td>\n",
       "      <td>0.753530</td>\n",
       "      <td>0.925006</td>\n",
       "      <td>0.830509</td>\n",
       "    </tr>\n",
       "    <tr>\n",
       "      <th>22</th>\n",
       "      <td>0.857143</td>\n",
       "      <td>0.753403</td>\n",
       "      <td>0.923747</td>\n",
       "      <td>0.829924</td>\n",
       "    </tr>\n",
       "    <tr>\n",
       "      <th>23</th>\n",
       "      <td>0.875000</td>\n",
       "      <td>0.753299</td>\n",
       "      <td>0.922992</td>\n",
       "      <td>0.829557</td>\n",
       "    </tr>\n",
       "    <tr>\n",
       "      <th>24</th>\n",
       "      <td>0.888889</td>\n",
       "      <td>0.753279</td>\n",
       "      <td>0.922410</td>\n",
       "      <td>0.829309</td>\n",
       "    </tr>\n",
       "    <tr>\n",
       "      <th>25</th>\n",
       "      <td>0.900000</td>\n",
       "      <td>0.753276</td>\n",
       "      <td>0.922347</td>\n",
       "      <td>0.829282</td>\n",
       "    </tr>\n",
       "    <tr>\n",
       "      <th>26</th>\n",
       "      <td>0.909091</td>\n",
       "      <td>0.753292</td>\n",
       "      <td>0.922143</td>\n",
       "      <td>0.829209</td>\n",
       "    </tr>\n",
       "    <tr>\n",
       "      <th>27</th>\n",
       "      <td>0.916667</td>\n",
       "      <td>0.753289</td>\n",
       "      <td>0.922080</td>\n",
       "      <td>0.829182</td>\n",
       "    </tr>\n",
       "    <tr>\n",
       "      <th>28</th>\n",
       "      <td>0.923077</td>\n",
       "      <td>0.753303</td>\n",
       "      <td>0.922001</td>\n",
       "      <td>0.829158</td>\n",
       "    </tr>\n",
       "    <tr>\n",
       "      <th>29</th>\n",
       "      <td>0.928571</td>\n",
       "      <td>0.753271</td>\n",
       "      <td>0.921750</td>\n",
       "      <td>0.829037</td>\n",
       "    </tr>\n",
       "    <tr>\n",
       "      <th>30</th>\n",
       "      <td>0.933333</td>\n",
       "      <td>0.753249</td>\n",
       "      <td>0.921592</td>\n",
       "      <td>0.828960</td>\n",
       "    </tr>\n",
       "    <tr>\n",
       "      <th>31</th>\n",
       "      <td>0.937500</td>\n",
       "      <td>0.753215</td>\n",
       "      <td>0.921372</td>\n",
       "      <td>0.828850</td>\n",
       "    </tr>\n",
       "    <tr>\n",
       "      <th>32</th>\n",
       "      <td>0.944444</td>\n",
       "      <td>0.753208</td>\n",
       "      <td>0.921294</td>\n",
       "      <td>0.828815</td>\n",
       "    </tr>\n",
       "    <tr>\n",
       "      <th>33</th>\n",
       "      <td>0.947368</td>\n",
       "      <td>0.753199</td>\n",
       "      <td>0.921246</td>\n",
       "      <td>0.828790</td>\n",
       "    </tr>\n",
       "    <tr>\n",
       "      <th>34</th>\n",
       "      <td>0.950000</td>\n",
       "      <td>0.753196</td>\n",
       "      <td>0.921136</td>\n",
       "      <td>0.828744</td>\n",
       "    </tr>\n",
       "    <tr>\n",
       "      <th>35</th>\n",
       "      <td>0.954545</td>\n",
       "      <td>0.753180</td>\n",
       "      <td>0.921058</td>\n",
       "      <td>0.828702</td>\n",
       "    </tr>\n",
       "    <tr>\n",
       "      <th>36</th>\n",
       "      <td>0.964286</td>\n",
       "      <td>0.753129</td>\n",
       "      <td>0.920759</td>\n",
       "      <td>0.828551</td>\n",
       "    </tr>\n",
       "    <tr>\n",
       "      <th>37</th>\n",
       "      <td>1.000000</td>\n",
       "      <td>0.753095</td>\n",
       "      <td>0.920539</td>\n",
       "      <td>0.828440</td>\n",
       "    </tr>\n",
       "  </tbody>\n",
       "</table>\n",
       "</div>"
      ],
      "text/plain": [
       "    threshold  precision    recall   f1score\n",
       "0    0.000000   0.361975  1.000000  0.531544\n",
       "1    0.105263   0.750040  0.965869  0.844381\n",
       "2    0.153846   0.750189  0.965837  0.844463\n",
       "3    0.200000   0.750266  0.965806  0.844500\n",
       "4    0.222222   0.750293  0.965759  0.844499\n",
       "5    0.250000   0.750306  0.965727  0.844495\n",
       "6    0.333333   0.750345  0.965648  0.844490\n",
       "7    0.375000   0.750434  0.964500  0.844107\n",
       "8    0.400000   0.750450  0.964485  0.844111\n",
       "9    0.428571   0.750459  0.964249  0.844026\n",
       "10   0.444444   0.750474  0.964186  0.844012\n",
       "11   0.500000   0.750481  0.964123  0.843992\n",
       "12   0.555556   0.750485  0.954922  0.840450\n",
       "13   0.571429   0.750494  0.954874  0.840437\n",
       "14   0.600000   0.750550  0.954874  0.840472\n",
       "15   0.625000   0.750852  0.953427  0.840100\n",
       "16   0.666667   0.750852  0.953380  0.840082\n",
       "17   0.714286   0.750749  0.937557  0.833818\n",
       "18   0.750000   0.750724  0.937337  0.833716\n",
       "19   0.777778   0.751916  0.925886  0.829882\n",
       "20   0.800000   0.751945  0.925839  0.829880\n",
       "21   0.833333   0.753530  0.925006  0.830509\n",
       "22   0.857143   0.753403  0.923747  0.829924\n",
       "23   0.875000   0.753299  0.922992  0.829557\n",
       "24   0.888889   0.753279  0.922410  0.829309\n",
       "25   0.900000   0.753276  0.922347  0.829282\n",
       "26   0.909091   0.753292  0.922143  0.829209\n",
       "27   0.916667   0.753289  0.922080  0.829182\n",
       "28   0.923077   0.753303  0.922001  0.829158\n",
       "29   0.928571   0.753271  0.921750  0.829037\n",
       "30   0.933333   0.753249  0.921592  0.828960\n",
       "31   0.937500   0.753215  0.921372  0.828850\n",
       "32   0.944444   0.753208  0.921294  0.828815\n",
       "33   0.947368   0.753199  0.921246  0.828790\n",
       "34   0.950000   0.753196  0.921136  0.828744\n",
       "35   0.954545   0.753180  0.921058  0.828702\n",
       "36   0.964286   0.753129  0.920759  0.828551\n",
       "37   1.000000   0.753095  0.920539  0.828440"
      ]
     },
     "execution_count": 120,
     "metadata": {},
     "output_type": "execute_result"
    }
   ],
   "source": [
    "scores"
   ]
  },
  {
   "cell_type": "code",
   "execution_count": 121,
   "metadata": {
    "colab": {
     "base_uri": "https://localhost:8080/",
     "height": 295
    },
    "executionInfo": {
     "elapsed": 7,
     "status": "ok",
     "timestamp": 1661286200199,
     "user": {
      "displayName": "Solano Jacon",
      "userId": "03193064938437592202"
     },
     "user_tz": 180
    },
    "id": "l-VCOjf6QUVQ",
    "outputId": "3bddd240-361d-47cf-af96-cd0588cba228"
   },
   "outputs": [
    {
     "name": "stderr",
     "output_type": "stream",
     "text": [
      "findfont: Font family ['sans-serif'] not found. Falling back to DejaVu Sans.\n",
      "findfont: Generic family 'sans-serif' not found because none of the following families were found: Arial, Liberation Sans, Bitstream Vera Sans, sans-serif\n"
     ]
    },
    {
     "data": {
      "image/png": "[encoded data removed]",
      "text/plain": [
       "<Figure size 432x288 with 1 Axes>"
      ]
     },
     "metadata": {
      "needs_background": "light"
     },
     "output_type": "display_data"
    }
   ],
   "source": [
    "plt.plot(scores['recall'], scores['precision'])\n",
    "plt.title('Precision X Recall - Trade-off')\n",
    "plt.ylabel('Precision')\n",
    "plt.xlabel('Recall')\n",
    "plt.show()"
   ]
  },
  {
   "cell_type": "code",
   "execution_count": 122,
   "metadata": {
    "colab": {
     "base_uri": "https://localhost:8080/",
     "height": 312
    },
    "executionInfo": {
     "elapsed": 646,
     "status": "ok",
     "timestamp": 1661286200838,
     "user": {
      "displayName": "Solano Jacon",
      "userId": "03193064938437592202"
     },
     "user_tz": 180
    },
    "id": "eiZQJhHDQsKA",
    "outputId": "52572f89-e36a-401e-e2ce-af77d61c6f00",
    "scrolled": false
   },
   "outputs": [
    {
     "name": "stdout",
     "output_type": "stream",
     "text": [
      "Area under ROC curve: 0.89\n"
     ]
    },
    {
     "data": {
      "image/png": "[encoded data removed]",
      "text/plain": [
       "<Figure size 432x288 with 1 Axes>"
      ]
     },
     "metadata": {
      "needs_background": "light"
     },
     "output_type": "display_data"
    },
    {
     "name": "stderr",
     "output_type": "stream",
     "text": [
      "/home/solanojacon/.pyenv/versions/3.8.12/envs/4tune/lib/python3.8/site-packages/sklearn/model_selection/_validation.py:548: FitFailedWarning: Estimator fit failed. The score on this train-test partition for these parameters will be set to nan. Details: \n",
      "Traceback (most recent call last):\n",
      "  File \"/home/solanojacon/.pyenv/versions/3.8.12/envs/4tune/lib/python3.8/site-packages/sklearn/model_selection/_validation.py\", line 531, in _fit_and_score\n",
      "    estimator.fit(X_train, y_train, **fit_params)\n",
      "  File \"/home/solanojacon/.pyenv/versions/3.8.12/envs/4tune/lib/python3.8/site-packages/sklearn/linear_model/_logistic.py\", line 1304, in fit\n",
      "    solver = _check_solver(self.solver, self.penalty, self.dual)\n",
      "  File \"/home/solanojacon/.pyenv/versions/3.8.12/envs/4tune/lib/python3.8/site-packages/sklearn/linear_model/_logistic.py\", line 442, in _check_solver\n",
      "    raise ValueError(\"Solver %s supports only 'l2' or 'none' penalties, \"\n",
      "ValueError: Solver newton-cg supports only 'l2' or 'none' penalties, got elasticnet penalty.\n",
      "\n",
      "  warnings.warn(\"Estimator fit failed. The score on this train-test\"\n",
      "/home/solanojacon/.pyenv/versions/3.8.12/envs/4tune/lib/python3.8/site-packages/sklearn/model_selection/_validation.py:548: FitFailedWarning: Estimator fit failed. The score on this train-test partition for these parameters will be set to nan. Details: \n",
      "Traceback (most recent call last):\n",
      "  File \"/home/solanojacon/.pyenv/versions/3.8.12/envs/4tune/lib/python3.8/site-packages/sklearn/model_selection/_validation.py\", line 531, in _fit_and_score\n",
      "    estimator.fit(X_train, y_train, **fit_params)\n",
      "  File \"/home/solanojacon/.pyenv/versions/3.8.12/envs/4tune/lib/python3.8/site-packages/sklearn/linear_model/_logistic.py\", line 1304, in fit\n",
      "    solver = _check_solver(self.solver, self.penalty, self.dual)\n",
      "  File \"/home/solanojacon/.pyenv/versions/3.8.12/envs/4tune/lib/python3.8/site-packages/sklearn/linear_model/_logistic.py\", line 442, in _check_solver\n",
      "    raise ValueError(\"Solver %s supports only 'l2' or 'none' penalties, \"\n",
      "ValueError: Solver lbfgs supports only 'l2' or 'none' penalties, got elasticnet penalty.\n",
      "\n",
      "  warnings.warn(\"Estimator fit failed. The score on this train-test\"\n",
      "/home/solanojacon/.pyenv/versions/3.8.12/envs/4tune/lib/python3.8/site-packages/sklearn/model_selection/_validation.py:548: FitFailedWarning: Estimator fit failed. The score on this train-test partition for these parameters will be set to nan. Details: \n",
      "Traceback (most recent call last):\n",
      "  File \"/home/solanojacon/.pyenv/versions/3.8.12/envs/4tune/lib/python3.8/site-packages/sklearn/model_selection/_validation.py\", line 531, in _fit_and_score\n",
      "    estimator.fit(X_train, y_train, **fit_params)\n",
      "  File \"/home/solanojacon/.pyenv/versions/3.8.12/envs/4tune/lib/python3.8/site-packages/sklearn/linear_model/_logistic.py\", line 1304, in fit\n",
      "    solver = _check_solver(self.solver, self.penalty, self.dual)\n",
      "  File \"/home/solanojacon/.pyenv/versions/3.8.12/envs/4tune/lib/python3.8/site-packages/sklearn/linear_model/_logistic.py\", line 449, in _check_solver\n",
      "    raise ValueError(\"Only 'saga' solver supports elasticnet penalty,\"\n",
      "ValueError: Only 'saga' solver supports elasticnet penalty, got solver=liblinear.\n",
      "\n",
      "  warnings.warn(\"Estimator fit failed. The score on this train-test\"\n",
      "/home/solanojacon/.pyenv/versions/3.8.12/envs/4tune/lib/python3.8/site-packages/sklearn/model_selection/_validation.py:548: FitFailedWarning: Estimator fit failed. The score on this train-test partition for these parameters will be set to nan. Details: \n",
      "Traceback (most recent call last):\n",
      "  File \"/home/solanojacon/.pyenv/versions/3.8.12/envs/4tune/lib/python3.8/site-packages/sklearn/model_selection/_validation.py\", line 531, in _fit_and_score\n",
      "    estimator.fit(X_train, y_train, **fit_params)\n",
      "  File \"/home/solanojacon/.pyenv/versions/3.8.12/envs/4tune/lib/python3.8/site-packages/sklearn/linear_model/_logistic.py\", line 1304, in fit\n",
      "    solver = _check_solver(self.solver, self.penalty, self.dual)\n",
      "  File \"/home/solanojacon/.pyenv/versions/3.8.12/envs/4tune/lib/python3.8/site-packages/sklearn/linear_model/_logistic.py\", line 442, in _check_solver\n",
      "    raise ValueError(\"Solver %s supports only 'l2' or 'none' penalties, \"\n",
      "ValueError: Solver sag supports only 'l2' or 'none' penalties, got elasticnet penalty.\n",
      "\n",
      "  warnings.warn(\"Estimator fit failed. The score on this train-test\"\n",
      "/home/solanojacon/.pyenv/versions/3.8.12/envs/4tune/lib/python3.8/site-packages/sklearn/model_selection/_validation.py:548: FitFailedWarning: Estimator fit failed. The score on this train-test partition for these parameters will be set to nan. Details: \n",
      "Traceback (most recent call last):\n",
      "  File \"/home/solanojacon/.pyenv/versions/3.8.12/envs/4tune/lib/python3.8/site-packages/sklearn/model_selection/_validation.py\", line 531, in _fit_and_score\n",
      "    estimator.fit(X_train, y_train, **fit_params)\n",
      "  File \"/home/solanojacon/.pyenv/versions/3.8.12/envs/4tune/lib/python3.8/site-packages/sklearn/linear_model/_logistic.py\", line 1312, in fit\n",
      "    raise ValueError(\"l1_ratio must be between 0 and 1;\"\n",
      "ValueError: l1_ratio must be between 0 and 1; got (l1_ratio=None)\n",
      "\n",
      "  warnings.warn(\"Estimator fit failed. The score on this train-test\"\n",
      "/home/solanojacon/.pyenv/versions/3.8.12/envs/4tune/lib/python3.8/site-packages/sklearn/model_selection/_validation.py:548: FitFailedWarning: Estimator fit failed. The score on this train-test partition for these parameters will be set to nan. Details: \n",
      "Traceback (most recent call last):\n",
      "  File \"/home/solanojacon/.pyenv/versions/3.8.12/envs/4tune/lib/python3.8/site-packages/sklearn/model_selection/_validation.py\", line 531, in _fit_and_score\n",
      "    estimator.fit(X_train, y_train, **fit_params)\n",
      "  File \"/home/solanojacon/.pyenv/versions/3.8.12/envs/4tune/lib/python3.8/site-packages/sklearn/linear_model/_logistic.py\", line 1312, in fit\n",
      "    raise ValueError(\"l1_ratio must be between 0 and 1;\"\n",
      "ValueError: l1_ratio must be between 0 and 1; got (l1_ratio=None)\n",
      "\n",
      "  warnings.warn(\"Estimator fit failed. The score on this train-test\"\n",
      "/home/solanojacon/.pyenv/versions/3.8.12/envs/4tune/lib/python3.8/site-packages/sklearn/linear_model/_logistic.py:762: ConvergenceWarning: lbfgs failed to converge (status=1):\n",
      "STOP: TOTAL NO. of ITERATIONS REACHED LIMIT.\n",
      "\n",
      "Increase the number of iterations (max_iter) or scale the data as shown in:\n",
      "    https://scikit-learn.org/stable/modules/preprocessing.html\n",
      "Please also refer to the documentation for alternative solver options:\n",
      "    https://scikit-learn.org/stable/modules/linear_model.html#logistic-regression\n",
      "  n_iter_i = _check_optimize_result(\n",
      "/home/solanojacon/.pyenv/versions/3.8.12/envs/4tune/lib/python3.8/site-packages/sklearn/linear_model/_sag.py:329: ConvergenceWarning: The max_iter was reached which means the coef_ did not converge\n",
      "  warnings.warn(\"The max_iter was reached which means \"\n",
      "/home/solanojacon/.pyenv/versions/3.8.12/envs/4tune/lib/python3.8/site-packages/sklearn/linear_model/_sag.py:329: ConvergenceWarning: The max_iter was reached which means the coef_ did not converge\n",
      "  warnings.warn(\"The max_iter was reached which means \"\n",
      "/home/solanojacon/.pyenv/versions/3.8.12/envs/4tune/lib/python3.8/site-packages/sklearn/linear_model/_sag.py:329: ConvergenceWarning: The max_iter was reached which means the coef_ did not converge\n",
      "  warnings.warn(\"The max_iter was reached which means \"\n",
      "/home/solanojacon/.pyenv/versions/3.8.12/envs/4tune/lib/python3.8/site-packages/sklearn/linear_model/_logistic.py:1320: UserWarning: Setting penalty='none' will ignore the C and l1_ratio parameters\n",
      "  warnings.warn(\n",
      "/home/solanojacon/.pyenv/versions/3.8.12/envs/4tune/lib/python3.8/site-packages/sklearn/linear_model/_sag.py:329: ConvergenceWarning: The max_iter was reached which means the coef_ did not converge\n",
      "  warnings.warn(\"The max_iter was reached which means \"\n",
      "/home/solanojacon/.pyenv/versions/3.8.12/envs/4tune/lib/python3.8/site-packages/sklearn/model_selection/_validation.py:548: FitFailedWarning: Estimator fit failed. The score on this train-test partition for these parameters will be set to nan. Details: \n",
      "Traceback (most recent call last):\n",
      "  File \"/home/solanojacon/.pyenv/versions/3.8.12/envs/4tune/lib/python3.8/site-packages/sklearn/model_selection/_validation.py\", line 531, in _fit_and_score\n",
      "    estimator.fit(X_train, y_train, **fit_params)\n",
      "  File \"/home/solanojacon/.pyenv/versions/3.8.12/envs/4tune/lib/python3.8/site-packages/sklearn/linear_model/_logistic.py\", line 1304, in fit\n",
      "    solver = _check_solver(self.solver, self.penalty, self.dual)\n",
      "  File \"/home/solanojacon/.pyenv/versions/3.8.12/envs/4tune/lib/python3.8/site-packages/sklearn/linear_model/_logistic.py\", line 442, in _check_solver\n",
      "    raise ValueError(\"Solver %s supports only 'l2' or 'none' penalties, \"\n",
      "ValueError: Solver newton-cg supports only 'l2' or 'none' penalties, got l1 penalty.\n",
      "\n",
      "  warnings.warn(\"Estimator fit failed. The score on this train-test\"\n",
      "/home/solanojacon/.pyenv/versions/3.8.12/envs/4tune/lib/python3.8/site-packages/sklearn/model_selection/_validation.py:548: FitFailedWarning: Estimator fit failed. The score on this train-test partition for these parameters will be set to nan. Details: \n",
      "Traceback (most recent call last):\n",
      "  File \"/home/solanojacon/.pyenv/versions/3.8.12/envs/4tune/lib/python3.8/site-packages/sklearn/model_selection/_validation.py\", line 531, in _fit_and_score\n",
      "    estimator.fit(X_train, y_train, **fit_params)\n",
      "  File \"/home/solanojacon/.pyenv/versions/3.8.12/envs/4tune/lib/python3.8/site-packages/sklearn/linear_model/_logistic.py\", line 1304, in fit\n",
      "    solver = _check_solver(self.solver, self.penalty, self.dual)\n",
      "  File \"/home/solanojacon/.pyenv/versions/3.8.12/envs/4tune/lib/python3.8/site-packages/sklearn/linear_model/_logistic.py\", line 442, in _check_solver\n",
      "    raise ValueError(\"Solver %s supports only 'l2' or 'none' penalties, \"\n",
      "ValueError: Solver lbfgs supports only 'l2' or 'none' penalties, got l1 penalty.\n",
      "\n",
      "  warnings.warn(\"Estimator fit failed. The score on this train-test\"\n",
      "/home/solanojacon/.pyenv/versions/3.8.12/envs/4tune/lib/python3.8/site-packages/sklearn/model_selection/_validation.py:548: FitFailedWarning: Estimator fit failed. The score on this train-test partition for these parameters will be set to nan. Details: \n",
      "Traceback (most recent call last):\n",
      "  File \"/home/solanojacon/.pyenv/versions/3.8.12/envs/4tune/lib/python3.8/site-packages/sklearn/model_selection/_validation.py\", line 531, in _fit_and_score\n",
      "    estimator.fit(X_train, y_train, **fit_params)\n",
      "  File \"/home/solanojacon/.pyenv/versions/3.8.12/envs/4tune/lib/python3.8/site-packages/sklearn/linear_model/_logistic.py\", line 1304, in fit\n",
      "    solver = _check_solver(self.solver, self.penalty, self.dual)\n",
      "  File \"/home/solanojacon/.pyenv/versions/3.8.12/envs/4tune/lib/python3.8/site-packages/sklearn/linear_model/_logistic.py\", line 442, in _check_solver\n",
      "    raise ValueError(\"Solver %s supports only 'l2' or 'none' penalties, \"\n",
      "ValueError: Solver sag supports only 'l2' or 'none' penalties, got l1 penalty.\n",
      "\n",
      "  warnings.warn(\"Estimator fit failed. The score on this train-test\"\n",
      "/home/solanojacon/.pyenv/versions/3.8.12/envs/4tune/lib/python3.8/site-packages/sklearn/model_selection/_validation.py:548: FitFailedWarning: Estimator fit failed. The score on this train-test partition for these parameters will be set to nan. Details: \n",
      "Traceback (most recent call last):\n",
      "  File \"/home/solanojacon/.pyenv/versions/3.8.12/envs/4tune/lib/python3.8/site-packages/sklearn/model_selection/_validation.py\", line 531, in _fit_and_score\n",
      "    estimator.fit(X_train, y_train, **fit_params)\n",
      "  File \"/home/solanojacon/.pyenv/versions/3.8.12/envs/4tune/lib/python3.8/site-packages/sklearn/linear_model/_logistic.py\", line 1312, in fit\n",
      "    raise ValueError(\"l1_ratio must be between 0 and 1;\"\n",
      "ValueError: l1_ratio must be between 0 and 1; got (l1_ratio=None)\n",
      "\n",
      "  warnings.warn(\"Estimator fit failed. The score on this train-test\"\n",
      "/home/solanojacon/.pyenv/versions/3.8.12/envs/4tune/lib/python3.8/site-packages/sklearn/linear_model/_logistic.py:1320: UserWarning: Setting penalty='none' will ignore the C and l1_ratio parameters\n",
      "  warnings.warn(\n",
      "/home/solanojacon/.pyenv/versions/3.8.12/envs/4tune/lib/python3.8/site-packages/sklearn/model_selection/_validation.py:548: FitFailedWarning: Estimator fit failed. The score on this train-test partition for these parameters will be set to nan. Details: \n",
      "Traceback (most recent call last):\n",
      "  File \"/home/solanojacon/.pyenv/versions/3.8.12/envs/4tune/lib/python3.8/site-packages/sklearn/model_selection/_validation.py\", line 531, in _fit_and_score\n",
      "    estimator.fit(X_train, y_train, **fit_params)\n",
      "  File \"/home/solanojacon/.pyenv/versions/3.8.12/envs/4tune/lib/python3.8/site-packages/sklearn/linear_model/_logistic.py\", line 1304, in fit\n",
      "    solver = _check_solver(self.solver, self.penalty, self.dual)\n",
      "  File \"/home/solanojacon/.pyenv/versions/3.8.12/envs/4tune/lib/python3.8/site-packages/sklearn/linear_model/_logistic.py\", line 442, in _check_solver\n",
      "    raise ValueError(\"Solver %s supports only 'l2' or 'none' penalties, \"\n",
      "ValueError: Solver lbfgs supports only 'l2' or 'none' penalties, got elasticnet penalty.\n",
      "\n",
      "  warnings.warn(\"Estimator fit failed. The score on this train-test\"\n",
      "/home/solanojacon/.pyenv/versions/3.8.12/envs/4tune/lib/python3.8/site-packages/sklearn/model_selection/_validation.py:548: FitFailedWarning: Estimator fit failed. The score on this train-test partition for these parameters will be set to nan. Details: \n",
      "Traceback (most recent call last):\n",
      "  File \"/home/solanojacon/.pyenv/versions/3.8.12/envs/4tune/lib/python3.8/site-packages/sklearn/model_selection/_validation.py\", line 531, in _fit_and_score\n",
      "    estimator.fit(X_train, y_train, **fit_params)\n",
      "  File \"/home/solanojacon/.pyenv/versions/3.8.12/envs/4tune/lib/python3.8/site-packages/sklearn/linear_model/_logistic.py\", line 1304, in fit\n",
      "    solver = _check_solver(self.solver, self.penalty, self.dual)\n",
      "  File \"/home/solanojacon/.pyenv/versions/3.8.12/envs/4tune/lib/python3.8/site-packages/sklearn/linear_model/_logistic.py\", line 449, in _check_solver\n",
      "    raise ValueError(\"Only 'saga' solver supports elasticnet penalty,\"\n",
      "ValueError: Only 'saga' solver supports elasticnet penalty, got solver=liblinear.\n",
      "\n",
      "  warnings.warn(\"Estimator fit failed. The score on this train-test\"\n",
      "/home/solanojacon/.pyenv/versions/3.8.12/envs/4tune/lib/python3.8/site-packages/sklearn/model_selection/_validation.py:548: FitFailedWarning: Estimator fit failed. The score on this train-test partition for these parameters will be set to nan. Details: \n",
      "Traceback (most recent call last):\n",
      "  File \"/home/solanojacon/.pyenv/versions/3.8.12/envs/4tune/lib/python3.8/site-packages/sklearn/model_selection/_validation.py\", line 531, in _fit_and_score\n",
      "    estimator.fit(X_train, y_train, **fit_params)\n",
      "  File \"/home/solanojacon/.pyenv/versions/3.8.12/envs/4tune/lib/python3.8/site-packages/sklearn/linear_model/_logistic.py\", line 1304, in fit\n",
      "    solver = _check_solver(self.solver, self.penalty, self.dual)\n",
      "  File \"/home/solanojacon/.pyenv/versions/3.8.12/envs/4tune/lib/python3.8/site-packages/sklearn/linear_model/_logistic.py\", line 442, in _check_solver\n",
      "    raise ValueError(\"Solver %s supports only 'l2' or 'none' penalties, \"\n",
      "ValueError: Solver sag supports only 'l2' or 'none' penalties, got elasticnet penalty.\n",
      "\n",
      "  warnings.warn(\"Estimator fit failed. The score on this train-test\"\n",
      "/home/solanojacon/.pyenv/versions/3.8.12/envs/4tune/lib/python3.8/site-packages/sklearn/model_selection/_validation.py:548: FitFailedWarning: Estimator fit failed. The score on this train-test partition for these parameters will be set to nan. Details: \n",
      "Traceback (most recent call last):\n",
      "  File \"/home/solanojacon/.pyenv/versions/3.8.12/envs/4tune/lib/python3.8/site-packages/sklearn/model_selection/_validation.py\", line 531, in _fit_and_score\n",
      "    estimator.fit(X_train, y_train, **fit_params)\n",
      "  File \"/home/solanojacon/.pyenv/versions/3.8.12/envs/4tune/lib/python3.8/site-packages/sklearn/linear_model/_logistic.py\", line 1312, in fit\n",
      "    raise ValueError(\"l1_ratio must be between 0 and 1;\"\n",
      "ValueError: l1_ratio must be between 0 and 1; got (l1_ratio=None)\n",
      "\n",
      "  warnings.warn(\"Estimator fit failed. The score on this train-test\"\n",
      "/home/solanojacon/.pyenv/versions/3.8.12/envs/4tune/lib/python3.8/site-packages/sklearn/linear_model/_logistic.py:1320: UserWarning: Setting penalty='none' will ignore the C and l1_ratio parameters\n",
      "  warnings.warn(\n"
     ]
    },
    {
     "name": "stderr",
     "output_type": "stream",
     "text": [
      "/home/solanojacon/.pyenv/versions/3.8.12/envs/4tune/lib/python3.8/site-packages/sklearn/model_selection/_validation.py:548: FitFailedWarning: Estimator fit failed. The score on this train-test partition for these parameters will be set to nan. Details: \n",
      "Traceback (most recent call last):\n",
      "  File \"/home/solanojacon/.pyenv/versions/3.8.12/envs/4tune/lib/python3.8/site-packages/sklearn/model_selection/_validation.py\", line 531, in _fit_and_score\n",
      "    estimator.fit(X_train, y_train, **fit_params)\n",
      "  File \"/home/solanojacon/.pyenv/versions/3.8.12/envs/4tune/lib/python3.8/site-packages/sklearn/linear_model/_logistic.py\", line 1304, in fit\n",
      "    solver = _check_solver(self.solver, self.penalty, self.dual)\n",
      "  File \"/home/solanojacon/.pyenv/versions/3.8.12/envs/4tune/lib/python3.8/site-packages/sklearn/linear_model/_logistic.py\", line 449, in _check_solver\n",
      "    raise ValueError(\"Only 'saga' solver supports elasticnet penalty,\"\n",
      "ValueError: Only 'saga' solver supports elasticnet penalty, got solver=liblinear.\n",
      "\n",
      "  warnings.warn(\"Estimator fit failed. The score on this train-test\"\n",
      "/home/solanojacon/.pyenv/versions/3.8.12/envs/4tune/lib/python3.8/site-packages/sklearn/model_selection/_validation.py:548: FitFailedWarning: Estimator fit failed. The score on this train-test partition for these parameters will be set to nan. Details: \n",
      "Traceback (most recent call last):\n",
      "  File \"/home/solanojacon/.pyenv/versions/3.8.12/envs/4tune/lib/python3.8/site-packages/sklearn/model_selection/_validation.py\", line 531, in _fit_and_score\n",
      "    estimator.fit(X_train, y_train, **fit_params)\n",
      "  File \"/home/solanojacon/.pyenv/versions/3.8.12/envs/4tune/lib/python3.8/site-packages/sklearn/linear_model/_logistic.py\", line 1304, in fit\n",
      "    solver = _check_solver(self.solver, self.penalty, self.dual)\n",
      "  File \"/home/solanojacon/.pyenv/versions/3.8.12/envs/4tune/lib/python3.8/site-packages/sklearn/linear_model/_logistic.py\", line 442, in _check_solver\n",
      "    raise ValueError(\"Solver %s supports only 'l2' or 'none' penalties, \"\n",
      "ValueError: Solver sag supports only 'l2' or 'none' penalties, got elasticnet penalty.\n",
      "\n",
      "  warnings.warn(\"Estimator fit failed. The score on this train-test\"\n",
      "/home/solanojacon/.pyenv/versions/3.8.12/envs/4tune/lib/python3.8/site-packages/sklearn/model_selection/_validation.py:548: FitFailedWarning: Estimator fit failed. The score on this train-test partition for these parameters will be set to nan. Details: \n",
      "Traceback (most recent call last):\n",
      "  File \"/home/solanojacon/.pyenv/versions/3.8.12/envs/4tune/lib/python3.8/site-packages/sklearn/model_selection/_validation.py\", line 531, in _fit_and_score\n",
      "    estimator.fit(X_train, y_train, **fit_params)\n",
      "  File \"/home/solanojacon/.pyenv/versions/3.8.12/envs/4tune/lib/python3.8/site-packages/sklearn/linear_model/_logistic.py\", line 1312, in fit\n",
      "    raise ValueError(\"l1_ratio must be between 0 and 1;\"\n",
      "ValueError: l1_ratio must be between 0 and 1; got (l1_ratio=None)\n",
      "\n",
      "  warnings.warn(\"Estimator fit failed. The score on this train-test\"\n",
      "/home/solanojacon/.pyenv/versions/3.8.12/envs/4tune/lib/python3.8/site-packages/sklearn/linear_model/_sag.py:329: ConvergenceWarning: The max_iter was reached which means the coef_ did not converge\n",
      "  warnings.warn(\"The max_iter was reached which means \"\n",
      "/home/solanojacon/.pyenv/versions/3.8.12/envs/4tune/lib/python3.8/site-packages/sklearn/linear_model/_logistic.py:1320: UserWarning: Setting penalty='none' will ignore the C and l1_ratio parameters\n",
      "  warnings.warn(\n",
      "/home/solanojacon/.pyenv/versions/3.8.12/envs/4tune/lib/python3.8/site-packages/sklearn/linear_model/_sag.py:329: ConvergenceWarning: The max_iter was reached which means the coef_ did not converge\n",
      "  warnings.warn(\"The max_iter was reached which means \"\n",
      "/home/solanojacon/.pyenv/versions/3.8.12/envs/4tune/lib/python3.8/site-packages/sklearn/linear_model/_logistic.py:1320: UserWarning: Setting penalty='none' will ignore the C and l1_ratio parameters\n",
      "  warnings.warn(\n",
      "/home/solanojacon/.pyenv/versions/3.8.12/envs/4tune/lib/python3.8/site-packages/sklearn/linear_model/_logistic.py:762: ConvergenceWarning: lbfgs failed to converge (status=1):\n",
      "STOP: TOTAL NO. of ITERATIONS REACHED LIMIT.\n",
      "\n",
      "Increase the number of iterations (max_iter) or scale the data as shown in:\n",
      "    https://scikit-learn.org/stable/modules/preprocessing.html\n",
      "Please also refer to the documentation for alternative solver options:\n",
      "    https://scikit-learn.org/stable/modules/linear_model.html#logistic-regression\n",
      "  n_iter_i = _check_optimize_result(\n",
      "/home/solanojacon/.pyenv/versions/3.8.12/envs/4tune/lib/python3.8/site-packages/sklearn/linear_model/_logistic.py:1320: UserWarning: Setting penalty='none' will ignore the C and l1_ratio parameters\n",
      "  warnings.warn(\n",
      "/home/solanojacon/.pyenv/versions/3.8.12/envs/4tune/lib/python3.8/site-packages/sklearn/linear_model/_sag.py:329: ConvergenceWarning: The max_iter was reached which means the coef_ did not converge\n",
      "  warnings.warn(\"The max_iter was reached which means \"\n",
      "/home/solanojacon/.pyenv/versions/3.8.12/envs/4tune/lib/python3.8/site-packages/sklearn/linear_model/_logistic.py:1320: UserWarning: Setting penalty='none' will ignore the C and l1_ratio parameters\n",
      "  warnings.warn(\n",
      "/home/solanojacon/.pyenv/versions/3.8.12/envs/4tune/lib/python3.8/site-packages/sklearn/linear_model/_sag.py:329: ConvergenceWarning: The max_iter was reached which means the coef_ did not converge\n",
      "  warnings.warn(\"The max_iter was reached which means \"\n",
      "/home/solanojacon/.pyenv/versions/3.8.12/envs/4tune/lib/python3.8/site-packages/sklearn/model_selection/_validation.py:548: FitFailedWarning: Estimator fit failed. The score on this train-test partition for these parameters will be set to nan. Details: \n",
      "Traceback (most recent call last):\n",
      "  File \"/home/solanojacon/.pyenv/versions/3.8.12/envs/4tune/lib/python3.8/site-packages/sklearn/model_selection/_validation.py\", line 531, in _fit_and_score\n",
      "    estimator.fit(X_train, y_train, **fit_params)\n",
      "  File \"/home/solanojacon/.pyenv/versions/3.8.12/envs/4tune/lib/python3.8/site-packages/sklearn/linear_model/_logistic.py\", line 1304, in fit\n",
      "    solver = _check_solver(self.solver, self.penalty, self.dual)\n",
      "  File \"/home/solanojacon/.pyenv/versions/3.8.12/envs/4tune/lib/python3.8/site-packages/sklearn/linear_model/_logistic.py\", line 442, in _check_solver\n",
      "    raise ValueError(\"Solver %s supports only 'l2' or 'none' penalties, \"\n",
      "ValueError: Solver lbfgs supports only 'l2' or 'none' penalties, got l1 penalty.\n",
      "\n",
      "  warnings.warn(\"Estimator fit failed. The score on this train-test\"\n",
      "/home/solanojacon/.pyenv/versions/3.8.12/envs/4tune/lib/python3.8/site-packages/sklearn/model_selection/_validation.py:548: FitFailedWarning: Estimator fit failed. The score on this train-test partition for these parameters will be set to nan. Details: \n",
      "Traceback (most recent call last):\n",
      "  File \"/home/solanojacon/.pyenv/versions/3.8.12/envs/4tune/lib/python3.8/site-packages/sklearn/model_selection/_validation.py\", line 531, in _fit_and_score\n",
      "    estimator.fit(X_train, y_train, **fit_params)\n",
      "  File \"/home/solanojacon/.pyenv/versions/3.8.12/envs/4tune/lib/python3.8/site-packages/sklearn/linear_model/_logistic.py\", line 1304, in fit\n",
      "    solver = _check_solver(self.solver, self.penalty, self.dual)\n",
      "  File \"/home/solanojacon/.pyenv/versions/3.8.12/envs/4tune/lib/python3.8/site-packages/sklearn/linear_model/_logistic.py\", line 442, in _check_solver\n",
      "    raise ValueError(\"Solver %s supports only 'l2' or 'none' penalties, \"\n",
      "ValueError: Solver sag supports only 'l2' or 'none' penalties, got l1 penalty.\n",
      "\n",
      "  warnings.warn(\"Estimator fit failed. The score on this train-test\"\n",
      "/home/solanojacon/.pyenv/versions/3.8.12/envs/4tune/lib/python3.8/site-packages/sklearn/model_selection/_validation.py:548: FitFailedWarning: Estimator fit failed. The score on this train-test partition for these parameters will be set to nan. Details: \n",
      "Traceback (most recent call last):\n",
      "  File \"/home/solanojacon/.pyenv/versions/3.8.12/envs/4tune/lib/python3.8/site-packages/sklearn/model_selection/_validation.py\", line 531, in _fit_and_score\n",
      "    estimator.fit(X_train, y_train, **fit_params)\n",
      "  File \"/home/solanojacon/.pyenv/versions/3.8.12/envs/4tune/lib/python3.8/site-packages/sklearn/linear_model/_logistic.py\", line 1304, in fit\n",
      "    solver = _check_solver(self.solver, self.penalty, self.dual)\n",
      "  File \"/home/solanojacon/.pyenv/versions/3.8.12/envs/4tune/lib/python3.8/site-packages/sklearn/linear_model/_logistic.py\", line 449, in _check_solver\n",
      "    raise ValueError(\"Only 'saga' solver supports elasticnet penalty,\"\n",
      "ValueError: Only 'saga' solver supports elasticnet penalty, got solver=liblinear.\n",
      "\n",
      "  warnings.warn(\"Estimator fit failed. The score on this train-test\"\n",
      "/home/solanojacon/.pyenv/versions/3.8.12/envs/4tune/lib/python3.8/site-packages/sklearn/model_selection/_validation.py:548: FitFailedWarning: Estimator fit failed. The score on this train-test partition for these parameters will be set to nan. Details: \n",
      "Traceback (most recent call last):\n",
      "  File \"/home/solanojacon/.pyenv/versions/3.8.12/envs/4tune/lib/python3.8/site-packages/sklearn/model_selection/_validation.py\", line 531, in _fit_and_score\n",
      "    estimator.fit(X_train, y_train, **fit_params)\n",
      "  File \"/home/solanojacon/.pyenv/versions/3.8.12/envs/4tune/lib/python3.8/site-packages/sklearn/linear_model/_logistic.py\", line 1304, in fit\n",
      "    solver = _check_solver(self.solver, self.penalty, self.dual)\n",
      "  File \"/home/solanojacon/.pyenv/versions/3.8.12/envs/4tune/lib/python3.8/site-packages/sklearn/linear_model/_logistic.py\", line 442, in _check_solver\n",
      "    raise ValueError(\"Solver %s supports only 'l2' or 'none' penalties, \"\n",
      "ValueError: Solver sag supports only 'l2' or 'none' penalties, got elasticnet penalty.\n",
      "\n",
      "  warnings.warn(\"Estimator fit failed. The score on this train-test\"\n",
      "/home/solanojacon/.pyenv/versions/3.8.12/envs/4tune/lib/python3.8/site-packages/sklearn/model_selection/_validation.py:548: FitFailedWarning: Estimator fit failed. The score on this train-test partition for these parameters will be set to nan. Details: \n",
      "Traceback (most recent call last):\n",
      "  File \"/home/solanojacon/.pyenv/versions/3.8.12/envs/4tune/lib/python3.8/site-packages/sklearn/model_selection/_validation.py\", line 531, in _fit_and_score\n",
      "    estimator.fit(X_train, y_train, **fit_params)\n",
      "  File \"/home/solanojacon/.pyenv/versions/3.8.12/envs/4tune/lib/python3.8/site-packages/sklearn/linear_model/_logistic.py\", line 1312, in fit\n",
      "    raise ValueError(\"l1_ratio must be between 0 and 1;\"\n",
      "ValueError: l1_ratio must be between 0 and 1; got (l1_ratio=None)\n",
      "\n",
      "  warnings.warn(\"Estimator fit failed. The score on this train-test\"\n",
      "/home/solanojacon/.pyenv/versions/3.8.12/envs/4tune/lib/python3.8/site-packages/sklearn/linear_model/_logistic.py:1320: UserWarning: Setting penalty='none' will ignore the C and l1_ratio parameters\n",
      "  warnings.warn(\n",
      "/home/solanojacon/.pyenv/versions/3.8.12/envs/4tune/lib/python3.8/site-packages/sklearn/model_selection/_validation.py:548: FitFailedWarning: Estimator fit failed. The score on this train-test partition for these parameters will be set to nan. Details: \n",
      "Traceback (most recent call last):\n",
      "  File \"/home/solanojacon/.pyenv/versions/3.8.12/envs/4tune/lib/python3.8/site-packages/sklearn/model_selection/_validation.py\", line 531, in _fit_and_score\n",
      "    estimator.fit(X_train, y_train, **fit_params)\n",
      "  File \"/home/solanojacon/.pyenv/versions/3.8.12/envs/4tune/lib/python3.8/site-packages/sklearn/linear_model/_logistic.py\", line 1304, in fit\n",
      "    solver = _check_solver(self.solver, self.penalty, self.dual)\n",
      "  File \"/home/solanojacon/.pyenv/versions/3.8.12/envs/4tune/lib/python3.8/site-packages/sklearn/linear_model/_logistic.py\", line 442, in _check_solver\n",
      "    raise ValueError(\"Solver %s supports only 'l2' or 'none' penalties, \"\n",
      "ValueError: Solver newton-cg supports only 'l2' or 'none' penalties, got elasticnet penalty.\n",
      "\n",
      "  warnings.warn(\"Estimator fit failed. The score on this train-test\"\n",
      "/home/solanojacon/.pyenv/versions/3.8.12/envs/4tune/lib/python3.8/site-packages/sklearn/linear_model/_logistic.py:1320: UserWarning: Setting penalty='none' will ignore the C and l1_ratio parameters\n",
      "  warnings.warn(\n",
      "/home/solanojacon/.pyenv/versions/3.8.12/envs/4tune/lib/python3.8/site-packages/sklearn/linear_model/_logistic.py:762: ConvergenceWarning: lbfgs failed to converge (status=1):\n",
      "STOP: TOTAL NO. of ITERATIONS REACHED LIMIT.\n",
      "\n",
      "Increase the number of iterations (max_iter) or scale the data as shown in:\n",
      "    https://scikit-learn.org/stable/modules/preprocessing.html\n",
      "Please also refer to the documentation for alternative solver options:\n",
      "    https://scikit-learn.org/stable/modules/linear_model.html#logistic-regression\n",
      "  n_iter_i = _check_optimize_result(\n",
      "/home/solanojacon/.pyenv/versions/3.8.12/envs/4tune/lib/python3.8/site-packages/sklearn/linear_model/_logistic.py:1320: UserWarning: Setting penalty='none' will ignore the C and l1_ratio parameters\n",
      "  warnings.warn(\n",
      "/home/solanojacon/.pyenv/versions/3.8.12/envs/4tune/lib/python3.8/site-packages/sklearn/linear_model/_sag.py:329: ConvergenceWarning: The max_iter was reached which means the coef_ did not converge\n",
      "  warnings.warn(\"The max_iter was reached which means \"\n",
      "/home/solanojacon/.pyenv/versions/3.8.12/envs/4tune/lib/python3.8/site-packages/sklearn/linear_model/_logistic.py:1320: UserWarning: Setting penalty='none' will ignore the C and l1_ratio parameters\n",
      "  warnings.warn(\n",
      "/home/solanojacon/.pyenv/versions/3.8.12/envs/4tune/lib/python3.8/site-packages/sklearn/linear_model/_sag.py:329: ConvergenceWarning: The max_iter was reached which means the coef_ did not converge\n",
      "  warnings.warn(\"The max_iter was reached which means \"\n",
      "/home/solanojacon/.pyenv/versions/3.8.12/envs/4tune/lib/python3.8/site-packages/sklearn/linear_model/_sag.py:329: ConvergenceWarning: The max_iter was reached which means the coef_ did not converge\n",
      "  warnings.warn(\"The max_iter was reached which means \"\n",
      "/home/solanojacon/.pyenv/versions/3.8.12/envs/4tune/lib/python3.8/site-packages/sklearn/linear_model/_logistic.py:1320: UserWarning: Setting penalty='none' will ignore the C and l1_ratio parameters\n",
      "  warnings.warn(\n",
      "/home/solanojacon/.pyenv/versions/3.8.12/envs/4tune/lib/python3.8/site-packages/sklearn/linear_model/_sag.py:329: ConvergenceWarning: The max_iter was reached which means the coef_ did not converge\n",
      "  warnings.warn(\"The max_iter was reached which means \"\n"
     ]
    },
    {
     "name": "stderr",
     "output_type": "stream",
     "text": [
      "/home/solanojacon/.pyenv/versions/3.8.12/envs/4tune/lib/python3.8/site-packages/sklearn/linear_model/_sag.py:329: ConvergenceWarning: The max_iter was reached which means the coef_ did not converge\n",
      "  warnings.warn(\"The max_iter was reached which means \"\n",
      "/home/solanojacon/.pyenv/versions/3.8.12/envs/4tune/lib/python3.8/site-packages/sklearn/linear_model/_logistic.py:762: ConvergenceWarning: lbfgs failed to converge (status=1):\n",
      "STOP: TOTAL NO. of ITERATIONS REACHED LIMIT.\n",
      "\n",
      "Increase the number of iterations (max_iter) or scale the data as shown in:\n",
      "    https://scikit-learn.org/stable/modules/preprocessing.html\n",
      "Please also refer to the documentation for alternative solver options:\n",
      "    https://scikit-learn.org/stable/modules/linear_model.html#logistic-regression\n",
      "  n_iter_i = _check_optimize_result(\n",
      "/home/solanojacon/.pyenv/versions/3.8.12/envs/4tune/lib/python3.8/site-packages/sklearn/model_selection/_validation.py:548: FitFailedWarning: Estimator fit failed. The score on this train-test partition for these parameters will be set to nan. Details: \n",
      "Traceback (most recent call last):\n",
      "  File \"/home/solanojacon/.pyenv/versions/3.8.12/envs/4tune/lib/python3.8/site-packages/sklearn/model_selection/_validation.py\", line 531, in _fit_and_score\n",
      "    estimator.fit(X_train, y_train, **fit_params)\n",
      "  File \"/home/solanojacon/.pyenv/versions/3.8.12/envs/4tune/lib/python3.8/site-packages/sklearn/linear_model/_logistic.py\", line 1304, in fit\n",
      "    solver = _check_solver(self.solver, self.penalty, self.dual)\n",
      "  File \"/home/solanojacon/.pyenv/versions/3.8.12/envs/4tune/lib/python3.8/site-packages/sklearn/linear_model/_logistic.py\", line 453, in _check_solver\n",
      "    raise ValueError(\n",
      "ValueError: penalty='none' is not supported for the liblinear solver\n",
      "\n",
      "  warnings.warn(\"Estimator fit failed. The score on this train-test\"\n",
      "/home/solanojacon/.pyenv/versions/3.8.12/envs/4tune/lib/python3.8/site-packages/sklearn/linear_model/_sag.py:329: ConvergenceWarning: The max_iter was reached which means the coef_ did not converge\n",
      "  warnings.warn(\"The max_iter was reached which means \"\n",
      "/home/solanojacon/.pyenv/versions/3.8.12/envs/4tune/lib/python3.8/site-packages/sklearn/linear_model/_sag.py:329: ConvergenceWarning: The max_iter was reached which means the coef_ did not converge\n",
      "  warnings.warn(\"The max_iter was reached which means \"\n",
      "/home/solanojacon/.pyenv/versions/3.8.12/envs/4tune/lib/python3.8/site-packages/sklearn/linear_model/_sag.py:329: ConvergenceWarning: The max_iter was reached which means the coef_ did not converge\n",
      "  warnings.warn(\"The max_iter was reached which means \"\n",
      "/home/solanojacon/.pyenv/versions/3.8.12/envs/4tune/lib/python3.8/site-packages/sklearn/linear_model/_logistic.py:1320: UserWarning: Setting penalty='none' will ignore the C and l1_ratio parameters\n",
      "  warnings.warn(\n",
      "/home/solanojacon/.pyenv/versions/3.8.12/envs/4tune/lib/python3.8/site-packages/sklearn/linear_model/_logistic.py:762: ConvergenceWarning: lbfgs failed to converge (status=1):\n",
      "STOP: TOTAL NO. of ITERATIONS REACHED LIMIT.\n",
      "\n",
      "Increase the number of iterations (max_iter) or scale the data as shown in:\n",
      "    https://scikit-learn.org/stable/modules/preprocessing.html\n",
      "Please also refer to the documentation for alternative solver options:\n",
      "    https://scikit-learn.org/stable/modules/linear_model.html#logistic-regression\n",
      "  n_iter_i = _check_optimize_result(\n",
      "/home/solanojacon/.pyenv/versions/3.8.12/envs/4tune/lib/python3.8/site-packages/sklearn/linear_model/_logistic.py:1320: UserWarning: Setting penalty='none' will ignore the C and l1_ratio parameters\n",
      "  warnings.warn(\n",
      "/home/solanojacon/.pyenv/versions/3.8.12/envs/4tune/lib/python3.8/site-packages/sklearn/linear_model/_logistic.py:762: ConvergenceWarning: lbfgs failed to converge (status=1):\n",
      "STOP: TOTAL NO. of ITERATIONS REACHED LIMIT.\n",
      "\n",
      "Increase the number of iterations (max_iter) or scale the data as shown in:\n",
      "    https://scikit-learn.org/stable/modules/preprocessing.html\n",
      "Please also refer to the documentation for alternative solver options:\n",
      "    https://scikit-learn.org/stable/modules/linear_model.html#logistic-regression\n",
      "  n_iter_i = _check_optimize_result(\n",
      "/home/solanojacon/.pyenv/versions/3.8.12/envs/4tune/lib/python3.8/site-packages/sklearn/linear_model/_logistic.py:1320: UserWarning: Setting penalty='none' will ignore the C and l1_ratio parameters\n",
      "  warnings.warn(\n",
      "/home/solanojacon/.pyenv/versions/3.8.12/envs/4tune/lib/python3.8/site-packages/sklearn/linear_model/_sag.py:329: ConvergenceWarning: The max_iter was reached which means the coef_ did not converge\n",
      "  warnings.warn(\"The max_iter was reached which means \"\n",
      "/home/solanojacon/.pyenv/versions/3.8.12/envs/4tune/lib/python3.8/site-packages/sklearn/linear_model/_logistic.py:762: ConvergenceWarning: lbfgs failed to converge (status=1):\n",
      "STOP: TOTAL NO. of ITERATIONS REACHED LIMIT.\n",
      "\n",
      "Increase the number of iterations (max_iter) or scale the data as shown in:\n",
      "    https://scikit-learn.org/stable/modules/preprocessing.html\n",
      "Please also refer to the documentation for alternative solver options:\n",
      "    https://scikit-learn.org/stable/modules/linear_model.html#logistic-regression\n",
      "  n_iter_i = _check_optimize_result(\n",
      "/home/solanojacon/.pyenv/versions/3.8.12/envs/4tune/lib/python3.8/site-packages/sklearn/linear_model/_sag.py:329: ConvergenceWarning: The max_iter was reached which means the coef_ did not converge\n",
      "  warnings.warn(\"The max_iter was reached which means \"\n",
      "/home/solanojacon/.pyenv/versions/3.8.12/envs/4tune/lib/python3.8/site-packages/sklearn/linear_model/_logistic.py:1320: UserWarning: Setting penalty='none' will ignore the C and l1_ratio parameters\n",
      "  warnings.warn(\n",
      "/home/solanojacon/.pyenv/versions/3.8.12/envs/4tune/lib/python3.8/site-packages/sklearn/linear_model/_sag.py:329: ConvergenceWarning: The max_iter was reached which means the coef_ did not converge\n",
      "  warnings.warn(\"The max_iter was reached which means \"\n",
      "/home/solanojacon/.pyenv/versions/3.8.12/envs/4tune/lib/python3.8/site-packages/sklearn/model_selection/_validation.py:548: FitFailedWarning: Estimator fit failed. The score on this train-test partition for these parameters will be set to nan. Details: \n",
      "Traceback (most recent call last):\n",
      "  File \"/home/solanojacon/.pyenv/versions/3.8.12/envs/4tune/lib/python3.8/site-packages/sklearn/model_selection/_validation.py\", line 531, in _fit_and_score\n",
      "    estimator.fit(X_train, y_train, **fit_params)\n",
      "  File \"/home/solanojacon/.pyenv/versions/3.8.12/envs/4tune/lib/python3.8/site-packages/sklearn/linear_model/_logistic.py\", line 1304, in fit\n",
      "    solver = _check_solver(self.solver, self.penalty, self.dual)\n",
      "  File \"/home/solanojacon/.pyenv/versions/3.8.12/envs/4tune/lib/python3.8/site-packages/sklearn/linear_model/_logistic.py\", line 442, in _check_solver\n",
      "    raise ValueError(\"Solver %s supports only 'l2' or 'none' penalties, \"\n",
      "ValueError: Solver lbfgs supports only 'l2' or 'none' penalties, got l1 penalty.\n",
      "\n",
      "  warnings.warn(\"Estimator fit failed. The score on this train-test\"\n",
      "/home/solanojacon/.pyenv/versions/3.8.12/envs/4tune/lib/python3.8/site-packages/sklearn/model_selection/_validation.py:548: FitFailedWarning: Estimator fit failed. The score on this train-test partition for these parameters will be set to nan. Details: \n",
      "Traceback (most recent call last):\n",
      "  File \"/home/solanojacon/.pyenv/versions/3.8.12/envs/4tune/lib/python3.8/site-packages/sklearn/model_selection/_validation.py\", line 531, in _fit_and_score\n",
      "    estimator.fit(X_train, y_train, **fit_params)\n",
      "  File \"/home/solanojacon/.pyenv/versions/3.8.12/envs/4tune/lib/python3.8/site-packages/sklearn/linear_model/_logistic.py\", line 1304, in fit\n",
      "    solver = _check_solver(self.solver, self.penalty, self.dual)\n",
      "  File \"/home/solanojacon/.pyenv/versions/3.8.12/envs/4tune/lib/python3.8/site-packages/sklearn/linear_model/_logistic.py\", line 442, in _check_solver\n",
      "    raise ValueError(\"Solver %s supports only 'l2' or 'none' penalties, \"\n",
      "ValueError: Solver sag supports only 'l2' or 'none' penalties, got l1 penalty.\n",
      "\n",
      "  warnings.warn(\"Estimator fit failed. The score on this train-test\"\n",
      "/home/solanojacon/.pyenv/versions/3.8.12/envs/4tune/lib/python3.8/site-packages/sklearn/model_selection/_validation.py:548: FitFailedWarning: Estimator fit failed. The score on this train-test partition for these parameters will be set to nan. Details: \n",
      "Traceback (most recent call last):\n",
      "  File \"/home/solanojacon/.pyenv/versions/3.8.12/envs/4tune/lib/python3.8/site-packages/sklearn/model_selection/_validation.py\", line 531, in _fit_and_score\n",
      "    estimator.fit(X_train, y_train, **fit_params)\n",
      "  File \"/home/solanojacon/.pyenv/versions/3.8.12/envs/4tune/lib/python3.8/site-packages/sklearn/linear_model/_logistic.py\", line 1304, in fit\n",
      "    solver = _check_solver(self.solver, self.penalty, self.dual)\n",
      "  File \"/home/solanojacon/.pyenv/versions/3.8.12/envs/4tune/lib/python3.8/site-packages/sklearn/linear_model/_logistic.py\", line 453, in _check_solver\n",
      "    raise ValueError(\n",
      "ValueError: penalty='none' is not supported for the liblinear solver\n",
      "\n",
      "  warnings.warn(\"Estimator fit failed. The score on this train-test\"\n",
      "/home/solanojacon/.pyenv/versions/3.8.12/envs/4tune/lib/python3.8/site-packages/sklearn/linear_model/_logistic.py:1320: UserWarning: Setting penalty='none' will ignore the C and l1_ratio parameters\n",
      "  warnings.warn(\n",
      "/home/solanojacon/.pyenv/versions/3.8.12/envs/4tune/lib/python3.8/site-packages/sklearn/linear_model/_sag.py:329: ConvergenceWarning: The max_iter was reached which means the coef_ did not converge\n",
      "  warnings.warn(\"The max_iter was reached which means \"\n",
      "/home/solanojacon/.pyenv/versions/3.8.12/envs/4tune/lib/python3.8/site-packages/sklearn/linear_model/_logistic.py:1320: UserWarning: Setting penalty='none' will ignore the C and l1_ratio parameters\n",
      "  warnings.warn(\n",
      "/home/solanojacon/.pyenv/versions/3.8.12/envs/4tune/lib/python3.8/site-packages/sklearn/linear_model/_sag.py:329: ConvergenceWarning: The max_iter was reached which means the coef_ did not converge\n",
      "  warnings.warn(\"The max_iter was reached which means \"\n"
     ]
    },
    {
     "name": "stderr",
     "output_type": "stream",
     "text": [
      "/home/solanojacon/.pyenv/versions/3.8.12/envs/4tune/lib/python3.8/site-packages/sklearn/model_selection/_validation.py:548: FitFailedWarning: Estimator fit failed. The score on this train-test partition for these parameters will be set to nan. Details: \n",
      "Traceback (most recent call last):\n",
      "  File \"/home/solanojacon/.pyenv/versions/3.8.12/envs/4tune/lib/python3.8/site-packages/sklearn/model_selection/_validation.py\", line 531, in _fit_and_score\n",
      "    estimator.fit(X_train, y_train, **fit_params)\n",
      "  File \"/home/solanojacon/.pyenv/versions/3.8.12/envs/4tune/lib/python3.8/site-packages/sklearn/linear_model/_logistic.py\", line 1304, in fit\n",
      "    solver = _check_solver(self.solver, self.penalty, self.dual)\n",
      "  File \"/home/solanojacon/.pyenv/versions/3.8.12/envs/4tune/lib/python3.8/site-packages/sklearn/linear_model/_logistic.py\", line 442, in _check_solver\n",
      "    raise ValueError(\"Solver %s supports only 'l2' or 'none' penalties, \"\n",
      "ValueError: Solver newton-cg supports only 'l2' or 'none' penalties, got elasticnet penalty.\n",
      "\n",
      "  warnings.warn(\"Estimator fit failed. The score on this train-test\"\n",
      "/home/solanojacon/.pyenv/versions/3.8.12/envs/4tune/lib/python3.8/site-packages/sklearn/model_selection/_validation.py:548: FitFailedWarning: Estimator fit failed. The score on this train-test partition for these parameters will be set to nan. Details: \n",
      "Traceback (most recent call last):\n",
      "  File \"/home/solanojacon/.pyenv/versions/3.8.12/envs/4tune/lib/python3.8/site-packages/sklearn/model_selection/_validation.py\", line 531, in _fit_and_score\n",
      "    estimator.fit(X_train, y_train, **fit_params)\n",
      "  File \"/home/solanojacon/.pyenv/versions/3.8.12/envs/4tune/lib/python3.8/site-packages/sklearn/linear_model/_logistic.py\", line 1304, in fit\n",
      "    solver = _check_solver(self.solver, self.penalty, self.dual)\n",
      "  File \"/home/solanojacon/.pyenv/versions/3.8.12/envs/4tune/lib/python3.8/site-packages/sklearn/linear_model/_logistic.py\", line 442, in _check_solver\n",
      "    raise ValueError(\"Solver %s supports only 'l2' or 'none' penalties, \"\n",
      "ValueError: Solver lbfgs supports only 'l2' or 'none' penalties, got elasticnet penalty.\n",
      "\n",
      "  warnings.warn(\"Estimator fit failed. The score on this train-test\"\n",
      "/home/solanojacon/.pyenv/versions/3.8.12/envs/4tune/lib/python3.8/site-packages/sklearn/model_selection/_validation.py:548: FitFailedWarning: Estimator fit failed. The score on this train-test partition for these parameters will be set to nan. Details: \n",
      "Traceback (most recent call last):\n",
      "  File \"/home/solanojacon/.pyenv/versions/3.8.12/envs/4tune/lib/python3.8/site-packages/sklearn/model_selection/_validation.py\", line 531, in _fit_and_score\n",
      "    estimator.fit(X_train, y_train, **fit_params)\n",
      "  File \"/home/solanojacon/.pyenv/versions/3.8.12/envs/4tune/lib/python3.8/site-packages/sklearn/linear_model/_logistic.py\", line 1304, in fit\n",
      "    solver = _check_solver(self.solver, self.penalty, self.dual)\n",
      "  File \"/home/solanojacon/.pyenv/versions/3.8.12/envs/4tune/lib/python3.8/site-packages/sklearn/linear_model/_logistic.py\", line 449, in _check_solver\n",
      "    raise ValueError(\"Only 'saga' solver supports elasticnet penalty,\"\n",
      "ValueError: Only 'saga' solver supports elasticnet penalty, got solver=liblinear.\n",
      "\n",
      "  warnings.warn(\"Estimator fit failed. The score on this train-test\"\n",
      "/home/solanojacon/.pyenv/versions/3.8.12/envs/4tune/lib/python3.8/site-packages/sklearn/model_selection/_validation.py:548: FitFailedWarning: Estimator fit failed. The score on this train-test partition for these parameters will be set to nan. Details: \n",
      "Traceback (most recent call last):\n",
      "  File \"/home/solanojacon/.pyenv/versions/3.8.12/envs/4tune/lib/python3.8/site-packages/sklearn/model_selection/_validation.py\", line 531, in _fit_and_score\n",
      "    estimator.fit(X_train, y_train, **fit_params)\n",
      "  File \"/home/solanojacon/.pyenv/versions/3.8.12/envs/4tune/lib/python3.8/site-packages/sklearn/linear_model/_logistic.py\", line 1304, in fit\n",
      "    solver = _check_solver(self.solver, self.penalty, self.dual)\n",
      "  File \"/home/solanojacon/.pyenv/versions/3.8.12/envs/4tune/lib/python3.8/site-packages/sklearn/linear_model/_logistic.py\", line 442, in _check_solver\n",
      "    raise ValueError(\"Solver %s supports only 'l2' or 'none' penalties, \"\n",
      "ValueError: Solver sag supports only 'l2' or 'none' penalties, got elasticnet penalty.\n",
      "\n",
      "  warnings.warn(\"Estimator fit failed. The score on this train-test\"\n",
      "/home/solanojacon/.pyenv/versions/3.8.12/envs/4tune/lib/python3.8/site-packages/sklearn/linear_model/_logistic.py:1320: UserWarning: Setting penalty='none' will ignore the C and l1_ratio parameters\n",
      "  warnings.warn(\n",
      "/home/solanojacon/.pyenv/versions/3.8.12/envs/4tune/lib/python3.8/site-packages/sklearn/linear_model/_logistic.py:762: ConvergenceWarning: lbfgs failed to converge (status=1):\n",
      "STOP: TOTAL NO. of ITERATIONS REACHED LIMIT.\n",
      "\n",
      "Increase the number of iterations (max_iter) or scale the data as shown in:\n",
      "    https://scikit-learn.org/stable/modules/preprocessing.html\n",
      "Please also refer to the documentation for alternative solver options:\n",
      "    https://scikit-learn.org/stable/modules/linear_model.html#logistic-regression\n",
      "  n_iter_i = _check_optimize_result(\n",
      "/home/solanojacon/.pyenv/versions/3.8.12/envs/4tune/lib/python3.8/site-packages/sklearn/linear_model/_sag.py:329: ConvergenceWarning: The max_iter was reached which means the coef_ did not converge\n",
      "  warnings.warn(\"The max_iter was reached which means \"\n",
      "/home/solanojacon/.pyenv/versions/3.8.12/envs/4tune/lib/python3.8/site-packages/sklearn/linear_model/_sag.py:329: ConvergenceWarning: The max_iter was reached which means the coef_ did not converge\n",
      "  warnings.warn(\"The max_iter was reached which means \"\n",
      "/home/solanojacon/.pyenv/versions/3.8.12/envs/4tune/lib/python3.8/site-packages/sklearn/linear_model/_logistic.py:762: ConvergenceWarning: lbfgs failed to converge (status=1):\n",
      "STOP: TOTAL NO. of ITERATIONS REACHED LIMIT.\n",
      "\n",
      "Increase the number of iterations (max_iter) or scale the data as shown in:\n",
      "    https://scikit-learn.org/stable/modules/preprocessing.html\n",
      "Please also refer to the documentation for alternative solver options:\n",
      "    https://scikit-learn.org/stable/modules/linear_model.html#logistic-regression\n",
      "  n_iter_i = _check_optimize_result(\n",
      "/home/solanojacon/.pyenv/versions/3.8.12/envs/4tune/lib/python3.8/site-packages/sklearn/linear_model/_logistic.py:762: ConvergenceWarning: lbfgs failed to converge (status=1):\n",
      "STOP: TOTAL NO. of ITERATIONS REACHED LIMIT.\n",
      "\n",
      "Increase the number of iterations (max_iter) or scale the data as shown in:\n",
      "    https://scikit-learn.org/stable/modules/preprocessing.html\n",
      "Please also refer to the documentation for alternative solver options:\n",
      "    https://scikit-learn.org/stable/modules/linear_model.html#logistic-regression\n",
      "  n_iter_i = _check_optimize_result(\n",
      "/home/solanojacon/.pyenv/versions/3.8.12/envs/4tune/lib/python3.8/site-packages/sklearn/linear_model/_sag.py:329: ConvergenceWarning: The max_iter was reached which means the coef_ did not converge\n",
      "  warnings.warn(\"The max_iter was reached which means \"\n",
      "/home/solanojacon/.pyenv/versions/3.8.12/envs/4tune/lib/python3.8/site-packages/sklearn/linear_model/_sag.py:329: ConvergenceWarning: The max_iter was reached which means the coef_ did not converge\n",
      "  warnings.warn(\"The max_iter was reached which means \"\n",
      "/home/solanojacon/.pyenv/versions/3.8.12/envs/4tune/lib/python3.8/site-packages/sklearn/linear_model/_logistic.py:1320: UserWarning: Setting penalty='none' will ignore the C and l1_ratio parameters\n",
      "  warnings.warn(\n",
      "/home/solanojacon/.pyenv/versions/3.8.12/envs/4tune/lib/python3.8/site-packages/sklearn/linear_model/_sag.py:329: ConvergenceWarning: The max_iter was reached which means the coef_ did not converge\n",
      "  warnings.warn(\"The max_iter was reached which means \"\n",
      "/home/solanojacon/.pyenv/versions/3.8.12/envs/4tune/lib/python3.8/site-packages/sklearn/linear_model/_logistic.py:1320: UserWarning: Setting penalty='none' will ignore the C and l1_ratio parameters\n",
      "  warnings.warn(\n",
      "/home/solanojacon/.pyenv/versions/3.8.12/envs/4tune/lib/python3.8/site-packages/sklearn/linear_model/_sag.py:329: ConvergenceWarning: The max_iter was reached which means the coef_ did not converge\n",
      "  warnings.warn(\"The max_iter was reached which means \"\n",
      "/home/solanojacon/.pyenv/versions/3.8.12/envs/4tune/lib/python3.8/site-packages/sklearn/model_selection/_validation.py:548: FitFailedWarning: Estimator fit failed. The score on this train-test partition for these parameters will be set to nan. Details: \n",
      "Traceback (most recent call last):\n",
      "  File \"/home/solanojacon/.pyenv/versions/3.8.12/envs/4tune/lib/python3.8/site-packages/sklearn/model_selection/_validation.py\", line 531, in _fit_and_score\n",
      "    estimator.fit(X_train, y_train, **fit_params)\n",
      "  File \"/home/solanojacon/.pyenv/versions/3.8.12/envs/4tune/lib/python3.8/site-packages/sklearn/linear_model/_logistic.py\", line 1304, in fit\n",
      "    solver = _check_solver(self.solver, self.penalty, self.dual)\n",
      "  File \"/home/solanojacon/.pyenv/versions/3.8.12/envs/4tune/lib/python3.8/site-packages/sklearn/linear_model/_logistic.py\", line 442, in _check_solver\n",
      "    raise ValueError(\"Solver %s supports only 'l2' or 'none' penalties, \"\n",
      "ValueError: Solver sag supports only 'l2' or 'none' penalties, got elasticnet penalty.\n",
      "\n",
      "  warnings.warn(\"Estimator fit failed. The score on this train-test\"\n",
      "/home/solanojacon/.pyenv/versions/3.8.12/envs/4tune/lib/python3.8/site-packages/sklearn/model_selection/_validation.py:548: FitFailedWarning: Estimator fit failed. The score on this train-test partition for these parameters will be set to nan. Details: \n",
      "Traceback (most recent call last):\n",
      "  File \"/home/solanojacon/.pyenv/versions/3.8.12/envs/4tune/lib/python3.8/site-packages/sklearn/model_selection/_validation.py\", line 531, in _fit_and_score\n",
      "    estimator.fit(X_train, y_train, **fit_params)\n",
      "  File \"/home/solanojacon/.pyenv/versions/3.8.12/envs/4tune/lib/python3.8/site-packages/sklearn/linear_model/_logistic.py\", line 1312, in fit\n",
      "    raise ValueError(\"l1_ratio must be between 0 and 1;\"\n",
      "ValueError: l1_ratio must be between 0 and 1; got (l1_ratio=None)\n",
      "\n",
      "  warnings.warn(\"Estimator fit failed. The score on this train-test\"\n",
      "/home/solanojacon/.pyenv/versions/3.8.12/envs/4tune/lib/python3.8/site-packages/sklearn/linear_model/_logistic.py:1320: UserWarning: Setting penalty='none' will ignore the C and l1_ratio parameters\n",
      "  warnings.warn(\n"
     ]
    }
   ],
   "source": [
    "fpr, tpr, thresholds = roc_curve(y_test, y_pred_proba_test[:, -1], pos_label=True)\n",
    "print(\"Area under ROC curve: {:0.2f}\".format(auc(fpr, tpr)))\n",
    "\n",
    "fig, ax = plt.subplots()\n",
    "lw = 2\n",
    "plt.plot(fpr, tpr, color='darkorange',\n",
    "         lw=lw, label='ROC curve (area = %0.2f)' % auc(fpr, tpr))\n",
    "plt.plot([0, 1], [0, 1], color='navy', lw=lw, linestyle='--')\n",
    "plt.title('Receiver Operating Characteristic (ROC) Curve')\n",
    "plt.xlabel('False Positive Rate')\n",
    "plt.ylabel('True Positive Rate')\n",
    "plt.xlim([0.0, 1.0])\n",
    "plt.ylim([0.0, 1.05])\n",
    "plt.legend(loc=\"lower right\")\n",
    "plt.show()"
   ]
  },
  {
   "cell_type": "markdown",
   "metadata": {
    "id": "8ZLRkqIXpMyT"
   },
   "source": [
    "## Resultado final com métricas de acertividade do algoritmo / *Final result with algorithm accuracy metrics*"
   ]
  },
  {
   "cell_type": "markdown",
   "metadata": {
    "id": "WwO5Mkp5pMyT"
   },
   "source": [
    "**O modelo escolhido apresentou um F1 score de 0,84 para os dados de teste (dados não vistos pelo modelo em seu treino).**\n",
    "\n",
    "***The chosen model presented an F1 score of 0.84 for the test data (data not seen by the model in its training).***"
   ]
  },
  {
   "cell_type": "markdown",
   "metadata": {
    "id": "32_ityRkpMyT"
   },
   "source": [
    "Análise da matriz de confusão apresentada:\n",
    "- A matriz de confusão acima mostra que **o modelo identificou 60.712 dos 63.578 leads que se tornaram compradores, que corresponde a 95,4%**.\n",
    "- A matriz de confusão acima mostra também que **o modelo identificou incorretamente 20.185 dos 112.064 leads que não se tornaram compradores, também chamado de falsos positivos, que corresponde a 18,0%**."
   ]
  },
  {
   "cell_type": "markdown",
   "metadata": {
    "id": "uHCGWNTGA8nJ"
   },
   "source": [
    "*Analysis of the presented confusion matrix:*\n",
    "\n",
    "- *The confusion matrix above shows that **the model identified 60,712 of the 63,578 leads that became buyers, which corresponds to 95.4%**.*\n",
    "- *The confusion matrix above also shows that **the model incorrectly identified 20,185 of the 112,064 leads that did not become buyers, also called false positives, which corresponds to 18.0%**.*"
   ]
  },
  {
   "cell_type": "markdown",
   "metadata": {
    "id": "Y3yXEEg8gx0u"
   },
   "source": [
    "## Fim / *End*"
   ]
  }
 ],
 "metadata": {
  "colab": {
   "collapsed_sections": [],
   "name": "Correlation_Between_Buyers_and_Leads.ipynb",
   "provenance": []
  },
  "hide_input": false,
  "kernelspec": {
   "display_name": "Python 3 (ipykernel)",
   "language": "python",
   "name": "python3"
  },
  "language_info": {
   "codemirror_mode": {
    "name": "ipython",
    "version": 3
   },
   "file_extension": ".py",
   "mimetype": "text/x-python",
   "name": "python",
   "nbconvert_exporter": "python",
   "pygments_lexer": "ipython3",
   "version": "3.8.12"
  },
  "toc": {
   "base_numbering": 1,
   "nav_menu": {},
   "number_sections": true,
   "sideBar": true,
   "skip_h1_title": false,
   "title_cell": "Table of Contents",
   "title_sidebar": "Contents",
   "toc_cell": false,
   "toc_position": {},
   "toc_section_display": true,
   "toc_window_display": false
  }
 },
 "nbformat": 4,
 "nbformat_minor": 1
}
