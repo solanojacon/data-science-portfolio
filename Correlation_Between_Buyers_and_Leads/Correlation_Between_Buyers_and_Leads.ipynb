{
 "cells": [
  {
   "cell_type": "markdown",
   "metadata": {
    "id": "qKX4qv7spMxs"
   },
   "source": [
    "# Correlação entre Compradores e Leads / *Correlation Between Buyers and Leads*\n",
    "# Desafio de Ciência de Dados / *Data Science Challenge*\n",
    "# Entrega / *Delivery*: Notebook\n",
    "# Desenvolvedor / *Developer*: Solano Jacon"
   ]
  },
  {
   "cell_type": "code",
   "execution_count": 5,
   "metadata": {
    "executionInfo": {
     "elapsed": 3882,
     "status": "ok",
     "timestamp": 1661286017414,
     "user": {
      "displayName": "Solano Jacon",
      "userId": "03193064938437592202"
     },
     "user_tz": 180
    },
    "id": "K6gAaw3Ngx0d"
   },
   "outputs": [],
   "source": [
    "import psycopg2 # if necessary, install psycopg2-binary library, NOT psycopg2\n",
    "import pandas as pd\n",
    "import numpy as np\n",
    "import matplotlib.pyplot as plt\n",
    "import itertools\n",
    "import pickle\n",
    "import warnings\n",
    "from sklearn.preprocessing import MinMaxScaler, OneHotEncoder\n",
    "from sklearn.model_selection import train_test_split, cross_validate\n",
    "from sklearn.dummy import DummyClassifier\n",
    "from sklearn.linear_model import LogisticRegression, SGDClassifier\n",
    "from sklearn.neighbors import KNeighborsClassifier\n",
    "from sklearn.svm import SVC\n",
    "from sklearn.tree import DecisionTreeClassifier\n",
    "from sklearn.ensemble import RandomForestClassifier, AdaBoostClassifier, GradientBoostingClassifier\n",
    "from xgboost import XGBClassifier\n",
    "from sklearn.metrics import classification_report, confusion_matrix, precision_recall_curve, auc, roc_curve\n",
    "from imblearn.over_sampling import SMOTE\n",
    "from sklearn.model_selection import GridSearchCV\n",
    "\n",
    "warnings.filterwarnings('ignore')"
   ]
  },
  {
   "cell_type": "markdown",
   "metadata": {
    "id": "eT6I_N9RpMxy"
   },
   "source": [
    "## Leitura dos dados e normalização / *Data reading and normalization*"
   ]
  },
  {
   "cell_type": "markdown",
   "metadata": {
    "id": "BYnO74wGpMxy"
   },
   "source": [
    "### Conexão com a base de dados e leitura dos dados / *Database connection and data reading*"
   ]
  },
  {
   "cell_type": "code",
   "execution_count": 6,
   "metadata": {
    "executionInfo": {
     "elapsed": 36,
     "status": "ok",
     "timestamp": 1661286017416,
     "user": {
      "displayName": "Solano Jacon",
      "userId": "03193064938437592202"
     },
     "user_tz": 180
    },
    "id": "ACNYmogppMx0"
   },
   "outputs": [],
   "source": [
    "# conn = psycopg2.connect(database='database',\n",
    "#                         host='host',\n",
    "#                         user='user',\n",
    "#                         password='password',\n",
    "#                         port='port')"
   ]
  },
  {
   "cell_type": "code",
   "execution_count": 7,
   "metadata": {
    "executionInfo": {
     "elapsed": 33,
     "status": "ok",
     "timestamp": 1661286017417,
     "user": {
      "displayName": "Solano Jacon",
      "userId": "03193064938437592202"
     },
     "user_tz": 180
    },
    "id": "XejEA2CbpMx0"
   },
   "outputs": [],
   "source": [
    "# sql = '''SELECT f.*, oi.id_pedido, oi.id\n",
    "#          FROM forms AS f\n",
    "#          LEFT OUTER JOIN order_items AS oi ON f.id_form=oi.id_form'''\n",
    "# data = pd.read_sql_query(sql, con=conn)"
   ]
  },
  {
   "cell_type": "code",
   "execution_count": 8,
   "metadata": {
    "executionInfo": {
     "elapsed": 9750,
     "status": "ok",
     "timestamp": 1661286027136,
     "user": {
      "displayName": "Solano Jacon",
      "userId": "03193064938437592202"
     },
     "user_tz": 180
    },
    "id": "ZLRaTbsxpMx1"
   },
   "outputs": [],
   "source": [
    "data = pd.read_csv('data/data.csv', index_col=0, encoding='iso-8859-1')"
   ]
  },
  {
   "cell_type": "code",
   "execution_count": 9,
   "metadata": {
    "executionInfo": {
     "elapsed": 476,
     "status": "ok",
     "timestamp": 1661286027607,
     "user": {
      "displayName": "Solano Jacon",
      "userId": "03193064938437592202"
     },
     "user_tz": 180
    },
    "id": "IsLiNAKmmRH_"
   },
   "outputs": [],
   "source": [
    "# SELEÇÃO DE UMA AMOSTRA DOS DADOS PARA REDUÇÃO DO CONSUMO DE MEMÓRIA\n",
    "# DATA SAMPLE SELECTION TO REDUCE MEMORY CONSUMPTION\n",
    "\n",
    "data = data.sample(frac=0.5, random_state=42)"
   ]
  },
  {
   "cell_type": "code",
   "execution_count": 10,
   "metadata": {
    "colab": {
     "base_uri": "https://localhost:8080/",
     "height": 424
    },
    "executionInfo": {
     "elapsed": 24,
     "status": "ok",
     "timestamp": 1661286027608,
     "user": {
      "displayName": "Solano Jacon",
      "userId": "03193064938437592202"
     },
     "user_tz": 180
    },
    "id": "qOW0H0WlpMx2",
    "outputId": "0f81b567-f152-498f-93c4-de5efa63d791"
   },
   "outputs": [
    {
     "data": {
      "text/html": [
       "\n",
       "  <div id=\"df-9e508052-07b1-4b7a-927b-e0814da076c9\">\n",
       "    <div class=\"colab-df-container\">\n",
       "      <div>\n",
       "<style scoped>\n",
       "    .dataframe tbody tr th:only-of-type {\n",
       "        vertical-align: middle;\n",
       "    }\n",
       "\n",
       "    .dataframe tbody tr th {\n",
       "        vertical-align: top;\n",
       "    }\n",
       "\n",
       "    .dataframe thead th {\n",
       "        text-align: right;\n",
       "    }\n",
       "</style>\n",
       "<table border=\"1\" class=\"dataframe\">\n",
       "  <thead>\n",
       "    <tr style=\"text-align: right;\">\n",
       "      <th></th>\n",
       "      <th>id_form</th>\n",
       "      <th>id_cliente</th>\n",
       "      <th>data</th>\n",
       "      <th>sistema_operacional</th>\n",
       "      <th>navegador</th>\n",
       "      <th>localizacao</th>\n",
       "      <th>locale</th>\n",
       "      <th>cidade</th>\n",
       "      <th>estado</th>\n",
       "    </tr>\n",
       "  </thead>\n",
       "  <tbody>\n",
       "    <tr>\n",
       "      <th>294324</th>\n",
       "      <td>909a67fefc16c0246d1964fd72ceee</td>\n",
       "      <td>4b12d82c9535a9b3d3f7</td>\n",
       "      <td>2022-04-01 15:14:50</td>\n",
       "      <td>Android</td>\n",
       "      <td>Chrome</td>\n",
       "      <td>São Paulo, Sao Paulo</td>\n",
       "      <td>BR</td>\n",
       "      <td>SÃO PAULO</td>\n",
       "      <td>SAO PAULO</td>\n",
       "    </tr>\n",
       "    <tr>\n",
       "      <th>543790</th>\n",
       "      <td>45621dadb08be3fe2fadd50a557f85</td>\n",
       "      <td>d2e4a3d45198f076d961</td>\n",
       "      <td>2022-06-17 23:01:52</td>\n",
       "      <td>iOS</td>\n",
       "      <td>NaN</td>\n",
       "      <td>Sao Joao de Meriti, Rio de Janeiro</td>\n",
       "      <td>BR</td>\n",
       "      <td>SAO JOAO DE MERITI</td>\n",
       "      <td>RIO DE JANEIRO</td>\n",
       "    </tr>\n",
       "    <tr>\n",
       "      <th>417082</th>\n",
       "      <td>82825d4e48571d1e43ccb0e9a35222</td>\n",
       "      <td>a469926e4bc08ba07015</td>\n",
       "      <td>2022-05-11 15:42:05</td>\n",
       "      <td>Android</td>\n",
       "      <td>Chrome</td>\n",
       "      <td>Cambira, Parana</td>\n",
       "      <td>BR</td>\n",
       "      <td>CAMBIRA</td>\n",
       "      <td>PARANA</td>\n",
       "    </tr>\n",
       "    <tr>\n",
       "      <th>211987</th>\n",
       "      <td>d3342a020ceef4ab92760abc83c4d4</td>\n",
       "      <td>77021d6ec61149ce7ccc</td>\n",
       "      <td>2022-02-25 15:17:41</td>\n",
       "      <td>Android</td>\n",
       "      <td>Chrome</td>\n",
       "      <td>Itanhaem, Sao Paulo</td>\n",
       "      <td>BR</td>\n",
       "      <td>ITANHAEM</td>\n",
       "      <td>SAO PAULO</td>\n",
       "    </tr>\n",
       "    <tr>\n",
       "      <th>186537</th>\n",
       "      <td>b238655cba8902f80a673f33016b71</td>\n",
       "      <td>983b4b8600c36e8c2f06</td>\n",
       "      <td>2022-02-15 19:35:52</td>\n",
       "      <td>iOS</td>\n",
       "      <td>NaN</td>\n",
       "      <td>São Paulo, Sao Paulo</td>\n",
       "      <td>BR</td>\n",
       "      <td>SÃO PAULO</td>\n",
       "      <td>SAO PAULO</td>\n",
       "    </tr>\n",
       "    <tr>\n",
       "      <th>...</th>\n",
       "      <td>...</td>\n",
       "      <td>...</td>\n",
       "      <td>...</td>\n",
       "      <td>...</td>\n",
       "      <td>...</td>\n",
       "      <td>...</td>\n",
       "      <td>...</td>\n",
       "      <td>...</td>\n",
       "      <td>...</td>\n",
       "    </tr>\n",
       "    <tr>\n",
       "      <th>506355</th>\n",
       "      <td>a0c9c0bea7a35becfa3f5fabc94c9d</td>\n",
       "      <td>36f1275ede26a1773b30</td>\n",
       "      <td>2022-06-02 17:40:10</td>\n",
       "      <td>Android</td>\n",
       "      <td>Chrome</td>\n",
       "      <td>São Paulo, Sao Paulo</td>\n",
       "      <td>BR</td>\n",
       "      <td>SÃO PAULO</td>\n",
       "      <td>SAO PAULO</td>\n",
       "    </tr>\n",
       "    <tr>\n",
       "      <th>480040</th>\n",
       "      <td>eda0c0539cf83f13449c94ec5085ec</td>\n",
       "      <td>55e533b13b7afb8b063d</td>\n",
       "      <td>2022-05-29 16:11:06</td>\n",
       "      <td>Android</td>\n",
       "      <td>Chrome</td>\n",
       "      <td>Rio Real, Bahia</td>\n",
       "      <td>BR</td>\n",
       "      <td>RIO REAL</td>\n",
       "      <td>BAHIA</td>\n",
       "    </tr>\n",
       "    <tr>\n",
       "      <th>362897</th>\n",
       "      <td>1904025a3721fc074b444898ec1969</td>\n",
       "      <td>247f32371752b04a9793</td>\n",
       "      <td>2022-04-24 17:25:02</td>\n",
       "      <td>iOS</td>\n",
       "      <td>Safari</td>\n",
       "      <td>São Paulo, Sao Paulo</td>\n",
       "      <td>BR</td>\n",
       "      <td>SÃO PAULO</td>\n",
       "      <td>SAO PAULO</td>\n",
       "    </tr>\n",
       "    <tr>\n",
       "      <th>230897</th>\n",
       "      <td>e5a44f7ecc4440d466770391509171</td>\n",
       "      <td>69a763e0553bcc259f6b</td>\n",
       "      <td>2022-03-05 19:02:45</td>\n",
       "      <td>Android</td>\n",
       "      <td>Chrome</td>\n",
       "      <td>Sobral, Ceara</td>\n",
       "      <td>BR</td>\n",
       "      <td>SOBRAL</td>\n",
       "      <td>CEARA</td>\n",
       "    </tr>\n",
       "    <tr>\n",
       "      <th>382088</th>\n",
       "      <td>f09b68803712c506976ef43b3da9d4</td>\n",
       "      <td>2e9d15b68486aca0fdb7</td>\n",
       "      <td>2022-04-30 10:16:20</td>\n",
       "      <td>Android</td>\n",
       "      <td>Chrome</td>\n",
       "      <td>São Paulo, Sao Paulo</td>\n",
       "      <td>BR</td>\n",
       "      <td>SÃO PAULO</td>\n",
       "      <td>SAO PAULO</td>\n",
       "    </tr>\n",
       "  </tbody>\n",
       "</table>\n",
       "<p>292736 rows × 9 columns</p>\n",
       "</div>\n",
       "      <button class=\"colab-df-convert\" onclick=\"convertToInteractive('df-9e508052-07b1-4b7a-927b-e0814da076c9')\"\n",
       "              title=\"Convert this dataframe to an interactive table.\"\n",
       "              style=\"display:none;\">\n",
       "        \n",
       "  <svg xmlns=\"http://www.w3.org/2000/svg\" height=\"24px\"viewBox=\"0 0 24 24\"\n",
       "       width=\"24px\">\n",
       "    <path d=\"M0 0h24v24H0V0z\" fill=\"none\"/>\n",
       "    <path d=\"M18.56 5.44l.94 2.06.94-2.06 2.06-.94-2.06-.94-.94-2.06-.94 2.06-2.06.94zm-11 1L8.5 8.5l.94-2.06 2.06-.94-2.06-.94L8.5 2.5l-.94 2.06-2.06.94zm10 10l.94 2.06.94-2.06 2.06-.94-2.06-.94-.94-2.06-.94 2.06-2.06.94z\"/><path d=\"M17.41 7.96l-1.37-1.37c-.4-.4-.92-.59-1.43-.59-.52 0-1.04.2-1.43.59L10.3 9.45l-7.72 7.72c-.78.78-.78 2.05 0 2.83L4 21.41c.39.39.9.59 1.41.59.51 0 1.02-.2 1.41-.59l7.78-7.78 2.81-2.81c.8-.78.8-2.07 0-2.86zM5.41 20L4 18.59l7.72-7.72 1.47 1.35L5.41 20z\"/>\n",
       "  </svg>\n",
       "      </button>\n",
       "      \n",
       "  <style>\n",
       "    .colab-df-container {\n",
       "      display:flex;\n",
       "      flex-wrap:wrap;\n",
       "      gap: 12px;\n",
       "    }\n",
       "\n",
       "    .colab-df-convert {\n",
       "      background-color: #E8F0FE;\n",
       "      border: none;\n",
       "      border-radius: 50%;\n",
       "      cursor: pointer;\n",
       "      display: none;\n",
       "      fill: #1967D2;\n",
       "      height: 32px;\n",
       "      padding: 0 0 0 0;\n",
       "      width: 32px;\n",
       "    }\n",
       "\n",
       "    .colab-df-convert:hover {\n",
       "      background-color: #E2EBFA;\n",
       "      box-shadow: 0px 1px 2px rgba(60, 64, 67, 0.3), 0px 1px 3px 1px rgba(60, 64, 67, 0.15);\n",
       "      fill: #174EA6;\n",
       "    }\n",
       "\n",
       "    [theme=dark] .colab-df-convert {\n",
       "      background-color: #3B4455;\n",
       "      fill: #D2E3FC;\n",
       "    }\n",
       "\n",
       "    [theme=dark] .colab-df-convert:hover {\n",
       "      background-color: #434B5C;\n",
       "      box-shadow: 0px 1px 3px 1px rgba(0, 0, 0, 0.15);\n",
       "      filter: drop-shadow(0px 1px 2px rgba(0, 0, 0, 0.3));\n",
       "      fill: #FFFFFF;\n",
       "    }\n",
       "  </style>\n",
       "\n",
       "      <script>\n",
       "        const buttonEl =\n",
       "          document.querySelector('#df-9e508052-07b1-4b7a-927b-e0814da076c9 button.colab-df-convert');\n",
       "        buttonEl.style.display =\n",
       "          google.colab.kernel.accessAllowed ? 'block' : 'none';\n",
       "\n",
       "        async function convertToInteractive(key) {\n",
       "          const element = document.querySelector('#df-9e508052-07b1-4b7a-927b-e0814da076c9');\n",
       "          const dataTable =\n",
       "            await google.colab.kernel.invokeFunction('convertToInteractive',\n",
       "                                                     [key], {});\n",
       "          if (!dataTable) return;\n",
       "\n",
       "          const docLinkHtml = 'Like what you see? Visit the ' +\n",
       "            '<a target=\"_blank\" href=https://colab.research.google.com/notebooks/data_table.ipynb>data table notebook</a>'\n",
       "            + ' to learn more about interactive tables.';\n",
       "          element.innerHTML = '';\n",
       "          dataTable['output_type'] = 'display_data';\n",
       "          await google.colab.output.renderOutput(dataTable, element);\n",
       "          const docLink = document.createElement('div');\n",
       "          docLink.innerHTML = docLinkHtml;\n",
       "          element.appendChild(docLink);\n",
       "        }\n",
       "      </script>\n",
       "    </div>\n",
       "  </div>\n",
       "  "
      ],
      "text/plain": [
       "                               id_form            id_cliente  \\\n",
       "294324  909a67fefc16c0246d1964fd72ceee  4b12d82c9535a9b3d3f7   \n",
       "543790  45621dadb08be3fe2fadd50a557f85  d2e4a3d45198f076d961   \n",
       "417082  82825d4e48571d1e43ccb0e9a35222  a469926e4bc08ba07015   \n",
       "211987  d3342a020ceef4ab92760abc83c4d4  77021d6ec61149ce7ccc   \n",
       "186537  b238655cba8902f80a673f33016b71  983b4b8600c36e8c2f06   \n",
       "...                                ...                   ...   \n",
       "506355  a0c9c0bea7a35becfa3f5fabc94c9d  36f1275ede26a1773b30   \n",
       "480040  eda0c0539cf83f13449c94ec5085ec  55e533b13b7afb8b063d   \n",
       "362897  1904025a3721fc074b444898ec1969  247f32371752b04a9793   \n",
       "230897  e5a44f7ecc4440d466770391509171  69a763e0553bcc259f6b   \n",
       "382088  f09b68803712c506976ef43b3da9d4  2e9d15b68486aca0fdb7   \n",
       "\n",
       "                       data sistema_operacional navegador  \\\n",
       "294324  2022-04-01 15:14:50             Android    Chrome   \n",
       "543790  2022-06-17 23:01:52                 iOS       NaN   \n",
       "417082  2022-05-11 15:42:05             Android    Chrome   \n",
       "211987  2022-02-25 15:17:41             Android    Chrome   \n",
       "186537  2022-02-15 19:35:52                 iOS       NaN   \n",
       "...                     ...                 ...       ...   \n",
       "506355  2022-06-02 17:40:10             Android    Chrome   \n",
       "480040  2022-05-29 16:11:06             Android    Chrome   \n",
       "362897  2022-04-24 17:25:02                 iOS    Safari   \n",
       "230897  2022-03-05 19:02:45             Android    Chrome   \n",
       "382088  2022-04-30 10:16:20             Android    Chrome   \n",
       "\n",
       "                               localizacao locale              cidade  \\\n",
       "294324                São Paulo, Sao Paulo     BR           SÃO PAULO   \n",
       "543790  Sao Joao de Meriti, Rio de Janeiro     BR  SAO JOAO DE MERITI   \n",
       "417082                     Cambira, Parana     BR             CAMBIRA   \n",
       "211987                 Itanhaem, Sao Paulo     BR            ITANHAEM   \n",
       "186537                São Paulo, Sao Paulo     BR           SÃO PAULO   \n",
       "...                                    ...    ...                 ...   \n",
       "506355                São Paulo, Sao Paulo     BR           SÃO PAULO   \n",
       "480040                     Rio Real, Bahia     BR            RIO REAL   \n",
       "362897                São Paulo, Sao Paulo     BR           SÃO PAULO   \n",
       "230897                       Sobral, Ceara     BR              SOBRAL   \n",
       "382088                São Paulo, Sao Paulo     BR           SÃO PAULO   \n",
       "\n",
       "                 estado  \n",
       "294324        SAO PAULO  \n",
       "543790   RIO DE JANEIRO  \n",
       "417082           PARANA  \n",
       "211987        SAO PAULO  \n",
       "186537        SAO PAULO  \n",
       "...                 ...  \n",
       "506355        SAO PAULO  \n",
       "480040            BAHIA  \n",
       "362897        SAO PAULO  \n",
       "230897            CEARA  \n",
       "382088        SAO PAULO  \n",
       "\n",
       "[292736 rows x 9 columns]"
      ]
     },
     "execution_count": 10,
     "metadata": {},
     "output_type": "execute_result"
    }
   ],
   "source": [
    "data.iloc[:, :9]"
   ]
  },
  {
   "cell_type": "code",
   "execution_count": 11,
   "metadata": {
    "colab": {
     "base_uri": "https://localhost:8080/",
     "height": 424
    },
    "executionInfo": {
     "elapsed": 18,
     "status": "ok",
     "timestamp": 1661286027608,
     "user": {
      "displayName": "Solano Jacon",
      "userId": "03193064938437592202"
     },
     "user_tz": 180
    },
    "id": "ao7t6fsYpMx3",
    "outputId": "65f8b403-be37-44b5-92b9-9280de65202b"
   },
   "outputs": [
    {
     "data": {
      "text/html": [
       "\n",
       "  <div id=\"df-3d0cc408-83a8-48fa-96cf-ea84b4571714\">\n",
       "    <div class=\"colab-df-container\">\n",
       "      <div>\n",
       "<style scoped>\n",
       "    .dataframe tbody tr th:only-of-type {\n",
       "        vertical-align: middle;\n",
       "    }\n",
       "\n",
       "    .dataframe tbody tr th {\n",
       "        vertical-align: top;\n",
       "    }\n",
       "\n",
       "    .dataframe thead th {\n",
       "        text-align: right;\n",
       "    }\n",
       "</style>\n",
       "<table border=\"1\" class=\"dataframe\">\n",
       "  <thead>\n",
       "    <tr style=\"text-align: right;\">\n",
       "      <th></th>\n",
       "      <th>qtde_lavagem_semana</th>\n",
       "      <th>utm_source</th>\n",
       "      <th>tipo_cabelo</th>\n",
       "      <th>comprimento</th>\n",
       "      <th>tipo_fios</th>\n",
       "      <th>procedimentos</th>\n",
       "      <th>tempo_procedimento</th>\n",
       "      <th>dieta</th>\n",
       "      <th>atividade_fisica</th>\n",
       "    </tr>\n",
       "  </thead>\n",
       "  <tbody>\n",
       "    <tr>\n",
       "      <th>294324</th>\n",
       "      <td>4</td>\n",
       "      <td>influencer</td>\n",
       "      <td>Tipo 2</td>\n",
       "      <td>Muito curto</td>\n",
       "      <td>Secos</td>\n",
       "      <td>Exposição ao sol, Tintura, Corte agressivo</td>\n",
       "      <td>Há 2 semanas</td>\n",
       "      <td>Celíaca</td>\n",
       "      <td>Raramente</td>\n",
       "    </tr>\n",
       "    <tr>\n",
       "      <th>543790</th>\n",
       "      <td>2</td>\n",
       "      <td>facebook</td>\n",
       "      <td>Tipo 4</td>\n",
       "      <td>Raíz exposta</td>\n",
       "      <td>Pontas duplas</td>\n",
       "      <td>Exposição ao sol</td>\n",
       "      <td>Há 1 semana</td>\n",
       "      <td>Celíaca</td>\n",
       "      <td>Frequente</td>\n",
       "    </tr>\n",
       "    <tr>\n",
       "      <th>417082</th>\n",
       "      <td>2</td>\n",
       "      <td>influencer</td>\n",
       "      <td>Tipo 2</td>\n",
       "      <td>Raíz exposta</td>\n",
       "      <td>Secos</td>\n",
       "      <td>Tintura, Corte agressivo</td>\n",
       "      <td>Há 2 semanas</td>\n",
       "      <td>Celíaca</td>\n",
       "      <td>N/C</td>\n",
       "    </tr>\n",
       "    <tr>\n",
       "      <th>211987</th>\n",
       "      <td>1</td>\n",
       "      <td>influencer</td>\n",
       "      <td>Tipo 4</td>\n",
       "      <td>Raíz exposta</td>\n",
       "      <td>Rebeldes</td>\n",
       "      <td>Tintura, Nenhum, Corte agressivo</td>\n",
       "      <td>Há 2 semanas</td>\n",
       "      <td>Celíaca</td>\n",
       "      <td>Raramente</td>\n",
       "    </tr>\n",
       "    <tr>\n",
       "      <th>186537</th>\n",
       "      <td>4</td>\n",
       "      <td>facebook</td>\n",
       "      <td>Tipo 4</td>\n",
       "      <td>Raíz exposta</td>\n",
       "      <td>Secos</td>\n",
       "      <td>Exposição ao sol, Nenhum, Tintura, Corte agres...</td>\n",
       "      <td>Há 1 semana</td>\n",
       "      <td>Nenhuma restrição</td>\n",
       "      <td>Raramente</td>\n",
       "    </tr>\n",
       "    <tr>\n",
       "      <th>...</th>\n",
       "      <td>...</td>\n",
       "      <td>...</td>\n",
       "      <td>...</td>\n",
       "      <td>...</td>\n",
       "      <td>...</td>\n",
       "      <td>...</td>\n",
       "      <td>...</td>\n",
       "      <td>...</td>\n",
       "      <td>...</td>\n",
       "    </tr>\n",
       "    <tr>\n",
       "      <th>506355</th>\n",
       "      <td>3</td>\n",
       "      <td>influencer</td>\n",
       "      <td>Tipo 2</td>\n",
       "      <td>Longo</td>\n",
       "      <td>Perfeitos</td>\n",
       "      <td>Todos acima</td>\n",
       "      <td>Há mais de 1 mês</td>\n",
       "      <td>Celíaca</td>\n",
       "      <td>Raramente</td>\n",
       "    </tr>\n",
       "    <tr>\n",
       "      <th>480040</th>\n",
       "      <td>1</td>\n",
       "      <td>google</td>\n",
       "      <td>Tipo 4</td>\n",
       "      <td>Raíz exposta</td>\n",
       "      <td>Pontas duplas</td>\n",
       "      <td>Tintura</td>\n",
       "      <td>Há 1 semana</td>\n",
       "      <td>Celíaca</td>\n",
       "      <td>Raramente</td>\n",
       "    </tr>\n",
       "    <tr>\n",
       "      <th>362897</th>\n",
       "      <td>4</td>\n",
       "      <td>google</td>\n",
       "      <td>Tipo 4</td>\n",
       "      <td>Raíz exposta</td>\n",
       "      <td>Rebeldes</td>\n",
       "      <td>Todos acima</td>\n",
       "      <td>Há mais de 1 mês</td>\n",
       "      <td>Celíaca</td>\n",
       "      <td>Raramente</td>\n",
       "    </tr>\n",
       "    <tr>\n",
       "      <th>230897</th>\n",
       "      <td>2</td>\n",
       "      <td>instagram</td>\n",
       "      <td>Tipo 2</td>\n",
       "      <td>Extra longo</td>\n",
       "      <td>Secos</td>\n",
       "      <td>Tintura</td>\n",
       "      <td>Há 1 semana</td>\n",
       "      <td>Leve</td>\n",
       "      <td>Frequente</td>\n",
       "    </tr>\n",
       "    <tr>\n",
       "      <th>382088</th>\n",
       "      <td>1</td>\n",
       "      <td>facebook</td>\n",
       "      <td>Tipo 1</td>\n",
       "      <td>Raíz exposta</td>\n",
       "      <td>Secos</td>\n",
       "      <td>Tintura, Corte agressivo, Nenhum, Exposição ao...</td>\n",
       "      <td>Há 1 semana</td>\n",
       "      <td>Celíaca</td>\n",
       "      <td>Raramente</td>\n",
       "    </tr>\n",
       "  </tbody>\n",
       "</table>\n",
       "<p>292736 rows × 9 columns</p>\n",
       "</div>\n",
       "      <button class=\"colab-df-convert\" onclick=\"convertToInteractive('df-3d0cc408-83a8-48fa-96cf-ea84b4571714')\"\n",
       "              title=\"Convert this dataframe to an interactive table.\"\n",
       "              style=\"display:none;\">\n",
       "        \n",
       "  <svg xmlns=\"http://www.w3.org/2000/svg\" height=\"24px\"viewBox=\"0 0 24 24\"\n",
       "       width=\"24px\">\n",
       "    <path d=\"M0 0h24v24H0V0z\" fill=\"none\"/>\n",
       "    <path d=\"M18.56 5.44l.94 2.06.94-2.06 2.06-.94-2.06-.94-.94-2.06-.94 2.06-2.06.94zm-11 1L8.5 8.5l.94-2.06 2.06-.94-2.06-.94L8.5 2.5l-.94 2.06-2.06.94zm10 10l.94 2.06.94-2.06 2.06-.94-2.06-.94-.94-2.06-.94 2.06-2.06.94z\"/><path d=\"M17.41 7.96l-1.37-1.37c-.4-.4-.92-.59-1.43-.59-.52 0-1.04.2-1.43.59L10.3 9.45l-7.72 7.72c-.78.78-.78 2.05 0 2.83L4 21.41c.39.39.9.59 1.41.59.51 0 1.02-.2 1.41-.59l7.78-7.78 2.81-2.81c.8-.78.8-2.07 0-2.86zM5.41 20L4 18.59l7.72-7.72 1.47 1.35L5.41 20z\"/>\n",
       "  </svg>\n",
       "      </button>\n",
       "      \n",
       "  <style>\n",
       "    .colab-df-container {\n",
       "      display:flex;\n",
       "      flex-wrap:wrap;\n",
       "      gap: 12px;\n",
       "    }\n",
       "\n",
       "    .colab-df-convert {\n",
       "      background-color: #E8F0FE;\n",
       "      border: none;\n",
       "      border-radius: 50%;\n",
       "      cursor: pointer;\n",
       "      display: none;\n",
       "      fill: #1967D2;\n",
       "      height: 32px;\n",
       "      padding: 0 0 0 0;\n",
       "      width: 32px;\n",
       "    }\n",
       "\n",
       "    .colab-df-convert:hover {\n",
       "      background-color: #E2EBFA;\n",
       "      box-shadow: 0px 1px 2px rgba(60, 64, 67, 0.3), 0px 1px 3px 1px rgba(60, 64, 67, 0.15);\n",
       "      fill: #174EA6;\n",
       "    }\n",
       "\n",
       "    [theme=dark] .colab-df-convert {\n",
       "      background-color: #3B4455;\n",
       "      fill: #D2E3FC;\n",
       "    }\n",
       "\n",
       "    [theme=dark] .colab-df-convert:hover {\n",
       "      background-color: #434B5C;\n",
       "      box-shadow: 0px 1px 3px 1px rgba(0, 0, 0, 0.15);\n",
       "      filter: drop-shadow(0px 1px 2px rgba(0, 0, 0, 0.3));\n",
       "      fill: #FFFFFF;\n",
       "    }\n",
       "  </style>\n",
       "\n",
       "      <script>\n",
       "        const buttonEl =\n",
       "          document.querySelector('#df-3d0cc408-83a8-48fa-96cf-ea84b4571714 button.colab-df-convert');\n",
       "        buttonEl.style.display =\n",
       "          google.colab.kernel.accessAllowed ? 'block' : 'none';\n",
       "\n",
       "        async function convertToInteractive(key) {\n",
       "          const element = document.querySelector('#df-3d0cc408-83a8-48fa-96cf-ea84b4571714');\n",
       "          const dataTable =\n",
       "            await google.colab.kernel.invokeFunction('convertToInteractive',\n",
       "                                                     [key], {});\n",
       "          if (!dataTable) return;\n",
       "\n",
       "          const docLinkHtml = 'Like what you see? Visit the ' +\n",
       "            '<a target=\"_blank\" href=https://colab.research.google.com/notebooks/data_table.ipynb>data table notebook</a>'\n",
       "            + ' to learn more about interactive tables.';\n",
       "          element.innerHTML = '';\n",
       "          dataTable['output_type'] = 'display_data';\n",
       "          await google.colab.output.renderOutput(dataTable, element);\n",
       "          const docLink = document.createElement('div');\n",
       "          docLink.innerHTML = docLinkHtml;\n",
       "          element.appendChild(docLink);\n",
       "        }\n",
       "      </script>\n",
       "    </div>\n",
       "  </div>\n",
       "  "
      ],
      "text/plain": [
       "        qtde_lavagem_semana  utm_source tipo_cabelo   comprimento  \\\n",
       "294324                    4  influencer      Tipo 2   Muito curto   \n",
       "543790                    2    facebook      Tipo 4  Raíz exposta   \n",
       "417082                    2  influencer      Tipo 2  Raíz exposta   \n",
       "211987                    1  influencer      Tipo 4  Raíz exposta   \n",
       "186537                    4    facebook      Tipo 4  Raíz exposta   \n",
       "...                     ...         ...         ...           ...   \n",
       "506355                    3  influencer      Tipo 2         Longo   \n",
       "480040                    1      google      Tipo 4  Raíz exposta   \n",
       "362897                    4      google      Tipo 4  Raíz exposta   \n",
       "230897                    2   instagram      Tipo 2   Extra longo   \n",
       "382088                    1    facebook      Tipo 1  Raíz exposta   \n",
       "\n",
       "            tipo_fios                                      procedimentos  \\\n",
       "294324          Secos         Exposição ao sol, Tintura, Corte agressivo   \n",
       "543790  Pontas duplas                                   Exposição ao sol   \n",
       "417082          Secos                           Tintura, Corte agressivo   \n",
       "211987       Rebeldes                   Tintura, Nenhum, Corte agressivo   \n",
       "186537          Secos  Exposição ao sol, Nenhum, Tintura, Corte agres...   \n",
       "...               ...                                                ...   \n",
       "506355      Perfeitos                                        Todos acima   \n",
       "480040  Pontas duplas                                            Tintura   \n",
       "362897       Rebeldes                                        Todos acima   \n",
       "230897          Secos                                            Tintura   \n",
       "382088          Secos  Tintura, Corte agressivo, Nenhum, Exposição ao...   \n",
       "\n",
       "       tempo_procedimento              dieta atividade_fisica  \n",
       "294324       Há 2 semanas            Celíaca        Raramente  \n",
       "543790        Há 1 semana            Celíaca        Frequente  \n",
       "417082       Há 2 semanas            Celíaca              N/C  \n",
       "211987       Há 2 semanas            Celíaca        Raramente  \n",
       "186537        Há 1 semana  Nenhuma restrição        Raramente  \n",
       "...                   ...                ...              ...  \n",
       "506355   Há mais de 1 mês            Celíaca        Raramente  \n",
       "480040        Há 1 semana            Celíaca        Raramente  \n",
       "362897   Há mais de 1 mês            Celíaca        Raramente  \n",
       "230897        Há 1 semana               Leve        Frequente  \n",
       "382088        Há 1 semana            Celíaca        Raramente  \n",
       "\n",
       "[292736 rows x 9 columns]"
      ]
     },
     "execution_count": 11,
     "metadata": {},
     "output_type": "execute_result"
    }
   ],
   "source": [
    "data.iloc[:, 9:18]"
   ]
  },
  {
   "cell_type": "code",
   "execution_count": 12,
   "metadata": {
    "colab": {
     "base_uri": "https://localhost:8080/",
     "height": 424
    },
    "executionInfo": {
     "elapsed": 15,
     "status": "ok",
     "timestamp": 1661286027609,
     "user": {
      "displayName": "Solano Jacon",
      "userId": "03193064938437592202"
     },
     "user_tz": 180
    },
    "id": "wpjdSahVpMx3",
    "outputId": "481f3cb2-0e6f-44db-d052-67d860a76c10"
   },
   "outputs": [
    {
     "data": {
      "text/html": [
       "\n",
       "  <div id=\"df-bcf216d0-b9b2-48df-b4a7-7a3549509b24\">\n",
       "    <div class=\"colab-df-container\">\n",
       "      <div>\n",
       "<style scoped>\n",
       "    .dataframe tbody tr th:only-of-type {\n",
       "        vertical-align: middle;\n",
       "    }\n",
       "\n",
       "    .dataframe tbody tr th {\n",
       "        vertical-align: top;\n",
       "    }\n",
       "\n",
       "    .dataframe thead th {\n",
       "        text-align: right;\n",
       "    }\n",
       "</style>\n",
       "<table border=\"1\" class=\"dataframe\">\n",
       "  <thead>\n",
       "    <tr style=\"text-align: right;\">\n",
       "      <th></th>\n",
       "      <th>frequencia_estresse</th>\n",
       "      <th>caracteristica</th>\n",
       "      <th>faixa_etaria</th>\n",
       "      <th>efeitos_desejados</th>\n",
       "      <th>fragancia</th>\n",
       "      <th>id_pedido</th>\n",
       "      <th>id</th>\n",
       "    </tr>\n",
       "  </thead>\n",
       "  <tbody>\n",
       "    <tr>\n",
       "      <th>294324</th>\n",
       "      <td>Nunca</td>\n",
       "      <td>Característica 6</td>\n",
       "      <td>25 a 34</td>\n",
       "      <td>Efeito 6, Efeito 2, Efeito 8, Efeito 1</td>\n",
       "      <td>Rosas</td>\n",
       "      <td>NaN</td>\n",
       "      <td>NaN</td>\n",
       "    </tr>\n",
       "    <tr>\n",
       "      <th>543790</th>\n",
       "      <td>Nunca</td>\n",
       "      <td>Característica 3</td>\n",
       "      <td>25 a 34</td>\n",
       "      <td>Efeito 6, Efeito 4, Efeito 3, Efeito 7, Efeito 8</td>\n",
       "      <td>Eucalipto</td>\n",
       "      <td>NaN</td>\n",
       "      <td>NaN</td>\n",
       "    </tr>\n",
       "    <tr>\n",
       "      <th>417082</th>\n",
       "      <td>Uma vez por mês</td>\n",
       "      <td>Característica 3, Característica 8</td>\n",
       "      <td>25 a 34</td>\n",
       "      <td>Efeito 6, Efeito 7, Efeito 2, Efeito 4</td>\n",
       "      <td>Eucalipto</td>\n",
       "      <td>14f73eddf8b6692</td>\n",
       "      <td>546112.0</td>\n",
       "    </tr>\n",
       "    <tr>\n",
       "      <th>211987</th>\n",
       "      <td>Regularmente</td>\n",
       "      <td>Característica 1, Característica 3, Caracterís...</td>\n",
       "      <td>18 a 24</td>\n",
       "      <td>Efeito 6, Efeito 1, Efeito 3, Efeito 7</td>\n",
       "      <td>Eucalipto</td>\n",
       "      <td>NaN</td>\n",
       "      <td>NaN</td>\n",
       "    </tr>\n",
       "    <tr>\n",
       "      <th>186537</th>\n",
       "      <td>Regularmente</td>\n",
       "      <td>Característica 1, Característica 10, Caracterí...</td>\n",
       "      <td>35 a 44</td>\n",
       "      <td>Efeito 2, Efeito 10, Efeito 4, Efeito 5, Efeito 7</td>\n",
       "      <td>Eucalipto</td>\n",
       "      <td>a6fe3b735978a92</td>\n",
       "      <td>495517.0</td>\n",
       "    </tr>\n",
       "    <tr>\n",
       "      <th>...</th>\n",
       "      <td>...</td>\n",
       "      <td>...</td>\n",
       "      <td>...</td>\n",
       "      <td>...</td>\n",
       "      <td>...</td>\n",
       "      <td>...</td>\n",
       "      <td>...</td>\n",
       "    </tr>\n",
       "    <tr>\n",
       "      <th>506355</th>\n",
       "      <td>Nunca</td>\n",
       "      <td>Característica 3</td>\n",
       "      <td>25 a 34</td>\n",
       "      <td>Efeito 2, Efeito 1, Efeito 4</td>\n",
       "      <td>Eucalipto</td>\n",
       "      <td>8a3138734d5c20b</td>\n",
       "      <td>564407.0</td>\n",
       "    </tr>\n",
       "    <tr>\n",
       "      <th>480040</th>\n",
       "      <td>Uma vez por mês</td>\n",
       "      <td>Característica 3</td>\n",
       "      <td>25 a 34</td>\n",
       "      <td>Efeito 6, Efeito 8, Efeito 4</td>\n",
       "      <td>Eucalipto</td>\n",
       "      <td>NaN</td>\n",
       "      <td>NaN</td>\n",
       "    </tr>\n",
       "    <tr>\n",
       "      <th>362897</th>\n",
       "      <td>Nunca</td>\n",
       "      <td>Característica 8</td>\n",
       "      <td>25 a 34</td>\n",
       "      <td>Efeito 7, Efeito 1</td>\n",
       "      <td>Eucalipto</td>\n",
       "      <td>NaN</td>\n",
       "      <td>NaN</td>\n",
       "    </tr>\n",
       "    <tr>\n",
       "      <th>230897</th>\n",
       "      <td>Uma vez por mês</td>\n",
       "      <td>Característica 3, Característica 9</td>\n",
       "      <td>35 a 44</td>\n",
       "      <td>Efeito 6, Efeito 4, Efeito 1, Efeito 3, Efeito 7</td>\n",
       "      <td>Rosas</td>\n",
       "      <td>NaN</td>\n",
       "      <td>NaN</td>\n",
       "    </tr>\n",
       "    <tr>\n",
       "      <th>382088</th>\n",
       "      <td>Uma vez por mês</td>\n",
       "      <td>Característica 2</td>\n",
       "      <td>25 a 34</td>\n",
       "      <td>Efeito 6, Efeito 7</td>\n",
       "      <td>Rosas</td>\n",
       "      <td>d833ea459949107</td>\n",
       "      <td>543056.0</td>\n",
       "    </tr>\n",
       "  </tbody>\n",
       "</table>\n",
       "<p>292736 rows × 7 columns</p>\n",
       "</div>\n",
       "      <button class=\"colab-df-convert\" onclick=\"convertToInteractive('df-bcf216d0-b9b2-48df-b4a7-7a3549509b24')\"\n",
       "              title=\"Convert this dataframe to an interactive table.\"\n",
       "              style=\"display:none;\">\n",
       "        \n",
       "  <svg xmlns=\"http://www.w3.org/2000/svg\" height=\"24px\"viewBox=\"0 0 24 24\"\n",
       "       width=\"24px\">\n",
       "    <path d=\"M0 0h24v24H0V0z\" fill=\"none\"/>\n",
       "    <path d=\"M18.56 5.44l.94 2.06.94-2.06 2.06-.94-2.06-.94-.94-2.06-.94 2.06-2.06.94zm-11 1L8.5 8.5l.94-2.06 2.06-.94-2.06-.94L8.5 2.5l-.94 2.06-2.06.94zm10 10l.94 2.06.94-2.06 2.06-.94-2.06-.94-.94-2.06-.94 2.06-2.06.94z\"/><path d=\"M17.41 7.96l-1.37-1.37c-.4-.4-.92-.59-1.43-.59-.52 0-1.04.2-1.43.59L10.3 9.45l-7.72 7.72c-.78.78-.78 2.05 0 2.83L4 21.41c.39.39.9.59 1.41.59.51 0 1.02-.2 1.41-.59l7.78-7.78 2.81-2.81c.8-.78.8-2.07 0-2.86zM5.41 20L4 18.59l7.72-7.72 1.47 1.35L5.41 20z\"/>\n",
       "  </svg>\n",
       "      </button>\n",
       "      \n",
       "  <style>\n",
       "    .colab-df-container {\n",
       "      display:flex;\n",
       "      flex-wrap:wrap;\n",
       "      gap: 12px;\n",
       "    }\n",
       "\n",
       "    .colab-df-convert {\n",
       "      background-color: #E8F0FE;\n",
       "      border: none;\n",
       "      border-radius: 50%;\n",
       "      cursor: pointer;\n",
       "      display: none;\n",
       "      fill: #1967D2;\n",
       "      height: 32px;\n",
       "      padding: 0 0 0 0;\n",
       "      width: 32px;\n",
       "    }\n",
       "\n",
       "    .colab-df-convert:hover {\n",
       "      background-color: #E2EBFA;\n",
       "      box-shadow: 0px 1px 2px rgba(60, 64, 67, 0.3), 0px 1px 3px 1px rgba(60, 64, 67, 0.15);\n",
       "      fill: #174EA6;\n",
       "    }\n",
       "\n",
       "    [theme=dark] .colab-df-convert {\n",
       "      background-color: #3B4455;\n",
       "      fill: #D2E3FC;\n",
       "    }\n",
       "\n",
       "    [theme=dark] .colab-df-convert:hover {\n",
       "      background-color: #434B5C;\n",
       "      box-shadow: 0px 1px 3px 1px rgba(0, 0, 0, 0.15);\n",
       "      filter: drop-shadow(0px 1px 2px rgba(0, 0, 0, 0.3));\n",
       "      fill: #FFFFFF;\n",
       "    }\n",
       "  </style>\n",
       "\n",
       "      <script>\n",
       "        const buttonEl =\n",
       "          document.querySelector('#df-bcf216d0-b9b2-48df-b4a7-7a3549509b24 button.colab-df-convert');\n",
       "        buttonEl.style.display =\n",
       "          google.colab.kernel.accessAllowed ? 'block' : 'none';\n",
       "\n",
       "        async function convertToInteractive(key) {\n",
       "          const element = document.querySelector('#df-bcf216d0-b9b2-48df-b4a7-7a3549509b24');\n",
       "          const dataTable =\n",
       "            await google.colab.kernel.invokeFunction('convertToInteractive',\n",
       "                                                     [key], {});\n",
       "          if (!dataTable) return;\n",
       "\n",
       "          const docLinkHtml = 'Like what you see? Visit the ' +\n",
       "            '<a target=\"_blank\" href=https://colab.research.google.com/notebooks/data_table.ipynb>data table notebook</a>'\n",
       "            + ' to learn more about interactive tables.';\n",
       "          element.innerHTML = '';\n",
       "          dataTable['output_type'] = 'display_data';\n",
       "          await google.colab.output.renderOutput(dataTable, element);\n",
       "          const docLink = document.createElement('div');\n",
       "          docLink.innerHTML = docLinkHtml;\n",
       "          element.appendChild(docLink);\n",
       "        }\n",
       "      </script>\n",
       "    </div>\n",
       "  </div>\n",
       "  "
      ],
      "text/plain": [
       "       frequencia_estresse                                     caracteristica  \\\n",
       "294324               Nunca                                   Característica 6   \n",
       "543790               Nunca                                   Característica 3   \n",
       "417082     Uma vez por mês                 Característica 3, Característica 8   \n",
       "211987        Regularmente  Característica 1, Característica 3, Caracterís...   \n",
       "186537        Regularmente  Característica 1, Característica 10, Caracterí...   \n",
       "...                    ...                                                ...   \n",
       "506355               Nunca                                   Característica 3   \n",
       "480040     Uma vez por mês                                   Característica 3   \n",
       "362897               Nunca                                   Característica 8   \n",
       "230897     Uma vez por mês                 Característica 3, Característica 9   \n",
       "382088     Uma vez por mês                                   Característica 2   \n",
       "\n",
       "       faixa_etaria                                  efeitos_desejados  \\\n",
       "294324      25 a 34             Efeito 6, Efeito 2, Efeito 8, Efeito 1   \n",
       "543790      25 a 34   Efeito 6, Efeito 4, Efeito 3, Efeito 7, Efeito 8   \n",
       "417082      25 a 34             Efeito 6, Efeito 7, Efeito 2, Efeito 4   \n",
       "211987      18 a 24             Efeito 6, Efeito 1, Efeito 3, Efeito 7   \n",
       "186537      35 a 44  Efeito 2, Efeito 10, Efeito 4, Efeito 5, Efeito 7   \n",
       "...             ...                                                ...   \n",
       "506355      25 a 34                       Efeito 2, Efeito 1, Efeito 4   \n",
       "480040      25 a 34                       Efeito 6, Efeito 8, Efeito 4   \n",
       "362897      25 a 34                                 Efeito 7, Efeito 1   \n",
       "230897      35 a 44   Efeito 6, Efeito 4, Efeito 1, Efeito 3, Efeito 7   \n",
       "382088      25 a 34                                 Efeito 6, Efeito 7   \n",
       "\n",
       "        fragancia        id_pedido        id  \n",
       "294324      Rosas              NaN       NaN  \n",
       "543790  Eucalipto              NaN       NaN  \n",
       "417082  Eucalipto  14f73eddf8b6692  546112.0  \n",
       "211987  Eucalipto              NaN       NaN  \n",
       "186537  Eucalipto  a6fe3b735978a92  495517.0  \n",
       "...           ...              ...       ...  \n",
       "506355  Eucalipto  8a3138734d5c20b  564407.0  \n",
       "480040  Eucalipto              NaN       NaN  \n",
       "362897  Eucalipto              NaN       NaN  \n",
       "230897      Rosas              NaN       NaN  \n",
       "382088      Rosas  d833ea459949107  543056.0  \n",
       "\n",
       "[292736 rows x 7 columns]"
      ]
     },
     "execution_count": 12,
     "metadata": {},
     "output_type": "execute_result"
    }
   ],
   "source": [
    "data.iloc[:, 18:]"
   ]
  },
  {
   "cell_type": "code",
   "execution_count": 13,
   "metadata": {
    "colab": {
     "base_uri": "https://localhost:8080/"
    },
    "executionInfo": {
     "elapsed": 620,
     "status": "ok",
     "timestamp": 1661286028217,
     "user": {
      "displayName": "Solano Jacon",
      "userId": "03193064938437592202"
     },
     "user_tz": 180
    },
    "id": "N-FXuBW-pMx3",
    "outputId": "fa9bdba2-c597-4b46-bcab-5bf7a79ed942"
   },
   "outputs": [
    {
     "name": "stdout",
     "output_type": "stream",
     "text": [
      "<class 'pandas.core.frame.DataFrame'>\n",
      "Int64Index: 292736 entries, 294324 to 382088\n",
      "Data columns (total 25 columns):\n",
      " #   Column               Non-Null Count   Dtype  \n",
      "---  ------               --------------   -----  \n",
      " 0   id_form              292736 non-null  object \n",
      " 1   id_cliente           292736 non-null  object \n",
      " 2   data                 292736 non-null  object \n",
      " 3   sistema_operacional  292736 non-null  object \n",
      " 4   navegador            226585 non-null  object \n",
      " 5   localizacao          292736 non-null  object \n",
      " 6   locale               292736 non-null  object \n",
      " 7   cidade               282930 non-null  object \n",
      " 8   estado               292616 non-null  object \n",
      " 9   qtde_lavagem_semana  292736 non-null  int64  \n",
      " 10  utm_source           254729 non-null  object \n",
      " 11  tipo_cabelo          292736 non-null  object \n",
      " 12  comprimento          292736 non-null  object \n",
      " 13  tipo_fios            292736 non-null  object \n",
      " 14  procedimentos        292736 non-null  object \n",
      " 15  tempo_procedimento   292736 non-null  object \n",
      " 16  dieta                292736 non-null  object \n",
      " 17  atividade_fisica     292736 non-null  object \n",
      " 18  frequencia_estresse  292736 non-null  object \n",
      " 19  caracteristica       292736 non-null  object \n",
      " 20  faixa_etaria         292736 non-null  object \n",
      " 21  efeitos_desejados    292095 non-null  object \n",
      " 22  fragancia            292736 non-null  object \n",
      " 23  id_pedido            105835 non-null  object \n",
      " 24  id                   105835 non-null  float64\n",
      "dtypes: float64(1), int64(1), object(23)\n",
      "memory usage: 58.1+ MB\n"
     ]
    }
   ],
   "source": [
    "data.info()"
   ]
  },
  {
   "cell_type": "code",
   "execution_count": 14,
   "metadata": {
    "colab": {
     "base_uri": "https://localhost:8080/"
    },
    "executionInfo": {
     "elapsed": 483,
     "status": "ok",
     "timestamp": 1661286028698,
     "user": {
      "displayName": "Solano Jacon",
      "userId": "03193064938437592202"
     },
     "user_tz": 180
    },
    "id": "vpuNffH0pMx4",
    "outputId": "1476769d-65f1-4871-d938-02cbf07c28c9"
   },
   "outputs": [
    {
     "data": {
      "text/plain": [
       "id_form                     0\n",
       "id_cliente                  0\n",
       "data                        0\n",
       "sistema_operacional         0\n",
       "navegador               66151\n",
       "localizacao                 0\n",
       "locale                      0\n",
       "cidade                   9806\n",
       "estado                    120\n",
       "qtde_lavagem_semana         0\n",
       "utm_source              38007\n",
       "tipo_cabelo                 0\n",
       "comprimento                 0\n",
       "tipo_fios                   0\n",
       "procedimentos               0\n",
       "tempo_procedimento          0\n",
       "dieta                       0\n",
       "atividade_fisica            0\n",
       "frequencia_estresse         0\n",
       "caracteristica              0\n",
       "faixa_etaria                0\n",
       "efeitos_desejados         641\n",
       "fragancia                   0\n",
       "id_pedido              186901\n",
       "id                     186901\n",
       "dtype: int64"
      ]
     },
     "execution_count": 14,
     "metadata": {},
     "output_type": "execute_result"
    }
   ],
   "source": [
    "data.isna().sum()"
   ]
  },
  {
   "cell_type": "code",
   "execution_count": 15,
   "metadata": {
    "executionInfo": {
     "elapsed": 623,
     "status": "ok",
     "timestamp": 1661286029314,
     "user": {
      "displayName": "Solano Jacon",
      "userId": "03193064938437592202"
     },
     "user_tz": 180
    },
    "id": "T25moZS6pMx4"
   },
   "outputs": [],
   "source": [
    "data = data.fillna(value=np.nan)"
   ]
  },
  {
   "cell_type": "code",
   "execution_count": 16,
   "metadata": {
    "executionInfo": {
     "elapsed": 1822,
     "status": "ok",
     "timestamp": 1661286031132,
     "user": {
      "displayName": "Solano Jacon",
      "userId": "03193064938437592202"
     },
     "user_tz": 180
    },
    "id": "UIK7C8uIpMx4"
   },
   "outputs": [],
   "source": [
    "caracteres_especiais = ['\\u014c', '\\u014d', '\\u0160', '\\u0161']\n",
    "caracteres_substitutos = ['O', 'o', 'S', 's']\n",
    "\n",
    "for caractere_especial, caractere_substituto in zip(caracteres_especiais, caracteres_substitutos):\n",
    "    data.loc[data['localizacao'].notna(), 'localizacao'] = data.loc[data['localizacao'].notna(), 'localizacao'].apply(lambda x: x.replace(caractere_especial, caractere_substituto))\n",
    "    data.loc[data['cidade'].notna(), 'cidade'] = data.loc[data['cidade'].notna(), 'cidade'].apply(lambda x: x.replace(caractere_especial, caractere_substituto))\n",
    "    data.loc[data['estado'].notna(), 'estado'] = data.loc[data['estado'].notna(), 'estado'].apply(lambda x: x.replace(caractere_especial, caractere_substituto))"
   ]
  },
  {
   "cell_type": "code",
   "execution_count": 17,
   "metadata": {
    "executionInfo": {
     "elapsed": 6,
     "status": "ok",
     "timestamp": 1661286031132,
     "user": {
      "displayName": "Solano Jacon",
      "userId": "03193064938437592202"
     },
     "user_tz": 180
    },
    "id": "F4gLj7oopMx5"
   },
   "outputs": [],
   "source": [
    "# data.to_csv('data/data.csv', encoding='iso-8859-1')"
   ]
  },
  {
   "cell_type": "markdown",
   "metadata": {
    "id": "7YqZugEdpMx5"
   },
   "source": [
    "### Análise dos Dados / *Data Analysis*"
   ]
  },
  {
   "cell_type": "code",
   "execution_count": 18,
   "metadata": {
    "colab": {
     "base_uri": "https://localhost:8080/",
     "height": 35
    },
    "executionInfo": {
     "elapsed": 6,
     "status": "ok",
     "timestamp": 1661286031132,
     "user": {
      "displayName": "Solano Jacon",
      "userId": "03193064938437592202"
     },
     "user_tz": 180
    },
    "id": "Vf2zjdAFpMx5",
    "outputId": "6f2fd29c-8a7d-48d1-87a0-da1bf8a0af3e"
   },
   "outputs": [
    {
     "data": {
      "application/vnd.google.colaboratory.intrinsic+json": {
       "type": "string"
      },
      "text/plain": [
       "'2022-01-01 00:24:36'"
      ]
     },
     "execution_count": 18,
     "metadata": {},
     "output_type": "execute_result"
    }
   ],
   "source": [
    "data['data'].min()"
   ]
  },
  {
   "cell_type": "code",
   "execution_count": 19,
   "metadata": {
    "colab": {
     "base_uri": "https://localhost:8080/",
     "height": 35
    },
    "executionInfo": {
     "elapsed": 9,
     "status": "ok",
     "timestamp": 1661286031461,
     "user": {
      "displayName": "Solano Jacon",
      "userId": "03193064938437592202"
     },
     "user_tz": 180
    },
    "id": "GLOkN6I5pMx6",
    "outputId": "6ac3635f-bba4-495c-9f77-35e9edd28630"
   },
   "outputs": [
    {
     "data": {
      "application/vnd.google.colaboratory.intrinsic+json": {
       "type": "string"
      },
      "text/plain": [
       "'2022-06-30 23:57:47'"
      ]
     },
     "execution_count": 19,
     "metadata": {},
     "output_type": "execute_result"
    }
   ],
   "source": [
    "data['data'].max()"
   ]
  },
  {
   "cell_type": "code",
   "execution_count": 20,
   "metadata": {
    "colab": {
     "base_uri": "https://localhost:8080/"
    },
    "executionInfo": {
     "elapsed": 9,
     "status": "ok",
     "timestamp": 1661286031462,
     "user": {
      "displayName": "Solano Jacon",
      "userId": "03193064938437592202"
     },
     "user_tz": 180
    },
    "id": "n__HoGeNpMx6",
    "outputId": "d0cf8ed7-8b06-451f-918f-79dd820589a0"
   },
   "outputs": [
    {
     "data": {
      "text/plain": [
       "Android      0.597128\n",
       "iOS          0.331380\n",
       "Windows      0.063515\n",
       "Mac OS       0.005356\n",
       "Linux        0.002244\n",
       " ChromeOS    0.000376\n",
       "Name: sistema_operacional, dtype: float64"
      ]
     },
     "execution_count": 20,
     "metadata": {},
     "output_type": "execute_result"
    }
   ],
   "source": [
    "data['sistema_operacional'].value_counts(normalize=True, dropna=False)"
   ]
  },
  {
   "cell_type": "code",
   "execution_count": 21,
   "metadata": {
    "colab": {
     "base_uri": "https://localhost:8080/"
    },
    "executionInfo": {
     "elapsed": 7,
     "status": "ok",
     "timestamp": 1661286031462,
     "user": {
      "displayName": "Solano Jacon",
      "userId": "03193064938437592202"
     },
     "user_tz": 180
    },
    "id": "YH-cTRD4pMx6",
    "outputId": "3a5f180c-2318-46ed-8177-b0ee487ac0de"
   },
   "outputs": [
    {
     "data": {
      "text/plain": [
       "Chrome            0.657657\n",
       "NaN               0.225975\n",
       "Safari            0.101351\n",
       "ChromeiOS         0.006562\n",
       "ChromiumEdge      0.004137\n",
       "Firefox           0.002910\n",
       "Opera             0.001387\n",
       "MSEdge            0.000017\n",
       "Yandex.Browser    0.000003\n",
       "Name: navegador, dtype: float64"
      ]
     },
     "execution_count": 21,
     "metadata": {},
     "output_type": "execute_result"
    }
   ],
   "source": [
    "data['navegador'].value_counts(normalize=True, dropna=False)"
   ]
  },
  {
   "cell_type": "code",
   "execution_count": 22,
   "metadata": {
    "colab": {
     "base_uri": "https://localhost:8080/"
    },
    "executionInfo": {
     "elapsed": 6,
     "status": "ok",
     "timestamp": 1661286031463,
     "user": {
      "displayName": "Solano Jacon",
      "userId": "03193064938437592202"
     },
     "user_tz": 180
    },
    "id": "-rsuMyJ2pMx7",
    "outputId": "a2ec1440-bcd2-4d61-ce80-3ef7e6529e35"
   },
   "outputs": [
    {
     "data": {
      "text/plain": [
       "São Paulo, Sao Paulo                  0.128030\n",
       "Rio de Janeiro, Rio de Janeiro        0.045290\n",
       "Belo Horizonte, Minas Gerais          0.025122\n",
       "null, null                            0.023841\n",
       "Brasília, Federal District            0.023639\n",
       "                                        ...   \n",
       "Cachoeira do Brumado, Minas Gerais    0.000003\n",
       "Mariapolis, Sao Paulo                 0.000003\n",
       "Arandu, Sao Paulo                     0.000003\n",
       "Tokyo, Tokyo                          0.000003\n",
       "Regensdorf, Zurich                    0.000003\n",
       "Name: localizacao, Length: 4978, dtype: float64"
      ]
     },
     "execution_count": 22,
     "metadata": {},
     "output_type": "execute_result"
    }
   ],
   "source": [
    "data['localizacao'].value_counts(normalize=True, dropna=False)"
   ]
  },
  {
   "cell_type": "code",
   "execution_count": 23,
   "metadata": {
    "colab": {
     "base_uri": "https://localhost:8080/"
    },
    "executionInfo": {
     "elapsed": 443,
     "status": "ok",
     "timestamp": 1661286031901,
     "user": {
      "displayName": "Solano Jacon",
      "userId": "03193064938437592202"
     },
     "user_tz": 180
    },
    "id": "yvqYNn2RpMx7",
    "outputId": "684bd4c5-ece0-4080-b211-a3dc0eab65ab"
   },
   "outputs": [
    {
     "data": {
      "text/plain": [
       "BR    1.0\n",
       "Name: locale, dtype: float64"
      ]
     },
     "execution_count": 23,
     "metadata": {},
     "output_type": "execute_result"
    }
   ],
   "source": [
    "data['locale'].value_counts(normalize=True, dropna=False)"
   ]
  },
  {
   "cell_type": "code",
   "execution_count": 24,
   "metadata": {
    "colab": {
     "base_uri": "https://localhost:8080/"
    },
    "executionInfo": {
     "elapsed": 12,
     "status": "ok",
     "timestamp": 1661286031901,
     "user": {
      "displayName": "Solano Jacon",
      "userId": "03193064938437592202"
     },
     "user_tz": 180
    },
    "id": "DCUBxvVjpMx7",
    "outputId": "7cc20a09-9ad4-45d9-aa11-cfe29b05833c"
   },
   "outputs": [
    {
     "data": {
      "text/plain": [
       "SÃO PAULO               0.128030\n",
       "RIO DE JANEIRO          0.045290\n",
       "NaN                     0.033498\n",
       "BELO HORIZONTE          0.025146\n",
       "BRASÍLIA                0.023639\n",
       "                          ...   \n",
       "SAN FRANCISCO           0.000003\n",
       "IGUALADA                0.000003\n",
       "CACHOEIRA DO BRUMADO    0.000003\n",
       "MARIAPOLIS              0.000003\n",
       "REGENSDORF              0.000003\n",
       "Name: cidade, Length: 4673, dtype: float64"
      ]
     },
     "execution_count": 24,
     "metadata": {},
     "output_type": "execute_result"
    }
   ],
   "source": [
    "data['cidade'].value_counts(normalize=True, dropna=False)"
   ]
  },
  {
   "cell_type": "code",
   "execution_count": 25,
   "metadata": {
    "colab": {
     "base_uri": "https://localhost:8080/"
    },
    "executionInfo": {
     "elapsed": 10,
     "status": "ok",
     "timestamp": 1661286031902,
     "user": {
      "displayName": "Solano Jacon",
      "userId": "03193064938437592202"
     },
     "user_tz": 180
    },
    "id": "4oIejGeVpMx8",
    "outputId": "cde2eafb-aabf-4ee8-8af8-aca44ccce135"
   },
   "outputs": [
    {
     "data": {
      "text/plain": [
       " SAO PAULO                0.323271\n",
       " MINAS GERAIS             0.089661\n",
       " RIO DE JANEIRO           0.083925\n",
       " PARANA                   0.061807\n",
       " RIO GRANDE DO SUL        0.050762\n",
       "                            ...   \n",
       " SHIGA                    0.000003\n",
       " SALTA                    0.000003\n",
       " DEPARTAMENTO DE ROCHA    0.000003\n",
       " CALABRIA                 0.000003\n",
       " JURA                     0.000003\n",
       "Name: estado, Length: 263, dtype: float64"
      ]
     },
     "execution_count": 25,
     "metadata": {},
     "output_type": "execute_result"
    }
   ],
   "source": [
    "data['estado'].value_counts(normalize=True, dropna=False)"
   ]
  },
  {
   "cell_type": "code",
   "execution_count": 26,
   "metadata": {
    "colab": {
     "base_uri": "https://localhost:8080/"
    },
    "executionInfo": {
     "elapsed": 8,
     "status": "ok",
     "timestamp": 1661286031902,
     "user": {
      "displayName": "Solano Jacon",
      "userId": "03193064938437592202"
     },
     "user_tz": 180
    },
    "id": "EUbq5I8bpMx8",
    "outputId": "45965142-e3e4-4ff4-d12a-01083c01198f"
   },
   "outputs": [
    {
     "data": {
      "text/plain": [
       "4    0.321023\n",
       "1    0.268098\n",
       "2    0.160756\n",
       "6    0.082371\n",
       "5    0.079809\n",
       "3    0.053577\n",
       "7    0.034365\n",
       "Name: qtde_lavagem_semana, dtype: float64"
      ]
     },
     "execution_count": 26,
     "metadata": {},
     "output_type": "execute_result"
    }
   ],
   "source": [
    "data['qtde_lavagem_semana'].value_counts(normalize=True, dropna=False)"
   ]
  },
  {
   "cell_type": "code",
   "execution_count": 27,
   "metadata": {
    "colab": {
     "base_uri": "https://localhost:8080/"
    },
    "executionInfo": {
     "elapsed": 7,
     "status": "ok",
     "timestamp": 1661286031902,
     "user": {
      "displayName": "Solano Jacon",
      "userId": "03193064938437592202"
     },
     "user_tz": 180
    },
    "id": "NODf33hHpMx8",
    "outputId": "4011023f-28df-463c-b87b-b334022c4682"
   },
   "outputs": [
    {
     "data": {
      "text/plain": [
       "influencer         0.317019\n",
       "facebook           0.206203\n",
       "NaN                0.129834\n",
       "google             0.086464\n",
       "sf_wpp_camp        0.066292\n",
       "linktree           0.054298\n",
       "instagram          0.046831\n",
       "sf_email_camp      0.036890\n",
       "sf_wpp_flux        0.025023\n",
       "rakuten            0.007860\n",
       "IGShopping         0.007853\n",
       "email_sf           0.003983\n",
       "blog               0.003088\n",
       "tiktok             0.002050\n",
       "microinfluencer    0.001817\n",
       "adwords            0.001606\n",
       "site               0.001363\n",
       "sf_email_flux      0.000926\n",
       "meliuz             0.000174\n",
       "incicacao          0.000133\n",
       "salesforce         0.000130\n",
       "whatsapp           0.000051\n",
       "sendinblue         0.000031\n",
       "sf_sms_camp        0.000017\n",
       "telegram           0.000014\n",
       "sf_wpp_flu         0.000010\n",
       "facebook           0.000007\n",
       "cpc                0.000007\n",
       "uaubox             0.000007\n",
       "sms                0.000007\n",
       "teste_source       0.000003\n",
       "santander          0.000003\n",
       "sf_                0.000003\n",
       "Facebook ads       0.000003\n",
       "Name: utm_source, dtype: float64"
      ]
     },
     "execution_count": 27,
     "metadata": {},
     "output_type": "execute_result"
    }
   ],
   "source": [
    "data['utm_source'].value_counts(normalize=True, dropna=False)"
   ]
  },
  {
   "cell_type": "code",
   "execution_count": 28,
   "metadata": {
    "colab": {
     "base_uri": "https://localhost:8080/"
    },
    "executionInfo": {
     "elapsed": 5,
     "status": "ok",
     "timestamp": 1661286031902,
     "user": {
      "displayName": "Solano Jacon",
      "userId": "03193064938437592202"
     },
     "user_tz": 180
    },
    "id": "ewSohPfVpMx8",
    "outputId": "ac171a19-2b4d-4f92-f159-df08cf27e218"
   },
   "outputs": [
    {
     "data": {
      "text/plain": [
       "Tipo 1    0.422237\n",
       "Tipo 2    0.363618\n",
       "Tipo 4    0.173689\n",
       "Tipo 3    0.040456\n",
       "Name: tipo_cabelo, dtype: float64"
      ]
     },
     "execution_count": 28,
     "metadata": {},
     "output_type": "execute_result"
    }
   ],
   "source": [
    "data['tipo_cabelo'].value_counts(normalize=True, dropna=False)"
   ]
  },
  {
   "cell_type": "code",
   "execution_count": 29,
   "metadata": {
    "colab": {
     "base_uri": "https://localhost:8080/"
    },
    "executionInfo": {
     "elapsed": 351,
     "status": "ok",
     "timestamp": 1661286032250,
     "user": {
      "displayName": "Solano Jacon",
      "userId": "03193064938437592202"
     },
     "user_tz": 180
    },
    "id": "_GHJjqlCpMx8",
    "outputId": "567d6433-1587-4688-f154-f943eb4ba79c"
   },
   "outputs": [
    {
     "data": {
      "text/plain": [
       "Muito curto     0.473129\n",
       "Raíz exposta    0.355935\n",
       "Longo           0.124067\n",
       "Extra longo     0.046868\n",
       "Name: comprimento, dtype: float64"
      ]
     },
     "execution_count": 29,
     "metadata": {},
     "output_type": "execute_result"
    }
   ],
   "source": [
    "data['comprimento'].value_counts(normalize=True, dropna=False)"
   ]
  },
  {
   "cell_type": "code",
   "execution_count": 30,
   "metadata": {
    "colab": {
     "base_uri": "https://localhost:8080/"
    },
    "executionInfo": {
     "elapsed": 17,
     "status": "ok",
     "timestamp": 1661286032251,
     "user": {
      "displayName": "Solano Jacon",
      "userId": "03193064938437592202"
     },
     "user_tz": 180
    },
    "id": "tBFii0dHpMx9",
    "outputId": "b8d301fa-158e-4153-d78a-717dc338995b"
   },
   "outputs": [
    {
     "data": {
      "text/plain": [
       "Secos            0.571385\n",
       "Pontas duplas    0.169098\n",
       "Rebeldes         0.167438\n",
       "Perfeitos        0.092080\n",
       "Name: tipo_fios, dtype: float64"
      ]
     },
     "execution_count": 30,
     "metadata": {},
     "output_type": "execute_result"
    }
   ],
   "source": [
    "data['tipo_fios'].value_counts(normalize=True, dropna=False)"
   ]
  },
  {
   "cell_type": "code",
   "execution_count": 31,
   "metadata": {
    "colab": {
     "base_uri": "https://localhost:8080/"
    },
    "executionInfo": {
     "elapsed": 15,
     "status": "ok",
     "timestamp": 1661286032251,
     "user": {
      "displayName": "Solano Jacon",
      "userId": "03193064938437592202"
     },
     "user_tz": 180
    },
    "id": "lCAT4xVjpMx9",
    "outputId": "5a5fec24-bdb3-4f80-ba5b-bab61b4cf5f9"
   },
   "outputs": [
    {
     "data": {
      "text/plain": [
       "Corte agressivo                                       0.183052\n",
       "Todos acima                                           0.153476\n",
       "Tintura                                               0.086337\n",
       "Exposição ao sol                                      0.080298\n",
       "Tintura, Corte agressivo                              0.077391\n",
       "                                                        ...   \n",
       "Corte agressivo, Exposição ao sol, Tintura, Nenhum    0.000304\n",
       "Exposição ao sol, Tintura, Nenhum                     0.000284\n",
       "Exposição ao sol, Corte agressivo, Nenhum, Tintura    0.000266\n",
       "Exposição ao sol, Tintura, Nenhum, Corte agressivo    0.000184\n",
       "N/C                                                   0.000003\n",
       "Name: procedimentos, Length: 66, dtype: float64"
      ]
     },
     "execution_count": 31,
     "metadata": {},
     "output_type": "execute_result"
    }
   ],
   "source": [
    "data['procedimentos'].value_counts(normalize=True, dropna=False)"
   ]
  },
  {
   "cell_type": "code",
   "execution_count": 32,
   "metadata": {
    "colab": {
     "base_uri": "https://localhost:8080/"
    },
    "executionInfo": {
     "elapsed": 13,
     "status": "ok",
     "timestamp": 1661286032251,
     "user": {
      "displayName": "Solano Jacon",
      "userId": "03193064938437592202"
     },
     "user_tz": 180
    },
    "id": "VFemGQNspMx9",
    "outputId": "ff8037f8-6733-4453-9e56-e689d353ffb4"
   },
   "outputs": [
    {
     "data": {
      "text/plain": [
       "Há 2 semanas               0.331613\n",
       "Há 1 semana                0.273243\n",
       "Há mais de 1 mês           0.185491\n",
       "Há 1 mês                   0.116730\n",
       "Não houve procedimentos    0.092923\n",
       "Name: tempo_procedimento, dtype: float64"
      ]
     },
     "execution_count": 32,
     "metadata": {},
     "output_type": "execute_result"
    }
   ],
   "source": [
    "data['tempo_procedimento'].value_counts(normalize=True, dropna=False)"
   ]
  },
  {
   "cell_type": "code",
   "execution_count": 33,
   "metadata": {
    "colab": {
     "base_uri": "https://localhost:8080/"
    },
    "executionInfo": {
     "elapsed": 12,
     "status": "ok",
     "timestamp": 1661286032252,
     "user": {
      "displayName": "Solano Jacon",
      "userId": "03193064938437592202"
     },
     "user_tz": 180
    },
    "id": "RP2uXpGXpMx9",
    "outputId": "26ce02aa-768c-4a81-ba1a-793a9621dda5"
   },
   "outputs": [
    {
     "data": {
      "text/plain": [
       "Celíaca                  0.720321\n",
       "Nenhuma restrição        0.217852\n",
       "Intolerante a lactose    0.044088\n",
       "Leve                     0.017740\n",
       "Name: dieta, dtype: float64"
      ]
     },
     "execution_count": 33,
     "metadata": {},
     "output_type": "execute_result"
    }
   ],
   "source": [
    "data['dieta'].value_counts(normalize=True, dropna=False)"
   ]
  },
  {
   "cell_type": "code",
   "execution_count": 34,
   "metadata": {
    "colab": {
     "base_uri": "https://localhost:8080/"
    },
    "executionInfo": {
     "elapsed": 12,
     "status": "ok",
     "timestamp": 1661286032253,
     "user": {
      "displayName": "Solano Jacon",
      "userId": "03193064938437592202"
     },
     "user_tz": 180
    },
    "id": "Y29MMCfKpMx9",
    "outputId": "56215ba5-9134-4202-da03-c4a5153a204d"
   },
   "outputs": [
    {
     "data": {
      "text/plain": [
       "Raramente    0.525620\n",
       "Frequente    0.282548\n",
       "Sempre       0.094341\n",
       "N/C          0.084253\n",
       "Nunca        0.013237\n",
       "Name: atividade_fisica, dtype: float64"
      ]
     },
     "execution_count": 34,
     "metadata": {},
     "output_type": "execute_result"
    }
   ],
   "source": [
    "data['atividade_fisica'].value_counts(normalize=True, dropna=False)"
   ]
  },
  {
   "cell_type": "code",
   "execution_count": 35,
   "metadata": {
    "colab": {
     "base_uri": "https://localhost:8080/"
    },
    "executionInfo": {
     "elapsed": 10,
     "status": "ok",
     "timestamp": 1661286032253,
     "user": {
      "displayName": "Solano Jacon",
      "userId": "03193064938437592202"
     },
     "user_tz": 180
    },
    "id": "ej4JUM31pMx-",
    "outputId": "de9415d8-5b93-4aef-f3a0-c975be161d63"
   },
   "outputs": [
    {
     "data": {
      "text/plain": [
       "Uma vez por mês    0.523936\n",
       "Nunca              0.410858\n",
       "Regularmente       0.060447\n",
       "Quase sempre       0.004759\n",
       "Name: frequencia_estresse, dtype: float64"
      ]
     },
     "execution_count": 35,
     "metadata": {},
     "output_type": "execute_result"
    }
   ],
   "source": [
    "data['frequencia_estresse'].value_counts(normalize=True, dropna=False)"
   ]
  },
  {
   "cell_type": "code",
   "execution_count": 36,
   "metadata": {
    "colab": {
     "base_uri": "https://localhost:8080/"
    },
    "executionInfo": {
     "elapsed": 9,
     "status": "ok",
     "timestamp": 1661286032253,
     "user": {
      "displayName": "Solano Jacon",
      "userId": "03193064938437592202"
     },
     "user_tz": 180
    },
    "id": "LH9uYP6opMx-",
    "outputId": "c30203de-e946-4182-f8e7-5450f926029c"
   },
   "outputs": [
    {
     "data": {
      "text/plain": [
       "Característica 3                                                                             0.267808\n",
       "Característica 7                                                                             0.103124\n",
       "Característica 1                                                                             0.093730\n",
       "Característica 3, Característica 8                                                           0.085388\n",
       "Característica 2                                                                             0.040268\n",
       "                                                                                               ...   \n",
       "Característica 1, Característica 8, Característica 4, Característica 10                      0.000003\n",
       "Característica 1, Característica 10, Característica 6                                        0.000003\n",
       "Característica 3, Característica 10, Característica 4, Característica 6, Característica 1    0.000003\n",
       "Característica 1, Característica 8, Característica 2, Característica 10                      0.000003\n",
       "Característica 1, Característica 3, Característica 6, Característica 4                       0.000003\n",
       "Name: caracteristica, Length: 1532, dtype: float64"
      ]
     },
     "execution_count": 36,
     "metadata": {},
     "output_type": "execute_result"
    }
   ],
   "source": [
    "data['caracteristica'].value_counts(normalize=True, dropna=False)"
   ]
  },
  {
   "cell_type": "code",
   "execution_count": 37,
   "metadata": {
    "colab": {
     "base_uri": "https://localhost:8080/"
    },
    "executionInfo": {
     "elapsed": 329,
     "status": "ok",
     "timestamp": 1661286032575,
     "user": {
      "displayName": "Solano Jacon",
      "userId": "03193064938437592202"
     },
     "user_tz": 180
    },
    "id": "-tSl0bwdpMx-",
    "outputId": "8bfa76e2-4170-4196-f40d-7563451f3d8a"
   },
   "outputs": [
    {
     "data": {
      "text/plain": [
       "25 a 34    0.368376\n",
       "18 a 24    0.270530\n",
       "35 a 44    0.190568\n",
       "45 a 54    0.068420\n",
       "11 a 17    0.067645\n",
       "55 a 64    0.021340\n",
       "2 a 10     0.007372\n",
       "65+        0.005749\n",
       "Name: faixa_etaria, dtype: float64"
      ]
     },
     "execution_count": 37,
     "metadata": {},
     "output_type": "execute_result"
    }
   ],
   "source": [
    "data['faixa_etaria'].value_counts(normalize=True, dropna=False)"
   ]
  },
  {
   "cell_type": "code",
   "execution_count": 38,
   "metadata": {
    "colab": {
     "base_uri": "https://localhost:8080/"
    },
    "executionInfo": {
     "elapsed": 12,
     "status": "ok",
     "timestamp": 1661286032576,
     "user": {
      "displayName": "Solano Jacon",
      "userId": "03193064938437592202"
     },
     "user_tz": 180
    },
    "id": "h-ftYprypMx-",
    "outputId": "c0539c83-a025-443f-8b30-b8f9d1168fbd"
   },
   "outputs": [
    {
     "data": {
      "text/plain": [
       "Efeito 6, Efeito 7, Efeito 4, Efeito 3               0.014850\n",
       "Efeito 6, Efeito 7, Efeito 8, Efeito 4, Efeito 3     0.014716\n",
       "Efeito 6, Efeito 7, Efeito 8, Efeito 4               0.012199\n",
       "Efeito 7                                             0.010877\n",
       "Efeito 6, Efeito 2, Efeito 4, Efeito 3               0.009599\n",
       "                                                       ...   \n",
       "Efeito 1, Efeito 7, Efeito 5, Efeito 4, Efeito 8     0.000003\n",
       "Efeito 5, Efeito 6, Efeito 8, Efeito 4, Efeito 3     0.000003\n",
       "Efeito 2, Efeito 3, Efeito 10, Efeito 6, Efeito 7    0.000003\n",
       "Efeito 2, Efeito 6, Efeito 1, Efeito 4, Efeito 8     0.000003\n",
       "Efeito 2, Efeito 6, Efeito 10, Efeito 5, Efeito 4    0.000003\n",
       "Name: efeitos_desejados, Length: 10056, dtype: float64"
      ]
     },
     "execution_count": 38,
     "metadata": {},
     "output_type": "execute_result"
    }
   ],
   "source": [
    "data['efeitos_desejados'].value_counts(normalize=True, dropna=False)"
   ]
  },
  {
   "cell_type": "code",
   "execution_count": 39,
   "metadata": {
    "colab": {
     "base_uri": "https://localhost:8080/"
    },
    "executionInfo": {
     "elapsed": 10,
     "status": "ok",
     "timestamp": 1661286032576,
     "user": {
      "displayName": "Solano Jacon",
      "userId": "03193064938437592202"
     },
     "user_tz": 180
    },
    "id": "UfkqqToLpMx-",
    "outputId": "7c87e31b-a81b-4c56-cc23-8f1172bb22be"
   },
   "outputs": [
    {
     "data": {
      "text/plain": [
       "Rosas              0.522672\n",
       "Eucalipto          0.380397\n",
       "Flores do campo    0.096930\n",
       "Name: fragancia, dtype: float64"
      ]
     },
     "execution_count": 39,
     "metadata": {},
     "output_type": "execute_result"
    }
   ],
   "source": [
    "data['fragancia'].value_counts(normalize=True, dropna=False)"
   ]
  },
  {
   "cell_type": "markdown",
   "metadata": {
    "id": "M9B6lFTBpMx_"
   },
   "source": [
    "### Preparação e Análise dos Dados Alvo / *Target Data Preparation and Analysis*"
   ]
  },
  {
   "cell_type": "code",
   "execution_count": 40,
   "metadata": {
    "executionInfo": {
     "elapsed": 7,
     "status": "ok",
     "timestamp": 1661286032576,
     "user": {
      "displayName": "Solano Jacon",
      "userId": "03193064938437592202"
     },
     "user_tz": 180
    },
    "id": "EMaC6MaOpMx_"
   },
   "outputs": [],
   "source": [
    "data['pedido'] = 0\n",
    "data.loc[data['id_pedido'].notna(), 'pedido'] = 1"
   ]
  },
  {
   "cell_type": "code",
   "execution_count": 41,
   "metadata": {
    "colab": {
     "base_uri": "https://localhost:8080/"
    },
    "executionInfo": {
     "elapsed": 8,
     "status": "ok",
     "timestamp": 1661286032577,
     "user": {
      "displayName": "Solano Jacon",
      "userId": "03193064938437592202"
     },
     "user_tz": 180
    },
    "id": "C6SnqHAepMx_",
    "outputId": "f0b88ebd-a94d-427a-c7f8-37b22a7dc88b"
   },
   "outputs": [
    {
     "data": {
      "text/plain": [
       "0    0.638463\n",
       "1    0.361537\n",
       "Name: pedido, dtype: float64"
      ]
     },
     "execution_count": 41,
     "metadata": {},
     "output_type": "execute_result"
    }
   ],
   "source": [
    "data['pedido'].value_counts(normalize=True, dropna=False)"
   ]
  },
  {
   "cell_type": "markdown",
   "metadata": {
    "id": "K-r2WUuDpMx_"
   },
   "source": [
    "### Definição dos Próximos Passos / *Definition of Next Steps*"
   ]
  },
  {
   "cell_type": "markdown",
   "metadata": {
    "id": "DNkuJbKkpMx_"
   },
   "source": [
    "Criação de features:\n",
    "- tempo_procedimento: transformação do conteúdo de categorias ordinais de texto para categorias ordinais numéricas\n",
    "- faixa_etaria: transformação do conteúdo de categorias ordinais de texto para categorias ordinais numéricas\n",
    "- procedimentos: separação do conteúdo de categorias em colunas binárias para cada categoria\n",
    "- caracteristica: separação do conteúdo de categorias em colunas binárias para cada categoria\n",
    "- efeitos_desejados: separação do conteúdo de categorias em colunas binárias para cada categoria\n",
    "\n",
    "*Feature creation*:\n",
    "- *tempo_procedimento: transforming content from ordinal text categories to numeric ordinal categories*\n",
    "- *faixa_etaria: transforming content from ordinal text categories to numeric ordinal categories*\n",
    "- *procedimentos: separation of categories content into binary columns for each category*\n",
    "- *caracteristica: separation of categories content into binary columns for each category*\n",
    "- *efeitos_desejados: separation of categories content into binary columns for each category*\n",
    "\n",
    "Encoding:\n",
    "- sistema_operacional\n",
    "- estado\n",
    "- utm_source\n",
    "- tipo_cabelo\n",
    "- comprimento\n",
    "- tipo_fios\n",
    "- dieta\n",
    "- atividade_fisica\n",
    "- frequencia_estresse\n",
    "\n",
    "Scaling:\n",
    "- qtde_lavagem_semana"
   ]
  },
  {
   "cell_type": "markdown",
   "metadata": {
    "id": "DSg_g56ipMx_"
   },
   "source": [
    "### Criação de Features / *Feature Creation*"
   ]
  },
  {
   "cell_type": "markdown",
   "metadata": {
    "id": "RMMT8WNBpMyA"
   },
   "source": [
    "**tempo_procedimento**"
   ]
  },
  {
   "cell_type": "code",
   "execution_count": 42,
   "metadata": {
    "colab": {
     "base_uri": "https://localhost:8080/"
    },
    "executionInfo": {
     "elapsed": 6,
     "status": "ok",
     "timestamp": 1661286032577,
     "user": {
      "displayName": "Solano Jacon",
      "userId": "03193064938437592202"
     },
     "user_tz": 180
    },
    "id": "8_A13VhlpMyA",
    "outputId": "13da5b06-161d-4d91-baec-2154a87792f9"
   },
   "outputs": [
    {
     "data": {
      "text/plain": [
       "Há 2 semanas               0.331613\n",
       "Há 1 semana                0.273243\n",
       "Há mais de 1 mês           0.185491\n",
       "Há 1 mês                   0.116730\n",
       "Não houve procedimentos    0.092923\n",
       "Name: tempo_procedimento, dtype: float64"
      ]
     },
     "execution_count": 42,
     "metadata": {},
     "output_type": "execute_result"
    }
   ],
   "source": [
    "data['tempo_procedimento'].value_counts(normalize=True, dropna=False)"
   ]
  },
  {
   "cell_type": "code",
   "execution_count": 43,
   "metadata": {
    "executionInfo": {
     "elapsed": 295,
     "status": "ok",
     "timestamp": 1661286032868,
     "user": {
      "displayName": "Solano Jacon",
      "userId": "03193064938437592202"
     },
     "user_tz": 180
    },
    "id": "SgOHshH_pMyA"
   },
   "outputs": [],
   "source": [
    "data.loc[data['tempo_procedimento']=='Não houve procedimentos', 'tempo_procedimento_quantificado'] = 0\n",
    "data.loc[data['tempo_procedimento']=='Há 1 semana', 'tempo_procedimento_quantificado'] = 1\n",
    "data.loc[data['tempo_procedimento']=='Há 2 semanas', 'tempo_procedimento_quantificado'] = 2\n",
    "data.loc[data['tempo_procedimento']=='Há 1 mês', 'tempo_procedimento_quantificado'] = 3\n",
    "data.loc[data['tempo_procedimento']=='Há mais de 1 mês', 'tempo_procedimento_quantificado'] = 4"
   ]
  },
  {
   "cell_type": "code",
   "execution_count": 44,
   "metadata": {
    "colab": {
     "base_uri": "https://localhost:8080/"
    },
    "executionInfo": {
     "elapsed": 5,
     "status": "ok",
     "timestamp": 1661286032868,
     "user": {
      "displayName": "Solano Jacon",
      "userId": "03193064938437592202"
     },
     "user_tz": 180
    },
    "id": "HtVtQAtRpMyA",
    "outputId": "f38c5c12-d2b0-4687-8397-e88c7c8f0229"
   },
   "outputs": [
    {
     "data": {
      "text/plain": [
       "2.0    0.331613\n",
       "1.0    0.273243\n",
       "4.0    0.185491\n",
       "3.0    0.116730\n",
       "0.0    0.092923\n",
       "Name: tempo_procedimento_quantificado, dtype: float64"
      ]
     },
     "execution_count": 44,
     "metadata": {},
     "output_type": "execute_result"
    }
   ],
   "source": [
    "data['tempo_procedimento_quantificado'].value_counts(normalize=True, dropna=False)"
   ]
  },
  {
   "cell_type": "markdown",
   "metadata": {
    "id": "3VSZ-MV6pMyA"
   },
   "source": [
    "**faixa_etaria**"
   ]
  },
  {
   "cell_type": "code",
   "execution_count": 45,
   "metadata": {
    "colab": {
     "base_uri": "https://localhost:8080/"
    },
    "executionInfo": {
     "elapsed": 4,
     "status": "ok",
     "timestamp": 1661286032868,
     "user": {
      "displayName": "Solano Jacon",
      "userId": "03193064938437592202"
     },
     "user_tz": 180
    },
    "id": "SVtttycrpMyA",
    "outputId": "c75cb80c-9bec-4ea9-b149-c05d67988bcd"
   },
   "outputs": [
    {
     "data": {
      "text/plain": [
       "25 a 34    0.368376\n",
       "18 a 24    0.270530\n",
       "35 a 44    0.190568\n",
       "45 a 54    0.068420\n",
       "11 a 17    0.067645\n",
       "55 a 64    0.021340\n",
       "2 a 10     0.007372\n",
       "65+        0.005749\n",
       "Name: faixa_etaria, dtype: float64"
      ]
     },
     "execution_count": 45,
     "metadata": {},
     "output_type": "execute_result"
    }
   ],
   "source": [
    "data['faixa_etaria'].value_counts(normalize=True, dropna=False)"
   ]
  },
  {
   "cell_type": "code",
   "execution_count": 46,
   "metadata": {
    "executionInfo": {
     "elapsed": 319,
     "status": "ok",
     "timestamp": 1661286033185,
     "user": {
      "displayName": "Solano Jacon",
      "userId": "03193064938437592202"
     },
     "user_tz": 180
    },
    "id": "jTL8sZ1zpMyB"
   },
   "outputs": [],
   "source": [
    "data.loc[data['faixa_etaria']=='2 a 10', 'faixa_etaria_quantificado'] = 1\n",
    "data.loc[data['faixa_etaria']=='11 a 17', 'faixa_etaria_quantificado'] = 2\n",
    "data.loc[data['faixa_etaria']=='18 a 24', 'faixa_etaria_quantificado'] = 3\n",
    "data.loc[data['faixa_etaria']=='25 a 34', 'faixa_etaria_quantificado'] = 4\n",
    "data.loc[data['faixa_etaria']=='35 a 44', 'faixa_etaria_quantificado'] = 5\n",
    "data.loc[data['faixa_etaria']=='45 a 54', 'faixa_etaria_quantificado'] = 6\n",
    "data.loc[data['faixa_etaria']=='55 a 64', 'faixa_etaria_quantificado'] = 7\n",
    "data.loc[data['faixa_etaria']=='65+', 'faixa_etaria_quantificado'] = 8"
   ]
  },
  {
   "cell_type": "code",
   "execution_count": 47,
   "metadata": {
    "colab": {
     "base_uri": "https://localhost:8080/"
    },
    "executionInfo": {
     "elapsed": 6,
     "status": "ok",
     "timestamp": 1661286033185,
     "user": {
      "displayName": "Solano Jacon",
      "userId": "03193064938437592202"
     },
     "user_tz": 180
    },
    "id": "BNdj-qxqpMyB",
    "outputId": "66124e4e-710a-479a-ef65-d3940b745cfe"
   },
   "outputs": [
    {
     "data": {
      "text/plain": [
       "4.0    0.368376\n",
       "3.0    0.270530\n",
       "5.0    0.190568\n",
       "6.0    0.068420\n",
       "2.0    0.067645\n",
       "7.0    0.021340\n",
       "1.0    0.007372\n",
       "8.0    0.005749\n",
       "Name: faixa_etaria_quantificado, dtype: float64"
      ]
     },
     "execution_count": 47,
     "metadata": {},
     "output_type": "execute_result"
    }
   ],
   "source": [
    "data['faixa_etaria_quantificado'].value_counts(normalize=True, dropna=False)"
   ]
  },
  {
   "cell_type": "markdown",
   "metadata": {
    "id": "J_9Kusf3pMyB"
   },
   "source": [
    "**procedimentos**"
   ]
  },
  {
   "cell_type": "code",
   "execution_count": 48,
   "metadata": {
    "colab": {
     "base_uri": "https://localhost:8080/"
    },
    "executionInfo": {
     "elapsed": 5,
     "status": "ok",
     "timestamp": 1661286033186,
     "user": {
      "displayName": "Solano Jacon",
      "userId": "03193064938437592202"
     },
     "user_tz": 180
    },
    "id": "RQnjCv8epMyB",
    "outputId": "401327e5-0405-4d09-bdff-8a9d6baa01ae"
   },
   "outputs": [
    {
     "data": {
      "text/plain": [
       "Corte agressivo                                       0.183052\n",
       "Todos acima                                           0.153476\n",
       "Tintura                                               0.086337\n",
       "Exposição ao sol                                      0.080298\n",
       "Tintura, Corte agressivo                              0.077391\n",
       "                                                        ...   \n",
       "Corte agressivo, Exposição ao sol, Tintura, Nenhum    0.000304\n",
       "Exposição ao sol, Tintura, Nenhum                     0.000284\n",
       "Exposição ao sol, Corte agressivo, Nenhum, Tintura    0.000266\n",
       "Exposição ao sol, Tintura, Nenhum, Corte agressivo    0.000184\n",
       "N/C                                                   0.000003\n",
       "Name: procedimentos, Length: 66, dtype: float64"
      ]
     },
     "execution_count": 48,
     "metadata": {},
     "output_type": "execute_result"
    }
   ],
   "source": [
    "data['procedimentos'].value_counts(normalize=True, dropna=False)"
   ]
  },
  {
   "cell_type": "code",
   "execution_count": 49,
   "metadata": {
    "executionInfo": {
     "elapsed": 1039,
     "status": "ok",
     "timestamp": 1661286034222,
     "user": {
      "displayName": "Solano Jacon",
      "userId": "03193064938437592202"
     },
     "user_tz": 180
    },
    "id": "lZFFsPvspMyB"
   },
   "outputs": [],
   "source": [
    "procedimentos = ['Corte agressivo', 'Exposição ao sol', 'Nenhum', 'N/C', 'Tintura', 'Todos acima']\n",
    "\n",
    "for procedimento in procedimentos:\n",
    "    data['procedimento ' + procedimento] = data['procedimentos'].apply(lambda x: 1 if procedimento in x else 0)"
   ]
  },
  {
   "cell_type": "code",
   "execution_count": 50,
   "metadata": {
    "colab": {
     "base_uri": "https://localhost:8080/"
    },
    "executionInfo": {
     "elapsed": 12,
     "status": "ok",
     "timestamp": 1661286034223,
     "user": {
      "displayName": "Solano Jacon",
      "userId": "03193064938437592202"
     },
     "user_tz": 180
    },
    "id": "Id-PNhXGpMyB",
    "outputId": "46144fe2-f07a-4a38-9f49-8c9f84180bff"
   },
   "outputs": [
    {
     "data": {
      "text/plain": [
       "294324           Exposição ao sol, Tintura, Corte agressivo\n",
       "543790                                     Exposição ao sol\n",
       "417082                             Tintura, Corte agressivo\n",
       "211987                     Tintura, Nenhum, Corte agressivo\n",
       "186537    Exposição ao sol, Nenhum, Tintura, Corte agres...\n",
       "                                ...                        \n",
       "506355                                          Todos acima\n",
       "480040                                              Tintura\n",
       "362897                                          Todos acima\n",
       "230897                                              Tintura\n",
       "382088    Tintura, Corte agressivo, Nenhum, Exposição ao...\n",
       "Name: procedimentos, Length: 292736, dtype: object"
      ]
     },
     "execution_count": 50,
     "metadata": {},
     "output_type": "execute_result"
    }
   ],
   "source": [
    "data['procedimentos']"
   ]
  },
  {
   "cell_type": "code",
   "execution_count": 51,
   "metadata": {
    "colab": {
     "base_uri": "https://localhost:8080/",
     "height": 424
    },
    "executionInfo": {
     "elapsed": 9,
     "status": "ok",
     "timestamp": 1661286034224,
     "user": {
      "displayName": "Solano Jacon",
      "userId": "03193064938437592202"
     },
     "user_tz": 180
    },
    "id": "tGKywNXbpMyC",
    "outputId": "f00d57d1-fda0-4ac8-e6c9-c603967845d2"
   },
   "outputs": [
    {
     "data": {
      "text/html": [
       "\n",
       "  <div id=\"df-2773e1bf-a7e0-4357-8811-579a3e3d678b\">\n",
       "    <div class=\"colab-df-container\">\n",
       "      <div>\n",
       "<style scoped>\n",
       "    .dataframe tbody tr th:only-of-type {\n",
       "        vertical-align: middle;\n",
       "    }\n",
       "\n",
       "    .dataframe tbody tr th {\n",
       "        vertical-align: top;\n",
       "    }\n",
       "\n",
       "    .dataframe thead th {\n",
       "        text-align: right;\n",
       "    }\n",
       "</style>\n",
       "<table border=\"1\" class=\"dataframe\">\n",
       "  <thead>\n",
       "    <tr style=\"text-align: right;\">\n",
       "      <th></th>\n",
       "      <th>procedimento Corte agressivo</th>\n",
       "      <th>procedimento Exposição ao sol</th>\n",
       "      <th>procedimento Nenhum</th>\n",
       "      <th>procedimento N/C</th>\n",
       "      <th>procedimento Tintura</th>\n",
       "      <th>procedimento Todos acima</th>\n",
       "    </tr>\n",
       "  </thead>\n",
       "  <tbody>\n",
       "    <tr>\n",
       "      <th>294324</th>\n",
       "      <td>1</td>\n",
       "      <td>1</td>\n",
       "      <td>0</td>\n",
       "      <td>0</td>\n",
       "      <td>1</td>\n",
       "      <td>0</td>\n",
       "    </tr>\n",
       "    <tr>\n",
       "      <th>543790</th>\n",
       "      <td>0</td>\n",
       "      <td>1</td>\n",
       "      <td>0</td>\n",
       "      <td>0</td>\n",
       "      <td>0</td>\n",
       "      <td>0</td>\n",
       "    </tr>\n",
       "    <tr>\n",
       "      <th>417082</th>\n",
       "      <td>1</td>\n",
       "      <td>0</td>\n",
       "      <td>0</td>\n",
       "      <td>0</td>\n",
       "      <td>1</td>\n",
       "      <td>0</td>\n",
       "    </tr>\n",
       "    <tr>\n",
       "      <th>211987</th>\n",
       "      <td>1</td>\n",
       "      <td>0</td>\n",
       "      <td>1</td>\n",
       "      <td>0</td>\n",
       "      <td>1</td>\n",
       "      <td>0</td>\n",
       "    </tr>\n",
       "    <tr>\n",
       "      <th>186537</th>\n",
       "      <td>1</td>\n",
       "      <td>1</td>\n",
       "      <td>1</td>\n",
       "      <td>0</td>\n",
       "      <td>1</td>\n",
       "      <td>0</td>\n",
       "    </tr>\n",
       "    <tr>\n",
       "      <th>...</th>\n",
       "      <td>...</td>\n",
       "      <td>...</td>\n",
       "      <td>...</td>\n",
       "      <td>...</td>\n",
       "      <td>...</td>\n",
       "      <td>...</td>\n",
       "    </tr>\n",
       "    <tr>\n",
       "      <th>506355</th>\n",
       "      <td>0</td>\n",
       "      <td>0</td>\n",
       "      <td>0</td>\n",
       "      <td>0</td>\n",
       "      <td>0</td>\n",
       "      <td>1</td>\n",
       "    </tr>\n",
       "    <tr>\n",
       "      <th>480040</th>\n",
       "      <td>0</td>\n",
       "      <td>0</td>\n",
       "      <td>0</td>\n",
       "      <td>0</td>\n",
       "      <td>1</td>\n",
       "      <td>0</td>\n",
       "    </tr>\n",
       "    <tr>\n",
       "      <th>362897</th>\n",
       "      <td>0</td>\n",
       "      <td>0</td>\n",
       "      <td>0</td>\n",
       "      <td>0</td>\n",
       "      <td>0</td>\n",
       "      <td>1</td>\n",
       "    </tr>\n",
       "    <tr>\n",
       "      <th>230897</th>\n",
       "      <td>0</td>\n",
       "      <td>0</td>\n",
       "      <td>0</td>\n",
       "      <td>0</td>\n",
       "      <td>1</td>\n",
       "      <td>0</td>\n",
       "    </tr>\n",
       "    <tr>\n",
       "      <th>382088</th>\n",
       "      <td>1</td>\n",
       "      <td>1</td>\n",
       "      <td>1</td>\n",
       "      <td>0</td>\n",
       "      <td>1</td>\n",
       "      <td>0</td>\n",
       "    </tr>\n",
       "  </tbody>\n",
       "</table>\n",
       "<p>292736 rows × 6 columns</p>\n",
       "</div>\n",
       "      <button class=\"colab-df-convert\" onclick=\"convertToInteractive('df-2773e1bf-a7e0-4357-8811-579a3e3d678b')\"\n",
       "              title=\"Convert this dataframe to an interactive table.\"\n",
       "              style=\"display:none;\">\n",
       "        \n",
       "  <svg xmlns=\"http://www.w3.org/2000/svg\" height=\"24px\"viewBox=\"0 0 24 24\"\n",
       "       width=\"24px\">\n",
       "    <path d=\"M0 0h24v24H0V0z\" fill=\"none\"/>\n",
       "    <path d=\"M18.56 5.44l.94 2.06.94-2.06 2.06-.94-2.06-.94-.94-2.06-.94 2.06-2.06.94zm-11 1L8.5 8.5l.94-2.06 2.06-.94-2.06-.94L8.5 2.5l-.94 2.06-2.06.94zm10 10l.94 2.06.94-2.06 2.06-.94-2.06-.94-.94-2.06-.94 2.06-2.06.94z\"/><path d=\"M17.41 7.96l-1.37-1.37c-.4-.4-.92-.59-1.43-.59-.52 0-1.04.2-1.43.59L10.3 9.45l-7.72 7.72c-.78.78-.78 2.05 0 2.83L4 21.41c.39.39.9.59 1.41.59.51 0 1.02-.2 1.41-.59l7.78-7.78 2.81-2.81c.8-.78.8-2.07 0-2.86zM5.41 20L4 18.59l7.72-7.72 1.47 1.35L5.41 20z\"/>\n",
       "  </svg>\n",
       "      </button>\n",
       "      \n",
       "  <style>\n",
       "    .colab-df-container {\n",
       "      display:flex;\n",
       "      flex-wrap:wrap;\n",
       "      gap: 12px;\n",
       "    }\n",
       "\n",
       "    .colab-df-convert {\n",
       "      background-color: #E8F0FE;\n",
       "      border: none;\n",
       "      border-radius: 50%;\n",
       "      cursor: pointer;\n",
       "      display: none;\n",
       "      fill: #1967D2;\n",
       "      height: 32px;\n",
       "      padding: 0 0 0 0;\n",
       "      width: 32px;\n",
       "    }\n",
       "\n",
       "    .colab-df-convert:hover {\n",
       "      background-color: #E2EBFA;\n",
       "      box-shadow: 0px 1px 2px rgba(60, 64, 67, 0.3), 0px 1px 3px 1px rgba(60, 64, 67, 0.15);\n",
       "      fill: #174EA6;\n",
       "    }\n",
       "\n",
       "    [theme=dark] .colab-df-convert {\n",
       "      background-color: #3B4455;\n",
       "      fill: #D2E3FC;\n",
       "    }\n",
       "\n",
       "    [theme=dark] .colab-df-convert:hover {\n",
       "      background-color: #434B5C;\n",
       "      box-shadow: 0px 1px 3px 1px rgba(0, 0, 0, 0.15);\n",
       "      filter: drop-shadow(0px 1px 2px rgba(0, 0, 0, 0.3));\n",
       "      fill: #FFFFFF;\n",
       "    }\n",
       "  </style>\n",
       "\n",
       "      <script>\n",
       "        const buttonEl =\n",
       "          document.querySelector('#df-2773e1bf-a7e0-4357-8811-579a3e3d678b button.colab-df-convert');\n",
       "        buttonEl.style.display =\n",
       "          google.colab.kernel.accessAllowed ? 'block' : 'none';\n",
       "\n",
       "        async function convertToInteractive(key) {\n",
       "          const element = document.querySelector('#df-2773e1bf-a7e0-4357-8811-579a3e3d678b');\n",
       "          const dataTable =\n",
       "            await google.colab.kernel.invokeFunction('convertToInteractive',\n",
       "                                                     [key], {});\n",
       "          if (!dataTable) return;\n",
       "\n",
       "          const docLinkHtml = 'Like what you see? Visit the ' +\n",
       "            '<a target=\"_blank\" href=https://colab.research.google.com/notebooks/data_table.ipynb>data table notebook</a>'\n",
       "            + ' to learn more about interactive tables.';\n",
       "          element.innerHTML = '';\n",
       "          dataTable['output_type'] = 'display_data';\n",
       "          await google.colab.output.renderOutput(dataTable, element);\n",
       "          const docLink = document.createElement('div');\n",
       "          docLink.innerHTML = docLinkHtml;\n",
       "          element.appendChild(docLink);\n",
       "        }\n",
       "      </script>\n",
       "    </div>\n",
       "  </div>\n",
       "  "
      ],
      "text/plain": [
       "        procedimento Corte agressivo  procedimento Exposição ao sol  \\\n",
       "294324                             1                              1   \n",
       "543790                             0                              1   \n",
       "417082                             1                              0   \n",
       "211987                             1                              0   \n",
       "186537                             1                              1   \n",
       "...                              ...                            ...   \n",
       "506355                             0                              0   \n",
       "480040                             0                              0   \n",
       "362897                             0                              0   \n",
       "230897                             0                              0   \n",
       "382088                             1                              1   \n",
       "\n",
       "        procedimento Nenhum  procedimento N/C  procedimento Tintura  \\\n",
       "294324                    0                 0                     1   \n",
       "543790                    0                 0                     0   \n",
       "417082                    0                 0                     1   \n",
       "211987                    1                 0                     1   \n",
       "186537                    1                 0                     1   \n",
       "...                     ...               ...                   ...   \n",
       "506355                    0                 0                     0   \n",
       "480040                    0                 0                     1   \n",
       "362897                    0                 0                     0   \n",
       "230897                    0                 0                     1   \n",
       "382088                    1                 0                     1   \n",
       "\n",
       "        procedimento Todos acima  \n",
       "294324                         0  \n",
       "543790                         0  \n",
       "417082                         0  \n",
       "211987                         0  \n",
       "186537                         0  \n",
       "...                          ...  \n",
       "506355                         1  \n",
       "480040                         0  \n",
       "362897                         1  \n",
       "230897                         0  \n",
       "382088                         0  \n",
       "\n",
       "[292736 rows x 6 columns]"
      ]
     },
     "execution_count": 51,
     "metadata": {},
     "output_type": "execute_result"
    }
   ],
   "source": [
    "data.iloc[:, -6:]"
   ]
  },
  {
   "cell_type": "markdown",
   "metadata": {
    "id": "VOv80t2RpMyC"
   },
   "source": [
    "**caracteristica**"
   ]
  },
  {
   "cell_type": "code",
   "execution_count": 52,
   "metadata": {
    "colab": {
     "base_uri": "https://localhost:8080/"
    },
    "executionInfo": {
     "elapsed": 8,
     "status": "ok",
     "timestamp": 1661286034224,
     "user": {
      "displayName": "Solano Jacon",
      "userId": "03193064938437592202"
     },
     "user_tz": 180
    },
    "id": "pT-1nX8TpMyC",
    "outputId": "780c2c64-563e-47c7-f5a4-854981d4aff0"
   },
   "outputs": [
    {
     "data": {
      "text/plain": [
       "Característica 3                                                                             0.267808\n",
       "Característica 7                                                                             0.103124\n",
       "Característica 1                                                                             0.093730\n",
       "Característica 3, Característica 8                                                           0.085388\n",
       "Característica 2                                                                             0.040268\n",
       "                                                                                               ...   \n",
       "Característica 1, Característica 8, Característica 4, Característica 10                      0.000003\n",
       "Característica 1, Característica 10, Característica 6                                        0.000003\n",
       "Característica 3, Característica 10, Característica 4, Característica 6, Característica 1    0.000003\n",
       "Característica 1, Característica 8, Característica 2, Característica 10                      0.000003\n",
       "Característica 1, Característica 3, Característica 6, Característica 4                       0.000003\n",
       "Name: caracteristica, Length: 1532, dtype: float64"
      ]
     },
     "execution_count": 52,
     "metadata": {},
     "output_type": "execute_result"
    }
   ],
   "source": [
    "data['caracteristica'].value_counts(normalize=True, dropna=False)"
   ]
  },
  {
   "cell_type": "code",
   "execution_count": 53,
   "metadata": {
    "executionInfo": {
     "elapsed": 2188,
     "status": "ok",
     "timestamp": 1661286036407,
     "user": {
      "displayName": "Solano Jacon",
      "userId": "03193064938437592202"
     },
     "user_tz": 180
    },
    "id": "8H6Q1y7TpMyC"
   },
   "outputs": [],
   "source": [
    "# A coluna caracteristica contém 10 categorias de 1 a 10 no formato \"Característica 5\"\n",
    "# The column caracteristica contains 10 categories from 1 to 10 in the \"Característica 5\" format\n",
    "\n",
    "for numero_caracteristica in range(1, 11):\n",
    "    data['caracteristica ' + str(numero_caracteristica)] = data['caracteristica'].apply(lambda x: 1 if ('Característica ' + str(numero_caracteristica)) in x else 0)"
   ]
  },
  {
   "cell_type": "code",
   "execution_count": 54,
   "metadata": {
    "colab": {
     "base_uri": "https://localhost:8080/"
    },
    "executionInfo": {
     "elapsed": 13,
     "status": "ok",
     "timestamp": 1661286036407,
     "user": {
      "displayName": "Solano Jacon",
      "userId": "03193064938437592202"
     },
     "user_tz": 180
    },
    "id": "I7ycF-80pMyC",
    "outputId": "6c75c0c1-616a-455f-9bc4-3568d997a332"
   },
   "outputs": [
    {
     "data": {
      "text/plain": [
       "294324                                     Característica 6\n",
       "543790                                     Característica 3\n",
       "417082                   Característica 3, Característica 8\n",
       "211987    Característica 1, Característica 3, Caracterís...\n",
       "186537    Característica 1, Característica 10, Caracterí...\n",
       "                                ...                        \n",
       "506355                                     Característica 3\n",
       "480040                                     Característica 3\n",
       "362897                                     Característica 8\n",
       "230897                   Característica 3, Característica 9\n",
       "382088                                     Característica 2\n",
       "Name: caracteristica, Length: 292736, dtype: object"
      ]
     },
     "execution_count": 54,
     "metadata": {},
     "output_type": "execute_result"
    }
   ],
   "source": [
    "data['caracteristica']"
   ]
  },
  {
   "cell_type": "code",
   "execution_count": 55,
   "metadata": {
    "colab": {
     "base_uri": "https://localhost:8080/",
     "height": 424
    },
    "executionInfo": {
     "elapsed": 10,
     "status": "ok",
     "timestamp": 1661286036408,
     "user": {
      "displayName": "Solano Jacon",
      "userId": "03193064938437592202"
     },
     "user_tz": 180
    },
    "id": "J5DgnXfTpMyC",
    "outputId": "2922f417-decc-4a85-e689-6e282a1448ef"
   },
   "outputs": [
    {
     "data": {
      "text/html": [
       "\n",
       "  <div id=\"df-28ec8d31-406e-4764-92f9-9c78734b6de2\">\n",
       "    <div class=\"colab-df-container\">\n",
       "      <div>\n",
       "<style scoped>\n",
       "    .dataframe tbody tr th:only-of-type {\n",
       "        vertical-align: middle;\n",
       "    }\n",
       "\n",
       "    .dataframe tbody tr th {\n",
       "        vertical-align: top;\n",
       "    }\n",
       "\n",
       "    .dataframe thead th {\n",
       "        text-align: right;\n",
       "    }\n",
       "</style>\n",
       "<table border=\"1\" class=\"dataframe\">\n",
       "  <thead>\n",
       "    <tr style=\"text-align: right;\">\n",
       "      <th></th>\n",
       "      <th>caracteristica 1</th>\n",
       "      <th>caracteristica 2</th>\n",
       "      <th>caracteristica 3</th>\n",
       "      <th>caracteristica 4</th>\n",
       "      <th>caracteristica 5</th>\n",
       "      <th>caracteristica 6</th>\n",
       "      <th>caracteristica 7</th>\n",
       "      <th>caracteristica 8</th>\n",
       "      <th>caracteristica 9</th>\n",
       "      <th>caracteristica 10</th>\n",
       "    </tr>\n",
       "  </thead>\n",
       "  <tbody>\n",
       "    <tr>\n",
       "      <th>294324</th>\n",
       "      <td>0</td>\n",
       "      <td>0</td>\n",
       "      <td>0</td>\n",
       "      <td>0</td>\n",
       "      <td>0</td>\n",
       "      <td>1</td>\n",
       "      <td>0</td>\n",
       "      <td>0</td>\n",
       "      <td>0</td>\n",
       "      <td>0</td>\n",
       "    </tr>\n",
       "    <tr>\n",
       "      <th>543790</th>\n",
       "      <td>0</td>\n",
       "      <td>0</td>\n",
       "      <td>1</td>\n",
       "      <td>0</td>\n",
       "      <td>0</td>\n",
       "      <td>0</td>\n",
       "      <td>0</td>\n",
       "      <td>0</td>\n",
       "      <td>0</td>\n",
       "      <td>0</td>\n",
       "    </tr>\n",
       "    <tr>\n",
       "      <th>417082</th>\n",
       "      <td>0</td>\n",
       "      <td>0</td>\n",
       "      <td>1</td>\n",
       "      <td>0</td>\n",
       "      <td>0</td>\n",
       "      <td>0</td>\n",
       "      <td>0</td>\n",
       "      <td>1</td>\n",
       "      <td>0</td>\n",
       "      <td>0</td>\n",
       "    </tr>\n",
       "    <tr>\n",
       "      <th>211987</th>\n",
       "      <td>1</td>\n",
       "      <td>0</td>\n",
       "      <td>1</td>\n",
       "      <td>0</td>\n",
       "      <td>0</td>\n",
       "      <td>0</td>\n",
       "      <td>0</td>\n",
       "      <td>1</td>\n",
       "      <td>0</td>\n",
       "      <td>1</td>\n",
       "    </tr>\n",
       "    <tr>\n",
       "      <th>186537</th>\n",
       "      <td>1</td>\n",
       "      <td>0</td>\n",
       "      <td>0</td>\n",
       "      <td>0</td>\n",
       "      <td>0</td>\n",
       "      <td>0</td>\n",
       "      <td>0</td>\n",
       "      <td>1</td>\n",
       "      <td>0</td>\n",
       "      <td>1</td>\n",
       "    </tr>\n",
       "    <tr>\n",
       "      <th>...</th>\n",
       "      <td>...</td>\n",
       "      <td>...</td>\n",
       "      <td>...</td>\n",
       "      <td>...</td>\n",
       "      <td>...</td>\n",
       "      <td>...</td>\n",
       "      <td>...</td>\n",
       "      <td>...</td>\n",
       "      <td>...</td>\n",
       "      <td>...</td>\n",
       "    </tr>\n",
       "    <tr>\n",
       "      <th>506355</th>\n",
       "      <td>0</td>\n",
       "      <td>0</td>\n",
       "      <td>1</td>\n",
       "      <td>0</td>\n",
       "      <td>0</td>\n",
       "      <td>0</td>\n",
       "      <td>0</td>\n",
       "      <td>0</td>\n",
       "      <td>0</td>\n",
       "      <td>0</td>\n",
       "    </tr>\n",
       "    <tr>\n",
       "      <th>480040</th>\n",
       "      <td>0</td>\n",
       "      <td>0</td>\n",
       "      <td>1</td>\n",
       "      <td>0</td>\n",
       "      <td>0</td>\n",
       "      <td>0</td>\n",
       "      <td>0</td>\n",
       "      <td>0</td>\n",
       "      <td>0</td>\n",
       "      <td>0</td>\n",
       "    </tr>\n",
       "    <tr>\n",
       "      <th>362897</th>\n",
       "      <td>0</td>\n",
       "      <td>0</td>\n",
       "      <td>0</td>\n",
       "      <td>0</td>\n",
       "      <td>0</td>\n",
       "      <td>0</td>\n",
       "      <td>0</td>\n",
       "      <td>1</td>\n",
       "      <td>0</td>\n",
       "      <td>0</td>\n",
       "    </tr>\n",
       "    <tr>\n",
       "      <th>230897</th>\n",
       "      <td>0</td>\n",
       "      <td>0</td>\n",
       "      <td>1</td>\n",
       "      <td>0</td>\n",
       "      <td>0</td>\n",
       "      <td>0</td>\n",
       "      <td>0</td>\n",
       "      <td>0</td>\n",
       "      <td>1</td>\n",
       "      <td>0</td>\n",
       "    </tr>\n",
       "    <tr>\n",
       "      <th>382088</th>\n",
       "      <td>0</td>\n",
       "      <td>1</td>\n",
       "      <td>0</td>\n",
       "      <td>0</td>\n",
       "      <td>0</td>\n",
       "      <td>0</td>\n",
       "      <td>0</td>\n",
       "      <td>0</td>\n",
       "      <td>0</td>\n",
       "      <td>0</td>\n",
       "    </tr>\n",
       "  </tbody>\n",
       "</table>\n",
       "<p>292736 rows × 10 columns</p>\n",
       "</div>\n",
       "      <button class=\"colab-df-convert\" onclick=\"convertToInteractive('df-28ec8d31-406e-4764-92f9-9c78734b6de2')\"\n",
       "              title=\"Convert this dataframe to an interactive table.\"\n",
       "              style=\"display:none;\">\n",
       "        \n",
       "  <svg xmlns=\"http://www.w3.org/2000/svg\" height=\"24px\"viewBox=\"0 0 24 24\"\n",
       "       width=\"24px\">\n",
       "    <path d=\"M0 0h24v24H0V0z\" fill=\"none\"/>\n",
       "    <path d=\"M18.56 5.44l.94 2.06.94-2.06 2.06-.94-2.06-.94-.94-2.06-.94 2.06-2.06.94zm-11 1L8.5 8.5l.94-2.06 2.06-.94-2.06-.94L8.5 2.5l-.94 2.06-2.06.94zm10 10l.94 2.06.94-2.06 2.06-.94-2.06-.94-.94-2.06-.94 2.06-2.06.94z\"/><path d=\"M17.41 7.96l-1.37-1.37c-.4-.4-.92-.59-1.43-.59-.52 0-1.04.2-1.43.59L10.3 9.45l-7.72 7.72c-.78.78-.78 2.05 0 2.83L4 21.41c.39.39.9.59 1.41.59.51 0 1.02-.2 1.41-.59l7.78-7.78 2.81-2.81c.8-.78.8-2.07 0-2.86zM5.41 20L4 18.59l7.72-7.72 1.47 1.35L5.41 20z\"/>\n",
       "  </svg>\n",
       "      </button>\n",
       "      \n",
       "  <style>\n",
       "    .colab-df-container {\n",
       "      display:flex;\n",
       "      flex-wrap:wrap;\n",
       "      gap: 12px;\n",
       "    }\n",
       "\n",
       "    .colab-df-convert {\n",
       "      background-color: #E8F0FE;\n",
       "      border: none;\n",
       "      border-radius: 50%;\n",
       "      cursor: pointer;\n",
       "      display: none;\n",
       "      fill: #1967D2;\n",
       "      height: 32px;\n",
       "      padding: 0 0 0 0;\n",
       "      width: 32px;\n",
       "    }\n",
       "\n",
       "    .colab-df-convert:hover {\n",
       "      background-color: #E2EBFA;\n",
       "      box-shadow: 0px 1px 2px rgba(60, 64, 67, 0.3), 0px 1px 3px 1px rgba(60, 64, 67, 0.15);\n",
       "      fill: #174EA6;\n",
       "    }\n",
       "\n",
       "    [theme=dark] .colab-df-convert {\n",
       "      background-color: #3B4455;\n",
       "      fill: #D2E3FC;\n",
       "    }\n",
       "\n",
       "    [theme=dark] .colab-df-convert:hover {\n",
       "      background-color: #434B5C;\n",
       "      box-shadow: 0px 1px 3px 1px rgba(0, 0, 0, 0.15);\n",
       "      filter: drop-shadow(0px 1px 2px rgba(0, 0, 0, 0.3));\n",
       "      fill: #FFFFFF;\n",
       "    }\n",
       "  </style>\n",
       "\n",
       "      <script>\n",
       "        const buttonEl =\n",
       "          document.querySelector('#df-28ec8d31-406e-4764-92f9-9c78734b6de2 button.colab-df-convert');\n",
       "        buttonEl.style.display =\n",
       "          google.colab.kernel.accessAllowed ? 'block' : 'none';\n",
       "\n",
       "        async function convertToInteractive(key) {\n",
       "          const element = document.querySelector('#df-28ec8d31-406e-4764-92f9-9c78734b6de2');\n",
       "          const dataTable =\n",
       "            await google.colab.kernel.invokeFunction('convertToInteractive',\n",
       "                                                     [key], {});\n",
       "          if (!dataTable) return;\n",
       "\n",
       "          const docLinkHtml = 'Like what you see? Visit the ' +\n",
       "            '<a target=\"_blank\" href=https://colab.research.google.com/notebooks/data_table.ipynb>data table notebook</a>'\n",
       "            + ' to learn more about interactive tables.';\n",
       "          element.innerHTML = '';\n",
       "          dataTable['output_type'] = 'display_data';\n",
       "          await google.colab.output.renderOutput(dataTable, element);\n",
       "          const docLink = document.createElement('div');\n",
       "          docLink.innerHTML = docLinkHtml;\n",
       "          element.appendChild(docLink);\n",
       "        }\n",
       "      </script>\n",
       "    </div>\n",
       "  </div>\n",
       "  "
      ],
      "text/plain": [
       "        caracteristica 1  caracteristica 2  caracteristica 3  \\\n",
       "294324                 0                 0                 0   \n",
       "543790                 0                 0                 1   \n",
       "417082                 0                 0                 1   \n",
       "211987                 1                 0                 1   \n",
       "186537                 1                 0                 0   \n",
       "...                  ...               ...               ...   \n",
       "506355                 0                 0                 1   \n",
       "480040                 0                 0                 1   \n",
       "362897                 0                 0                 0   \n",
       "230897                 0                 0                 1   \n",
       "382088                 0                 1                 0   \n",
       "\n",
       "        caracteristica 4  caracteristica 5  caracteristica 6  \\\n",
       "294324                 0                 0                 1   \n",
       "543790                 0                 0                 0   \n",
       "417082                 0                 0                 0   \n",
       "211987                 0                 0                 0   \n",
       "186537                 0                 0                 0   \n",
       "...                  ...               ...               ...   \n",
       "506355                 0                 0                 0   \n",
       "480040                 0                 0                 0   \n",
       "362897                 0                 0                 0   \n",
       "230897                 0                 0                 0   \n",
       "382088                 0                 0                 0   \n",
       "\n",
       "        caracteristica 7  caracteristica 8  caracteristica 9  \\\n",
       "294324                 0                 0                 0   \n",
       "543790                 0                 0                 0   \n",
       "417082                 0                 1                 0   \n",
       "211987                 0                 1                 0   \n",
       "186537                 0                 1                 0   \n",
       "...                  ...               ...               ...   \n",
       "506355                 0                 0                 0   \n",
       "480040                 0                 0                 0   \n",
       "362897                 0                 1                 0   \n",
       "230897                 0                 0                 1   \n",
       "382088                 0                 0                 0   \n",
       "\n",
       "        caracteristica 10  \n",
       "294324                  0  \n",
       "543790                  0  \n",
       "417082                  0  \n",
       "211987                  1  \n",
       "186537                  1  \n",
       "...                   ...  \n",
       "506355                  0  \n",
       "480040                  0  \n",
       "362897                  0  \n",
       "230897                  0  \n",
       "382088                  0  \n",
       "\n",
       "[292736 rows x 10 columns]"
      ]
     },
     "execution_count": 55,
     "metadata": {},
     "output_type": "execute_result"
    }
   ],
   "source": [
    "data.iloc[:, -10:]"
   ]
  },
  {
   "cell_type": "markdown",
   "metadata": {
    "id": "w4TP5vXJpMyD"
   },
   "source": [
    "**efeitos_desejados**"
   ]
  },
  {
   "cell_type": "code",
   "execution_count": 56,
   "metadata": {
    "colab": {
     "base_uri": "https://localhost:8080/"
    },
    "executionInfo": {
     "elapsed": 9,
     "status": "ok",
     "timestamp": 1661286036408,
     "user": {
      "displayName": "Solano Jacon",
      "userId": "03193064938437592202"
     },
     "user_tz": 180
    },
    "id": "KAK483x6pMyD",
    "outputId": "26a52b7b-95a6-4b45-b8c0-f93bd0c80c66"
   },
   "outputs": [
    {
     "data": {
      "text/plain": [
       "Efeito 6, Efeito 7, Efeito 4, Efeito 3               0.014850\n",
       "Efeito 6, Efeito 7, Efeito 8, Efeito 4, Efeito 3     0.014716\n",
       "Efeito 6, Efeito 7, Efeito 8, Efeito 4               0.012199\n",
       "Efeito 7                                             0.010877\n",
       "Efeito 6, Efeito 2, Efeito 4, Efeito 3               0.009599\n",
       "                                                       ...   \n",
       "Efeito 1, Efeito 7, Efeito 5, Efeito 4, Efeito 8     0.000003\n",
       "Efeito 5, Efeito 6, Efeito 8, Efeito 4, Efeito 3     0.000003\n",
       "Efeito 2, Efeito 3, Efeito 10, Efeito 6, Efeito 7    0.000003\n",
       "Efeito 2, Efeito 6, Efeito 1, Efeito 4, Efeito 8     0.000003\n",
       "Efeito 2, Efeito 6, Efeito 10, Efeito 5, Efeito 4    0.000003\n",
       "Name: efeitos_desejados, Length: 10056, dtype: float64"
      ]
     },
     "execution_count": 56,
     "metadata": {},
     "output_type": "execute_result"
    }
   ],
   "source": [
    "data['efeitos_desejados'].value_counts(normalize=True, dropna=False)"
   ]
  },
  {
   "cell_type": "code",
   "execution_count": 57,
   "metadata": {
    "executionInfo": {
     "elapsed": 2388,
     "status": "ok",
     "timestamp": 1661286038790,
     "user": {
      "displayName": "Solano Jacon",
      "userId": "03193064938437592202"
     },
     "user_tz": 180
    },
    "id": "mingNNGLpMyD"
   },
   "outputs": [],
   "source": [
    "# A coluna efeitos_desejados contém 10 categorias de 1 a 10 no formato \"Efeito 5\"\n",
    "# The column efeitos_desejados contains 10 categories from 1 to 10 in the \"Efeito 5\" format\n",
    "\n",
    "data['efeitos_desejados_modificado'] = data['efeitos_desejados'].fillna(value='Nenhum')\n",
    "\n",
    "for numero_efeito in range(1, 11):\n",
    "    data['efeitos_desejados ' + str(numero_efeito)] = data['efeitos_desejados_modificado'].apply(lambda x: 1 if ('Efeito ' + str(numero_efeito)) in x else 0)"
   ]
  },
  {
   "cell_type": "code",
   "execution_count": 58,
   "metadata": {
    "colab": {
     "base_uri": "https://localhost:8080/"
    },
    "executionInfo": {
     "elapsed": 14,
     "status": "ok",
     "timestamp": 1661286038791,
     "user": {
      "displayName": "Solano Jacon",
      "userId": "03193064938437592202"
     },
     "user_tz": 180
    },
    "id": "1h3crMAUpMyD",
    "outputId": "b186d225-1d8e-447b-bc14-4070f559e4bd"
   },
   "outputs": [
    {
     "data": {
      "text/plain": [
       "294324               Efeito 6, Efeito 2, Efeito 8, Efeito 1\n",
       "543790     Efeito 6, Efeito 4, Efeito 3, Efeito 7, Efeito 8\n",
       "417082               Efeito 6, Efeito 7, Efeito 2, Efeito 4\n",
       "211987               Efeito 6, Efeito 1, Efeito 3, Efeito 7\n",
       "186537    Efeito 2, Efeito 10, Efeito 4, Efeito 5, Efeito 7\n",
       "                                ...                        \n",
       "506355                         Efeito 2, Efeito 1, Efeito 4\n",
       "480040                         Efeito 6, Efeito 8, Efeito 4\n",
       "362897                                   Efeito 7, Efeito 1\n",
       "230897     Efeito 6, Efeito 4, Efeito 1, Efeito 3, Efeito 7\n",
       "382088                                   Efeito 6, Efeito 7\n",
       "Name: efeitos_desejados, Length: 292736, dtype: object"
      ]
     },
     "execution_count": 58,
     "metadata": {},
     "output_type": "execute_result"
    }
   ],
   "source": [
    "data['efeitos_desejados']"
   ]
  },
  {
   "cell_type": "code",
   "execution_count": 59,
   "metadata": {
    "colab": {
     "base_uri": "https://localhost:8080/",
     "height": 424
    },
    "executionInfo": {
     "elapsed": 9,
     "status": "ok",
     "timestamp": 1661286038791,
     "user": {
      "displayName": "Solano Jacon",
      "userId": "03193064938437592202"
     },
     "user_tz": 180
    },
    "id": "jekLHeG6pMyD",
    "outputId": "162471bd-4bf1-4b31-b11a-5e690a6d4ec4"
   },
   "outputs": [
    {
     "data": {
      "text/html": [
       "\n",
       "  <div id=\"df-e2b42866-905b-4665-bd93-2bea0e15e01b\">\n",
       "    <div class=\"colab-df-container\">\n",
       "      <div>\n",
       "<style scoped>\n",
       "    .dataframe tbody tr th:only-of-type {\n",
       "        vertical-align: middle;\n",
       "    }\n",
       "\n",
       "    .dataframe tbody tr th {\n",
       "        vertical-align: top;\n",
       "    }\n",
       "\n",
       "    .dataframe thead th {\n",
       "        text-align: right;\n",
       "    }\n",
       "</style>\n",
       "<table border=\"1\" class=\"dataframe\">\n",
       "  <thead>\n",
       "    <tr style=\"text-align: right;\">\n",
       "      <th></th>\n",
       "      <th>efeitos_desejados 1</th>\n",
       "      <th>efeitos_desejados 2</th>\n",
       "      <th>efeitos_desejados 3</th>\n",
       "      <th>efeitos_desejados 4</th>\n",
       "      <th>efeitos_desejados 5</th>\n",
       "      <th>efeitos_desejados 6</th>\n",
       "      <th>efeitos_desejados 7</th>\n",
       "      <th>efeitos_desejados 8</th>\n",
       "      <th>efeitos_desejados 9</th>\n",
       "      <th>efeitos_desejados 10</th>\n",
       "    </tr>\n",
       "  </thead>\n",
       "  <tbody>\n",
       "    <tr>\n",
       "      <th>294324</th>\n",
       "      <td>1</td>\n",
       "      <td>1</td>\n",
       "      <td>0</td>\n",
       "      <td>0</td>\n",
       "      <td>0</td>\n",
       "      <td>1</td>\n",
       "      <td>0</td>\n",
       "      <td>1</td>\n",
       "      <td>0</td>\n",
       "      <td>0</td>\n",
       "    </tr>\n",
       "    <tr>\n",
       "      <th>543790</th>\n",
       "      <td>0</td>\n",
       "      <td>0</td>\n",
       "      <td>1</td>\n",
       "      <td>1</td>\n",
       "      <td>0</td>\n",
       "      <td>1</td>\n",
       "      <td>1</td>\n",
       "      <td>1</td>\n",
       "      <td>0</td>\n",
       "      <td>0</td>\n",
       "    </tr>\n",
       "    <tr>\n",
       "      <th>417082</th>\n",
       "      <td>0</td>\n",
       "      <td>1</td>\n",
       "      <td>0</td>\n",
       "      <td>1</td>\n",
       "      <td>0</td>\n",
       "      <td>1</td>\n",
       "      <td>1</td>\n",
       "      <td>0</td>\n",
       "      <td>0</td>\n",
       "      <td>0</td>\n",
       "    </tr>\n",
       "    <tr>\n",
       "      <th>211987</th>\n",
       "      <td>1</td>\n",
       "      <td>0</td>\n",
       "      <td>1</td>\n",
       "      <td>0</td>\n",
       "      <td>0</td>\n",
       "      <td>1</td>\n",
       "      <td>1</td>\n",
       "      <td>0</td>\n",
       "      <td>0</td>\n",
       "      <td>0</td>\n",
       "    </tr>\n",
       "    <tr>\n",
       "      <th>186537</th>\n",
       "      <td>1</td>\n",
       "      <td>1</td>\n",
       "      <td>0</td>\n",
       "      <td>1</td>\n",
       "      <td>1</td>\n",
       "      <td>0</td>\n",
       "      <td>1</td>\n",
       "      <td>0</td>\n",
       "      <td>0</td>\n",
       "      <td>1</td>\n",
       "    </tr>\n",
       "    <tr>\n",
       "      <th>...</th>\n",
       "      <td>...</td>\n",
       "      <td>...</td>\n",
       "      <td>...</td>\n",
       "      <td>...</td>\n",
       "      <td>...</td>\n",
       "      <td>...</td>\n",
       "      <td>...</td>\n",
       "      <td>...</td>\n",
       "      <td>...</td>\n",
       "      <td>...</td>\n",
       "    </tr>\n",
       "    <tr>\n",
       "      <th>506355</th>\n",
       "      <td>1</td>\n",
       "      <td>1</td>\n",
       "      <td>0</td>\n",
       "      <td>1</td>\n",
       "      <td>0</td>\n",
       "      <td>0</td>\n",
       "      <td>0</td>\n",
       "      <td>0</td>\n",
       "      <td>0</td>\n",
       "      <td>0</td>\n",
       "    </tr>\n",
       "    <tr>\n",
       "      <th>480040</th>\n",
       "      <td>0</td>\n",
       "      <td>0</td>\n",
       "      <td>0</td>\n",
       "      <td>1</td>\n",
       "      <td>0</td>\n",
       "      <td>1</td>\n",
       "      <td>0</td>\n",
       "      <td>1</td>\n",
       "      <td>0</td>\n",
       "      <td>0</td>\n",
       "    </tr>\n",
       "    <tr>\n",
       "      <th>362897</th>\n",
       "      <td>1</td>\n",
       "      <td>0</td>\n",
       "      <td>0</td>\n",
       "      <td>0</td>\n",
       "      <td>0</td>\n",
       "      <td>0</td>\n",
       "      <td>1</td>\n",
       "      <td>0</td>\n",
       "      <td>0</td>\n",
       "      <td>0</td>\n",
       "    </tr>\n",
       "    <tr>\n",
       "      <th>230897</th>\n",
       "      <td>1</td>\n",
       "      <td>0</td>\n",
       "      <td>1</td>\n",
       "      <td>1</td>\n",
       "      <td>0</td>\n",
       "      <td>1</td>\n",
       "      <td>1</td>\n",
       "      <td>0</td>\n",
       "      <td>0</td>\n",
       "      <td>0</td>\n",
       "    </tr>\n",
       "    <tr>\n",
       "      <th>382088</th>\n",
       "      <td>0</td>\n",
       "      <td>0</td>\n",
       "      <td>0</td>\n",
       "      <td>0</td>\n",
       "      <td>0</td>\n",
       "      <td>1</td>\n",
       "      <td>1</td>\n",
       "      <td>0</td>\n",
       "      <td>0</td>\n",
       "      <td>0</td>\n",
       "    </tr>\n",
       "  </tbody>\n",
       "</table>\n",
       "<p>292736 rows × 10 columns</p>\n",
       "</div>\n",
       "      <button class=\"colab-df-convert\" onclick=\"convertToInteractive('df-e2b42866-905b-4665-bd93-2bea0e15e01b')\"\n",
       "              title=\"Convert this dataframe to an interactive table.\"\n",
       "              style=\"display:none;\">\n",
       "        \n",
       "  <svg xmlns=\"http://www.w3.org/2000/svg\" height=\"24px\"viewBox=\"0 0 24 24\"\n",
       "       width=\"24px\">\n",
       "    <path d=\"M0 0h24v24H0V0z\" fill=\"none\"/>\n",
       "    <path d=\"M18.56 5.44l.94 2.06.94-2.06 2.06-.94-2.06-.94-.94-2.06-.94 2.06-2.06.94zm-11 1L8.5 8.5l.94-2.06 2.06-.94-2.06-.94L8.5 2.5l-.94 2.06-2.06.94zm10 10l.94 2.06.94-2.06 2.06-.94-2.06-.94-.94-2.06-.94 2.06-2.06.94z\"/><path d=\"M17.41 7.96l-1.37-1.37c-.4-.4-.92-.59-1.43-.59-.52 0-1.04.2-1.43.59L10.3 9.45l-7.72 7.72c-.78.78-.78 2.05 0 2.83L4 21.41c.39.39.9.59 1.41.59.51 0 1.02-.2 1.41-.59l7.78-7.78 2.81-2.81c.8-.78.8-2.07 0-2.86zM5.41 20L4 18.59l7.72-7.72 1.47 1.35L5.41 20z\"/>\n",
       "  </svg>\n",
       "      </button>\n",
       "      \n",
       "  <style>\n",
       "    .colab-df-container {\n",
       "      display:flex;\n",
       "      flex-wrap:wrap;\n",
       "      gap: 12px;\n",
       "    }\n",
       "\n",
       "    .colab-df-convert {\n",
       "      background-color: #E8F0FE;\n",
       "      border: none;\n",
       "      border-radius: 50%;\n",
       "      cursor: pointer;\n",
       "      display: none;\n",
       "      fill: #1967D2;\n",
       "      height: 32px;\n",
       "      padding: 0 0 0 0;\n",
       "      width: 32px;\n",
       "    }\n",
       "\n",
       "    .colab-df-convert:hover {\n",
       "      background-color: #E2EBFA;\n",
       "      box-shadow: 0px 1px 2px rgba(60, 64, 67, 0.3), 0px 1px 3px 1px rgba(60, 64, 67, 0.15);\n",
       "      fill: #174EA6;\n",
       "    }\n",
       "\n",
       "    [theme=dark] .colab-df-convert {\n",
       "      background-color: #3B4455;\n",
       "      fill: #D2E3FC;\n",
       "    }\n",
       "\n",
       "    [theme=dark] .colab-df-convert:hover {\n",
       "      background-color: #434B5C;\n",
       "      box-shadow: 0px 1px 3px 1px rgba(0, 0, 0, 0.15);\n",
       "      filter: drop-shadow(0px 1px 2px rgba(0, 0, 0, 0.3));\n",
       "      fill: #FFFFFF;\n",
       "    }\n",
       "  </style>\n",
       "\n",
       "      <script>\n",
       "        const buttonEl =\n",
       "          document.querySelector('#df-e2b42866-905b-4665-bd93-2bea0e15e01b button.colab-df-convert');\n",
       "        buttonEl.style.display =\n",
       "          google.colab.kernel.accessAllowed ? 'block' : 'none';\n",
       "\n",
       "        async function convertToInteractive(key) {\n",
       "          const element = document.querySelector('#df-e2b42866-905b-4665-bd93-2bea0e15e01b');\n",
       "          const dataTable =\n",
       "            await google.colab.kernel.invokeFunction('convertToInteractive',\n",
       "                                                     [key], {});\n",
       "          if (!dataTable) return;\n",
       "\n",
       "          const docLinkHtml = 'Like what you see? Visit the ' +\n",
       "            '<a target=\"_blank\" href=https://colab.research.google.com/notebooks/data_table.ipynb>data table notebook</a>'\n",
       "            + ' to learn more about interactive tables.';\n",
       "          element.innerHTML = '';\n",
       "          dataTable['output_type'] = 'display_data';\n",
       "          await google.colab.output.renderOutput(dataTable, element);\n",
       "          const docLink = document.createElement('div');\n",
       "          docLink.innerHTML = docLinkHtml;\n",
       "          element.appendChild(docLink);\n",
       "        }\n",
       "      </script>\n",
       "    </div>\n",
       "  </div>\n",
       "  "
      ],
      "text/plain": [
       "        efeitos_desejados 1  efeitos_desejados 2  efeitos_desejados 3  \\\n",
       "294324                    1                    1                    0   \n",
       "543790                    0                    0                    1   \n",
       "417082                    0                    1                    0   \n",
       "211987                    1                    0                    1   \n",
       "186537                    1                    1                    0   \n",
       "...                     ...                  ...                  ...   \n",
       "506355                    1                    1                    0   \n",
       "480040                    0                    0                    0   \n",
       "362897                    1                    0                    0   \n",
       "230897                    1                    0                    1   \n",
       "382088                    0                    0                    0   \n",
       "\n",
       "        efeitos_desejados 4  efeitos_desejados 5  efeitos_desejados 6  \\\n",
       "294324                    0                    0                    1   \n",
       "543790                    1                    0                    1   \n",
       "417082                    1                    0                    1   \n",
       "211987                    0                    0                    1   \n",
       "186537                    1                    1                    0   \n",
       "...                     ...                  ...                  ...   \n",
       "506355                    1                    0                    0   \n",
       "480040                    1                    0                    1   \n",
       "362897                    0                    0                    0   \n",
       "230897                    1                    0                    1   \n",
       "382088                    0                    0                    1   \n",
       "\n",
       "        efeitos_desejados 7  efeitos_desejados 8  efeitos_desejados 9  \\\n",
       "294324                    0                    1                    0   \n",
       "543790                    1                    1                    0   \n",
       "417082                    1                    0                    0   \n",
       "211987                    1                    0                    0   \n",
       "186537                    1                    0                    0   \n",
       "...                     ...                  ...                  ...   \n",
       "506355                    0                    0                    0   \n",
       "480040                    0                    1                    0   \n",
       "362897                    1                    0                    0   \n",
       "230897                    1                    0                    0   \n",
       "382088                    1                    0                    0   \n",
       "\n",
       "        efeitos_desejados 10  \n",
       "294324                     0  \n",
       "543790                     0  \n",
       "417082                     0  \n",
       "211987                     0  \n",
       "186537                     1  \n",
       "...                      ...  \n",
       "506355                     0  \n",
       "480040                     0  \n",
       "362897                     0  \n",
       "230897                     0  \n",
       "382088                     0  \n",
       "\n",
       "[292736 rows x 10 columns]"
      ]
     },
     "execution_count": 59,
     "metadata": {},
     "output_type": "execute_result"
    }
   ],
   "source": [
    "data.iloc[:, -10:]"
   ]
  },
  {
   "cell_type": "markdown",
   "metadata": {
    "id": "Nw4pZf6IpMyD"
   },
   "source": [
    "### Encoding"
   ]
  },
  {
   "cell_type": "markdown",
   "metadata": {
    "id": "_dX35YYCpMyE"
   },
   "source": [
    "**sistema_operacional**"
   ]
  },
  {
   "cell_type": "code",
   "execution_count": 60,
   "metadata": {
    "colab": {
     "base_uri": "https://localhost:8080/"
    },
    "executionInfo": {
     "elapsed": 9,
     "status": "ok",
     "timestamp": 1661286038792,
     "user": {
      "displayName": "Solano Jacon",
      "userId": "03193064938437592202"
     },
     "user_tz": 180
    },
    "id": "chYOPnMQpMyE",
    "outputId": "b5e4613c-1b17-4f72-d309-b8a610ee7db9"
   },
   "outputs": [
    {
     "data": {
      "text/plain": [
       "array(['Android', 'iOS', 'Mac OS', 'Windows', 'Linux', ' ChromeOS'],\n",
       "      dtype=object)"
      ]
     },
     "execution_count": 60,
     "metadata": {},
     "output_type": "execute_result"
    }
   ],
   "source": [
    "data['sistema_operacional'].unique()"
   ]
  },
  {
   "cell_type": "code",
   "execution_count": 61,
   "metadata": {
    "executionInfo": {
     "elapsed": 434,
     "status": "ok",
     "timestamp": 1661286039220,
     "user": {
      "displayName": "Solano Jacon",
      "userId": "03193064938437592202"
     },
     "user_tz": 180
    },
    "id": "TxjhNeNLpMyE"
   },
   "outputs": [],
   "source": [
    "feature_to_encode = 'sistema_operacional'\n",
    "ohe = OneHotEncoder(sparse=False)\n",
    "column_encoded = ohe.fit_transform(data[[feature_to_encode]])\n",
    "data[feature_to_encode + '_e_' + ohe.categories_[0]] = column_encoded"
   ]
  },
  {
   "cell_type": "code",
   "execution_count": 62,
   "metadata": {
    "colab": {
     "base_uri": "https://localhost:8080/"
    },
    "executionInfo": {
     "elapsed": 13,
     "status": "ok",
     "timestamp": 1661286039220,
     "user": {
      "displayName": "Solano Jacon",
      "userId": "03193064938437592202"
     },
     "user_tz": 180
    },
    "id": "tTjPIDCapMyE",
    "outputId": "53dbe30d-8cf5-4bfd-fd94-2b8511eda3f0"
   },
   "outputs": [
    {
     "data": {
      "text/plain": [
       "[array([' ChromeOS', 'Android', 'Linux', 'Mac OS', 'Windows', 'iOS'],\n",
       "       dtype=object)]"
      ]
     },
     "execution_count": 62,
     "metadata": {},
     "output_type": "execute_result"
    }
   ],
   "source": [
    "ohe.categories_"
   ]
  },
  {
   "cell_type": "code",
   "execution_count": 63,
   "metadata": {
    "colab": {
     "base_uri": "https://localhost:8080/"
    },
    "executionInfo": {
     "elapsed": 9,
     "status": "ok",
     "timestamp": 1661286039220,
     "user": {
      "displayName": "Solano Jacon",
      "userId": "03193064938437592202"
     },
     "user_tz": 180
    },
    "id": "hlRM2lNqpMyE",
    "outputId": "1d39881f-f914-4eef-d3e1-90f998eb0e4f"
   },
   "outputs": [
    {
     "data": {
      "text/plain": [
       "Index(['id_form', 'id_cliente', 'data', 'sistema_operacional', 'navegador',\n",
       "       'localizacao', 'locale', 'cidade', 'estado', 'qtde_lavagem_semana',\n",
       "       'utm_source', 'tipo_cabelo', 'comprimento', 'tipo_fios',\n",
       "       'procedimentos', 'tempo_procedimento', 'dieta', 'atividade_fisica',\n",
       "       'frequencia_estresse', 'caracteristica', 'faixa_etaria',\n",
       "       'efeitos_desejados', 'fragancia', 'id_pedido', 'id', 'pedido',\n",
       "       'tempo_procedimento_quantificado', 'faixa_etaria_quantificado',\n",
       "       'procedimento Corte agressivo', 'procedimento Exposição ao sol',\n",
       "       'procedimento Nenhum', 'procedimento N/C', 'procedimento Tintura',\n",
       "       'procedimento Todos acima', 'caracteristica 1', 'caracteristica 2',\n",
       "       'caracteristica 3', 'caracteristica 4', 'caracteristica 5',\n",
       "       'caracteristica 6', 'caracteristica 7', 'caracteristica 8',\n",
       "       'caracteristica 9', 'caracteristica 10', 'efeitos_desejados_modificado',\n",
       "       'efeitos_desejados 1', 'efeitos_desejados 2', 'efeitos_desejados 3',\n",
       "       'efeitos_desejados 4', 'efeitos_desejados 5', 'efeitos_desejados 6',\n",
       "       'efeitos_desejados 7', 'efeitos_desejados 8', 'efeitos_desejados 9',\n",
       "       'efeitos_desejados 10', 'sistema_operacional_e_ ChromeOS',\n",
       "       'sistema_operacional_e_Android', 'sistema_operacional_e_Linux',\n",
       "       'sistema_operacional_e_Mac OS', 'sistema_operacional_e_Windows',\n",
       "       'sistema_operacional_e_iOS'],\n",
       "      dtype='object')"
      ]
     },
     "execution_count": 63,
     "metadata": {},
     "output_type": "execute_result"
    }
   ],
   "source": [
    "data.columns"
   ]
  },
  {
   "cell_type": "markdown",
   "metadata": {
    "id": "HWXPyV93pMyE"
   },
   "source": [
    "**estado**"
   ]
  },
  {
   "cell_type": "code",
   "execution_count": 64,
   "metadata": {
    "colab": {
     "base_uri": "https://localhost:8080/"
    },
    "executionInfo": {
     "elapsed": 6,
     "status": "ok",
     "timestamp": 1661286039220,
     "user": {
      "displayName": "Solano Jacon",
      "userId": "03193064938437592202"
     },
     "user_tz": 180
    },
    "id": "U1dn5lespMyE",
    "outputId": "a825287a-cc3a-456b-a272-d1230e8ea30f"
   },
   "outputs": [
    {
     "data": {
      "text/plain": [
       "array([' SAO PAULO', ' RIO DE JANEIRO', ' PARANA', ' FEDERAL DISTRICT',\n",
       "       ' ALAGOAS', ' PARA', ' MINAS GERAIS', ' GOIAS',\n",
       "       ' RIO GRANDE DO SUL', ' MATO GROSSO', ' BAHIA', ' CEARA',\n",
       "       ' MATO GROSSO DO SUL', ' ESPIRITO SANTO', ' SANTA CATARINA',\n",
       "       ' AMAZONAS', ' PARAÍBA', ' RIO GRANDE DO NORTE', ' MARANHAO',\n",
       "       ' PERNAMBUCO', ' TOCANTINS', ' RONDONIA', ' SERGIPE', ' NULL',\n",
       "       ' RORAIMA', ' PIAUI', ' ENGLAND', ' CASTILLE AND LEÓN', ' FLORIDA',\n",
       "       ' MEXICO CITY', ' ACRE', ' AMAPA', ' DISTRICT OF COLUMBIA',\n",
       "       ' MASSACHUSETTS', ' CORDOBA', ' BADEN-WÜRTTEMBERG', nan,\n",
       "       ' EMILIA-ROMAGNA', ' LISBON', ' MADRID', ' OHIO', ' HAMBURG',\n",
       "       ' PIEDMONT', ' FARO', ' BRITISH COLUMBIA',\n",
       "       ' DEPARTAMENTO DEL ALTO PARANA', ' NEW JERSEY', ' GENEVA',\n",
       "       ' LOMBARDY', ' SANTARÉM', ' DEPARTAMENTO DE LA PAZ',\n",
       "       ' DEPARTAMENTO DE ROCHA', ' CALIFORNIA', ' PORTO', ' MADEIRA',\n",
       "       ' BUENOS AIRES', ' AUVERGNE-RHONE-ALPES', ' ÎLE-DE-FRANCE',\n",
       "       ' ASUNCION', ' DEPARTAMENTO DE CANINDEYU',\n",
       "       ' SANTIAGO METROPOLITAN', ' MÉXICO', ' VICTORIA', ' ANDALUSIA',\n",
       "       ' OCCITANIE', ' BRAGA', ' VAUD', ' VIRGINIA', ' ZURICH',\n",
       "       ' BRAGANÇA', ' FLANDERS', ' LEINSTER', ' TEXAS',\n",
       "       ' NOUVELLE-AQUITAINE', ' BUENOS AIRES F.D.', ' CAMPANIA',\n",
       "       ' NEW YORK', ' DEPARTAMENTO DE MONTEVIDEO', ' ÉVORA', ' WALLONIA',\n",
       "       ' PUEBLA', ' DEPARTAMENTO DE NEEMBUCU', ' CONNECTICUT',\n",
       "       ' FRIBOURG', ' AZORES', ' VIANA DO CASTELO',\n",
       "       ' BALADIYAT AD DAWHAH', ' MADRE DE DIOS', ' CERRO LARGO', ' UTAH',\n",
       "       ' GALICIA', ' BRITTANY', ' DEPARTAMENTO DE MISIONES',\n",
       "       ' LAND BERLIN', ' DEMERARA-MAHAICA REGION', ' SAINT GALLEN',\n",
       "       ' HLAVNI MESTO PRAHA', ' COIMBRA', ' REGION DEL BIOBIO',\n",
       "       ' BASQUE COUNTRY', ' DEPARTAMENTO DE SANTA CRUZ', ' QUEBEC',\n",
       "       ' ONTARIO', ' DISTRICT OF SETÚBAL', ' SOUTH HOLLAND',\n",
       "       ' PROVINCIA DUARTE', ' ABU DHABI', ' COLORADO', ' GYEONGGI-DO',\n",
       "       ' UUSIMAA', ' BALEARIC ISLANDS', ' GEORGIA',\n",
       "       ' DEPARTAMENTO DE SALTO', ' CONNAUGHT', ' WASHINGTON',\n",
       "       ' BRUSSELS CAPITAL', ' ILLINOIS', ' AVEIRO', ' AARGAU', ' AICHI',\n",
       "       ' TEL AVIV', ' EXTREMADURA', ' YUCATÁN', ' SUD', ' VISEU',\n",
       "       ' LEIRIA', ' BAVARIA', ' PROVINCIA DE SAN JOSE', ' MICHIGAN',\n",
       "       ' VENETO', ' DUBAI', ' OKLAHOMA', ' ALABAMA', ' ATTICA',\n",
       "       ' MISIONES', ' MUNSTER', ' MINNESOTA', ' CASTELO BRANCO',\n",
       "       ' CATALONIA', ' NEW SOUTH WALES', ' BICOL', ' VILA REAL',\n",
       "       ' NEVADA', ' PORTALEGRE', ' APULIA', ' OSLO COUNTY', ' VERMONT',\n",
       "       ' BOGOTA D.C.', ' DEPARTAMENTO CENTRAL', ' ULSTER',\n",
       "       ' DEPARTAMENTO DEL AMAMBAY', ' BRATISLAVA',\n",
       "       ' DEPARTAMENTO DE CAAGUAZU', ' GIZA',\n",
       "       \" PROVENCE-ALPES-CÔTE D'AZUR\", ' ALBERTA', ' NORTH CAROLINA',\n",
       "       ' RHODE ISLAND', ' MECKLENBURG-VORPOMMERN', ' HAIFA', ' QUERÉTARO',\n",
       "       ' LIMA', ' MALDONADO', ' GAUTENG', ' PENNSYLVANIA', ' SANTA FE',\n",
       "       ' VALENCIA', ' CIDADE DE MAPUTO', ' DEPARTAMENTO DE PARAGUARI',\n",
       "       ' NEW HAMPSHIRE', ' LUXEMBOURG', ' COAHUILA', ' RHEINLAND-PFALZ',\n",
       "       ' PHUKET', ' CAPITAL REGION', ' PAYS DE LA LOIRE', ' LOUISIANA',\n",
       "       ' REGION DE VALPARAISO', ' MISSOURI', ' QUEENSLAND', ' MARYLAND',\n",
       "       ' CASTILLE-LA MANCHA', ' DEPARTAMENTO DE LA CORDILLERA',\n",
       "       ' SONGKHLA', ' CALABRIA', ' UTRECHT', ' IDAHO', ' SALTA', ' SHIGA',\n",
       "       ' DEPARTAMENTO DE PANDO', ' TOKYO', ' TRØNDELAG', ' SEOUL',\n",
       "       ' LAZIO', ' HAWAII', ' KAUNAS', ' NORTH DENMARK', ' MANITOBA',\n",
       "       ' MIE', ' OSAKA', ' PUNJAB', ' HAUTS-DE-FRANCE', ' FUKUI',\n",
       "       ' ARIZONA', ' DEPARTAMENTO DEL META', ' CANELONES', ' ZEELAND',\n",
       "       ' FUKUOKA', ' DRENTHE', ' NOVA SCOTIA', ' NORTH HOLLAND',\n",
       "       ' CENTRAL VISAYAS', ' BAJA CALIFORNIA', ' RIYADH REGION',\n",
       "       ' OBCINA LASKO', ' GUARDA', ' SCOTLAND', ' NORTH RHINE-WESTPHALIA',\n",
       "       ' BERN', ' CHIHUAHUA', ' CANARY ISLANDS', ' SINDH',\n",
       "       ' NORTHERN IRELAND', ' DISTRIKT PARAMARIBO', ' ATLÁNTICO',\n",
       "       ' SHIZUOKA', ' ARAGON', ' TUSCANY', ' SARDINIA', ' AL ASIMAH',\n",
       "       ' HESSE', ' CENTRAL JUTLAND', ' LATIUM', ' BEJA',\n",
       "       ' DEPARTAMENTO DE COCHABAMBA', ' OREGON', ' CORRIENTES',\n",
       "       ' LOWER SAXONY', ' SOUTH AUSTRALIA', ' ABRUZZO', ' MOSTEIROS',\n",
       "       ' SHIMANE', ' SICILY', ' GABU', ' STOCKHOLM COUNTY', ' ESTUAIRE',\n",
       "       ' DEPARTAMENTO DE RIO NEGRO', ' DEPARTAMENTO DE ITAPUA',\n",
       "       ' DEPARTAMENTO DE RISARALDA', ' BAFATA', ' BARANYA', ' ÑUBLE',\n",
       "       ' NORTH BRABANT', ' ZULIA', ' NORMANDY', ' ISLAMABAD', ' NEUQUEN',\n",
       "       ' WALES', ' GELDERLAND', ' PEST MEGYE', ' SELANGOR', ' DELAWARE',\n",
       "       ' JURA'], dtype=object)"
      ]
     },
     "execution_count": 64,
     "metadata": {},
     "output_type": "execute_result"
    }
   ],
   "source": [
    "data['estado'].unique()"
   ]
  },
  {
   "cell_type": "code",
   "execution_count": 65,
   "metadata": {
    "executionInfo": {
     "elapsed": 4,
     "status": "ok",
     "timestamp": 1661286039221,
     "user": {
      "displayName": "Solano Jacon",
      "userId": "03193064938437592202"
     },
     "user_tz": 180
    },
    "id": "ydKFI3hbh_15"
   },
   "outputs": [],
   "source": [
    "data['estado_modificado'] = data['estado'].fillna(value='SEM PREENCHIMENTO')"
   ]
  },
  {
   "cell_type": "code",
   "execution_count": 66,
   "metadata": {
    "executionInfo": {
     "elapsed": 3805,
     "status": "ok",
     "timestamp": 1661286043023,
     "user": {
      "displayName": "Solano Jacon",
      "userId": "03193064938437592202"
     },
     "user_tz": 180
    },
    "id": "ryy84FLWpMyF"
   },
   "outputs": [],
   "source": [
    "feature_to_encode = 'estado_modificado'\n",
    "ohe = OneHotEncoder(sparse=False)\n",
    "column_encoded = ohe.fit_transform(data[[feature_to_encode]])\n",
    "data[feature_to_encode + '_e_' + ohe.categories_[0]] = column_encoded"
   ]
  },
  {
   "cell_type": "code",
   "execution_count": 67,
   "metadata": {
    "colab": {
     "base_uri": "https://localhost:8080/"
    },
    "executionInfo": {
     "elapsed": 19,
     "status": "ok",
     "timestamp": 1661286043024,
     "user": {
      "displayName": "Solano Jacon",
      "userId": "03193064938437592202"
     },
     "user_tz": 180
    },
    "id": "ecuy-BJ2dtHq",
    "outputId": "6c9327dc-4a69-490c-b393-6a79a3a04dec"
   },
   "outputs": [
    {
     "data": {
      "text/plain": [
       "array([' AARGAU', ' ABRUZZO', ' ABU DHABI', ' ACRE', ' AICHI',\n",
       "       ' AL ASIMAH', ' ALABAMA', ' ALAGOAS', ' ALBERTA', ' AMAPA',\n",
       "       ' AMAZONAS', ' ANDALUSIA', ' APULIA', ' ARAGON', ' ARIZONA',\n",
       "       ' ASUNCION', ' ATLÁNTICO', ' ATTICA', ' AUVERGNE-RHONE-ALPES',\n",
       "       ' AVEIRO', ' AZORES', ' BADEN-WÜRTTEMBERG', ' BAFATA', ' BAHIA',\n",
       "       ' BAJA CALIFORNIA', ' BALADIYAT AD DAWHAH', ' BALEARIC ISLANDS',\n",
       "       ' BARANYA', ' BASQUE COUNTRY', ' BAVARIA', ' BEJA', ' BERN',\n",
       "       ' BICOL', ' BOGOTA D.C.', ' BRAGA', ' BRAGANÇA', ' BRATISLAVA',\n",
       "       ' BRITISH COLUMBIA', ' BRITTANY', ' BRUSSELS CAPITAL',\n",
       "       ' BUENOS AIRES', ' BUENOS AIRES F.D.', ' CALABRIA', ' CALIFORNIA',\n",
       "       ' CAMPANIA', ' CANARY ISLANDS', ' CANELONES', ' CAPITAL REGION',\n",
       "       ' CASTELO BRANCO', ' CASTILLE AND LEÓN', ' CASTILLE-LA MANCHA',\n",
       "       ' CATALONIA', ' CEARA', ' CENTRAL JUTLAND', ' CENTRAL VISAYAS',\n",
       "       ' CERRO LARGO', ' CHIHUAHUA', ' CIDADE DE MAPUTO', ' COAHUILA',\n",
       "       ' COIMBRA', ' COLORADO', ' CONNAUGHT', ' CONNECTICUT', ' CORDOBA',\n",
       "       ' CORRIENTES', ' DELAWARE', ' DEMERARA-MAHAICA REGION',\n",
       "       ' DEPARTAMENTO CENTRAL', ' DEPARTAMENTO DE CAAGUAZU',\n",
       "       ' DEPARTAMENTO DE CANINDEYU', ' DEPARTAMENTO DE COCHABAMBA',\n",
       "       ' DEPARTAMENTO DE ITAPUA', ' DEPARTAMENTO DE LA CORDILLERA',\n",
       "       ' DEPARTAMENTO DE LA PAZ', ' DEPARTAMENTO DE MISIONES',\n",
       "       ' DEPARTAMENTO DE MONTEVIDEO', ' DEPARTAMENTO DE NEEMBUCU',\n",
       "       ' DEPARTAMENTO DE PANDO', ' DEPARTAMENTO DE PARAGUARI',\n",
       "       ' DEPARTAMENTO DE RIO NEGRO', ' DEPARTAMENTO DE RISARALDA',\n",
       "       ' DEPARTAMENTO DE ROCHA', ' DEPARTAMENTO DE SALTO',\n",
       "       ' DEPARTAMENTO DE SANTA CRUZ', ' DEPARTAMENTO DEL ALTO PARANA',\n",
       "       ' DEPARTAMENTO DEL AMAMBAY', ' DEPARTAMENTO DEL META',\n",
       "       ' DISTRICT OF COLUMBIA', ' DISTRICT OF SETÚBAL',\n",
       "       ' DISTRIKT PARAMARIBO', ' DRENTHE', ' DUBAI', ' EMILIA-ROMAGNA',\n",
       "       ' ENGLAND', ' ESPIRITO SANTO', ' ESTUAIRE', ' EXTREMADURA',\n",
       "       ' FARO', ' FEDERAL DISTRICT', ' FLANDERS', ' FLORIDA', ' FRIBOURG',\n",
       "       ' FUKUI', ' FUKUOKA', ' GABU', ' GALICIA', ' GAUTENG',\n",
       "       ' GELDERLAND', ' GENEVA', ' GEORGIA', ' GIZA', ' GOIAS', ' GUARDA',\n",
       "       ' GYEONGGI-DO', ' HAIFA', ' HAMBURG', ' HAUTS-DE-FRANCE',\n",
       "       ' HAWAII', ' HESSE', ' HLAVNI MESTO PRAHA', ' IDAHO', ' ILLINOIS',\n",
       "       ' ISLAMABAD', ' JURA', ' KAUNAS', ' LAND BERLIN', ' LATIUM',\n",
       "       ' LAZIO', ' LEINSTER', ' LEIRIA', ' LIMA', ' LISBON', ' LOMBARDY',\n",
       "       ' LOUISIANA', ' LOWER SAXONY', ' LUXEMBOURG', ' MADEIRA',\n",
       "       ' MADRE DE DIOS', ' MADRID', ' MALDONADO', ' MANITOBA',\n",
       "       ' MARANHAO', ' MARYLAND', ' MASSACHUSETTS', ' MATO GROSSO',\n",
       "       ' MATO GROSSO DO SUL', ' MECKLENBURG-VORPOMMERN', ' MEXICO CITY',\n",
       "       ' MICHIGAN', ' MIE', ' MINAS GERAIS', ' MINNESOTA', ' MISIONES',\n",
       "       ' MISSOURI', ' MOSTEIROS', ' MUNSTER', ' MÉXICO', ' NEUQUEN',\n",
       "       ' NEVADA', ' NEW HAMPSHIRE', ' NEW JERSEY', ' NEW SOUTH WALES',\n",
       "       ' NEW YORK', ' NORMANDY', ' NORTH BRABANT', ' NORTH CAROLINA',\n",
       "       ' NORTH DENMARK', ' NORTH HOLLAND', ' NORTH RHINE-WESTPHALIA',\n",
       "       ' NORTHERN IRELAND', ' NOUVELLE-AQUITAINE', ' NOVA SCOTIA',\n",
       "       ' NULL', ' OBCINA LASKO', ' OCCITANIE', ' OHIO', ' OKLAHOMA',\n",
       "       ' ONTARIO', ' OREGON', ' OSAKA', ' OSLO COUNTY', ' PARA',\n",
       "       ' PARANA', ' PARAÍBA', ' PAYS DE LA LOIRE', ' PENNSYLVANIA',\n",
       "       ' PERNAMBUCO', ' PEST MEGYE', ' PHUKET', ' PIAUI', ' PIEDMONT',\n",
       "       ' PORTALEGRE', ' PORTO', \" PROVENCE-ALPES-CÔTE D'AZUR\",\n",
       "       ' PROVINCIA DE SAN JOSE', ' PROVINCIA DUARTE', ' PUEBLA',\n",
       "       ' PUNJAB', ' QUEBEC', ' QUEENSLAND', ' QUERÉTARO',\n",
       "       ' REGION DE VALPARAISO', ' REGION DEL BIOBIO', ' RHEINLAND-PFALZ',\n",
       "       ' RHODE ISLAND', ' RIO DE JANEIRO', ' RIO GRANDE DO NORTE',\n",
       "       ' RIO GRANDE DO SUL', ' RIYADH REGION', ' RONDONIA', ' RORAIMA',\n",
       "       ' SAINT GALLEN', ' SALTA', ' SANTA CATARINA', ' SANTA FE',\n",
       "       ' SANTARÉM', ' SANTIAGO METROPOLITAN', ' SAO PAULO', ' SARDINIA',\n",
       "       ' SCOTLAND', ' SELANGOR', ' SEOUL', ' SERGIPE', ' SHIGA',\n",
       "       ' SHIMANE', ' SHIZUOKA', ' SICILY', ' SINDH', ' SONGKHLA',\n",
       "       ' SOUTH AUSTRALIA', ' SOUTH HOLLAND', ' STOCKHOLM COUNTY', ' SUD',\n",
       "       ' TEL AVIV', ' TEXAS', ' TOCANTINS', ' TOKYO', ' TRØNDELAG',\n",
       "       ' TUSCANY', ' ULSTER', ' UTAH', ' UTRECHT', ' UUSIMAA',\n",
       "       ' VALENCIA', ' VAUD', ' VENETO', ' VERMONT', ' VIANA DO CASTELO',\n",
       "       ' VICTORIA', ' VILA REAL', ' VIRGINIA', ' VISEU', ' WALES',\n",
       "       ' WALLONIA', ' WASHINGTON', ' YUCATÁN', ' ZEELAND', ' ZULIA',\n",
       "       ' ZURICH', ' ÉVORA', ' ÎLE-DE-FRANCE', ' ÑUBLE',\n",
       "       'SEM PREENCHIMENTO'], dtype=object)"
      ]
     },
     "execution_count": 67,
     "metadata": {},
     "output_type": "execute_result"
    }
   ],
   "source": [
    "ohe.categories_[0]"
   ]
  },
  {
   "cell_type": "code",
   "execution_count": 68,
   "metadata": {
    "colab": {
     "base_uri": "https://localhost:8080/"
    },
    "executionInfo": {
     "elapsed": 18,
     "status": "ok",
     "timestamp": 1661286043024,
     "user": {
      "displayName": "Solano Jacon",
      "userId": "03193064938437592202"
     },
     "user_tz": 180
    },
    "id": "jVia5eiwpMyF",
    "outputId": "f37aaf1a-c282-4655-d19e-a0c744ffa717"
   },
   "outputs": [
    {
     "data": {
      "text/plain": [
       "Index(['id_form', 'id_cliente', 'data', 'sistema_operacional', 'navegador',\n",
       "       'localizacao', 'locale', 'cidade', 'estado', 'qtde_lavagem_semana',\n",
       "       ...\n",
       "       'estado_modificado_e_ WALLONIA', 'estado_modificado_e_ WASHINGTON',\n",
       "       'estado_modificado_e_ YUCATÁN', 'estado_modificado_e_ ZEELAND',\n",
       "       'estado_modificado_e_ ZULIA', 'estado_modificado_e_ ZURICH',\n",
       "       'estado_modificado_e_ ÉVORA', 'estado_modificado_e_ ÎLE-DE-FRANCE',\n",
       "       'estado_modificado_e_ ÑUBLE', 'estado_modificado_e_SEM PREENCHIMENTO'],\n",
       "      dtype='object', length=325)"
      ]
     },
     "execution_count": 68,
     "metadata": {},
     "output_type": "execute_result"
    }
   ],
   "source": [
    "data.columns"
   ]
  },
  {
   "cell_type": "markdown",
   "metadata": {
    "id": "bF4i-prIpMyF"
   },
   "source": [
    "**utm_source**"
   ]
  },
  {
   "cell_type": "code",
   "execution_count": 69,
   "metadata": {
    "colab": {
     "base_uri": "https://localhost:8080/"
    },
    "executionInfo": {
     "elapsed": 14,
     "status": "ok",
     "timestamp": 1661286043025,
     "user": {
      "displayName": "Solano Jacon",
      "userId": "03193064938437592202"
     },
     "user_tz": 180
    },
    "id": "QmJC4jsUpMyF",
    "outputId": "84bd61b1-664a-4988-e972-e03aa7f75a0c"
   },
   "outputs": [
    {
     "data": {
      "text/plain": [
       "array(['influencer', 'facebook', 'sf_wpp_camp', 'google', nan,\n",
       "       'sf_email_camp', 'rakuten', 'IGShopping', 'instagram', 'linktree',\n",
       "       'sf_wpp_flux', 'salesforce', 'microinfluencer', 'email_sf',\n",
       "       'tiktok', 'meliuz', 'blog', 'site', 'adwords', 'sf_email_flux',\n",
       "       'incicacao', 'sf_wpp_flu', 'sendinblue', 'sf_', 'sms', 'uaubox',\n",
       "       'telegram', 'whatsapp', 'sf_sms_camp', 'cpc', 'teste_source',\n",
       "       'santander', 'facebook ', 'Facebook ads '], dtype=object)"
      ]
     },
     "execution_count": 69,
     "metadata": {},
     "output_type": "execute_result"
    }
   ],
   "source": [
    "data['utm_source'].unique()"
   ]
  },
  {
   "cell_type": "code",
   "execution_count": 70,
   "metadata": {
    "executionInfo": {
     "elapsed": 12,
     "status": "ok",
     "timestamp": 1661286043025,
     "user": {
      "displayName": "Solano Jacon",
      "userId": "03193064938437592202"
     },
     "user_tz": 180
    },
    "id": "sZQrw5_Ajk8t"
   },
   "outputs": [],
   "source": [
    "data['utm_source_modificado'] = data['utm_source'].fillna(value='SEM PREENCHIMENTO')"
   ]
  },
  {
   "cell_type": "code",
   "execution_count": 71,
   "metadata": {
    "executionInfo": {
     "elapsed": 1339,
     "status": "ok",
     "timestamp": 1661286044352,
     "user": {
      "displayName": "Solano Jacon",
      "userId": "03193064938437592202"
     },
     "user_tz": 180
    },
    "id": "_6OlTtMSpMyF"
   },
   "outputs": [],
   "source": [
    "feature_to_encode = 'utm_source_modificado'\n",
    "ohe = OneHotEncoder(sparse=False)\n",
    "column_encoded = ohe.fit_transform(data[[feature_to_encode]])\n",
    "data[feature_to_encode + '_e_' + ohe.categories_[0]] = column_encoded"
   ]
  },
  {
   "cell_type": "code",
   "execution_count": 72,
   "metadata": {
    "colab": {
     "base_uri": "https://localhost:8080/"
    },
    "executionInfo": {
     "elapsed": 11,
     "status": "ok",
     "timestamp": 1661286044353,
     "user": {
      "displayName": "Solano Jacon",
      "userId": "03193064938437592202"
     },
     "user_tz": 180
    },
    "id": "l_P7Q-P_pMyG",
    "outputId": "b27b1357-6700-454e-a06d-676e36a70411"
   },
   "outputs": [
    {
     "data": {
      "text/plain": [
       "[array(['Facebook ads ', 'IGShopping', 'SEM PREENCHIMENTO', 'adwords',\n",
       "        'blog', 'cpc', 'email_sf', 'facebook', 'facebook ', 'google',\n",
       "        'incicacao', 'influencer', 'instagram', 'linktree', 'meliuz',\n",
       "        'microinfluencer', 'rakuten', 'salesforce', 'santander',\n",
       "        'sendinblue', 'sf_', 'sf_email_camp', 'sf_email_flux',\n",
       "        'sf_sms_camp', 'sf_wpp_camp', 'sf_wpp_flu', 'sf_wpp_flux', 'site',\n",
       "        'sms', 'telegram', 'teste_source', 'tiktok', 'uaubox', 'whatsapp'],\n",
       "       dtype=object)]"
      ]
     },
     "execution_count": 72,
     "metadata": {},
     "output_type": "execute_result"
    }
   ],
   "source": [
    "ohe.categories_"
   ]
  },
  {
   "cell_type": "code",
   "execution_count": 73,
   "metadata": {
    "colab": {
     "base_uri": "https://localhost:8080/"
    },
    "executionInfo": {
     "elapsed": 9,
     "status": "ok",
     "timestamp": 1661286044353,
     "user": {
      "displayName": "Solano Jacon",
      "userId": "03193064938437592202"
     },
     "user_tz": 180
    },
    "id": "w2kugiGZpMyG",
    "outputId": "e19f22c5-a660-4e74-b44e-16f0922b2f99"
   },
   "outputs": [
    {
     "data": {
      "text/plain": [
       "Index(['id_form', 'id_cliente', 'data', 'sistema_operacional', 'navegador',\n",
       "       'localizacao', 'locale', 'cidade', 'estado', 'qtde_lavagem_semana',\n",
       "       ...\n",
       "       'utm_source_modificado_e_sf_wpp_camp',\n",
       "       'utm_source_modificado_e_sf_wpp_flu',\n",
       "       'utm_source_modificado_e_sf_wpp_flux', 'utm_source_modificado_e_site',\n",
       "       'utm_source_modificado_e_sms', 'utm_source_modificado_e_telegram',\n",
       "       'utm_source_modificado_e_teste_source',\n",
       "       'utm_source_modificado_e_tiktok', 'utm_source_modificado_e_uaubox',\n",
       "       'utm_source_modificado_e_whatsapp'],\n",
       "      dtype='object', length=360)"
      ]
     },
     "execution_count": 73,
     "metadata": {},
     "output_type": "execute_result"
    }
   ],
   "source": [
    "data.columns"
   ]
  },
  {
   "cell_type": "markdown",
   "metadata": {
    "id": "aAP7yNhQpMyG"
   },
   "source": [
    "**tipo_cabelo**"
   ]
  },
  {
   "cell_type": "code",
   "execution_count": 74,
   "metadata": {
    "colab": {
     "base_uri": "https://localhost:8080/"
    },
    "executionInfo": {
     "elapsed": 6,
     "status": "ok",
     "timestamp": 1661286044353,
     "user": {
      "displayName": "Solano Jacon",
      "userId": "03193064938437592202"
     },
     "user_tz": 180
    },
    "id": "c7DGROCYpMyG",
    "outputId": "8efed08a-c6f2-469b-f9fc-c541db3285bd"
   },
   "outputs": [
    {
     "data": {
      "text/plain": [
       "array(['Tipo 2', 'Tipo 4', 'Tipo 1', 'Tipo 3'], dtype=object)"
      ]
     },
     "execution_count": 74,
     "metadata": {},
     "output_type": "execute_result"
    }
   ],
   "source": [
    "data['tipo_cabelo'].unique()"
   ]
  },
  {
   "cell_type": "code",
   "execution_count": 75,
   "metadata": {
    "executionInfo": {
     "elapsed": 456,
     "status": "ok",
     "timestamp": 1661286044805,
     "user": {
      "displayName": "Solano Jacon",
      "userId": "03193064938437592202"
     },
     "user_tz": 180
    },
    "id": "psicfrg_pMyG"
   },
   "outputs": [],
   "source": [
    "feature_to_encode = 'tipo_cabelo'\n",
    "ohe = OneHotEncoder(sparse=False)\n",
    "column_encoded = ohe.fit_transform(data[[feature_to_encode]])\n",
    "data[feature_to_encode + '_e_' + ohe.categories_[0]] = column_encoded"
   ]
  },
  {
   "cell_type": "code",
   "execution_count": 76,
   "metadata": {
    "colab": {
     "base_uri": "https://localhost:8080/"
    },
    "executionInfo": {
     "elapsed": 299,
     "status": "ok",
     "timestamp": 1661286045100,
     "user": {
      "displayName": "Solano Jacon",
      "userId": "03193064938437592202"
     },
     "user_tz": 180
    },
    "id": "oT7uG7yYpMyG",
    "outputId": "6bcedcae-734f-42e5-ba90-8d55ffaa1653"
   },
   "outputs": [
    {
     "data": {
      "text/plain": [
       "[array(['Tipo 1', 'Tipo 2', 'Tipo 3', 'Tipo 4'], dtype=object)]"
      ]
     },
     "execution_count": 76,
     "metadata": {},
     "output_type": "execute_result"
    }
   ],
   "source": [
    "ohe.categories_"
   ]
  },
  {
   "cell_type": "code",
   "execution_count": 77,
   "metadata": {
    "colab": {
     "base_uri": "https://localhost:8080/"
    },
    "executionInfo": {
     "elapsed": 7,
     "status": "ok",
     "timestamp": 1661286045100,
     "user": {
      "displayName": "Solano Jacon",
      "userId": "03193064938437592202"
     },
     "user_tz": 180
    },
    "id": "c_S6TfZ-pMyH",
    "outputId": "729776f9-9f31-4df2-9296-23bf13b5a4e7"
   },
   "outputs": [
    {
     "data": {
      "text/plain": [
       "Index(['id_form', 'id_cliente', 'data', 'sistema_operacional', 'navegador',\n",
       "       'localizacao', 'locale', 'cidade', 'estado', 'qtde_lavagem_semana',\n",
       "       ...\n",
       "       'utm_source_modificado_e_sms', 'utm_source_modificado_e_telegram',\n",
       "       'utm_source_modificado_e_teste_source',\n",
       "       'utm_source_modificado_e_tiktok', 'utm_source_modificado_e_uaubox',\n",
       "       'utm_source_modificado_e_whatsapp', 'tipo_cabelo_e_Tipo 1',\n",
       "       'tipo_cabelo_e_Tipo 2', 'tipo_cabelo_e_Tipo 3', 'tipo_cabelo_e_Tipo 4'],\n",
       "      dtype='object', length=364)"
      ]
     },
     "execution_count": 77,
     "metadata": {},
     "output_type": "execute_result"
    }
   ],
   "source": [
    "data.columns"
   ]
  },
  {
   "cell_type": "markdown",
   "metadata": {
    "id": "eq336Ub1pMyH"
   },
   "source": [
    "**comprimento**"
   ]
  },
  {
   "cell_type": "code",
   "execution_count": 78,
   "metadata": {
    "colab": {
     "base_uri": "https://localhost:8080/"
    },
    "executionInfo": {
     "elapsed": 4,
     "status": "ok",
     "timestamp": 1661286045100,
     "user": {
      "displayName": "Solano Jacon",
      "userId": "03193064938437592202"
     },
     "user_tz": 180
    },
    "id": "yV2Y7trzpMyH",
    "outputId": "3c113a89-55d3-4458-e9a4-4605bed058c2"
   },
   "outputs": [
    {
     "data": {
      "text/plain": [
       "array(['Muito curto', 'Raíz exposta', 'Longo', 'Extra longo'],\n",
       "      dtype=object)"
      ]
     },
     "execution_count": 78,
     "metadata": {},
     "output_type": "execute_result"
    }
   ],
   "source": [
    "data['comprimento'].unique()"
   ]
  },
  {
   "cell_type": "code",
   "execution_count": 79,
   "metadata": {
    "executionInfo": {
     "elapsed": 633,
     "status": "ok",
     "timestamp": 1661286045731,
     "user": {
      "displayName": "Solano Jacon",
      "userId": "03193064938437592202"
     },
     "user_tz": 180
    },
    "id": "LEqaIb7dpMyH"
   },
   "outputs": [],
   "source": [
    "feature_to_encode = 'comprimento'\n",
    "ohe = OneHotEncoder(sparse=False)\n",
    "column_encoded = ohe.fit_transform(data[[feature_to_encode]])\n",
    "data[feature_to_encode + '_e_' + ohe.categories_[0]] = column_encoded"
   ]
  },
  {
   "cell_type": "code",
   "execution_count": 80,
   "metadata": {
    "colab": {
     "base_uri": "https://localhost:8080/"
    },
    "executionInfo": {
     "elapsed": 12,
     "status": "ok",
     "timestamp": 1661286045731,
     "user": {
      "displayName": "Solano Jacon",
      "userId": "03193064938437592202"
     },
     "user_tz": 180
    },
    "id": "xrWC3h9-pMyH",
    "outputId": "2f3d000c-7f22-423e-c474-ce845dd2713f"
   },
   "outputs": [
    {
     "data": {
      "text/plain": [
       "[array(['Extra longo', 'Longo', 'Muito curto', 'Raíz exposta'],\n",
       "       dtype=object)]"
      ]
     },
     "execution_count": 80,
     "metadata": {},
     "output_type": "execute_result"
    }
   ],
   "source": [
    "ohe.categories_"
   ]
  },
  {
   "cell_type": "code",
   "execution_count": 81,
   "metadata": {
    "colab": {
     "base_uri": "https://localhost:8080/"
    },
    "executionInfo": {
     "elapsed": 8,
     "status": "ok",
     "timestamp": 1661286045732,
     "user": {
      "displayName": "Solano Jacon",
      "userId": "03193064938437592202"
     },
     "user_tz": 180
    },
    "id": "zwulOZgYpMyH",
    "outputId": "20382c6e-1654-4294-e382-8f5a4f2c07e5"
   },
   "outputs": [
    {
     "data": {
      "text/plain": [
       "Index(['id_form', 'id_cliente', 'data', 'sistema_operacional', 'navegador',\n",
       "       'localizacao', 'locale', 'cidade', 'estado', 'qtde_lavagem_semana',\n",
       "       ...\n",
       "       'utm_source_modificado_e_uaubox', 'utm_source_modificado_e_whatsapp',\n",
       "       'tipo_cabelo_e_Tipo 1', 'tipo_cabelo_e_Tipo 2', 'tipo_cabelo_e_Tipo 3',\n",
       "       'tipo_cabelo_e_Tipo 4', 'comprimento_e_Extra longo',\n",
       "       'comprimento_e_Longo', 'comprimento_e_Muito curto',\n",
       "       'comprimento_e_Raíz exposta'],\n",
       "      dtype='object', length=368)"
      ]
     },
     "execution_count": 81,
     "metadata": {},
     "output_type": "execute_result"
    }
   ],
   "source": [
    "data.columns"
   ]
  },
  {
   "cell_type": "markdown",
   "metadata": {
    "id": "gPIdU-h3pMyI"
   },
   "source": [
    "**tipo_fios**"
   ]
  },
  {
   "cell_type": "code",
   "execution_count": 82,
   "metadata": {
    "colab": {
     "base_uri": "https://localhost:8080/"
    },
    "executionInfo": {
     "elapsed": 5,
     "status": "ok",
     "timestamp": 1661286045732,
     "user": {
      "displayName": "Solano Jacon",
      "userId": "03193064938437592202"
     },
     "user_tz": 180
    },
    "id": "W-GqAseBpMyI",
    "outputId": "c34b42b8-2101-4ecb-c794-edb92aec78be"
   },
   "outputs": [
    {
     "data": {
      "text/plain": [
       "array(['Secos', 'Pontas duplas', 'Rebeldes', 'Perfeitos'], dtype=object)"
      ]
     },
     "execution_count": 82,
     "metadata": {},
     "output_type": "execute_result"
    }
   ],
   "source": [
    "data['tipo_fios'].unique()"
   ]
  },
  {
   "cell_type": "code",
   "execution_count": 83,
   "metadata": {
    "executionInfo": {
     "elapsed": 768,
     "status": "ok",
     "timestamp": 1661286046497,
     "user": {
      "displayName": "Solano Jacon",
      "userId": "03193064938437592202"
     },
     "user_tz": 180
    },
    "id": "JT5w4xBqpMyI"
   },
   "outputs": [],
   "source": [
    "feature_to_encode = 'tipo_fios'\n",
    "ohe = OneHotEncoder(sparse=False)\n",
    "column_encoded = ohe.fit_transform(data[[feature_to_encode]])\n",
    "data[feature_to_encode + '_e_' + ohe.categories_[0]] = column_encoded"
   ]
  },
  {
   "cell_type": "code",
   "execution_count": 84,
   "metadata": {
    "colab": {
     "base_uri": "https://localhost:8080/"
    },
    "executionInfo": {
     "elapsed": 11,
     "status": "ok",
     "timestamp": 1661286046498,
     "user": {
      "displayName": "Solano Jacon",
      "userId": "03193064938437592202"
     },
     "user_tz": 180
    },
    "id": "AhXkhYmkpMyI",
    "outputId": "0f30c20e-60ba-4477-9f0c-7c760fe121c0"
   },
   "outputs": [
    {
     "data": {
      "text/plain": [
       "[array(['Perfeitos', 'Pontas duplas', 'Rebeldes', 'Secos'], dtype=object)]"
      ]
     },
     "execution_count": 84,
     "metadata": {},
     "output_type": "execute_result"
    }
   ],
   "source": [
    "ohe.categories_"
   ]
  },
  {
   "cell_type": "code",
   "execution_count": 85,
   "metadata": {
    "colab": {
     "base_uri": "https://localhost:8080/"
    },
    "executionInfo": {
     "elapsed": 7,
     "status": "ok",
     "timestamp": 1661286046498,
     "user": {
      "displayName": "Solano Jacon",
      "userId": "03193064938437592202"
     },
     "user_tz": 180
    },
    "id": "UddOOJYOpMyI",
    "outputId": "d6f68d39-2459-4a3d-e133-c2d2d10ef49f"
   },
   "outputs": [
    {
     "data": {
      "text/plain": [
       "Index(['id_form', 'id_cliente', 'data', 'sistema_operacional', 'navegador',\n",
       "       'localizacao', 'locale', 'cidade', 'estado', 'qtde_lavagem_semana',\n",
       "       ...\n",
       "       'tipo_cabelo_e_Tipo 3', 'tipo_cabelo_e_Tipo 4',\n",
       "       'comprimento_e_Extra longo', 'comprimento_e_Longo',\n",
       "       'comprimento_e_Muito curto', 'comprimento_e_Raíz exposta',\n",
       "       'tipo_fios_e_Perfeitos', 'tipo_fios_e_Pontas duplas',\n",
       "       'tipo_fios_e_Rebeldes', 'tipo_fios_e_Secos'],\n",
       "      dtype='object', length=372)"
      ]
     },
     "execution_count": 85,
     "metadata": {},
     "output_type": "execute_result"
    }
   ],
   "source": [
    "data.columns"
   ]
  },
  {
   "cell_type": "markdown",
   "metadata": {
    "id": "sfBj2SaNpMyI"
   },
   "source": [
    "**dieta**"
   ]
  },
  {
   "cell_type": "code",
   "execution_count": 86,
   "metadata": {
    "colab": {
     "base_uri": "https://localhost:8080/"
    },
    "executionInfo": {
     "elapsed": 4,
     "status": "ok",
     "timestamp": 1661286046498,
     "user": {
      "displayName": "Solano Jacon",
      "userId": "03193064938437592202"
     },
     "user_tz": 180
    },
    "id": "1RKnngtnpMyI",
    "outputId": "e4c4cda0-12e6-4509-e102-31c3e0c22009"
   },
   "outputs": [
    {
     "data": {
      "text/plain": [
       "array(['Celíaca', 'Nenhuma restrição', 'Intolerante a lactose', 'Leve'],\n",
       "      dtype=object)"
      ]
     },
     "execution_count": 86,
     "metadata": {},
     "output_type": "execute_result"
    }
   ],
   "source": [
    "data['dieta'].unique()"
   ]
  },
  {
   "cell_type": "code",
   "execution_count": 87,
   "metadata": {
    "executionInfo": {
     "elapsed": 448,
     "status": "ok",
     "timestamp": 1661286046944,
     "user": {
      "displayName": "Solano Jacon",
      "userId": "03193064938437592202"
     },
     "user_tz": 180
    },
    "id": "AS7l1TuXpMyJ"
   },
   "outputs": [],
   "source": [
    "feature_to_encode = 'dieta'\n",
    "ohe = OneHotEncoder(sparse=False)\n",
    "column_encoded = ohe.fit_transform(data[[feature_to_encode]])\n",
    "data[feature_to_encode + '_e_' + ohe.categories_[0]] = column_encoded"
   ]
  },
  {
   "cell_type": "code",
   "execution_count": 88,
   "metadata": {
    "colab": {
     "base_uri": "https://localhost:8080/"
    },
    "executionInfo": {
     "elapsed": 10,
     "status": "ok",
     "timestamp": 1661286046944,
     "user": {
      "displayName": "Solano Jacon",
      "userId": "03193064938437592202"
     },
     "user_tz": 180
    },
    "id": "1x4vPK9rpMyJ",
    "outputId": "b59ff0e3-c6af-4f01-cfaf-f84fa8bbb41f"
   },
   "outputs": [
    {
     "data": {
      "text/plain": [
       "[array(['Celíaca', 'Intolerante a lactose', 'Leve', 'Nenhuma restrição'],\n",
       "       dtype=object)]"
      ]
     },
     "execution_count": 88,
     "metadata": {},
     "output_type": "execute_result"
    }
   ],
   "source": [
    "ohe.categories_"
   ]
  },
  {
   "cell_type": "code",
   "execution_count": 89,
   "metadata": {
    "colab": {
     "base_uri": "https://localhost:8080/"
    },
    "executionInfo": {
     "elapsed": 6,
     "status": "ok",
     "timestamp": 1661286046944,
     "user": {
      "displayName": "Solano Jacon",
      "userId": "03193064938437592202"
     },
     "user_tz": 180
    },
    "id": "cdNonjFypMyJ",
    "outputId": "13c603f4-f626-411f-81ba-ae4f7d45d464"
   },
   "outputs": [
    {
     "data": {
      "text/plain": [
       "Index(['id_form', 'id_cliente', 'data', 'sistema_operacional', 'navegador',\n",
       "       'localizacao', 'locale', 'cidade', 'estado', 'qtde_lavagem_semana',\n",
       "       ...\n",
       "       'comprimento_e_Muito curto', 'comprimento_e_Raíz exposta',\n",
       "       'tipo_fios_e_Perfeitos', 'tipo_fios_e_Pontas duplas',\n",
       "       'tipo_fios_e_Rebeldes', 'tipo_fios_e_Secos', 'dieta_e_Celíaca',\n",
       "       'dieta_e_Intolerante a lactose', 'dieta_e_Leve',\n",
       "       'dieta_e_Nenhuma restrição'],\n",
       "      dtype='object', length=376)"
      ]
     },
     "execution_count": 89,
     "metadata": {},
     "output_type": "execute_result"
    }
   ],
   "source": [
    "data.columns"
   ]
  },
  {
   "cell_type": "markdown",
   "metadata": {
    "id": "iEyMlE8bpMyJ"
   },
   "source": [
    "**atividade_fisica**"
   ]
  },
  {
   "cell_type": "code",
   "execution_count": 90,
   "metadata": {
    "colab": {
     "base_uri": "https://localhost:8080/"
    },
    "executionInfo": {
     "elapsed": 280,
     "status": "ok",
     "timestamp": 1661286047220,
     "user": {
      "displayName": "Solano Jacon",
      "userId": "03193064938437592202"
     },
     "user_tz": 180
    },
    "id": "2oo9oOjupMyJ",
    "outputId": "57d0caca-86c0-450a-e257-00c8c326fe86"
   },
   "outputs": [
    {
     "data": {
      "text/plain": [
       "array(['Raramente', 'Frequente', 'N/C', 'Sempre', 'Nunca'], dtype=object)"
      ]
     },
     "execution_count": 90,
     "metadata": {},
     "output_type": "execute_result"
    }
   ],
   "source": [
    "data['atividade_fisica'].unique()"
   ]
  },
  {
   "cell_type": "code",
   "execution_count": 91,
   "metadata": {
    "executionInfo": {
     "elapsed": 629,
     "status": "ok",
     "timestamp": 1661286047848,
     "user": {
      "displayName": "Solano Jacon",
      "userId": "03193064938437592202"
     },
     "user_tz": 180
    },
    "id": "dOwL2VfFpMyJ"
   },
   "outputs": [],
   "source": [
    "feature_to_encode = 'atividade_fisica'\n",
    "ohe = OneHotEncoder(sparse=False)\n",
    "column_encoded = ohe.fit_transform(data[[feature_to_encode]])\n",
    "data[feature_to_encode + '_e_' + ohe.categories_[0]] = column_encoded"
   ]
  },
  {
   "cell_type": "code",
   "execution_count": 92,
   "metadata": {
    "colab": {
     "base_uri": "https://localhost:8080/"
    },
    "executionInfo": {
     "elapsed": 10,
     "status": "ok",
     "timestamp": 1661286047849,
     "user": {
      "displayName": "Solano Jacon",
      "userId": "03193064938437592202"
     },
     "user_tz": 180
    },
    "id": "Lyb9_o3wpMyK",
    "outputId": "aba01f65-da98-492f-b627-cfbd681266d0"
   },
   "outputs": [
    {
     "data": {
      "text/plain": [
       "[array(['Frequente', 'N/C', 'Nunca', 'Raramente', 'Sempre'], dtype=object)]"
      ]
     },
     "execution_count": 92,
     "metadata": {},
     "output_type": "execute_result"
    }
   ],
   "source": [
    "ohe.categories_"
   ]
  },
  {
   "cell_type": "code",
   "execution_count": 93,
   "metadata": {
    "colab": {
     "base_uri": "https://localhost:8080/"
    },
    "executionInfo": {
     "elapsed": 5,
     "status": "ok",
     "timestamp": 1661286047849,
     "user": {
      "displayName": "Solano Jacon",
      "userId": "03193064938437592202"
     },
     "user_tz": 180
    },
    "id": "8P6zRFZFpMyK",
    "outputId": "55ba6dec-48cb-4af9-d3ab-15448c9d5b7f"
   },
   "outputs": [
    {
     "data": {
      "text/plain": [
       "Index(['id_form', 'id_cliente', 'data', 'sistema_operacional', 'navegador',\n",
       "       'localizacao', 'locale', 'cidade', 'estado', 'qtde_lavagem_semana',\n",
       "       ...\n",
       "       'tipo_fios_e_Secos', 'dieta_e_Celíaca', 'dieta_e_Intolerante a lactose',\n",
       "       'dieta_e_Leve', 'dieta_e_Nenhuma restrição',\n",
       "       'atividade_fisica_e_Frequente', 'atividade_fisica_e_N/C',\n",
       "       'atividade_fisica_e_Nunca', 'atividade_fisica_e_Raramente',\n",
       "       'atividade_fisica_e_Sempre'],\n",
       "      dtype='object', length=381)"
      ]
     },
     "execution_count": 93,
     "metadata": {},
     "output_type": "execute_result"
    }
   ],
   "source": [
    "data.columns"
   ]
  },
  {
   "cell_type": "markdown",
   "metadata": {
    "id": "gTPeEO_cpMyK"
   },
   "source": [
    "**frequencia_estresse**"
   ]
  },
  {
   "cell_type": "code",
   "execution_count": 94,
   "metadata": {
    "colab": {
     "base_uri": "https://localhost:8080/"
    },
    "executionInfo": {
     "elapsed": 473,
     "status": "ok",
     "timestamp": 1661286048320,
     "user": {
      "displayName": "Solano Jacon",
      "userId": "03193064938437592202"
     },
     "user_tz": 180
    },
    "id": "RnHvGWNMpMyK",
    "outputId": "5657802b-2c53-4987-8224-1e6a25e11dba"
   },
   "outputs": [
    {
     "data": {
      "text/plain": [
       "array(['Nunca', 'Uma vez por mês', 'Regularmente', 'Quase sempre'],\n",
       "      dtype=object)"
      ]
     },
     "execution_count": 94,
     "metadata": {},
     "output_type": "execute_result"
    }
   ],
   "source": [
    "data['frequencia_estresse'].unique()"
   ]
  },
  {
   "cell_type": "code",
   "execution_count": 95,
   "metadata": {
    "executionInfo": {
     "elapsed": 308,
     "status": "ok",
     "timestamp": 1661286048622,
     "user": {
      "displayName": "Solano Jacon",
      "userId": "03193064938437592202"
     },
     "user_tz": 180
    },
    "id": "xlrKboilpMyK"
   },
   "outputs": [],
   "source": [
    "feature_to_encode = 'frequencia_estresse'\n",
    "ohe = OneHotEncoder(sparse=False)\n",
    "column_encoded = ohe.fit_transform(data[[feature_to_encode]])\n",
    "data[feature_to_encode + '_e_' + ohe.categories_[0]] = column_encoded"
   ]
  },
  {
   "cell_type": "code",
   "execution_count": 96,
   "metadata": {
    "colab": {
     "base_uri": "https://localhost:8080/"
    },
    "executionInfo": {
     "elapsed": 8,
     "status": "ok",
     "timestamp": 1661286048622,
     "user": {
      "displayName": "Solano Jacon",
      "userId": "03193064938437592202"
     },
     "user_tz": 180
    },
    "id": "Nt5lXWtSpMyK",
    "outputId": "5642263e-f96d-4f0b-afe3-bff1e061267a"
   },
   "outputs": [
    {
     "data": {
      "text/plain": [
       "[array(['Nunca', 'Quase sempre', 'Regularmente', 'Uma vez por mês'],\n",
       "       dtype=object)]"
      ]
     },
     "execution_count": 96,
     "metadata": {},
     "output_type": "execute_result"
    }
   ],
   "source": [
    "ohe.categories_"
   ]
  },
  {
   "cell_type": "code",
   "execution_count": 97,
   "metadata": {
    "colab": {
     "base_uri": "https://localhost:8080/"
    },
    "executionInfo": {
     "elapsed": 7,
     "status": "ok",
     "timestamp": 1661286048623,
     "user": {
      "displayName": "Solano Jacon",
      "userId": "03193064938437592202"
     },
     "user_tz": 180
    },
    "id": "6l9p8w0IpMyL",
    "outputId": "21054612-46a2-4878-9871-9586843b6642"
   },
   "outputs": [
    {
     "data": {
      "text/plain": [
       "Index(['id_form', 'id_cliente', 'data', 'sistema_operacional', 'navegador',\n",
       "       'localizacao', 'locale', 'cidade', 'estado', 'qtde_lavagem_semana',\n",
       "       ...\n",
       "       'dieta_e_Nenhuma restrição', 'atividade_fisica_e_Frequente',\n",
       "       'atividade_fisica_e_N/C', 'atividade_fisica_e_Nunca',\n",
       "       'atividade_fisica_e_Raramente', 'atividade_fisica_e_Sempre',\n",
       "       'frequencia_estresse_e_Nunca', 'frequencia_estresse_e_Quase sempre',\n",
       "       'frequencia_estresse_e_Regularmente',\n",
       "       'frequencia_estresse_e_Uma vez por mês'],\n",
       "      dtype='object', length=385)"
      ]
     },
     "execution_count": 97,
     "metadata": {},
     "output_type": "execute_result"
    }
   ],
   "source": [
    "data.columns"
   ]
  },
  {
   "cell_type": "markdown",
   "metadata": {
    "id": "RW4kXe3HpMyL"
   },
   "source": [
    "### Scaling"
   ]
  },
  {
   "cell_type": "markdown",
   "metadata": {
    "id": "OMNrwAF3pMyL"
   },
   "source": [
    "**qtde_lavagem_semana**"
   ]
  },
  {
   "cell_type": "code",
   "execution_count": 98,
   "metadata": {
    "colab": {
     "base_uri": "https://localhost:8080/",
     "height": 424
    },
    "executionInfo": {
     "elapsed": 1217,
     "status": "ok",
     "timestamp": 1661286049836,
     "user": {
      "displayName": "Solano Jacon",
      "userId": "03193064938437592202"
     },
     "user_tz": 180
    },
    "id": "QX-zNjS0pMyL",
    "outputId": "14371a4c-edb1-43cb-cd03-c2d4bc073a28"
   },
   "outputs": [
    {
     "data": {
      "text/html": [
       "\n",
       "  <div id=\"df-24fa754d-adec-4bbf-a5fb-74367ad929a9\">\n",
       "    <div class=\"colab-df-container\">\n",
       "      <div>\n",
       "<style scoped>\n",
       "    .dataframe tbody tr th:only-of-type {\n",
       "        vertical-align: middle;\n",
       "    }\n",
       "\n",
       "    .dataframe tbody tr th {\n",
       "        vertical-align: top;\n",
       "    }\n",
       "\n",
       "    .dataframe thead th {\n",
       "        text-align: right;\n",
       "    }\n",
       "</style>\n",
       "<table border=\"1\" class=\"dataframe\">\n",
       "  <thead>\n",
       "    <tr style=\"text-align: right;\">\n",
       "      <th></th>\n",
       "      <th>qtde_lavagem_semana</th>\n",
       "      <th>qtde_lavagem_semana_std</th>\n",
       "    </tr>\n",
       "  </thead>\n",
       "  <tbody>\n",
       "    <tr>\n",
       "      <th>294324</th>\n",
       "      <td>4</td>\n",
       "      <td>0.500000</td>\n",
       "    </tr>\n",
       "    <tr>\n",
       "      <th>543790</th>\n",
       "      <td>2</td>\n",
       "      <td>0.166667</td>\n",
       "    </tr>\n",
       "    <tr>\n",
       "      <th>417082</th>\n",
       "      <td>2</td>\n",
       "      <td>0.166667</td>\n",
       "    </tr>\n",
       "    <tr>\n",
       "      <th>211987</th>\n",
       "      <td>1</td>\n",
       "      <td>0.000000</td>\n",
       "    </tr>\n",
       "    <tr>\n",
       "      <th>186537</th>\n",
       "      <td>4</td>\n",
       "      <td>0.500000</td>\n",
       "    </tr>\n",
       "    <tr>\n",
       "      <th>...</th>\n",
       "      <td>...</td>\n",
       "      <td>...</td>\n",
       "    </tr>\n",
       "    <tr>\n",
       "      <th>506355</th>\n",
       "      <td>3</td>\n",
       "      <td>0.333333</td>\n",
       "    </tr>\n",
       "    <tr>\n",
       "      <th>480040</th>\n",
       "      <td>1</td>\n",
       "      <td>0.000000</td>\n",
       "    </tr>\n",
       "    <tr>\n",
       "      <th>362897</th>\n",
       "      <td>4</td>\n",
       "      <td>0.500000</td>\n",
       "    </tr>\n",
       "    <tr>\n",
       "      <th>230897</th>\n",
       "      <td>2</td>\n",
       "      <td>0.166667</td>\n",
       "    </tr>\n",
       "    <tr>\n",
       "      <th>382088</th>\n",
       "      <td>1</td>\n",
       "      <td>0.000000</td>\n",
       "    </tr>\n",
       "  </tbody>\n",
       "</table>\n",
       "<p>292736 rows × 2 columns</p>\n",
       "</div>\n",
       "      <button class=\"colab-df-convert\" onclick=\"convertToInteractive('df-24fa754d-adec-4bbf-a5fb-74367ad929a9')\"\n",
       "              title=\"Convert this dataframe to an interactive table.\"\n",
       "              style=\"display:none;\">\n",
       "        \n",
       "  <svg xmlns=\"http://www.w3.org/2000/svg\" height=\"24px\"viewBox=\"0 0 24 24\"\n",
       "       width=\"24px\">\n",
       "    <path d=\"M0 0h24v24H0V0z\" fill=\"none\"/>\n",
       "    <path d=\"M18.56 5.44l.94 2.06.94-2.06 2.06-.94-2.06-.94-.94-2.06-.94 2.06-2.06.94zm-11 1L8.5 8.5l.94-2.06 2.06-.94-2.06-.94L8.5 2.5l-.94 2.06-2.06.94zm10 10l.94 2.06.94-2.06 2.06-.94-2.06-.94-.94-2.06-.94 2.06-2.06.94z\"/><path d=\"M17.41 7.96l-1.37-1.37c-.4-.4-.92-.59-1.43-.59-.52 0-1.04.2-1.43.59L10.3 9.45l-7.72 7.72c-.78.78-.78 2.05 0 2.83L4 21.41c.39.39.9.59 1.41.59.51 0 1.02-.2 1.41-.59l7.78-7.78 2.81-2.81c.8-.78.8-2.07 0-2.86zM5.41 20L4 18.59l7.72-7.72 1.47 1.35L5.41 20z\"/>\n",
       "  </svg>\n",
       "      </button>\n",
       "      \n",
       "  <style>\n",
       "    .colab-df-container {\n",
       "      display:flex;\n",
       "      flex-wrap:wrap;\n",
       "      gap: 12px;\n",
       "    }\n",
       "\n",
       "    .colab-df-convert {\n",
       "      background-color: #E8F0FE;\n",
       "      border: none;\n",
       "      border-radius: 50%;\n",
       "      cursor: pointer;\n",
       "      display: none;\n",
       "      fill: #1967D2;\n",
       "      height: 32px;\n",
       "      padding: 0 0 0 0;\n",
       "      width: 32px;\n",
       "    }\n",
       "\n",
       "    .colab-df-convert:hover {\n",
       "      background-color: #E2EBFA;\n",
       "      box-shadow: 0px 1px 2px rgba(60, 64, 67, 0.3), 0px 1px 3px 1px rgba(60, 64, 67, 0.15);\n",
       "      fill: #174EA6;\n",
       "    }\n",
       "\n",
       "    [theme=dark] .colab-df-convert {\n",
       "      background-color: #3B4455;\n",
       "      fill: #D2E3FC;\n",
       "    }\n",
       "\n",
       "    [theme=dark] .colab-df-convert:hover {\n",
       "      background-color: #434B5C;\n",
       "      box-shadow: 0px 1px 3px 1px rgba(0, 0, 0, 0.15);\n",
       "      filter: drop-shadow(0px 1px 2px rgba(0, 0, 0, 0.3));\n",
       "      fill: #FFFFFF;\n",
       "    }\n",
       "  </style>\n",
       "\n",
       "      <script>\n",
       "        const buttonEl =\n",
       "          document.querySelector('#df-24fa754d-adec-4bbf-a5fb-74367ad929a9 button.colab-df-convert');\n",
       "        buttonEl.style.display =\n",
       "          google.colab.kernel.accessAllowed ? 'block' : 'none';\n",
       "\n",
       "        async function convertToInteractive(key) {\n",
       "          const element = document.querySelector('#df-24fa754d-adec-4bbf-a5fb-74367ad929a9');\n",
       "          const dataTable =\n",
       "            await google.colab.kernel.invokeFunction('convertToInteractive',\n",
       "                                                     [key], {});\n",
       "          if (!dataTable) return;\n",
       "\n",
       "          const docLinkHtml = 'Like what you see? Visit the ' +\n",
       "            '<a target=\"_blank\" href=https://colab.research.google.com/notebooks/data_table.ipynb>data table notebook</a>'\n",
       "            + ' to learn more about interactive tables.';\n",
       "          element.innerHTML = '';\n",
       "          dataTable['output_type'] = 'display_data';\n",
       "          await google.colab.output.renderOutput(dataTable, element);\n",
       "          const docLink = document.createElement('div');\n",
       "          docLink.innerHTML = docLinkHtml;\n",
       "          element.appendChild(docLink);\n",
       "        }\n",
       "      </script>\n",
       "    </div>\n",
       "  </div>\n",
       "  "
      ],
      "text/plain": [
       "        qtde_lavagem_semana  qtde_lavagem_semana_std\n",
       "294324                    4                 0.500000\n",
       "543790                    2                 0.166667\n",
       "417082                    2                 0.166667\n",
       "211987                    1                 0.000000\n",
       "186537                    4                 0.500000\n",
       "...                     ...                      ...\n",
       "506355                    3                 0.333333\n",
       "480040                    1                 0.000000\n",
       "362897                    4                 0.500000\n",
       "230897                    2                 0.166667\n",
       "382088                    1                 0.000000\n",
       "\n",
       "[292736 rows x 2 columns]"
      ]
     },
     "execution_count": 98,
     "metadata": {},
     "output_type": "execute_result"
    }
   ],
   "source": [
    "feature_to_scale = 'qtde_lavagem_semana'\n",
    "mms = MinMaxScaler()\n",
    "mms.fit(data[[feature_to_scale]])\n",
    "data[feature_to_scale + '_std'] = mms.transform(data[[feature_to_scale]])\n",
    "data[[feature_to_scale, feature_to_scale + '_std']]"
   ]
  },
  {
   "cell_type": "markdown",
   "metadata": {
    "id": "nWxOa3sjpMyL"
   },
   "source": [
    "## Separação de bases para treinar e efetuar o crossvalidation / *Separation of bases for training and crossvalidation*"
   ]
  },
  {
   "cell_type": "markdown",
   "metadata": {
    "id": "3reespSrpMyL"
   },
   "source": [
    "### Separação de uma amostra dos dados para avaliação dos modelos / *Separation of a sample of data for evaluation of models*"
   ]
  },
  {
   "cell_type": "code",
   "execution_count": 99,
   "metadata": {
    "executionInfo": {
     "elapsed": 8,
     "status": "ok",
     "timestamp": 1661286049836,
     "user": {
      "displayName": "Solano Jacon",
      "userId": "03193064938437592202"
     },
     "user_tz": 180
    },
    "id": "EIWQYe9ypMyM"
   },
   "outputs": [],
   "source": [
    "data_sample = data.sample(frac=0.025, random_state=42)\n",
    "\n",
    "X = data_sample.drop(columns=['id_form', 'id_cliente', 'data', 'navegador', 'localizacao', 'locale', 'cidade', 'fragancia', 'id_pedido', 'id', \\\n",
    "                              'tempo_procedimento', 'faixa_etaria', 'procedimentos', 'caracteristica', 'efeitos_desejados', 'efeitos_desejados_modificado', \\\n",
    "                              'sistema_operacional', 'estado', 'estado_modificado', 'utm_source', 'utm_source_modificado', 'tipo_cabelo', 'comprimento', 'tipo_fios', 'dieta', 'atividade_fisica', 'frequencia_estresse', \\\n",
    "                              'qtde_lavagem_semana', \\\n",
    "                              'pedido'])\n",
    "\n",
    "y = data_sample['pedido']\n",
    "\n",
    "del data_sample"
   ]
  },
  {
   "cell_type": "markdown",
   "metadata": {
    "id": "VCVymw72pMyM"
   },
   "source": [
    "### Análise de desempenho de vários modelos com sua configuração padrão / *Performance analysis of various models with their default configuration*"
   ]
  },
  {
   "cell_type": "code",
   "execution_count": 100,
   "metadata": {
    "colab": {
     "base_uri": "https://localhost:8080/"
    },
    "executionInfo": {
     "elapsed": 6,
     "status": "ok",
     "timestamp": 1661286049837,
     "user": {
      "displayName": "Solano Jacon",
      "userId": "03193064938437592202"
     },
     "user_tz": 180
    },
    "id": "rRTIpaW4pMyM",
    "outputId": "9c6149f4-9e6a-4975-ab71-73009cbc62cd"
   },
   "outputs": [
    {
     "name": "stdout",
     "output_type": "stream",
     "text": [
      "Accuracy = 0.63\n",
      "Precision = 0.0\n",
      "Recall = 0.0\n",
      "F1 score = 0.0\n"
     ]
    }
   ],
   "source": [
    "model = DummyClassifier(random_state=42)\n",
    "cv_results = cross_validate(model, X, y, cv=5, scoring=['accuracy', 'precision', 'recall', 'f1'])\n",
    "\n",
    "print('Accuracy =', round(cv_results['test_accuracy'].mean(), 2))\n",
    "print('Precision =', round(cv_results['test_precision'].mean(), 2))\n",
    "print('Recall =', round(cv_results['test_recall'].mean(), 2))\n",
    "print('F1 score =', round(cv_results['test_f1'].mean(), 2))"
   ]
  },
  {
   "cell_type": "code",
   "execution_count": 101,
   "metadata": {
    "colab": {
     "base_uri": "https://localhost:8080/"
    },
    "executionInfo": {
     "elapsed": 3738,
     "status": "ok",
     "timestamp": 1661286053572,
     "user": {
      "displayName": "Solano Jacon",
      "userId": "03193064938437592202"
     },
     "user_tz": 180
    },
    "id": "QcBvelLtpMyM",
    "outputId": "129c27af-d585-4c0a-bf2d-b2e354b15fbe"
   },
   "outputs": [
    {
     "name": "stdout",
     "output_type": "stream",
     "text": [
      "Accuracy = 0.65\n",
      "Precision = 0.54\n",
      "Recall = 0.26\n",
      "F1 score = 0.35\n"
     ]
    }
   ],
   "source": [
    "model = LogisticRegression(random_state=42)\n",
    "cv_results = cross_validate(model, X, y, cv=5, scoring=['accuracy', 'precision', 'recall', 'f1'])\n",
    "\n",
    "print('Accuracy =', round(cv_results['test_accuracy'].mean(), 2))\n",
    "print('Precision =', round(cv_results['test_precision'].mean(), 2))\n",
    "print('Recall =', round(cv_results['test_recall'].mean(), 2))\n",
    "print('F1 score =', round(cv_results['test_f1'].mean(), 2))"
   ]
  },
  {
   "cell_type": "code",
   "execution_count": 102,
   "metadata": {
    "colab": {
     "base_uri": "https://localhost:8080/"
    },
    "executionInfo": {
     "elapsed": 2341,
     "status": "ok",
     "timestamp": 1661286055908,
     "user": {
      "displayName": "Solano Jacon",
      "userId": "03193064938437592202"
     },
     "user_tz": 180
    },
    "id": "WDFeAL37pMyM",
    "outputId": "416b852b-2505-4212-ac96-dd9d4bed02ac"
   },
   "outputs": [
    {
     "name": "stdout",
     "output_type": "stream",
     "text": [
      "Accuracy = 0.6\n",
      "Precision = 0.43\n",
      "Recall = 0.31\n",
      "F1 score = 0.36\n"
     ]
    }
   ],
   "source": [
    "model = KNeighborsClassifier()\n",
    "cv_results = cross_validate(model, X, y, cv=5, scoring=['accuracy', 'precision', 'recall', 'f1'])\n",
    "\n",
    "print('Accuracy =', round(cv_results['test_accuracy'].mean(), 2))\n",
    "print('Precision =', round(cv_results['test_precision'].mean(), 2))\n",
    "print('Recall =', round(cv_results['test_recall'].mean(), 2))\n",
    "print('F1 score =', round(cv_results['test_f1'].mean(), 2))"
   ]
  },
  {
   "cell_type": "code",
   "execution_count": 103,
   "metadata": {
    "colab": {
     "base_uri": "https://localhost:8080/"
    },
    "executionInfo": {
     "elapsed": 4372,
     "status": "ok",
     "timestamp": 1661286060268,
     "user": {
      "displayName": "Solano Jacon",
      "userId": "03193064938437592202"
     },
     "user_tz": 180
    },
    "id": "AGSIHhHvpMyM",
    "outputId": "d8a5da90-5f6a-445f-e861-6dd50e29f78a"
   },
   "outputs": [
    {
     "name": "stdout",
     "output_type": "stream",
     "text": [
      "Accuracy = 0.57\n",
      "Precision = 0.46\n",
      "Recall = 0.54\n",
      "F1 score = 0.43\n"
     ]
    }
   ],
   "source": [
    "model = SGDClassifier(random_state=42)\n",
    "cv_results = cross_validate(model, X, y, cv=5, scoring=['accuracy', 'precision', 'recall', 'f1'])\n",
    "\n",
    "print('Accuracy =', round(cv_results['test_accuracy'].mean(), 2))\n",
    "print('Precision =', round(cv_results['test_precision'].mean(), 2))\n",
    "print('Recall =', round(cv_results['test_recall'].mean(), 2))\n",
    "print('F1 score =', round(cv_results['test_f1'].mean(), 2))"
   ]
  },
  {
   "cell_type": "code",
   "execution_count": 104,
   "metadata": {
    "colab": {
     "base_uri": "https://localhost:8080/"
    },
    "executionInfo": {
     "elapsed": 67122,
     "status": "ok",
     "timestamp": 1661286127381,
     "user": {
      "displayName": "Solano Jacon",
      "userId": "03193064938437592202"
     },
     "user_tz": 180
    },
    "id": "rHVOiuSCpMyN",
    "outputId": "150fccd9-6b1e-4378-cad3-eb97935d53c3"
   },
   "outputs": [
    {
     "name": "stdout",
     "output_type": "stream",
     "text": [
      "Accuracy = 0.64\n",
      "Precision = 0.58\n",
      "Recall = 0.09\n",
      "F1 score = 0.15\n"
     ]
    }
   ],
   "source": [
    "model = SVC(random_state=42)\n",
    "cv_results = cross_validate(model, X, y, cv=5, scoring=['accuracy', 'precision', 'recall', 'f1'])\n",
    "\n",
    "print('Accuracy =', round(cv_results['test_accuracy'].mean(), 2))\n",
    "print('Precision =', round(cv_results['test_precision'].mean(), 2))\n",
    "print('Recall =', round(cv_results['test_recall'].mean(), 2))\n",
    "print('F1 score =', round(cv_results['test_f1'].mean(), 2))"
   ]
  },
  {
   "cell_type": "code",
   "execution_count": 105,
   "metadata": {
    "colab": {
     "base_uri": "https://localhost:8080/"
    },
    "executionInfo": {
     "elapsed": 740,
     "status": "ok",
     "timestamp": 1661286128112,
     "user": {
      "displayName": "Solano Jacon",
      "userId": "03193064938437592202"
     },
     "user_tz": 180
    },
    "id": "pbU07Ow6pMyN",
    "outputId": "3429bef4-008e-44ea-a56b-1b4086f4ed64"
   },
   "outputs": [
    {
     "name": "stdout",
     "output_type": "stream",
     "text": [
      "Accuracy = 0.57\n",
      "Precision = 0.42\n",
      "Recall = 0.43\n",
      "F1 score = 0.42\n"
     ]
    }
   ],
   "source": [
    "model = DecisionTreeClassifier(random_state=42)\n",
    "cv_results = cross_validate(model, X, y, cv=5, scoring=['accuracy', 'precision', 'recall', 'f1'])\n",
    "\n",
    "print('Accuracy =', round(cv_results['test_accuracy'].mean(), 2))\n",
    "print('Precision =', round(cv_results['test_precision'].mean(), 2))\n",
    "print('Recall =', round(cv_results['test_recall'].mean(), 2))\n",
    "print('F1 score =', round(cv_results['test_f1'].mean(), 2))"
   ]
  },
  {
   "cell_type": "code",
   "execution_count": 106,
   "metadata": {
    "colab": {
     "base_uri": "https://localhost:8080/"
    },
    "executionInfo": {
     "elapsed": 11129,
     "status": "ok",
     "timestamp": 1661286139236,
     "user": {
      "displayName": "Solano Jacon",
      "userId": "03193064938437592202"
     },
     "user_tz": 180
    },
    "id": "E2xLLmy8pMyN",
    "outputId": "9bedde1a-cd03-4f01-ad5b-7edb252d76d1"
   },
   "outputs": [
    {
     "name": "stdout",
     "output_type": "stream",
     "text": [
      "Accuracy = 0.65\n",
      "Precision = 0.56\n",
      "Recall = 0.15\n",
      "F1 score = 0.24\n"
     ]
    }
   ],
   "source": [
    "model = RandomForestClassifier(random_state=42)\n",
    "cv_results = cross_validate(model, X, y, cv=5, scoring=['accuracy', 'precision', 'recall', 'f1'])\n",
    "\n",
    "print('Accuracy =', round(cv_results['test_accuracy'].mean(), 2))\n",
    "print('Precision =', round(cv_results['test_precision'].mean(), 2))\n",
    "print('Recall =', round(cv_results['test_recall'].mean(), 2))\n",
    "print('F1 score =', round(cv_results['test_f1'].mean(), 2))"
   ]
  },
  {
   "cell_type": "code",
   "execution_count": 107,
   "metadata": {
    "colab": {
     "base_uri": "https://localhost:8080/"
    },
    "executionInfo": {
     "elapsed": 7024,
     "status": "ok",
     "timestamp": 1661286146250,
     "user": {
      "displayName": "Solano Jacon",
      "userId": "03193064938437592202"
     },
     "user_tz": 180
    },
    "id": "pX8DyofrpMyN",
    "outputId": "b1e8a84b-f75f-46df-bc44-6ce18eadbecc"
   },
   "outputs": [
    {
     "name": "stdout",
     "output_type": "stream",
     "text": [
      "Accuracy = 0.64\n",
      "Precision = 0.53\n",
      "Recall = 0.26\n",
      "F1 score = 0.35\n"
     ]
    }
   ],
   "source": [
    "model = AdaBoostClassifier(random_state=42)\n",
    "cv_results = cross_validate(model, X, y, cv=5, scoring=['accuracy', 'precision', 'recall', 'f1'])\n",
    "\n",
    "print('Accuracy =', round(cv_results['test_accuracy'].mean(), 2))\n",
    "print('Precision =', round(cv_results['test_precision'].mean(), 2))\n",
    "print('Recall =', round(cv_results['test_recall'].mean(), 2))\n",
    "print('F1 score =', round(cv_results['test_f1'].mean(), 2))"
   ]
  },
  {
   "cell_type": "code",
   "execution_count": 108,
   "metadata": {
    "colab": {
     "base_uri": "https://localhost:8080/"
    },
    "executionInfo": {
     "elapsed": 10331,
     "status": "ok",
     "timestamp": 1661286156572,
     "user": {
      "displayName": "Solano Jacon",
      "userId": "03193064938437592202"
     },
     "user_tz": 180
    },
    "id": "AhXWDwu0pMyO",
    "outputId": "62d2d8fc-44b2-409d-9d46-185377244120"
   },
   "outputs": [
    {
     "name": "stdout",
     "output_type": "stream",
     "text": [
      "Accuracy = 0.65\n",
      "Precision = 0.55\n",
      "Recall = 0.2\n",
      "F1 score = 0.29\n"
     ]
    }
   ],
   "source": [
    "model = GradientBoostingClassifier(random_state=42)\n",
    "cv_results = cross_validate(model, X, y, cv=5, scoring=['accuracy', 'precision', 'recall', 'f1'])\n",
    "\n",
    "print('Accuracy =', round(cv_results['test_accuracy'].mean(), 2))\n",
    "print('Precision =', round(cv_results['test_precision'].mean(), 2))\n",
    "print('Recall =', round(cv_results['test_recall'].mean(), 2))\n",
    "print('F1 score =', round(cv_results['test_f1'].mean(), 2))"
   ]
  },
  {
   "cell_type": "code",
   "execution_count": 109,
   "metadata": {
    "colab": {
     "base_uri": "https://localhost:8080/"
    },
    "executionInfo": {
     "elapsed": 22463,
     "status": "ok",
     "timestamp": 1661286179008,
     "user": {
      "displayName": "Solano Jacon",
      "userId": "03193064938437592202"
     },
     "user_tz": 180
    },
    "id": "UG1BIcRypMyO",
    "outputId": "55967bbb-09ad-48e2-8c6f-fc778c180d76"
   },
   "outputs": [
    {
     "name": "stdout",
     "output_type": "stream",
     "text": [
      "Accuracy = 0.65\n",
      "Precision = 0.55\n",
      "Recall = 0.2\n",
      "F1 score = 0.3\n"
     ]
    }
   ],
   "source": [
    "model = XGBClassifier(verbosity=0, random_state=42)\n",
    "cv_results = cross_validate(model, X, y, cv=5, scoring=['accuracy', 'precision', 'recall', 'f1'])\n",
    "\n",
    "print('Accuracy =', round(cv_results['test_accuracy'].mean(), 2))\n",
    "print('Precision =', round(cv_results['test_precision'].mean(), 2))\n",
    "print('Recall =', round(cv_results['test_recall'].mean(), 2))\n",
    "print('F1 score =', round(cv_results['test_f1'].mean(), 2))"
   ]
  },
  {
   "cell_type": "markdown",
   "metadata": {
    "id": "cEqXTNrWpMyO"
   },
   "source": [
    "### Separação dos dados em dados para treino e dados para teste para avaliação do modelo escolhido / *Separation of data into training data and test data for evaluation of the chosen model*"
   ]
  },
  {
   "cell_type": "code",
   "execution_count": 110,
   "metadata": {
    "executionInfo": {
     "elapsed": 1083,
     "status": "ok",
     "timestamp": 1661286180081,
     "user": {
      "displayName": "Solano Jacon",
      "userId": "03193064938437592202"
     },
     "user_tz": 180
    },
    "id": "G7gCpzNKpMyO"
   },
   "outputs": [],
   "source": [
    "X = data.drop(columns=['id_form', 'id_cliente', 'data', 'navegador', 'localizacao', 'locale', 'cidade', 'fragancia', 'id_pedido', 'id', \\\n",
    "                       'tempo_procedimento', 'faixa_etaria', 'procedimentos', 'caracteristica', 'efeitos_desejados', 'efeitos_desejados_modificado', \\\n",
    "                       'sistema_operacional', 'estado', 'estado_modificado', 'utm_source', 'utm_source_modificado', 'tipo_cabelo', 'comprimento', 'tipo_fios', 'dieta', 'atividade_fisica', 'frequencia_estresse', \\\n",
    "                       'qtde_lavagem_semana', \\\n",
    "                       'pedido'])\n",
    "\n",
    "y = data['pedido']\n",
    "\n",
    "X_train, X_test, y_train, y_test = train_test_split(X, y, test_size=0.3, random_state=42)"
   ]
  },
  {
   "cell_type": "markdown",
   "metadata": {
    "id": "U64EJyDbpMyO"
   },
   "source": [
    "### Análise de desempenho do modelo escolhido com sua configuração padrão / *Performance analysis of the chosen model with its default configuration*"
   ]
  },
  {
   "cell_type": "code",
   "execution_count": 111,
   "metadata": {
    "colab": {
     "base_uri": "https://localhost:8080/"
    },
    "executionInfo": {
     "elapsed": 8793,
     "status": "ok",
     "timestamp": 1661286188869,
     "user": {
      "displayName": "Solano Jacon",
      "userId": "03193064938437592202"
     },
     "user_tz": 180
    },
    "id": "9-EVA_Z6pMyO",
    "outputId": "b80ea786-c899-4574-86e7-c6e7989c2b38"
   },
   "outputs": [
    {
     "name": "stdout",
     "output_type": "stream",
     "text": [
      "              precision    recall  f1-score   support\n",
      "\n",
      "           0       0.86      0.75      0.80     55817\n",
      "           1       0.65      0.79      0.71     32004\n",
      "\n",
      "    accuracy                           0.77     87821\n",
      "   macro avg       0.75      0.77      0.76     87821\n",
      "weighted avg       0.78      0.77      0.77     87821\n",
      "\n",
      "CPU times: user 8.8 s, sys: 18.8 ms, total: 8.82 s\n",
      "Wall time: 8.75 s\n"
     ]
    }
   ],
   "source": [
    "%%time\n",
    "\n",
    "model = DecisionTreeClassifier(random_state=42)\n",
    "model.fit(X_train, y_train)\n",
    "y_pred_test = model.predict(X_test)\n",
    "y_pred_proba_test = model.predict_proba(X_test)\n",
    "\n",
    "print(classification_report(y_true=y_test, y_pred=y_pred_test))"
   ]
  },
  {
   "cell_type": "code",
   "execution_count": 112,
   "metadata": {
    "colab": {
     "base_uri": "https://localhost:8080/"
    },
    "executionInfo": {
     "elapsed": 18,
     "status": "ok",
     "timestamp": 1661286188870,
     "user": {
      "displayName": "Solano Jacon",
      "userId": "03193064938437592202"
     },
     "user_tz": 180
    },
    "id": "-dt2Ic1RpMyP",
    "outputId": "77739679-1807-463d-f29b-751259b3f731"
   },
   "outputs": [
    {
     "data": {
      "text/plain": [
       "array([[41988, 13829],\n",
       "       [ 6663, 25341]])"
      ]
     },
     "execution_count": 112,
     "metadata": {},
     "output_type": "execute_result"
    }
   ],
   "source": [
    "confusion_matrix(y_true=y_test, y_pred=y_pred_test)"
   ]
  },
  {
   "cell_type": "markdown",
   "metadata": {
    "id": "jyx7LrdIpMyP"
   },
   "source": [
    "### Análise de desempenho do modelo escolhido com balanceamento de classes do dado alvo a ser predito / *Performance analysis of the chosen model with class balancing of the target data to be predicted*"
   ]
  },
  {
   "cell_type": "code",
   "execution_count": 113,
   "metadata": {
    "executionInfo": {
     "elapsed": 14,
     "status": "ok",
     "timestamp": 1661286188870,
     "user": {
      "displayName": "Solano Jacon",
      "userId": "03193064938437592202"
     },
     "user_tz": 180
    },
    "id": "dBdbt_-KyuBY"
   },
   "outputs": [],
   "source": [
    "# BLOCOS ABAIXO COMENTADOS PELA DEMORA NA EXECUÇÃO E ALTO CONSUMO DE MEMÓRIA SEM AGREGAR AUMENTO DE PERFORMANCE PARA O MODELO\n",
    "# BLOCKS BELOW COMMENTATED BY THE DELAY IN EXECUTION AND HIGH MEMORY CONSUMPTION WITHOUT ADDING INCREASE IN PERFORMANCE TO THE MODEL"
   ]
  },
  {
   "cell_type": "code",
   "execution_count": 114,
   "metadata": {
    "executionInfo": {
     "elapsed": 13,
     "status": "ok",
     "timestamp": 1661286188870,
     "user": {
      "displayName": "Solano Jacon",
      "userId": "03193064938437592202"
     },
     "user_tz": 180
    },
    "id": "vp5dG39opMyP"
   },
   "outputs": [],
   "source": [
    "# %%time\n",
    "\n",
    "# sm = SMOTE(random_state=42)\n",
    "# X_train_smote, y_train_smote = sm.fit_resample(X_train, y_train)"
   ]
  },
  {
   "cell_type": "code",
   "execution_count": 115,
   "metadata": {
    "executionInfo": {
     "elapsed": 14,
     "status": "ok",
     "timestamp": 1661286188871,
     "user": {
      "displayName": "Solano Jacon",
      "userId": "03193064938437592202"
     },
     "user_tz": 180
    },
    "id": "3_nK2BvFpMyP"
   },
   "outputs": [],
   "source": [
    "# %%time\n",
    "\n",
    "# model = DecisionTreeClassifier(random_state=42)\n",
    "# model.fit(X_train_smote, y_train_smote)\n",
    "# y_pred_test = model.predict(X_test)\n",
    "# y_pred_proba_test = model.predict_proba(X_test)\n",
    "\n",
    "# print(classification_report(y_true=y_test, y_pred=y_pred_test))"
   ]
  },
  {
   "cell_type": "code",
   "execution_count": 116,
   "metadata": {
    "executionInfo": {
     "elapsed": 14,
     "status": "ok",
     "timestamp": 1661286188871,
     "user": {
      "displayName": "Solano Jacon",
      "userId": "03193064938437592202"
     },
     "user_tz": 180
    },
    "id": "FUq0CZ96pMyP"
   },
   "outputs": [],
   "source": [
    "# confusion_matrix(y_true=y_test, y_pred=y_pred_test)"
   ]
  },
  {
   "cell_type": "markdown",
   "metadata": {
    "id": "0jihuYm9pMyP"
   },
   "source": [
    "### Otimização do modelo escolhido baseado em ajuste de hiperparâmetros / *Optimization of the chosen model based on hyperparameter tuning*"
   ]
  },
  {
   "cell_type": "code",
   "execution_count": 117,
   "metadata": {
    "executionInfo": {
     "elapsed": 13,
     "status": "ok",
     "timestamp": 1661286188871,
     "user": {
      "displayName": "Solano Jacon",
      "userId": "03193064938437592202"
     },
     "user_tz": 180
    },
    "id": "-BT4b4O2106a"
   },
   "outputs": [],
   "source": [
    "# BLOCOS ABAIXO COMENTADOS PELO ALTO CONSUMO DE MEMÓRIA\n",
    "# BLOCKS BELOW COMMENTATED BY HIGH MEMORY CONSUMPTION"
   ]
  },
  {
   "cell_type": "code",
   "execution_count": 118,
   "metadata": {
    "executionInfo": {
     "elapsed": 13,
     "status": "ok",
     "timestamp": 1661286188871,
     "user": {
      "displayName": "Solano Jacon",
      "userId": "03193064938437592202"
     },
     "user_tz": 180
    },
    "id": "HUQoaPScpMyQ"
   },
   "outputs": [],
   "source": [
    "# %%time\n",
    "\n",
    "# param_grid = {\n",
    "#     'criterion': ['gini', 'entropy'],\n",
    "#     'max_depth': [2, 4, 6, 8, 10, 12, None],\n",
    "#     'random_state': [42]\n",
    "# }\n",
    "\n",
    "# model = DecisionTreeClassifier()\n",
    "# grid_search = GridSearchCV(estimator=model, param_grid=param_grid, scoring='f1', cv=5, n_jobs=-1, verbose=1)\n",
    "# grid_search.fit(X_train, y_train)"
   ]
  },
  {
   "cell_type": "code",
   "execution_count": 119,
   "metadata": {
    "executionInfo": {
     "elapsed": 14,
     "status": "ok",
     "timestamp": 1661286188872,
     "user": {
      "displayName": "Solano Jacon",
      "userId": "03193064938437592202"
     },
     "user_tz": 180
    },
    "id": "HaG07XrBpMyQ"
   },
   "outputs": [],
   "source": [
    "# grid_search.best_params_"
   ]
  },
  {
   "cell_type": "code",
   "execution_count": 120,
   "metadata": {
    "colab": {
     "base_uri": "https://localhost:8080/"
    },
    "executionInfo": {
     "elapsed": 9734,
     "status": "ok",
     "timestamp": 1661286198592,
     "user": {
      "displayName": "Solano Jacon",
      "userId": "03193064938437592202"
     },
     "user_tz": 180
    },
    "id": "l6HKi_xFpMyQ",
    "outputId": "1a66025a-6d8a-4336-89e1-6dfd9a29d600"
   },
   "outputs": [
    {
     "name": "stdout",
     "output_type": "stream",
     "text": [
      "              precision    recall  f1-score   support\n",
      "\n",
      "           0       0.76      0.86      0.81     48906\n",
      "           1       0.79      0.65      0.71     38915\n",
      "\n",
      "    accuracy                           0.77     87821\n",
      "   macro avg       0.77      0.76      0.76     87821\n",
      "weighted avg       0.77      0.77      0.76     87821\n",
      "\n"
     ]
    }
   ],
   "source": [
    "# model = grid_search.best_estimator_\n",
    "model = DecisionTreeClassifier(criterion='entropy', max_depth=None, random_state=42)\n",
    "model.fit(X_train, y_train)\n",
    "y_pred_test = model.predict(X_test)\n",
    "y_pred_proba_test = model.predict_proba(X_test)\n",
    "\n",
    "print(classification_report(y_pred_test, y_test))"
   ]
  },
  {
   "cell_type": "markdown",
   "metadata": {
    "id": "2ayossHhpMyQ"
   },
   "source": [
    "## Respaldo teórico e prático sobre as escolhas dos algoritmos (podendo ser mais de um) / *Theoretical and practical support on the choices of algorithms (there may be more than one)*"
   ]
  },
  {
   "cell_type": "markdown",
   "metadata": {
    "id": "VGHV6D3npMyQ"
   },
   "source": [
    "### Definição do dado alvo a ser predito pelo modelo / *Definition of the target data to be predicted by the model*"
   ]
  },
  {
   "cell_type": "markdown",
   "metadata": {
    "id": "9dU3ENCJpMyQ"
   },
   "source": [
    "Lead se tornará (ou não se tornará) comprador. / *Lead will become (or not become) a buyer.*"
   ]
  },
  {
   "cell_type": "markdown",
   "metadata": {
    "id": "x5uhgDOypMyR"
   },
   "source": [
    "### Escolha da métrica de performance"
   ]
  },
  {
   "cell_type": "markdown",
   "metadata": {
    "id": "2RXX7OcspMyR"
   },
   "source": [
    "F1-SCORE:\n",
    "- Métrica que representa um balanço entre as métricas Precisão e Recall.\n",
    "- A Precisão representa a quantidade de acertos do modelo em relação à quantidade total de predições.\n",
    "- O Recall representa a quantidade de acertos do modelo em relação à quantidade real de elementos daquela classe.\n",
    "- A escolha dessa métrica visa que o modelo identifique a maior quantidade possível de leads que se tornarão compradores, com a menor quantidade possível de alarmes falsos (leads que não se tornarão compradores identificados pelo modelo como leads que se tornarão compradores)."
   ]
  },
  {
   "cell_type": "markdown",
   "metadata": {
    "id": "ZN82x5t29XAf"
   },
   "source": [
    "*F1-SCORE:*\n",
    "- *Metric that represents a balance between the Precision and Recall metrics.*\n",
    "- *Precision represents the number of hits of the model in relation to the total number of predictions.*\n",
    "- *Recall represents the number of hits in the model in relation to the actual number of elements of that class.*\n",
    "- *The choice of this metric aims for the model to identify the largest possible number of leads that will become buyers, with the least possible amount of false alarms (leads that will not become buyers identified by the model as leads that will become buyers).*"
   ]
  },
  {
   "cell_type": "markdown",
   "metadata": {
    "id": "4_ur3UtVpMyR"
   },
   "source": [
    "### Escolha do modelo / *model choice*"
   ]
  },
  {
   "cell_type": "markdown",
   "metadata": {
    "id": "q_dD8m8DpMyR"
   },
   "source": [
    "Tipos de modelo avaliados e suas respectivas performances / *Types of model evaluated and their respective performances*:\n",
    "- Logistic Regression | F1 score = 0,35\n",
    "- K Neighbors Classifier | F1 score = 0,36\n",
    "- SGD Classifier | F1 score = 0,41\n",
    "- SVC | F1 score = 0,15\n",
    "- Decision Tree Classifier | F1 score = 0,42\n",
    "- Random Forest Classifier | F1 score = 0,24\n",
    "- AdaBoost Classifier | F1 score = 0,35\n",
    "- Gradient Boosting Classifier | F1 score = 0,29\n",
    "- XGBoost Classifier | F1 score = 0,30"
   ]
  },
  {
   "cell_type": "markdown",
   "metadata": {
    "id": "3YahtRompMyR"
   },
   "source": [
    "Tipo de modelo escolhido por apresentar a melhor performance / *Type of model chosen for presenting the best performance*:\n",
    "- Decision Tree Classifier"
   ]
  },
  {
   "cell_type": "markdown",
   "metadata": {
    "id": "sK4WsxsUpMyR"
   },
   "source": [
    "### Divisão dos dados / *data division*:"
   ]
  },
  {
   "cell_type": "markdown",
   "metadata": {
    "id": "LpD4Z4F4pMyR"
   },
   "source": [
    "Os dados foram divididos em dados de treino e dados de teste do modelo, na proporção de 70% e 30% respectivamente / *The data were divided into training data and model test data, in the proportion of 70% and 30% respectively*."
   ]
  },
  {
   "cell_type": "markdown",
   "metadata": {
    "id": "GW2XPKnmpMyR"
   },
   "source": [
    "### Técnicas aplicadas para melhoria da performance do modelo / *Techniques applied to improve the performance of the model*:"
   ]
  },
  {
   "cell_type": "markdown",
   "metadata": {
    "id": "thxszGHvpMyS"
   },
   "source": [
    "- Scaling das features.\n",
    "- Balanceamento de classes do dado alvo a ser predito (avaliada mas não aplicada pois não melhorou a performance).\n",
    "- Otimização de modelo baseado em ajuste de hiperparâmetros.\n",
    "\n",
    "\n",
    "- *Features scaling.*\n",
    "- *Class balancing of the target data to be predicted (evaluated but not applied as it did not improve performance).*\n",
    "- *Model optimization based on hyperparameter tuning.*"
   ]
  },
  {
   "cell_type": "markdown",
   "metadata": {
    "id": "hhDemQA2pMyS"
   },
   "source": [
    "## Como e porquê foram escolhidas as features analisadas / *How and why the analyzed features were chosen*"
   ]
  },
  {
   "cell_type": "markdown",
   "metadata": {
    "id": "Fi2RsckvpMyS"
   },
   "source": [
    "- Temos 3 tabelas de dados, forms, orders e order_items, porém apenas os dados da tabela forms estarão disponíveis para o modelo fazer a predição dos leads que se tornarão compradores, portanto as features precisar sair dessa tabela, e não das tabelas orders e order_items.\n",
    "- Como não foi disponibilizada nenhuma documentação referente à essa tabela forms, seu conteúdo foi conhecido através da análise de seus dados.\n",
    "- Foram selecionados dados dessa tabela forms que poderiam contribuir para a predição do modelo, e as features foram criadas a partir desses dados.\n",
    "\n",
    "\n",
    "- *We have 3 data tables, forms, orders and order_items, but only the data from the forms table will be available for the model to predict the leads that will become buyers, so the features need to come out of this table, and not from the orders and order_items tables.*\n",
    "- *As no documentation regarding this forms table was made available, its content was known through the analysis of its data.*\n",
    "- *Data from this forms table were selected that could contribute to the prediction of the model, and the features were created from these data.*"
   ]
  },
  {
   "cell_type": "markdown",
   "metadata": {
    "id": "rnDanFenpMyS"
   },
   "source": [
    "## Salvar o arquivo de treinamento, fazer sua leitura e gerar o score / *Save the training file, read it and generate the score*"
   ]
  },
  {
   "cell_type": "code",
   "execution_count": 121,
   "metadata": {
    "executionInfo": {
     "elapsed": 454,
     "status": "ok",
     "timestamp": 1661286199037,
     "user": {
      "displayName": "Solano Jacon",
      "userId": "03193064938437592202"
     },
     "user_tz": 180
    },
    "id": "7HavCan_pMyS"
   },
   "outputs": [],
   "source": [
    "with open('modelo.pkl', 'wb') as file:\n",
    "    pickle.dump(model, file)"
   ]
  },
  {
   "cell_type": "code",
   "execution_count": 122,
   "metadata": {
    "executionInfo": {
     "elapsed": 4,
     "status": "ok",
     "timestamp": 1661286199037,
     "user": {
      "displayName": "Solano Jacon",
      "userId": "03193064938437592202"
     },
     "user_tz": 180
    },
    "id": "1IkH5lw_pMyS"
   },
   "outputs": [],
   "source": [
    "model = pickle.load(open('modelo.pkl', 'rb'))"
   ]
  },
  {
   "cell_type": "code",
   "execution_count": 123,
   "metadata": {
    "colab": {
     "base_uri": "https://localhost:8080/"
    },
    "executionInfo": {
     "elapsed": 386,
     "status": "ok",
     "timestamp": 1661286199420,
     "user": {
      "displayName": "Solano Jacon",
      "userId": "03193064938437592202"
     },
     "user_tz": 180
    },
    "id": "zjKQgOOmpMyS",
    "outputId": "120428ea-116f-42ec-bfe3-e3e5e99405e0"
   },
   "outputs": [
    {
     "name": "stdout",
     "output_type": "stream",
     "text": [
      "              precision    recall  f1-score   support\n",
      "\n",
      "           0       0.76      0.86      0.81     48906\n",
      "           1       0.79      0.65      0.71     38915\n",
      "\n",
      "    accuracy                           0.77     87821\n",
      "   macro avg       0.77      0.76      0.76     87821\n",
      "weighted avg       0.77      0.77      0.76     87821\n",
      "\n"
     ]
    }
   ],
   "source": [
    "y_pred_test = model.predict(X_test)\n",
    "y_pred_proba_test = model.predict_proba(X_test)\n",
    "\n",
    "print(classification_report(y_pred_test, y_test))"
   ]
  },
  {
   "cell_type": "code",
   "execution_count": 124,
   "metadata": {
    "colab": {
     "base_uri": "https://localhost:8080/",
     "height": 637
    },
    "executionInfo": {
     "elapsed": 781,
     "status": "ok",
     "timestamp": 1661286200197,
     "user": {
      "displayName": "Solano Jacon",
      "userId": "03193064938437592202"
     },
     "user_tz": 180
    },
    "id": "6ALzfycqpMyT",
    "outputId": "e54ef807-e317-4674-9698-7f800f5d805c"
   },
   "outputs": [
    {
     "name": "stdout",
     "output_type": "stream",
     "text": [
      "[[42156 13661]\n",
      " [ 6750 25254]]\n"
     ]
    },
    {
     "data": {
      "image/png": "[encoded data removed]",
      "text/plain": [
       "<Figure size 864x576 with 2 Axes>"
      ]
     },
     "metadata": {
      "needs_background": "light"
     },
     "output_type": "display_data"
    }
   ],
   "source": [
    "def plot_confusion_matrix(cm, classes, normalize=False, title='Confusion matrix', cmap=plt.cm.Oranges):\n",
    "\n",
    "    print(cm)\n",
    "\n",
    "    # Plot the confusion matrix\n",
    "    plt.figure(figsize = (12, 8))\n",
    "    plt.imshow(cm, interpolation='nearest', cmap=cmap)\n",
    "    plt.title(title, size = 18)\n",
    "    plt.colorbar(aspect=4)\n",
    "    tick_marks = np.arange(len(classes))\n",
    "    plt.xticks(tick_marks, classes, rotation=45, size = 12)\n",
    "    plt.yticks(tick_marks, classes, size = 12)\n",
    "\n",
    "    fmt = '.2f' if normalize else 'd'\n",
    "    thresh = cm.max() / 2.\n",
    "    \n",
    "    # Labeling the plot\n",
    "    for i, j in itertools.product(range(cm.shape[0]), range(cm.shape[1])):\n",
    "        plt.text(j, i, format(cm[i, j], fmt), fontsize = 14,\n",
    "                 horizontalalignment=\"center\",\n",
    "                 color=\"black\" if cm[i, j] > thresh else \"black\")\n",
    "        \n",
    "    plt.grid(None)\n",
    "    plt.tight_layout()\n",
    "    plt.ylabel('True Label', size = 12)\n",
    "    plt.xlabel('Predicted Label', size = 12)\n",
    "\n",
    "# Confusion matrix\n",
    "cm = confusion_matrix(y_true=y_test, y_pred=y_pred_test)\n",
    "plot_confusion_matrix(cm, classes = ['Lead DID NOT Become Buyer', 'Lead Becomes Buyer'], title = 'Matriz de Confusão / Confusion matrix')"
   ]
  },
  {
   "cell_type": "code",
   "execution_count": 125,
   "metadata": {
    "executionInfo": {
     "elapsed": 8,
     "status": "ok",
     "timestamp": 1661286200198,
     "user": {
      "displayName": "Solano Jacon",
      "userId": "03193064938437592202"
     },
     "user_tz": 180
    },
    "id": "MfmZiNWzQUmA"
   },
   "outputs": [],
   "source": [
    "precision, recall, threshold = precision_recall_curve(y_test, y_pred_proba_test[:, -1])\n",
    "\n",
    "scores = pd.DataFrame({'threshold':threshold,\n",
    "                       'precision': precision[:-1],\n",
    "                       'recall':recall[:-1]})\n",
    "\n",
    "scores['f1score'] = 2 * ((scores['precision'] * scores['recall']) / (scores['precision'] + scores['recall']))"
   ]
  },
  {
   "cell_type": "code",
   "execution_count": 126,
   "metadata": {
    "colab": {
     "base_uri": "https://localhost:8080/",
     "height": 614
    },
    "executionInfo": {
     "elapsed": 7,
     "status": "ok",
     "timestamp": 1661286200198,
     "user": {
      "displayName": "Solano Jacon",
      "userId": "03193064938437592202"
     },
     "user_tz": 180
    },
    "id": "RZ5WXAV7QUeJ",
    "outputId": "5bf5fcb6-7762-4779-8d00-dc990cbad3c9"
   },
   "outputs": [
    {
     "data": {
      "text/html": [
       "\n",
       "  <div id=\"df-c01835ea-017a-4e6b-9eb9-546a74b08931\">\n",
       "    <div class=\"colab-df-container\">\n",
       "      <div>\n",
       "<style scoped>\n",
       "    .dataframe tbody tr th:only-of-type {\n",
       "        vertical-align: middle;\n",
       "    }\n",
       "\n",
       "    .dataframe tbody tr th {\n",
       "        vertical-align: top;\n",
       "    }\n",
       "\n",
       "    .dataframe thead th {\n",
       "        text-align: right;\n",
       "    }\n",
       "</style>\n",
       "<table border=\"1\" class=\"dataframe\">\n",
       "  <thead>\n",
       "    <tr style=\"text-align: right;\">\n",
       "      <th></th>\n",
       "      <th>threshold</th>\n",
       "      <th>precision</th>\n",
       "      <th>recall</th>\n",
       "      <th>f1score</th>\n",
       "    </tr>\n",
       "  </thead>\n",
       "  <tbody>\n",
       "    <tr>\n",
       "      <th>0</th>\n",
       "      <td>0.000000</td>\n",
       "      <td>0.364423</td>\n",
       "      <td>1.000000</td>\n",
       "      <td>0.534179</td>\n",
       "    </tr>\n",
       "    <tr>\n",
       "      <th>1</th>\n",
       "      <td>0.100000</td>\n",
       "      <td>0.648514</td>\n",
       "      <td>0.800025</td>\n",
       "      <td>0.716346</td>\n",
       "    </tr>\n",
       "    <tr>\n",
       "      <th>2</th>\n",
       "      <td>0.111111</td>\n",
       "      <td>0.648538</td>\n",
       "      <td>0.799994</td>\n",
       "      <td>0.716348</td>\n",
       "    </tr>\n",
       "    <tr>\n",
       "      <th>3</th>\n",
       "      <td>0.250000</td>\n",
       "      <td>0.648621</td>\n",
       "      <td>0.799994</td>\n",
       "      <td>0.716398</td>\n",
       "    </tr>\n",
       "    <tr>\n",
       "      <th>4</th>\n",
       "      <td>0.333333</td>\n",
       "      <td>0.648660</td>\n",
       "      <td>0.799900</td>\n",
       "      <td>0.716384</td>\n",
       "    </tr>\n",
       "    <tr>\n",
       "      <th>5</th>\n",
       "      <td>0.400000</td>\n",
       "      <td>0.648724</td>\n",
       "      <td>0.799088</td>\n",
       "      <td>0.716098</td>\n",
       "    </tr>\n",
       "    <tr>\n",
       "      <th>6</th>\n",
       "      <td>0.428571</td>\n",
       "      <td>0.648757</td>\n",
       "      <td>0.799088</td>\n",
       "      <td>0.716118</td>\n",
       "    </tr>\n",
       "    <tr>\n",
       "      <th>7</th>\n",
       "      <td>0.500000</td>\n",
       "      <td>0.648748</td>\n",
       "      <td>0.799056</td>\n",
       "      <td>0.716100</td>\n",
       "    </tr>\n",
       "    <tr>\n",
       "      <th>8</th>\n",
       "      <td>0.600000</td>\n",
       "      <td>0.648953</td>\n",
       "      <td>0.789089</td>\n",
       "      <td>0.712193</td>\n",
       "    </tr>\n",
       "    <tr>\n",
       "      <th>9</th>\n",
       "      <td>0.666667</td>\n",
       "      <td>0.648924</td>\n",
       "      <td>0.788933</td>\n",
       "      <td>0.712112</td>\n",
       "    </tr>\n",
       "    <tr>\n",
       "      <th>10</th>\n",
       "      <td>0.750000</td>\n",
       "      <td>0.649149</td>\n",
       "      <td>0.782715</td>\n",
       "      <td>0.709702</td>\n",
       "    </tr>\n",
       "    <tr>\n",
       "      <th>11</th>\n",
       "      <td>0.800000</td>\n",
       "      <td>0.649684</td>\n",
       "      <td>0.781371</td>\n",
       "      <td>0.709469</td>\n",
       "    </tr>\n",
       "    <tr>\n",
       "      <th>12</th>\n",
       "      <td>0.833333</td>\n",
       "      <td>0.649717</td>\n",
       "      <td>0.780902</td>\n",
       "      <td>0.709295</td>\n",
       "    </tr>\n",
       "    <tr>\n",
       "      <th>13</th>\n",
       "      <td>0.875000</td>\n",
       "      <td>0.649765</td>\n",
       "      <td>0.780777</td>\n",
       "      <td>0.709272</td>\n",
       "    </tr>\n",
       "    <tr>\n",
       "      <th>14</th>\n",
       "      <td>0.888889</td>\n",
       "      <td>0.649683</td>\n",
       "      <td>0.780496</td>\n",
       "      <td>0.709107</td>\n",
       "    </tr>\n",
       "    <tr>\n",
       "      <th>15</th>\n",
       "      <td>0.900000</td>\n",
       "      <td>0.649664</td>\n",
       "      <td>0.780434</td>\n",
       "      <td>0.709070</td>\n",
       "    </tr>\n",
       "    <tr>\n",
       "      <th>16</th>\n",
       "      <td>0.909091</td>\n",
       "      <td>0.649619</td>\n",
       "      <td>0.780277</td>\n",
       "      <td>0.708979</td>\n",
       "    </tr>\n",
       "    <tr>\n",
       "      <th>17</th>\n",
       "      <td>1.000000</td>\n",
       "      <td>0.649543</td>\n",
       "      <td>0.779903</td>\n",
       "      <td>0.708779</td>\n",
       "    </tr>\n",
       "  </tbody>\n",
       "</table>\n",
       "</div>\n",
       "      <button class=\"colab-df-convert\" onclick=\"convertToInteractive('df-c01835ea-017a-4e6b-9eb9-546a74b08931')\"\n",
       "              title=\"Convert this dataframe to an interactive table.\"\n",
       "              style=\"display:none;\">\n",
       "        \n",
       "  <svg xmlns=\"http://www.w3.org/2000/svg\" height=\"24px\"viewBox=\"0 0 24 24\"\n",
       "       width=\"24px\">\n",
       "    <path d=\"M0 0h24v24H0V0z\" fill=\"none\"/>\n",
       "    <path d=\"M18.56 5.44l.94 2.06.94-2.06 2.06-.94-2.06-.94-.94-2.06-.94 2.06-2.06.94zm-11 1L8.5 8.5l.94-2.06 2.06-.94-2.06-.94L8.5 2.5l-.94 2.06-2.06.94zm10 10l.94 2.06.94-2.06 2.06-.94-2.06-.94-.94-2.06-.94 2.06-2.06.94z\"/><path d=\"M17.41 7.96l-1.37-1.37c-.4-.4-.92-.59-1.43-.59-.52 0-1.04.2-1.43.59L10.3 9.45l-7.72 7.72c-.78.78-.78 2.05 0 2.83L4 21.41c.39.39.9.59 1.41.59.51 0 1.02-.2 1.41-.59l7.78-7.78 2.81-2.81c.8-.78.8-2.07 0-2.86zM5.41 20L4 18.59l7.72-7.72 1.47 1.35L5.41 20z\"/>\n",
       "  </svg>\n",
       "      </button>\n",
       "      \n",
       "  <style>\n",
       "    .colab-df-container {\n",
       "      display:flex;\n",
       "      flex-wrap:wrap;\n",
       "      gap: 12px;\n",
       "    }\n",
       "\n",
       "    .colab-df-convert {\n",
       "      background-color: #E8F0FE;\n",
       "      border: none;\n",
       "      border-radius: 50%;\n",
       "      cursor: pointer;\n",
       "      display: none;\n",
       "      fill: #1967D2;\n",
       "      height: 32px;\n",
       "      padding: 0 0 0 0;\n",
       "      width: 32px;\n",
       "    }\n",
       "\n",
       "    .colab-df-convert:hover {\n",
       "      background-color: #E2EBFA;\n",
       "      box-shadow: 0px 1px 2px rgba(60, 64, 67, 0.3), 0px 1px 3px 1px rgba(60, 64, 67, 0.15);\n",
       "      fill: #174EA6;\n",
       "    }\n",
       "\n",
       "    [theme=dark] .colab-df-convert {\n",
       "      background-color: #3B4455;\n",
       "      fill: #D2E3FC;\n",
       "    }\n",
       "\n",
       "    [theme=dark] .colab-df-convert:hover {\n",
       "      background-color: #434B5C;\n",
       "      box-shadow: 0px 1px 3px 1px rgba(0, 0, 0, 0.15);\n",
       "      filter: drop-shadow(0px 1px 2px rgba(0, 0, 0, 0.3));\n",
       "      fill: #FFFFFF;\n",
       "    }\n",
       "  </style>\n",
       "\n",
       "      <script>\n",
       "        const buttonEl =\n",
       "          document.querySelector('#df-c01835ea-017a-4e6b-9eb9-546a74b08931 button.colab-df-convert');\n",
       "        buttonEl.style.display =\n",
       "          google.colab.kernel.accessAllowed ? 'block' : 'none';\n",
       "\n",
       "        async function convertToInteractive(key) {\n",
       "          const element = document.querySelector('#df-c01835ea-017a-4e6b-9eb9-546a74b08931');\n",
       "          const dataTable =\n",
       "            await google.colab.kernel.invokeFunction('convertToInteractive',\n",
       "                                                     [key], {});\n",
       "          if (!dataTable) return;\n",
       "\n",
       "          const docLinkHtml = 'Like what you see? Visit the ' +\n",
       "            '<a target=\"_blank\" href=https://colab.research.google.com/notebooks/data_table.ipynb>data table notebook</a>'\n",
       "            + ' to learn more about interactive tables.';\n",
       "          element.innerHTML = '';\n",
       "          dataTable['output_type'] = 'display_data';\n",
       "          await google.colab.output.renderOutput(dataTable, element);\n",
       "          const docLink = document.createElement('div');\n",
       "          docLink.innerHTML = docLinkHtml;\n",
       "          element.appendChild(docLink);\n",
       "        }\n",
       "      </script>\n",
       "    </div>\n",
       "  </div>\n",
       "  "
      ],
      "text/plain": [
       "    threshold  precision    recall   f1score\n",
       "0    0.000000   0.364423  1.000000  0.534179\n",
       "1    0.100000   0.648514  0.800025  0.716346\n",
       "2    0.111111   0.648538  0.799994  0.716348\n",
       "3    0.250000   0.648621  0.799994  0.716398\n",
       "4    0.333333   0.648660  0.799900  0.716384\n",
       "5    0.400000   0.648724  0.799088  0.716098\n",
       "6    0.428571   0.648757  0.799088  0.716118\n",
       "7    0.500000   0.648748  0.799056  0.716100\n",
       "8    0.600000   0.648953  0.789089  0.712193\n",
       "9    0.666667   0.648924  0.788933  0.712112\n",
       "10   0.750000   0.649149  0.782715  0.709702\n",
       "11   0.800000   0.649684  0.781371  0.709469\n",
       "12   0.833333   0.649717  0.780902  0.709295\n",
       "13   0.875000   0.649765  0.780777  0.709272\n",
       "14   0.888889   0.649683  0.780496  0.709107\n",
       "15   0.900000   0.649664  0.780434  0.709070\n",
       "16   0.909091   0.649619  0.780277  0.708979\n",
       "17   1.000000   0.649543  0.779903  0.708779"
      ]
     },
     "execution_count": 126,
     "metadata": {},
     "output_type": "execute_result"
    }
   ],
   "source": [
    "scores"
   ]
  },
  {
   "cell_type": "code",
   "execution_count": 127,
   "metadata": {
    "colab": {
     "base_uri": "https://localhost:8080/",
     "height": 295
    },
    "executionInfo": {
     "elapsed": 7,
     "status": "ok",
     "timestamp": 1661286200199,
     "user": {
      "displayName": "Solano Jacon",
      "userId": "03193064938437592202"
     },
     "user_tz": 180
    },
    "id": "l-VCOjf6QUVQ",
    "outputId": "3bddd240-361d-47cf-af96-cd0588cba228"
   },
   "outputs": [
    {
     "data": {
      "image/png": "[encoded data removed]",
      "text/plain": [
       "<Figure size 432x288 with 1 Axes>"
      ]
     },
     "metadata": {
      "needs_background": "light"
     },
     "output_type": "display_data"
    }
   ],
   "source": [
    "plt.plot(scores['recall'], scores['precision'])\n",
    "plt.title('Precision X Recall - Trade-off')\n",
    "plt.ylabel('Precision')\n",
    "plt.xlabel('Recall')\n",
    "plt.show()"
   ]
  },
  {
   "cell_type": "code",
   "execution_count": 128,
   "metadata": {
    "colab": {
     "base_uri": "https://localhost:8080/",
     "height": 312
    },
    "executionInfo": {
     "elapsed": 646,
     "status": "ok",
     "timestamp": 1661286200838,
     "user": {
      "displayName": "Solano Jacon",
      "userId": "03193064938437592202"
     },
     "user_tz": 180
    },
    "id": "eiZQJhHDQsKA",
    "outputId": "52572f89-e36a-401e-e2ce-af77d61c6f00"
   },
   "outputs": [
    {
     "name": "stdout",
     "output_type": "stream",
     "text": [
      "Area under ROC curve: 0.78\n"
     ]
    },
    {
     "data": {
      "image/png": "[encoded data removed]",
      "text/plain": [
       "<Figure size 432x288 with 1 Axes>"
      ]
     },
     "metadata": {
      "needs_background": "light"
     },
     "output_type": "display_data"
    }
   ],
   "source": [
    "fpr, tpr, thresholds = roc_curve(y_test, y_pred_proba_test[:, -1], pos_label=True)\n",
    "print(\"Area under ROC curve: {:0.2f}\".format(auc(fpr, tpr)))\n",
    "\n",
    "fig, ax = plt.subplots()\n",
    "lw = 2\n",
    "plt.plot(fpr, tpr, color='darkorange',\n",
    "         lw=lw, label='ROC curve (area = %0.2f)' % auc(fpr, tpr))\n",
    "plt.plot([0, 1], [0, 1], color='navy', lw=lw, linestyle='--')\n",
    "plt.title('Receiver Operating Characteristic (ROC) Curve')\n",
    "plt.xlabel('False Positive Rate')\n",
    "plt.ylabel('True Positive Rate')\n",
    "plt.xlim([0.0, 1.0])\n",
    "plt.ylim([0.0, 1.05])\n",
    "plt.legend(loc=\"lower right\")\n",
    "plt.show()"
   ]
  },
  {
   "cell_type": "markdown",
   "metadata": {
    "id": "8ZLRkqIXpMyT"
   },
   "source": [
    "## Resultado final com métricas de acertividade do algoritmo / *Final result with algorithm accuracy metrics*"
   ]
  },
  {
   "cell_type": "markdown",
   "metadata": {
    "id": "WwO5Mkp5pMyT"
   },
   "source": [
    "**O modelo escolhido apresentou um F1 score de 0,71 para os dados de teste (dados não vistos pelo modelo em seu treino).**\n",
    "\n",
    "***The chosen model presented an F1 score of 0.71 for the test data (data not seen by the model in its training).***"
   ]
  },
  {
   "cell_type": "markdown",
   "metadata": {
    "id": "32_ityRkpMyT"
   },
   "source": [
    "Análise da matriz de confusão apresentada:\n",
    "- A matriz de confusão acima mostra que **o modelo identificou 25.254 dos 32.004 leads que se tornaram compradores, que corresponde a 78,9%**.\n",
    "- A matriz de confusão acima mostra também que **o modelo identificou incorretamente 13.661 dos 55.817 leads que não se tornaram compradores, também chamado de falsos positivos, que corresponde a 24,4%**."
   ]
  },
  {
   "cell_type": "markdown",
   "metadata": {
    "id": "uHCGWNTGA8nJ"
   },
   "source": [
    "*Analysis of the presented confusion matrix:*\n",
    "\n",
    "- *The confusion matrix above shows that **the model identified 25,254 of the 32,004 leads that became buyers, which corresponds to 78.9%**.*\n",
    "- *The confusion matrix above also shows that **the model incorrectly identified 13,661 of the 55,817 leads that did not become buyers, also called false positives, which corresponds to 24.4%**.*"
   ]
  },
  {
   "cell_type": "markdown",
   "metadata": {
    "id": "Y3yXEEg8gx0u"
   },
   "source": [
    "## Fim / *End*"
   ]
  }
 ],
 "metadata": {
  "colab": {
   "collapsed_sections": [],
   "name": "Correlation_Between_Buyers_and_Leads.ipynb",
   "provenance": []
  },
  "hide_input": false,
  "kernelspec": {
   "display_name": "Python 3 (ipykernel)",
   "language": "python",
   "name": "python3"
  },
  "language_info": {
   "codemirror_mode": {
    "name": "ipython",
    "version": 3
   },
   "file_extension": ".py",
   "mimetype": "text/x-python",
   "name": "python",
   "nbconvert_exporter": "python",
   "pygments_lexer": "ipython3",
   "version": "3.8.12"
  },
  "toc": {
   "base_numbering": 1,
   "nav_menu": {},
   "number_sections": true,
   "sideBar": true,
   "skip_h1_title": false,
   "title_cell": "Table of Contents",
   "title_sidebar": "Contents",
   "toc_cell": false,
   "toc_position": {},
   "toc_section_display": true,
   "toc_window_display": false
  }
 },
 "nbformat": 4,
 "nbformat_minor": 1
}
