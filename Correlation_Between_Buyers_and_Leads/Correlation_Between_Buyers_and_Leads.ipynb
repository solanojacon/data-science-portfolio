{
 "cells": [
  {
   "cell_type": "markdown",
   "metadata": {
    "id": "qKX4qv7spMxs"
   },
   "source": [
    "<br>\n",
    "<p><font size=\"6\"><b>Correlação entre Compradores e Leads / <i>Correlation Between Buyers and Leads</i></b></font></p>\n",
    "<br>\n",
    "<p><font size=\"6\"><b>Desafio de Ciência de Dados / <i>Data Science Challenge</i></b></font></p>\n",
    "<br>\n",
    "<p><font size=\"6\"><b>Entrega / <i>Delivery</i>: Notebook</b></font></p>\n",
    "<br>\n",
    "<p><font size=\"6\"><b>Desenvolvedor / <i>Developer</i>: Solano Jacon</b></font></p>\n",
    "<br>"
   ]
  },
  {
   "cell_type": "code",
   "execution_count": 1,
   "metadata": {
    "executionInfo": {
     "elapsed": 1780,
     "status": "ok",
     "timestamp": 1660593736107,
     "user": {
      "displayName": "Solano Jacon",
      "userId": "03193064938437592202"
     },
     "user_tz": 180
    },
    "id": "K6gAaw3Ngx0d"
   },
   "outputs": [],
   "source": [
    "import psycopg2 # if necessary, install psycopg2-binary library, NOT psycopg2\n",
    "import pandas as pd\n",
    "import numpy as np\n",
    "import matplotlib.pyplot as plt\n",
    "import itertools\n",
    "import pickle\n",
    "import warnings\n",
    "from sklearn.preprocessing import MinMaxScaler, OneHotEncoder\n",
    "from sklearn.model_selection import train_test_split, cross_validate\n",
    "from sklearn.dummy import DummyClassifier\n",
    "from sklearn.linear_model import LogisticRegression, SGDClassifier\n",
    "from sklearn.neighbors import KNeighborsClassifier\n",
    "from sklearn.svm import SVC\n",
    "from sklearn.tree import DecisionTreeClassifier\n",
    "from sklearn.ensemble import RandomForestClassifier, AdaBoostClassifier, GradientBoostingClassifier\n",
    "from xgboost import XGBClassifier\n",
    "from sklearn.metrics import classification_report, confusion_matrix\n",
    "from imblearn.over_sampling import SMOTE\n",
    "from sklearn.model_selection import GridSearchCV\n",
    "\n",
    "warnings.filterwarnings('ignore')"
   ]
  },
  {
   "cell_type": "markdown",
   "metadata": {
    "id": "eT6I_N9RpMxy"
   },
   "source": [
    "## Leitura dos dados e normalização / <i>Data reading and normalization</i>"
   ]
  },
  {
   "cell_type": "markdown",
   "metadata": {
    "id": "BYnO74wGpMxy"
   },
   "source": [
    "### Conexão com a base de dados e leitura dos dados / <i>Database connection and data reading</i>"
   ]
  },
  {
   "cell_type": "markdown",
   "metadata": {
    "id": "6xvbjebUpMxz"
   },
   "source": [
    "- forms.id_form (pkey) -> order_items.id_form (fkey)\n",
    "- orders.id_pedido (pkey) -> order_items.id_pedido (fkey)"
   ]
  },
  {
   "cell_type": "code",
   "execution_count": 2,
   "metadata": {
    "executionInfo": {
     "elapsed": 8,
     "status": "ok",
     "timestamp": 1660593736107,
     "user": {
      "displayName": "Solano Jacon",
      "userId": "03193064938437592202"
     },
     "user_tz": 180
    },
    "id": "ACNYmogppMx0"
   },
   "outputs": [],
   "source": [
    "# conn = psycopg2.connect(database='database',\n",
    "#                         host='host',\n",
    "#                         user='user',\n",
    "#                         password='password',\n",
    "#                         port='port')"
   ]
  },
  {
   "cell_type": "code",
   "execution_count": 3,
   "metadata": {
    "executionInfo": {
     "elapsed": 6,
     "status": "ok",
     "timestamp": 1660593736108,
     "user": {
      "displayName": "Solano Jacon",
      "userId": "03193064938437592202"
     },
     "user_tz": 180
    },
    "id": "XejEA2CbpMx0"
   },
   "outputs": [],
   "source": [
    "# sql = '''SELECT f.*, oi.id_pedido, oi.id\n",
    "#          FROM forms AS f\n",
    "#          LEFT OUTER JOIN order_items AS oi ON f.id_form=oi.id_form'''\n",
    "# dados = pd.read_sql_query(sql, con=conn)"
   ]
  },
  {
   "cell_type": "code",
   "execution_count": 4,
   "metadata": {},
   "outputs": [],
   "source": [
    "folder_data_files = 'data'"
   ]
  },
  {
   "cell_type": "code",
   "execution_count": 8,
   "metadata": {
    "executionInfo": {
     "elapsed": 6435,
     "status": "ok",
     "timestamp": 1660593742538,
     "user": {
      "displayName": "Solano Jacon",
      "userId": "03193064938437592202"
     },
     "user_tz": 180
    },
    "id": "ZLRaTbsxpMx1"
   },
   "outputs": [],
   "source": [
    "dados = pd.read_csv(folder_data_files + '/dados.csv', index_col=0, encoding='iso-8859-1')"
   ]
  },
  {
   "cell_type": "code",
   "execution_count": 9,
   "metadata": {
    "colab": {
     "base_uri": "https://localhost:8080/",
     "height": 424
    },
    "executionInfo": {
     "elapsed": 24,
     "status": "ok",
     "timestamp": 1660593742538,
     "user": {
      "displayName": "Solano Jacon",
      "userId": "03193064938437592202"
     },
     "user_tz": 180
    },
    "id": "qOW0H0WlpMx2",
    "outputId": "b339c5bc-0233-4534-9804-7ce392fb1675"
   },
   "outputs": [
    {
     "data": {
      "text/html": [
       "\n",
       "  <div id=\"df-f596eaa0-1999-44cc-8f4f-b2e5136de974\">\n",
       "    <div class=\"colab-df-container\">\n",
       "      <div>\n",
       "<style scoped>\n",
       "    .dataframe tbody tr th:only-of-type {\n",
       "        vertical-align: middle;\n",
       "    }\n",
       "\n",
       "    .dataframe tbody tr th {\n",
       "        vertical-align: top;\n",
       "    }\n",
       "\n",
       "    .dataframe thead th {\n",
       "        text-align: right;\n",
       "    }\n",
       "</style>\n",
       "<table border=\"1\" class=\"dataframe\">\n",
       "  <thead>\n",
       "    <tr style=\"text-align: right;\">\n",
       "      <th></th>\n",
       "      <th>id_form</th>\n",
       "      <th>id_cliente</th>\n",
       "      <th>data</th>\n",
       "      <th>sistema_operacional</th>\n",
       "      <th>navegador</th>\n",
       "      <th>localizacao</th>\n",
       "      <th>locale</th>\n",
       "      <th>cidade</th>\n",
       "      <th>estado</th>\n",
       "    </tr>\n",
       "  </thead>\n",
       "  <tbody>\n",
       "    <tr>\n",
       "      <th>0</th>\n",
       "      <td>c7d453c9c01223a42968d9fe136047</td>\n",
       "      <td>d2620a3e6f00a6dc6e88</td>\n",
       "      <td>2022-01-03 15:42:22</td>\n",
       "      <td>iOS</td>\n",
       "      <td>Safari</td>\n",
       "      <td>São Paulo, Sao Paulo</td>\n",
       "      <td>BR</td>\n",
       "      <td>SÃO PAULO</td>\n",
       "      <td>SAO PAULO</td>\n",
       "    </tr>\n",
       "    <tr>\n",
       "      <th>1</th>\n",
       "      <td>c7d453c9c01223a42968d9fe136047</td>\n",
       "      <td>d2620a3e6f00a6dc6e88</td>\n",
       "      <td>2022-01-03 15:42:22</td>\n",
       "      <td>iOS</td>\n",
       "      <td>Safari</td>\n",
       "      <td>São Paulo, Sao Paulo</td>\n",
       "      <td>BR</td>\n",
       "      <td>SÃO PAULO</td>\n",
       "      <td>SAO PAULO</td>\n",
       "    </tr>\n",
       "    <tr>\n",
       "      <th>2</th>\n",
       "      <td>c7d453c9c01223a42968d9fe136047</td>\n",
       "      <td>d2620a3e6f00a6dc6e88</td>\n",
       "      <td>2022-01-03 15:42:22</td>\n",
       "      <td>iOS</td>\n",
       "      <td>Safari</td>\n",
       "      <td>São Paulo, Sao Paulo</td>\n",
       "      <td>BR</td>\n",
       "      <td>SÃO PAULO</td>\n",
       "      <td>SAO PAULO</td>\n",
       "    </tr>\n",
       "    <tr>\n",
       "      <th>3</th>\n",
       "      <td>c7d453c9c01223a42968d9fe136047</td>\n",
       "      <td>d2620a3e6f00a6dc6e88</td>\n",
       "      <td>2022-01-03 15:42:22</td>\n",
       "      <td>iOS</td>\n",
       "      <td>Safari</td>\n",
       "      <td>São Paulo, Sao Paulo</td>\n",
       "      <td>BR</td>\n",
       "      <td>SÃO PAULO</td>\n",
       "      <td>SAO PAULO</td>\n",
       "    </tr>\n",
       "    <tr>\n",
       "      <th>4</th>\n",
       "      <td>72830da153824af486be15cd48b3f3</td>\n",
       "      <td>9a48802d8290d19471f3</td>\n",
       "      <td>2022-01-04 08:39:53</td>\n",
       "      <td>Windows</td>\n",
       "      <td>Chrome</td>\n",
       "      <td>Ribeirão Preto, Sao Paulo</td>\n",
       "      <td>BR</td>\n",
       "      <td>RIBEIRÃO PRETO</td>\n",
       "      <td>SAO PAULO</td>\n",
       "    </tr>\n",
       "    <tr>\n",
       "      <th>...</th>\n",
       "      <td>...</td>\n",
       "      <td>...</td>\n",
       "      <td>...</td>\n",
       "      <td>...</td>\n",
       "      <td>...</td>\n",
       "      <td>...</td>\n",
       "      <td>...</td>\n",
       "      <td>...</td>\n",
       "      <td>...</td>\n",
       "    </tr>\n",
       "    <tr>\n",
       "      <th>585467</th>\n",
       "      <td>b52c38b852d68ec4b5c8f4fcdf2604</td>\n",
       "      <td>3e0f5c6131151b075a34</td>\n",
       "      <td>2022-02-26 21:28:12</td>\n",
       "      <td>iOS</td>\n",
       "      <td>NaN</td>\n",
       "      <td>Santa Barbara, Bahia</td>\n",
       "      <td>BR</td>\n",
       "      <td>SANTA BARBARA</td>\n",
       "      <td>BAHIA</td>\n",
       "    </tr>\n",
       "    <tr>\n",
       "      <th>585468</th>\n",
       "      <td>df3bb506075aa2e212d9a0bf90975d</td>\n",
       "      <td>0266fbc12fe7e7487605</td>\n",
       "      <td>2022-03-03 18:01:43</td>\n",
       "      <td>Windows</td>\n",
       "      <td>Chrome</td>\n",
       "      <td>Sao Pedro, Sao Paulo</td>\n",
       "      <td>BR</td>\n",
       "      <td>SAO PEDRO</td>\n",
       "      <td>SAO PAULO</td>\n",
       "    </tr>\n",
       "    <tr>\n",
       "      <th>585469</th>\n",
       "      <td>c172d08a3a36b903cd49f6af8da9c3</td>\n",
       "      <td>b6c0b82cc271fd1203fc</td>\n",
       "      <td>2022-01-27 18:09:34</td>\n",
       "      <td>Windows</td>\n",
       "      <td>Chrome</td>\n",
       "      <td>Itatiba, Sao Paulo</td>\n",
       "      <td>BR</td>\n",
       "      <td>ITATIBA</td>\n",
       "      <td>SAO PAULO</td>\n",
       "    </tr>\n",
       "    <tr>\n",
       "      <th>585470</th>\n",
       "      <td>369f40f668082066838beec2861a40</td>\n",
       "      <td>47e6af54dc5898b49ec3</td>\n",
       "      <td>2022-01-27 18:52:16</td>\n",
       "      <td>Android</td>\n",
       "      <td>Chrome</td>\n",
       "      <td>Arapoti, Parana</td>\n",
       "      <td>BR</td>\n",
       "      <td>ARAPOTI</td>\n",
       "      <td>PARANA</td>\n",
       "    </tr>\n",
       "    <tr>\n",
       "      <th>585471</th>\n",
       "      <td>91848f24045463652aa6d8be1b1851</td>\n",
       "      <td>297e9eafad002959382d</td>\n",
       "      <td>2022-01-27 19:21:03</td>\n",
       "      <td>Android</td>\n",
       "      <td>Chrome</td>\n",
       "      <td>Uberaba, Minas Gerais</td>\n",
       "      <td>BR</td>\n",
       "      <td>UBERABA</td>\n",
       "      <td>MINAS GERAIS</td>\n",
       "    </tr>\n",
       "  </tbody>\n",
       "</table>\n",
       "<p>585472 rows × 9 columns</p>\n",
       "</div>\n",
       "      <button class=\"colab-df-convert\" onclick=\"convertToInteractive('df-f596eaa0-1999-44cc-8f4f-b2e5136de974')\"\n",
       "              title=\"Convert this dataframe to an interactive table.\"\n",
       "              style=\"display:none;\">\n",
       "        \n",
       "  <svg xmlns=\"http://www.w3.org/2000/svg\" height=\"24px\"viewBox=\"0 0 24 24\"\n",
       "       width=\"24px\">\n",
       "    <path d=\"M0 0h24v24H0V0z\" fill=\"none\"/>\n",
       "    <path d=\"M18.56 5.44l.94 2.06.94-2.06 2.06-.94-2.06-.94-.94-2.06-.94 2.06-2.06.94zm-11 1L8.5 8.5l.94-2.06 2.06-.94-2.06-.94L8.5 2.5l-.94 2.06-2.06.94zm10 10l.94 2.06.94-2.06 2.06-.94-2.06-.94-.94-2.06-.94 2.06-2.06.94z\"/><path d=\"M17.41 7.96l-1.37-1.37c-.4-.4-.92-.59-1.43-.59-.52 0-1.04.2-1.43.59L10.3 9.45l-7.72 7.72c-.78.78-.78 2.05 0 2.83L4 21.41c.39.39.9.59 1.41.59.51 0 1.02-.2 1.41-.59l7.78-7.78 2.81-2.81c.8-.78.8-2.07 0-2.86zM5.41 20L4 18.59l7.72-7.72 1.47 1.35L5.41 20z\"/>\n",
       "  </svg>\n",
       "      </button>\n",
       "      \n",
       "  <style>\n",
       "    .colab-df-container {\n",
       "      display:flex;\n",
       "      flex-wrap:wrap;\n",
       "      gap: 12px;\n",
       "    }\n",
       "\n",
       "    .colab-df-convert {\n",
       "      background-color: #E8F0FE;\n",
       "      border: none;\n",
       "      border-radius: 50%;\n",
       "      cursor: pointer;\n",
       "      display: none;\n",
       "      fill: #1967D2;\n",
       "      height: 32px;\n",
       "      padding: 0 0 0 0;\n",
       "      width: 32px;\n",
       "    }\n",
       "\n",
       "    .colab-df-convert:hover {\n",
       "      background-color: #E2EBFA;\n",
       "      box-shadow: 0px 1px 2px rgba(60, 64, 67, 0.3), 0px 1px 3px 1px rgba(60, 64, 67, 0.15);\n",
       "      fill: #174EA6;\n",
       "    }\n",
       "\n",
       "    [theme=dark] .colab-df-convert {\n",
       "      background-color: #3B4455;\n",
       "      fill: #D2E3FC;\n",
       "    }\n",
       "\n",
       "    [theme=dark] .colab-df-convert:hover {\n",
       "      background-color: #434B5C;\n",
       "      box-shadow: 0px 1px 3px 1px rgba(0, 0, 0, 0.15);\n",
       "      filter: drop-shadow(0px 1px 2px rgba(0, 0, 0, 0.3));\n",
       "      fill: #FFFFFF;\n",
       "    }\n",
       "  </style>\n",
       "\n",
       "      <script>\n",
       "        const buttonEl =\n",
       "          document.querySelector('#df-f596eaa0-1999-44cc-8f4f-b2e5136de974 button.colab-df-convert');\n",
       "        buttonEl.style.display =\n",
       "          google.colab.kernel.accessAllowed ? 'block' : 'none';\n",
       "\n",
       "        async function convertToInteractive(key) {\n",
       "          const element = document.querySelector('#df-f596eaa0-1999-44cc-8f4f-b2e5136de974');\n",
       "          const dataTable =\n",
       "            await google.colab.kernel.invokeFunction('convertToInteractive',\n",
       "                                                     [key], {});\n",
       "          if (!dataTable) return;\n",
       "\n",
       "          const docLinkHtml = 'Like what you see? Visit the ' +\n",
       "            '<a target=\"_blank\" href=https://colab.research.google.com/notebooks/data_table.ipynb>data table notebook</a>'\n",
       "            + ' to learn more about interactive tables.';\n",
       "          element.innerHTML = '';\n",
       "          dataTable['output_type'] = 'display_data';\n",
       "          await google.colab.output.renderOutput(dataTable, element);\n",
       "          const docLink = document.createElement('div');\n",
       "          docLink.innerHTML = docLinkHtml;\n",
       "          element.appendChild(docLink);\n",
       "        }\n",
       "      </script>\n",
       "    </div>\n",
       "  </div>\n",
       "  "
      ],
      "text/plain": [
       "                               id_form            id_cliente  \\\n",
       "0       c7d453c9c01223a42968d9fe136047  d2620a3e6f00a6dc6e88   \n",
       "1       c7d453c9c01223a42968d9fe136047  d2620a3e6f00a6dc6e88   \n",
       "2       c7d453c9c01223a42968d9fe136047  d2620a3e6f00a6dc6e88   \n",
       "3       c7d453c9c01223a42968d9fe136047  d2620a3e6f00a6dc6e88   \n",
       "4       72830da153824af486be15cd48b3f3  9a48802d8290d19471f3   \n",
       "...                                ...                   ...   \n",
       "585467  b52c38b852d68ec4b5c8f4fcdf2604  3e0f5c6131151b075a34   \n",
       "585468  df3bb506075aa2e212d9a0bf90975d  0266fbc12fe7e7487605   \n",
       "585469  c172d08a3a36b903cd49f6af8da9c3  b6c0b82cc271fd1203fc   \n",
       "585470  369f40f668082066838beec2861a40  47e6af54dc5898b49ec3   \n",
       "585471  91848f24045463652aa6d8be1b1851  297e9eafad002959382d   \n",
       "\n",
       "                       data sistema_operacional navegador  \\\n",
       "0       2022-01-03 15:42:22                 iOS    Safari   \n",
       "1       2022-01-03 15:42:22                 iOS    Safari   \n",
       "2       2022-01-03 15:42:22                 iOS    Safari   \n",
       "3       2022-01-03 15:42:22                 iOS    Safari   \n",
       "4       2022-01-04 08:39:53             Windows    Chrome   \n",
       "...                     ...                 ...       ...   \n",
       "585467  2022-02-26 21:28:12                 iOS       NaN   \n",
       "585468  2022-03-03 18:01:43             Windows    Chrome   \n",
       "585469  2022-01-27 18:09:34             Windows    Chrome   \n",
       "585470  2022-01-27 18:52:16             Android    Chrome   \n",
       "585471  2022-01-27 19:21:03             Android    Chrome   \n",
       "\n",
       "                      localizacao locale          cidade         estado  \n",
       "0            São Paulo, Sao Paulo     BR       SÃO PAULO      SAO PAULO  \n",
       "1            São Paulo, Sao Paulo     BR       SÃO PAULO      SAO PAULO  \n",
       "2            São Paulo, Sao Paulo     BR       SÃO PAULO      SAO PAULO  \n",
       "3            São Paulo, Sao Paulo     BR       SÃO PAULO      SAO PAULO  \n",
       "4       Ribeirão Preto, Sao Paulo     BR  RIBEIRÃO PRETO      SAO PAULO  \n",
       "...                           ...    ...             ...            ...  \n",
       "585467       Santa Barbara, Bahia     BR   SANTA BARBARA          BAHIA  \n",
       "585468       Sao Pedro, Sao Paulo     BR       SAO PEDRO      SAO PAULO  \n",
       "585469         Itatiba, Sao Paulo     BR         ITATIBA      SAO PAULO  \n",
       "585470            Arapoti, Parana     BR         ARAPOTI         PARANA  \n",
       "585471      Uberaba, Minas Gerais     BR         UBERABA   MINAS GERAIS  \n",
       "\n",
       "[585472 rows x 9 columns]"
      ]
     },
     "execution_count": 9,
     "metadata": {},
     "output_type": "execute_result"
    }
   ],
   "source": [
    "dados.iloc[:, :9]"
   ]
  },
  {
   "cell_type": "code",
   "execution_count": 10,
   "metadata": {
    "colab": {
     "base_uri": "https://localhost:8080/",
     "height": 424
    },
    "executionInfo": {
     "elapsed": 15,
     "status": "ok",
     "timestamp": 1660593742539,
     "user": {
      "displayName": "Solano Jacon",
      "userId": "03193064938437592202"
     },
     "user_tz": 180
    },
    "id": "ao7t6fsYpMx3",
    "outputId": "b78714f1-b4d8-44bd-c237-f992a9c46e04"
   },
   "outputs": [
    {
     "data": {
      "text/html": [
       "\n",
       "  <div id=\"df-b981cc90-1fbf-4063-9b97-d27b3bf0e0f6\">\n",
       "    <div class=\"colab-df-container\">\n",
       "      <div>\n",
       "<style scoped>\n",
       "    .dataframe tbody tr th:only-of-type {\n",
       "        vertical-align: middle;\n",
       "    }\n",
       "\n",
       "    .dataframe tbody tr th {\n",
       "        vertical-align: top;\n",
       "    }\n",
       "\n",
       "    .dataframe thead th {\n",
       "        text-align: right;\n",
       "    }\n",
       "</style>\n",
       "<table border=\"1\" class=\"dataframe\">\n",
       "  <thead>\n",
       "    <tr style=\"text-align: right;\">\n",
       "      <th></th>\n",
       "      <th>qtde_lavagem_semana</th>\n",
       "      <th>utm_source</th>\n",
       "      <th>tipo_cabelo</th>\n",
       "      <th>comprimento</th>\n",
       "      <th>tipo_fios</th>\n",
       "      <th>procedimentos</th>\n",
       "      <th>tempo_procedimento</th>\n",
       "      <th>dieta</th>\n",
       "      <th>atividade_fisica</th>\n",
       "    </tr>\n",
       "  </thead>\n",
       "  <tbody>\n",
       "    <tr>\n",
       "      <th>0</th>\n",
       "      <td>4</td>\n",
       "      <td>NaN</td>\n",
       "      <td>Tipo 2</td>\n",
       "      <td>Raíz exposta</td>\n",
       "      <td>Pontas duplas</td>\n",
       "      <td>Nenhum</td>\n",
       "      <td>Há 2 semanas</td>\n",
       "      <td>Celíaca</td>\n",
       "      <td>Frequente</td>\n",
       "    </tr>\n",
       "    <tr>\n",
       "      <th>1</th>\n",
       "      <td>4</td>\n",
       "      <td>NaN</td>\n",
       "      <td>Tipo 2</td>\n",
       "      <td>Raíz exposta</td>\n",
       "      <td>Pontas duplas</td>\n",
       "      <td>Nenhum</td>\n",
       "      <td>Há 2 semanas</td>\n",
       "      <td>Celíaca</td>\n",
       "      <td>Frequente</td>\n",
       "    </tr>\n",
       "    <tr>\n",
       "      <th>2</th>\n",
       "      <td>4</td>\n",
       "      <td>NaN</td>\n",
       "      <td>Tipo 2</td>\n",
       "      <td>Raíz exposta</td>\n",
       "      <td>Pontas duplas</td>\n",
       "      <td>Nenhum</td>\n",
       "      <td>Há 2 semanas</td>\n",
       "      <td>Celíaca</td>\n",
       "      <td>Frequente</td>\n",
       "    </tr>\n",
       "    <tr>\n",
       "      <th>3</th>\n",
       "      <td>4</td>\n",
       "      <td>NaN</td>\n",
       "      <td>Tipo 2</td>\n",
       "      <td>Raíz exposta</td>\n",
       "      <td>Pontas duplas</td>\n",
       "      <td>Nenhum</td>\n",
       "      <td>Há 2 semanas</td>\n",
       "      <td>Celíaca</td>\n",
       "      <td>Frequente</td>\n",
       "    </tr>\n",
       "    <tr>\n",
       "      <th>4</th>\n",
       "      <td>7</td>\n",
       "      <td>NaN</td>\n",
       "      <td>Tipo 4</td>\n",
       "      <td>Muito curto</td>\n",
       "      <td>Perfeitos</td>\n",
       "      <td>Todos acima</td>\n",
       "      <td>Há mais de 1 mês</td>\n",
       "      <td>Nenhuma restrição</td>\n",
       "      <td>Nunca</td>\n",
       "    </tr>\n",
       "    <tr>\n",
       "      <th>...</th>\n",
       "      <td>...</td>\n",
       "      <td>...</td>\n",
       "      <td>...</td>\n",
       "      <td>...</td>\n",
       "      <td>...</td>\n",
       "      <td>...</td>\n",
       "      <td>...</td>\n",
       "      <td>...</td>\n",
       "      <td>...</td>\n",
       "    </tr>\n",
       "    <tr>\n",
       "      <th>585467</th>\n",
       "      <td>4</td>\n",
       "      <td>linktree</td>\n",
       "      <td>Tipo 1</td>\n",
       "      <td>Muito curto</td>\n",
       "      <td>Rebeldes</td>\n",
       "      <td>Nenhum</td>\n",
       "      <td>Há 1 semana</td>\n",
       "      <td>Nenhuma restrição</td>\n",
       "      <td>Frequente</td>\n",
       "    </tr>\n",
       "    <tr>\n",
       "      <th>585468</th>\n",
       "      <td>1</td>\n",
       "      <td>NaN</td>\n",
       "      <td>Tipo 1</td>\n",
       "      <td>Raíz exposta</td>\n",
       "      <td>Pontas duplas</td>\n",
       "      <td>Tintura</td>\n",
       "      <td>Há 1 mês</td>\n",
       "      <td>Celíaca</td>\n",
       "      <td>Raramente</td>\n",
       "    </tr>\n",
       "    <tr>\n",
       "      <th>585469</th>\n",
       "      <td>7</td>\n",
       "      <td>NaN</td>\n",
       "      <td>Tipo 1</td>\n",
       "      <td>Muito curto</td>\n",
       "      <td>Perfeitos</td>\n",
       "      <td>Nenhum</td>\n",
       "      <td>Há mais de 1 mês</td>\n",
       "      <td>Nenhuma restrição</td>\n",
       "      <td>Sempre</td>\n",
       "    </tr>\n",
       "    <tr>\n",
       "      <th>585470</th>\n",
       "      <td>4</td>\n",
       "      <td>NaN</td>\n",
       "      <td>Tipo 1</td>\n",
       "      <td>Raíz exposta</td>\n",
       "      <td>Pontas duplas</td>\n",
       "      <td>Todos acima</td>\n",
       "      <td>Há mais de 1 mês</td>\n",
       "      <td>Nenhuma restrição</td>\n",
       "      <td>Sempre</td>\n",
       "    </tr>\n",
       "    <tr>\n",
       "      <th>585471</th>\n",
       "      <td>6</td>\n",
       "      <td>NaN</td>\n",
       "      <td>Tipo 2</td>\n",
       "      <td>Muito curto</td>\n",
       "      <td>Rebeldes</td>\n",
       "      <td>Exposição ao sol, Tintura</td>\n",
       "      <td>Há 1 semana</td>\n",
       "      <td>Celíaca</td>\n",
       "      <td>Raramente</td>\n",
       "    </tr>\n",
       "  </tbody>\n",
       "</table>\n",
       "<p>585472 rows × 9 columns</p>\n",
       "</div>\n",
       "      <button class=\"colab-df-convert\" onclick=\"convertToInteractive('df-b981cc90-1fbf-4063-9b97-d27b3bf0e0f6')\"\n",
       "              title=\"Convert this dataframe to an interactive table.\"\n",
       "              style=\"display:none;\">\n",
       "        \n",
       "  <svg xmlns=\"http://www.w3.org/2000/svg\" height=\"24px\"viewBox=\"0 0 24 24\"\n",
       "       width=\"24px\">\n",
       "    <path d=\"M0 0h24v24H0V0z\" fill=\"none\"/>\n",
       "    <path d=\"M18.56 5.44l.94 2.06.94-2.06 2.06-.94-2.06-.94-.94-2.06-.94 2.06-2.06.94zm-11 1L8.5 8.5l.94-2.06 2.06-.94-2.06-.94L8.5 2.5l-.94 2.06-2.06.94zm10 10l.94 2.06.94-2.06 2.06-.94-2.06-.94-.94-2.06-.94 2.06-2.06.94z\"/><path d=\"M17.41 7.96l-1.37-1.37c-.4-.4-.92-.59-1.43-.59-.52 0-1.04.2-1.43.59L10.3 9.45l-7.72 7.72c-.78.78-.78 2.05 0 2.83L4 21.41c.39.39.9.59 1.41.59.51 0 1.02-.2 1.41-.59l7.78-7.78 2.81-2.81c.8-.78.8-2.07 0-2.86zM5.41 20L4 18.59l7.72-7.72 1.47 1.35L5.41 20z\"/>\n",
       "  </svg>\n",
       "      </button>\n",
       "      \n",
       "  <style>\n",
       "    .colab-df-container {\n",
       "      display:flex;\n",
       "      flex-wrap:wrap;\n",
       "      gap: 12px;\n",
       "    }\n",
       "\n",
       "    .colab-df-convert {\n",
       "      background-color: #E8F0FE;\n",
       "      border: none;\n",
       "      border-radius: 50%;\n",
       "      cursor: pointer;\n",
       "      display: none;\n",
       "      fill: #1967D2;\n",
       "      height: 32px;\n",
       "      padding: 0 0 0 0;\n",
       "      width: 32px;\n",
       "    }\n",
       "\n",
       "    .colab-df-convert:hover {\n",
       "      background-color: #E2EBFA;\n",
       "      box-shadow: 0px 1px 2px rgba(60, 64, 67, 0.3), 0px 1px 3px 1px rgba(60, 64, 67, 0.15);\n",
       "      fill: #174EA6;\n",
       "    }\n",
       "\n",
       "    [theme=dark] .colab-df-convert {\n",
       "      background-color: #3B4455;\n",
       "      fill: #D2E3FC;\n",
       "    }\n",
       "\n",
       "    [theme=dark] .colab-df-convert:hover {\n",
       "      background-color: #434B5C;\n",
       "      box-shadow: 0px 1px 3px 1px rgba(0, 0, 0, 0.15);\n",
       "      filter: drop-shadow(0px 1px 2px rgba(0, 0, 0, 0.3));\n",
       "      fill: #FFFFFF;\n",
       "    }\n",
       "  </style>\n",
       "\n",
       "      <script>\n",
       "        const buttonEl =\n",
       "          document.querySelector('#df-b981cc90-1fbf-4063-9b97-d27b3bf0e0f6 button.colab-df-convert');\n",
       "        buttonEl.style.display =\n",
       "          google.colab.kernel.accessAllowed ? 'block' : 'none';\n",
       "\n",
       "        async function convertToInteractive(key) {\n",
       "          const element = document.querySelector('#df-b981cc90-1fbf-4063-9b97-d27b3bf0e0f6');\n",
       "          const dataTable =\n",
       "            await google.colab.kernel.invokeFunction('convertToInteractive',\n",
       "                                                     [key], {});\n",
       "          if (!dataTable) return;\n",
       "\n",
       "          const docLinkHtml = 'Like what you see? Visit the ' +\n",
       "            '<a target=\"_blank\" href=https://colab.research.google.com/notebooks/data_table.ipynb>data table notebook</a>'\n",
       "            + ' to learn more about interactive tables.';\n",
       "          element.innerHTML = '';\n",
       "          dataTable['output_type'] = 'display_data';\n",
       "          await google.colab.output.renderOutput(dataTable, element);\n",
       "          const docLink = document.createElement('div');\n",
       "          docLink.innerHTML = docLinkHtml;\n",
       "          element.appendChild(docLink);\n",
       "        }\n",
       "      </script>\n",
       "    </div>\n",
       "  </div>\n",
       "  "
      ],
      "text/plain": [
       "        qtde_lavagem_semana utm_source tipo_cabelo   comprimento  \\\n",
       "0                         4        NaN      Tipo 2  Raíz exposta   \n",
       "1                         4        NaN      Tipo 2  Raíz exposta   \n",
       "2                         4        NaN      Tipo 2  Raíz exposta   \n",
       "3                         4        NaN      Tipo 2  Raíz exposta   \n",
       "4                         7        NaN      Tipo 4   Muito curto   \n",
       "...                     ...        ...         ...           ...   \n",
       "585467                    4   linktree      Tipo 1   Muito curto   \n",
       "585468                    1        NaN      Tipo 1  Raíz exposta   \n",
       "585469                    7        NaN      Tipo 1   Muito curto   \n",
       "585470                    4        NaN      Tipo 1  Raíz exposta   \n",
       "585471                    6        NaN      Tipo 2   Muito curto   \n",
       "\n",
       "            tipo_fios              procedimentos tempo_procedimento  \\\n",
       "0       Pontas duplas                     Nenhum       Há 2 semanas   \n",
       "1       Pontas duplas                     Nenhum       Há 2 semanas   \n",
       "2       Pontas duplas                     Nenhum       Há 2 semanas   \n",
       "3       Pontas duplas                     Nenhum       Há 2 semanas   \n",
       "4           Perfeitos                Todos acima   Há mais de 1 mês   \n",
       "...               ...                        ...                ...   \n",
       "585467       Rebeldes                     Nenhum        Há 1 semana   \n",
       "585468  Pontas duplas                    Tintura           Há 1 mês   \n",
       "585469      Perfeitos                     Nenhum   Há mais de 1 mês   \n",
       "585470  Pontas duplas                Todos acima   Há mais de 1 mês   \n",
       "585471       Rebeldes  Exposição ao sol, Tintura        Há 1 semana   \n",
       "\n",
       "                    dieta atividade_fisica  \n",
       "0                 Celíaca        Frequente  \n",
       "1                 Celíaca        Frequente  \n",
       "2                 Celíaca        Frequente  \n",
       "3                 Celíaca        Frequente  \n",
       "4       Nenhuma restrição            Nunca  \n",
       "...                   ...              ...  \n",
       "585467  Nenhuma restrição        Frequente  \n",
       "585468            Celíaca        Raramente  \n",
       "585469  Nenhuma restrição           Sempre  \n",
       "585470  Nenhuma restrição           Sempre  \n",
       "585471            Celíaca        Raramente  \n",
       "\n",
       "[585472 rows x 9 columns]"
      ]
     },
     "execution_count": 10,
     "metadata": {},
     "output_type": "execute_result"
    }
   ],
   "source": [
    "dados.iloc[:, 9:18]"
   ]
  },
  {
   "cell_type": "code",
   "execution_count": 11,
   "metadata": {
    "colab": {
     "base_uri": "https://localhost:8080/",
     "height": 424
    },
    "executionInfo": {
     "elapsed": 439,
     "status": "ok",
     "timestamp": 1660593742964,
     "user": {
      "displayName": "Solano Jacon",
      "userId": "03193064938437592202"
     },
     "user_tz": 180
    },
    "id": "wpjdSahVpMx3",
    "outputId": "22645706-b8d8-447d-a318-ef1391ed058f"
   },
   "outputs": [
    {
     "data": {
      "text/html": [
       "\n",
       "  <div id=\"df-f282fcfe-0eb5-44a0-b9a0-177107d57fee\">\n",
       "    <div class=\"colab-df-container\">\n",
       "      <div>\n",
       "<style scoped>\n",
       "    .dataframe tbody tr th:only-of-type {\n",
       "        vertical-align: middle;\n",
       "    }\n",
       "\n",
       "    .dataframe tbody tr th {\n",
       "        vertical-align: top;\n",
       "    }\n",
       "\n",
       "    .dataframe thead th {\n",
       "        text-align: right;\n",
       "    }\n",
       "</style>\n",
       "<table border=\"1\" class=\"dataframe\">\n",
       "  <thead>\n",
       "    <tr style=\"text-align: right;\">\n",
       "      <th></th>\n",
       "      <th>frequencia_estresse</th>\n",
       "      <th>caracteristica</th>\n",
       "      <th>faixa_etaria</th>\n",
       "      <th>efeitos_desejados</th>\n",
       "      <th>fragancia</th>\n",
       "      <th>id_pedido</th>\n",
       "      <th>id</th>\n",
       "    </tr>\n",
       "  </thead>\n",
       "  <tbody>\n",
       "    <tr>\n",
       "      <th>0</th>\n",
       "      <td>Nunca</td>\n",
       "      <td>Característica 1</td>\n",
       "      <td>25 a 34</td>\n",
       "      <td>Efeito 7</td>\n",
       "      <td>Rosas</td>\n",
       "      <td>5d2301cb6bf9d7c</td>\n",
       "      <td>426190.0</td>\n",
       "    </tr>\n",
       "    <tr>\n",
       "      <th>1</th>\n",
       "      <td>Nunca</td>\n",
       "      <td>Característica 1</td>\n",
       "      <td>25 a 34</td>\n",
       "      <td>Efeito 7</td>\n",
       "      <td>Rosas</td>\n",
       "      <td>5d2301cb6bf9d7c</td>\n",
       "      <td>426189.0</td>\n",
       "    </tr>\n",
       "    <tr>\n",
       "      <th>2</th>\n",
       "      <td>Nunca</td>\n",
       "      <td>Característica 1</td>\n",
       "      <td>25 a 34</td>\n",
       "      <td>Efeito 7</td>\n",
       "      <td>Rosas</td>\n",
       "      <td>5d2301cb6bf9d7c</td>\n",
       "      <td>426188.0</td>\n",
       "    </tr>\n",
       "    <tr>\n",
       "      <th>3</th>\n",
       "      <td>Nunca</td>\n",
       "      <td>Característica 1</td>\n",
       "      <td>25 a 34</td>\n",
       "      <td>Efeito 7</td>\n",
       "      <td>Rosas</td>\n",
       "      <td>5d2301cb6bf9d7c</td>\n",
       "      <td>426187.0</td>\n",
       "    </tr>\n",
       "    <tr>\n",
       "      <th>4</th>\n",
       "      <td>Nunca</td>\n",
       "      <td>Característica 6</td>\n",
       "      <td>55 a 64</td>\n",
       "      <td>Efeito 1</td>\n",
       "      <td>Eucalipto</td>\n",
       "      <td>NaN</td>\n",
       "      <td>NaN</td>\n",
       "    </tr>\n",
       "    <tr>\n",
       "      <th>...</th>\n",
       "      <td>...</td>\n",
       "      <td>...</td>\n",
       "      <td>...</td>\n",
       "      <td>...</td>\n",
       "      <td>...</td>\n",
       "      <td>...</td>\n",
       "      <td>...</td>\n",
       "    </tr>\n",
       "    <tr>\n",
       "      <th>585467</th>\n",
       "      <td>Uma vez por mês</td>\n",
       "      <td>Característica 7</td>\n",
       "      <td>18 a 24</td>\n",
       "      <td>Efeito 7</td>\n",
       "      <td>Rosas</td>\n",
       "      <td>NaN</td>\n",
       "      <td>NaN</td>\n",
       "    </tr>\n",
       "    <tr>\n",
       "      <th>585468</th>\n",
       "      <td>Regularmente</td>\n",
       "      <td>Característica 9</td>\n",
       "      <td>65+</td>\n",
       "      <td>Efeito 7, Efeito 1, Efeito 5</td>\n",
       "      <td>Flores do campo</td>\n",
       "      <td>NaN</td>\n",
       "      <td>NaN</td>\n",
       "    </tr>\n",
       "    <tr>\n",
       "      <th>585469</th>\n",
       "      <td>Nunca</td>\n",
       "      <td>Característica 6</td>\n",
       "      <td>55 a 64</td>\n",
       "      <td>Efeito 1</td>\n",
       "      <td>Eucalipto</td>\n",
       "      <td>NaN</td>\n",
       "      <td>NaN</td>\n",
       "    </tr>\n",
       "    <tr>\n",
       "      <th>585470</th>\n",
       "      <td>Nunca</td>\n",
       "      <td>Característica 8</td>\n",
       "      <td>18 a 24</td>\n",
       "      <td>Efeito 7, Efeito 1, Efeito 5, Efeito 8</td>\n",
       "      <td>Eucalipto</td>\n",
       "      <td>NaN</td>\n",
       "      <td>NaN</td>\n",
       "    </tr>\n",
       "    <tr>\n",
       "      <th>585471</th>\n",
       "      <td>Nunca</td>\n",
       "      <td>Característica 2</td>\n",
       "      <td>45 a 54</td>\n",
       "      <td>Efeito 8</td>\n",
       "      <td>Rosas</td>\n",
       "      <td>NaN</td>\n",
       "      <td>NaN</td>\n",
       "    </tr>\n",
       "  </tbody>\n",
       "</table>\n",
       "<p>585472 rows × 7 columns</p>\n",
       "</div>\n",
       "      <button class=\"colab-df-convert\" onclick=\"convertToInteractive('df-f282fcfe-0eb5-44a0-b9a0-177107d57fee')\"\n",
       "              title=\"Convert this dataframe to an interactive table.\"\n",
       "              style=\"display:none;\">\n",
       "        \n",
       "  <svg xmlns=\"http://www.w3.org/2000/svg\" height=\"24px\"viewBox=\"0 0 24 24\"\n",
       "       width=\"24px\">\n",
       "    <path d=\"M0 0h24v24H0V0z\" fill=\"none\"/>\n",
       "    <path d=\"M18.56 5.44l.94 2.06.94-2.06 2.06-.94-2.06-.94-.94-2.06-.94 2.06-2.06.94zm-11 1L8.5 8.5l.94-2.06 2.06-.94-2.06-.94L8.5 2.5l-.94 2.06-2.06.94zm10 10l.94 2.06.94-2.06 2.06-.94-2.06-.94-.94-2.06-.94 2.06-2.06.94z\"/><path d=\"M17.41 7.96l-1.37-1.37c-.4-.4-.92-.59-1.43-.59-.52 0-1.04.2-1.43.59L10.3 9.45l-7.72 7.72c-.78.78-.78 2.05 0 2.83L4 21.41c.39.39.9.59 1.41.59.51 0 1.02-.2 1.41-.59l7.78-7.78 2.81-2.81c.8-.78.8-2.07 0-2.86zM5.41 20L4 18.59l7.72-7.72 1.47 1.35L5.41 20z\"/>\n",
       "  </svg>\n",
       "      </button>\n",
       "      \n",
       "  <style>\n",
       "    .colab-df-container {\n",
       "      display:flex;\n",
       "      flex-wrap:wrap;\n",
       "      gap: 12px;\n",
       "    }\n",
       "\n",
       "    .colab-df-convert {\n",
       "      background-color: #E8F0FE;\n",
       "      border: none;\n",
       "      border-radius: 50%;\n",
       "      cursor: pointer;\n",
       "      display: none;\n",
       "      fill: #1967D2;\n",
       "      height: 32px;\n",
       "      padding: 0 0 0 0;\n",
       "      width: 32px;\n",
       "    }\n",
       "\n",
       "    .colab-df-convert:hover {\n",
       "      background-color: #E2EBFA;\n",
       "      box-shadow: 0px 1px 2px rgba(60, 64, 67, 0.3), 0px 1px 3px 1px rgba(60, 64, 67, 0.15);\n",
       "      fill: #174EA6;\n",
       "    }\n",
       "\n",
       "    [theme=dark] .colab-df-convert {\n",
       "      background-color: #3B4455;\n",
       "      fill: #D2E3FC;\n",
       "    }\n",
       "\n",
       "    [theme=dark] .colab-df-convert:hover {\n",
       "      background-color: #434B5C;\n",
       "      box-shadow: 0px 1px 3px 1px rgba(0, 0, 0, 0.15);\n",
       "      filter: drop-shadow(0px 1px 2px rgba(0, 0, 0, 0.3));\n",
       "      fill: #FFFFFF;\n",
       "    }\n",
       "  </style>\n",
       "\n",
       "      <script>\n",
       "        const buttonEl =\n",
       "          document.querySelector('#df-f282fcfe-0eb5-44a0-b9a0-177107d57fee button.colab-df-convert');\n",
       "        buttonEl.style.display =\n",
       "          google.colab.kernel.accessAllowed ? 'block' : 'none';\n",
       "\n",
       "        async function convertToInteractive(key) {\n",
       "          const element = document.querySelector('#df-f282fcfe-0eb5-44a0-b9a0-177107d57fee');\n",
       "          const dataTable =\n",
       "            await google.colab.kernel.invokeFunction('convertToInteractive',\n",
       "                                                     [key], {});\n",
       "          if (!dataTable) return;\n",
       "\n",
       "          const docLinkHtml = 'Like what you see? Visit the ' +\n",
       "            '<a target=\"_blank\" href=https://colab.research.google.com/notebooks/data_table.ipynb>data table notebook</a>'\n",
       "            + ' to learn more about interactive tables.';\n",
       "          element.innerHTML = '';\n",
       "          dataTable['output_type'] = 'display_data';\n",
       "          await google.colab.output.renderOutput(dataTable, element);\n",
       "          const docLink = document.createElement('div');\n",
       "          docLink.innerHTML = docLinkHtml;\n",
       "          element.appendChild(docLink);\n",
       "        }\n",
       "      </script>\n",
       "    </div>\n",
       "  </div>\n",
       "  "
      ],
      "text/plain": [
       "       frequencia_estresse    caracteristica faixa_etaria  \\\n",
       "0                    Nunca  Característica 1      25 a 34   \n",
       "1                    Nunca  Característica 1      25 a 34   \n",
       "2                    Nunca  Característica 1      25 a 34   \n",
       "3                    Nunca  Característica 1      25 a 34   \n",
       "4                    Nunca  Característica 6      55 a 64   \n",
       "...                    ...               ...          ...   \n",
       "585467     Uma vez por mês  Característica 7      18 a 24   \n",
       "585468        Regularmente  Característica 9          65+   \n",
       "585469               Nunca  Característica 6      55 a 64   \n",
       "585470               Nunca  Característica 8      18 a 24   \n",
       "585471               Nunca  Característica 2      45 a 54   \n",
       "\n",
       "                             efeitos_desejados        fragancia  \\\n",
       "0                                     Efeito 7            Rosas   \n",
       "1                                     Efeito 7            Rosas   \n",
       "2                                     Efeito 7            Rosas   \n",
       "3                                     Efeito 7            Rosas   \n",
       "4                                     Efeito 1        Eucalipto   \n",
       "...                                        ...              ...   \n",
       "585467                                Efeito 7            Rosas   \n",
       "585468            Efeito 7, Efeito 1, Efeito 5  Flores do campo   \n",
       "585469                                Efeito 1        Eucalipto   \n",
       "585470  Efeito 7, Efeito 1, Efeito 5, Efeito 8        Eucalipto   \n",
       "585471                                Efeito 8            Rosas   \n",
       "\n",
       "              id_pedido        id  \n",
       "0       5d2301cb6bf9d7c  426190.0  \n",
       "1       5d2301cb6bf9d7c  426189.0  \n",
       "2       5d2301cb6bf9d7c  426188.0  \n",
       "3       5d2301cb6bf9d7c  426187.0  \n",
       "4                   NaN       NaN  \n",
       "...                 ...       ...  \n",
       "585467              NaN       NaN  \n",
       "585468              NaN       NaN  \n",
       "585469              NaN       NaN  \n",
       "585470              NaN       NaN  \n",
       "585471              NaN       NaN  \n",
       "\n",
       "[585472 rows x 7 columns]"
      ]
     },
     "execution_count": 11,
     "metadata": {},
     "output_type": "execute_result"
    }
   ],
   "source": [
    "dados.iloc[:, 18:]"
   ]
  },
  {
   "cell_type": "code",
   "execution_count": 12,
   "metadata": {
    "colab": {
     "base_uri": "https://localhost:8080/"
    },
    "executionInfo": {
     "elapsed": 317,
     "status": "ok",
     "timestamp": 1660593743272,
     "user": {
      "displayName": "Solano Jacon",
      "userId": "03193064938437592202"
     },
     "user_tz": 180
    },
    "id": "N-FXuBW-pMx3",
    "outputId": "8d88b1b0-1837-4697-ab91-365105944d58"
   },
   "outputs": [
    {
     "name": "stdout",
     "output_type": "stream",
     "text": [
      "<class 'pandas.core.frame.DataFrame'>\n",
      "Int64Index: 585472 entries, 0 to 585471\n",
      "Data columns (total 25 columns):\n",
      " #   Column               Non-Null Count   Dtype  \n",
      "---  ------               --------------   -----  \n",
      " 0   id_form              585472 non-null  object \n",
      " 1   id_cliente           585472 non-null  object \n",
      " 2   data                 585472 non-null  object \n",
      " 3   sistema_operacional  585472 non-null  object \n",
      " 4   navegador            453493 non-null  object \n",
      " 5   localizacao          585472 non-null  object \n",
      " 6   locale               585472 non-null  object \n",
      " 7   cidade               565977 non-null  object \n",
      " 8   estado               585240 non-null  object \n",
      " 9   qtde_lavagem_semana  585472 non-null  int64  \n",
      " 10  utm_source           509386 non-null  object \n",
      " 11  tipo_cabelo          585472 non-null  object \n",
      " 12  comprimento          585472 non-null  object \n",
      " 13  tipo_fios            585472 non-null  object \n",
      " 14  procedimentos        585472 non-null  object \n",
      " 15  tempo_procedimento   585472 non-null  object \n",
      " 16  dieta                585472 non-null  object \n",
      " 17  atividade_fisica     585472 non-null  object \n",
      " 18  frequencia_estresse  585472 non-null  object \n",
      " 19  caracteristica       585472 non-null  object \n",
      " 20  faixa_etaria         585472 non-null  object \n",
      " 21  efeitos_desejados    584231 non-null  object \n",
      " 22  fragancia            585472 non-null  object \n",
      " 23  id_pedido            211663 non-null  object \n",
      " 24  id                   211663 non-null  float64\n",
      "dtypes: float64(1), int64(1), object(23)\n",
      "memory usage: 116.1+ MB\n"
     ]
    }
   ],
   "source": [
    "dados.info()"
   ]
  },
  {
   "cell_type": "code",
   "execution_count": 13,
   "metadata": {
    "colab": {
     "base_uri": "https://localhost:8080/"
    },
    "executionInfo": {
     "elapsed": 10,
     "status": "ok",
     "timestamp": 1660593744148,
     "user": {
      "displayName": "Solano Jacon",
      "userId": "03193064938437592202"
     },
     "user_tz": 180
    },
    "id": "vpuNffH0pMx4",
    "outputId": "6f8741f5-bbb4-4a35-e1d1-8c007b651829"
   },
   "outputs": [
    {
     "data": {
      "text/plain": [
       "id_form                     0\n",
       "id_cliente                  0\n",
       "data                        0\n",
       "sistema_operacional         0\n",
       "navegador              131979\n",
       "localizacao                 0\n",
       "locale                      0\n",
       "cidade                  19495\n",
       "estado                    232\n",
       "qtde_lavagem_semana         0\n",
       "utm_source              76086\n",
       "tipo_cabelo                 0\n",
       "comprimento                 0\n",
       "tipo_fios                   0\n",
       "procedimentos               0\n",
       "tempo_procedimento          0\n",
       "dieta                       0\n",
       "atividade_fisica            0\n",
       "frequencia_estresse         0\n",
       "caracteristica              0\n",
       "faixa_etaria                0\n",
       "efeitos_desejados        1241\n",
       "fragancia                   0\n",
       "id_pedido              373809\n",
       "id                     373809\n",
       "dtype: int64"
      ]
     },
     "execution_count": 13,
     "metadata": {},
     "output_type": "execute_result"
    }
   ],
   "source": [
    "dados.isna().sum()"
   ]
  },
  {
   "cell_type": "code",
   "execution_count": 14,
   "metadata": {
    "executionInfo": {
     "elapsed": 700,
     "status": "ok",
     "timestamp": 1660593744841,
     "user": {
      "displayName": "Solano Jacon",
      "userId": "03193064938437592202"
     },
     "user_tz": 180
    },
    "id": "T25moZS6pMx4"
   },
   "outputs": [],
   "source": [
    "dados = dados.fillna(value=np.nan)"
   ]
  },
  {
   "cell_type": "code",
   "execution_count": 15,
   "metadata": {
    "executionInfo": {
     "elapsed": 3284,
     "status": "ok",
     "timestamp": 1660593748123,
     "user": {
      "displayName": "Solano Jacon",
      "userId": "03193064938437592202"
     },
     "user_tz": 180
    },
    "id": "UIK7C8uIpMx4"
   },
   "outputs": [],
   "source": [
    "caracteres_especiais = ['\\u014c', '\\u014d', '\\u0160', '\\u0161']\n",
    "caracteres_substitutos = ['O', 'o', 'S', 's']\n",
    "\n",
    "for caractere_especial, caractere_substituto in zip(caracteres_especiais, caracteres_substitutos):\n",
    "    dados.loc[dados['localizacao'].notna(), 'localizacao'] = dados.loc[dados['localizacao'].notna(), 'localizacao'].apply(lambda x: x.replace(caractere_especial, caractere_substituto))\n",
    "    dados.loc[dados['cidade'].notna(), 'cidade'] = dados.loc[dados['cidade'].notna(), 'cidade'].apply(lambda x: x.replace(caractere_especial, caractere_substituto))\n",
    "    dados.loc[dados['estado'].notna(), 'estado'] = dados.loc[dados['estado'].notna(), 'estado'].apply(lambda x: x.replace(caractere_especial, caractere_substituto))"
   ]
  },
  {
   "cell_type": "code",
   "execution_count": 16,
   "metadata": {
    "executionInfo": {
     "elapsed": 27,
     "status": "ok",
     "timestamp": 1660593748124,
     "user": {
      "displayName": "Solano Jacon",
      "userId": "03193064938437592202"
     },
     "user_tz": 180
    },
    "id": "F4gLj7oopMx5"
   },
   "outputs": [],
   "source": [
    "# dados.to_csv(folder_data_files + '/dados.csv', encoding='iso-8859-1')"
   ]
  },
  {
   "cell_type": "markdown",
   "metadata": {
    "id": "7YqZugEdpMx5"
   },
   "source": [
    "### Análise dos Dados / <i>Data Analysis</i>"
   ]
  },
  {
   "cell_type": "code",
   "execution_count": 17,
   "metadata": {
    "colab": {
     "base_uri": "https://localhost:8080/",
     "height": 35
    },
    "executionInfo": {
     "elapsed": 26,
     "status": "ok",
     "timestamp": 1660593748124,
     "user": {
      "displayName": "Solano Jacon",
      "userId": "03193064938437592202"
     },
     "user_tz": 180
    },
    "id": "Vf2zjdAFpMx5",
    "outputId": "6533697c-5074-47f0-d5a9-0260c30e5d9c"
   },
   "outputs": [
    {
     "data": {
      "application/vnd.google.colaboratory.intrinsic+json": {
       "type": "string"
      },
      "text/plain": [
       "'2022-01-01 00:13:01'"
      ]
     },
     "execution_count": 17,
     "metadata": {},
     "output_type": "execute_result"
    }
   ],
   "source": [
    "dados['data'].min()"
   ]
  },
  {
   "cell_type": "code",
   "execution_count": 18,
   "metadata": {
    "colab": {
     "base_uri": "https://localhost:8080/",
     "height": 35
    },
    "executionInfo": {
     "elapsed": 24,
     "status": "ok",
     "timestamp": 1660593748124,
     "user": {
      "displayName": "Solano Jacon",
      "userId": "03193064938437592202"
     },
     "user_tz": 180
    },
    "id": "GLOkN6I5pMx6",
    "outputId": "a809973d-34ae-40cd-fcf1-cce8cac10802"
   },
   "outputs": [
    {
     "data": {
      "application/vnd.google.colaboratory.intrinsic+json": {
       "type": "string"
      },
      "text/plain": [
       "'2022-06-30 23:57:47'"
      ]
     },
     "execution_count": 18,
     "metadata": {},
     "output_type": "execute_result"
    }
   ],
   "source": [
    "dados['data'].max()"
   ]
  },
  {
   "cell_type": "code",
   "execution_count": 19,
   "metadata": {
    "colab": {
     "base_uri": "https://localhost:8080/"
    },
    "executionInfo": {
     "elapsed": 24,
     "status": "ok",
     "timestamp": 1660593748125,
     "user": {
      "displayName": "Solano Jacon",
      "userId": "03193064938437592202"
     },
     "user_tz": 180
    },
    "id": "n__HoGeNpMx6",
    "outputId": "07e05799-8979-4adf-b50c-65318a065db7"
   },
   "outputs": [
    {
     "data": {
      "text/plain": [
       "Android      0.597637\n",
       "iOS          0.330841\n",
       "Windows      0.063573\n",
       "Mac OS       0.005380\n",
       "Linux        0.002193\n",
       " ChromeOS    0.000376\n",
       "Name: sistema_operacional, dtype: float64"
      ]
     },
     "execution_count": 19,
     "metadata": {},
     "output_type": "execute_result"
    }
   ],
   "source": [
    "dados['sistema_operacional'].value_counts(normalize=True, dropna=False)"
   ]
  },
  {
   "cell_type": "code",
   "execution_count": 20,
   "metadata": {
    "colab": {
     "base_uri": "https://localhost:8080/"
    },
    "executionInfo": {
     "elapsed": 21,
     "status": "ok",
     "timestamp": 1660593748125,
     "user": {
      "displayName": "Solano Jacon",
      "userId": "03193064938437592202"
     },
     "user_tz": 180
    },
    "id": "YH-cTRD4pMx6",
    "outputId": "df54a8b4-2cf6-428a-c25b-a590f10f52a0"
   },
   "outputs": [
    {
     "data": {
      "text/plain": [
       "Chrome            0.658274\n",
       "NaN               0.225423\n",
       "Safari            0.101281\n",
       "ChromeiOS         0.006603\n",
       "ChromiumEdge      0.004099\n",
       "Firefox           0.002856\n",
       "Opera             0.001443\n",
       "MSEdge            0.000012\n",
       "Yandex.Browser    0.000009\n",
       "Name: navegador, dtype: float64"
      ]
     },
     "execution_count": 20,
     "metadata": {},
     "output_type": "execute_result"
    }
   ],
   "source": [
    "dados['navegador'].value_counts(normalize=True, dropna=False)"
   ]
  },
  {
   "cell_type": "code",
   "execution_count": 21,
   "metadata": {
    "colab": {
     "base_uri": "https://localhost:8080/"
    },
    "executionInfo": {
     "elapsed": 18,
     "status": "ok",
     "timestamp": 1660593748125,
     "user": {
      "displayName": "Solano Jacon",
      "userId": "03193064938437592202"
     },
     "user_tz": 180
    },
    "id": "-rsuMyJ2pMx7",
    "outputId": "2e19b7f1-f5be-453e-b6ae-7a1e6ef4a47a"
   },
   "outputs": [
    {
     "data": {
      "text/plain": [
       "São Paulo, Sao Paulo              0.128623\n",
       "Rio de Janeiro, Rio de Janeiro    0.045292\n",
       "Belo Horizonte, Minas Gerais      0.025294\n",
       "null, null                        0.023654\n",
       "Brasília, Federal District        0.023260\n",
       "                                    ...   \n",
       "Lady Lake, Florida                0.000002\n",
       "Aratuba, Ceara                    0.000002\n",
       "Fanhoes, Lisbon                   0.000002\n",
       "Elk River, Minnesota              0.000002\n",
       "Cebu City, Central Visayas        0.000002\n",
       "Name: localizacao, Length: 5679, dtype: float64"
      ]
     },
     "execution_count": 21,
     "metadata": {},
     "output_type": "execute_result"
    }
   ],
   "source": [
    "dados['localizacao'].value_counts(normalize=True, dropna=False)"
   ]
  },
  {
   "cell_type": "code",
   "execution_count": 22,
   "metadata": {
    "colab": {
     "base_uri": "https://localhost:8080/"
    },
    "executionInfo": {
     "elapsed": 287,
     "status": "ok",
     "timestamp": 1660593748396,
     "user": {
      "displayName": "Solano Jacon",
      "userId": "03193064938437592202"
     },
     "user_tz": 180
    },
    "id": "yvqYNn2RpMx7",
    "outputId": "1336d2b9-434d-42e5-c2bc-3888715375be"
   },
   "outputs": [
    {
     "data": {
      "text/plain": [
       "BR    1.0\n",
       "Name: locale, dtype: float64"
      ]
     },
     "execution_count": 22,
     "metadata": {},
     "output_type": "execute_result"
    }
   ],
   "source": [
    "dados['locale'].value_counts(normalize=True, dropna=False)"
   ]
  },
  {
   "cell_type": "code",
   "execution_count": 23,
   "metadata": {
    "colab": {
     "base_uri": "https://localhost:8080/"
    },
    "executionInfo": {
     "elapsed": 16,
     "status": "ok",
     "timestamp": 1660593748396,
     "user": {
      "displayName": "Solano Jacon",
      "userId": "03193064938437592202"
     },
     "user_tz": 180
    },
    "id": "DCUBxvVjpMx7",
    "outputId": "3ced18f5-7f75-4756-a6ec-c4c24ab1e04b"
   },
   "outputs": [
    {
     "data": {
      "text/plain": [
       "SÃO PAULO         0.128623\n",
       "RIO DE JANEIRO    0.045292\n",
       "NaN               0.033298\n",
       "BELO HORIZONTE    0.025318\n",
       "BRASÍLIA          0.023260\n",
       "                    ...   \n",
       "BRIDGWATER        0.000002\n",
       "ALTO BOA VISTA    0.000002\n",
       "MIDDLEBORO        0.000002\n",
       "TURKU             0.000002\n",
       "CEBU CITY         0.000002\n",
       "Name: cidade, Length: 5315, dtype: float64"
      ]
     },
     "execution_count": 23,
     "metadata": {},
     "output_type": "execute_result"
    }
   ],
   "source": [
    "dados['cidade'].value_counts(normalize=True, dropna=False)"
   ]
  },
  {
   "cell_type": "code",
   "execution_count": 24,
   "metadata": {
    "colab": {
     "base_uri": "https://localhost:8080/"
    },
    "executionInfo": {
     "elapsed": 15,
     "status": "ok",
     "timestamp": 1660593748397,
     "user": {
      "displayName": "Solano Jacon",
      "userId": "03193064938437592202"
     },
     "user_tz": 180
    },
    "id": "4oIejGeVpMx8",
    "outputId": "908abdfa-4eaa-4b71-c0aa-f4164626a902"
   },
   "outputs": [
    {
     "data": {
      "text/plain": [
       " SAO PAULO             0.324434\n",
       " MINAS GERAIS          0.089432\n",
       " RIO DE JANEIRO        0.084059\n",
       " PARANA                0.062290\n",
       " RIO GRANDE DO SUL     0.050686\n",
       "                         ...   \n",
       " ORDINO                0.000002\n",
       " CASTILLE-LA MANCHA    0.000002\n",
       " BRATISLAVA            0.000002\n",
       " MOSTEIROS             0.000002\n",
       " CENTRAL VISAYAS       0.000002\n",
       "Name: estado, Length: 328, dtype: float64"
      ]
     },
     "execution_count": 24,
     "metadata": {},
     "output_type": "execute_result"
    }
   ],
   "source": [
    "dados['estado'].value_counts(normalize=True, dropna=False)"
   ]
  },
  {
   "cell_type": "code",
   "execution_count": 25,
   "metadata": {
    "colab": {
     "base_uri": "https://localhost:8080/"
    },
    "executionInfo": {
     "elapsed": 12,
     "status": "ok",
     "timestamp": 1660593748397,
     "user": {
      "displayName": "Solano Jacon",
      "userId": "03193064938437592202"
     },
     "user_tz": 180
    },
    "id": "EUbq5I8bpMx8",
    "outputId": "9eba75a2-da74-47f6-e798-ffaf36e48671"
   },
   "outputs": [
    {
     "data": {
      "text/plain": [
       "4    0.321218\n",
       "1    0.267693\n",
       "2    0.160269\n",
       "6    0.082084\n",
       "5    0.080099\n",
       "3    0.053704\n",
       "7    0.034932\n",
       "Name: qtde_lavagem_semana, dtype: float64"
      ]
     },
     "execution_count": 25,
     "metadata": {},
     "output_type": "execute_result"
    }
   ],
   "source": [
    "dados['qtde_lavagem_semana'].value_counts(normalize=True, dropna=False)"
   ]
  },
  {
   "cell_type": "code",
   "execution_count": 26,
   "metadata": {
    "colab": {
     "base_uri": "https://localhost:8080/"
    },
    "executionInfo": {
     "elapsed": 10,
     "status": "ok",
     "timestamp": 1660593748397,
     "user": {
      "displayName": "Solano Jacon",
      "userId": "03193064938437592202"
     },
     "user_tz": 180
    },
    "id": "NODf33hHpMx8",
    "outputId": "507c6199-8300-4936-87f5-59b92f020628"
   },
   "outputs": [
    {
     "data": {
      "text/plain": [
       "influencer         0.316890\n",
       "facebook           0.206488\n",
       "NaN                0.129957\n",
       "google             0.086556\n",
       "sf_wpp_camp        0.066584\n",
       "linktree           0.053991\n",
       "instagram          0.046786\n",
       "sf_email_camp      0.036611\n",
       "sf_wpp_flux        0.025072\n",
       "rakuten            0.008084\n",
       "IGShopping         0.007879\n",
       "email_sf           0.003964\n",
       "blog               0.003013\n",
       "tiktok             0.001933\n",
       "microinfluencer    0.001732\n",
       "adwords            0.001578\n",
       "site               0.001370\n",
       "sf_email_flux      0.000905\n",
       "meliuz             0.000167\n",
       "incicacao          0.000130\n",
       "salesforce         0.000114\n",
       "whatsapp           0.000050\n",
       "telegram           0.000032\n",
       "sendinblue         0.000032\n",
       "sf_sms_camp        0.000017\n",
       "cpc                0.000012\n",
       "sf_wpp_flu         0.000012\n",
       "teste_source       0.000007\n",
       "sms                0.000007\n",
       "facebook           0.000005\n",
       "uaubox             0.000003\n",
       "popup              0.000003\n",
       "sf_camp_email      0.000003\n",
       "email              0.000002\n",
       "Facebook ads       0.000002\n",
       "santander          0.000002\n",
       "all                0.000002\n",
       "copy_link          0.000002\n",
       "sf_                0.000002\n",
       "Name: utm_source, dtype: float64"
      ]
     },
     "execution_count": 26,
     "metadata": {},
     "output_type": "execute_result"
    }
   ],
   "source": [
    "dados['utm_source'].value_counts(normalize=True, dropna=False)"
   ]
  },
  {
   "cell_type": "code",
   "execution_count": 27,
   "metadata": {
    "colab": {
     "base_uri": "https://localhost:8080/"
    },
    "executionInfo": {
     "elapsed": 352,
     "status": "ok",
     "timestamp": 1660593748741,
     "user": {
      "displayName": "Solano Jacon",
      "userId": "03193064938437592202"
     },
     "user_tz": 180
    },
    "id": "ewSohPfVpMx8",
    "outputId": "30492fbe-1b68-4925-8142-07524f93ffb1"
   },
   "outputs": [
    {
     "data": {
      "text/plain": [
       "Tipo 1    0.421457\n",
       "Tipo 2    0.364034\n",
       "Tipo 4    0.173897\n",
       "Tipo 3    0.040612\n",
       "Name: tipo_cabelo, dtype: float64"
      ]
     },
     "execution_count": 27,
     "metadata": {},
     "output_type": "execute_result"
    }
   ],
   "source": [
    "dados['tipo_cabelo'].value_counts(normalize=True, dropna=False)"
   ]
  },
  {
   "cell_type": "code",
   "execution_count": 28,
   "metadata": {
    "colab": {
     "base_uri": "https://localhost:8080/"
    },
    "executionInfo": {
     "elapsed": 16,
     "status": "ok",
     "timestamp": 1660593748741,
     "user": {
      "displayName": "Solano Jacon",
      "userId": "03193064938437592202"
     },
     "user_tz": 180
    },
    "id": "_GHJjqlCpMx8",
    "outputId": "b94379df-1536-43d8-b3d5-55f69b92512d"
   },
   "outputs": [
    {
     "data": {
      "text/plain": [
       "Muito curto     0.472550\n",
       "Raíz exposta    0.356700\n",
       "Longo           0.123586\n",
       "Extra longo     0.047164\n",
       "Name: comprimento, dtype: float64"
      ]
     },
     "execution_count": 28,
     "metadata": {},
     "output_type": "execute_result"
    }
   ],
   "source": [
    "dados['comprimento'].value_counts(normalize=True, dropna=False)"
   ]
  },
  {
   "cell_type": "code",
   "execution_count": 29,
   "metadata": {
    "colab": {
     "base_uri": "https://localhost:8080/"
    },
    "executionInfo": {
     "elapsed": 15,
     "status": "ok",
     "timestamp": 1660593748742,
     "user": {
      "displayName": "Solano Jacon",
      "userId": "03193064938437592202"
     },
     "user_tz": 180
    },
    "id": "tBFii0dHpMx9",
    "outputId": "b8397ffb-5893-45f0-f198-8c59c7dfc565"
   },
   "outputs": [
    {
     "data": {
      "text/plain": [
       "Secos            0.570929\n",
       "Pontas duplas    0.169395\n",
       "Rebeldes         0.167234\n",
       "Perfeitos        0.092442\n",
       "Name: tipo_fios, dtype: float64"
      ]
     },
     "execution_count": 29,
     "metadata": {},
     "output_type": "execute_result"
    }
   ],
   "source": [
    "dados['tipo_fios'].value_counts(normalize=True, dropna=False)"
   ]
  },
  {
   "cell_type": "code",
   "execution_count": 30,
   "metadata": {
    "colab": {
     "base_uri": "https://localhost:8080/"
    },
    "executionInfo": {
     "elapsed": 13,
     "status": "ok",
     "timestamp": 1660593748742,
     "user": {
      "displayName": "Solano Jacon",
      "userId": "03193064938437592202"
     },
     "user_tz": 180
    },
    "id": "lCAT4xVjpMx9",
    "outputId": "6f69d174-f83a-464e-ffeb-427c48553bb7"
   },
   "outputs": [
    {
     "data": {
      "text/plain": [
       "Corte agressivo                                       0.182757\n",
       "Todos acima                                           0.153710\n",
       "Tintura                                               0.086262\n",
       "Exposição ao sol                                      0.081025\n",
       "Tintura, Corte agressivo                              0.076801\n",
       "                                                        ...   \n",
       "Nenhum, Tintura, Exposição ao sol, Corte agressivo    0.000323\n",
       "Exposição ao sol, Tintura, Nenhum                     0.000314\n",
       "Exposição ao sol, Corte agressivo, Nenhum, Tintura    0.000280\n",
       "Exposição ao sol, Tintura, Nenhum, Corte agressivo    0.000203\n",
       "N/C                                                   0.000010\n",
       "Name: procedimentos, Length: 66, dtype: float64"
      ]
     },
     "execution_count": 30,
     "metadata": {},
     "output_type": "execute_result"
    }
   ],
   "source": [
    "dados['procedimentos'].value_counts(normalize=True, dropna=False)"
   ]
  },
  {
   "cell_type": "code",
   "execution_count": 31,
   "metadata": {
    "colab": {
     "base_uri": "https://localhost:8080/"
    },
    "executionInfo": {
     "elapsed": 361,
     "status": "ok",
     "timestamp": 1660593749092,
     "user": {
      "displayName": "Solano Jacon",
      "userId": "03193064938437592202"
     },
     "user_tz": 180
    },
    "id": "VFemGQNspMx9",
    "outputId": "01d80a70-3aaa-4749-be06-f51b7599d512"
   },
   "outputs": [
    {
     "data": {
      "text/plain": [
       "Há 2 semanas               0.331857\n",
       "Há 1 semana                0.272761\n",
       "Há mais de 1 mês           0.185780\n",
       "Há 1 mês                   0.116562\n",
       "Não houve procedimentos    0.093039\n",
       "Name: tempo_procedimento, dtype: float64"
      ]
     },
     "execution_count": 31,
     "metadata": {},
     "output_type": "execute_result"
    }
   ],
   "source": [
    "dados['tempo_procedimento'].value_counts(normalize=True, dropna=False)"
   ]
  },
  {
   "cell_type": "code",
   "execution_count": 32,
   "metadata": {
    "colab": {
     "base_uri": "https://localhost:8080/"
    },
    "executionInfo": {
     "elapsed": 14,
     "status": "ok",
     "timestamp": 1660593749092,
     "user": {
      "displayName": "Solano Jacon",
      "userId": "03193064938437592202"
     },
     "user_tz": 180
    },
    "id": "RP2uXpGXpMx9",
    "outputId": "2f2fb9c4-d2bb-4583-eaaa-8813edacc3ca"
   },
   "outputs": [
    {
     "data": {
      "text/plain": [
       "Celíaca                  0.719338\n",
       "Nenhuma restrição        0.218648\n",
       "Intolerante a lactose    0.044089\n",
       "Leve                     0.017926\n",
       "Name: dieta, dtype: float64"
      ]
     },
     "execution_count": 32,
     "metadata": {},
     "output_type": "execute_result"
    }
   ],
   "source": [
    "dados['dieta'].value_counts(normalize=True, dropna=False)"
   ]
  },
  {
   "cell_type": "code",
   "execution_count": 33,
   "metadata": {
    "colab": {
     "base_uri": "https://localhost:8080/"
    },
    "executionInfo": {
     "elapsed": 13,
     "status": "ok",
     "timestamp": 1660593749092,
     "user": {
      "displayName": "Solano Jacon",
      "userId": "03193064938437592202"
     },
     "user_tz": 180
    },
    "id": "Y29MMCfKpMx9",
    "outputId": "24244090-e302-4258-ee81-7072a05df739"
   },
   "outputs": [
    {
     "data": {
      "text/plain": [
       "Raramente    0.524749\n",
       "Frequente    0.283120\n",
       "Sempre       0.094459\n",
       "N/C          0.084467\n",
       "Nunca        0.013205\n",
       "Name: atividade_fisica, dtype: float64"
      ]
     },
     "execution_count": 33,
     "metadata": {},
     "output_type": "execute_result"
    }
   ],
   "source": [
    "dados['atividade_fisica'].value_counts(normalize=True, dropna=False)"
   ]
  },
  {
   "cell_type": "code",
   "execution_count": 34,
   "metadata": {
    "colab": {
     "base_uri": "https://localhost:8080/"
    },
    "executionInfo": {
     "elapsed": 12,
     "status": "ok",
     "timestamp": 1660593749093,
     "user": {
      "displayName": "Solano Jacon",
      "userId": "03193064938437592202"
     },
     "user_tz": 180
    },
    "id": "ej4JUM31pMx-",
    "outputId": "5443f18a-aab7-4d3e-c263-609e63b8cfbe"
   },
   "outputs": [
    {
     "data": {
      "text/plain": [
       "Uma vez por mês    0.524146\n",
       "Nunca              0.410898\n",
       "Regularmente       0.060179\n",
       "Quase sempre       0.004777\n",
       "Name: frequencia_estresse, dtype: float64"
      ]
     },
     "execution_count": 34,
     "metadata": {},
     "output_type": "execute_result"
    }
   ],
   "source": [
    "dados['frequencia_estresse'].value_counts(normalize=True, dropna=False)"
   ]
  },
  {
   "cell_type": "code",
   "execution_count": 35,
   "metadata": {
    "colab": {
     "base_uri": "https://localhost:8080/"
    },
    "executionInfo": {
     "elapsed": 9,
     "status": "ok",
     "timestamp": 1660593749093,
     "user": {
      "displayName": "Solano Jacon",
      "userId": "03193064938437592202"
     },
     "user_tz": 180
    },
    "id": "LH9uYP6opMx-",
    "outputId": "f1cf9eea-02f8-48ca-9a42-7449588d7ee2"
   },
   "outputs": [
    {
     "data": {
      "text/plain": [
       "Característica 3                                                                                               0.268011\n",
       "Característica 7                                                                                               0.103595\n",
       "Característica 1                                                                                               0.093536\n",
       "Característica 3, Característica 8                                                                             0.085174\n",
       "Característica 2                                                                                               0.040010\n",
       "                                                                                                                 ...   \n",
       "Característica 3, Característica 1, Característica 9, Característica 8, Característica 4, Característica 10    0.000002\n",
       "Característica 8, Característica 3, Característica 10, Característica 1, Característica 9, Característica 4    0.000002\n",
       "Característica 6, Característica 1, Característica 2, Característica 3                                         0.000002\n",
       "Característica 4, Característica 3, Característica 5, Característica 6, Característica 8                       0.000002\n",
       "Característica 1, Característica 5, Característica 2, Característica 6, Característica 10, Característica 4    0.000002\n",
       "Name: caracteristica, Length: 1955, dtype: float64"
      ]
     },
     "execution_count": 35,
     "metadata": {},
     "output_type": "execute_result"
    }
   ],
   "source": [
    "dados['caracteristica'].value_counts(normalize=True, dropna=False)"
   ]
  },
  {
   "cell_type": "code",
   "execution_count": 36,
   "metadata": {
    "colab": {
     "base_uri": "https://localhost:8080/"
    },
    "executionInfo": {
     "elapsed": 369,
     "status": "ok",
     "timestamp": 1660593749455,
     "user": {
      "displayName": "Solano Jacon",
      "userId": "03193064938437592202"
     },
     "user_tz": 180
    },
    "id": "-tSl0bwdpMx-",
    "outputId": "0f922fac-df3a-4e82-c80d-f5c10637d38b"
   },
   "outputs": [
    {
     "data": {
      "text/plain": [
       "25 a 34    0.368976\n",
       "18 a 24    0.269557\n",
       "35 a 44    0.190400\n",
       "45 a 54    0.068461\n",
       "11 a 17    0.067578\n",
       "55 a 64    0.021719\n",
       "2 a 10     0.007476\n",
       "65+        0.005833\n",
       "Name: faixa_etaria, dtype: float64"
      ]
     },
     "execution_count": 36,
     "metadata": {},
     "output_type": "execute_result"
    }
   ],
   "source": [
    "dados['faixa_etaria'].value_counts(normalize=True, dropna=False)"
   ]
  },
  {
   "cell_type": "code",
   "execution_count": 37,
   "metadata": {
    "colab": {
     "base_uri": "https://localhost:8080/"
    },
    "executionInfo": {
     "elapsed": 19,
     "status": "ok",
     "timestamp": 1660593749456,
     "user": {
      "displayName": "Solano Jacon",
      "userId": "03193064938437592202"
     },
     "user_tz": 180
    },
    "id": "h-ftYprypMx-",
    "outputId": "dcd0a023-c0a5-4316-a3f2-702cb257f44e"
   },
   "outputs": [
    {
     "data": {
      "text/plain": [
       "Efeito 6, Efeito 7, Efeito 4, Efeito 3               0.014785\n",
       "Efeito 6, Efeito 7, Efeito 8, Efeito 4, Efeito 3     0.014747\n",
       "Efeito 6, Efeito 7, Efeito 8, Efeito 4               0.012257\n",
       "Efeito 7                                             0.010769\n",
       "Efeito 6, Efeito 2, Efeito 4, Efeito 3               0.009478\n",
       "                                                       ...   \n",
       "Efeito 3, Efeito 8, Efeito 1, Efeito 4, Efeito 7     0.000002\n",
       "Efeito 1, Efeito 8, Efeito 3, Efeito 4, Efeito 5     0.000002\n",
       "Efeito 4, Efeito 10, Efeito 2, Efeito 7, Efeito 1    0.000002\n",
       "Efeito 10, Efeito 3, Efeito 2, Efeito 4, Efeito 1    0.000002\n",
       "Efeito 8, Efeito 4, Efeito 10, Efeito 2, Efeito 7    0.000002\n",
       "Name: efeitos_desejados, Length: 11836, dtype: float64"
      ]
     },
     "execution_count": 37,
     "metadata": {},
     "output_type": "execute_result"
    }
   ],
   "source": [
    "dados['efeitos_desejados'].value_counts(normalize=True, dropna=False)"
   ]
  },
  {
   "cell_type": "code",
   "execution_count": 38,
   "metadata": {
    "colab": {
     "base_uri": "https://localhost:8080/"
    },
    "executionInfo": {
     "elapsed": 15,
     "status": "ok",
     "timestamp": 1660593749456,
     "user": {
      "displayName": "Solano Jacon",
      "userId": "03193064938437592202"
     },
     "user_tz": 180
    },
    "id": "UfkqqToLpMx-",
    "outputId": "1ac8448f-d11b-473c-ab44-f09fdbc7cdd4"
   },
   "outputs": [
    {
     "data": {
      "text/plain": [
       "Rosas              0.522672\n",
       "Eucalipto          0.380327\n",
       "Flores do campo    0.097000\n",
       "Name: fragancia, dtype: float64"
      ]
     },
     "execution_count": 38,
     "metadata": {},
     "output_type": "execute_result"
    }
   ],
   "source": [
    "dados['fragancia'].value_counts(normalize=True, dropna=False)"
   ]
  },
  {
   "cell_type": "markdown",
   "metadata": {
    "id": "M9B6lFTBpMx_"
   },
   "source": [
    "### Preparação e Análise dos Dados Alvo / <i>Target Data Preparation and Analysis</i>"
   ]
  },
  {
   "cell_type": "code",
   "execution_count": 39,
   "metadata": {
    "executionInfo": {
     "elapsed": 13,
     "status": "ok",
     "timestamp": 1660593749456,
     "user": {
      "displayName": "Solano Jacon",
      "userId": "03193064938437592202"
     },
     "user_tz": 180
    },
    "id": "EMaC6MaOpMx_"
   },
   "outputs": [],
   "source": [
    "dados['pedido'] = 0\n",
    "dados.loc[dados['id_pedido'].notna(), 'pedido'] = 1"
   ]
  },
  {
   "cell_type": "code",
   "execution_count": 40,
   "metadata": {
    "colab": {
     "base_uri": "https://localhost:8080/"
    },
    "executionInfo": {
     "elapsed": 13,
     "status": "ok",
     "timestamp": 1660593749457,
     "user": {
      "displayName": "Solano Jacon",
      "userId": "03193064938437592202"
     },
     "user_tz": 180
    },
    "id": "C6SnqHAepMx_",
    "outputId": "0f60a856-3e90-40c1-f299-4a9b6f10eea6"
   },
   "outputs": [
    {
     "data": {
      "text/plain": [
       "0    0.638475\n",
       "1    0.361525\n",
       "Name: pedido, dtype: float64"
      ]
     },
     "execution_count": 40,
     "metadata": {},
     "output_type": "execute_result"
    }
   ],
   "source": [
    "dados['pedido'].value_counts(normalize=True, dropna=False)"
   ]
  },
  {
   "cell_type": "markdown",
   "metadata": {
    "id": "K-r2WUuDpMx_"
   },
   "source": [
    "### Definição dos Próximos Passos / <i>Definition of Next Steps</i>"
   ]
  },
  {
   "cell_type": "markdown",
   "metadata": {
    "id": "DNkuJbKkpMx_"
   },
   "source": [
    "Criação de features:\n",
    "- tempo_procedimento: transformação do conteúdo de categorias ordinais de texto para categorias ordinais numéricas\n",
    "- faixa_etaria: transformação do conteúdo de categorias ordinais de texto para categorias ordinais numéricas\n",
    "- procedimentos: separação do conteúdo de categorias em colunas binárias para cada categoria\n",
    "- caracteristica: separação do conteúdo de categorias em colunas binárias para cada categoria\n",
    "- efeitos_desejados: separação do conteúdo de categorias em colunas binárias para cada categoria\n",
    "\n",
    "<i>Feature creation</i>:\n",
    "<i>\n",
    "- tempo_procedimento: transforming content from ordinal text categories to numeric ordinal categories\n",
    "- faixa_etaria: transforming content from ordinal text categories to numeric ordinal categories\n",
    "- procedimentos: separation of categories content into binary columns for each category\n",
    "- caracteristica: separation of categories content into binary columns for each category\n",
    "- efeitos_desejados: separation of categories content into binary columns for each category\n",
    "</i>\n",
    "\n",
    "Encoding:\n",
    "- sistema_operacional\n",
    "- estado\n",
    "- utm_source\n",
    "- tipo_cabelo\n",
    "- comprimento\n",
    "- tipo_fios\n",
    "- dieta\n",
    "- atividade_fisica\n",
    "- frequencia_estresse\n",
    "\n",
    "Scaling:\n",
    "- qtde_lavagem_semana"
   ]
  },
  {
   "cell_type": "markdown",
   "metadata": {
    "id": "DSg_g56ipMx_"
   },
   "source": [
    "### Criação de Features / <i>Feature Creation</i>"
   ]
  },
  {
   "cell_type": "markdown",
   "metadata": {
    "id": "RMMT8WNBpMyA"
   },
   "source": [
    "<b>tempo_procedimento</b>"
   ]
  },
  {
   "cell_type": "code",
   "execution_count": 41,
   "metadata": {
    "colab": {
     "base_uri": "https://localhost:8080/"
    },
    "executionInfo": {
     "elapsed": 10,
     "status": "ok",
     "timestamp": 1660593749457,
     "user": {
      "displayName": "Solano Jacon",
      "userId": "03193064938437592202"
     },
     "user_tz": 180
    },
    "id": "8_A13VhlpMyA",
    "outputId": "e6b1d4db-dd5d-4e33-8be1-1da1902b310d"
   },
   "outputs": [
    {
     "data": {
      "text/plain": [
       "Há 2 semanas               0.331857\n",
       "Há 1 semana                0.272761\n",
       "Há mais de 1 mês           0.185780\n",
       "Há 1 mês                   0.116562\n",
       "Não houve procedimentos    0.093039\n",
       "Name: tempo_procedimento, dtype: float64"
      ]
     },
     "execution_count": 41,
     "metadata": {},
     "output_type": "execute_result"
    }
   ],
   "source": [
    "dados['tempo_procedimento'].value_counts(normalize=True, dropna=False)"
   ]
  },
  {
   "cell_type": "code",
   "execution_count": 42,
   "metadata": {
    "executionInfo": {
     "elapsed": 8,
     "status": "ok",
     "timestamp": 1660593749763,
     "user": {
      "displayName": "Solano Jacon",
      "userId": "03193064938437592202"
     },
     "user_tz": 180
    },
    "id": "SgOHshH_pMyA"
   },
   "outputs": [],
   "source": [
    "dados.loc[dados['tempo_procedimento']=='Não houve procedimentos', 'tempo_procedimento_quantificado'] = 0\n",
    "dados.loc[dados['tempo_procedimento']=='Há 1 semana', 'tempo_procedimento_quantificado'] = 1\n",
    "dados.loc[dados['tempo_procedimento']=='Há 2 semanas', 'tempo_procedimento_quantificado'] = 2\n",
    "dados.loc[dados['tempo_procedimento']=='Há 1 mês', 'tempo_procedimento_quantificado'] = 3\n",
    "dados.loc[dados['tempo_procedimento']=='Há mais de 1 mês', 'tempo_procedimento_quantificado'] = 4"
   ]
  },
  {
   "cell_type": "code",
   "execution_count": 43,
   "metadata": {
    "colab": {
     "base_uri": "https://localhost:8080/"
    },
    "executionInfo": {
     "elapsed": 8,
     "status": "ok",
     "timestamp": 1660593749764,
     "user": {
      "displayName": "Solano Jacon",
      "userId": "03193064938437592202"
     },
     "user_tz": 180
    },
    "id": "HtVtQAtRpMyA",
    "outputId": "47a8894d-feab-491d-fe00-eadfaab9cd13"
   },
   "outputs": [
    {
     "data": {
      "text/plain": [
       "2.0    0.331857\n",
       "1.0    0.272761\n",
       "4.0    0.185780\n",
       "3.0    0.116562\n",
       "0.0    0.093039\n",
       "Name: tempo_procedimento_quantificado, dtype: float64"
      ]
     },
     "execution_count": 43,
     "metadata": {},
     "output_type": "execute_result"
    }
   ],
   "source": [
    "dados['tempo_procedimento_quantificado'].value_counts(normalize=True, dropna=False)"
   ]
  },
  {
   "cell_type": "markdown",
   "metadata": {
    "id": "3VSZ-MV6pMyA"
   },
   "source": [
    "<b>faixa_etaria</b>"
   ]
  },
  {
   "cell_type": "code",
   "execution_count": 44,
   "metadata": {
    "colab": {
     "base_uri": "https://localhost:8080/"
    },
    "executionInfo": {
     "elapsed": 6,
     "status": "ok",
     "timestamp": 1660593750250,
     "user": {
      "displayName": "Solano Jacon",
      "userId": "03193064938437592202"
     },
     "user_tz": 180
    },
    "id": "SVtttycrpMyA",
    "outputId": "42492c3a-a4a3-4875-f34a-9b433ab120c7"
   },
   "outputs": [
    {
     "data": {
      "text/plain": [
       "25 a 34    0.368976\n",
       "18 a 24    0.269557\n",
       "35 a 44    0.190400\n",
       "45 a 54    0.068461\n",
       "11 a 17    0.067578\n",
       "55 a 64    0.021719\n",
       "2 a 10     0.007476\n",
       "65+        0.005833\n",
       "Name: faixa_etaria, dtype: float64"
      ]
     },
     "execution_count": 44,
     "metadata": {},
     "output_type": "execute_result"
    }
   ],
   "source": [
    "dados['faixa_etaria'].value_counts(normalize=True, dropna=False)"
   ]
  },
  {
   "cell_type": "code",
   "execution_count": 45,
   "metadata": {
    "executionInfo": {
     "elapsed": 266,
     "status": "ok",
     "timestamp": 1660593750512,
     "user": {
      "displayName": "Solano Jacon",
      "userId": "03193064938437592202"
     },
     "user_tz": 180
    },
    "id": "jTL8sZ1zpMyB"
   },
   "outputs": [],
   "source": [
    "dados.loc[dados['faixa_etaria']=='2 a 10', 'faixa_etaria_quantificado'] = 1\n",
    "dados.loc[dados['faixa_etaria']=='11 a 17', 'faixa_etaria_quantificado'] = 2\n",
    "dados.loc[dados['faixa_etaria']=='18 a 24', 'faixa_etaria_quantificado'] = 3\n",
    "dados.loc[dados['faixa_etaria']=='25 a 34', 'faixa_etaria_quantificado'] = 4\n",
    "dados.loc[dados['faixa_etaria']=='35 a 44', 'faixa_etaria_quantificado'] = 5\n",
    "dados.loc[dados['faixa_etaria']=='45 a 54', 'faixa_etaria_quantificado'] = 6\n",
    "dados.loc[dados['faixa_etaria']=='55 a 64', 'faixa_etaria_quantificado'] = 7\n",
    "dados.loc[dados['faixa_etaria']=='65+', 'faixa_etaria_quantificado'] = 8"
   ]
  },
  {
   "cell_type": "code",
   "execution_count": 46,
   "metadata": {
    "colab": {
     "base_uri": "https://localhost:8080/"
    },
    "executionInfo": {
     "elapsed": 10,
     "status": "ok",
     "timestamp": 1660593750513,
     "user": {
      "displayName": "Solano Jacon",
      "userId": "03193064938437592202"
     },
     "user_tz": 180
    },
    "id": "BNdj-qxqpMyB",
    "outputId": "465ebb18-948e-4cb6-df69-cbc39543f253"
   },
   "outputs": [
    {
     "data": {
      "text/plain": [
       "4.0    0.368976\n",
       "3.0    0.269557\n",
       "5.0    0.190400\n",
       "6.0    0.068461\n",
       "2.0    0.067578\n",
       "7.0    0.021719\n",
       "1.0    0.007476\n",
       "8.0    0.005833\n",
       "Name: faixa_etaria_quantificado, dtype: float64"
      ]
     },
     "execution_count": 46,
     "metadata": {},
     "output_type": "execute_result"
    }
   ],
   "source": [
    "dados['faixa_etaria_quantificado'].value_counts(normalize=True, dropna=False)"
   ]
  },
  {
   "cell_type": "markdown",
   "metadata": {
    "id": "J_9Kusf3pMyB"
   },
   "source": [
    "<b>procedimentos</b>"
   ]
  },
  {
   "cell_type": "code",
   "execution_count": 47,
   "metadata": {
    "colab": {
     "base_uri": "https://localhost:8080/"
    },
    "executionInfo": {
     "elapsed": 8,
     "status": "ok",
     "timestamp": 1660593750513,
     "user": {
      "displayName": "Solano Jacon",
      "userId": "03193064938437592202"
     },
     "user_tz": 180
    },
    "id": "RQnjCv8epMyB",
    "outputId": "f5d6f532-1506-44c5-c55a-bd8068c2d4a9"
   },
   "outputs": [
    {
     "data": {
      "text/plain": [
       "Corte agressivo                                       0.182757\n",
       "Todos acima                                           0.153710\n",
       "Tintura                                               0.086262\n",
       "Exposição ao sol                                      0.081025\n",
       "Tintura, Corte agressivo                              0.076801\n",
       "                                                        ...   \n",
       "Nenhum, Tintura, Exposição ao sol, Corte agressivo    0.000323\n",
       "Exposição ao sol, Tintura, Nenhum                     0.000314\n",
       "Exposição ao sol, Corte agressivo, Nenhum, Tintura    0.000280\n",
       "Exposição ao sol, Tintura, Nenhum, Corte agressivo    0.000203\n",
       "N/C                                                   0.000010\n",
       "Name: procedimentos, Length: 66, dtype: float64"
      ]
     },
     "execution_count": 47,
     "metadata": {},
     "output_type": "execute_result"
    }
   ],
   "source": [
    "dados['procedimentos'].value_counts(normalize=True, dropna=False)"
   ]
  },
  {
   "cell_type": "code",
   "execution_count": 48,
   "metadata": {
    "executionInfo": {
     "elapsed": 1291,
     "status": "ok",
     "timestamp": 1660593751799,
     "user": {
      "displayName": "Solano Jacon",
      "userId": "03193064938437592202"
     },
     "user_tz": 180
    },
    "id": "lZFFsPvspMyB"
   },
   "outputs": [],
   "source": [
    "procedimentos = ['Corte agressivo', 'Exposição ao sol', 'Nenhum', 'N/C', 'Tintura', 'Todos acima']\n",
    "\n",
    "for procedimento in procedimentos:\n",
    "    dados['procedimento ' + procedimento] = dados['procedimentos'].apply(lambda x: 1 if procedimento in x else 0)"
   ]
  },
  {
   "cell_type": "code",
   "execution_count": 49,
   "metadata": {
    "colab": {
     "base_uri": "https://localhost:8080/"
    },
    "executionInfo": {
     "elapsed": 472,
     "status": "ok",
     "timestamp": 1660593752268,
     "user": {
      "displayName": "Solano Jacon",
      "userId": "03193064938437592202"
     },
     "user_tz": 180
    },
    "id": "Id-PNhXGpMyB",
    "outputId": "9e5704ad-c750-4009-8850-a158f6729a56"
   },
   "outputs": [
    {
     "data": {
      "text/plain": [
       "0                            Nenhum\n",
       "1                            Nenhum\n",
       "2                            Nenhum\n",
       "3                            Nenhum\n",
       "4                       Todos acima\n",
       "                    ...            \n",
       "585467                       Nenhum\n",
       "585468                      Tintura\n",
       "585469                       Nenhum\n",
       "585470                  Todos acima\n",
       "585471    Exposição ao sol, Tintura\n",
       "Name: procedimentos, Length: 585472, dtype: object"
      ]
     },
     "execution_count": 49,
     "metadata": {},
     "output_type": "execute_result"
    }
   ],
   "source": [
    "dados['procedimentos']"
   ]
  },
  {
   "cell_type": "code",
   "execution_count": 50,
   "metadata": {
    "colab": {
     "base_uri": "https://localhost:8080/",
     "height": 424
    },
    "executionInfo": {
     "elapsed": 14,
     "status": "ok",
     "timestamp": 1660593752269,
     "user": {
      "displayName": "Solano Jacon",
      "userId": "03193064938437592202"
     },
     "user_tz": 180
    },
    "id": "tGKywNXbpMyC",
    "outputId": "523efe22-1b91-4ad2-be47-e0e41ff21d39"
   },
   "outputs": [
    {
     "data": {
      "text/html": [
       "\n",
       "  <div id=\"df-0031cd8c-6f4e-4a6e-bfa0-88ed034dd3eb\">\n",
       "    <div class=\"colab-df-container\">\n",
       "      <div>\n",
       "<style scoped>\n",
       "    .dataframe tbody tr th:only-of-type {\n",
       "        vertical-align: middle;\n",
       "    }\n",
       "\n",
       "    .dataframe tbody tr th {\n",
       "        vertical-align: top;\n",
       "    }\n",
       "\n",
       "    .dataframe thead th {\n",
       "        text-align: right;\n",
       "    }\n",
       "</style>\n",
       "<table border=\"1\" class=\"dataframe\">\n",
       "  <thead>\n",
       "    <tr style=\"text-align: right;\">\n",
       "      <th></th>\n",
       "      <th>procedimento Corte agressivo</th>\n",
       "      <th>procedimento Exposição ao sol</th>\n",
       "      <th>procedimento Nenhum</th>\n",
       "      <th>procedimento N/C</th>\n",
       "      <th>procedimento Tintura</th>\n",
       "      <th>procedimento Todos acima</th>\n",
       "    </tr>\n",
       "  </thead>\n",
       "  <tbody>\n",
       "    <tr>\n",
       "      <th>0</th>\n",
       "      <td>0</td>\n",
       "      <td>0</td>\n",
       "      <td>1</td>\n",
       "      <td>0</td>\n",
       "      <td>0</td>\n",
       "      <td>0</td>\n",
       "    </tr>\n",
       "    <tr>\n",
       "      <th>1</th>\n",
       "      <td>0</td>\n",
       "      <td>0</td>\n",
       "      <td>1</td>\n",
       "      <td>0</td>\n",
       "      <td>0</td>\n",
       "      <td>0</td>\n",
       "    </tr>\n",
       "    <tr>\n",
       "      <th>2</th>\n",
       "      <td>0</td>\n",
       "      <td>0</td>\n",
       "      <td>1</td>\n",
       "      <td>0</td>\n",
       "      <td>0</td>\n",
       "      <td>0</td>\n",
       "    </tr>\n",
       "    <tr>\n",
       "      <th>3</th>\n",
       "      <td>0</td>\n",
       "      <td>0</td>\n",
       "      <td>1</td>\n",
       "      <td>0</td>\n",
       "      <td>0</td>\n",
       "      <td>0</td>\n",
       "    </tr>\n",
       "    <tr>\n",
       "      <th>4</th>\n",
       "      <td>0</td>\n",
       "      <td>0</td>\n",
       "      <td>0</td>\n",
       "      <td>0</td>\n",
       "      <td>0</td>\n",
       "      <td>1</td>\n",
       "    </tr>\n",
       "    <tr>\n",
       "      <th>...</th>\n",
       "      <td>...</td>\n",
       "      <td>...</td>\n",
       "      <td>...</td>\n",
       "      <td>...</td>\n",
       "      <td>...</td>\n",
       "      <td>...</td>\n",
       "    </tr>\n",
       "    <tr>\n",
       "      <th>585467</th>\n",
       "      <td>0</td>\n",
       "      <td>0</td>\n",
       "      <td>1</td>\n",
       "      <td>0</td>\n",
       "      <td>0</td>\n",
       "      <td>0</td>\n",
       "    </tr>\n",
       "    <tr>\n",
       "      <th>585468</th>\n",
       "      <td>0</td>\n",
       "      <td>0</td>\n",
       "      <td>0</td>\n",
       "      <td>0</td>\n",
       "      <td>1</td>\n",
       "      <td>0</td>\n",
       "    </tr>\n",
       "    <tr>\n",
       "      <th>585469</th>\n",
       "      <td>0</td>\n",
       "      <td>0</td>\n",
       "      <td>1</td>\n",
       "      <td>0</td>\n",
       "      <td>0</td>\n",
       "      <td>0</td>\n",
       "    </tr>\n",
       "    <tr>\n",
       "      <th>585470</th>\n",
       "      <td>0</td>\n",
       "      <td>0</td>\n",
       "      <td>0</td>\n",
       "      <td>0</td>\n",
       "      <td>0</td>\n",
       "      <td>1</td>\n",
       "    </tr>\n",
       "    <tr>\n",
       "      <th>585471</th>\n",
       "      <td>0</td>\n",
       "      <td>1</td>\n",
       "      <td>0</td>\n",
       "      <td>0</td>\n",
       "      <td>1</td>\n",
       "      <td>0</td>\n",
       "    </tr>\n",
       "  </tbody>\n",
       "</table>\n",
       "<p>585472 rows × 6 columns</p>\n",
       "</div>\n",
       "      <button class=\"colab-df-convert\" onclick=\"convertToInteractive('df-0031cd8c-6f4e-4a6e-bfa0-88ed034dd3eb')\"\n",
       "              title=\"Convert this dataframe to an interactive table.\"\n",
       "              style=\"display:none;\">\n",
       "        \n",
       "  <svg xmlns=\"http://www.w3.org/2000/svg\" height=\"24px\"viewBox=\"0 0 24 24\"\n",
       "       width=\"24px\">\n",
       "    <path d=\"M0 0h24v24H0V0z\" fill=\"none\"/>\n",
       "    <path d=\"M18.56 5.44l.94 2.06.94-2.06 2.06-.94-2.06-.94-.94-2.06-.94 2.06-2.06.94zm-11 1L8.5 8.5l.94-2.06 2.06-.94-2.06-.94L8.5 2.5l-.94 2.06-2.06.94zm10 10l.94 2.06.94-2.06 2.06-.94-2.06-.94-.94-2.06-.94 2.06-2.06.94z\"/><path d=\"M17.41 7.96l-1.37-1.37c-.4-.4-.92-.59-1.43-.59-.52 0-1.04.2-1.43.59L10.3 9.45l-7.72 7.72c-.78.78-.78 2.05 0 2.83L4 21.41c.39.39.9.59 1.41.59.51 0 1.02-.2 1.41-.59l7.78-7.78 2.81-2.81c.8-.78.8-2.07 0-2.86zM5.41 20L4 18.59l7.72-7.72 1.47 1.35L5.41 20z\"/>\n",
       "  </svg>\n",
       "      </button>\n",
       "      \n",
       "  <style>\n",
       "    .colab-df-container {\n",
       "      display:flex;\n",
       "      flex-wrap:wrap;\n",
       "      gap: 12px;\n",
       "    }\n",
       "\n",
       "    .colab-df-convert {\n",
       "      background-color: #E8F0FE;\n",
       "      border: none;\n",
       "      border-radius: 50%;\n",
       "      cursor: pointer;\n",
       "      display: none;\n",
       "      fill: #1967D2;\n",
       "      height: 32px;\n",
       "      padding: 0 0 0 0;\n",
       "      width: 32px;\n",
       "    }\n",
       "\n",
       "    .colab-df-convert:hover {\n",
       "      background-color: #E2EBFA;\n",
       "      box-shadow: 0px 1px 2px rgba(60, 64, 67, 0.3), 0px 1px 3px 1px rgba(60, 64, 67, 0.15);\n",
       "      fill: #174EA6;\n",
       "    }\n",
       "\n",
       "    [theme=dark] .colab-df-convert {\n",
       "      background-color: #3B4455;\n",
       "      fill: #D2E3FC;\n",
       "    }\n",
       "\n",
       "    [theme=dark] .colab-df-convert:hover {\n",
       "      background-color: #434B5C;\n",
       "      box-shadow: 0px 1px 3px 1px rgba(0, 0, 0, 0.15);\n",
       "      filter: drop-shadow(0px 1px 2px rgba(0, 0, 0, 0.3));\n",
       "      fill: #FFFFFF;\n",
       "    }\n",
       "  </style>\n",
       "\n",
       "      <script>\n",
       "        const buttonEl =\n",
       "          document.querySelector('#df-0031cd8c-6f4e-4a6e-bfa0-88ed034dd3eb button.colab-df-convert');\n",
       "        buttonEl.style.display =\n",
       "          google.colab.kernel.accessAllowed ? 'block' : 'none';\n",
       "\n",
       "        async function convertToInteractive(key) {\n",
       "          const element = document.querySelector('#df-0031cd8c-6f4e-4a6e-bfa0-88ed034dd3eb');\n",
       "          const dataTable =\n",
       "            await google.colab.kernel.invokeFunction('convertToInteractive',\n",
       "                                                     [key], {});\n",
       "          if (!dataTable) return;\n",
       "\n",
       "          const docLinkHtml = 'Like what you see? Visit the ' +\n",
       "            '<a target=\"_blank\" href=https://colab.research.google.com/notebooks/data_table.ipynb>data table notebook</a>'\n",
       "            + ' to learn more about interactive tables.';\n",
       "          element.innerHTML = '';\n",
       "          dataTable['output_type'] = 'display_data';\n",
       "          await google.colab.output.renderOutput(dataTable, element);\n",
       "          const docLink = document.createElement('div');\n",
       "          docLink.innerHTML = docLinkHtml;\n",
       "          element.appendChild(docLink);\n",
       "        }\n",
       "      </script>\n",
       "    </div>\n",
       "  </div>\n",
       "  "
      ],
      "text/plain": [
       "        procedimento Corte agressivo  procedimento Exposição ao sol  \\\n",
       "0                                  0                              0   \n",
       "1                                  0                              0   \n",
       "2                                  0                              0   \n",
       "3                                  0                              0   \n",
       "4                                  0                              0   \n",
       "...                              ...                            ...   \n",
       "585467                             0                              0   \n",
       "585468                             0                              0   \n",
       "585469                             0                              0   \n",
       "585470                             0                              0   \n",
       "585471                             0                              1   \n",
       "\n",
       "        procedimento Nenhum  procedimento N/C  procedimento Tintura  \\\n",
       "0                         1                 0                     0   \n",
       "1                         1                 0                     0   \n",
       "2                         1                 0                     0   \n",
       "3                         1                 0                     0   \n",
       "4                         0                 0                     0   \n",
       "...                     ...               ...                   ...   \n",
       "585467                    1                 0                     0   \n",
       "585468                    0                 0                     1   \n",
       "585469                    1                 0                     0   \n",
       "585470                    0                 0                     0   \n",
       "585471                    0                 0                     1   \n",
       "\n",
       "        procedimento Todos acima  \n",
       "0                              0  \n",
       "1                              0  \n",
       "2                              0  \n",
       "3                              0  \n",
       "4                              1  \n",
       "...                          ...  \n",
       "585467                         0  \n",
       "585468                         0  \n",
       "585469                         0  \n",
       "585470                         1  \n",
       "585471                         0  \n",
       "\n",
       "[585472 rows x 6 columns]"
      ]
     },
     "execution_count": 50,
     "metadata": {},
     "output_type": "execute_result"
    }
   ],
   "source": [
    "dados.iloc[:, -6:]"
   ]
  },
  {
   "cell_type": "markdown",
   "metadata": {
    "id": "VOv80t2RpMyC"
   },
   "source": [
    "<b>caracteristica</b>"
   ]
  },
  {
   "cell_type": "code",
   "execution_count": 51,
   "metadata": {
    "colab": {
     "base_uri": "https://localhost:8080/"
    },
    "executionInfo": {
     "elapsed": 13,
     "status": "ok",
     "timestamp": 1660593752269,
     "user": {
      "displayName": "Solano Jacon",
      "userId": "03193064938437592202"
     },
     "user_tz": 180
    },
    "id": "pT-1nX8TpMyC",
    "outputId": "b7b5dbfd-355d-4a8a-8cab-0669daaa8eaf"
   },
   "outputs": [
    {
     "data": {
      "text/plain": [
       "Característica 3                                                                                               0.268011\n",
       "Característica 7                                                                                               0.103595\n",
       "Característica 1                                                                                               0.093536\n",
       "Característica 3, Característica 8                                                                             0.085174\n",
       "Característica 2                                                                                               0.040010\n",
       "                                                                                                                 ...   \n",
       "Característica 3, Característica 1, Característica 9, Característica 8, Característica 4, Característica 10    0.000002\n",
       "Característica 8, Característica 3, Característica 10, Característica 1, Característica 9, Característica 4    0.000002\n",
       "Característica 6, Característica 1, Característica 2, Característica 3                                         0.000002\n",
       "Característica 4, Característica 3, Característica 5, Característica 6, Característica 8                       0.000002\n",
       "Característica 1, Característica 5, Característica 2, Característica 6, Característica 10, Característica 4    0.000002\n",
       "Name: caracteristica, Length: 1955, dtype: float64"
      ]
     },
     "execution_count": 51,
     "metadata": {},
     "output_type": "execute_result"
    }
   ],
   "source": [
    "dados['caracteristica'].value_counts(normalize=True, dropna=False)"
   ]
  },
  {
   "cell_type": "code",
   "execution_count": 52,
   "metadata": {
    "executionInfo": {
     "elapsed": 5503,
     "status": "ok",
     "timestamp": 1660593757762,
     "user": {
      "displayName": "Solano Jacon",
      "userId": "03193064938437592202"
     },
     "user_tz": 180
    },
    "id": "8H6Q1y7TpMyC"
   },
   "outputs": [],
   "source": [
    "# A coluna caracteristica contém 10 categorias de 1 a 10 no formato \"Característica 5\"\n",
    "# The column caracteristica contains 10 categories from 1 to 10 in the \"Característica 5\" format\n",
    "\n",
    "for numero_caracteristica in range(1, 11):\n",
    "    dados['caracteristica ' + str(numero_caracteristica)] = dados['caracteristica'].apply(lambda x: 1 if ('Característica ' + str(numero_caracteristica)) in x else 0)"
   ]
  },
  {
   "cell_type": "code",
   "execution_count": 53,
   "metadata": {
    "colab": {
     "base_uri": "https://localhost:8080/"
    },
    "executionInfo": {
     "elapsed": 24,
     "status": "ok",
     "timestamp": 1660593757762,
     "user": {
      "displayName": "Solano Jacon",
      "userId": "03193064938437592202"
     },
     "user_tz": 180
    },
    "id": "I7ycF-80pMyC",
    "outputId": "1ff8e3aa-e817-4e3e-cdc1-a32be9225fd0"
   },
   "outputs": [
    {
     "data": {
      "text/plain": [
       "0         Característica 1\n",
       "1         Característica 1\n",
       "2         Característica 1\n",
       "3         Característica 1\n",
       "4         Característica 6\n",
       "                ...       \n",
       "585467    Característica 7\n",
       "585468    Característica 9\n",
       "585469    Característica 6\n",
       "585470    Característica 8\n",
       "585471    Característica 2\n",
       "Name: caracteristica, Length: 585472, dtype: object"
      ]
     },
     "execution_count": 53,
     "metadata": {},
     "output_type": "execute_result"
    }
   ],
   "source": [
    "dados['caracteristica']"
   ]
  },
  {
   "cell_type": "code",
   "execution_count": 54,
   "metadata": {
    "colab": {
     "base_uri": "https://localhost:8080/",
     "height": 424
    },
    "executionInfo": {
     "elapsed": 21,
     "status": "ok",
     "timestamp": 1660593757763,
     "user": {
      "displayName": "Solano Jacon",
      "userId": "03193064938437592202"
     },
     "user_tz": 180
    },
    "id": "J5DgnXfTpMyC",
    "outputId": "5204b69a-cf5e-4db9-cc46-c9c00b133ac8"
   },
   "outputs": [
    {
     "data": {
      "text/html": [
       "\n",
       "  <div id=\"df-a72581ff-2b6a-4aab-8637-2a82a250e291\">\n",
       "    <div class=\"colab-df-container\">\n",
       "      <div>\n",
       "<style scoped>\n",
       "    .dataframe tbody tr th:only-of-type {\n",
       "        vertical-align: middle;\n",
       "    }\n",
       "\n",
       "    .dataframe tbody tr th {\n",
       "        vertical-align: top;\n",
       "    }\n",
       "\n",
       "    .dataframe thead th {\n",
       "        text-align: right;\n",
       "    }\n",
       "</style>\n",
       "<table border=\"1\" class=\"dataframe\">\n",
       "  <thead>\n",
       "    <tr style=\"text-align: right;\">\n",
       "      <th></th>\n",
       "      <th>caracteristica 1</th>\n",
       "      <th>caracteristica 2</th>\n",
       "      <th>caracteristica 3</th>\n",
       "      <th>caracteristica 4</th>\n",
       "      <th>caracteristica 5</th>\n",
       "      <th>caracteristica 6</th>\n",
       "      <th>caracteristica 7</th>\n",
       "      <th>caracteristica 8</th>\n",
       "      <th>caracteristica 9</th>\n",
       "      <th>caracteristica 10</th>\n",
       "    </tr>\n",
       "  </thead>\n",
       "  <tbody>\n",
       "    <tr>\n",
       "      <th>0</th>\n",
       "      <td>1</td>\n",
       "      <td>0</td>\n",
       "      <td>0</td>\n",
       "      <td>0</td>\n",
       "      <td>0</td>\n",
       "      <td>0</td>\n",
       "      <td>0</td>\n",
       "      <td>0</td>\n",
       "      <td>0</td>\n",
       "      <td>0</td>\n",
       "    </tr>\n",
       "    <tr>\n",
       "      <th>1</th>\n",
       "      <td>1</td>\n",
       "      <td>0</td>\n",
       "      <td>0</td>\n",
       "      <td>0</td>\n",
       "      <td>0</td>\n",
       "      <td>0</td>\n",
       "      <td>0</td>\n",
       "      <td>0</td>\n",
       "      <td>0</td>\n",
       "      <td>0</td>\n",
       "    </tr>\n",
       "    <tr>\n",
       "      <th>2</th>\n",
       "      <td>1</td>\n",
       "      <td>0</td>\n",
       "      <td>0</td>\n",
       "      <td>0</td>\n",
       "      <td>0</td>\n",
       "      <td>0</td>\n",
       "      <td>0</td>\n",
       "      <td>0</td>\n",
       "      <td>0</td>\n",
       "      <td>0</td>\n",
       "    </tr>\n",
       "    <tr>\n",
       "      <th>3</th>\n",
       "      <td>1</td>\n",
       "      <td>0</td>\n",
       "      <td>0</td>\n",
       "      <td>0</td>\n",
       "      <td>0</td>\n",
       "      <td>0</td>\n",
       "      <td>0</td>\n",
       "      <td>0</td>\n",
       "      <td>0</td>\n",
       "      <td>0</td>\n",
       "    </tr>\n",
       "    <tr>\n",
       "      <th>4</th>\n",
       "      <td>0</td>\n",
       "      <td>0</td>\n",
       "      <td>0</td>\n",
       "      <td>0</td>\n",
       "      <td>0</td>\n",
       "      <td>1</td>\n",
       "      <td>0</td>\n",
       "      <td>0</td>\n",
       "      <td>0</td>\n",
       "      <td>0</td>\n",
       "    </tr>\n",
       "    <tr>\n",
       "      <th>...</th>\n",
       "      <td>...</td>\n",
       "      <td>...</td>\n",
       "      <td>...</td>\n",
       "      <td>...</td>\n",
       "      <td>...</td>\n",
       "      <td>...</td>\n",
       "      <td>...</td>\n",
       "      <td>...</td>\n",
       "      <td>...</td>\n",
       "      <td>...</td>\n",
       "    </tr>\n",
       "    <tr>\n",
       "      <th>585467</th>\n",
       "      <td>0</td>\n",
       "      <td>0</td>\n",
       "      <td>0</td>\n",
       "      <td>0</td>\n",
       "      <td>0</td>\n",
       "      <td>0</td>\n",
       "      <td>1</td>\n",
       "      <td>0</td>\n",
       "      <td>0</td>\n",
       "      <td>0</td>\n",
       "    </tr>\n",
       "    <tr>\n",
       "      <th>585468</th>\n",
       "      <td>0</td>\n",
       "      <td>0</td>\n",
       "      <td>0</td>\n",
       "      <td>0</td>\n",
       "      <td>0</td>\n",
       "      <td>0</td>\n",
       "      <td>0</td>\n",
       "      <td>0</td>\n",
       "      <td>1</td>\n",
       "      <td>0</td>\n",
       "    </tr>\n",
       "    <tr>\n",
       "      <th>585469</th>\n",
       "      <td>0</td>\n",
       "      <td>0</td>\n",
       "      <td>0</td>\n",
       "      <td>0</td>\n",
       "      <td>0</td>\n",
       "      <td>1</td>\n",
       "      <td>0</td>\n",
       "      <td>0</td>\n",
       "      <td>0</td>\n",
       "      <td>0</td>\n",
       "    </tr>\n",
       "    <tr>\n",
       "      <th>585470</th>\n",
       "      <td>0</td>\n",
       "      <td>0</td>\n",
       "      <td>0</td>\n",
       "      <td>0</td>\n",
       "      <td>0</td>\n",
       "      <td>0</td>\n",
       "      <td>0</td>\n",
       "      <td>1</td>\n",
       "      <td>0</td>\n",
       "      <td>0</td>\n",
       "    </tr>\n",
       "    <tr>\n",
       "      <th>585471</th>\n",
       "      <td>0</td>\n",
       "      <td>1</td>\n",
       "      <td>0</td>\n",
       "      <td>0</td>\n",
       "      <td>0</td>\n",
       "      <td>0</td>\n",
       "      <td>0</td>\n",
       "      <td>0</td>\n",
       "      <td>0</td>\n",
       "      <td>0</td>\n",
       "    </tr>\n",
       "  </tbody>\n",
       "</table>\n",
       "<p>585472 rows × 10 columns</p>\n",
       "</div>\n",
       "      <button class=\"colab-df-convert\" onclick=\"convertToInteractive('df-a72581ff-2b6a-4aab-8637-2a82a250e291')\"\n",
       "              title=\"Convert this dataframe to an interactive table.\"\n",
       "              style=\"display:none;\">\n",
       "        \n",
       "  <svg xmlns=\"http://www.w3.org/2000/svg\" height=\"24px\"viewBox=\"0 0 24 24\"\n",
       "       width=\"24px\">\n",
       "    <path d=\"M0 0h24v24H0V0z\" fill=\"none\"/>\n",
       "    <path d=\"M18.56 5.44l.94 2.06.94-2.06 2.06-.94-2.06-.94-.94-2.06-.94 2.06-2.06.94zm-11 1L8.5 8.5l.94-2.06 2.06-.94-2.06-.94L8.5 2.5l-.94 2.06-2.06.94zm10 10l.94 2.06.94-2.06 2.06-.94-2.06-.94-.94-2.06-.94 2.06-2.06.94z\"/><path d=\"M17.41 7.96l-1.37-1.37c-.4-.4-.92-.59-1.43-.59-.52 0-1.04.2-1.43.59L10.3 9.45l-7.72 7.72c-.78.78-.78 2.05 0 2.83L4 21.41c.39.39.9.59 1.41.59.51 0 1.02-.2 1.41-.59l7.78-7.78 2.81-2.81c.8-.78.8-2.07 0-2.86zM5.41 20L4 18.59l7.72-7.72 1.47 1.35L5.41 20z\"/>\n",
       "  </svg>\n",
       "      </button>\n",
       "      \n",
       "  <style>\n",
       "    .colab-df-container {\n",
       "      display:flex;\n",
       "      flex-wrap:wrap;\n",
       "      gap: 12px;\n",
       "    }\n",
       "\n",
       "    .colab-df-convert {\n",
       "      background-color: #E8F0FE;\n",
       "      border: none;\n",
       "      border-radius: 50%;\n",
       "      cursor: pointer;\n",
       "      display: none;\n",
       "      fill: #1967D2;\n",
       "      height: 32px;\n",
       "      padding: 0 0 0 0;\n",
       "      width: 32px;\n",
       "    }\n",
       "\n",
       "    .colab-df-convert:hover {\n",
       "      background-color: #E2EBFA;\n",
       "      box-shadow: 0px 1px 2px rgba(60, 64, 67, 0.3), 0px 1px 3px 1px rgba(60, 64, 67, 0.15);\n",
       "      fill: #174EA6;\n",
       "    }\n",
       "\n",
       "    [theme=dark] .colab-df-convert {\n",
       "      background-color: #3B4455;\n",
       "      fill: #D2E3FC;\n",
       "    }\n",
       "\n",
       "    [theme=dark] .colab-df-convert:hover {\n",
       "      background-color: #434B5C;\n",
       "      box-shadow: 0px 1px 3px 1px rgba(0, 0, 0, 0.15);\n",
       "      filter: drop-shadow(0px 1px 2px rgba(0, 0, 0, 0.3));\n",
       "      fill: #FFFFFF;\n",
       "    }\n",
       "  </style>\n",
       "\n",
       "      <script>\n",
       "        const buttonEl =\n",
       "          document.querySelector('#df-a72581ff-2b6a-4aab-8637-2a82a250e291 button.colab-df-convert');\n",
       "        buttonEl.style.display =\n",
       "          google.colab.kernel.accessAllowed ? 'block' : 'none';\n",
       "\n",
       "        async function convertToInteractive(key) {\n",
       "          const element = document.querySelector('#df-a72581ff-2b6a-4aab-8637-2a82a250e291');\n",
       "          const dataTable =\n",
       "            await google.colab.kernel.invokeFunction('convertToInteractive',\n",
       "                                                     [key], {});\n",
       "          if (!dataTable) return;\n",
       "\n",
       "          const docLinkHtml = 'Like what you see? Visit the ' +\n",
       "            '<a target=\"_blank\" href=https://colab.research.google.com/notebooks/data_table.ipynb>data table notebook</a>'\n",
       "            + ' to learn more about interactive tables.';\n",
       "          element.innerHTML = '';\n",
       "          dataTable['output_type'] = 'display_data';\n",
       "          await google.colab.output.renderOutput(dataTable, element);\n",
       "          const docLink = document.createElement('div');\n",
       "          docLink.innerHTML = docLinkHtml;\n",
       "          element.appendChild(docLink);\n",
       "        }\n",
       "      </script>\n",
       "    </div>\n",
       "  </div>\n",
       "  "
      ],
      "text/plain": [
       "        caracteristica 1  caracteristica 2  caracteristica 3  \\\n",
       "0                      1                 0                 0   \n",
       "1                      1                 0                 0   \n",
       "2                      1                 0                 0   \n",
       "3                      1                 0                 0   \n",
       "4                      0                 0                 0   \n",
       "...                  ...               ...               ...   \n",
       "585467                 0                 0                 0   \n",
       "585468                 0                 0                 0   \n",
       "585469                 0                 0                 0   \n",
       "585470                 0                 0                 0   \n",
       "585471                 0                 1                 0   \n",
       "\n",
       "        caracteristica 4  caracteristica 5  caracteristica 6  \\\n",
       "0                      0                 0                 0   \n",
       "1                      0                 0                 0   \n",
       "2                      0                 0                 0   \n",
       "3                      0                 0                 0   \n",
       "4                      0                 0                 1   \n",
       "...                  ...               ...               ...   \n",
       "585467                 0                 0                 0   \n",
       "585468                 0                 0                 0   \n",
       "585469                 0                 0                 1   \n",
       "585470                 0                 0                 0   \n",
       "585471                 0                 0                 0   \n",
       "\n",
       "        caracteristica 7  caracteristica 8  caracteristica 9  \\\n",
       "0                      0                 0                 0   \n",
       "1                      0                 0                 0   \n",
       "2                      0                 0                 0   \n",
       "3                      0                 0                 0   \n",
       "4                      0                 0                 0   \n",
       "...                  ...               ...               ...   \n",
       "585467                 1                 0                 0   \n",
       "585468                 0                 0                 1   \n",
       "585469                 0                 0                 0   \n",
       "585470                 0                 1                 0   \n",
       "585471                 0                 0                 0   \n",
       "\n",
       "        caracteristica 10  \n",
       "0                       0  \n",
       "1                       0  \n",
       "2                       0  \n",
       "3                       0  \n",
       "4                       0  \n",
       "...                   ...  \n",
       "585467                  0  \n",
       "585468                  0  \n",
       "585469                  0  \n",
       "585470                  0  \n",
       "585471                  0  \n",
       "\n",
       "[585472 rows x 10 columns]"
      ]
     },
     "execution_count": 54,
     "metadata": {},
     "output_type": "execute_result"
    }
   ],
   "source": [
    "dados.iloc[:, -10:]"
   ]
  },
  {
   "cell_type": "markdown",
   "metadata": {
    "id": "w4TP5vXJpMyD"
   },
   "source": [
    "<b>efeitos_desejados</b>"
   ]
  },
  {
   "cell_type": "code",
   "execution_count": 55,
   "metadata": {
    "colab": {
     "base_uri": "https://localhost:8080/"
    },
    "executionInfo": {
     "elapsed": 449,
     "status": "ok",
     "timestamp": 1660593758192,
     "user": {
      "displayName": "Solano Jacon",
      "userId": "03193064938437592202"
     },
     "user_tz": 180
    },
    "id": "KAK483x6pMyD",
    "outputId": "ebd434e7-4bac-46ba-96b7-cfb3ef5b6cfd"
   },
   "outputs": [
    {
     "data": {
      "text/plain": [
       "Efeito 6, Efeito 7, Efeito 4, Efeito 3               0.014785\n",
       "Efeito 6, Efeito 7, Efeito 8, Efeito 4, Efeito 3     0.014747\n",
       "Efeito 6, Efeito 7, Efeito 8, Efeito 4               0.012257\n",
       "Efeito 7                                             0.010769\n",
       "Efeito 6, Efeito 2, Efeito 4, Efeito 3               0.009478\n",
       "                                                       ...   \n",
       "Efeito 3, Efeito 8, Efeito 1, Efeito 4, Efeito 7     0.000002\n",
       "Efeito 1, Efeito 8, Efeito 3, Efeito 4, Efeito 5     0.000002\n",
       "Efeito 4, Efeito 10, Efeito 2, Efeito 7, Efeito 1    0.000002\n",
       "Efeito 10, Efeito 3, Efeito 2, Efeito 4, Efeito 1    0.000002\n",
       "Efeito 8, Efeito 4, Efeito 10, Efeito 2, Efeito 7    0.000002\n",
       "Name: efeitos_desejados, Length: 11836, dtype: float64"
      ]
     },
     "execution_count": 55,
     "metadata": {},
     "output_type": "execute_result"
    }
   ],
   "source": [
    "dados['efeitos_desejados'].value_counts(normalize=True, dropna=False)"
   ]
  },
  {
   "cell_type": "code",
   "execution_count": 56,
   "metadata": {
    "executionInfo": {
     "elapsed": 3696,
     "status": "ok",
     "timestamp": 1660593761885,
     "user": {
      "displayName": "Solano Jacon",
      "userId": "03193064938437592202"
     },
     "user_tz": 180
    },
    "id": "mingNNGLpMyD"
   },
   "outputs": [],
   "source": [
    "# A coluna efeitos_desejados contém 10 categorias de 1 a 10 no formato \"Efeito 5\"\n",
    "# The column efeitos_desejados contains 10 categories from 1 to 10 in the \"Efeito 5\" format\n",
    "\n",
    "dados['efeitos_desejados_modificado'] = dados['efeitos_desejados'].fillna(value='Nenhum')\n",
    "\n",
    "for numero_efeito in range(1, 11):\n",
    "    dados['efeitos_desejados ' + str(numero_efeito)] = dados['efeitos_desejados_modificado'].apply(lambda x: 1 if ('Efeito ' + str(numero_efeito)) in x else 0)"
   ]
  },
  {
   "cell_type": "code",
   "execution_count": 57,
   "metadata": {
    "colab": {
     "base_uri": "https://localhost:8080/"
    },
    "executionInfo": {
     "elapsed": 25,
     "status": "ok",
     "timestamp": 1660593761886,
     "user": {
      "displayName": "Solano Jacon",
      "userId": "03193064938437592202"
     },
     "user_tz": 180
    },
    "id": "1h3crMAUpMyD",
    "outputId": "dbe8ec25-d12f-4348-e2e1-720fcd78323f"
   },
   "outputs": [
    {
     "data": {
      "text/plain": [
       "0                                       Efeito 7\n",
       "1                                       Efeito 7\n",
       "2                                       Efeito 7\n",
       "3                                       Efeito 7\n",
       "4                                       Efeito 1\n",
       "                           ...                  \n",
       "585467                                  Efeito 7\n",
       "585468              Efeito 7, Efeito 1, Efeito 5\n",
       "585469                                  Efeito 1\n",
       "585470    Efeito 7, Efeito 1, Efeito 5, Efeito 8\n",
       "585471                                  Efeito 8\n",
       "Name: efeitos_desejados, Length: 585472, dtype: object"
      ]
     },
     "execution_count": 57,
     "metadata": {},
     "output_type": "execute_result"
    }
   ],
   "source": [
    "dados['efeitos_desejados']"
   ]
  },
  {
   "cell_type": "code",
   "execution_count": 58,
   "metadata": {
    "colab": {
     "base_uri": "https://localhost:8080/",
     "height": 424
    },
    "executionInfo": {
     "elapsed": 22,
     "status": "ok",
     "timestamp": 1660593761886,
     "user": {
      "displayName": "Solano Jacon",
      "userId": "03193064938437592202"
     },
     "user_tz": 180
    },
    "id": "jekLHeG6pMyD",
    "outputId": "9859f9be-7a27-4b77-cbd6-5616b34c6c7f"
   },
   "outputs": [
    {
     "data": {
      "text/html": [
       "\n",
       "  <div id=\"df-413b92c0-afa2-43d1-8d70-72c675d473b4\">\n",
       "    <div class=\"colab-df-container\">\n",
       "      <div>\n",
       "<style scoped>\n",
       "    .dataframe tbody tr th:only-of-type {\n",
       "        vertical-align: middle;\n",
       "    }\n",
       "\n",
       "    .dataframe tbody tr th {\n",
       "        vertical-align: top;\n",
       "    }\n",
       "\n",
       "    .dataframe thead th {\n",
       "        text-align: right;\n",
       "    }\n",
       "</style>\n",
       "<table border=\"1\" class=\"dataframe\">\n",
       "  <thead>\n",
       "    <tr style=\"text-align: right;\">\n",
       "      <th></th>\n",
       "      <th>efeitos_desejados 1</th>\n",
       "      <th>efeitos_desejados 2</th>\n",
       "      <th>efeitos_desejados 3</th>\n",
       "      <th>efeitos_desejados 4</th>\n",
       "      <th>efeitos_desejados 5</th>\n",
       "      <th>efeitos_desejados 6</th>\n",
       "      <th>efeitos_desejados 7</th>\n",
       "      <th>efeitos_desejados 8</th>\n",
       "      <th>efeitos_desejados 9</th>\n",
       "      <th>efeitos_desejados 10</th>\n",
       "    </tr>\n",
       "  </thead>\n",
       "  <tbody>\n",
       "    <tr>\n",
       "      <th>0</th>\n",
       "      <td>0</td>\n",
       "      <td>0</td>\n",
       "      <td>0</td>\n",
       "      <td>0</td>\n",
       "      <td>0</td>\n",
       "      <td>0</td>\n",
       "      <td>1</td>\n",
       "      <td>0</td>\n",
       "      <td>0</td>\n",
       "      <td>0</td>\n",
       "    </tr>\n",
       "    <tr>\n",
       "      <th>1</th>\n",
       "      <td>0</td>\n",
       "      <td>0</td>\n",
       "      <td>0</td>\n",
       "      <td>0</td>\n",
       "      <td>0</td>\n",
       "      <td>0</td>\n",
       "      <td>1</td>\n",
       "      <td>0</td>\n",
       "      <td>0</td>\n",
       "      <td>0</td>\n",
       "    </tr>\n",
       "    <tr>\n",
       "      <th>2</th>\n",
       "      <td>0</td>\n",
       "      <td>0</td>\n",
       "      <td>0</td>\n",
       "      <td>0</td>\n",
       "      <td>0</td>\n",
       "      <td>0</td>\n",
       "      <td>1</td>\n",
       "      <td>0</td>\n",
       "      <td>0</td>\n",
       "      <td>0</td>\n",
       "    </tr>\n",
       "    <tr>\n",
       "      <th>3</th>\n",
       "      <td>0</td>\n",
       "      <td>0</td>\n",
       "      <td>0</td>\n",
       "      <td>0</td>\n",
       "      <td>0</td>\n",
       "      <td>0</td>\n",
       "      <td>1</td>\n",
       "      <td>0</td>\n",
       "      <td>0</td>\n",
       "      <td>0</td>\n",
       "    </tr>\n",
       "    <tr>\n",
       "      <th>4</th>\n",
       "      <td>1</td>\n",
       "      <td>0</td>\n",
       "      <td>0</td>\n",
       "      <td>0</td>\n",
       "      <td>0</td>\n",
       "      <td>0</td>\n",
       "      <td>0</td>\n",
       "      <td>0</td>\n",
       "      <td>0</td>\n",
       "      <td>0</td>\n",
       "    </tr>\n",
       "    <tr>\n",
       "      <th>...</th>\n",
       "      <td>...</td>\n",
       "      <td>...</td>\n",
       "      <td>...</td>\n",
       "      <td>...</td>\n",
       "      <td>...</td>\n",
       "      <td>...</td>\n",
       "      <td>...</td>\n",
       "      <td>...</td>\n",
       "      <td>...</td>\n",
       "      <td>...</td>\n",
       "    </tr>\n",
       "    <tr>\n",
       "      <th>585467</th>\n",
       "      <td>0</td>\n",
       "      <td>0</td>\n",
       "      <td>0</td>\n",
       "      <td>0</td>\n",
       "      <td>0</td>\n",
       "      <td>0</td>\n",
       "      <td>1</td>\n",
       "      <td>0</td>\n",
       "      <td>0</td>\n",
       "      <td>0</td>\n",
       "    </tr>\n",
       "    <tr>\n",
       "      <th>585468</th>\n",
       "      <td>1</td>\n",
       "      <td>0</td>\n",
       "      <td>0</td>\n",
       "      <td>0</td>\n",
       "      <td>1</td>\n",
       "      <td>0</td>\n",
       "      <td>1</td>\n",
       "      <td>0</td>\n",
       "      <td>0</td>\n",
       "      <td>0</td>\n",
       "    </tr>\n",
       "    <tr>\n",
       "      <th>585469</th>\n",
       "      <td>1</td>\n",
       "      <td>0</td>\n",
       "      <td>0</td>\n",
       "      <td>0</td>\n",
       "      <td>0</td>\n",
       "      <td>0</td>\n",
       "      <td>0</td>\n",
       "      <td>0</td>\n",
       "      <td>0</td>\n",
       "      <td>0</td>\n",
       "    </tr>\n",
       "    <tr>\n",
       "      <th>585470</th>\n",
       "      <td>1</td>\n",
       "      <td>0</td>\n",
       "      <td>0</td>\n",
       "      <td>0</td>\n",
       "      <td>1</td>\n",
       "      <td>0</td>\n",
       "      <td>1</td>\n",
       "      <td>1</td>\n",
       "      <td>0</td>\n",
       "      <td>0</td>\n",
       "    </tr>\n",
       "    <tr>\n",
       "      <th>585471</th>\n",
       "      <td>0</td>\n",
       "      <td>0</td>\n",
       "      <td>0</td>\n",
       "      <td>0</td>\n",
       "      <td>0</td>\n",
       "      <td>0</td>\n",
       "      <td>0</td>\n",
       "      <td>1</td>\n",
       "      <td>0</td>\n",
       "      <td>0</td>\n",
       "    </tr>\n",
       "  </tbody>\n",
       "</table>\n",
       "<p>585472 rows × 10 columns</p>\n",
       "</div>\n",
       "      <button class=\"colab-df-convert\" onclick=\"convertToInteractive('df-413b92c0-afa2-43d1-8d70-72c675d473b4')\"\n",
       "              title=\"Convert this dataframe to an interactive table.\"\n",
       "              style=\"display:none;\">\n",
       "        \n",
       "  <svg xmlns=\"http://www.w3.org/2000/svg\" height=\"24px\"viewBox=\"0 0 24 24\"\n",
       "       width=\"24px\">\n",
       "    <path d=\"M0 0h24v24H0V0z\" fill=\"none\"/>\n",
       "    <path d=\"M18.56 5.44l.94 2.06.94-2.06 2.06-.94-2.06-.94-.94-2.06-.94 2.06-2.06.94zm-11 1L8.5 8.5l.94-2.06 2.06-.94-2.06-.94L8.5 2.5l-.94 2.06-2.06.94zm10 10l.94 2.06.94-2.06 2.06-.94-2.06-.94-.94-2.06-.94 2.06-2.06.94z\"/><path d=\"M17.41 7.96l-1.37-1.37c-.4-.4-.92-.59-1.43-.59-.52 0-1.04.2-1.43.59L10.3 9.45l-7.72 7.72c-.78.78-.78 2.05 0 2.83L4 21.41c.39.39.9.59 1.41.59.51 0 1.02-.2 1.41-.59l7.78-7.78 2.81-2.81c.8-.78.8-2.07 0-2.86zM5.41 20L4 18.59l7.72-7.72 1.47 1.35L5.41 20z\"/>\n",
       "  </svg>\n",
       "      </button>\n",
       "      \n",
       "  <style>\n",
       "    .colab-df-container {\n",
       "      display:flex;\n",
       "      flex-wrap:wrap;\n",
       "      gap: 12px;\n",
       "    }\n",
       "\n",
       "    .colab-df-convert {\n",
       "      background-color: #E8F0FE;\n",
       "      border: none;\n",
       "      border-radius: 50%;\n",
       "      cursor: pointer;\n",
       "      display: none;\n",
       "      fill: #1967D2;\n",
       "      height: 32px;\n",
       "      padding: 0 0 0 0;\n",
       "      width: 32px;\n",
       "    }\n",
       "\n",
       "    .colab-df-convert:hover {\n",
       "      background-color: #E2EBFA;\n",
       "      box-shadow: 0px 1px 2px rgba(60, 64, 67, 0.3), 0px 1px 3px 1px rgba(60, 64, 67, 0.15);\n",
       "      fill: #174EA6;\n",
       "    }\n",
       "\n",
       "    [theme=dark] .colab-df-convert {\n",
       "      background-color: #3B4455;\n",
       "      fill: #D2E3FC;\n",
       "    }\n",
       "\n",
       "    [theme=dark] .colab-df-convert:hover {\n",
       "      background-color: #434B5C;\n",
       "      box-shadow: 0px 1px 3px 1px rgba(0, 0, 0, 0.15);\n",
       "      filter: drop-shadow(0px 1px 2px rgba(0, 0, 0, 0.3));\n",
       "      fill: #FFFFFF;\n",
       "    }\n",
       "  </style>\n",
       "\n",
       "      <script>\n",
       "        const buttonEl =\n",
       "          document.querySelector('#df-413b92c0-afa2-43d1-8d70-72c675d473b4 button.colab-df-convert');\n",
       "        buttonEl.style.display =\n",
       "          google.colab.kernel.accessAllowed ? 'block' : 'none';\n",
       "\n",
       "        async function convertToInteractive(key) {\n",
       "          const element = document.querySelector('#df-413b92c0-afa2-43d1-8d70-72c675d473b4');\n",
       "          const dataTable =\n",
       "            await google.colab.kernel.invokeFunction('convertToInteractive',\n",
       "                                                     [key], {});\n",
       "          if (!dataTable) return;\n",
       "\n",
       "          const docLinkHtml = 'Like what you see? Visit the ' +\n",
       "            '<a target=\"_blank\" href=https://colab.research.google.com/notebooks/data_table.ipynb>data table notebook</a>'\n",
       "            + ' to learn more about interactive tables.';\n",
       "          element.innerHTML = '';\n",
       "          dataTable['output_type'] = 'display_data';\n",
       "          await google.colab.output.renderOutput(dataTable, element);\n",
       "          const docLink = document.createElement('div');\n",
       "          docLink.innerHTML = docLinkHtml;\n",
       "          element.appendChild(docLink);\n",
       "        }\n",
       "      </script>\n",
       "    </div>\n",
       "  </div>\n",
       "  "
      ],
      "text/plain": [
       "        efeitos_desejados 1  efeitos_desejados 2  efeitos_desejados 3  \\\n",
       "0                         0                    0                    0   \n",
       "1                         0                    0                    0   \n",
       "2                         0                    0                    0   \n",
       "3                         0                    0                    0   \n",
       "4                         1                    0                    0   \n",
       "...                     ...                  ...                  ...   \n",
       "585467                    0                    0                    0   \n",
       "585468                    1                    0                    0   \n",
       "585469                    1                    0                    0   \n",
       "585470                    1                    0                    0   \n",
       "585471                    0                    0                    0   \n",
       "\n",
       "        efeitos_desejados 4  efeitos_desejados 5  efeitos_desejados 6  \\\n",
       "0                         0                    0                    0   \n",
       "1                         0                    0                    0   \n",
       "2                         0                    0                    0   \n",
       "3                         0                    0                    0   \n",
       "4                         0                    0                    0   \n",
       "...                     ...                  ...                  ...   \n",
       "585467                    0                    0                    0   \n",
       "585468                    0                    1                    0   \n",
       "585469                    0                    0                    0   \n",
       "585470                    0                    1                    0   \n",
       "585471                    0                    0                    0   \n",
       "\n",
       "        efeitos_desejados 7  efeitos_desejados 8  efeitos_desejados 9  \\\n",
       "0                         1                    0                    0   \n",
       "1                         1                    0                    0   \n",
       "2                         1                    0                    0   \n",
       "3                         1                    0                    0   \n",
       "4                         0                    0                    0   \n",
       "...                     ...                  ...                  ...   \n",
       "585467                    1                    0                    0   \n",
       "585468                    1                    0                    0   \n",
       "585469                    0                    0                    0   \n",
       "585470                    1                    1                    0   \n",
       "585471                    0                    1                    0   \n",
       "\n",
       "        efeitos_desejados 10  \n",
       "0                          0  \n",
       "1                          0  \n",
       "2                          0  \n",
       "3                          0  \n",
       "4                          0  \n",
       "...                      ...  \n",
       "585467                     0  \n",
       "585468                     0  \n",
       "585469                     0  \n",
       "585470                     0  \n",
       "585471                     0  \n",
       "\n",
       "[585472 rows x 10 columns]"
      ]
     },
     "execution_count": 58,
     "metadata": {},
     "output_type": "execute_result"
    }
   ],
   "source": [
    "dados.iloc[:, -10:]"
   ]
  },
  {
   "cell_type": "markdown",
   "metadata": {
    "id": "Nw4pZf6IpMyD"
   },
   "source": [
    "### Encoding"
   ]
  },
  {
   "cell_type": "markdown",
   "metadata": {
    "id": "_dX35YYCpMyE"
   },
   "source": [
    "<b>sistema_operacional</b>"
   ]
  },
  {
   "cell_type": "code",
   "execution_count": 59,
   "metadata": {
    "colab": {
     "base_uri": "https://localhost:8080/"
    },
    "executionInfo": {
     "elapsed": 21,
     "status": "ok",
     "timestamp": 1660593761886,
     "user": {
      "displayName": "Solano Jacon",
      "userId": "03193064938437592202"
     },
     "user_tz": 180
    },
    "id": "chYOPnMQpMyE",
    "outputId": "6f040340-9e00-4047-d68a-0fe23605f54d"
   },
   "outputs": [
    {
     "data": {
      "text/plain": [
       "array(['iOS', 'Windows', 'Android', 'Mac OS', 'Linux', ' ChromeOS'],\n",
       "      dtype=object)"
      ]
     },
     "execution_count": 59,
     "metadata": {},
     "output_type": "execute_result"
    }
   ],
   "source": [
    "dados['sistema_operacional'].unique()"
   ]
  },
  {
   "cell_type": "code",
   "execution_count": 60,
   "metadata": {
    "executionInfo": {
     "elapsed": 897,
     "status": "ok",
     "timestamp": 1660593762766,
     "user": {
      "displayName": "Solano Jacon",
      "userId": "03193064938437592202"
     },
     "user_tz": 180
    },
    "id": "TxjhNeNLpMyE"
   },
   "outputs": [],
   "source": [
    "ohe = OneHotEncoder(sparse=False)\n",
    "column_encoded = ohe.fit_transform(dados[['sistema_operacional']])\n",
    "dados['sistema_operacional_e_' + ohe.categories_[0]] = column_encoded"
   ]
  },
  {
   "cell_type": "code",
   "execution_count": 61,
   "metadata": {
    "colab": {
     "base_uri": "https://localhost:8080/"
    },
    "executionInfo": {
     "elapsed": 15,
     "status": "ok",
     "timestamp": 1660593762766,
     "user": {
      "displayName": "Solano Jacon",
      "userId": "03193064938437592202"
     },
     "user_tz": 180
    },
    "id": "tTjPIDCapMyE",
    "outputId": "e20fa556-1054-48c5-a663-4e89b99a3829"
   },
   "outputs": [
    {
     "data": {
      "text/plain": [
       "[array([' ChromeOS', 'Android', 'Linux', 'Mac OS', 'Windows', 'iOS'],\n",
       "       dtype=object)]"
      ]
     },
     "execution_count": 61,
     "metadata": {},
     "output_type": "execute_result"
    }
   ],
   "source": [
    "ohe.categories_"
   ]
  },
  {
   "cell_type": "code",
   "execution_count": 62,
   "metadata": {
    "colab": {
     "base_uri": "https://localhost:8080/"
    },
    "executionInfo": {
     "elapsed": 14,
     "status": "ok",
     "timestamp": 1660593762767,
     "user": {
      "displayName": "Solano Jacon",
      "userId": "03193064938437592202"
     },
     "user_tz": 180
    },
    "id": "hlRM2lNqpMyE",
    "outputId": "e411b882-c599-45c0-b820-3b526522427a"
   },
   "outputs": [
    {
     "data": {
      "text/plain": [
       "Index(['id_form', 'id_cliente', 'data', 'sistema_operacional', 'navegador',\n",
       "       'localizacao', 'locale', 'cidade', 'estado', 'qtde_lavagem_semana',\n",
       "       'utm_source', 'tipo_cabelo', 'comprimento', 'tipo_fios',\n",
       "       'procedimentos', 'tempo_procedimento', 'dieta', 'atividade_fisica',\n",
       "       'frequencia_estresse', 'caracteristica', 'faixa_etaria',\n",
       "       'efeitos_desejados', 'fragancia', 'id_pedido', 'id', 'pedido',\n",
       "       'tempo_procedimento_quantificado', 'faixa_etaria_quantificado',\n",
       "       'procedimento Corte agressivo', 'procedimento Exposição ao sol',\n",
       "       'procedimento Nenhum', 'procedimento N/C', 'procedimento Tintura',\n",
       "       'procedimento Todos acima', 'caracteristica 1', 'caracteristica 2',\n",
       "       'caracteristica 3', 'caracteristica 4', 'caracteristica 5',\n",
       "       'caracteristica 6', 'caracteristica 7', 'caracteristica 8',\n",
       "       'caracteristica 9', 'caracteristica 10', 'efeitos_desejados_modificado',\n",
       "       'efeitos_desejados 1', 'efeitos_desejados 2', 'efeitos_desejados 3',\n",
       "       'efeitos_desejados 4', 'efeitos_desejados 5', 'efeitos_desejados 6',\n",
       "       'efeitos_desejados 7', 'efeitos_desejados 8', 'efeitos_desejados 9',\n",
       "       'efeitos_desejados 10', 'sistema_operacional_e_ ChromeOS',\n",
       "       'sistema_operacional_e_Android', 'sistema_operacional_e_Linux',\n",
       "       'sistema_operacional_e_Mac OS', 'sistema_operacional_e_Windows',\n",
       "       'sistema_operacional_e_iOS'],\n",
       "      dtype='object')"
      ]
     },
     "execution_count": 62,
     "metadata": {},
     "output_type": "execute_result"
    }
   ],
   "source": [
    "dados.columns"
   ]
  },
  {
   "cell_type": "markdown",
   "metadata": {
    "id": "HWXPyV93pMyE"
   },
   "source": [
    "<b>estado</b>"
   ]
  },
  {
   "cell_type": "code",
   "execution_count": 63,
   "metadata": {
    "colab": {
     "base_uri": "https://localhost:8080/"
    },
    "executionInfo": {
     "elapsed": 10,
     "status": "ok",
     "timestamp": 1660593762767,
     "user": {
      "displayName": "Solano Jacon",
      "userId": "03193064938437592202"
     },
     "user_tz": 180
    },
    "id": "U1dn5lespMyE",
    "outputId": "db6dfa7e-1ab1-448a-a8f7-cfe89ca5d8e9"
   },
   "outputs": [
    {
     "data": {
      "text/plain": [
       "array([' SAO PAULO', ' ENGLAND', ' SANTA CATARINA', ' ALAGOAS', ' CEARA',\n",
       "       ' BAHIA', ' PIAUI', ' QUEBEC', ' PARANA', ' AMAZONAS', ' NULL',\n",
       "       ' RIO DE JANEIRO', ' PERNAMBUCO', ' MATO GROSSO', ' MINAS GERAIS',\n",
       "       ' TOCANTINS', ' PARA', ' RIO GRANDE DO SUL',\n",
       "       ' RIO GRANDE DO NORTE', ' GOIAS', ' VIRGINIA', ' FEDERAL DISTRICT',\n",
       "       ' RONDONIA', ' SERGIPE', ' MARANHAO', ' AMAPA', ' PARAÍBA',\n",
       "       ' TEXAS', ' ESPIRITO SANTO', \" PROVENCE-ALPES-CÔTE D'AZUR\",\n",
       "       ' MATO GROSSO DO SUL', ' RORAIMA', ' DEPARTAMENTO DE CAAGUAZU',\n",
       "       ' ACRE', ' PORTO', ' DEPARTAMENTO DE MISIONES',\n",
       "       ' NORTH RHINE-WESTPHALIA', ' NEW YORK', ' CONNECTICUT', ' LEIRIA',\n",
       "       ' LISBON', ' BRITISH COLUMBIA', ' SANTIAGO METROPOLITAN',\n",
       "       ' MADRID', ' FLANDERS', ' APULIA', ' AICHI', ' BASQUE COUNTRY',\n",
       "       ' OHIO', ' DEPARTAMENTO DEL MAGDALENA', ' BRAGA',\n",
       "       ' DEPARTAMENTO DEL ALTO PARANA', ' GIZA', ' WISCONSIN', ' ÉVORA',\n",
       "       ' VIANA DO CASTELO', ' CASTELO BRANCO', ' DEPARTAMENTO DE LA PAZ',\n",
       "       ' THURINGIA', ' AUVERGNE-RHONE-ALPES', ' LOMBARDY', ' VALENCIA',\n",
       "       ' MASSACHUSETTS', ' DISTRICT OF SETÚBAL', ' MADRE DE DIOS',\n",
       "       ' WASHINGTON', ' MICHIGAN', ' DEPARTAMENTO DE MONTEVIDEO',\n",
       "       ' GEORGIA', ' VISEU', ' NEW JERSEY', ' LIMA', ' LEINSTER',\n",
       "       ' HAMBURG', ' CATALONIA', ' SANTARÉM', ' SARDINIA',\n",
       "       ' EMILIA-ROMAGNA', ' SALTA', ' RHODE ISLAND', ' SONGKHLA',\n",
       "       ' UUSIMAA', ' ZURICH', ' BADEN-WÜRTTEMBERG', ' MADEIRA', ' GENEVA',\n",
       "       ' MIE', ' FARO', ' WESTERN AUSTRALIA', ' BAVARIA',\n",
       "       ' BUENOS AIRES F.D.', ' ONTARIO', ' DUBAI', ' LAND BERLIN',\n",
       "       ' COLORADO', ' VIKEN', ' ÎLE-DE-FRANCE', ' DEPARTAMENTO DE PANDO',\n",
       "       ' BRUSSELS CAPITAL', ' FLORIDA', ' CIDADE DE MAPUTO',\n",
       "       ' NEW PROVIDENCE DISTRICT', ' CORDOBA', ' BRITTANY', ' ANDALUSIA',\n",
       "       ' VICTORIA', ' BOGOTA D.C.', ' DEPARTAMENTO DE SALTO',\n",
       "       ' NEW SOUTH WALES', ' AARGAU', ' ÑUBLE', ' ALBERTA', ' MALDONADO',\n",
       "       ' CALIFORNIA', ' HYOGO', ' NORTH DENMARK', ' PENNSYLVANIA',\n",
       "       ' AZORES', ' AVEIRO', ' COIMBRA', ' CANTERBURY',\n",
       "       ' MECKLENBURG-VORPOMMERN', ' BERN', ' VERMONT',\n",
       "       ' PAYS DE LA LOIRE', ' ALABAMA', ' NEW HAMPSHIRE', ' PORTALEGRE',\n",
       "       ' ASUNCION', ' MISSISSIPPI', ' NEUQUEN', ' SHIZUOKA', ' UTAH',\n",
       "       ' SOUTH CAROLINA', ' DEPARTAMENTO DE ROCHA', ' SAINT GALLEN',\n",
       "       ' HESSE', ' TOYAMA', ' NORTH CAROLINA', ' SHIMANE', ' BRAGANÇA',\n",
       "       ' OSAKA', ' DEPARTAMENTO DE MASAYA', ' ANTIOQUIA',\n",
       "       ' DEMERARA-MAHAICA REGION', ' OKLAHOMA', ' REGION DEL BIOBIO',\n",
       "       ' MEXICO CITY', ' CAMPANIA', ' ORDINO', ' MOSTEIROS', ' DELAWARE',\n",
       "       ' CASTILLE AND LEÓN', ' SANTA FE', ' CENTRAL JUTLAND', ' GALICIA',\n",
       "       ' DEPARTAMENTO DE CANINDEYU', ' AL ASIMAH', ' SKÅNE COUNTY',\n",
       "       ' RIYADH REGION', ' BALEARIC ISLANDS', ' HLAVNI MESTO PRAHA',\n",
       "       ' TARXIEN', ' SUD', ' CANELONES', ' LUXEMBOURG', ' BUDAPEST',\n",
       "       ' CENTRE-VAL DE LOIRE', ' LATIUM', ' GELDERLAND', ' ATTICA',\n",
       "       ' NUEVO LEÓN', ' DRENTHE', ' MISSOURI', ' TEL AVIV',\n",
       "       ' CERRO LARGO', ' LOWER SAXONY', ' MUNSTER', ' VILA REAL', ' BEJA',\n",
       "       ' ILLINOIS', ' PIEDMONT', ' TENNESSEE', ' NORTH HOLLAND',\n",
       "       ' ABU DHABI', ' BAJA CALIFORNIA', ' ARIZONA', ' GAUTENG',\n",
       "       ' DEPARTAMENTO CENTRAL', ' MARYLAND', ' MÉXICO', ' FRIBOURG',\n",
       "       ' SOUTHWEST FINLAND', ' OCCITANIE', ' OVERIJSSEL', ' MISIONES',\n",
       "       ' DEPARTAMENTO DE LA CORDILLERA', ' VENETO', ' MANITOBA',\n",
       "       ' PUNJAB', ' PROVINCIA DUARTE', ' DEPARTAMENTO DE SANTA CRUZ',\n",
       "       ' NORTH DAKOTA', ' DISTRICT OF COLUMBIA', ' SOUTH AUSTRALIA',\n",
       "       ' CITY OF FREEPORT DISTRICT', ' SHIGA', ' QUERÉTARO',\n",
       "       ' DEPARTAMENTO DE CASANARE', ' QUEENSLAND', ' YUCATÁN',\n",
       "       ' PROVINCIA DE SAN JOSE', ' NOUVELLE-AQUITAINE', ' CANARY ISLANDS',\n",
       "       ' NORTHERN IRELAND', ' NEVADA', ' HAUTS-DE-FRANCE', ' LA MASSANA',\n",
       "       ' BUENOS AIRES', ' ISLAMABAD', ' LUANDA PROVINCE',\n",
       "       ' SOUTH HOLLAND', nan, ' CALABRIA', ' GUARDA',\n",
       "       ' DEPARTAMENTO DEL AMAMBAY', ' KAUNAS', ' NOVA SCOTIA', ' VAUD',\n",
       "       ' ARAGON', ' SICILY', ' CENTRAL MACEDONIA', ' CORRIENTES',\n",
       "       ' ZEELAND', ' PEST MEGYE', ' WALLONIA', ' LAZIO',\n",
       "       ' DEPARTAMENTO DE SAN JOSE', ' TOKYO', ' TRENTINO-ALTO ADIGE',\n",
       "       ' LOUISIANA', ' DEPARTAMENTO DE ITAPUA', ' ATLÁNTICO', ' TUSCANY',\n",
       "       ' TROMS OG FINNMARK', ' OBCINA LASKO', ' ESCH-SUR-ALZETTE',\n",
       "       ' RHEINLAND-PFALZ', ' SEOUL', ' MINNESOTA', ' BRATISLAVA',\n",
       "       ' CASTILLE-LA MANCHA', ' DISTRIKT PARAMARIBO', ' STOCKHOLM COUNTY',\n",
       "       ' UTRECHT', ' ZULIA', ' SAITAMA', ' PROVINCIA DE PANAMA',\n",
       "       ' OREGON', ' EXTREMADURA', ' DEPARTAMENTO DEL META',\n",
       "       ' NORTH BRABANT', ' AUCKLAND', ' GYEONGGI-DO', ' PHUKET', ' JURA',\n",
       "       ' SCOTLAND', ' DEPARTAMENTO DE RIO NEGRO', ' HAIFA',\n",
       "       ' CAPITAL REGION', ' HAWAII', ' FUKUOKA', ' SÖDERMANLAND COUNTY',\n",
       "       ' CONNAUGHT', ' DEPARTAMENTO DE SANTANDER',\n",
       "       ' DEPARTAMENTO DE COCHABAMBA', ' CENTRAL LUZON', ' ENTRE RIOS',\n",
       "       ' NORMANDY', ' NEUCHÂTEL', ' FUKUI', ' BALADIYAT AD DAWHAH',\n",
       "       ' PROVINCIA DE COLON', ' SELANGOR', ' BICOL', ' VALLETTA',\n",
       "       ' WALES', ' DEPARTAMENTO DE PRESIDENTE HAYES',\n",
       "       ' DEPARTAMENTO DE SUCRE', ' RAZGRAD', ' DEPARTAMENTO DE PARAGUARI',\n",
       "       ' LA RIOJA', ' SCHAFFHAUSEN', ' ABRUZZO',\n",
       "       ' DEPARTAMENTO DE NEEMBUCU', ' REGION DE VALPARAISO',\n",
       "       ' ILES DU VENT', ' CAJAMARCA', ' COAHUILA', ' BARANYA', ' GABU',\n",
       "       ' CHIHUAHUA', ' PUEBLA', ' OSLO COUNTY', ' ULSTER', ' MIYAGI',\n",
       "       ' IN-NAXXAR', ' TRØNDELAG', ' BAFATA', ' RIO NEGRO', ' CARABOBO',\n",
       "       ' DEPARTAMENTO DE RISARALDA', ' QUINTANA ROO', ' JALISCO',\n",
       "       ' VESTFOLD OG TELEMARK', ' PROVINCIA DE PICHINCHA', ' GRAND EST',\n",
       "       ' FREE AND HANSEATIC CITY OF HAMBURG', ' OBWALDEN', ' IDAHO',\n",
       "       ' MUSCAT', ' NEW BRUNSWICK', ' ESTUAIRE', ' TELANGANA',\n",
       "       ' DEPARTAMENTO DEL GUAIRA', ' PROVINCIA DE SANTO DOMINGO',\n",
       "       ' SINDH', ' CENTRAL VISAYAS'], dtype=object)"
      ]
     },
     "execution_count": 63,
     "metadata": {},
     "output_type": "execute_result"
    }
   ],
   "source": [
    "dados['estado'].unique()"
   ]
  },
  {
   "cell_type": "code",
   "execution_count": 64,
   "metadata": {
    "executionInfo": {
     "elapsed": 9040,
     "status": "ok",
     "timestamp": 1660593771799,
     "user": {
      "displayName": "Solano Jacon",
      "userId": "03193064938437592202"
     },
     "user_tz": 180
    },
    "id": "ryy84FLWpMyF"
   },
   "outputs": [],
   "source": [
    "ohe = OneHotEncoder(sparse=False)\n",
    "column_encoded = ohe.fit_transform(dados[['estado']].replace(np.nan, 'Nenhum'))\n",
    "dados['estado_e_' + ohe.categories_[0]] = column_encoded"
   ]
  },
  {
   "cell_type": "code",
   "execution_count": 65,
   "metadata": {
    "colab": {
     "base_uri": "https://localhost:8080/"
    },
    "executionInfo": {
     "elapsed": 29,
     "status": "ok",
     "timestamp": 1660593771800,
     "user": {
      "displayName": "Solano Jacon",
      "userId": "03193064938437592202"
     },
     "user_tz": 180
    },
    "id": "aVB4YN2spMyF",
    "outputId": "8466022e-cd88-47f5-c76a-f4dfc9f49c83"
   },
   "outputs": [
    {
     "data": {
      "text/plain": [
       "[array([' AARGAU', ' ABRUZZO', ' ABU DHABI', ' ACRE', ' AICHI',\n",
       "        ' AL ASIMAH', ' ALABAMA', ' ALAGOAS', ' ALBERTA', ' AMAPA',\n",
       "        ' AMAZONAS', ' ANDALUSIA', ' ANTIOQUIA', ' APULIA', ' ARAGON',\n",
       "        ' ARIZONA', ' ASUNCION', ' ATLÁNTICO', ' ATTICA', ' AUCKLAND',\n",
       "        ' AUVERGNE-RHONE-ALPES', ' AVEIRO', ' AZORES',\n",
       "        ' BADEN-WÜRTTEMBERG', ' BAFATA', ' BAHIA', ' BAJA CALIFORNIA',\n",
       "        ' BALADIYAT AD DAWHAH', ' BALEARIC ISLANDS', ' BARANYA',\n",
       "        ' BASQUE COUNTRY', ' BAVARIA', ' BEJA', ' BERN', ' BICOL',\n",
       "        ' BOGOTA D.C.', ' BRAGA', ' BRAGANÇA', ' BRATISLAVA',\n",
       "        ' BRITISH COLUMBIA', ' BRITTANY', ' BRUSSELS CAPITAL', ' BUDAPEST',\n",
       "        ' BUENOS AIRES', ' BUENOS AIRES F.D.', ' CAJAMARCA', ' CALABRIA',\n",
       "        ' CALIFORNIA', ' CAMPANIA', ' CANARY ISLANDS', ' CANELONES',\n",
       "        ' CANTERBURY', ' CAPITAL REGION', ' CARABOBO', ' CASTELO BRANCO',\n",
       "        ' CASTILLE AND LEÓN', ' CASTILLE-LA MANCHA', ' CATALONIA',\n",
       "        ' CEARA', ' CENTRAL JUTLAND', ' CENTRAL LUZON',\n",
       "        ' CENTRAL MACEDONIA', ' CENTRAL VISAYAS', ' CENTRE-VAL DE LOIRE',\n",
       "        ' CERRO LARGO', ' CHIHUAHUA', ' CIDADE DE MAPUTO',\n",
       "        ' CITY OF FREEPORT DISTRICT', ' COAHUILA', ' COIMBRA', ' COLORADO',\n",
       "        ' CONNAUGHT', ' CONNECTICUT', ' CORDOBA', ' CORRIENTES',\n",
       "        ' DELAWARE', ' DEMERARA-MAHAICA REGION', ' DEPARTAMENTO CENTRAL',\n",
       "        ' DEPARTAMENTO DE CAAGUAZU', ' DEPARTAMENTO DE CANINDEYU',\n",
       "        ' DEPARTAMENTO DE CASANARE', ' DEPARTAMENTO DE COCHABAMBA',\n",
       "        ' DEPARTAMENTO DE ITAPUA', ' DEPARTAMENTO DE LA CORDILLERA',\n",
       "        ' DEPARTAMENTO DE LA PAZ', ' DEPARTAMENTO DE MASAYA',\n",
       "        ' DEPARTAMENTO DE MISIONES', ' DEPARTAMENTO DE MONTEVIDEO',\n",
       "        ' DEPARTAMENTO DE NEEMBUCU', ' DEPARTAMENTO DE PANDO',\n",
       "        ' DEPARTAMENTO DE PARAGUARI', ' DEPARTAMENTO DE PRESIDENTE HAYES',\n",
       "        ' DEPARTAMENTO DE RIO NEGRO', ' DEPARTAMENTO DE RISARALDA',\n",
       "        ' DEPARTAMENTO DE ROCHA', ' DEPARTAMENTO DE SALTO',\n",
       "        ' DEPARTAMENTO DE SAN JOSE', ' DEPARTAMENTO DE SANTA CRUZ',\n",
       "        ' DEPARTAMENTO DE SANTANDER', ' DEPARTAMENTO DE SUCRE',\n",
       "        ' DEPARTAMENTO DEL ALTO PARANA', ' DEPARTAMENTO DEL AMAMBAY',\n",
       "        ' DEPARTAMENTO DEL GUAIRA', ' DEPARTAMENTO DEL MAGDALENA',\n",
       "        ' DEPARTAMENTO DEL META', ' DISTRICT OF COLUMBIA',\n",
       "        ' DISTRICT OF SETÚBAL', ' DISTRIKT PARAMARIBO', ' DRENTHE',\n",
       "        ' DUBAI', ' EMILIA-ROMAGNA', ' ENGLAND', ' ENTRE RIOS',\n",
       "        ' ESCH-SUR-ALZETTE', ' ESPIRITO SANTO', ' ESTUAIRE',\n",
       "        ' EXTREMADURA', ' FARO', ' FEDERAL DISTRICT', ' FLANDERS',\n",
       "        ' FLORIDA', ' FREE AND HANSEATIC CITY OF HAMBURG', ' FRIBOURG',\n",
       "        ' FUKUI', ' FUKUOKA', ' GABU', ' GALICIA', ' GAUTENG',\n",
       "        ' GELDERLAND', ' GENEVA', ' GEORGIA', ' GIZA', ' GOIAS',\n",
       "        ' GRAND EST', ' GUARDA', ' GYEONGGI-DO', ' HAIFA', ' HAMBURG',\n",
       "        ' HAUTS-DE-FRANCE', ' HAWAII', ' HESSE', ' HLAVNI MESTO PRAHA',\n",
       "        ' HYOGO', ' IDAHO', ' ILES DU VENT', ' ILLINOIS', ' IN-NAXXAR',\n",
       "        ' ISLAMABAD', ' JALISCO', ' JURA', ' KAUNAS', ' LA MASSANA',\n",
       "        ' LA RIOJA', ' LAND BERLIN', ' LATIUM', ' LAZIO', ' LEINSTER',\n",
       "        ' LEIRIA', ' LIMA', ' LISBON', ' LOMBARDY', ' LOUISIANA',\n",
       "        ' LOWER SAXONY', ' LUANDA PROVINCE', ' LUXEMBOURG', ' MADEIRA',\n",
       "        ' MADRE DE DIOS', ' MADRID', ' MALDONADO', ' MANITOBA',\n",
       "        ' MARANHAO', ' MARYLAND', ' MASSACHUSETTS', ' MATO GROSSO',\n",
       "        ' MATO GROSSO DO SUL', ' MECKLENBURG-VORPOMMERN', ' MEXICO CITY',\n",
       "        ' MICHIGAN', ' MIE', ' MINAS GERAIS', ' MINNESOTA', ' MISIONES',\n",
       "        ' MISSISSIPPI', ' MISSOURI', ' MIYAGI', ' MOSTEIROS', ' MUNSTER',\n",
       "        ' MUSCAT', ' MÉXICO', ' NEUCHÂTEL', ' NEUQUEN', ' NEVADA',\n",
       "        ' NEW BRUNSWICK', ' NEW HAMPSHIRE', ' NEW JERSEY',\n",
       "        ' NEW PROVIDENCE DISTRICT', ' NEW SOUTH WALES', ' NEW YORK',\n",
       "        ' NORMANDY', ' NORTH BRABANT', ' NORTH CAROLINA', ' NORTH DAKOTA',\n",
       "        ' NORTH DENMARK', ' NORTH HOLLAND', ' NORTH RHINE-WESTPHALIA',\n",
       "        ' NORTHERN IRELAND', ' NOUVELLE-AQUITAINE', ' NOVA SCOTIA',\n",
       "        ' NUEVO LEÓN', ' NULL', ' OBCINA LASKO', ' OBWALDEN', ' OCCITANIE',\n",
       "        ' OHIO', ' OKLAHOMA', ' ONTARIO', ' ORDINO', ' OREGON', ' OSAKA',\n",
       "        ' OSLO COUNTY', ' OVERIJSSEL', ' PARA', ' PARANA', ' PARAÍBA',\n",
       "        ' PAYS DE LA LOIRE', ' PENNSYLVANIA', ' PERNAMBUCO', ' PEST MEGYE',\n",
       "        ' PHUKET', ' PIAUI', ' PIEDMONT', ' PORTALEGRE', ' PORTO',\n",
       "        \" PROVENCE-ALPES-CÔTE D'AZUR\", ' PROVINCIA DE COLON',\n",
       "        ' PROVINCIA DE PANAMA', ' PROVINCIA DE PICHINCHA',\n",
       "        ' PROVINCIA DE SAN JOSE', ' PROVINCIA DE SANTO DOMINGO',\n",
       "        ' PROVINCIA DUARTE', ' PUEBLA', ' PUNJAB', ' QUEBEC',\n",
       "        ' QUEENSLAND', ' QUERÉTARO', ' QUINTANA ROO', ' RAZGRAD',\n",
       "        ' REGION DE VALPARAISO', ' REGION DEL BIOBIO', ' RHEINLAND-PFALZ',\n",
       "        ' RHODE ISLAND', ' RIO DE JANEIRO', ' RIO GRANDE DO NORTE',\n",
       "        ' RIO GRANDE DO SUL', ' RIO NEGRO', ' RIYADH REGION', ' RONDONIA',\n",
       "        ' RORAIMA', ' SAINT GALLEN', ' SAITAMA', ' SALTA',\n",
       "        ' SANTA CATARINA', ' SANTA FE', ' SANTARÉM',\n",
       "        ' SANTIAGO METROPOLITAN', ' SAO PAULO', ' SARDINIA',\n",
       "        ' SCHAFFHAUSEN', ' SCOTLAND', ' SELANGOR', ' SEOUL', ' SERGIPE',\n",
       "        ' SHIGA', ' SHIMANE', ' SHIZUOKA', ' SICILY', ' SINDH',\n",
       "        ' SKÅNE COUNTY', ' SONGKHLA', ' SOUTH AUSTRALIA',\n",
       "        ' SOUTH CAROLINA', ' SOUTH HOLLAND', ' SOUTHWEST FINLAND',\n",
       "        ' STOCKHOLM COUNTY', ' SUD', ' SÖDERMANLAND COUNTY', ' TARXIEN',\n",
       "        ' TEL AVIV', ' TELANGANA', ' TENNESSEE', ' TEXAS', ' THURINGIA',\n",
       "        ' TOCANTINS', ' TOKYO', ' TOYAMA', ' TRENTINO-ALTO ADIGE',\n",
       "        ' TROMS OG FINNMARK', ' TRØNDELAG', ' TUSCANY', ' ULSTER', ' UTAH',\n",
       "        ' UTRECHT', ' UUSIMAA', ' VALENCIA', ' VALLETTA', ' VAUD',\n",
       "        ' VENETO', ' VERMONT', ' VESTFOLD OG TELEMARK',\n",
       "        ' VIANA DO CASTELO', ' VICTORIA', ' VIKEN', ' VILA REAL',\n",
       "        ' VIRGINIA', ' VISEU', ' WALES', ' WALLONIA', ' WASHINGTON',\n",
       "        ' WESTERN AUSTRALIA', ' WISCONSIN', ' YUCATÁN', ' ZEELAND',\n",
       "        ' ZULIA', ' ZURICH', ' ÉVORA', ' ÎLE-DE-FRANCE', ' ÑUBLE',\n",
       "        'Nenhum'], dtype=object)]"
      ]
     },
     "execution_count": 65,
     "metadata": {},
     "output_type": "execute_result"
    }
   ],
   "source": [
    "ohe.categories_"
   ]
  },
  {
   "cell_type": "code",
   "execution_count": 66,
   "metadata": {
    "colab": {
     "base_uri": "https://localhost:8080/"
    },
    "executionInfo": {
     "elapsed": 24,
     "status": "ok",
     "timestamp": 1660593771800,
     "user": {
      "displayName": "Solano Jacon",
      "userId": "03193064938437592202"
     },
     "user_tz": 180
    },
    "id": "jVia5eiwpMyF",
    "outputId": "95ad80a4-6778-471a-e214-0e72adb77c3e"
   },
   "outputs": [
    {
     "data": {
      "text/plain": [
       "Index(['id_form', 'id_cliente', 'data', 'sistema_operacional', 'navegador',\n",
       "       'localizacao', 'locale', 'cidade', 'estado', 'qtde_lavagem_semana',\n",
       "       ...\n",
       "       'estado_e_ WESTERN AUSTRALIA', 'estado_e_ WISCONSIN',\n",
       "       'estado_e_ YUCATÁN', 'estado_e_ ZEELAND', 'estado_e_ ZULIA',\n",
       "       'estado_e_ ZURICH', 'estado_e_ ÉVORA', 'estado_e_ ÎLE-DE-FRANCE',\n",
       "       'estado_e_ ÑUBLE', 'estado_e_Nenhum'],\n",
       "      dtype='object', length=389)"
      ]
     },
     "execution_count": 66,
     "metadata": {},
     "output_type": "execute_result"
    }
   ],
   "source": [
    "dados.columns"
   ]
  },
  {
   "cell_type": "markdown",
   "metadata": {
    "id": "bF4i-prIpMyF"
   },
   "source": [
    "<b>utm_source</b>"
   ]
  },
  {
   "cell_type": "code",
   "execution_count": 67,
   "metadata": {
    "colab": {
     "base_uri": "https://localhost:8080/"
    },
    "executionInfo": {
     "elapsed": 18,
     "status": "ok",
     "timestamp": 1660593771800,
     "user": {
      "displayName": "Solano Jacon",
      "userId": "03193064938437592202"
     },
     "user_tz": 180
    },
    "id": "QmJC4jsUpMyF",
    "outputId": "e3aabcbf-053e-44b8-eada-c3fb5d0a114e"
   },
   "outputs": [
    {
     "data": {
      "text/plain": [
       "array([nan, 'facebook', 'linktree', 'influencer', 'IGShopping', 'tiktok',\n",
       "       'sf_wpp_flux', 'google', 'instagram', 'incicacao', 'sf_wpp_camp',\n",
       "       'sf_email_camp', 'adwords', 'sf_email_flux', 'site',\n",
       "       'Facebook ads ', 'microinfluencer', 'meliuz', 'sms', 'whatsapp',\n",
       "       'sendinblue', 'telegram', 'salesforce', 'email', 'rakuten', 'cpc',\n",
       "       'sf_wpp_flu', 'copy_link', 'email_sf', 'blog', 'facebook ',\n",
       "       'sf_sms_camp', 'santander', 'all', 'uaubox', 'teste_source',\n",
       "       'popup', 'sf_camp_email', 'sf_'], dtype=object)"
      ]
     },
     "execution_count": 67,
     "metadata": {},
     "output_type": "execute_result"
    }
   ],
   "source": [
    "dados['utm_source'].unique()"
   ]
  },
  {
   "cell_type": "code",
   "execution_count": 68,
   "metadata": {
    "executionInfo": {
     "elapsed": 3842,
     "status": "ok",
     "timestamp": 1660593775626,
     "user": {
      "displayName": "Solano Jacon",
      "userId": "03193064938437592202"
     },
     "user_tz": 180
    },
    "id": "_6OlTtMSpMyF"
   },
   "outputs": [],
   "source": [
    "ohe = OneHotEncoder(sparse=False)\n",
    "column_encoded = ohe.fit_transform(dados[['utm_source']].replace(np.nan, 'Nenhum'))\n",
    "dados['utm_source_e_' + ohe.categories_[0]] = column_encoded"
   ]
  },
  {
   "cell_type": "code",
   "execution_count": 69,
   "metadata": {
    "colab": {
     "base_uri": "https://localhost:8080/"
    },
    "executionInfo": {
     "elapsed": 486,
     "status": "ok",
     "timestamp": 1660593776105,
     "user": {
      "displayName": "Solano Jacon",
      "userId": "03193064938437592202"
     },
     "user_tz": 180
    },
    "id": "l_P7Q-P_pMyG",
    "outputId": "17c5a15c-4d71-4bba-ff90-063e0593e3cc"
   },
   "outputs": [
    {
     "data": {
      "text/plain": [
       "[array(['Facebook ads ', 'IGShopping', 'Nenhum', 'adwords', 'all', 'blog',\n",
       "        'copy_link', 'cpc', 'email', 'email_sf', 'facebook', 'facebook ',\n",
       "        'google', 'incicacao', 'influencer', 'instagram', 'linktree',\n",
       "        'meliuz', 'microinfluencer', 'popup', 'rakuten', 'salesforce',\n",
       "        'santander', 'sendinblue', 'sf_', 'sf_camp_email', 'sf_email_camp',\n",
       "        'sf_email_flux', 'sf_sms_camp', 'sf_wpp_camp', 'sf_wpp_flu',\n",
       "        'sf_wpp_flux', 'site', 'sms', 'telegram', 'teste_source', 'tiktok',\n",
       "        'uaubox', 'whatsapp'], dtype=object)]"
      ]
     },
     "execution_count": 69,
     "metadata": {},
     "output_type": "execute_result"
    }
   ],
   "source": [
    "ohe.categories_"
   ]
  },
  {
   "cell_type": "code",
   "execution_count": 70,
   "metadata": {
    "colab": {
     "base_uri": "https://localhost:8080/"
    },
    "executionInfo": {
     "elapsed": 17,
     "status": "ok",
     "timestamp": 1660593776106,
     "user": {
      "displayName": "Solano Jacon",
      "userId": "03193064938437592202"
     },
     "user_tz": 180
    },
    "id": "w2kugiGZpMyG",
    "outputId": "f098fe02-7cf0-4de6-b77c-12de563d536b"
   },
   "outputs": [
    {
     "data": {
      "text/plain": [
       "Index(['id_form', 'id_cliente', 'data', 'sistema_operacional', 'navegador',\n",
       "       'localizacao', 'locale', 'cidade', 'estado', 'qtde_lavagem_semana',\n",
       "       ...\n",
       "       'utm_source_e_sf_wpp_camp', 'utm_source_e_sf_wpp_flu',\n",
       "       'utm_source_e_sf_wpp_flux', 'utm_source_e_site', 'utm_source_e_sms',\n",
       "       'utm_source_e_telegram', 'utm_source_e_teste_source',\n",
       "       'utm_source_e_tiktok', 'utm_source_e_uaubox', 'utm_source_e_whatsapp'],\n",
       "      dtype='object', length=428)"
      ]
     },
     "execution_count": 70,
     "metadata": {},
     "output_type": "execute_result"
    }
   ],
   "source": [
    "dados.columns"
   ]
  },
  {
   "cell_type": "markdown",
   "metadata": {
    "id": "aAP7yNhQpMyG"
   },
   "source": [
    "<b>tipo_cabelo</b>"
   ]
  },
  {
   "cell_type": "code",
   "execution_count": 71,
   "metadata": {
    "colab": {
     "base_uri": "https://localhost:8080/"
    },
    "executionInfo": {
     "elapsed": 10,
     "status": "ok",
     "timestamp": 1660593776106,
     "user": {
      "displayName": "Solano Jacon",
      "userId": "03193064938437592202"
     },
     "user_tz": 180
    },
    "id": "c7DGROCYpMyG",
    "outputId": "fc4bbf20-1603-4be1-9af6-bd6f219111d0"
   },
   "outputs": [
    {
     "data": {
      "text/plain": [
       "array(['Tipo 2', 'Tipo 4', 'Tipo 1', 'Tipo 3'], dtype=object)"
      ]
     },
     "execution_count": 71,
     "metadata": {},
     "output_type": "execute_result"
    }
   ],
   "source": [
    "dados['tipo_cabelo'].unique()"
   ]
  },
  {
   "cell_type": "code",
   "execution_count": 72,
   "metadata": {
    "executionInfo": {
     "elapsed": 1602,
     "status": "ok",
     "timestamp": 1660593777702,
     "user": {
      "displayName": "Solano Jacon",
      "userId": "03193064938437592202"
     },
     "user_tz": 180
    },
    "id": "psicfrg_pMyG"
   },
   "outputs": [],
   "source": [
    "ohe = OneHotEncoder(sparse=False)\n",
    "column_encoded = ohe.fit_transform(dados[['tipo_cabelo']])\n",
    "dados['tipo_cabelo_e_' + ohe.categories_[0]] = column_encoded"
   ]
  },
  {
   "cell_type": "code",
   "execution_count": 73,
   "metadata": {
    "colab": {
     "base_uri": "https://localhost:8080/"
    },
    "executionInfo": {
     "elapsed": 16,
     "status": "ok",
     "timestamp": 1660593777703,
     "user": {
      "displayName": "Solano Jacon",
      "userId": "03193064938437592202"
     },
     "user_tz": 180
    },
    "id": "oT7uG7yYpMyG",
    "outputId": "e5f2f4c2-b412-4569-ef63-1967bd56e838"
   },
   "outputs": [
    {
     "data": {
      "text/plain": [
       "[array(['Tipo 1', 'Tipo 2', 'Tipo 3', 'Tipo 4'], dtype=object)]"
      ]
     },
     "execution_count": 73,
     "metadata": {},
     "output_type": "execute_result"
    }
   ],
   "source": [
    "ohe.categories_"
   ]
  },
  {
   "cell_type": "code",
   "execution_count": 74,
   "metadata": {
    "colab": {
     "base_uri": "https://localhost:8080/"
    },
    "executionInfo": {
     "elapsed": 13,
     "status": "ok",
     "timestamp": 1660593777704,
     "user": {
      "displayName": "Solano Jacon",
      "userId": "03193064938437592202"
     },
     "user_tz": 180
    },
    "id": "c_S6TfZ-pMyH",
    "outputId": "36806bd9-c061-4166-e68b-31c6bed075eb"
   },
   "outputs": [
    {
     "data": {
      "text/plain": [
       "Index(['id_form', 'id_cliente', 'data', 'sistema_operacional', 'navegador',\n",
       "       'localizacao', 'locale', 'cidade', 'estado', 'qtde_lavagem_semana',\n",
       "       ...\n",
       "       'utm_source_e_sms', 'utm_source_e_telegram',\n",
       "       'utm_source_e_teste_source', 'utm_source_e_tiktok',\n",
       "       'utm_source_e_uaubox', 'utm_source_e_whatsapp', 'tipo_cabelo_e_Tipo 1',\n",
       "       'tipo_cabelo_e_Tipo 2', 'tipo_cabelo_e_Tipo 3', 'tipo_cabelo_e_Tipo 4'],\n",
       "      dtype='object', length=432)"
      ]
     },
     "execution_count": 74,
     "metadata": {},
     "output_type": "execute_result"
    }
   ],
   "source": [
    "dados.columns"
   ]
  },
  {
   "cell_type": "markdown",
   "metadata": {
    "id": "eq336Ub1pMyH"
   },
   "source": [
    "<b>comprimento</b>"
   ]
  },
  {
   "cell_type": "code",
   "execution_count": 75,
   "metadata": {
    "colab": {
     "base_uri": "https://localhost:8080/"
    },
    "executionInfo": {
     "elapsed": 10,
     "status": "ok",
     "timestamp": 1660593777704,
     "user": {
      "displayName": "Solano Jacon",
      "userId": "03193064938437592202"
     },
     "user_tz": 180
    },
    "id": "yV2Y7trzpMyH",
    "outputId": "bbac21ef-1bf7-48da-ea46-4845cf4664e2"
   },
   "outputs": [
    {
     "data": {
      "text/plain": [
       "array(['Raíz exposta', 'Muito curto', 'Extra longo', 'Longo'],\n",
       "      dtype=object)"
      ]
     },
     "execution_count": 75,
     "metadata": {},
     "output_type": "execute_result"
    }
   ],
   "source": [
    "dados['comprimento'].unique()"
   ]
  },
  {
   "cell_type": "code",
   "execution_count": 76,
   "metadata": {
    "executionInfo": {
     "elapsed": 1497,
     "status": "ok",
     "timestamp": 1660593779193,
     "user": {
      "displayName": "Solano Jacon",
      "userId": "03193064938437592202"
     },
     "user_tz": 180
    },
    "id": "LEqaIb7dpMyH"
   },
   "outputs": [],
   "source": [
    "ohe = OneHotEncoder(sparse=False)\n",
    "column_encoded = ohe.fit_transform(dados[['comprimento']])\n",
    "dados['comprimento_e_' + ohe.categories_[0]] = column_encoded"
   ]
  },
  {
   "cell_type": "code",
   "execution_count": 77,
   "metadata": {
    "colab": {
     "base_uri": "https://localhost:8080/"
    },
    "executionInfo": {
     "elapsed": 13,
     "status": "ok",
     "timestamp": 1660593779194,
     "user": {
      "displayName": "Solano Jacon",
      "userId": "03193064938437592202"
     },
     "user_tz": 180
    },
    "id": "xrWC3h9-pMyH",
    "outputId": "d7912302-751f-45f6-a6cf-dfe851727f5f"
   },
   "outputs": [
    {
     "data": {
      "text/plain": [
       "[array(['Extra longo', 'Longo', 'Muito curto', 'Raíz exposta'],\n",
       "       dtype=object)]"
      ]
     },
     "execution_count": 77,
     "metadata": {},
     "output_type": "execute_result"
    }
   ],
   "source": [
    "ohe.categories_"
   ]
  },
  {
   "cell_type": "code",
   "execution_count": 78,
   "metadata": {
    "colab": {
     "base_uri": "https://localhost:8080/"
    },
    "executionInfo": {
     "elapsed": 12,
     "status": "ok",
     "timestamp": 1660593779195,
     "user": {
      "displayName": "Solano Jacon",
      "userId": "03193064938437592202"
     },
     "user_tz": 180
    },
    "id": "zwulOZgYpMyH",
    "outputId": "d74c14c0-5f65-48d5-c382-c89c6ec34e24"
   },
   "outputs": [
    {
     "data": {
      "text/plain": [
       "Index(['id_form', 'id_cliente', 'data', 'sistema_operacional', 'navegador',\n",
       "       'localizacao', 'locale', 'cidade', 'estado', 'qtde_lavagem_semana',\n",
       "       ...\n",
       "       'utm_source_e_uaubox', 'utm_source_e_whatsapp', 'tipo_cabelo_e_Tipo 1',\n",
       "       'tipo_cabelo_e_Tipo 2', 'tipo_cabelo_e_Tipo 3', 'tipo_cabelo_e_Tipo 4',\n",
       "       'comprimento_e_Extra longo', 'comprimento_e_Longo',\n",
       "       'comprimento_e_Muito curto', 'comprimento_e_Raíz exposta'],\n",
       "      dtype='object', length=436)"
      ]
     },
     "execution_count": 78,
     "metadata": {},
     "output_type": "execute_result"
    }
   ],
   "source": [
    "dados.columns"
   ]
  },
  {
   "cell_type": "markdown",
   "metadata": {
    "id": "gPIdU-h3pMyI"
   },
   "source": [
    "<b>tipo_fios</b>"
   ]
  },
  {
   "cell_type": "code",
   "execution_count": 79,
   "metadata": {
    "colab": {
     "base_uri": "https://localhost:8080/"
    },
    "executionInfo": {
     "elapsed": 9,
     "status": "ok",
     "timestamp": 1660593779195,
     "user": {
      "displayName": "Solano Jacon",
      "userId": "03193064938437592202"
     },
     "user_tz": 180
    },
    "id": "W-GqAseBpMyI",
    "outputId": "85b56b02-cd77-488a-ae15-94f1cd6bc545"
   },
   "outputs": [
    {
     "data": {
      "text/plain": [
       "array(['Pontas duplas', 'Perfeitos', 'Rebeldes', 'Secos'], dtype=object)"
      ]
     },
     "execution_count": 79,
     "metadata": {},
     "output_type": "execute_result"
    }
   ],
   "source": [
    "dados['tipo_fios'].unique()"
   ]
  },
  {
   "cell_type": "code",
   "execution_count": 80,
   "metadata": {
    "executionInfo": {
     "elapsed": 1110,
     "status": "ok",
     "timestamp": 1660593780299,
     "user": {
      "displayName": "Solano Jacon",
      "userId": "03193064938437592202"
     },
     "user_tz": 180
    },
    "id": "JT5w4xBqpMyI"
   },
   "outputs": [],
   "source": [
    "ohe = OneHotEncoder(sparse=False)\n",
    "column_encoded = ohe.fit_transform(dados[['tipo_fios']])\n",
    "dados['tipo_fios_e_' + ohe.categories_[0]] = column_encoded"
   ]
  },
  {
   "cell_type": "code",
   "execution_count": 81,
   "metadata": {
    "colab": {
     "base_uri": "https://localhost:8080/"
    },
    "executionInfo": {
     "elapsed": 16,
     "status": "ok",
     "timestamp": 1660593780299,
     "user": {
      "displayName": "Solano Jacon",
      "userId": "03193064938437592202"
     },
     "user_tz": 180
    },
    "id": "AhXkhYmkpMyI",
    "outputId": "e8e13506-20b7-4ebd-92f4-59f5515a51b3"
   },
   "outputs": [
    {
     "data": {
      "text/plain": [
       "[array(['Perfeitos', 'Pontas duplas', 'Rebeldes', 'Secos'], dtype=object)]"
      ]
     },
     "execution_count": 81,
     "metadata": {},
     "output_type": "execute_result"
    }
   ],
   "source": [
    "ohe.categories_"
   ]
  },
  {
   "cell_type": "code",
   "execution_count": 82,
   "metadata": {
    "colab": {
     "base_uri": "https://localhost:8080/"
    },
    "executionInfo": {
     "elapsed": 13,
     "status": "ok",
     "timestamp": 1660593780299,
     "user": {
      "displayName": "Solano Jacon",
      "userId": "03193064938437592202"
     },
     "user_tz": 180
    },
    "id": "UddOOJYOpMyI",
    "outputId": "34b8001d-9a7a-41f7-acd0-ad032e838015"
   },
   "outputs": [
    {
     "data": {
      "text/plain": [
       "Index(['id_form', 'id_cliente', 'data', 'sistema_operacional', 'navegador',\n",
       "       'localizacao', 'locale', 'cidade', 'estado', 'qtde_lavagem_semana',\n",
       "       ...\n",
       "       'tipo_cabelo_e_Tipo 3', 'tipo_cabelo_e_Tipo 4',\n",
       "       'comprimento_e_Extra longo', 'comprimento_e_Longo',\n",
       "       'comprimento_e_Muito curto', 'comprimento_e_Raíz exposta',\n",
       "       'tipo_fios_e_Perfeitos', 'tipo_fios_e_Pontas duplas',\n",
       "       'tipo_fios_e_Rebeldes', 'tipo_fios_e_Secos'],\n",
       "      dtype='object', length=440)"
      ]
     },
     "execution_count": 82,
     "metadata": {},
     "output_type": "execute_result"
    }
   ],
   "source": [
    "dados.columns"
   ]
  },
  {
   "cell_type": "markdown",
   "metadata": {
    "id": "sfBj2SaNpMyI"
   },
   "source": [
    "<b>dieta</b>"
   ]
  },
  {
   "cell_type": "code",
   "execution_count": 83,
   "metadata": {
    "colab": {
     "base_uri": "https://localhost:8080/"
    },
    "executionInfo": {
     "elapsed": 11,
     "status": "ok",
     "timestamp": 1660593780300,
     "user": {
      "displayName": "Solano Jacon",
      "userId": "03193064938437592202"
     },
     "user_tz": 180
    },
    "id": "1RKnngtnpMyI",
    "outputId": "3895bb1c-5bfd-46af-de80-16586f731d2c"
   },
   "outputs": [
    {
     "data": {
      "text/plain": [
       "array(['Celíaca', 'Nenhuma restrição', 'Intolerante a lactose', 'Leve'],\n",
       "      dtype=object)"
      ]
     },
     "execution_count": 83,
     "metadata": {},
     "output_type": "execute_result"
    }
   ],
   "source": [
    "dados['dieta'].unique()"
   ]
  },
  {
   "cell_type": "code",
   "execution_count": 84,
   "metadata": {
    "executionInfo": {
     "elapsed": 1552,
     "status": "ok",
     "timestamp": 1660593782281,
     "user": {
      "displayName": "Solano Jacon",
      "userId": "03193064938437592202"
     },
     "user_tz": 180
    },
    "id": "AS7l1TuXpMyJ"
   },
   "outputs": [],
   "source": [
    "ohe = OneHotEncoder(sparse=False)\n",
    "column_encoded = ohe.fit_transform(dados[['dieta']])\n",
    "dados['dieta_e_' + ohe.categories_[0]] = column_encoded"
   ]
  },
  {
   "cell_type": "code",
   "execution_count": 85,
   "metadata": {
    "colab": {
     "base_uri": "https://localhost:8080/"
    },
    "executionInfo": {
     "elapsed": 13,
     "status": "ok",
     "timestamp": 1660593782282,
     "user": {
      "displayName": "Solano Jacon",
      "userId": "03193064938437592202"
     },
     "user_tz": 180
    },
    "id": "1x4vPK9rpMyJ",
    "outputId": "3a09ac1e-bcad-4d39-f4bc-58e20729bc95"
   },
   "outputs": [
    {
     "data": {
      "text/plain": [
       "[array(['Celíaca', 'Intolerante a lactose', 'Leve', 'Nenhuma restrição'],\n",
       "       dtype=object)]"
      ]
     },
     "execution_count": 85,
     "metadata": {},
     "output_type": "execute_result"
    }
   ],
   "source": [
    "ohe.categories_"
   ]
  },
  {
   "cell_type": "code",
   "execution_count": 86,
   "metadata": {
    "colab": {
     "base_uri": "https://localhost:8080/"
    },
    "executionInfo": {
     "elapsed": 10,
     "status": "ok",
     "timestamp": 1660593782282,
     "user": {
      "displayName": "Solano Jacon",
      "userId": "03193064938437592202"
     },
     "user_tz": 180
    },
    "id": "cdNonjFypMyJ",
    "outputId": "b8b91644-aef3-4ff2-8079-bcba1100fc47"
   },
   "outputs": [
    {
     "data": {
      "text/plain": [
       "Index(['id_form', 'id_cliente', 'data', 'sistema_operacional', 'navegador',\n",
       "       'localizacao', 'locale', 'cidade', 'estado', 'qtde_lavagem_semana',\n",
       "       ...\n",
       "       'comprimento_e_Muito curto', 'comprimento_e_Raíz exposta',\n",
       "       'tipo_fios_e_Perfeitos', 'tipo_fios_e_Pontas duplas',\n",
       "       'tipo_fios_e_Rebeldes', 'tipo_fios_e_Secos', 'dieta_e_Celíaca',\n",
       "       'dieta_e_Intolerante a lactose', 'dieta_e_Leve',\n",
       "       'dieta_e_Nenhuma restrição'],\n",
       "      dtype='object', length=444)"
      ]
     },
     "execution_count": 86,
     "metadata": {},
     "output_type": "execute_result"
    }
   ],
   "source": [
    "dados.columns"
   ]
  },
  {
   "cell_type": "markdown",
   "metadata": {
    "id": "iEyMlE8bpMyJ"
   },
   "source": [
    "<b>atividade_fisica</b>"
   ]
  },
  {
   "cell_type": "code",
   "execution_count": 87,
   "metadata": {
    "colab": {
     "base_uri": "https://localhost:8080/"
    },
    "executionInfo": {
     "elapsed": 7,
     "status": "ok",
     "timestamp": 1660593782282,
     "user": {
      "displayName": "Solano Jacon",
      "userId": "03193064938437592202"
     },
     "user_tz": 180
    },
    "id": "2oo9oOjupMyJ",
    "outputId": "e0765f71-451c-4e68-84c5-6290ee9fd9ce"
   },
   "outputs": [
    {
     "data": {
      "text/plain": [
       "array(['Frequente', 'Nunca', 'Raramente', 'Sempre', 'N/C'], dtype=object)"
      ]
     },
     "execution_count": 87,
     "metadata": {},
     "output_type": "execute_result"
    }
   ],
   "source": [
    "dados['atividade_fisica'].unique()"
   ]
  },
  {
   "cell_type": "code",
   "execution_count": 88,
   "metadata": {
    "executionInfo": {
     "elapsed": 741,
     "status": "ok",
     "timestamp": 1660593783018,
     "user": {
      "displayName": "Solano Jacon",
      "userId": "03193064938437592202"
     },
     "user_tz": 180
    },
    "id": "dOwL2VfFpMyJ"
   },
   "outputs": [],
   "source": [
    "ohe = OneHotEncoder(sparse=False)\n",
    "column_encoded = ohe.fit_transform(dados[['atividade_fisica']])\n",
    "dados['atividade_fisica_e_' + ohe.categories_[0]] = column_encoded"
   ]
  },
  {
   "cell_type": "code",
   "execution_count": 89,
   "metadata": {
    "colab": {
     "base_uri": "https://localhost:8080/"
    },
    "executionInfo": {
     "elapsed": 10,
     "status": "ok",
     "timestamp": 1660593783018,
     "user": {
      "displayName": "Solano Jacon",
      "userId": "03193064938437592202"
     },
     "user_tz": 180
    },
    "id": "Lyb9_o3wpMyK",
    "outputId": "04ed50ec-f268-4649-9f93-d36cc2852281"
   },
   "outputs": [
    {
     "data": {
      "text/plain": [
       "[array(['Frequente', 'N/C', 'Nunca', 'Raramente', 'Sempre'], dtype=object)]"
      ]
     },
     "execution_count": 89,
     "metadata": {},
     "output_type": "execute_result"
    }
   ],
   "source": [
    "ohe.categories_"
   ]
  },
  {
   "cell_type": "code",
   "execution_count": 90,
   "metadata": {
    "colab": {
     "base_uri": "https://localhost:8080/"
    },
    "executionInfo": {
     "elapsed": 412,
     "status": "ok",
     "timestamp": 1660593783424,
     "user": {
      "displayName": "Solano Jacon",
      "userId": "03193064938437592202"
     },
     "user_tz": 180
    },
    "id": "8P6zRFZFpMyK",
    "outputId": "2bf793ae-6048-4606-8fbb-ba35b3d71f6f"
   },
   "outputs": [
    {
     "data": {
      "text/plain": [
       "Index(['id_form', 'id_cliente', 'data', 'sistema_operacional', 'navegador',\n",
       "       'localizacao', 'locale', 'cidade', 'estado', 'qtde_lavagem_semana',\n",
       "       ...\n",
       "       'tipo_fios_e_Secos', 'dieta_e_Celíaca', 'dieta_e_Intolerante a lactose',\n",
       "       'dieta_e_Leve', 'dieta_e_Nenhuma restrição',\n",
       "       'atividade_fisica_e_Frequente', 'atividade_fisica_e_N/C',\n",
       "       'atividade_fisica_e_Nunca', 'atividade_fisica_e_Raramente',\n",
       "       'atividade_fisica_e_Sempre'],\n",
       "      dtype='object', length=449)"
      ]
     },
     "execution_count": 90,
     "metadata": {},
     "output_type": "execute_result"
    }
   ],
   "source": [
    "dados.columns"
   ]
  },
  {
   "cell_type": "markdown",
   "metadata": {
    "id": "gTPeEO_cpMyK"
   },
   "source": [
    "<b>frequencia_estresse</b>"
   ]
  },
  {
   "cell_type": "code",
   "execution_count": 91,
   "metadata": {
    "colab": {
     "base_uri": "https://localhost:8080/"
    },
    "executionInfo": {
     "elapsed": 8,
     "status": "ok",
     "timestamp": 1660593783424,
     "user": {
      "displayName": "Solano Jacon",
      "userId": "03193064938437592202"
     },
     "user_tz": 180
    },
    "id": "RnHvGWNMpMyK",
    "outputId": "48841e50-c3a8-4e59-eb99-eadf5700871f"
   },
   "outputs": [
    {
     "data": {
      "text/plain": [
       "array(['Nunca', 'Regularmente', 'Quase sempre', 'Uma vez por mês'],\n",
       "      dtype=object)"
      ]
     },
     "execution_count": 91,
     "metadata": {},
     "output_type": "execute_result"
    }
   ],
   "source": [
    "dados['frequencia_estresse'].unique()"
   ]
  },
  {
   "cell_type": "code",
   "execution_count": 92,
   "metadata": {
    "executionInfo": {
     "elapsed": 1173,
     "status": "ok",
     "timestamp": 1660593784591,
     "user": {
      "displayName": "Solano Jacon",
      "userId": "03193064938437592202"
     },
     "user_tz": 180
    },
    "id": "xlrKboilpMyK"
   },
   "outputs": [],
   "source": [
    "ohe = OneHotEncoder(sparse=False)\n",
    "column_encoded = ohe.fit_transform(dados[['frequencia_estresse']])\n",
    "dados['frequencia_estresse_e_' + ohe.categories_[0]] = column_encoded"
   ]
  },
  {
   "cell_type": "code",
   "execution_count": 93,
   "metadata": {
    "colab": {
     "base_uri": "https://localhost:8080/"
    },
    "executionInfo": {
     "elapsed": 13,
     "status": "ok",
     "timestamp": 1660593784592,
     "user": {
      "displayName": "Solano Jacon",
      "userId": "03193064938437592202"
     },
     "user_tz": 180
    },
    "id": "Nt5lXWtSpMyK",
    "outputId": "8a69b5ed-6b11-4308-c7ed-56f83dfb4850"
   },
   "outputs": [
    {
     "data": {
      "text/plain": [
       "[array(['Nunca', 'Quase sempre', 'Regularmente', 'Uma vez por mês'],\n",
       "       dtype=object)]"
      ]
     },
     "execution_count": 93,
     "metadata": {},
     "output_type": "execute_result"
    }
   ],
   "source": [
    "ohe.categories_"
   ]
  },
  {
   "cell_type": "code",
   "execution_count": 94,
   "metadata": {
    "colab": {
     "base_uri": "https://localhost:8080/"
    },
    "executionInfo": {
     "elapsed": 9,
     "status": "ok",
     "timestamp": 1660593784592,
     "user": {
      "displayName": "Solano Jacon",
      "userId": "03193064938437592202"
     },
     "user_tz": 180
    },
    "id": "6l9p8w0IpMyL",
    "outputId": "a1b97416-ad26-4da9-da14-df2db9a323aa"
   },
   "outputs": [
    {
     "data": {
      "text/plain": [
       "Index(['id_form', 'id_cliente', 'data', 'sistema_operacional', 'navegador',\n",
       "       'localizacao', 'locale', 'cidade', 'estado', 'qtde_lavagem_semana',\n",
       "       ...\n",
       "       'dieta_e_Nenhuma restrição', 'atividade_fisica_e_Frequente',\n",
       "       'atividade_fisica_e_N/C', 'atividade_fisica_e_Nunca',\n",
       "       'atividade_fisica_e_Raramente', 'atividade_fisica_e_Sempre',\n",
       "       'frequencia_estresse_e_Nunca', 'frequencia_estresse_e_Quase sempre',\n",
       "       'frequencia_estresse_e_Regularmente',\n",
       "       'frequencia_estresse_e_Uma vez por mês'],\n",
       "      dtype='object', length=453)"
      ]
     },
     "execution_count": 94,
     "metadata": {},
     "output_type": "execute_result"
    }
   ],
   "source": [
    "dados.columns"
   ]
  },
  {
   "cell_type": "markdown",
   "metadata": {
    "id": "RW4kXe3HpMyL"
   },
   "source": [
    "### Scaling"
   ]
  },
  {
   "cell_type": "markdown",
   "metadata": {
    "id": "OMNrwAF3pMyL"
   },
   "source": [
    "<b>qtde_lavagem_semana</b>"
   ]
  },
  {
   "cell_type": "code",
   "execution_count": 95,
   "metadata": {
    "colab": {
     "base_uri": "https://localhost:8080/",
     "height": 424
    },
    "executionInfo": {
     "elapsed": 2277,
     "status": "ok",
     "timestamp": 1660593786864,
     "user": {
      "displayName": "Solano Jacon",
      "userId": "03193064938437592202"
     },
     "user_tz": 180
    },
    "id": "QX-zNjS0pMyL",
    "outputId": "38f09318-5d15-428f-ddf6-c4439ef7d252"
   },
   "outputs": [
    {
     "data": {
      "text/html": [
       "\n",
       "  <div id=\"df-30ae59a4-0cef-428c-b775-01090203a2cc\">\n",
       "    <div class=\"colab-df-container\">\n",
       "      <div>\n",
       "<style scoped>\n",
       "    .dataframe tbody tr th:only-of-type {\n",
       "        vertical-align: middle;\n",
       "    }\n",
       "\n",
       "    .dataframe tbody tr th {\n",
       "        vertical-align: top;\n",
       "    }\n",
       "\n",
       "    .dataframe thead th {\n",
       "        text-align: right;\n",
       "    }\n",
       "</style>\n",
       "<table border=\"1\" class=\"dataframe\">\n",
       "  <thead>\n",
       "    <tr style=\"text-align: right;\">\n",
       "      <th></th>\n",
       "      <th>qtde_lavagem_semana</th>\n",
       "      <th>qtde_lavagem_semana_std</th>\n",
       "    </tr>\n",
       "  </thead>\n",
       "  <tbody>\n",
       "    <tr>\n",
       "      <th>0</th>\n",
       "      <td>4</td>\n",
       "      <td>0.500000</td>\n",
       "    </tr>\n",
       "    <tr>\n",
       "      <th>1</th>\n",
       "      <td>4</td>\n",
       "      <td>0.500000</td>\n",
       "    </tr>\n",
       "    <tr>\n",
       "      <th>2</th>\n",
       "      <td>4</td>\n",
       "      <td>0.500000</td>\n",
       "    </tr>\n",
       "    <tr>\n",
       "      <th>3</th>\n",
       "      <td>4</td>\n",
       "      <td>0.500000</td>\n",
       "    </tr>\n",
       "    <tr>\n",
       "      <th>4</th>\n",
       "      <td>7</td>\n",
       "      <td>1.000000</td>\n",
       "    </tr>\n",
       "    <tr>\n",
       "      <th>...</th>\n",
       "      <td>...</td>\n",
       "      <td>...</td>\n",
       "    </tr>\n",
       "    <tr>\n",
       "      <th>585467</th>\n",
       "      <td>4</td>\n",
       "      <td>0.500000</td>\n",
       "    </tr>\n",
       "    <tr>\n",
       "      <th>585468</th>\n",
       "      <td>1</td>\n",
       "      <td>0.000000</td>\n",
       "    </tr>\n",
       "    <tr>\n",
       "      <th>585469</th>\n",
       "      <td>7</td>\n",
       "      <td>1.000000</td>\n",
       "    </tr>\n",
       "    <tr>\n",
       "      <th>585470</th>\n",
       "      <td>4</td>\n",
       "      <td>0.500000</td>\n",
       "    </tr>\n",
       "    <tr>\n",
       "      <th>585471</th>\n",
       "      <td>6</td>\n",
       "      <td>0.833333</td>\n",
       "    </tr>\n",
       "  </tbody>\n",
       "</table>\n",
       "<p>585472 rows × 2 columns</p>\n",
       "</div>\n",
       "      <button class=\"colab-df-convert\" onclick=\"convertToInteractive('df-30ae59a4-0cef-428c-b775-01090203a2cc')\"\n",
       "              title=\"Convert this dataframe to an interactive table.\"\n",
       "              style=\"display:none;\">\n",
       "        \n",
       "  <svg xmlns=\"http://www.w3.org/2000/svg\" height=\"24px\"viewBox=\"0 0 24 24\"\n",
       "       width=\"24px\">\n",
       "    <path d=\"M0 0h24v24H0V0z\" fill=\"none\"/>\n",
       "    <path d=\"M18.56 5.44l.94 2.06.94-2.06 2.06-.94-2.06-.94-.94-2.06-.94 2.06-2.06.94zm-11 1L8.5 8.5l.94-2.06 2.06-.94-2.06-.94L8.5 2.5l-.94 2.06-2.06.94zm10 10l.94 2.06.94-2.06 2.06-.94-2.06-.94-.94-2.06-.94 2.06-2.06.94z\"/><path d=\"M17.41 7.96l-1.37-1.37c-.4-.4-.92-.59-1.43-.59-.52 0-1.04.2-1.43.59L10.3 9.45l-7.72 7.72c-.78.78-.78 2.05 0 2.83L4 21.41c.39.39.9.59 1.41.59.51 0 1.02-.2 1.41-.59l7.78-7.78 2.81-2.81c.8-.78.8-2.07 0-2.86zM5.41 20L4 18.59l7.72-7.72 1.47 1.35L5.41 20z\"/>\n",
       "  </svg>\n",
       "      </button>\n",
       "      \n",
       "  <style>\n",
       "    .colab-df-container {\n",
       "      display:flex;\n",
       "      flex-wrap:wrap;\n",
       "      gap: 12px;\n",
       "    }\n",
       "\n",
       "    .colab-df-convert {\n",
       "      background-color: #E8F0FE;\n",
       "      border: none;\n",
       "      border-radius: 50%;\n",
       "      cursor: pointer;\n",
       "      display: none;\n",
       "      fill: #1967D2;\n",
       "      height: 32px;\n",
       "      padding: 0 0 0 0;\n",
       "      width: 32px;\n",
       "    }\n",
       "\n",
       "    .colab-df-convert:hover {\n",
       "      background-color: #E2EBFA;\n",
       "      box-shadow: 0px 1px 2px rgba(60, 64, 67, 0.3), 0px 1px 3px 1px rgba(60, 64, 67, 0.15);\n",
       "      fill: #174EA6;\n",
       "    }\n",
       "\n",
       "    [theme=dark] .colab-df-convert {\n",
       "      background-color: #3B4455;\n",
       "      fill: #D2E3FC;\n",
       "    }\n",
       "\n",
       "    [theme=dark] .colab-df-convert:hover {\n",
       "      background-color: #434B5C;\n",
       "      box-shadow: 0px 1px 3px 1px rgba(0, 0, 0, 0.15);\n",
       "      filter: drop-shadow(0px 1px 2px rgba(0, 0, 0, 0.3));\n",
       "      fill: #FFFFFF;\n",
       "    }\n",
       "  </style>\n",
       "\n",
       "      <script>\n",
       "        const buttonEl =\n",
       "          document.querySelector('#df-30ae59a4-0cef-428c-b775-01090203a2cc button.colab-df-convert');\n",
       "        buttonEl.style.display =\n",
       "          google.colab.kernel.accessAllowed ? 'block' : 'none';\n",
       "\n",
       "        async function convertToInteractive(key) {\n",
       "          const element = document.querySelector('#df-30ae59a4-0cef-428c-b775-01090203a2cc');\n",
       "          const dataTable =\n",
       "            await google.colab.kernel.invokeFunction('convertToInteractive',\n",
       "                                                     [key], {});\n",
       "          if (!dataTable) return;\n",
       "\n",
       "          const docLinkHtml = 'Like what you see? Visit the ' +\n",
       "            '<a target=\"_blank\" href=https://colab.research.google.com/notebooks/data_table.ipynb>data table notebook</a>'\n",
       "            + ' to learn more about interactive tables.';\n",
       "          element.innerHTML = '';\n",
       "          dataTable['output_type'] = 'display_data';\n",
       "          await google.colab.output.renderOutput(dataTable, element);\n",
       "          const docLink = document.createElement('div');\n",
       "          docLink.innerHTML = docLinkHtml;\n",
       "          element.appendChild(docLink);\n",
       "        }\n",
       "      </script>\n",
       "    </div>\n",
       "  </div>\n",
       "  "
      ],
      "text/plain": [
       "        qtde_lavagem_semana  qtde_lavagem_semana_std\n",
       "0                         4                 0.500000\n",
       "1                         4                 0.500000\n",
       "2                         4                 0.500000\n",
       "3                         4                 0.500000\n",
       "4                         7                 1.000000\n",
       "...                     ...                      ...\n",
       "585467                    4                 0.500000\n",
       "585468                    1                 0.000000\n",
       "585469                    7                 1.000000\n",
       "585470                    4                 0.500000\n",
       "585471                    6                 0.833333\n",
       "\n",
       "[585472 rows x 2 columns]"
      ]
     },
     "execution_count": 95,
     "metadata": {},
     "output_type": "execute_result"
    }
   ],
   "source": [
    "mms = MinMaxScaler()\n",
    "mms.fit(dados[['qtde_lavagem_semana']])\n",
    "dados['qtde_lavagem_semana_std'] = mms.transform(dados[['qtde_lavagem_semana']])\n",
    "dados[['qtde_lavagem_semana', 'qtde_lavagem_semana_std']]"
   ]
  },
  {
   "cell_type": "markdown",
   "metadata": {
    "id": "nWxOa3sjpMyL"
   },
   "source": [
    "## Separação de bases para treinar e efetuar o crossvalidation / <i>Separation of bases for training and crossvalidation</i>"
   ]
  },
  {
   "cell_type": "markdown",
   "metadata": {
    "id": "3reespSrpMyL"
   },
   "source": [
    "### Separação de uma amostra dos dados para avaliação dos modelos / <i>Separation of a sample of data for evaluation of models</i>"
   ]
  },
  {
   "cell_type": "code",
   "execution_count": 96,
   "metadata": {
    "executionInfo": {
     "elapsed": 316,
     "status": "ok",
     "timestamp": 1660593787171,
     "user": {
      "displayName": "Solano Jacon",
      "userId": "03193064938437592202"
     },
     "user_tz": 180
    },
    "id": "EIWQYe9ypMyM"
   },
   "outputs": [],
   "source": [
    "dados_amostra = dados.sample(frac=0.02, random_state=42)\n",
    "\n",
    "X = dados_amostra.drop(columns=['id_form', 'id_cliente', 'data', 'navegador', 'localizacao', 'locale', 'cidade', 'fragancia', 'id_pedido', 'id', \\\n",
    "                                'tempo_procedimento', 'faixa_etaria', 'procedimentos', 'caracteristica', 'efeitos_desejados', 'efeitos_desejados_modificado', \\\n",
    "                                'sistema_operacional', 'estado', 'utm_source', 'tipo_cabelo', 'comprimento', 'tipo_fios', 'dieta', 'atividade_fisica', 'frequencia_estresse', \\\n",
    "                                'qtde_lavagem_semana', \\\n",
    "                                'pedido'])\n",
    "\n",
    "y = dados_amostra['pedido']"
   ]
  },
  {
   "cell_type": "markdown",
   "metadata": {
    "id": "VCVymw72pMyM"
   },
   "source": [
    "### Análise de desempenho de vários modelos com sua configuração padrão / <i>Performance analysis of various models with their default configuration</i>"
   ]
  },
  {
   "cell_type": "code",
   "execution_count": 97,
   "metadata": {
    "colab": {
     "base_uri": "https://localhost:8080/"
    },
    "executionInfo": {
     "elapsed": 20,
     "status": "ok",
     "timestamp": 1660593787172,
     "user": {
      "displayName": "Solano Jacon",
      "userId": "03193064938437592202"
     },
     "user_tz": 180
    },
    "id": "rRTIpaW4pMyM",
    "outputId": "4aff97b4-c13d-40f4-d2cb-85c06193e862"
   },
   "outputs": [
    {
     "name": "stdout",
     "output_type": "stream",
     "text": [
      "Accuracy = 0.64\n",
      "Precision = 0.0\n",
      "Recall = 0.0\n",
      "F1 score = 0.0\n"
     ]
    }
   ],
   "source": [
    "model = DummyClassifier(random_state=42)\n",
    "cv_results = cross_validate(model, X, y, cv=5, scoring=['accuracy', 'precision', 'recall', 'f1'])\n",
    "\n",
    "print('Accuracy =', round(cv_results['test_accuracy'].mean(), 2))\n",
    "print('Precision =', round(cv_results['test_precision'].mean(), 2))\n",
    "print('Recall =', round(cv_results['test_recall'].mean(), 2))\n",
    "print('F1 score =', round(cv_results['test_f1'].mean(), 2))"
   ]
  },
  {
   "cell_type": "code",
   "execution_count": 98,
   "metadata": {
    "colab": {
     "base_uri": "https://localhost:8080/"
    },
    "executionInfo": {
     "elapsed": 5677,
     "status": "ok",
     "timestamp": 1660593792835,
     "user": {
      "displayName": "Solano Jacon",
      "userId": "03193064938437592202"
     },
     "user_tz": 180
    },
    "id": "QcBvelLtpMyM",
    "outputId": "b85c72f5-455b-4e36-df09-35dfe4c98903"
   },
   "outputs": [
    {
     "name": "stdout",
     "output_type": "stream",
     "text": [
      "Accuracy = 0.66\n",
      "Precision = 0.56\n",
      "Recall = 0.24\n",
      "F1 score = 0.33\n"
     ]
    }
   ],
   "source": [
    "model = LogisticRegression(random_state=42)\n",
    "cv_results = cross_validate(model, X, y, cv=5, scoring=['accuracy', 'precision', 'recall', 'f1'])\n",
    "\n",
    "print('Accuracy =', round(cv_results['test_accuracy'].mean(), 2))\n",
    "print('Precision =', round(cv_results['test_precision'].mean(), 2))\n",
    "print('Recall =', round(cv_results['test_recall'].mean(), 2))\n",
    "print('F1 score =', round(cv_results['test_f1'].mean(), 2))"
   ]
  },
  {
   "cell_type": "code",
   "execution_count": 99,
   "metadata": {
    "colab": {
     "base_uri": "https://localhost:8080/"
    },
    "executionInfo": {
     "elapsed": 5713,
     "status": "ok",
     "timestamp": 1660593798521,
     "user": {
      "displayName": "Solano Jacon",
      "userId": "03193064938437592202"
     },
     "user_tz": 180
    },
    "id": "WDFeAL37pMyM",
    "outputId": "95ac0727-06f7-4e29-e8de-22be317e99de"
   },
   "outputs": [
    {
     "name": "stdout",
     "output_type": "stream",
     "text": [
      "Accuracy = 0.6\n",
      "Precision = 0.42\n",
      "Recall = 0.3\n",
      "F1 score = 0.35\n"
     ]
    }
   ],
   "source": [
    "model = KNeighborsClassifier()\n",
    "cv_results = cross_validate(model, X, y, cv=5, scoring=['accuracy', 'precision', 'recall', 'f1'])\n",
    "\n",
    "print('Accuracy =', round(cv_results['test_accuracy'].mean(), 2))\n",
    "print('Precision =', round(cv_results['test_precision'].mean(), 2))\n",
    "print('Recall =', round(cv_results['test_recall'].mean(), 2))\n",
    "print('F1 score =', round(cv_results['test_f1'].mean(), 2))"
   ]
  },
  {
   "cell_type": "code",
   "execution_count": 100,
   "metadata": {
    "colab": {
     "base_uri": "https://localhost:8080/"
    },
    "executionInfo": {
     "elapsed": 5553,
     "status": "ok",
     "timestamp": 1660593804061,
     "user": {
      "displayName": "Solano Jacon",
      "userId": "03193064938437592202"
     },
     "user_tz": 180
    },
    "id": "AGSIHhHvpMyM",
    "outputId": "884bb604-2583-4cf5-9192-86bbbb0fdb9c"
   },
   "outputs": [
    {
     "name": "stdout",
     "output_type": "stream",
     "text": [
      "Accuracy = 0.61\n",
      "Precision = 0.57\n",
      "Recall = 0.23\n",
      "F1 score = 0.21\n"
     ]
    }
   ],
   "source": [
    "model = SGDClassifier(random_state=42)\n",
    "cv_results = cross_validate(model, X, y, cv=5, scoring=['accuracy', 'precision', 'recall', 'f1'])\n",
    "\n",
    "print('Accuracy =', round(cv_results['test_accuracy'].mean(), 2))\n",
    "print('Precision =', round(cv_results['test_precision'].mean(), 2))\n",
    "print('Recall =', round(cv_results['test_recall'].mean(), 2))\n",
    "print('F1 score =', round(cv_results['test_f1'].mean(), 2))"
   ]
  },
  {
   "cell_type": "code",
   "execution_count": 101,
   "metadata": {
    "colab": {
     "base_uri": "https://localhost:8080/"
    },
    "executionInfo": {
     "elapsed": 220272,
     "status": "ok",
     "timestamp": 1660594024321,
     "user": {
      "displayName": "Solano Jacon",
      "userId": "03193064938437592202"
     },
     "user_tz": 180
    },
    "id": "rHVOiuSCpMyN",
    "outputId": "df66277b-85c3-4a85-dc34-fcefc0d8c321"
   },
   "outputs": [
    {
     "name": "stdout",
     "output_type": "stream",
     "text": [
      "Accuracy = 0.65\n",
      "Precision = 0.63\n",
      "Recall = 0.06\n",
      "F1 score = 0.11\n"
     ]
    }
   ],
   "source": [
    "model = SVC(random_state=42)\n",
    "cv_results = cross_validate(model, X, y, cv=5, scoring=['accuracy', 'precision', 'recall', 'f1'])\n",
    "\n",
    "print('Accuracy =', round(cv_results['test_accuracy'].mean(), 2))\n",
    "print('Precision =', round(cv_results['test_precision'].mean(), 2))\n",
    "print('Recall =', round(cv_results['test_recall'].mean(), 2))\n",
    "print('F1 score =', round(cv_results['test_f1'].mean(), 2))"
   ]
  },
  {
   "cell_type": "code",
   "execution_count": 102,
   "metadata": {
    "colab": {
     "base_uri": "https://localhost:8080/"
    },
    "executionInfo": {
     "elapsed": 1235,
     "status": "ok",
     "timestamp": 1660594025553,
     "user": {
      "displayName": "Solano Jacon",
      "userId": "03193064938437592202"
     },
     "user_tz": 180
    },
    "id": "pbU07Ow6pMyN",
    "outputId": "3ecc638d-3eb8-458b-a5d2-b28760e1b183"
   },
   "outputs": [
    {
     "name": "stdout",
     "output_type": "stream",
     "text": [
      "Accuracy = 0.58\n",
      "Precision = 0.42\n",
      "Recall = 0.44\n",
      "F1 score = 0.43\n"
     ]
    }
   ],
   "source": [
    "model = DecisionTreeClassifier(random_state=42)\n",
    "cv_results = cross_validate(model, X, y, cv=5, scoring=['accuracy', 'precision', 'recall', 'f1'])\n",
    "\n",
    "print('Accuracy =', round(cv_results['test_accuracy'].mean(), 2))\n",
    "print('Precision =', round(cv_results['test_precision'].mean(), 2))\n",
    "print('Recall =', round(cv_results['test_recall'].mean(), 2))\n",
    "print('F1 score =', round(cv_results['test_f1'].mean(), 2))"
   ]
  },
  {
   "cell_type": "code",
   "execution_count": 103,
   "metadata": {
    "colab": {
     "base_uri": "https://localhost:8080/"
    },
    "executionInfo": {
     "elapsed": 14313,
     "status": "ok",
     "timestamp": 1660594039856,
     "user": {
      "displayName": "Solano Jacon",
      "userId": "03193064938437592202"
     },
     "user_tz": 180
    },
    "id": "E2xLLmy8pMyN",
    "outputId": "aa361ab8-5e8a-46b9-e348-bd7d7e02f991"
   },
   "outputs": [
    {
     "name": "stdout",
     "output_type": "stream",
     "text": [
      "Accuracy = 0.66\n",
      "Precision = 0.6\n",
      "Recall = 0.16\n",
      "F1 score = 0.25\n"
     ]
    }
   ],
   "source": [
    "model = RandomForestClassifier(random_state=42)\n",
    "cv_results = cross_validate(model, X, y, cv=5, scoring=['accuracy', 'precision', 'recall', 'f1'])\n",
    "\n",
    "print('Accuracy =', round(cv_results['test_accuracy'].mean(), 2))\n",
    "print('Precision =', round(cv_results['test_precision'].mean(), 2))\n",
    "print('Recall =', round(cv_results['test_recall'].mean(), 2))\n",
    "print('F1 score =', round(cv_results['test_f1'].mean(), 2))"
   ]
  },
  {
   "cell_type": "code",
   "execution_count": 104,
   "metadata": {
    "colab": {
     "base_uri": "https://localhost:8080/"
    },
    "executionInfo": {
     "elapsed": 10736,
     "status": "ok",
     "timestamp": 1660594050563,
     "user": {
      "displayName": "Solano Jacon",
      "userId": "03193064938437592202"
     },
     "user_tz": 180
    },
    "id": "pX8DyofrpMyN",
    "outputId": "46279368-9f7a-46d7-86fe-b5f441312e5b"
   },
   "outputs": [
    {
     "name": "stdout",
     "output_type": "stream",
     "text": [
      "Accuracy = 0.65\n",
      "Precision = 0.54\n",
      "Recall = 0.24\n",
      "F1 score = 0.34\n"
     ]
    }
   ],
   "source": [
    "model = AdaBoostClassifier(random_state=42)\n",
    "cv_results = cross_validate(model, X, y, cv=5, scoring=['accuracy', 'precision', 'recall', 'f1'])\n",
    "\n",
    "print('Accuracy =', round(cv_results['test_accuracy'].mean(), 2))\n",
    "print('Precision =', round(cv_results['test_precision'].mean(), 2))\n",
    "print('Recall =', round(cv_results['test_recall'].mean(), 2))\n",
    "print('F1 score =', round(cv_results['test_f1'].mean(), 2))"
   ]
  },
  {
   "cell_type": "code",
   "execution_count": 105,
   "metadata": {
    "colab": {
     "base_uri": "https://localhost:8080/"
    },
    "executionInfo": {
     "elapsed": 16579,
     "status": "ok",
     "timestamp": 1660594067137,
     "user": {
      "displayName": "Solano Jacon",
      "userId": "03193064938437592202"
     },
     "user_tz": 180
    },
    "id": "AhXWDwu0pMyO",
    "outputId": "c6d2decb-50bd-41af-fdb4-6f897da9ff79"
   },
   "outputs": [
    {
     "name": "stdout",
     "output_type": "stream",
     "text": [
      "Accuracy = 0.65\n",
      "Precision = 0.56\n",
      "Recall = 0.17\n",
      "F1 score = 0.27\n"
     ]
    }
   ],
   "source": [
    "model = GradientBoostingClassifier(random_state=42)\n",
    "cv_results = cross_validate(model, X, y, cv=5, scoring=['accuracy', 'precision', 'recall', 'f1'])\n",
    "\n",
    "print('Accuracy =', round(cv_results['test_accuracy'].mean(), 2))\n",
    "print('Precision =', round(cv_results['test_precision'].mean(), 2))\n",
    "print('Recall =', round(cv_results['test_recall'].mean(), 2))\n",
    "print('F1 score =', round(cv_results['test_f1'].mean(), 2))"
   ]
  },
  {
   "cell_type": "code",
   "execution_count": 106,
   "metadata": {
    "colab": {
     "base_uri": "https://localhost:8080/"
    },
    "executionInfo": {
     "elapsed": 39123,
     "status": "ok",
     "timestamp": 1660594106249,
     "user": {
      "displayName": "Solano Jacon",
      "userId": "03193064938437592202"
     },
     "user_tz": 180
    },
    "id": "UG1BIcRypMyO",
    "outputId": "a5169bc1-1a77-4745-eee8-b0546e002bfd"
   },
   "outputs": [
    {
     "name": "stdout",
     "output_type": "stream",
     "text": [
      "Accuracy = 0.65\n",
      "Precision = 0.55\n",
      "Recall = 0.17\n",
      "F1 score = 0.26\n"
     ]
    }
   ],
   "source": [
    "model = XGBClassifier(verbosity=0, random_state=42)\n",
    "cv_results = cross_validate(model, X, y, cv=5, scoring=['accuracy', 'precision', 'recall', 'f1'])\n",
    "\n",
    "print('Accuracy =', round(cv_results['test_accuracy'].mean(), 2))\n",
    "print('Precision =', round(cv_results['test_precision'].mean(), 2))\n",
    "print('Recall =', round(cv_results['test_recall'].mean(), 2))\n",
    "print('F1 score =', round(cv_results['test_f1'].mean(), 2))"
   ]
  },
  {
   "cell_type": "markdown",
   "metadata": {
    "id": "cEqXTNrWpMyO"
   },
   "source": [
    "### Separação dos dados em dados para treino e dados para teste para avaliação do modelo escolhido / <i>Separation of data into training data and test data for evaluation of the chosen model</i>"
   ]
  },
  {
   "cell_type": "code",
   "execution_count": 107,
   "metadata": {
    "executionInfo": {
     "elapsed": 2983,
     "status": "ok",
     "timestamp": 1660594109653,
     "user": {
      "displayName": "Solano Jacon",
      "userId": "03193064938437592202"
     },
     "user_tz": 180
    },
    "id": "G7gCpzNKpMyO"
   },
   "outputs": [],
   "source": [
    "X = dados.drop(columns=['id_form', 'id_cliente', 'data', 'navegador', 'localizacao', 'locale', 'cidade', 'fragancia', 'id_pedido', 'id', \\\n",
    "                        'tempo_procedimento', 'faixa_etaria', 'procedimentos', 'caracteristica', 'efeitos_desejados', 'efeitos_desejados_modificado', \\\n",
    "                        'sistema_operacional', 'estado', 'utm_source', 'tipo_cabelo', 'comprimento', 'tipo_fios', 'dieta', 'atividade_fisica', 'frequencia_estresse', \\\n",
    "                        'qtde_lavagem_semana', \\\n",
    "                        'pedido'])\n",
    "\n",
    "y = dados['pedido']\n",
    "\n",
    "X_train, X_test, y_train, y_test = train_test_split(X, y, test_size=0.3, random_state=42)"
   ]
  },
  {
   "cell_type": "markdown",
   "metadata": {
    "id": "U64EJyDbpMyO"
   },
   "source": [
    "### Análise de desempenho do modelo escolhido com sua configuração padrão / <i>Performance analysis of the chosen model with its default configuration</i>"
   ]
  },
  {
   "cell_type": "code",
   "execution_count": 108,
   "metadata": {
    "colab": {
     "base_uri": "https://localhost:8080/"
    },
    "executionInfo": {
     "elapsed": 21137,
     "status": "ok",
     "timestamp": 1660594130788,
     "user": {
      "displayName": "Solano Jacon",
      "userId": "03193064938437592202"
     },
     "user_tz": 180
    },
    "id": "9-EVA_Z6pMyO",
    "outputId": "c26bb5fd-1b92-46e1-c549-f38edbf2abd6"
   },
   "outputs": [
    {
     "name": "stdout",
     "output_type": "stream",
     "text": [
      "              precision    recall  f1-score   support\n",
      "\n",
      "           0       0.97      0.82      0.89    112064\n",
      "           1       0.75      0.95      0.84     63578\n",
      "\n",
      "    accuracy                           0.87    175642\n",
      "   macro avg       0.86      0.89      0.86    175642\n",
      "weighted avg       0.89      0.87      0.87    175642\n",
      "\n",
      "CPU times: user 20.7 s, sys: 417 ms, total: 21.1 s\n",
      "Wall time: 21 s\n"
     ]
    }
   ],
   "source": [
    "%%time\n",
    "\n",
    "model = DecisionTreeClassifier(random_state=42)\n",
    "model.fit(X_train, y_train)\n",
    "y_pred_test = model.predict(X_test)\n",
    "y_pred_proba_test = model.predict_proba(X_test)\n",
    "\n",
    "print(classification_report(y_true=y_test, y_pred=y_pred_test))"
   ]
  },
  {
   "cell_type": "code",
   "execution_count": 109,
   "metadata": {
    "colab": {
     "base_uri": "https://localhost:8080/"
    },
    "executionInfo": {
     "elapsed": 39,
     "status": "ok",
     "timestamp": 1660594130788,
     "user": {
      "displayName": "Solano Jacon",
      "userId": "03193064938437592202"
     },
     "user_tz": 180
    },
    "id": "-dt2Ic1RpMyP",
    "outputId": "21ac47c2-8505-42a2-e28f-880a309797c4"
   },
   "outputs": [
    {
     "data": {
      "text/plain": [
       "array([[91688, 20376],\n",
       "       [ 2873, 60705]])"
      ]
     },
     "execution_count": 109,
     "metadata": {},
     "output_type": "execute_result"
    }
   ],
   "source": [
    "confusion_matrix(y_true=y_test, y_pred=y_pred_test)"
   ]
  },
  {
   "cell_type": "markdown",
   "metadata": {
    "id": "jyx7LrdIpMyP"
   },
   "source": [
    "### Análise de desempenho do modelo escolhido com balanceamento de classes do dado alvo a ser predito / <i>Performance analysis of the chosen model with class balancing of the target data to be predicted</i>"
   ]
  },
  {
   "cell_type": "code",
   "execution_count": 110,
   "metadata": {
    "executionInfo": {
     "elapsed": 33,
     "status": "ok",
     "timestamp": 1660594130789,
     "user": {
      "displayName": "Solano Jacon",
      "userId": "03193064938437592202"
     },
     "user_tz": 180
    },
    "id": "dBdbt_-KyuBY"
   },
   "outputs": [],
   "source": [
    "# BLOCOS ABAIXO COMENTADOS PELA DEMORA NA EXECUÇÃO E ALTO CONSUMO DE MEMÓRIA SEM AGREGAR AUMENTO DE PERFORMANCE PARA O MODELO\n",
    "# BLOCKS BELOW COMMENTATED BY THE DELAY IN EXECUTION AND HIGH MEMORY CONSUMPTION WITHOUT ADDING INCREASE IN PERFORMANCE TO THE MODEL"
   ]
  },
  {
   "cell_type": "code",
   "execution_count": 111,
   "metadata": {
    "executionInfo": {
     "elapsed": 32,
     "status": "ok",
     "timestamp": 1660594130789,
     "user": {
      "displayName": "Solano Jacon",
      "userId": "03193064938437592202"
     },
     "user_tz": 180
    },
    "id": "vp5dG39opMyP"
   },
   "outputs": [],
   "source": [
    "# %%time\n",
    "\n",
    "# sm = SMOTE(random_state=42)\n",
    "# X_train_smote, y_train_smote = sm.fit_resample(X_train, y_train)"
   ]
  },
  {
   "cell_type": "code",
   "execution_count": 112,
   "metadata": {
    "executionInfo": {
     "elapsed": 30,
     "status": "ok",
     "timestamp": 1660594130789,
     "user": {
      "displayName": "Solano Jacon",
      "userId": "03193064938437592202"
     },
     "user_tz": 180
    },
    "id": "3_nK2BvFpMyP"
   },
   "outputs": [],
   "source": [
    "# %%time\n",
    "\n",
    "# model = DecisionTreeClassifier(random_state=42)\n",
    "# model.fit(X_train_smote, y_train_smote)\n",
    "# y_pred_test = model.predict(X_test)\n",
    "# y_pred_proba_test = model.predict_proba(X_test)\n",
    "\n",
    "# print(classification_report(y_true=y_test, y_pred=y_pred_test))"
   ]
  },
  {
   "cell_type": "code",
   "execution_count": 113,
   "metadata": {
    "executionInfo": {
     "elapsed": 30,
     "status": "ok",
     "timestamp": 1660594130790,
     "user": {
      "displayName": "Solano Jacon",
      "userId": "03193064938437592202"
     },
     "user_tz": 180
    },
    "id": "FUq0CZ96pMyP"
   },
   "outputs": [],
   "source": [
    "# confusion_matrix(y_true=y_test, y_pred=y_pred_test)"
   ]
  },
  {
   "cell_type": "markdown",
   "metadata": {
    "id": "0jihuYm9pMyP"
   },
   "source": [
    "### Otimização do modelo escolhido baseado em ajuste de hiperparâmetros / <i>Optimization of the chosen model based on hyperparameter tuning</i>"
   ]
  },
  {
   "cell_type": "code",
   "execution_count": 114,
   "metadata": {
    "executionInfo": {
     "elapsed": 29,
     "status": "ok",
     "timestamp": 1660594130790,
     "user": {
      "displayName": "Solano Jacon",
      "userId": "03193064938437592202"
     },
     "user_tz": 180
    },
    "id": "-BT4b4O2106a"
   },
   "outputs": [],
   "source": [
    "# BLOCOS ABAIXO COMENTADOS PELO ALTO CONSUMO DE MEMÓRIA\n",
    "# BLOCKS BELOW COMMENTATED BY HIGH MEMORY CONSUMPTION"
   ]
  },
  {
   "cell_type": "code",
   "execution_count": 115,
   "metadata": {
    "executionInfo": {
     "elapsed": 27,
     "status": "ok",
     "timestamp": 1660594130790,
     "user": {
      "displayName": "Solano Jacon",
      "userId": "03193064938437592202"
     },
     "user_tz": 180
    },
    "id": "HUQoaPScpMyQ"
   },
   "outputs": [],
   "source": [
    "# %%time\n",
    "\n",
    "# param_grid = {\n",
    "#     'criterion': ['gini', 'entropy'],\n",
    "#     'max_depth': [2, 4, 6, 8, 10, 12, None],\n",
    "#     'random_state': [42]\n",
    "# }\n",
    "\n",
    "# model = DecisionTreeClassifier()\n",
    "# grid_search = GridSearchCV(estimator=model, param_grid=param_grid, scoring='f1', cv=5, n_jobs=-1, verbose=1)\n",
    "# grid_search.fit(X_train, y_train)"
   ]
  },
  {
   "cell_type": "code",
   "execution_count": 116,
   "metadata": {
    "executionInfo": {
     "elapsed": 27,
     "status": "ok",
     "timestamp": 1660594130791,
     "user": {
      "displayName": "Solano Jacon",
      "userId": "03193064938437592202"
     },
     "user_tz": 180
    },
    "id": "HaG07XrBpMyQ"
   },
   "outputs": [],
   "source": [
    "# grid_search.best_params_"
   ]
  },
  {
   "cell_type": "code",
   "execution_count": 117,
   "metadata": {
    "colab": {
     "base_uri": "https://localhost:8080/"
    },
    "executionInfo": {
     "elapsed": 21653,
     "status": "ok",
     "timestamp": 1660594152418,
     "user": {
      "displayName": "Solano Jacon",
      "userId": "03193064938437592202"
     },
     "user_tz": 180
    },
    "id": "l6HKi_xFpMyQ",
    "outputId": "41191146-790d-4c15-bdac-b4212b79db7d"
   },
   "outputs": [
    {
     "name": "stdout",
     "output_type": "stream",
     "text": [
      "              precision    recall  f1-score   support\n",
      "\n",
      "           0       0.82      0.97      0.89     94745\n",
      "           1       0.95      0.75      0.84     80897\n",
      "\n",
      "    accuracy                           0.87    175642\n",
      "   macro avg       0.89      0.86      0.86    175642\n",
      "weighted avg       0.88      0.87      0.87    175642\n",
      "\n"
     ]
    }
   ],
   "source": [
    "# model = grid_search.best_estimator_\n",
    "model = DecisionTreeClassifier(criterion='entropy', max_depth=None, random_state=42)\n",
    "model.fit(X_train, y_train)\n",
    "y_pred_test = model.predict(X_test)\n",
    "y_pred_proba_test = model.predict_proba(X_test)\n",
    "\n",
    "print(classification_report(y_pred_test, y_test))"
   ]
  },
  {
   "cell_type": "markdown",
   "metadata": {
    "id": "2ayossHhpMyQ"
   },
   "source": [
    "## Respaldo teórico e prático sobre as escolhas dos algoritmos (podendo ser mais de um) / <i>Theoretical and practical support on the choices of algorithms (there may be more than one)</i>"
   ]
  },
  {
   "cell_type": "markdown",
   "metadata": {
    "id": "VGHV6D3npMyQ"
   },
   "source": [
    "### Definição do dado alvo a ser predito pelo modelo / <i>Definition of the target data to be predicted by the model</i>"
   ]
  },
  {
   "cell_type": "markdown",
   "metadata": {
    "id": "9dU3ENCJpMyQ"
   },
   "source": [
    "Lead se tornará (ou não se tornará) comprador. / <i>Lead will become (or not become) a buyer.</i>"
   ]
  },
  {
   "cell_type": "markdown",
   "metadata": {
    "id": "x5uhgDOypMyR"
   },
   "source": [
    "### Escolha da métrica de performance"
   ]
  },
  {
   "cell_type": "markdown",
   "metadata": {
    "id": "2RXX7OcspMyR"
   },
   "source": [
    "F1-SCORE:\n",
    "- Métrica que representa um balanço entre as métricas Precisão e Recall.\n",
    "- A Precisão representa a quantidade de acertos do modelo em relação à quantidade total de predições.\n",
    "- O Recall representa a quantidade de acertos do modelo em relação à quantidade real de elementos daquela classe.\n",
    "- A escolha dessa métrica visa que o modelo identifique a maior quantidade possível de leads que se tornarão compradores, com a menor quantidade possível de alarmes falsos (leads que não se tornarão compradores identificados pelo modelo como leads que se tornarão compradores)."
   ]
  },
  {
   "cell_type": "markdown",
   "metadata": {
    "id": "ZN82x5t29XAf"
   },
   "source": [
    "<i>F1-SCORE:</i>\n",
    "<i>\n",
    "- Metric that represents a balance between the Precision and Recall metrics.\n",
    "- Precision represents the number of hits of the model in relation to the total number of predictions.\n",
    "- Recall represents the number of hits in the model in relation to the actual number of elements of that class.\n",
    "- The choice of this metric aims for the model to identify the largest possible number of leads that will become buyers, with the least possible amount of false alarms (leads that will not become buyers identified by the model as leads that will become buyers).\n",
    "</i>"
   ]
  },
  {
   "cell_type": "markdown",
   "metadata": {
    "id": "4_ur3UtVpMyR"
   },
   "source": [
    "### Escolha do modelo / <i>model choice</i>"
   ]
  },
  {
   "cell_type": "markdown",
   "metadata": {
    "id": "q_dD8m8DpMyR"
   },
   "source": [
    "Tipos de modelo avaliados e suas respectivas performances / <i>Types of model evaluated and their respective performances</i>:\n",
    "- Logistic Regression | F1 score = 0,33\n",
    "- K Neighbors Classifier | F1 score = 0,35\n",
    "- SGD Classifier | F1 score = 0,21\n",
    "- SVC | F1 score = 0,11\n",
    "- Decision Tree Classifier | F1 score = 0,43\n",
    "- Random Forest Classifier | F1 score = 0,25\n",
    "- AdaBoost Classifier | F1 score = 0,34\n",
    "- Gradient Boosting Classifier | F1 score = 0,27\n",
    "- XGBoost Classifier | F1 score = 0,39"
   ]
  },
  {
   "cell_type": "markdown",
   "metadata": {
    "id": "3YahtRompMyR"
   },
   "source": [
    "Tipo de modelo escolhido por apresentar a melhor performance / <i>Type of model chosen for presenting the best performance</i>:\n",
    "- Decision Tree Classifier"
   ]
  },
  {
   "cell_type": "markdown",
   "metadata": {
    "id": "sK4WsxsUpMyR"
   },
   "source": [
    "### Divisão dos dados / <i>data division</i>:"
   ]
  },
  {
   "cell_type": "markdown",
   "metadata": {
    "id": "LpD4Z4F4pMyR"
   },
   "source": [
    "Os dados foram divididos em dados de treino e dados de teste do modelo, na proporção de 70% e 30% respectivamente / <i>The data were divided into training data and model test data, in the proportion of 70% and 30% respectively</i>."
   ]
  },
  {
   "cell_type": "markdown",
   "metadata": {
    "id": "GW2XPKnmpMyR"
   },
   "source": [
    "### Técnicas aplicadas para melhoria da performance do modelo / <i>Techniques applied to improve the performance of the model</i>:"
   ]
  },
  {
   "cell_type": "markdown",
   "metadata": {
    "id": "thxszGHvpMyS"
   },
   "source": [
    "- Scaling dos dados.\n",
    "- Balanceamento de classes do dado alvo a ser predito (avaliada mas não aplicada pois não melhorou a performance).\n",
    "- Otimização de modelo baseado em ajuste de hiperparâmetros.\n",
    "<br>\n",
    "<br>\n",
    "<i>\n",
    "- Data scaling.\n",
    "- Class balancing of the target data to be predicted (evaluated but not applied as it did not improve performance).\n",
    "- Model optimization based on hyperparameter tuning.\n",
    "</i>"
   ]
  },
  {
   "cell_type": "markdown",
   "metadata": {
    "id": "hhDemQA2pMyS"
   },
   "source": [
    "## Como e porquê foram escolhidas as features analisadas / <i>How and why the analyzed features were chosen</i>"
   ]
  },
  {
   "cell_type": "markdown",
   "metadata": {
    "id": "Fi2RsckvpMyS"
   },
   "source": [
    "- Temos 3 tabelas de dados, forms, orders e order_items, porém apenas os dados da tabela forms estarão disponíveis para o modelo fazer a predição dos leads que se tornarão compradores, portanto as features precisar sair dessa tabela, e não das tabelas orders e order_items.\n",
    "- Como não foi disponibilizada nenhuma documentação referente à essa tabela forms, seu conteúdo foi conhecido através da análise de seus dados.\n",
    "- Foram selecionados dados dessa tabela forms que poderiam contribuir para a predição do modelo, e as features foram criadas a partir desses dados.\n",
    "<br>\n",
    "<br>\n",
    "<i>\n",
    "- We have 3 data tables, forms, orders and order_items, but only the data from the forms table will be available for the model to predict the leads that will become buyers, so the features need to come out of this table, and not from the orders and order_items tables .\n",
    "- As no documentation regarding this forms table was made available, its content was known through the analysis of its data.\n",
    "- Data from this forms table were selected that could contribute to the prediction of the model, and the features were created from these data.\n",
    "</i>"
   ]
  },
  {
   "cell_type": "markdown",
   "metadata": {
    "id": "rnDanFenpMyS"
   },
   "source": [
    "## Salvar o arquivo de treinamento, fazer sua leitura e gerar o score / <i>Save the training file, read it and generate the score</i>"
   ]
  },
  {
   "cell_type": "code",
   "execution_count": 118,
   "metadata": {
    "executionInfo": {
     "elapsed": 429,
     "status": "ok",
     "timestamp": 1660594152833,
     "user": {
      "displayName": "Solano Jacon",
      "userId": "03193064938437592202"
     },
     "user_tz": 180
    },
    "id": "7HavCan_pMyS"
   },
   "outputs": [],
   "source": [
    "with open('modelo.pkl', 'wb') as file:\n",
    "    pickle.dump(model, file)"
   ]
  },
  {
   "cell_type": "code",
   "execution_count": 119,
   "metadata": {
    "executionInfo": {
     "elapsed": 6,
     "status": "ok",
     "timestamp": 1660594152834,
     "user": {
      "displayName": "Solano Jacon",
      "userId": "03193064938437592202"
     },
     "user_tz": 180
    },
    "id": "1IkH5lw_pMyS"
   },
   "outputs": [],
   "source": [
    "model = pickle.load(open('modelo.pkl', 'rb'))"
   ]
  },
  {
   "cell_type": "code",
   "execution_count": 120,
   "metadata": {
    "colab": {
     "base_uri": "https://localhost:8080/"
    },
    "executionInfo": {
     "elapsed": 1675,
     "status": "ok",
     "timestamp": 1660594154504,
     "user": {
      "displayName": "Solano Jacon",
      "userId": "03193064938437592202"
     },
     "user_tz": 180
    },
    "id": "zjKQgOOmpMyS",
    "outputId": "e70901e8-93c2-4dcf-d13c-4e97ddfd3426"
   },
   "outputs": [
    {
     "name": "stdout",
     "output_type": "stream",
     "text": [
      "              precision    recall  f1-score   support\n",
      "\n",
      "           0       0.82      0.97      0.89     94745\n",
      "           1       0.95      0.75      0.84     80897\n",
      "\n",
      "    accuracy                           0.87    175642\n",
      "   macro avg       0.89      0.86      0.86    175642\n",
      "weighted avg       0.88      0.87      0.87    175642\n",
      "\n"
     ]
    }
   ],
   "source": [
    "y_pred_test = model.predict(X_test)\n",
    "y_pred_proba_test = model.predict_proba(X_test)\n",
    "\n",
    "print(classification_report(y_pred_test, y_test))"
   ]
  },
  {
   "cell_type": "code",
   "execution_count": 122,
   "metadata": {
    "colab": {
     "base_uri": "https://localhost:8080/",
     "height": 637
    },
    "executionInfo": {
     "elapsed": 749,
     "status": "ok",
     "timestamp": 1660594678708,
     "user": {
      "displayName": "Solano Jacon",
      "userId": "03193064938437592202"
     },
     "user_tz": 180
    },
    "id": "6ALzfycqpMyT",
    "outputId": "26dace1c-d72b-4c1e-ed8b-f57daa47bd81"
   },
   "outputs": [
    {
     "name": "stdout",
     "output_type": "stream",
     "text": [
      "[[91879 20185]\n",
      " [ 2866 60712]]\n"
     ]
    },
    {
     "data": {
      "image/png": "[encoded data removed]",
      "text/plain": [
       "<Figure size 864x576 with 2 Axes>"
      ]
     },
     "metadata": {
      "needs_background": "light"
     },
     "output_type": "display_data"
    }
   ],
   "source": [
    "def plot_confusion_matrix(cm, classes, normalize=False, title='Confusion matrix', cmap=plt.cm.Oranges):\n",
    "\n",
    "    print(cm)\n",
    "\n",
    "    # Plot the confusion matrix\n",
    "    plt.figure(figsize = (12, 8))\n",
    "    plt.imshow(cm, interpolation='nearest', cmap=cmap)\n",
    "    plt.title(title, size = 18)\n",
    "    plt.colorbar(aspect=4)\n",
    "    tick_marks = np.arange(len(classes))\n",
    "    plt.xticks(tick_marks, classes, rotation=45, size = 12)\n",
    "    plt.yticks(tick_marks, classes, size = 12)\n",
    "\n",
    "    fmt = '.2f' if normalize else 'd'\n",
    "    thresh = cm.max() / 2.\n",
    "    \n",
    "    # Labeling the plot\n",
    "    for i, j in itertools.product(range(cm.shape[0]), range(cm.shape[1])):\n",
    "        plt.text(j, i, format(cm[i, j], fmt), fontsize = 14,\n",
    "                 horizontalalignment=\"center\",\n",
    "                 color=\"black\" if cm[i, j] > thresh else \"black\")\n",
    "        \n",
    "    plt.grid(None)\n",
    "    plt.tight_layout()\n",
    "    plt.ylabel('True Label', size = 12)\n",
    "    plt.xlabel('Predicted Label', size = 12)\n",
    "\n",
    "# Confusion matrix\n",
    "cm = confusion_matrix(y_true=y_test, y_pred=y_pred_test)\n",
    "plot_confusion_matrix(cm, classes = ['Lead DID NOT Become Buyer', 'Lead Becomes Buyer'], title = 'Matriz de Confusão / Confusion matrix')"
   ]
  },
  {
   "cell_type": "markdown",
   "metadata": {
    "id": "8ZLRkqIXpMyT"
   },
   "source": [
    "## Resultado final com métricas de acertividade do algoritmo / <i>Final result with algorithm accuracy metrics</i>"
   ]
  },
  {
   "cell_type": "markdown",
   "metadata": {
    "id": "WwO5Mkp5pMyT"
   },
   "source": [
    "<b>O modelo escolhido apresentou um F1 score de 0,84 para os dados de teste (dados não vistos pelo modelo em seu treino) / <i>The chosen model presented an F1 score of 0.84 for the test data (data not seen by the model in its training).</i></b>"
   ]
  },
  {
   "cell_type": "markdown",
   "metadata": {
    "id": "32_ityRkpMyT"
   },
   "source": [
    "Análise da matriz de confusão apresentada:\n",
    "- A matriz de confusão acima mostra que <b>o modelo identificou 60.712 dos 63.578 leads que se tornaram compradores, que corresponde a 95,5%</b>.\n",
    "- A matriz de confusão acima mostra também que <b>o modelo identificou incorretamente 20.185 dos 112.064 leads que não se tornaram compradores, também chamado de falsos positivos, que corresponde a 18,0%</b>."
   ]
  },
  {
   "cell_type": "markdown",
   "metadata": {
    "id": "uHCGWNTGA8nJ"
   },
   "source": [
    "<i>Analysis of the presented confusion matrix:</i>\n",
    "<i>\n",
    "- The confusion matrix above shows that <b>the model identified 60,712 of the 63,578 leads that became buyers, which corresponds to 95.5%</b>.\n",
    "- The confusion matrix above also shows that <b>the model incorrectly identified 20,185 of the 112,064 leads that did not become buyers, also called false positives, which corresponds to 18.0%</b>.\n",
    "</i>"
   ]
  },
  {
   "cell_type": "markdown",
   "metadata": {
    "id": "Y3yXEEg8gx0u"
   },
   "source": [
    "## Fim / <i>End</i>"
   ]
  }
 ],
 "metadata": {
  "colab": {
   "collapsed_sections": [],
   "name": "data_science_challenge.ipynb",
   "provenance": []
  },
  "hide_input": false,
  "kernelspec": {
   "display_name": "Python 3 (ipykernel)",
   "language": "python",
   "name": "python3"
  },
  "language_info": {
   "codemirror_mode": {
    "name": "ipython",
    "version": 3
   },
   "file_extension": ".py",
   "mimetype": "text/x-python",
   "name": "python",
   "nbconvert_exporter": "python",
   "pygments_lexer": "ipython3",
   "version": "3.8.12"
  },
  "toc": {
   "base_numbering": 1,
   "nav_menu": {},
   "number_sections": true,
   "sideBar": true,
   "skip_h1_title": false,
   "title_cell": "Table of Contents",
   "title_sidebar": "Contents",
   "toc_cell": false,
   "toc_position": {},
   "toc_section_display": true,
   "toc_window_display": false
  }
 },
 "nbformat": 4,
 "nbformat_minor": 1
}
