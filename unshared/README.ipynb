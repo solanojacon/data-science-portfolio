{
 "cells": [
  {
   "cell_type": "markdown",
   "id": "45b95793",
   "metadata": {},
   "source": [
    "# Data Science Portfolio\n",
    "\n",
    "# Developer: Solano Jacon ([LinkedIn](https://www.linkedin.com/in/solanojacon/))\n",
    "\n",
    "\n",
    "## Correlation Between Buyers and Leads\n",
    "\n",
    "Contents:\n",
    "- [Challenge Information](Correlation_Between_Buyers_and_Leads/README.md)\n",
    "- [Notebook with the Solution](Correlation_Between_Buyers_and_Leads.ipynb)"
   ]
  }
 ],
 "metadata": {
  "kernelspec": {
   "display_name": "Python 3 (ipykernel)",
   "language": "python",
   "name": "python3"
  },
  "language_info": {
   "codemirror_mode": {
    "name": "ipython",
    "version": 3
   },
   "file_extension": ".py",
   "mimetype": "text/x-python",
   "name": "python",
   "nbconvert_exporter": "python",
   "pygments_lexer": "ipython3",
   "version": "3.8.12"
  },
  "toc": {
   "base_numbering": 1,
   "nav_menu": {},
   "number_sections": true,
   "sideBar": true,
   "skip_h1_title": false,
   "title_cell": "Table of Contents",
   "title_sidebar": "Contents",
   "toc_cell": false,
   "toc_position": {},
   "toc_section_display": true,
   "toc_window_display": false
  }
 },
 "nbformat": 4,
 "nbformat_minor": 5
}
